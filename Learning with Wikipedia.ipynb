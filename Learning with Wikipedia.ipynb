{
 "cells": [
  {
   "cell_type": "code",
   "execution_count": 9,
   "metadata": {},
   "outputs": [],
   "source": [
    "import os\n",
    "import re"
   ]
  },
  {
   "cell_type": "code",
   "execution_count": 11,
   "metadata": {},
   "outputs": [],
   "source": [
    "def list_wiki(dirname) :\n",
    "    filepaths = []\n",
    "    filenames = os.listdir(dirname)\n",
    "    \n",
    "    for filename in filenames :\n",
    "        filepath = os.path.join(dirname, filename)\n",
    "        \n",
    "        if os.path.isdir(filepath) :\n",
    "            filepaths.extend(list_wiki(filepath))\n",
    "        else :\n",
    "            find = re.findall(r\"wiki_[0-9][0-9]\",filepath)\n",
    "            if 0 < len(find) :\n",
    "                filepaths.append(filepath)\n",
    "                \n",
    "    return sorted(filepaths)"
   ]
  },
  {
   "cell_type": "code",
   "execution_count": 12,
   "metadata": {},
   "outputs": [],
   "source": [
    "filepaths = list_wiki(\"F:/Study/DataSet/text\")"
   ]
  },
  {
   "cell_type": "code",
   "execution_count": 15,
   "metadata": {},
   "outputs": [
    {
     "name": "stdout",
     "output_type": "stream",
     "text": [
      "['F:/Study/DataSet/text\\\\AA\\\\wiki_00', 'F:/Study/DataSet/text\\\\AA\\\\wiki_01', 'F:/Study/DataSet/text\\\\AA\\\\wiki_02', 'F:/Study/DataSet/text\\\\AA\\\\wiki_03', 'F:/Study/DataSet/text\\\\AA\\\\wiki_04']\n",
      "676\n"
     ]
    }
   ],
   "source": [
    "print(filepaths[:5])\n",
    "print(len(filepaths))"
   ]
  },
  {
   "cell_type": "code",
   "execution_count": null,
   "metadata": {},
   "outputs": [],
   "source": []
  }
 ],
 "metadata": {
  "kernelspec": {
   "display_name": "Python 3",
   "language": "python",
   "name": "python3"
  },
  "language_info": {
   "codemirror_mode": {
    "name": "ipython",
    "version": 3
   },
   "file_extension": ".py",
   "mimetype": "text/x-python",
   "name": "python",
   "nbconvert_exporter": "python",
   "pygments_lexer": "ipython3",
   "version": "3.8.5"
  }
 },
 "nbformat": 4,
 "nbformat_minor": 4
}
