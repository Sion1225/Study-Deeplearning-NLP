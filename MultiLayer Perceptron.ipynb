{
 "cells": [
  {
   "cell_type": "code",
   "execution_count": 1,
   "id": "015ca850",
   "metadata": {},
   "outputs": [],
   "source": [
    "import numpy as np\n",
    "from tensorflow.keras.preprocessing.text import Tokenizer"
   ]
  },
  {
   "cell_type": "code",
   "execution_count": 6,
   "id": "ccf9846e",
   "metadata": {},
   "outputs": [],
   "source": [
    "texts = ['I want to eat a banana.','eat a banana banana.','Long and yellow banana.','I like fruits.']"
   ]
  },
  {
   "cell_type": "code",
   "execution_count": 7,
   "id": "11c88fba",
   "metadata": {},
   "outputs": [
    {
     "name": "stdout",
     "output_type": "stream",
     "text": [
      "{'banana': 1, 'i': 2, 'eat': 3, 'a': 4, 'want': 5, 'to': 6, 'long': 7, 'and': 8, 'yellow': 9, 'like': 10, 'fruits': 11}\n"
     ]
    }
   ],
   "source": [
    "tokenizer = Tokenizer()\n",
    "tokenizer.fit_on_texts(texts)\n",
    "print(tokenizer.word_index)"
   ]
  },
  {
   "cell_type": "code",
   "execution_count": 8,
   "id": "563c3860",
   "metadata": {},
   "outputs": [
    {
     "name": "stdout",
     "output_type": "stream",
     "text": [
      "[[0. 1. 1. 1. 1. 1. 1. 0. 0. 0. 0. 0.]\n",
      " [0. 2. 0. 1. 1. 0. 0. 0. 0. 0. 0. 0.]\n",
      " [0. 1. 0. 0. 0. 0. 0. 1. 1. 1. 0. 0.]\n",
      " [0. 0. 1. 0. 0. 0. 0. 0. 0. 0. 1. 1.]]\n"
     ]
    }
   ],
   "source": [
    "print(tokenizer.texts_to_matrix(texts, mode = 'count')) #count -> DTM"
   ]
  },
  {
   "cell_type": "code",
   "execution_count": 9,
   "id": "a16e30ba",
   "metadata": {},
   "outputs": [
    {
     "name": "stdout",
     "output_type": "stream",
     "text": [
      "[[0. 1. 1. 1. 1. 1. 1. 0. 0. 0. 0. 0.]\n",
      " [0. 1. 0. 1. 1. 0. 0. 0. 0. 0. 0. 0.]\n",
      " [0. 1. 0. 0. 0. 0. 0. 1. 1. 1. 0. 0.]\n",
      " [0. 0. 1. 0. 0. 0. 0. 0. 0. 0. 1. 1.]]\n"
     ]
    }
   ],
   "source": [
    "print(tokenizer.texts_to_matrix(texts, mode = 'binary')) #binary"
   ]
  },
  {
   "cell_type": "code",
   "execution_count": 10,
   "id": "8af82c65",
   "metadata": {},
   "outputs": [
    {
     "name": "stdout",
     "output_type": "stream",
     "text": [
      "[[0.   0.69 0.85 0.85 0.85 1.1  1.1  0.   0.   0.   0.   0.  ]\n",
      " [0.   1.17 0.   0.85 0.85 0.   0.   0.   0.   0.   0.   0.  ]\n",
      " [0.   0.69 0.   0.   0.   0.   0.   1.1  1.1  1.1  0.   0.  ]\n",
      " [0.   0.   0.85 0.   0.   0.   0.   0.   0.   0.   1.1  1.1 ]]\n"
     ]
    }
   ],
   "source": [
    "print(tokenizer.texts_to_matrix(texts, mode = 'tfidf').round(2)) #TF-IDF  round off .2"
   ]
  },
  {
   "cell_type": "code",
   "execution_count": 11,
   "id": "13fa59bc",
   "metadata": {},
   "outputs": [
    {
     "name": "stdout",
     "output_type": "stream",
     "text": [
      "[[0.   0.17 0.17 0.17 0.17 0.17 0.17 0.   0.   0.   0.   0.  ]\n",
      " [0.   0.5  0.   0.25 0.25 0.   0.   0.   0.   0.   0.   0.  ]\n",
      " [0.   0.25 0.   0.   0.   0.   0.   0.25 0.25 0.25 0.   0.  ]\n",
      " [0.   0.   0.33 0.   0.   0.   0.   0.   0.   0.   0.33 0.33]]\n"
     ]
    }
   ],
   "source": [
    "print(tokenizer.texts_to_matrix(texts, mode = 'freq').round(2)) #frequency for each sentence"
   ]
  },
  {
   "cell_type": "code",
   "execution_count": null,
   "id": "7b6540ef",
   "metadata": {},
   "outputs": [],
   "source": []
  },
  {
   "cell_type": "code",
   "execution_count": null,
   "id": "c84a53d3",
   "metadata": {},
   "outputs": [],
   "source": [
    "#-------------------Preprocessing--------------------"
   ]
  },
  {
   "cell_type": "code",
   "execution_count": 14,
   "id": "78de58de",
   "metadata": {},
   "outputs": [],
   "source": [
    "import pandas as pd\n",
    "from sklearn.datasets import fetch_20newsgroups\n",
    "import matplotlib.pyplot as plt\n",
    "from tensorflow.keras.preprocessing.text import Tokenizer\n",
    "from tensorflow.keras.utils import to_categorical"
   ]
  },
  {
   "cell_type": "code",
   "execution_count": 15,
   "id": "afbd7e3f",
   "metadata": {},
   "outputs": [],
   "source": [
    "newsdata = fetch_20newsgroups(subset = 'train')"
   ]
  },
  {
   "cell_type": "code",
   "execution_count": 16,
   "id": "97f019ec",
   "metadata": {},
   "outputs": [
    {
     "name": "stdout",
     "output_type": "stream",
     "text": [
      "dict_keys(['data', 'filenames', 'target_names', 'target', 'DESCR'])\n"
     ]
    }
   ],
   "source": [
    "print(newsdata.keys())"
   ]
  },
  {
   "cell_type": "code",
   "execution_count": 17,
   "id": "74c06cb5",
   "metadata": {},
   "outputs": [
    {
     "name": "stdout",
     "output_type": "stream",
     "text": [
      "Number of Subject : 20\n",
      "['alt.atheism', 'comp.graphics', 'comp.os.ms-windows.misc', 'comp.sys.ibm.pc.hardware', 'comp.sys.mac.hardware', 'comp.windows.x', 'misc.forsale', 'rec.autos', 'rec.motorcycles', 'rec.sport.baseball', 'rec.sport.hockey', 'sci.crypt', 'sci.electronics', 'sci.med', 'sci.space', 'soc.religion.christian', 'talk.politics.guns', 'talk.politics.mideast', 'talk.politics.misc', 'talk.religion.misc']\n"
     ]
    }
   ],
   "source": [
    "print(\"Number of Subject : {}\".format(len(newsdata.target_names)))\n",
    "print(newsdata.target_names)"
   ]
  },
  {
   "cell_type": "code",
   "execution_count": 19,
   "id": "eb95e949",
   "metadata": {},
   "outputs": [
    {
     "name": "stdout",
     "output_type": "stream",
     "text": [
      "7\n"
     ]
    }
   ],
   "source": [
    "print(newsdata.target[0])"
   ]
  },
  {
   "cell_type": "code",
   "execution_count": 20,
   "id": "88fad1e3",
   "metadata": {},
   "outputs": [
    {
     "name": "stdout",
     "output_type": "stream",
     "text": [
      "rec.autos\n"
     ]
    }
   ],
   "source": [
    "print(newsdata.target_names[7])"
   ]
  },
  {
   "cell_type": "code",
   "execution_count": 24,
   "id": "a83605ad",
   "metadata": {},
   "outputs": [
    {
     "name": "stdout",
     "output_type": "stream",
     "text": [
      "11314\n",
      "11314\n"
     ]
    }
   ],
   "source": [
    "print(len(newsdata.target))\n",
    "print(len(newsdata.data))"
   ]
  },
  {
   "cell_type": "code",
   "execution_count": 23,
   "id": "cfe73550",
   "metadata": {},
   "outputs": [
    {
     "name": "stdout",
     "output_type": "stream",
     "text": [
      "From: lerxst@wam.umd.edu (where's my thing)\n",
      "Subject: WHAT car is this!?\n",
      "Nntp-Posting-Host: rac3.wam.umd.edu\n",
      "Organization: University of Maryland, College Park\n",
      "Lines: 15\n",
      "\n",
      " I was wondering if anyone out there could enlighten me on this car I saw\n",
      "the other day. It was a 2-door sports car, looked to be from the late 60s/\n",
      "early 70s. It was called a Bricklin. The doors were really small. In addition,\n",
      "the front bumper was separate from the rest of the body. This is \n",
      "all I know. If anyone can tellme a model name, engine specs, years\n",
      "of production, where this car is made, history, or whatever info you\n",
      "have on this funky looking car, please e-mail.\n",
      "\n",
      "Thanks,\n",
      "- IL\n",
      "   ---- brought to you by your neighborhood Lerxst ----\n",
      "\n",
      "\n",
      "\n",
      "\n",
      "\n"
     ]
    }
   ],
   "source": [
    "print(newsdata.data[0])"
   ]
  },
  {
   "cell_type": "code",
   "execution_count": 25,
   "id": "747a8dbe",
   "metadata": {},
   "outputs": [
    {
     "data": {
      "text/html": [
       "<div>\n",
       "<style scoped>\n",
       "    .dataframe tbody tr th:only-of-type {\n",
       "        vertical-align: middle;\n",
       "    }\n",
       "\n",
       "    .dataframe tbody tr th {\n",
       "        vertical-align: top;\n",
       "    }\n",
       "\n",
       "    .dataframe thead th {\n",
       "        text-align: right;\n",
       "    }\n",
       "</style>\n",
       "<table border=\"1\" class=\"dataframe\">\n",
       "  <thead>\n",
       "    <tr style=\"text-align: right;\">\n",
       "      <th></th>\n",
       "      <th>email</th>\n",
       "      <th>target</th>\n",
       "    </tr>\n",
       "  </thead>\n",
       "  <tbody>\n",
       "    <tr>\n",
       "      <th>0</th>\n",
       "      <td>From: lerxst@wam.umd.edu (where's my thing)\\nS...</td>\n",
       "      <td>7</td>\n",
       "    </tr>\n",
       "    <tr>\n",
       "      <th>1</th>\n",
       "      <td>From: guykuo@carson.u.washington.edu (Guy Kuo)...</td>\n",
       "      <td>4</td>\n",
       "    </tr>\n",
       "    <tr>\n",
       "      <th>2</th>\n",
       "      <td>From: twillis@ec.ecn.purdue.edu (Thomas E Will...</td>\n",
       "      <td>4</td>\n",
       "    </tr>\n",
       "    <tr>\n",
       "      <th>3</th>\n",
       "      <td>From: jgreen@amber (Joe Green)\\nSubject: Re: W...</td>\n",
       "      <td>1</td>\n",
       "    </tr>\n",
       "    <tr>\n",
       "      <th>4</th>\n",
       "      <td>From: jcm@head-cfa.harvard.edu (Jonathan McDow...</td>\n",
       "      <td>14</td>\n",
       "    </tr>\n",
       "    <tr>\n",
       "      <th>5</th>\n",
       "      <td>From: dfo@vttoulu.tko.vtt.fi (Foxvog Douglas)\\...</td>\n",
       "      <td>16</td>\n",
       "    </tr>\n",
       "    <tr>\n",
       "      <th>6</th>\n",
       "      <td>From: bmdelane@quads.uchicago.edu (brian manni...</td>\n",
       "      <td>13</td>\n",
       "    </tr>\n",
       "    <tr>\n",
       "      <th>7</th>\n",
       "      <td>From: bgrubb@dante.nmsu.edu (GRUBB)\\nSubject: ...</td>\n",
       "      <td>3</td>\n",
       "    </tr>\n",
       "    <tr>\n",
       "      <th>8</th>\n",
       "      <td>From: holmes7000@iscsvax.uni.edu\\nSubject: WIn...</td>\n",
       "      <td>2</td>\n",
       "    </tr>\n",
       "    <tr>\n",
       "      <th>9</th>\n",
       "      <td>From: kerr@ux1.cso.uiuc.edu (Stan Kerr)\\nSubje...</td>\n",
       "      <td>4</td>\n",
       "    </tr>\n",
       "  </tbody>\n",
       "</table>\n",
       "</div>"
      ],
      "text/plain": [
       "                                               email  target\n",
       "0  From: lerxst@wam.umd.edu (where's my thing)\\nS...       7\n",
       "1  From: guykuo@carson.u.washington.edu (Guy Kuo)...       4\n",
       "2  From: twillis@ec.ecn.purdue.edu (Thomas E Will...       4\n",
       "3  From: jgreen@amber (Joe Green)\\nSubject: Re: W...       1\n",
       "4  From: jcm@head-cfa.harvard.edu (Jonathan McDow...      14\n",
       "5  From: dfo@vttoulu.tko.vtt.fi (Foxvog Douglas)\\...      16\n",
       "6  From: bmdelane@quads.uchicago.edu (brian manni...      13\n",
       "7  From: bgrubb@dante.nmsu.edu (GRUBB)\\nSubject: ...       3\n",
       "8  From: holmes7000@iscsvax.uni.edu\\nSubject: WIn...       2\n",
       "9  From: kerr@ux1.cso.uiuc.edu (Stan Kerr)\\nSubje...       4"
      ]
     },
     "execution_count": 25,
     "metadata": {},
     "output_type": "execute_result"
    }
   ],
   "source": [
    "data = pd.DataFrame(newsdata.data, columns = ['email'])\n",
    "data['target'] = pd.Series(newsdata.target)\n",
    "data[:10]"
   ]
  },
  {
   "cell_type": "code",
   "execution_count": 26,
   "id": "2793da57",
   "metadata": {},
   "outputs": [
    {
     "name": "stdout",
     "output_type": "stream",
     "text": [
      "<class 'pandas.core.frame.DataFrame'>\n",
      "RangeIndex: 11314 entries, 0 to 11313\n",
      "Data columns (total 2 columns):\n",
      " #   Column  Non-Null Count  Dtype \n",
      "---  ------  --------------  ----- \n",
      " 0   email   11314 non-null  object\n",
      " 1   target  11314 non-null  int32 \n",
      "dtypes: int32(1), object(1)\n",
      "memory usage: 132.7+ KB\n"
     ]
    }
   ],
   "source": [
    "data.info()"
   ]
  },
  {
   "cell_type": "code",
   "execution_count": 28,
   "id": "5452dbe7",
   "metadata": {},
   "outputs": [
    {
     "data": {
      "text/plain": [
       "False"
      ]
     },
     "execution_count": 28,
     "metadata": {},
     "output_type": "execute_result"
    }
   ],
   "source": [
    "data.isnull().values.any()"
   ]
  },
  {
   "cell_type": "code",
   "execution_count": 29,
   "id": "760af703",
   "metadata": {},
   "outputs": [
    {
     "name": "stdout",
     "output_type": "stream",
     "text": [
      "11314\n",
      "20\n"
     ]
    }
   ],
   "source": [
    "print(data['email'].nunique())\n",
    "print(data['target'].nunique())"
   ]
  },
  {
   "cell_type": "code",
   "execution_count": 30,
   "id": "5d94657f",
   "metadata": {},
   "outputs": [
    {
     "data": {
      "text/plain": [
       "<AxesSubplot:>"
      ]
     },
     "execution_count": 30,
     "metadata": {},
     "output_type": "execute_result"
    },
    {
     "data": {
      "image/png": "[encoded data removed]",
      "text/plain": [
       "<Figure size 640x480 with 1 Axes>"
      ]
     },
     "metadata": {},
     "output_type": "display_data"
    }
   ],
   "source": [
    "data['target'].value_counts().plot(kind='bar')"
   ]
  },
  {
   "cell_type": "code",
   "execution_count": 34,
   "id": "595858c7",
   "metadata": {},
   "outputs": [
    {
     "name": "stdout",
     "output_type": "stream",
     "text": [
      "    target  count\n",
      "0        0    480\n",
      "1        1    584\n",
      "2        2    591\n",
      "3        3    590\n",
      "4        4    578\n",
      "5        5    593\n",
      "6        6    585\n",
      "7        7    594\n",
      "8        8    598\n",
      "9        9    597\n",
      "10      10    600\n",
      "11      11    595\n",
      "12      12    591\n",
      "13      13    594\n",
      "14      14    593\n",
      "15      15    599\n",
      "16      16    546\n",
      "17      17    564\n",
      "18      18    465\n",
      "19      19    377\n"
     ]
    }
   ],
   "source": [
    "print(data.groupby(\"target\").size().reset_index(name='count'))"
   ]
  },
  {
   "cell_type": "code",
   "execution_count": 35,
   "id": "3a9846a0",
   "metadata": {},
   "outputs": [],
   "source": [
    "newsdata_test = fetch_20newsgroups(subset='test', shuffle=True)\n",
    "train_email = data['email']\n",
    "train_label = data['target']\n",
    "test_email = newsdata_test.data\n",
    "test_label = newsdata_test.target"
   ]
  },
  {
   "cell_type": "code",
   "execution_count": 36,
   "id": "fe14ef58",
   "metadata": {},
   "outputs": [],
   "source": [
    "vocab_size = 10000\n",
    "num_classes = 20"
   ]
  },
  {
   "cell_type": "code",
   "execution_count": 40,
   "id": "f6067826",
   "metadata": {},
   "outputs": [],
   "source": [
    "def prepare_data(train_data, test_data, mode):\n",
    "    tokenizer = Tokenizer(num_words = vocab_size)\n",
    "    tokenizer.fit_on_texts(train_data)\n",
    "    X_train = tokenizer.texts_to_matrix(train_data, mode=mode)\n",
    "    X_test = tokenizer.texts_to_matrix(test_data, mode=mode)\n",
    "    return X_train, X_test, tokenizer.index_word"
   ]
  },
  {
   "cell_type": "code",
   "execution_count": 41,
   "id": "4df74d86",
   "metadata": {},
   "outputs": [
    {
     "name": "stdout",
     "output_type": "stream",
     "text": [
      "0         7\n",
      "1         4\n",
      "2         4\n",
      "3         1\n",
      "4        14\n",
      "         ..\n",
      "11309    13\n",
      "11310     4\n",
      "11311     3\n",
      "11312     1\n",
      "11313     8\n",
      "Name: target, Length: 11314, dtype: int32 \n",
      " 20\n"
     ]
    }
   ],
   "source": [
    "X_train, X_test, index_to_word = prepare_data(train_email, test_email, 'binary')\n",
    "y_train = to_categorical(train_label, num_classes) # One-Hot encording\n",
    "y_test = to_categorical(test_label, num_classes) # One-Hot encording\n",
    "print(train_label,\"\\n\",num_classes)"
   ]
  },
  {
   "cell_type": "code",
   "execution_count": 42,
   "id": "1a06203c",
   "metadata": {},
   "outputs": [
    {
     "name": "stdout",
     "output_type": "stream",
     "text": [
      "X_train.shape : (11314, 10000)\n",
      "y_train.shape : (11314, 20)\n",
      "X_test.shape : (7532, 10000)\n",
      "y_test.shape : (7532, 20)\n"
     ]
    }
   ],
   "source": [
    "print('X_train.shape : {}'.format(X_train.shape))\n",
    "print('y_train.shape : {}'.format(y_train.shape))\n",
    "print('X_test.shape : {}'.format(X_test.shape))\n",
    "print('y_test.shape : {}'.format(y_test.shape))"
   ]
  },
  {
   "cell_type": "code",
   "execution_count": 47,
   "id": "161d6aaf",
   "metadata": {},
   "outputs": [
    {
     "name": "stdout",
     "output_type": "stream",
     "text": [
      "[0. 1. 1. ... 0. 0. 0.]\n",
      "the\n",
      "to\n",
      "nyu\n",
      "mic\n"
     ]
    }
   ],
   "source": [
    "print(X_train[0])\n",
    "print(index_to_word[1])\n",
    "print(index_to_word[2])\n",
    "print(index_to_word[9998])\n",
    "print(index_to_word[9999])"
   ]
  },
  {
   "cell_type": "code",
   "execution_count": 48,
   "id": "12d88415",
   "metadata": {},
   "outputs": [],
   "source": [
    "#-----------Building Model-------------"
   ]
  },
  {
   "cell_type": "code",
   "execution_count": 54,
   "id": "b5678a57",
   "metadata": {},
   "outputs": [],
   "source": [
    "from tensorflow.keras.models import Model\n",
    "from tensorflow.keras.layers import Input, Dense, Dropout"
   ]
  },
  {
   "cell_type": "code",
   "execution_count": 58,
   "id": "fc1684a5",
   "metadata": {},
   "outputs": [],
   "source": [
    "def fit_and_evaluate(X_train, y_train, X_test, y_test):\n",
    "    inputs = Input(shape=(vocab_size,))\n",
    "    model = Dense(256, activation='relu')(inputs)\n",
    "    model = Dropout(0.5)(model)\n",
    "    model = Dense(128, activation='relu')(model)\n",
    "    model = Dropout(0.5)(model)\n",
    "    model = Dense(num_classes, activation='softmax')(model)\n",
    "    model = Model(inputs=inputs, outputs=model)\n",
    "    \n",
    "    model.compile(loss='categorical_crossentropy', optimizer='adam', metrics=['accuracy'])\n",
    "    model.fit(X_train, y_train, batch_size=128, epochs=5, verbose=1, validation_split=0.1)\n",
    "    score = model.evaluate(X_test, y_test, batch_size=128, verbose=0)\n",
    "    return score[1]"
   ]
  },
  {
   "cell_type": "code",
   "execution_count": 59,
   "id": "630b696f",
   "metadata": {},
   "outputs": [
    {
     "name": "stdout",
     "output_type": "stream",
     "text": [
      "Epoch 1/5\n",
      "80/80 [==============================] - 3s 6ms/step - loss: 2.2700 - accuracy: 0.3381 - val_loss: 0.9477 - val_accuracy: 0.8136\n",
      "Epoch 2/5\n",
      "80/80 [==============================] - 0s 4ms/step - loss: 0.8566 - accuracy: 0.7660 - val_loss: 0.4652 - val_accuracy: 0.8816\n",
      "Epoch 3/5\n",
      "80/80 [==============================] - 0s 4ms/step - loss: 0.4315 - accuracy: 0.8858 - val_loss: 0.3594 - val_accuracy: 0.9072\n",
      "Epoch 4/5\n",
      "80/80 [==============================] - 0s 4ms/step - loss: 0.2605 - accuracy: 0.9352 - val_loss: 0.3040 - val_accuracy: 0.9152\n",
      "Epoch 5/5\n",
      "80/80 [==============================] - 0s 4ms/step - loss: 0.1730 - accuracy: 0.9569 - val_loss: 0.2980 - val_accuracy: 0.9090\n",
      "binary 's accuracy :  0.8222251534461975\n",
      "Epoch 1/5\n",
      "80/80 [==============================] - 1s 9ms/step - loss: 2.8279 - accuracy: 0.2399 - val_loss: 1.6807 - val_accuracy: 0.7314\n",
      "Epoch 2/5\n",
      "80/80 [==============================] - 0s 5ms/step - loss: 1.4456 - accuracy: 0.6352 - val_loss: 0.7124 - val_accuracy: 0.8587\n",
      "Epoch 3/5\n",
      "80/80 [==============================] - 0s 5ms/step - loss: 0.7983 - accuracy: 0.8011 - val_loss: 0.4966 - val_accuracy: 0.8807\n",
      "Epoch 4/5\n",
      "80/80 [==============================] - 0s 5ms/step - loss: 0.4989 - accuracy: 0.8801 - val_loss: 0.4521 - val_accuracy: 0.8825\n",
      "Epoch 5/5\n",
      "80/80 [==============================] - 0s 4ms/step - loss: 0.3976 - accuracy: 0.9147 - val_loss: 0.3921 - val_accuracy: 0.9028\n",
      "count 's accuracy :  0.8182421922683716\n",
      "Epoch 1/5\n",
      "80/80 [==============================] - 1s 7ms/step - loss: 2.1971 - accuracy: 0.3668 - val_loss: 0.7899 - val_accuracy: 0.8339\n",
      "Epoch 2/5\n",
      "80/80 [==============================] - 0s 5ms/step - loss: 0.8342 - accuracy: 0.7721 - val_loss: 0.4062 - val_accuracy: 0.8984\n",
      "Epoch 3/5\n",
      "80/80 [==============================] - 0s 5ms/step - loss: 0.4633 - accuracy: 0.8771 - val_loss: 0.3393 - val_accuracy: 0.9108\n",
      "Epoch 4/5\n",
      "80/80 [==============================] - 0s 5ms/step - loss: 0.3131 - accuracy: 0.9231 - val_loss: 0.3136 - val_accuracy: 0.9099\n",
      "Epoch 5/5\n",
      "80/80 [==============================] - 0s 5ms/step - loss: 0.2492 - accuracy: 0.9478 - val_loss: 0.3034 - val_accuracy: 0.9161\n",
      "tfidf 's accuracy :  0.755177915096283\n",
      "Epoch 1/5\n",
      "80/80 [==============================] - 1s 6ms/step - loss: 2.9755 - accuracy: 0.0885 - val_loss: 2.9153 - val_accuracy: 0.2959\n",
      "Epoch 2/5\n",
      "80/80 [==============================] - 0s 5ms/step - loss: 2.7052 - accuracy: 0.2077 - val_loss: 2.3987 - val_accuracy: 0.4267\n",
      "Epoch 3/5\n",
      "80/80 [==============================] - 0s 5ms/step - loss: 2.2094 - accuracy: 0.3142 - val_loss: 1.9117 - val_accuracy: 0.5804\n",
      "Epoch 4/5\n",
      "80/80 [==============================] - 0s 5ms/step - loss: 1.7716 - accuracy: 0.4542 - val_loss: 1.5027 - val_accuracy: 0.6405\n",
      "Epoch 5/5\n",
      "80/80 [==============================] - 0s 5ms/step - loss: 1.4115 - accuracy: 0.5755 - val_loss: 1.1935 - val_accuracy: 0.7456\n",
      "freq 's accuracy :  0.6501592993736267\n"
     ]
    }
   ],
   "source": [
    "modes = ['binary', 'count', 'tfidf', 'freq']\n",
    "\n",
    "for mode in modes:\n",
    "    X_train, Xtest, _ = prepare_data(train_email, test_email, mode)\n",
    "    score = fit_and_evaluate(X_train, y_train, X_test, y_test)\n",
    "    print(mode, \"\\'s accuracy : \", score)"
   ]
  },
  {
   "cell_type": "code",
   "execution_count": null,
   "id": "00e84a52",
   "metadata": {},
   "outputs": [],
   "source": []
  }
 ],
 "metadata": {
  "kernelspec": {
   "display_name": "Python 3 (ipykernel)",
   "language": "python",
   "name": "python3"
  },
  "language_info": {
   "codemirror_mode": {
    "name": "ipython",
    "version": 3
   },
   "file_extension": ".py",
   "mimetype": "text/x-python",
   "name": "python",
   "nbconvert_exporter": "python",
   "pygments_lexer": "ipython3",
   "version": "3.9.13"
  }
 },
 "nbformat": 4,
 "nbformat_minor": 5
}
