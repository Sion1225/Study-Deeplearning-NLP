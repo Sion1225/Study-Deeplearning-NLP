{
 "cells": [
  {
   "cell_type": "code",
   "execution_count": 1,
   "id": "e92a0433",
   "metadata": {},
   "outputs": [],
   "source": [
    "def AND_gate(x1,x2):\n",
    "    w1 = 1\n",
    "    w2 = 1\n",
    "    b = -1\n",
    "    result = x1*w1 + x2*w2 + b\n",
    "    \n",
    "    if result <= 0:\n",
    "        return 0\n",
    "    else :\n",
    "        return 1"
   ]
  },
  {
   "cell_type": "code",
   "execution_count": 5,
   "id": "8337c0e0",
   "metadata": {},
   "outputs": [],
   "source": [
    "def NAND_gate(x1,x2):\n",
    "    w1 = -0.6\n",
    "    w2 = -0.6\n",
    "    b = 1\n",
    "    result = x1*w1 + x2*w2 + b\n",
    "    \n",
    "    if result <= 0:\n",
    "        return 0\n",
    "    else :\n",
    "        return 1"
   ]
  },
  {
   "cell_type": "code",
   "execution_count": 3,
   "id": "9c991cd1",
   "metadata": {},
   "outputs": [],
   "source": [
    "def OR_gate(x1, x2):\n",
    "    w1 = 0.6\n",
    "    w2 = 0.6\n",
    "    b = -0.5\n",
    "    result = x1*w1 + x2*w2 + b\n",
    "    if result <= 0:\n",
    "        return 0\n",
    "    else:\n",
    "        return 1"
   ]
  },
  {
   "cell_type": "code",
   "execution_count": 9,
   "id": "5dd3f1ad",
   "metadata": {},
   "outputs": [],
   "source": [
    "def XOR_gate(x1, x2):\n",
    "    n=NAND_gate(x1, x2)\n",
    "    o=OR_gate(x1, x2)\n",
    "    return AND_gate(n, o)"
   ]
  },
  {
   "cell_type": "code",
   "execution_count": 10,
   "id": "af94cd6e",
   "metadata": {},
   "outputs": [
    {
     "data": {
      "text/plain": [
       "(0, 1, 1, 0)"
      ]
     },
     "execution_count": 10,
     "metadata": {},
     "output_type": "execute_result"
    }
   ],
   "source": [
    "XOR_gate(0,0), XOR_gate(0,1), XOR_gate(1,0), XOR_gate(1,1)"
   ]
  },
  {
   "cell_type": "code",
   "execution_count": null,
   "id": "f99a21e1",
   "metadata": {},
   "outputs": [],
   "source": []
  }
 ],
 "metadata": {
  "kernelspec": {
   "display_name": "Python 3 (ipykernel)",
   "language": "python",
   "name": "python3"
  },
  "language_info": {
   "codemirror_mode": {
    "name": "ipython",
    "version": 3
   },
   "file_extension": ".py",
   "mimetype": "text/x-python",
   "name": "python",
   "nbconvert_exporter": "python",
   "pygments_lexer": "ipython3",
   "version": "3.9.13"
  }
 },
 "nbformat": 4,
 "nbformat_minor": 5
}
