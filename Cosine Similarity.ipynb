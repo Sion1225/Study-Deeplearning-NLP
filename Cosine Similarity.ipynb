{
 "cells": [
  {
   "cell_type": "code",
   "execution_count": 17,
   "id": "b83a602b",
   "metadata": {},
   "outputs": [],
   "source": [
    "from sklearn.feature_extraction.text import CountVectorizer\n",
    "import numpy as np"
   ]
  },
  {
   "cell_type": "code",
   "execution_count": 25,
   "id": "ab03df65",
   "metadata": {},
   "outputs": [],
   "source": [
    "corpus  = [\n",
    "    \"I want to eat apple\",\n",
    "    \"I want to eat banana\",\n",
    "    \"Yellow and long banana banana\",\n",
    "    \"I like fruit\"\n",
    "]\n",
    "\n",
    "vector = CountVectorizer()"
   ]
  },
  {
   "cell_type": "code",
   "execution_count": 26,
   "id": "d4efcf9c",
   "metadata": {},
   "outputs": [],
   "source": [
    "def cos_sim(A,B):\n",
    "    return dot(A,B)/(norm(A)*norm(B))"
   ]
  },
  {
   "cell_type": "code",
   "execution_count": 27,
   "id": "8c299671",
   "metadata": {},
   "outputs": [
    {
     "name": "stdout",
     "output_type": "stream",
     "text": [
      "[[0 1 0 1 0 0 0 1 1 0]\n",
      " [0 0 1 1 0 0 0 1 1 0]\n",
      " [1 0 2 0 0 0 1 0 0 1]\n",
      " [0 0 0 0 1 1 0 0 0 0]]\n"
     ]
    }
   ],
   "source": [
    "dtm = vector.fit_transform(corpus).toarray()\n",
    "print(dtm)"
   ]
  },
  {
   "cell_type": "code",
   "execution_count": 28,
   "id": "d33098ed",
   "metadata": {},
   "outputs": [],
   "source": [
    "ndtm=np.array(dtm)"
   ]
  },
  {
   "cell_type": "code",
   "execution_count": 29,
   "id": "9f6a5620",
   "metadata": {},
   "outputs": [
    {
     "name": "stdout",
     "output_type": "stream",
     "text": [
      "文書1と2の間の類似度:  0.75\n",
      "文書2と3の間の類似度:  0.3779644730092272\n",
      "文書3と4の間の類似度:  0.0\n",
      "文書1と3の間の類似度:  0.0\n"
     ]
    }
   ],
   "source": [
    "print(\"文書1と2の間の類似度: \",cos_sim(ndtm[0],ndtm[1]))\n",
    "print(\"文書2と3の間の類似度: \",cos_sim(ndtm[1],ndtm[2]))\n",
    "print(\"文書3と4の間の類似度: \",cos_sim(ndtm[2],ndtm[3]))\n",
    "print(\"文書1と3の間の類似度: \",cos_sim(ndtm[0],ndtm[2]))"
   ]
  },
  {
   "cell_type": "code",
   "execution_count": 30,
   "id": "3615325c",
   "metadata": {},
   "outputs": [],
   "source": [
    "doc1 = np.array([0,1,1,1])\n",
    "doc2 = np.array([1,0,1,1])\n",
    "doc3 = np.array([2,0,2,2])"
   ]
  },
  {
   "cell_type": "code",
   "execution_count": 31,
   "id": "1761c21d",
   "metadata": {},
   "outputs": [
    {
     "name": "stdout",
     "output_type": "stream",
     "text": [
      "文書1と2の間の類似度:  0.6666666666666667\n",
      "文書2と3の間の類似度:  1.0000000000000002\n",
      "文書3と4の間の類似度:  0.6666666666666667\n"
     ]
    }
   ],
   "source": [
    "print(\"文書1と2の間の類似度: \",cos_sim(doc1, doc2))\n",
    "print(\"文書2と3の間の類似度: \",cos_sim(doc2, doc3))\n",
    "print(\"文書3と4の間の類似度: \",cos_sim(doc1, doc3))"
   ]
  },
  {
   "cell_type": "code",
   "execution_count": null,
   "id": "75d44125",
   "metadata": {},
   "outputs": [],
   "source": []
  }
 ],
 "metadata": {
  "kernelspec": {
   "display_name": "Python 3 (ipykernel)",
   "language": "python",
   "name": "python3"
  },
  "language_info": {
   "codemirror_mode": {
    "name": "ipython",
    "version": 3
   },
   "file_extension": ".py",
   "mimetype": "text/x-python",
   "name": "python",
   "nbconvert_exporter": "python",
   "pygments_lexer": "ipython3",
   "version": "3.9.13"
  }
 },
 "nbformat": 4,
 "nbformat_minor": 5
}
