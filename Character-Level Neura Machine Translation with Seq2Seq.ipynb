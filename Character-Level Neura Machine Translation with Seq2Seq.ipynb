{
 "cells": [
  {
   "cell_type": "markdown",
   "metadata": {
    "colab_type": "text",
    "id": "view-in-github"
   },
   "source": [
    "<a href=\"https://colab.research.google.com/github/Sion1225/Study-Deeplearning-NLP/blob/master/Character-Level%20Neura%20Machine%20Translation%20with%20Seq2Seq.ipynb\" target=\"_parent\"><img src=\"https://colab.research.google.com/assets/colab-badge.svg\" alt=\"Open In Colab\"/></a>"
   ]
  },
  {
   "cell_type": "markdown",
   "metadata": {
    "id": "uuzGyqlPydz3"
   },
   "source": [
    "Dataset is from \"http://www.manythings.org/anki\""
   ]
  },
  {
   "cell_type": "markdown",
   "metadata": {
    "id": "6ZHEiExhsDny"
   },
   "source": [
    "# Pre-processing"
   ]
  },
  {
   "cell_type": "code",
   "execution_count": 1,
   "metadata": {
    "id": "51GWF3AQxBZP"
   },
   "outputs": [],
   "source": [
    "\"\"\"\n",
    "import os\n",
    "import shutil\n",
    "import zipfile\n",
    "\"\"\"\n",
    "\n",
    "import pandas as pd\n",
    "import tensorflow as tf\n",
    "import urllib3\n",
    "from tensorflow.keras.preprocessing.sequence import pad_sequences\n",
    "from tensorflow.keras.utils import to_categorical"
   ]
  },
  {
   "cell_type": "code",
   "execution_count": 2,
   "metadata": {
    "colab": {
     "base_uri": "https://localhost:8080/",
     "height": 90
    },
    "id": "higkx6fvx8cU",
    "outputId": "14d1ee67-5ba6-4662-ce23-7691d3d4eb0a"
   },
   "outputs": [
    {
     "data": {
      "text/plain": [
       "\"\\nhttp = urllib3.PoolManager()\\nurl ='http://www.manythings.org/anki/fra-eng.zip'\\nfilename = 'fra-eng.zip'\\npath = os.getcwd()\\nzipfilename = os.path.join(path, filename)\\nwith http.request('GET', url, preload_content=False) as r, open(zipfilename, 'wb') as out_file:       \\n    shutil.copyfileobj(r, out_file)\\n\\nwith zipfile.ZipFile(zipfilename, 'r') as zip_ref:\\n    zip_ref.extractall(path)\\n\""
      ]
     },
     "execution_count": 2,
     "metadata": {},
     "output_type": "execute_result"
    }
   ],
   "source": [
    "\"\"\"\n",
    "http = urllib3.PoolManager()\n",
    "url ='http://www.manythings.org/anki/fra-eng.zip'\n",
    "filename = 'fra-eng.zip'\n",
    "path = os.getcwd()\n",
    "zipfilename = os.path.join(path, filename)\n",
    "with http.request('GET', url, preload_content=False) as r, open(zipfilename, 'wb') as out_file:       \n",
    "    shutil.copyfileobj(r, out_file)\n",
    "\n",
    "with zipfile.ZipFile(zipfilename, 'r') as zip_ref:\n",
    "    zip_ref.extractall(path)\n",
    "\"\"\""
   ]
  },
  {
   "cell_type": "code",
   "execution_count": 3,
   "metadata": {
    "colab": {
     "base_uri": "https://localhost:8080/"
    },
    "id": "vWFEnL7RyORc",
    "outputId": "c7f7f799-ac15-4d5c-8168-a29fe71b7fac"
   },
   "outputs": [
    {
     "name": "stdout",
     "output_type": "stream",
     "text": [
      "Count of all semples :  139013\n"
     ]
    }
   ],
   "source": [
    "lines = pd.read_csv(\"DataSet/spa.txt\", names=[\"src\", \"tar\", \"lic\"], sep='\\t')\n",
    "del lines[\"lic\"]\n",
    "print(\"Count of all semples : \", len(lines))"
   ]
  },
  {
   "cell_type": "code",
   "execution_count": 4,
   "metadata": {
    "id": "BGPkgYMsAUNP"
   },
   "outputs": [],
   "source": [
    "lines = lines[:80000]"
   ]
  },
  {
   "cell_type": "code",
   "execution_count": 5,
   "metadata": {
    "colab": {
     "base_uri": "https://localhost:8080/"
    },
    "id": "kgmLooB6zVQX",
    "outputId": "8d40390a-ca3d-422f-a05a-737462eb8b3a"
   },
   "outputs": [
    {
     "name": "stdout",
     "output_type": "stream",
     "text": [
      "   src      tar\n",
      "0  Go.      Ve.\n",
      "1  Go.    Vete.\n",
      "2  Go.    Vaya.\n",
      "3  Go.  Váyase.\n",
      "4  Hi.    Hola.\n"
     ]
    }
   ],
   "source": [
    "print(lines[:5])"
   ]
  },
  {
   "cell_type": "code",
   "execution_count": 6,
   "metadata": {
    "colab": {
     "base_uri": "https://localhost:8080/",
     "height": 363
    },
    "id": "catV1UIk4gjf",
    "outputId": "898ff3c7-a247-4d3b-fa9b-3b5a85558beb"
   },
   "outputs": [
    {
     "data": {
      "text/html": [
       "<div>\n",
       "<style scoped>\n",
       "    .dataframe tbody tr th:only-of-type {\n",
       "        vertical-align: middle;\n",
       "    }\n",
       "\n",
       "    .dataframe tbody tr th {\n",
       "        vertical-align: top;\n",
       "    }\n",
       "\n",
       "    .dataframe thead th {\n",
       "        text-align: right;\n",
       "    }\n",
       "</style>\n",
       "<table border=\"1\" class=\"dataframe\">\n",
       "  <thead>\n",
       "    <tr style=\"text-align: right;\">\n",
       "      <th></th>\n",
       "      <th>src</th>\n",
       "      <th>tar</th>\n",
       "    </tr>\n",
       "  </thead>\n",
       "  <tbody>\n",
       "    <tr>\n",
       "      <th>71067</th>\n",
       "      <td>We must decide when to start.</td>\n",
       "      <td>Tenemos que decidir cuándo empezamos.</td>\n",
       "    </tr>\n",
       "    <tr>\n",
       "      <th>14043</th>\n",
       "      <td>She idolized him.</td>\n",
       "      <td>Ella lo idolatraba.</td>\n",
       "    </tr>\n",
       "    <tr>\n",
       "      <th>24898</th>\n",
       "      <td>I quickly ate lunch.</td>\n",
       "      <td>Almorcé rápido.</td>\n",
       "    </tr>\n",
       "    <tr>\n",
       "      <th>44962</th>\n",
       "      <td>No one knows the reason.</td>\n",
       "      <td>Nadie sabe la razón.</td>\n",
       "    </tr>\n",
       "    <tr>\n",
       "      <th>78895</th>\n",
       "      <td>Should I fill in this form now?</td>\n",
       "      <td>¿Debo rellenar este formulario ahora?</td>\n",
       "    </tr>\n",
       "    <tr>\n",
       "      <th>27966</th>\n",
       "      <td>Be careful out there.</td>\n",
       "      <td>Ten cuidado ahí fuera.</td>\n",
       "    </tr>\n",
       "    <tr>\n",
       "      <th>71556</th>\n",
       "      <td>You know why I'm here, right?</td>\n",
       "      <td>Tú sabes por qué estoy aquí, ¿cierto?</td>\n",
       "    </tr>\n",
       "    <tr>\n",
       "      <th>56789</th>\n",
       "      <td>Where do you want to live?</td>\n",
       "      <td>¿Dónde querés vivir?</td>\n",
       "    </tr>\n",
       "    <tr>\n",
       "      <th>28930</th>\n",
       "      <td>I don't get out much.</td>\n",
       "      <td>No salgo mucho.</td>\n",
       "    </tr>\n",
       "    <tr>\n",
       "      <th>11931</th>\n",
       "      <td>You're forgiven.</td>\n",
       "      <td>Estás perdonado.</td>\n",
       "    </tr>\n",
       "  </tbody>\n",
       "</table>\n",
       "</div>"
      ],
      "text/plain": [
       "                                   src                                    tar\n",
       "71067    We must decide when to start.  Tenemos que decidir cuándo empezamos.\n",
       "14043                She idolized him.                    Ella lo idolatraba.\n",
       "24898             I quickly ate lunch.                        Almorcé rápido.\n",
       "44962         No one knows the reason.                   Nadie sabe la razón.\n",
       "78895  Should I fill in this form now?  ¿Debo rellenar este formulario ahora?\n",
       "27966            Be careful out there.                 Ten cuidado ahí fuera.\n",
       "71556    You know why I'm here, right?  Tú sabes por qué estoy aquí, ¿cierto?\n",
       "56789       Where do you want to live?                   ¿Dónde querés vivir?\n",
       "28930            I don't get out much.                        No salgo mucho.\n",
       "11931                 You're forgiven.                       Estás perdonado."
      ]
     },
     "execution_count": 6,
     "metadata": {},
     "output_type": "execute_result"
    }
   ],
   "source": [
    "lines.sample(10)"
   ]
  },
  {
   "cell_type": "code",
   "execution_count": 7,
   "metadata": {
    "colab": {
     "base_uri": "https://localhost:8080/",
     "height": 363
    },
    "id": "ehb8KVJ04rR0",
    "outputId": "444f746a-5200-4534-c3f5-e80e01a92937"
   },
   "outputs": [
    {
     "data": {
      "text/html": [
       "<div>\n",
       "<style scoped>\n",
       "    .dataframe tbody tr th:only-of-type {\n",
       "        vertical-align: middle;\n",
       "    }\n",
       "\n",
       "    .dataframe tbody tr th {\n",
       "        vertical-align: top;\n",
       "    }\n",
       "\n",
       "    .dataframe thead th {\n",
       "        text-align: right;\n",
       "    }\n",
       "</style>\n",
       "<table border=\"1\" class=\"dataframe\">\n",
       "  <thead>\n",
       "    <tr style=\"text-align: right;\">\n",
       "      <th></th>\n",
       "      <th>src</th>\n",
       "      <th>tar</th>\n",
       "    </tr>\n",
       "  </thead>\n",
       "  <tbody>\n",
       "    <tr>\n",
       "      <th>22592</th>\n",
       "      <td>Try on another one.</td>\n",
       "      <td>\\tPrueba con otra.\\n</td>\n",
       "    </tr>\n",
       "    <tr>\n",
       "      <th>44134</th>\n",
       "      <td>I want to be a magician.</td>\n",
       "      <td>\\tYo quiero ser un mago.\\n</td>\n",
       "    </tr>\n",
       "    <tr>\n",
       "      <th>10467</th>\n",
       "      <td>It's dirty work.</td>\n",
       "      <td>\\tEs trabajo sucio.\\n</td>\n",
       "    </tr>\n",
       "    <tr>\n",
       "      <th>10855</th>\n",
       "      <td>Spring has come.</td>\n",
       "      <td>\\tLa primavera ha llegado.\\n</td>\n",
       "    </tr>\n",
       "    <tr>\n",
       "      <th>69189</th>\n",
       "      <td>It'll probably rain tomorrow.</td>\n",
       "      <td>\\tProbablemente lloverá mañana.\\n</td>\n",
       "    </tr>\n",
       "    <tr>\n",
       "      <th>19018</th>\n",
       "      <td>You are safe here.</td>\n",
       "      <td>\\tTú estás seguro aquí.\\n</td>\n",
       "    </tr>\n",
       "    <tr>\n",
       "      <th>58242</th>\n",
       "      <td>I can't believe we're here.</td>\n",
       "      <td>\\tNo me puedo creer que estemos aquí.\\n</td>\n",
       "    </tr>\n",
       "    <tr>\n",
       "      <th>30720</th>\n",
       "      <td>The light turned red.</td>\n",
       "      <td>\\tLa luz se puso roja.\\n</td>\n",
       "    </tr>\n",
       "    <tr>\n",
       "      <th>36120</th>\n",
       "      <td>Tom has poor eyesight.</td>\n",
       "      <td>\\tTom tiene mala vista.\\n</td>\n",
       "    </tr>\n",
       "    <tr>\n",
       "      <th>78629</th>\n",
       "      <td>Nothing will happen until 2:30.</td>\n",
       "      <td>\\tNada pasará hasta las dos y media.\\n</td>\n",
       "    </tr>\n",
       "  </tbody>\n",
       "</table>\n",
       "</div>"
      ],
      "text/plain": [
       "                                   src  \\\n",
       "22592              Try on another one.   \n",
       "44134         I want to be a magician.   \n",
       "10467                 It's dirty work.   \n",
       "10855                 Spring has come.   \n",
       "69189    It'll probably rain tomorrow.   \n",
       "19018               You are safe here.   \n",
       "58242      I can't believe we're here.   \n",
       "30720            The light turned red.   \n",
       "36120           Tom has poor eyesight.   \n",
       "78629  Nothing will happen until 2:30.   \n",
       "\n",
       "                                           tar  \n",
       "22592                     \\tPrueba con otra.\\n  \n",
       "44134               \\tYo quiero ser un mago.\\n  \n",
       "10467                    \\tEs trabajo sucio.\\n  \n",
       "10855             \\tLa primavera ha llegado.\\n  \n",
       "69189        \\tProbablemente lloverá mañana.\\n  \n",
       "19018                \\tTú estás seguro aquí.\\n  \n",
       "58242  \\tNo me puedo creer que estemos aquí.\\n  \n",
       "30720                 \\tLa luz se puso roja.\\n  \n",
       "36120                \\tTom tiene mala vista.\\n  \n",
       "78629   \\tNada pasará hasta las dos y media.\\n  "
      ]
     },
     "execution_count": 7,
     "metadata": {},
     "output_type": "execute_result"
    }
   ],
   "source": [
    "lines.tar = lines.tar.apply(lambda x : \"\\t\" + x + \"\\n\")\n",
    "lines.sample(10)"
   ]
  },
  {
   "cell_type": "code",
   "execution_count": 8,
   "metadata": {
    "id": "2t6lwLmEiC4l"
   },
   "outputs": [],
   "source": [
    "src_vocab = set()\n",
    "for line in lines.src :\n",
    "    for char in line :\n",
    "        src_vocab.add(char)\n",
    "\n",
    "tar_vocab = set()\n",
    "for line in lines.tar:\n",
    "    for char in line:\n",
    "        tar_vocab.add(char)"
   ]
  },
  {
   "cell_type": "code",
   "execution_count": 9,
   "metadata": {
    "colab": {
     "base_uri": "https://localhost:8080/"
    },
    "id": "Iv-IaBYLxIxB",
    "outputId": "e612ea4f-17a7-48a9-d45c-61a370ed8be1"
   },
   "outputs": [
    {
     "name": "stdout",
     "output_type": "stream",
     "text": [
      "Source sentences' char set : 81\n",
      "Target sentences' char set : 100\n"
     ]
    }
   ],
   "source": [
    "src_vocab_size = len(src_vocab) + 1\n",
    "tar_vocab_size = len(tar_vocab) + 1\n",
    "print(\"Source sentences' char set :\",src_vocab_size)\n",
    "print(\"Target sentences' char set :\",tar_vocab_size)"
   ]
  },
  {
   "cell_type": "code",
   "execution_count": 10,
   "metadata": {
    "colab": {
     "base_uri": "https://localhost:8080/"
    },
    "id": "BaUaySWfxdew",
    "outputId": "1f743122-29e7-4076-cc87-f660a1ba8f33"
   },
   "outputs": [
    {
     "name": "stdout",
     "output_type": "stream",
     "text": [
      "{'T', 'B', 'S', '€', 'b', '!', ',', '\\xa0', 'Y', 't', 'e', 'F', 'i', \"'\", 'o', 'v', '0', 'N', 'I', 'u', 'd', '1', 'k', 'f', '5', '6', 'm', '2', '9', 'y', 'r', ':', '3', 'a', 'L', 'G', 'D', 'w', 'j', 'M', 'C', '?', 'p', 'U', '7', '°', 'h', 'n', 'R', 'Q', 'W', 'E', '4', 'Z', '‘', '\"', 'O', 'H', '$', 'V', 'P', '/', '.', '8', 's', '-', '’', 'c', 'x', 'q', 'z', 'é', 'K', 'l', 'A', '%', 'g', 'J', 'X', ' '}\n",
      "{'T', 'B', 'S', '€', '¡', 'ñ', '\\t', 'b', '!', ',', 'Y', '—', '«', 't', 'e', 'F', 'i', \"'\", 'o', 'v', '0', 'N', 'á', 'I', 'd', 'u', '1', 'k', 'f', '5', 'Á', '6', 'm', '»', '2', 'º', '9', 'y', 'r', '¿', '+', ':', '3', 'ó', 'a', 'L', 'G', 'D', 'ü', 'w', 'j', 'M', 'C', '?', 'í', 'p', 'U', '7', 'h', '°', '(', 'n', 'R', 'Q', 'W', 'E', 'É', '4', 'Z', 'с', '\"', 'O', 'H', '\\n', '$', 'V', 'P', '/', '.', '8', 's', '-', 'Ó', 'c', 'x', 'q', 'z', 'ú', 'é', 'K', 'l', 'Ú', 'A', ')', '%', 'g', 'J', 'X', ' '}\n"
     ]
    }
   ],
   "source": [
    "print(src_vocab)\n",
    "print(tar_vocab)"
   ]
  },
  {
   "cell_type": "code",
   "execution_count": 11,
   "metadata": {
    "colab": {
     "base_uri": "https://localhost:8080/"
    },
    "id": "Y7HMom5Oxgis",
    "outputId": "2d824287-0817-4471-d4fd-97b46e401c60"
   },
   "outputs": [
    {
     "name": "stdout",
     "output_type": "stream",
     "text": [
      "['E', 'F', 'G', 'H', 'I', 'J', 'K', 'L', 'M', 'N', 'O', 'P', 'Q', 'R', 'S', 'T', 'U', 'V', 'W', 'X', 'Y', 'Z', 'a', 'b', 'c', 'd', 'e', 'f', 'g', 'h', 'i', 'j', 'k', 'l', 'm', 'n', 'o', 'p', 'q', 'r', 's', 't', 'u', 'v', 'w', 'x', 'y', 'z', '\\xa0']\n",
      "['?', 'A', 'B', 'C', 'D', 'E', 'F', 'G', 'H', 'I', 'J', 'K', 'L', 'M', 'N', 'O', 'P', 'Q', 'R', 'S', 'T', 'U', 'V', 'W', 'X', 'Y', 'Z', 'a', 'b', 'c', 'd', 'e', 'f', 'g', 'h', 'i', 'j', 'k', 'l', 'm', 'n', 'o', 'p', 'q', 'r', 's', 't', 'u', 'v']\n"
     ]
    }
   ],
   "source": [
    "src_vocab = sorted(list(src_vocab))\n",
    "tar_vocab = sorted(list(tar_vocab))\n",
    "print(src_vocab[26:75])\n",
    "print(tar_vocab[26:75])"
   ]
  },
  {
   "cell_type": "code",
   "execution_count": 12,
   "metadata": {
    "colab": {
     "base_uri": "https://localhost:8080/"
    },
    "id": "BeKJwuE0x29m",
    "outputId": "fabb335c-7db0-4c06-8a58-ace0ecd6e9cf"
   },
   "outputs": [
    {
     "name": "stdout",
     "output_type": "stream",
     "text": [
      "{' ': 1, '!': 2, '\"': 3, '$': 4, '%': 5, \"'\": 6, ',': 7, '-': 8, '.': 9, '/': 10, '0': 11, '1': 12, '2': 13, '3': 14, '4': 15, '5': 16, '6': 17, '7': 18, '8': 19, '9': 20, ':': 21, '?': 22, 'A': 23, 'B': 24, 'C': 25, 'D': 26, 'E': 27, 'F': 28, 'G': 29, 'H': 30, 'I': 31, 'J': 32, 'K': 33, 'L': 34, 'M': 35, 'N': 36, 'O': 37, 'P': 38, 'Q': 39, 'R': 40, 'S': 41, 'T': 42, 'U': 43, 'V': 44, 'W': 45, 'X': 46, 'Y': 47, 'Z': 48, 'a': 49, 'b': 50, 'c': 51, 'd': 52, 'e': 53, 'f': 54, 'g': 55, 'h': 56, 'i': 57, 'j': 58, 'k': 59, 'l': 60, 'm': 61, 'n': 62, 'o': 63, 'p': 64, 'q': 65, 'r': 66, 's': 67, 't': 68, 'u': 69, 'v': 70, 'w': 71, 'x': 72, 'y': 73, 'z': 74, '\\xa0': 75, '°': 76, 'é': 77, '‘': 78, '’': 79, '€': 80}\n",
      "{'\\t': 1, '\\n': 2, ' ': 3, '!': 4, '\"': 5, '$': 6, '%': 7, \"'\": 8, '(': 9, ')': 10, '+': 11, ',': 12, '-': 13, '.': 14, '/': 15, '0': 16, '1': 17, '2': 18, '3': 19, '4': 20, '5': 21, '6': 22, '7': 23, '8': 24, '9': 25, ':': 26, '?': 27, 'A': 28, 'B': 29, 'C': 30, 'D': 31, 'E': 32, 'F': 33, 'G': 34, 'H': 35, 'I': 36, 'J': 37, 'K': 38, 'L': 39, 'M': 40, 'N': 41, 'O': 42, 'P': 43, 'Q': 44, 'R': 45, 'S': 46, 'T': 47, 'U': 48, 'V': 49, 'W': 50, 'X': 51, 'Y': 52, 'Z': 53, 'a': 54, 'b': 55, 'c': 56, 'd': 57, 'e': 58, 'f': 59, 'g': 60, 'h': 61, 'i': 62, 'j': 63, 'k': 64, 'l': 65, 'm': 66, 'n': 67, 'o': 68, 'p': 69, 'q': 70, 'r': 71, 's': 72, 't': 73, 'u': 74, 'v': 75, 'w': 76, 'x': 77, 'y': 78, 'z': 79, '¡': 80, '«': 81, '°': 82, 'º': 83, '»': 84, '¿': 85, 'Á': 86, 'É': 87, 'Ó': 88, 'Ú': 89, 'á': 90, 'é': 91, 'í': 92, 'ñ': 93, 'ó': 94, 'ú': 95, 'ü': 96, 'с': 97, '—': 98, '€': 99}\n"
     ]
    }
   ],
   "source": [
    "src_to_index = dict([(word, i+1) for i, word in enumerate(src_vocab)])\n",
    "tar_to_index = dict([(word, i+1) for i, word in enumerate(tar_vocab)])\n",
    "print(src_to_index)\n",
    "print(tar_to_index)"
   ]
  },
  {
   "cell_type": "code",
   "execution_count": 13,
   "metadata": {
    "colab": {
     "base_uri": "https://localhost:8080/"
    },
    "id": "v8REjdu663YS",
    "outputId": "79b4bbe5-3a12-4e51-d9b2-af232233456a"
   },
   "outputs": [
    {
     "name": "stdout",
     "output_type": "stream",
     "text": [
      "Source sentences : \n",
      " 0    Go.\n",
      "1    Go.\n",
      "2    Go.\n",
      "3    Go.\n",
      "4    Hi.\n",
      "Name: src, dtype: object\n",
      "Encoded source sentences :  [[29, 63, 9], [29, 63, 9], [29, 63, 9], [29, 63, 9], [30, 57, 9]]\n"
     ]
    }
   ],
   "source": [
    "encoder_input = []\n",
    "\n",
    "for line in lines[\"src\"] :\n",
    "    encoded_line = []\n",
    "\n",
    "    for char in line :\n",
    "        encoded_line.append(src_to_index[char])\n",
    "    \n",
    "    encoder_input.append(encoded_line)\n",
    "\n",
    "print(\"Source sentences : \\n\", lines[\"src\"][:5])\n",
    "print(\"Encoded source sentences : \", encoder_input[:5])"
   ]
  },
  {
   "cell_type": "code",
   "execution_count": 14,
   "metadata": {
    "colab": {
     "base_uri": "https://localhost:8080/"
    },
    "id": "-fWMCySRj_Ia",
    "outputId": "26cfa9ba-4a44-4b79-9c42-6935772476a9"
   },
   "outputs": [
    {
     "name": "stdout",
     "output_type": "stream",
     "text": [
      "Target sentences : \n",
      " 0        \\tVe.\\n\n",
      "1      \\tVete.\\n\n",
      "2      \\tVaya.\\n\n",
      "3    \\tVáyase.\\n\n",
      "4      \\tHola.\\n\n",
      "Name: tar, dtype: object\n",
      "Encoded target sentences :  [[1, 49, 58, 14, 2], [1, 49, 58, 73, 58, 14, 2], [1, 49, 54, 78, 54, 14, 2], [1, 49, 90, 78, 54, 72, 58, 14, 2], [1, 35, 68, 65, 54, 14, 2]]\n"
     ]
    }
   ],
   "source": [
    "decoder_input = []\n",
    "\n",
    "for line in lines[\"tar\"] :\n",
    "  encoded_line = []\n",
    "\n",
    "  for char in line :\n",
    "    encoded_line.append(tar_to_index[char])\n",
    "\n",
    "  decoder_input.append(encoded_line)\n",
    "\n",
    "print(\"Target sentences : \\n\", lines[\"tar\"][:5])\n",
    "print(\"Encoded target sentences : \", decoder_input[:5])"
   ]
  },
  {
   "cell_type": "code",
   "execution_count": 15,
   "metadata": {
    "colab": {
     "base_uri": "https://localhost:8080/"
    },
    "id": "Qf9pQh6h24hm",
    "outputId": "fa4d471f-fcc1-4832-c161-6d3fd00a11f4"
   },
   "outputs": [
    {
     "name": "stdout",
     "output_type": "stream",
     "text": [
      "Encoded target label sentences :  [[49, 58, 14, 2], [49, 58, 73, 58, 14, 2], [49, 54, 78, 54, 14, 2], [49, 90, 78, 54, 72, 58, 14, 2], [35, 68, 65, 54, 14, 2]]\n"
     ]
    }
   ],
   "source": [
    "decoder_target = []\n",
    "\n",
    "for line in lines[\"tar\"] :\n",
    "    timestep = 0\n",
    "    encoded_line = []\n",
    "\n",
    "    for char in line :\n",
    "        if timestep > 0 :\n",
    "            encoded_line.append(tar_to_index[char])\n",
    "        timestep += 1\n",
    "    \n",
    "    decoder_target.append(encoded_line)\n",
    "\n",
    "print(\"Encoded target label sentences : \", decoder_target[:5])"
   ]
  },
  {
   "cell_type": "code",
   "execution_count": 16,
   "metadata": {
    "colab": {
     "base_uri": "https://localhost:8080/"
    },
    "id": "N0ucux0G7y8b",
    "outputId": "6dd10384-8870-4bc5-cf78-842d2727b60f"
   },
   "outputs": [
    {
     "name": "stdout",
     "output_type": "stream",
     "text": [
      "Source sentences maximum length : 31\n",
      "Target sentences maximum length : 72\n"
     ]
    }
   ],
   "source": [
    "max_src_len = max([len(line) for line in lines.src])\n",
    "max_tar_len = max([len(line) for line in lines.tar])\n",
    "print('Source sentences maximum length :',max_src_len)\n",
    "print('Target sentences maximum length :',max_tar_len)"
   ]
  },
  {
   "cell_type": "code",
   "execution_count": 17,
   "metadata": {
    "id": "FJqSr8KY8Fmy"
   },
   "outputs": [],
   "source": [
    "encoder_input = pad_sequences(encoder_input, maxlen=max_src_len, padding=\"post\")\n",
    "decoder_input = pad_sequences(decoder_input, maxlen=max_tar_len, padding='post')\n",
    "decoder_target = pad_sequences(decoder_target, maxlen=max_tar_len, padding='post')"
   ]
  },
  {
   "cell_type": "code",
   "execution_count": 18,
   "metadata": {
    "colab": {
     "base_uri": "https://localhost:8080/",
     "height": 80
    },
    "id": "9am6t1yEFYK0",
    "outputId": "9611b7d3-ab33-4eea-8290-171e457f81a4"
   },
   "outputs": [
    {
     "name": "stderr",
     "output_type": "stream",
     "text": [
      "2023-02-28 21:12:27,249\tINFO worker.py:1553 -- Started a local Ray instance.\n"
     ]
    },
    {
     "data": {
      "text/html": [
       "<div>\n",
       "    <div style=\"margin-left: 50px;display: flex;flex-direction: row;align-items: center\">\n",
       "        <h3 style=\"color: var(--jp-ui-font-color0)\">Ray</h3>\n",
       "        <svg version=\"1.1\" id=\"ray\" width=\"3em\" viewBox=\"0 0 144.5 144.6\" style=\"margin-left: 3em;margin-right: 3em\">\n",
       "            <g id=\"layer-1\">\n",
       "                <path fill=\"#00a2e9\" class=\"st0\" d=\"M97.3,77.2c-3.8-1.1-6.2,0.9-8.3,5.1c-3.5,6.8-9.9,9.9-17.4,9.6S58,88.1,54.8,81.2c-1.4-3-3-4-6.3-4.1\n",
       "                    c-5.6-0.1-9.9,0.1-13.1,6.4c-3.8,7.6-13.6,10.2-21.8,7.6C5.2,88.4-0.4,80.5,0,71.7c0.1-8.4,5.7-15.8,13.8-18.2\n",
       "                    c8.4-2.6,17.5,0.7,22.3,8c1.3,1.9,1.3,5.2,3.6,5.6c3.9,0.6,8,0.2,12,0.2c1.8,0,1.9-1.6,2.4-2.8c3.5-7.8,9.7-11.8,18-11.9\n",
       "                    c8.2-0.1,14.4,3.9,17.8,11.4c1.3,2.8,2.9,3.6,5.7,3.3c1-0.1,2,0.1,3,0c2.8-0.5,6.4,1.7,8.1-2.7s-2.3-5.5-4.1-7.5\n",
       "                    c-5.1-5.7-10.9-10.8-16.1-16.3C84,38,81.9,37.1,78,38.3C66.7,42,56.2,35.7,53,24.1C50.3,14,57.3,2.8,67.7,0.5\n",
       "                    C78.4-2,89,4.7,91.5,15.3c0.1,0.3,0.1,0.5,0.2,0.8c0.7,3.4,0.7,6.9-0.8,9.8c-1.7,3.2-0.8,5,1.5,7.2c6.7,6.5,13.3,13,19.8,19.7\n",
       "                    c1.8,1.8,3,2.1,5.5,1.2c9.1-3.4,17.9-0.6,23.4,7c4.8,6.9,4.6,16.1-0.4,22.9c-5.4,7.2-14.2,9.9-23.1,6.5c-2.3-0.9-3.5-0.6-5.1,1.1\n",
       "                    c-6.7,6.9-13.6,13.7-20.5,20.4c-1.8,1.8-2.5,3.2-1.4,5.9c3.5,8.7,0.3,18.6-7.7,23.6c-7.9,5-18.2,3.8-24.8-2.9\n",
       "                    c-6.4-6.4-7.4-16.2-2.5-24.3c4.9-7.8,14.5-11,23.1-7.8c3,1.1,4.7,0.5,6.9-1.7C91.7,98.4,98,92.3,104.2,86c1.6-1.6,4.1-2.7,2.6-6.2\n",
       "                    c-1.4-3.3-3.8-2.5-6.2-2.6C99.8,77.2,98.9,77.2,97.3,77.2z M72.1,29.7c5.5,0.1,9.9-4.3,10-9.8c0-0.1,0-0.2,0-0.3\n",
       "                    C81.8,14,77,9.8,71.5,10.2c-5,0.3-9,4.2-9.3,9.2c-0.2,5.5,4,10.1,9.5,10.3C71.8,29.7,72,29.7,72.1,29.7z M72.3,62.3\n",
       "                    c-5.4-0.1-9.9,4.2-10.1,9.7c0,0.2,0,0.3,0,0.5c0.2,5.4,4.5,9.7,9.9,10c5.1,0.1,9.9-4.7,10.1-9.8c0.2-5.5-4-10-9.5-10.3\n",
       "                    C72.6,62.3,72.4,62.3,72.3,62.3z M115,72.5c0.1,5.4,4.5,9.7,9.8,9.9c5.6-0.2,10-4.8,10-10.4c-0.2-5.4-4.6-9.7-10-9.7\n",
       "                    c-5.3-0.1-9.8,4.2-9.9,9.5C115,72.1,115,72.3,115,72.5z M19.5,62.3c-5.4,0.1-9.8,4.4-10,9.8c-0.1,5.1,5.2,10.4,10.2,10.3\n",
       "                    c5.6-0.2,10-4.9,9.8-10.5c-0.1-5.4-4.5-9.7-9.9-9.6C19.6,62.3,19.5,62.3,19.5,62.3z M71.8,134.6c5.9,0.2,10.3-3.9,10.4-9.6\n",
       "                    c0.5-5.5-3.6-10.4-9.1-10.8c-5.5-0.5-10.4,3.6-10.8,9.1c0,0.5,0,0.9,0,1.4c-0.2,5.3,4,9.8,9.3,10\n",
       "                    C71.6,134.6,71.7,134.6,71.8,134.6z\"/>\n",
       "            </g>\n",
       "        </svg>\n",
       "        <table>\n",
       "            <tr>\n",
       "                <td style=\"text-align: left\"><b>Python version:</b></td>\n",
       "                <td style=\"text-align: left\"><b>3.8.5</b></td>\n",
       "            </tr>\n",
       "            <tr>\n",
       "                <td style=\"text-align: left\"><b>Ray version:</b></td>\n",
       "                <td style=\"text-align: left\"><b> 2.3.0</b></td>\n",
       "            </tr>\n",
       "            \n",
       "        </table>\n",
       "    </div>\n",
       "</div>\n"
      ],
      "text/plain": [
       "RayContext(dashboard_url='', python_version='3.8.5', ray_version='2.3.0', ray_commit='cf7a56b4b0b648c324722df7c99c168e92ff0b45', address_info={'node_ip_address': '127.0.0.1', 'raylet_ip_address': '127.0.0.1', 'redis_address': None, 'object_store_address': 'tcp://127.0.0.1:64912', 'raylet_socket_name': 'tcp://127.0.0.1:65181', 'webui_url': '', 'session_dir': 'C:\\\\Users\\\\visio\\\\AppData\\\\Local\\\\Temp\\\\ray\\\\session_2023-02-28_21-12-22_848756_3048', 'metrics_export_port': 64684, 'gcs_address': '127.0.0.1:65224', 'address': '127.0.0.1:65224', 'dashboard_agent_listen_port': 52365, 'node_id': '24342f3ab5e3557d539dd69e211d0ca4600da9051b4e674b0cfb3d91'})"
      ]
     },
     "execution_count": 18,
     "metadata": {},
     "output_type": "execute_result"
    }
   ],
   "source": [
    "import ray\n",
    "ray.init()"
   ]
  },
  {
   "cell_type": "code",
   "execution_count": 19,
   "metadata": {
    "colab": {
     "base_uri": "https://localhost:8080/"
    },
    "id": "4NWUfiYY_iNt",
    "outputId": "6337ebcb-1eb8-4b63-b6ba-36fa060f5d0d"
   },
   "outputs": [],
   "source": [
    "#One-Hot encoding (Character-level)\n",
    "@ray.remote\n",
    "def One_Hot(encoder_input, decoder_input, decoder_target) :\n",
    "    encoder_input = to_categorical(encoder_input)\n",
    "    decoder_input = to_categorical(decoder_input)\n",
    "    decoder_target = to_categorical(decoder_target)\n",
    "\n",
    "    return encoder_input, decoder_input, decoder_target\n",
    "\n",
    "encoder_input, decoder_input, decoder_target = ray.get(One_Hot.remote(encoder_input, decoder_input, decoder_target))"
   ]
  },
  {
   "cell_type": "code",
   "execution_count": 20,
   "metadata": {
    "colab": {
     "base_uri": "https://localhost:8080/"
    },
    "id": "9YviNZ3qGPVl",
    "outputId": "5179c5de-2519-46e3-a559-08997d72778c"
   },
   "outputs": [
    {
     "name": "stdout",
     "output_type": "stream",
     "text": [
      "[[[0. 0. 0. ... 0. 0. 0.]\n",
      "  [0. 0. 0. ... 0. 0. 0.]\n",
      "  [0. 0. 0. ... 0. 0. 0.]\n",
      "  ...\n",
      "  [1. 0. 0. ... 0. 0. 0.]\n",
      "  [1. 0. 0. ... 0. 0. 0.]\n",
      "  [1. 0. 0. ... 0. 0. 0.]]\n",
      "\n",
      " [[0. 0. 0. ... 0. 0. 0.]\n",
      "  [0. 0. 0. ... 0. 0. 0.]\n",
      "  [0. 0. 0. ... 0. 0. 0.]\n",
      "  ...\n",
      "  [1. 0. 0. ... 0. 0. 0.]\n",
      "  [1. 0. 0. ... 0. 0. 0.]\n",
      "  [1. 0. 0. ... 0. 0. 0.]]\n",
      "\n",
      " [[0. 0. 0. ... 0. 0. 0.]\n",
      "  [0. 0. 0. ... 0. 0. 0.]\n",
      "  [0. 0. 0. ... 0. 0. 0.]\n",
      "  ...\n",
      "  [1. 0. 0. ... 0. 0. 0.]\n",
      "  [1. 0. 0. ... 0. 0. 0.]\n",
      "  [1. 0. 0. ... 0. 0. 0.]]]\n"
     ]
    }
   ],
   "source": [
    "print(encoder_input[:3])\n",
    "ray.shutdown()"
   ]
  },
  {
   "cell_type": "code",
   "execution_count": 21,
   "metadata": {
    "colab": {
     "base_uri": "https://localhost:8080/"
    },
    "id": "zmpWH-9_bUED",
    "outputId": "5f95892f-9023-4b75-d0bc-2f8c18c62709"
   },
   "outputs": [
    {
     "name": "stdout",
     "output_type": "stream",
     "text": [
      "(80000, 31, 81)\n",
      "31\n",
      "81\n"
     ]
    }
   ],
   "source": [
    "print(encoder_input.shape)\n",
    "print(max_src_len)\n",
    "print(src_vocab_size)"
   ]
  },
  {
   "cell_type": "markdown",
   "metadata": {
    "id": "Agj2OoL5HZxG"
   },
   "source": [
    "# Model"
   ]
  },
  {
   "cell_type": "markdown",
   "metadata": {
    "id": "YcQ_4x2qqeEH"
   },
   "source": [
    "### Training"
   ]
  },
  {
   "cell_type": "code",
   "execution_count": 22,
   "metadata": {
    "id": "07TNTcgnHK7z"
   },
   "outputs": [],
   "source": [
    "from tensorflow.keras.layers import Input, LSTM, Embedding, Dense\n",
    "from tensorflow.keras.models import Model\n",
    "import numpy as np"
   ]
  },
  {
   "cell_type": "code",
   "execution_count": 23,
   "metadata": {
    "id": "f96GO4tyILpN"
   },
   "outputs": [],
   "source": [
    "#Encoder\n",
    "encoder_inputs = Input(shape=(max_src_len, src_vocab_size))\n",
    "\n",
    "encoder_lstm = LSTM(units=256, return_state=True)\n",
    "encoder_outputs, state_h, state_c = encoder_lstm(encoder_inputs)\n",
    "\n",
    "encoder_states = [state_h, state_c]"
   ]
  },
  {
   "cell_type": "code",
   "execution_count": 24,
   "metadata": {
    "id": "p_SRksUGPR0A"
   },
   "outputs": [],
   "source": [
    "#Decoder\n",
    "decoder_inputs = Input(shape=(None, tar_vocab_size))\n",
    "\n",
    "decoder_lstm = LSTM(units=256, return_sequences=True , return_state=True)\n",
    "decoder_outputs, _, _ = decoder_lstm(decoder_inputs, initial_state=encoder_states)\n",
    "\n",
    "decoder_softmax_layer = Dense(units=tar_vocab_size, activation=\"softmax\")\n",
    "decoder_outputs = decoder_softmax_layer(decoder_outputs)"
   ]
  },
  {
   "cell_type": "code",
   "execution_count": 25,
   "metadata": {},
   "outputs": [
    {
     "name": "stdout",
     "output_type": "stream",
     "text": [
      "(None, None, 100)\n"
     ]
    }
   ],
   "source": [
    "print(decoder_outputs.shape)"
   ]
  },
  {
   "cell_type": "code",
   "execution_count": 26,
   "metadata": {
    "id": "BzJf5F-mb1PH"
   },
   "outputs": [],
   "source": [
    "#Model Combine & Compile\n",
    "model = Model([encoder_inputs, decoder_inputs], decoder_outputs)\n",
    "model.compile(optimizer=\"Nadam\", loss=\"categorical_crossentropy\", metrics=[\"accuracy\"])"
   ]
  },
  {
   "cell_type": "code",
   "execution_count": null,
   "metadata": {
    "colab": {
     "base_uri": "https://localhost:8080/"
    },
    "id": "pI4RkyTycLx6",
    "outputId": "d018a5a8-c70f-4575-a2bd-d66ed150c10b"
   },
   "outputs": [
    {
     "name": "stdout",
     "output_type": "stream",
     "text": [
      "Epoch 1/35\n",
      "1000/1000 [==============================] - 22s 22ms/step - loss: 0.4272 - accuracy: 0.8713 - val_loss: 0.5964 - val_accuracy: 0.8205\n",
      "Epoch 2/35\n",
      "1000/1000 [==============================] - 26s 26ms/step - loss: 0.3982 - accuracy: 0.8802 - val_loss: 0.5653 - val_accuracy: 0.8294\n",
      "Epoch 3/35\n",
      "1000/1000 [==============================] - 23s 23ms/step - loss: 0.3738 - accuracy: 0.8874 - val_loss: 0.5375 - val_accuracy: 0.8385\n",
      "Epoch 4/35\n",
      "1000/1000 [==============================] - 25s 25ms/step - loss: 0.3534 - accuracy: 0.8936 - val_loss: 0.5159 - val_accuracy: 0.8449\n",
      "Epoch 5/35\n",
      "1000/1000 [==============================] - 28s 28ms/step - loss: 0.3361 - accuracy: 0.8987 - val_loss: 0.4985 - val_accuracy: 0.8496\n",
      "Epoch 6/35\n",
      "1000/1000 [==============================] - 27s 27ms/step - loss: 0.3216 - accuracy: 0.9030 - val_loss: 0.4859 - val_accuracy: 0.8537\n",
      "Epoch 7/35\n",
      "1000/1000 [==============================] - 28s 28ms/step - loss: 0.3089 - accuracy: 0.9067 - val_loss: 0.4744 - val_accuracy: 0.8573\n",
      "Epoch 8/35\n",
      "1000/1000 [==============================] - 27s 27ms/step - loss: 0.2974 - accuracy: 0.9102 - val_loss: 0.4627 - val_accuracy: 0.8607\n",
      "Epoch 9/35\n",
      "1000/1000 [==============================] - 33s 33ms/step - loss: 0.2876 - accuracy: 0.9130 - val_loss: 0.4562 - val_accuracy: 0.8630\n",
      "Epoch 10/35\n",
      "1000/1000 [==============================] - 22s 22ms/step - loss: 0.2791 - accuracy: 0.9156 - val_loss: 0.4493 - val_accuracy: 0.8649\n",
      "Epoch 11/35\n",
      "1000/1000 [==============================] - 21s 21ms/step - loss: 0.2714 - accuracy: 0.9178 - val_loss: 0.4463 - val_accuracy: 0.8666\n",
      "Epoch 12/35\n",
      "1000/1000 [==============================] - 33s 33ms/step - loss: 0.2644 - accuracy: 0.9199 - val_loss: 0.4423 - val_accuracy: 0.8672\n",
      "Epoch 13/35\n",
      "1000/1000 [==============================] - 22s 22ms/step - loss: 0.2581 - accuracy: 0.9216 - val_loss: 0.4381 - val_accuracy: 0.8689\n",
      "Epoch 14/35\n",
      "1000/1000 [==============================] - 20s 20ms/step - loss: 0.2521 - accuracy: 0.9235 - val_loss: 0.4369 - val_accuracy: 0.8696\n",
      "Epoch 15/35\n",
      "1000/1000 [==============================] - 21s 21ms/step - loss: 0.2467 - accuracy: 0.9251 - val_loss: 0.4325 - val_accuracy: 0.8710\n",
      "Epoch 16/35\n",
      "1000/1000 [==============================] - 21s 21ms/step - loss: 0.2416 - accuracy: 0.9265 - val_loss: 0.4321 - val_accuracy: 0.8716\n",
      "Epoch 17/35\n",
      "1000/1000 [==============================] - 22s 22ms/step - loss: 0.2368 - accuracy: 0.9280 - val_loss: 0.4294 - val_accuracy: 0.8726\n",
      "Epoch 18/35\n",
      "1000/1000 [==============================] - 24s 24ms/step - loss: 0.2322 - accuracy: 0.9294 - val_loss: 0.4301 - val_accuracy: 0.8726\n",
      "Epoch 19/35\n",
      "1000/1000 [==============================] - 26s 26ms/step - loss: 0.2279 - accuracy: 0.9307 - val_loss: 0.4308 - val_accuracy: 0.8732\n",
      "Epoch 20/35\n",
      "1000/1000 [==============================] - 26s 26ms/step - loss: 0.2241 - accuracy: 0.9317 - val_loss: 0.4281 - val_accuracy: 0.8738\n",
      "Epoch 21/35\n",
      "1000/1000 [==============================] - 38s 38ms/step - loss: 0.2201 - accuracy: 0.9330 - val_loss: 0.4292 - val_accuracy: 0.8739\n",
      "Epoch 22/35\n",
      "1000/1000 [==============================] - 34s 34ms/step - loss: 0.2165 - accuracy: 0.9340 - val_loss: 0.4316 - val_accuracy: 0.8737\n",
      "Epoch 23/35\n",
      "1000/1000 [==============================] - 27s 27ms/step - loss: 0.2130 - accuracy: 0.9351 - val_loss: 0.4314 - val_accuracy: 0.8740\n",
      "Epoch 24/35\n",
      "1000/1000 [==============================] - 36s 36ms/step - loss: 0.2097 - accuracy: 0.9361 - val_loss: 0.4336 - val_accuracy: 0.8738\n",
      "Epoch 25/35\n",
      "1000/1000 [==============================] - 37s 37ms/step - loss: 0.2066 - accuracy: 0.9370 - val_loss: 0.4348 - val_accuracy: 0.8739\n",
      "Epoch 26/35\n",
      "1000/1000 [==============================] - 27s 27ms/step - loss: 0.2035 - accuracy: 0.9379 - val_loss: 0.4348 - val_accuracy: 0.8746\n",
      "Epoch 27/35\n",
      "1000/1000 [==============================] - 20s 20ms/step - loss: 0.2006 - accuracy: 0.9387 - val_loss: 0.4368 - val_accuracy: 0.8741\n",
      "Epoch 28/35\n",
      "1000/1000 [==============================] - 20s 20ms/step - loss: 0.1978 - accuracy: 0.9395 - val_loss: 0.4389 - val_accuracy: 0.8741\n",
      "Epoch 29/35\n",
      "1000/1000 [==============================] - 20s 20ms/step - loss: 0.1950 - accuracy: 0.9403 - val_loss: 0.4414 - val_accuracy: 0.8740\n",
      "Epoch 30/35\n",
      "1000/1000 [==============================] - 20s 20ms/step - loss: 0.1925 - accuracy: 0.9410 - val_loss: 0.4434 - val_accuracy: 0.8737\n",
      "Epoch 31/35\n",
      "1000/1000 [==============================] - 21s 21ms/step - loss: 0.1899 - accuracy: 0.9419 - val_loss: 0.4476 - val_accuracy: 0.8733\n",
      "Epoch 32/35\n",
      "1000/1000 [==============================] - 20s 20ms/step - loss: 0.1876 - accuracy: 0.9425 - val_loss: 0.4473 - val_accuracy: 0.8740\n",
      "Epoch 33/35\n",
      "1000/1000 [==============================] - 20s 20ms/step - loss: 0.1853 - accuracy: 0.9431 - val_loss: 0.4495 - val_accuracy: 0.8731\n",
      "Epoch 34/35\n",
      " 913/1000 [==========================>...] - ETA: 1s - loss: 0.1826 - accuracy: 0.9439"
     ]
    }
   ],
   "source": [
    "model.fit(x=[encoder_input, decoder_input], y=decoder_target, batch_size=64, epochs=35, validation_split=0.2) "
   ]
  },
  {
   "cell_type": "code",
   "execution_count": 28,
   "metadata": {},
   "outputs": [],
   "source": [
    "#model.save_weight(\"Models/CharLevel Seq2Seq.ckpt\")"
   ]
  },
  {
   "cell_type": "markdown",
   "metadata": {
    "id": "y7vGlyuiqicW"
   },
   "source": [
    "### Activating"
   ]
  },
  {
   "cell_type": "code",
   "execution_count": 29,
   "metadata": {
    "id": "3XSyrvztcztW"
   },
   "outputs": [],
   "source": [
    "#define encoder\n",
    "encoder_model = Model(inputs=encoder_inputs, outputs=encoder_states)"
   ]
  },
  {
   "cell_type": "code",
   "execution_count": 46,
   "metadata": {
    "colab": {
     "base_uri": "https://localhost:8080/",
     "height": 376
    },
    "id": "LnruOM0QqIrJ",
    "outputId": "09889586-918a-4408-d50c-7043c6b09d15"
   },
   "outputs": [],
   "source": [
    "#define decoder\n",
    "decoder_state_input_h = Input(shape=(256,)) # hidden\n",
    "decoder_state_input_c = Input(shape=(256,)) # cell\n",
    "decoder_states_inputs = [decoder_state_input_h, decoder_state_input_c]\n",
    "\n",
    "#decoder_lstm = LSTM(units=256, return_sequences=True , return_state=True)\n",
    "decoder_outputs, state_h, state_c = decoder_lstm(decoder_inputs, initial_state=decoder_states_inputs)\n",
    "\n",
    "decoder_states = [state_h, state_c] # save hidden&cell state\n",
    "\n",
    "#decoder_softmax_layer = Dense(units=tar_vocab_size, activation=\"softmax\")\n",
    "decoder_outputs = decoder_softmax_layer(decoder_outputs)\n",
    "\n",
    "decoder_model = Model(inputs=[decoder_inputs] + decoder_states_inputs, outputs=[decoder_outputs] + decoder_states)"
   ]
  },
  {
   "cell_type": "code",
   "execution_count": 47,
   "metadata": {},
   "outputs": [
    {
     "name": "stdout",
     "output_type": "stream",
     "text": [
      "100\n",
      "(None, None, 100)\n"
     ]
    }
   ],
   "source": [
    "print(tar_vocab_size)\n",
    "print(decoder_outputs.shape)"
   ]
  },
  {
   "cell_type": "code",
   "execution_count": 32,
   "metadata": {
    "id": "iCb8jlDkylvu"
   },
   "outputs": [],
   "source": [
    "index_to_src = dict((i, char) for char, i in src_to_index.items())\n",
    "index_to_tar = dict((i, char) for char, i in tar_to_index.items())"
   ]
  },
  {
   "cell_type": "code",
   "execution_count": 53,
   "metadata": {},
   "outputs": [
    {
     "name": "stdout",
     "output_type": "stream",
     "text": [
      "{1: '\\t', 2: '\\n', 3: ' ', 4: '!', 5: '\"', 6: '$', 7: '%', 8: \"'\", 9: '(', 10: ')', 11: '+', 12: ',', 13: '-', 14: '.', 15: '/', 16: '0', 17: '1', 18: '2', 19: '3', 20: '4', 21: '5', 22: '6', 23: '7', 24: '8', 25: '9', 26: ':', 27: '?', 28: 'A', 29: 'B', 30: 'C', 31: 'D', 32: 'E', 33: 'F', 34: 'G', 35: 'H', 36: 'I', 37: 'J', 38: 'K', 39: 'L', 40: 'M', 41: 'N', 42: 'O', 43: 'P', 44: 'Q', 45: 'R', 46: 'S', 47: 'T', 48: 'U', 49: 'V', 50: 'W', 51: 'X', 52: 'Y', 53: 'Z', 54: 'a', 55: 'b', 56: 'c', 57: 'd', 58: 'e', 59: 'f', 60: 'g', 61: 'h', 62: 'i', 63: 'j', 64: 'k', 65: 'l', 66: 'm', 67: 'n', 68: 'o', 69: 'p', 70: 'q', 71: 'r', 72: 's', 73: 't', 74: 'u', 75: 'v', 76: 'w', 77: 'x', 78: 'y', 79: 'z', 80: '¡', 81: '«', 82: '°', 83: 'º', 84: '»', 85: '¿', 86: 'Á', 87: 'É', 88: 'Ó', 89: 'Ú', 90: 'á', 91: 'é', 92: 'í', 93: 'ñ', 94: 'ó', 95: 'ú', 96: 'ü', 97: 'с', 98: '—', 99: '€'}\n"
     ]
    }
   ],
   "source": [
    "print(index_to_tar)"
   ]
  },
  {
   "cell_type": "code",
   "execution_count": 63,
   "metadata": {
    "id": "a7GWqlu60Fe2"
   },
   "outputs": [],
   "source": [
    "def decode_sequence(input_seq) :\n",
    "    #input input to encoder\n",
    "    states_value = encoder_model.predict(input_seq)\n",
    "    \n",
    "    #making \\t(<SOS>) One-Hot vector\n",
    "    target_seq = np.zeros((1,1,tar_vocab_size))\n",
    "    target_seq[0,0, tar_to_index['\\t']] = 1\n",
    "    \n",
    "    decoded_sentence = \"\"\n",
    "    \n",
    "    while True :\n",
    "        output_tokens, h, c = decoder_model.predict([target_seq] + states_value)\n",
    "        \n",
    "        sampled_token_index = np.argmax(output_tokens[0, -1, :])\n",
    "        sampled_char = index_to_tar[sampled_token_index]\n",
    "        \n",
    "        decoded_sentence += sampled_char\n",
    "        \n",
    "        if sampled_char == '\\n' or len(decoded_sentence) > max_tar_len : #\\n==<eos>\n",
    "            break\n",
    "        \n",
    "        #saving predicted value\n",
    "        target_seq = np.zeros((1,1,tar_vocab_size))\n",
    "        target_seq[0,0, sampled_token_index] = 1\n",
    "        \n",
    "        #saving states\n",
    "        states_value = [h, c]\n",
    "    \n",
    "    return decoded_sentence"
   ]
  },
  {
   "cell_type": "markdown",
   "metadata": {},
   "source": [
    "# Test"
   ]
  },
  {
   "cell_type": "code",
   "execution_count": 49,
   "metadata": {},
   "outputs": [
    {
     "name": "stdout",
     "output_type": "stream",
     "text": [
      "(1, 31, 81)\n",
      "[[[0. 0. 0. ... 0. 0. 0.]\n",
      "  [0. 0. 0. ... 0. 0. 0.]\n",
      "  [0. 0. 0. ... 0. 0. 0.]\n",
      "  ...\n",
      "  [1. 0. 0. ... 0. 0. 0.]\n",
      "  [1. 0. 0. ... 0. 0. 0.]\n",
      "  [1. 0. 0. ... 0. 0. 0.]]]\n",
      "1/1 [==============================] - 0s 23ms/step\n",
      "[array([[-4.0555552e-02,  4.3240763e-02,  2.3457021e-02,  3.5404065e-01,\n",
      "        -4.7533732e-02,  4.0441491e-02, -1.6049871e-02, -2.3987243e-02,\n",
      "         8.8933021e-01, -4.7908312e-01, -4.1155227e-02,  6.8775684e-02,\n",
      "         6.4656836e-01,  7.6221824e-01, -3.2385763e-02,  1.4538264e-02,\n",
      "         5.7292070e-02,  1.3200663e-01,  3.8182330e-01,  1.3659833e-02,\n",
      "        -2.2767730e-01,  9.6354052e-02,  1.8902946e-01, -8.0407399e-01,\n",
      "        -4.4921767e-02,  6.4190888e-01, -9.1861403e-01, -8.6485612e-01,\n",
      "         8.9718008e-01, -5.5965024e-01, -7.1408069e-03,  6.9823571e-02,\n",
      "         8.6099786e-01,  8.6183012e-01, -7.4295811e-03,  8.1147921e-01,\n",
      "        -4.1433904e-01,  9.1362119e-01,  8.9269018e-01,  6.0108468e-02,\n",
      "        -8.3017093e-01,  3.7429679e-02, -2.7616335e-02,  1.9242227e-01,\n",
      "         1.6841206e-01,  3.1375933e-01, -4.0870970e-01, -7.8986299e-01,\n",
      "        -8.0978245e-01, -1.1070215e-01,  6.8202466e-01,  2.5969667e-02,\n",
      "         5.5528779e-02,  1.2651713e-01,  6.7872882e-01,  1.2726749e-01,\n",
      "         7.1897288e-04,  1.4200521e-02, -5.9492296e-01,  2.8057316e-01,\n",
      "        -1.9565172e-02, -3.0022247e-03,  6.6876602e-01, -1.5492988e-01,\n",
      "         1.5317625e-02,  6.1531082e-02,  4.0498115e-02,  1.1378733e-01,\n",
      "        -3.1006587e-04,  1.3177528e-02, -1.7437255e-01,  9.6002765e-02,\n",
      "        -6.8451136e-02, -1.2032717e-01, -2.6279968e-01,  6.9666880e-01,\n",
      "         6.6596442e-03,  4.2399859e-01, -7.3676437e-01, -8.9619206e-03,\n",
      "         1.8859601e-02,  2.4796464e-01,  2.3493753e-01,  1.2909678e-01,\n",
      "         7.0896542e-01,  2.3838624e-03, -1.0430888e-01,  2.5383753e-01,\n",
      "        -4.6980146e-02,  5.4927951e-01, -1.2292807e-01, -1.5843669e-01,\n",
      "         2.0999201e-01, -4.2640349e-01,  1.5270074e-01, -6.8818003e-01,\n",
      "         1.3072232e-02,  9.8734617e-02, -6.5571523e-01,  8.3561176e-01,\n",
      "        -6.8912022e-02,  2.5660947e-02,  7.0463493e-02,  3.1267801e-01,\n",
      "         1.0292145e-01,  9.7412091e-01,  7.6486009e-01, -4.7363499e-01,\n",
      "         9.7200435e-01,  1.3562126e-02,  9.9966341e-01,  7.7262014e-01,\n",
      "        -1.8381372e-02,  8.9131564e-02, -6.8357617e-01, -2.7289706e-01,\n",
      "        -2.2002293e-01, -3.2151738e-01, -7.3824000e-01, -5.9693605e-01,\n",
      "        -6.8081483e-02,  3.6209396e-01, -8.1482750e-01,  6.7725319e-01,\n",
      "         7.5608003e-01,  6.0990649e-01, -4.9835755e-03, -7.3559242e-01,\n",
      "         3.0770192e-02, -1.3471762e-02,  1.4301074e-01, -1.8355692e-02,\n",
      "         7.2862975e-02, -1.2773283e-01,  5.3211872e-02, -1.6049680e-01,\n",
      "        -6.0840076e-01,  6.7768657e-01, -2.0781420e-02, -2.1292595e-02,\n",
      "        -4.0927574e-02,  4.4633043e-01,  5.9287176e-02,  8.0529638e-02,\n",
      "        -3.2882828e-01,  8.7871855e-01, -9.4938517e-01, -2.4166038e-02,\n",
      "        -1.1218544e-01, -6.7348428e-02, -9.5422074e-02,  9.4743037e-01,\n",
      "         8.6726332e-01,  2.4940651e-02,  9.2962879e-01, -1.9853268e-02,\n",
      "        -5.1826453e-01,  1.4795980e-01, -1.1939223e-01, -6.5219156e-03,\n",
      "        -5.7202864e-02, -3.9784350e-02,  2.4771717e-01, -4.8940811e-01,\n",
      "         2.9866841e-01,  1.0675192e-02,  5.1916814e-01,  4.1161901e-01,\n",
      "         4.7971256e-02,  3.3669913e-01,  9.5903593e-01,  9.6325594e-01,\n",
      "        -1.5212554e-01,  2.5823181e-02, -2.9630503e-01, -6.9672245e-01,\n",
      "         1.9778253e-01,  2.4754143e-01, -2.4164234e-01,  8.3382195e-01,\n",
      "        -3.8130939e-02,  8.5828036e-01, -5.0128043e-01,  4.6704467e-03,\n",
      "        -2.2770467e-01,  9.8922914e-01,  2.3423274e-01,  5.4089170e-02,\n",
      "        -8.6705554e-01, -8.8441300e-01, -9.3071657e-01, -9.4032109e-02,\n",
      "         2.5528064e-01,  8.7607664e-01,  9.7214706e-02, -4.2597417e-02,\n",
      "         2.9292655e-01, -4.1985352e-02,  1.2975281e-01,  2.3232974e-02,\n",
      "        -2.0068584e-01,  8.9648990e-03, -2.1606492e-01,  1.7119920e-02,\n",
      "         6.6569680e-01,  9.7875223e-02, -6.2542135e-01, -7.2615486e-01,\n",
      "         9.3460333e-01,  1.7956737e-02, -7.5295889e-01, -8.2042390e-01,\n",
      "        -1.6739216e-02, -9.2777467e-01, -4.7475252e-01,  4.5041671e-01,\n",
      "        -6.6216816e-03, -9.8208171e-01, -2.9303819e-01, -1.0565532e-01,\n",
      "        -8.3402711e-01,  2.3667226e-03, -7.4771918e-02,  5.6885602e-03,\n",
      "        -5.5489457e-01, -8.6925328e-02, -8.7683372e-02,  8.0019712e-01,\n",
      "         3.9333049e-02,  3.7085420e-01,  9.4461519e-01,  3.6956567e-02,\n",
      "        -5.0829029e-01, -1.6820922e-01,  4.5462921e-01, -2.5932744e-02,\n",
      "        -6.0704929e-01,  5.7841022e-03,  9.3326908e-01, -1.0178123e-01,\n",
      "         2.0481636e-01,  7.3415917e-01, -7.3240824e-02,  1.7118232e-01,\n",
      "        -1.4626464e-01,  4.5699272e-02,  3.2783714e-01,  4.3153103e-02,\n",
      "         1.9727279e-02,  5.2567929e-01, -6.2913942e-01,  4.5414219e-04,\n",
      "         6.7771667e-01,  9.4945854e-01,  5.5682082e-03, -6.2501299e-01]],\n",
      "      dtype=float32), array([[-8.13668060e+00,  5.26488876e+00,  4.21111822e+00,\n",
      "         3.69388270e+00, -9.74189222e-01,  3.35407674e-01,\n",
      "        -2.06389828e+01, -7.18408823e+00,  1.21811905e+01,\n",
      "        -8.56153965e+00, -3.94019932e-01,  5.93513298e+00,\n",
      "         9.58676720e+00,  1.51799536e+00, -3.29731330e-02,\n",
      "         1.35296621e+01,  9.52686119e+00,  5.81499577e+00,\n",
      "         1.08746147e+01,  5.51918602e+00, -9.83090973e+00,\n",
      "         9.68424082e-01,  2.67113948e+00, -7.43468428e+00,\n",
      "        -1.33094504e-01,  8.65036011e-01, -2.24612761e+00,\n",
      "        -2.60957909e+00,  2.32898450e+00, -6.93370819e-01,\n",
      "        -2.16368008e-02,  7.93289280e+00,  8.22150326e+00,\n",
      "         1.32023087e+01, -9.36810672e-02,  7.20683622e+00,\n",
      "        -2.71905518e+00,  5.30314875e+00,  1.46000135e+00,\n",
      "         1.60007019e+01, -1.89838715e+01,  8.58538270e-01,\n",
      "        -1.37035255e+01,  7.52076244e+00,  3.49636245e+00,\n",
      "         3.98342848e-01, -1.05960464e+01, -1.20962882e+00,\n",
      "        -3.30962920e+00, -1.33167963e+01,  1.32627611e+01,\n",
      "         9.86645699e+00,  6.61128238e-02,  4.17290068e+00,\n",
      "         4.94448519e+00,  7.61043072e+00,  1.93725377e-02,\n",
      "         1.53166384e-01, -1.03043156e+01,  1.68530388e+01,\n",
      "        -2.10730270e-01, -5.11001348e-02,  5.96392727e+00,\n",
      "        -1.68641448e-01,  6.84354544e-01,  1.10964336e+01,\n",
      "         3.58000731e+00,  5.96958208e+00, -1.51742098e-03,\n",
      "         1.49052544e+01, -1.81088543e+00,  2.25215569e+01,\n",
      "        -1.58932381e+01, -8.47329998e+00, -1.36796532e+01,\n",
      "         9.88710105e-01,  4.34882902e-02,  4.49838829e+00,\n",
      "        -4.31653547e+00, -6.60008416e-02,  1.13574057e+01,\n",
      "         9.72521496e+00,  6.26953745e+00,  5.18475294e+00,\n",
      "         1.04841161e+00,  4.59697628e+00, -1.21868536e-01,\n",
      "         8.92620182e+00, -8.59213257e+00,  1.73929524e+00,\n",
      "        -7.05228853e+00, -1.61544442e-01,  1.95815086e+01,\n",
      "        -2.70795608e+00,  5.08897603e-01, -6.98328972e+00,\n",
      "         2.35610466e+01,  2.83555150e+00, -7.96033478e+00,\n",
      "         7.42143869e+00, -9.33839130e+00,  1.82773876e+01,\n",
      "         2.83410931e+00,  1.54472895e+01,  1.04426250e+01,\n",
      "         1.14013081e+01,  9.76172733e+00, -6.04612589e+00,\n",
      "         2.31015754e+00,  5.37045114e-02,  6.53076792e+00,\n",
      "         3.00990629e+00, -1.16873770e+01,  6.44303608e+00,\n",
      "        -1.33838205e+01, -3.25150704e+00, -2.60419071e-01,\n",
      "        -7.37658882e+00, -1.58937132e+00, -7.79797363e+00,\n",
      "        -2.22713888e-01,  5.93443215e-01, -1.45818174e+00,\n",
      "         8.63791049e-01,  1.60356693e+01,  4.61094761e+00,\n",
      "        -2.29977816e-02, -7.09012604e+00,  2.95856619e+00,\n",
      "        -8.74450430e-02,  1.60980687e-01, -1.19108051e-01,\n",
      "         7.81586170e-02, -3.94339418e+00,  1.54613709e+00,\n",
      "        -3.67169523e+00, -1.24391117e+01,  1.09100943e+01,\n",
      "        -5.90410680e-02, -1.57471180e+01, -3.56996489e+00,\n",
      "         1.52195234e+01,  1.21650267e+01,  8.17840576e+00,\n",
      "        -1.72392597e+01,  1.45355582e+00, -3.08902025e+00,\n",
      "        -1.83203907e+01, -1.26995811e+01, -5.68845272e+00,\n",
      "        -5.37490368e+00,  1.97764504e+00,  3.94143152e+00,\n",
      "         7.27575254e+00,  2.65560198e+00, -1.48775377e+01,\n",
      "        -9.78034019e+00,  5.83410025e+00, -1.72826939e+01,\n",
      "        -2.34502792e+01, -1.49352169e+01, -8.40429068e-02,\n",
      "         7.98375082e+00, -1.54515543e+01,  1.83276081e+01,\n",
      "         4.42563519e-02,  5.83073080e-01,  9.81651020e+00,\n",
      "         9.32617474e+00,  2.13668861e+01,  8.02804661e+00,\n",
      "         2.53413653e+00, -2.04588337e+01,  1.82921791e+01,\n",
      "        -6.32018089e+00, -1.13112011e+01,  7.28404236e+00,\n",
      "         2.40553498e+00, -1.79042091e+01,  1.23575888e+01,\n",
      "        -5.02759933e+00,  1.64731312e+01, -1.05854197e+01,\n",
      "         2.44840831e-02, -1.79260368e+01,  2.99175167e+00,\n",
      "         3.03479940e-01,  1.12431822e+01, -7.52507830e+00,\n",
      "        -1.00690660e+01, -1.22417831e+01, -1.27848558e+01,\n",
      "         8.85504436e+00,  1.60995274e+01,  6.75204945e+00,\n",
      "        -1.37922859e+01,  2.10076904e+01, -1.26795216e+01,\n",
      "         1.76623297e+00,  6.43869713e-02, -1.03550100e+01,\n",
      "         8.10985184e+00, -1.24208593e+01,  8.92237425e-02,\n",
      "         1.48380117e+01,  4.00163031e+00, -2.61394954e+00,\n",
      "        -9.01027393e+00,  1.61292000e+01,  5.34043407e+00,\n",
      "        -2.76249671e+00, -6.23101759e+00, -1.10387936e+01,\n",
      "        -3.79843831e+00, -6.86989498e+00,  4.69291544e+00,\n",
      "        -5.59449978e-02, -2.71035719e+00, -2.34328723e+00,\n",
      "        -1.78054771e+01, -1.13805990e+01,  9.28124506e-03,\n",
      "        -1.27974778e-01,  2.08983168e-01, -1.87776871e+01,\n",
      "        -1.34779482e+01, -1.60679424e+00,  1.24592388e+00,\n",
      "         1.21521912e+01,  1.79642832e+00,  1.33164883e+01,\n",
      "         2.02559967e+01, -1.00255251e+01, -8.38618946e+00,\n",
      "         4.96230304e-01, -8.15491867e+00, -9.16691971e+00,\n",
      "         1.07697502e-01,  1.90015297e+01, -1.06038189e+01,\n",
      "         3.92568797e-01,  6.26228094e+00, -9.26286355e-02,\n",
      "         1.21861057e+01, -1.71282825e+01,  1.60331202e+00,\n",
      "         5.14653826e+00,  1.09227457e+01,  1.41287394e+01,\n",
      "         3.11894202e+00, -1.07398872e+01,  1.42745953e-02,\n",
      "         2.57485199e+00,  1.69784775e+01,  9.66983382e-03,\n",
      "        -8.39461899e+00]], dtype=float32)]\n"
     ]
    }
   ],
   "source": [
    "input_seq = encoder_input[3:4]\n",
    "print(input_seq.shape)\n",
    "print(input_seq)\n",
    "states_value = encoder_model.predict(input_seq)\n",
    "print(states_value)"
   ]
  },
  {
   "cell_type": "code",
   "execution_count": 50,
   "metadata": {},
   "outputs": [
    {
     "name": "stdout",
     "output_type": "stream",
     "text": [
      "(1, 1, 100)\n",
      "(2, 1, 256)\n",
      "[array([[[0., 1., 0., 0., 0., 0., 0., 0., 0., 0., 0., 0., 0., 0., 0., 0.,\n",
      "         0., 0., 0., 0., 0., 0., 0., 0., 0., 0., 0., 0., 0., 0., 0., 0.,\n",
      "         0., 0., 0., 0., 0., 0., 0., 0., 0., 0., 0., 0., 0., 0., 0., 0.,\n",
      "         0., 0., 0., 0., 0., 0., 0., 0., 0., 0., 0., 0., 0., 0., 0., 0.,\n",
      "         0., 0., 0., 0., 0., 0., 0., 0., 0., 0., 0., 0., 0., 0., 0., 0.,\n",
      "         0., 0., 0., 0., 0., 0., 0., 0., 0., 0., 0., 0., 0., 0., 0., 0.,\n",
      "         0., 0., 0., 0.]]]), array([[-4.0555552e-02,  4.3240763e-02,  2.3457021e-02,  3.5404065e-01,\n",
      "        -4.7533732e-02,  4.0441491e-02, -1.6049871e-02, -2.3987243e-02,\n",
      "         8.8933021e-01, -4.7908312e-01, -4.1155227e-02,  6.8775684e-02,\n",
      "         6.4656836e-01,  7.6221824e-01, -3.2385763e-02,  1.4538264e-02,\n",
      "         5.7292070e-02,  1.3200663e-01,  3.8182330e-01,  1.3659833e-02,\n",
      "        -2.2767730e-01,  9.6354052e-02,  1.8902946e-01, -8.0407399e-01,\n",
      "        -4.4921767e-02,  6.4190888e-01, -9.1861403e-01, -8.6485612e-01,\n",
      "         8.9718008e-01, -5.5965024e-01, -7.1408069e-03,  6.9823571e-02,\n",
      "         8.6099786e-01,  8.6183012e-01, -7.4295811e-03,  8.1147921e-01,\n",
      "        -4.1433904e-01,  9.1362119e-01,  8.9269018e-01,  6.0108468e-02,\n",
      "        -8.3017093e-01,  3.7429679e-02, -2.7616335e-02,  1.9242227e-01,\n",
      "         1.6841206e-01,  3.1375933e-01, -4.0870970e-01, -7.8986299e-01,\n",
      "        -8.0978245e-01, -1.1070215e-01,  6.8202466e-01,  2.5969667e-02,\n",
      "         5.5528779e-02,  1.2651713e-01,  6.7872882e-01,  1.2726749e-01,\n",
      "         7.1897288e-04,  1.4200521e-02, -5.9492296e-01,  2.8057316e-01,\n",
      "        -1.9565172e-02, -3.0022247e-03,  6.6876602e-01, -1.5492988e-01,\n",
      "         1.5317625e-02,  6.1531082e-02,  4.0498115e-02,  1.1378733e-01,\n",
      "        -3.1006587e-04,  1.3177528e-02, -1.7437255e-01,  9.6002765e-02,\n",
      "        -6.8451136e-02, -1.2032717e-01, -2.6279968e-01,  6.9666880e-01,\n",
      "         6.6596442e-03,  4.2399859e-01, -7.3676437e-01, -8.9619206e-03,\n",
      "         1.8859601e-02,  2.4796464e-01,  2.3493753e-01,  1.2909678e-01,\n",
      "         7.0896542e-01,  2.3838624e-03, -1.0430888e-01,  2.5383753e-01,\n",
      "        -4.6980146e-02,  5.4927951e-01, -1.2292807e-01, -1.5843669e-01,\n",
      "         2.0999201e-01, -4.2640349e-01,  1.5270074e-01, -6.8818003e-01,\n",
      "         1.3072232e-02,  9.8734617e-02, -6.5571523e-01,  8.3561176e-01,\n",
      "        -6.8912022e-02,  2.5660947e-02,  7.0463493e-02,  3.1267801e-01,\n",
      "         1.0292145e-01,  9.7412091e-01,  7.6486009e-01, -4.7363499e-01,\n",
      "         9.7200435e-01,  1.3562126e-02,  9.9966341e-01,  7.7262014e-01,\n",
      "        -1.8381372e-02,  8.9131564e-02, -6.8357617e-01, -2.7289706e-01,\n",
      "        -2.2002293e-01, -3.2151738e-01, -7.3824000e-01, -5.9693605e-01,\n",
      "        -6.8081483e-02,  3.6209396e-01, -8.1482750e-01,  6.7725319e-01,\n",
      "         7.5608003e-01,  6.0990649e-01, -4.9835755e-03, -7.3559242e-01,\n",
      "         3.0770192e-02, -1.3471762e-02,  1.4301074e-01, -1.8355692e-02,\n",
      "         7.2862975e-02, -1.2773283e-01,  5.3211872e-02, -1.6049680e-01,\n",
      "        -6.0840076e-01,  6.7768657e-01, -2.0781420e-02, -2.1292595e-02,\n",
      "        -4.0927574e-02,  4.4633043e-01,  5.9287176e-02,  8.0529638e-02,\n",
      "        -3.2882828e-01,  8.7871855e-01, -9.4938517e-01, -2.4166038e-02,\n",
      "        -1.1218544e-01, -6.7348428e-02, -9.5422074e-02,  9.4743037e-01,\n",
      "         8.6726332e-01,  2.4940651e-02,  9.2962879e-01, -1.9853268e-02,\n",
      "        -5.1826453e-01,  1.4795980e-01, -1.1939223e-01, -6.5219156e-03,\n",
      "        -5.7202864e-02, -3.9784350e-02,  2.4771717e-01, -4.8940811e-01,\n",
      "         2.9866841e-01,  1.0675192e-02,  5.1916814e-01,  4.1161901e-01,\n",
      "         4.7971256e-02,  3.3669913e-01,  9.5903593e-01,  9.6325594e-01,\n",
      "        -1.5212554e-01,  2.5823181e-02, -2.9630503e-01, -6.9672245e-01,\n",
      "         1.9778253e-01,  2.4754143e-01, -2.4164234e-01,  8.3382195e-01,\n",
      "        -3.8130939e-02,  8.5828036e-01, -5.0128043e-01,  4.6704467e-03,\n",
      "        -2.2770467e-01,  9.8922914e-01,  2.3423274e-01,  5.4089170e-02,\n",
      "        -8.6705554e-01, -8.8441300e-01, -9.3071657e-01, -9.4032109e-02,\n",
      "         2.5528064e-01,  8.7607664e-01,  9.7214706e-02, -4.2597417e-02,\n",
      "         2.9292655e-01, -4.1985352e-02,  1.2975281e-01,  2.3232974e-02,\n",
      "        -2.0068584e-01,  8.9648990e-03, -2.1606492e-01,  1.7119920e-02,\n",
      "         6.6569680e-01,  9.7875223e-02, -6.2542135e-01, -7.2615486e-01,\n",
      "         9.3460333e-01,  1.7956737e-02, -7.5295889e-01, -8.2042390e-01,\n",
      "        -1.6739216e-02, -9.2777467e-01, -4.7475252e-01,  4.5041671e-01,\n",
      "        -6.6216816e-03, -9.8208171e-01, -2.9303819e-01, -1.0565532e-01,\n",
      "        -8.3402711e-01,  2.3667226e-03, -7.4771918e-02,  5.6885602e-03,\n",
      "        -5.5489457e-01, -8.6925328e-02, -8.7683372e-02,  8.0019712e-01,\n",
      "         3.9333049e-02,  3.7085420e-01,  9.4461519e-01,  3.6956567e-02,\n",
      "        -5.0829029e-01, -1.6820922e-01,  4.5462921e-01, -2.5932744e-02,\n",
      "        -6.0704929e-01,  5.7841022e-03,  9.3326908e-01, -1.0178123e-01,\n",
      "         2.0481636e-01,  7.3415917e-01, -7.3240824e-02,  1.7118232e-01,\n",
      "        -1.4626464e-01,  4.5699272e-02,  3.2783714e-01,  4.3153103e-02,\n",
      "         1.9727279e-02,  5.2567929e-01, -6.2913942e-01,  4.5414219e-04,\n",
      "         6.7771667e-01,  9.4945854e-01,  5.5682082e-03, -6.2501299e-01]],\n",
      "      dtype=float32), array([[-8.13668060e+00,  5.26488876e+00,  4.21111822e+00,\n",
      "         3.69388270e+00, -9.74189222e-01,  3.35407674e-01,\n",
      "        -2.06389828e+01, -7.18408823e+00,  1.21811905e+01,\n",
      "        -8.56153965e+00, -3.94019932e-01,  5.93513298e+00,\n",
      "         9.58676720e+00,  1.51799536e+00, -3.29731330e-02,\n",
      "         1.35296621e+01,  9.52686119e+00,  5.81499577e+00,\n",
      "         1.08746147e+01,  5.51918602e+00, -9.83090973e+00,\n",
      "         9.68424082e-01,  2.67113948e+00, -7.43468428e+00,\n",
      "        -1.33094504e-01,  8.65036011e-01, -2.24612761e+00,\n",
      "        -2.60957909e+00,  2.32898450e+00, -6.93370819e-01,\n",
      "        -2.16368008e-02,  7.93289280e+00,  8.22150326e+00,\n",
      "         1.32023087e+01, -9.36810672e-02,  7.20683622e+00,\n",
      "        -2.71905518e+00,  5.30314875e+00,  1.46000135e+00,\n",
      "         1.60007019e+01, -1.89838715e+01,  8.58538270e-01,\n",
      "        -1.37035255e+01,  7.52076244e+00,  3.49636245e+00,\n",
      "         3.98342848e-01, -1.05960464e+01, -1.20962882e+00,\n",
      "        -3.30962920e+00, -1.33167963e+01,  1.32627611e+01,\n",
      "         9.86645699e+00,  6.61128238e-02,  4.17290068e+00,\n",
      "         4.94448519e+00,  7.61043072e+00,  1.93725377e-02,\n",
      "         1.53166384e-01, -1.03043156e+01,  1.68530388e+01,\n",
      "        -2.10730270e-01, -5.11001348e-02,  5.96392727e+00,\n",
      "        -1.68641448e-01,  6.84354544e-01,  1.10964336e+01,\n",
      "         3.58000731e+00,  5.96958208e+00, -1.51742098e-03,\n",
      "         1.49052544e+01, -1.81088543e+00,  2.25215569e+01,\n",
      "        -1.58932381e+01, -8.47329998e+00, -1.36796532e+01,\n",
      "         9.88710105e-01,  4.34882902e-02,  4.49838829e+00,\n",
      "        -4.31653547e+00, -6.60008416e-02,  1.13574057e+01,\n",
      "         9.72521496e+00,  6.26953745e+00,  5.18475294e+00,\n",
      "         1.04841161e+00,  4.59697628e+00, -1.21868536e-01,\n",
      "         8.92620182e+00, -8.59213257e+00,  1.73929524e+00,\n",
      "        -7.05228853e+00, -1.61544442e-01,  1.95815086e+01,\n",
      "        -2.70795608e+00,  5.08897603e-01, -6.98328972e+00,\n",
      "         2.35610466e+01,  2.83555150e+00, -7.96033478e+00,\n",
      "         7.42143869e+00, -9.33839130e+00,  1.82773876e+01,\n",
      "         2.83410931e+00,  1.54472895e+01,  1.04426250e+01,\n",
      "         1.14013081e+01,  9.76172733e+00, -6.04612589e+00,\n",
      "         2.31015754e+00,  5.37045114e-02,  6.53076792e+00,\n",
      "         3.00990629e+00, -1.16873770e+01,  6.44303608e+00,\n",
      "        -1.33838205e+01, -3.25150704e+00, -2.60419071e-01,\n",
      "        -7.37658882e+00, -1.58937132e+00, -7.79797363e+00,\n",
      "        -2.22713888e-01,  5.93443215e-01, -1.45818174e+00,\n",
      "         8.63791049e-01,  1.60356693e+01,  4.61094761e+00,\n",
      "        -2.29977816e-02, -7.09012604e+00,  2.95856619e+00,\n",
      "        -8.74450430e-02,  1.60980687e-01, -1.19108051e-01,\n",
      "         7.81586170e-02, -3.94339418e+00,  1.54613709e+00,\n",
      "        -3.67169523e+00, -1.24391117e+01,  1.09100943e+01,\n",
      "        -5.90410680e-02, -1.57471180e+01, -3.56996489e+00,\n",
      "         1.52195234e+01,  1.21650267e+01,  8.17840576e+00,\n",
      "        -1.72392597e+01,  1.45355582e+00, -3.08902025e+00,\n",
      "        -1.83203907e+01, -1.26995811e+01, -5.68845272e+00,\n",
      "        -5.37490368e+00,  1.97764504e+00,  3.94143152e+00,\n",
      "         7.27575254e+00,  2.65560198e+00, -1.48775377e+01,\n",
      "        -9.78034019e+00,  5.83410025e+00, -1.72826939e+01,\n",
      "        -2.34502792e+01, -1.49352169e+01, -8.40429068e-02,\n",
      "         7.98375082e+00, -1.54515543e+01,  1.83276081e+01,\n",
      "         4.42563519e-02,  5.83073080e-01,  9.81651020e+00,\n",
      "         9.32617474e+00,  2.13668861e+01,  8.02804661e+00,\n",
      "         2.53413653e+00, -2.04588337e+01,  1.82921791e+01,\n",
      "        -6.32018089e+00, -1.13112011e+01,  7.28404236e+00,\n",
      "         2.40553498e+00, -1.79042091e+01,  1.23575888e+01,\n",
      "        -5.02759933e+00,  1.64731312e+01, -1.05854197e+01,\n",
      "         2.44840831e-02, -1.79260368e+01,  2.99175167e+00,\n",
      "         3.03479940e-01,  1.12431822e+01, -7.52507830e+00,\n",
      "        -1.00690660e+01, -1.22417831e+01, -1.27848558e+01,\n",
      "         8.85504436e+00,  1.60995274e+01,  6.75204945e+00,\n",
      "        -1.37922859e+01,  2.10076904e+01, -1.26795216e+01,\n",
      "         1.76623297e+00,  6.43869713e-02, -1.03550100e+01,\n",
      "         8.10985184e+00, -1.24208593e+01,  8.92237425e-02,\n",
      "         1.48380117e+01,  4.00163031e+00, -2.61394954e+00,\n",
      "        -9.01027393e+00,  1.61292000e+01,  5.34043407e+00,\n",
      "        -2.76249671e+00, -6.23101759e+00, -1.10387936e+01,\n",
      "        -3.79843831e+00, -6.86989498e+00,  4.69291544e+00,\n",
      "        -5.59449978e-02, -2.71035719e+00, -2.34328723e+00,\n",
      "        -1.78054771e+01, -1.13805990e+01,  9.28124506e-03,\n",
      "        -1.27974778e-01,  2.08983168e-01, -1.87776871e+01,\n",
      "        -1.34779482e+01, -1.60679424e+00,  1.24592388e+00,\n",
      "         1.21521912e+01,  1.79642832e+00,  1.33164883e+01,\n",
      "         2.02559967e+01, -1.00255251e+01, -8.38618946e+00,\n",
      "         4.96230304e-01, -8.15491867e+00, -9.16691971e+00,\n",
      "         1.07697502e-01,  1.90015297e+01, -1.06038189e+01,\n",
      "         3.92568797e-01,  6.26228094e+00, -9.26286355e-02,\n",
      "         1.21861057e+01, -1.71282825e+01,  1.60331202e+00,\n",
      "         5.14653826e+00,  1.09227457e+01,  1.41287394e+01,\n",
      "         3.11894202e+00, -1.07398872e+01,  1.42745953e-02,\n",
      "         2.57485199e+00,  1.69784775e+01,  9.66983382e-03,\n",
      "        -8.39461899e+00]], dtype=float32)]\n"
     ]
    }
   ],
   "source": [
    "target_seq = np.zeros((1,1,tar_vocab_size))\n",
    "target_seq[0,0, tar_to_index['\\t']] = 1\n",
    "print(np.array(target_seq).shape)\n",
    "print(np.array(states_value).shape)\n",
    "print([target_seq] + states_value)"
   ]
  },
  {
   "cell_type": "code",
   "execution_count": 51,
   "metadata": {},
   "outputs": [
    {
     "name": "stdout",
     "output_type": "stream",
     "text": [
      "1/1 [==============================] - 0s 381ms/step\n",
      "7\n"
     ]
    }
   ],
   "source": [
    "output_tokens, h, c = decoder_model.predict([target_seq] + states_value)\n",
    "\n",
    "sampled_token_index = np.argmax(output_tokens[0, -1, :])\n",
    "print(sampled_token_index)"
   ]
  },
  {
   "cell_type": "code",
   "execution_count": null,
   "metadata": {},
   "outputs": [],
   "source": []
  },
  {
   "cell_type": "code",
   "execution_count": 62,
   "metadata": {},
   "outputs": [
    {
     "name": "stdout",
     "output_type": "stream",
     "text": [
      "1/1 [==============================] - 0s 23ms/step\n",
      "1/1 [==============================] - 0s 28ms/step\n",
      "1/1 [==============================] - 0s 27ms/step\n",
      "1/1 [==============================] - 0s 27ms/step\n",
      "1/1 [==============================] - 0s 27ms/step\n",
      "1/1 [==============================] - 0s 26ms/step\n",
      "1/1 [==============================] - 0s 26ms/step\n",
      "1/1 [==============================] - 0s 26ms/step\n",
      "1/1 [==============================] - 0s 27ms/step\n",
      "1/1 [==============================] - 0s 27ms/step\n",
      "1/1 [==============================] - 0s 26ms/step\n",
      "1/1 [==============================] - 0s 26ms/step\n",
      "1/1 [==============================] - 0s 45ms/step\n",
      "1/1 [==============================] - 0s 27ms/step\n",
      "1/1 [==============================] - 0s 41ms/step\n",
      "1/1 [==============================] - 0s 33ms/step\n",
      "1/1 [==============================] - 0s 27ms/step\n",
      "1/1 [==============================] - 0s 27ms/step\n",
      "1/1 [==============================] - 0s 32ms/step\n",
      "1/1 [==============================] - 0s 26ms/step\n",
      "1/1 [==============================] - 0s 27ms/step\n",
      "1/1 [==============================] - 0s 26ms/step\n",
      "1/1 [==============================] - 0s 27ms/step\n",
      "1/1 [==============================] - 0s 28ms/step\n",
      "1/1 [==============================] - 0s 26ms/step\n",
      "1/1 [==============================] - 0s 26ms/step\n",
      "1/1 [==============================] - 0s 41ms/step\n",
      "1/1 [==============================] - 0s 26ms/step\n",
      "1/1 [==============================] - 0s 26ms/step\n",
      "1/1 [==============================] - 0s 28ms/step\n",
      "1/1 [==============================] - 0s 26ms/step\n",
      "1/1 [==============================] - 0s 27ms/step\n",
      "1/1 [==============================] - 0s 26ms/step\n",
      "1/1 [==============================] - 0s 26ms/step\n",
      "1/1 [==============================] - 0s 26ms/step\n",
      "1/1 [==============================] - 0s 27ms/step\n",
      "1/1 [==============================] - 0s 26ms/step\n",
      "1/1 [==============================] - 0s 27ms/step\n",
      "1/1 [==============================] - 0s 26ms/step\n",
      "1/1 [==============================] - 0s 26ms/step\n",
      "1/1 [==============================] - 0s 26ms/step\n",
      "1/1 [==============================] - 0s 27ms/step\n",
      "1/1 [==============================] - 0s 27ms/step\n",
      "1/1 [==============================] - 0s 26ms/step\n",
      "1/1 [==============================] - 0s 26ms/step\n",
      "1/1 [==============================] - 0s 26ms/step\n",
      "1/1 [==============================] - 0s 26ms/step\n",
      "1/1 [==============================] - 0s 27ms/step\n",
      "1/1 [==============================] - 0s 26ms/step\n",
      "1/1 [==============================] - 0s 33ms/step\n",
      "1/1 [==============================] - 0s 26ms/step\n",
      "1/1 [==============================] - 0s 28ms/step\n",
      "1/1 [==============================] - 0s 26ms/step\n",
      "1/1 [==============================] - 0s 26ms/step\n",
      "1/1 [==============================] - 0s 27ms/step\n",
      "1/1 [==============================] - 0s 26ms/step\n",
      "1/1 [==============================] - 0s 26ms/step\n",
      "1/1 [==============================] - 0s 26ms/step\n",
      "1/1 [==============================] - 0s 26ms/step\n",
      "1/1 [==============================] - 0s 26ms/step\n",
      "1/1 [==============================] - 0s 27ms/step\n",
      "1/1 [==============================] - 0s 26ms/step\n",
      "1/1 [==============================] - 0s 26ms/step\n",
      "1/1 [==============================] - 0s 26ms/step\n",
      "1/1 [==============================] - 0s 26ms/step\n",
      "1/1 [==============================] - 0s 26ms/step\n",
      "1/1 [==============================] - 0s 26ms/step\n",
      "1/1 [==============================] - 0s 27ms/step\n",
      "1/1 [==============================] - 0s 28ms/step\n",
      "1/1 [==============================] - 0s 27ms/step\n",
      "1/1 [==============================] - 0s 26ms/step\n",
      "1/1 [==============================] - 0s 26ms/step\n",
      "1/1 [==============================] - 0s 26ms/step\n",
      "1/1 [==============================] - 0s 27ms/step\n",
      "-----------------------------------\n",
      "Input : Go.\n",
      "Correct answer: áyase.\n",
      "Output : 3jDH999999ÁÁÁÁÁÁÁÁÁÁÁÁÁÁÁÁÁÁÁÁÁÁÁÁÁÁÁÁÁÁÁÁÁÁÁÁÁÁÁÁÁÁÁÁÁÁÁÁÁÁÁÁÁÁÁÁÁÁÁÁÁ\n",
      "1/1 [==============================] - 0s 22ms/step\n",
      "1/1 [==============================] - 0s 26ms/step\n",
      "1/1 [==============================] - 0s 26ms/step\n",
      "1/1 [==============================] - 0s 35ms/step\n",
      "1/1 [==============================] - 0s 27ms/step\n",
      "1/1 [==============================] - 0s 26ms/step\n",
      "1/1 [==============================] - 0s 26ms/step\n",
      "1/1 [==============================] - 0s 27ms/step\n",
      "1/1 [==============================] - 0s 27ms/step\n",
      "1/1 [==============================] - 0s 28ms/step\n",
      "1/1 [==============================] - 0s 26ms/step\n",
      "1/1 [==============================] - 0s 26ms/step\n",
      "1/1 [==============================] - 0s 27ms/step\n",
      "1/1 [==============================] - 0s 27ms/step\n",
      "1/1 [==============================] - 0s 27ms/step\n",
      "1/1 [==============================] - 0s 25ms/step\n",
      "1/1 [==============================] - 0s 26ms/step\n",
      "1/1 [==============================] - 0s 26ms/step\n",
      "1/1 [==============================] - 0s 26ms/step\n",
      "1/1 [==============================] - 0s 26ms/step\n",
      "1/1 [==============================] - 0s 27ms/step\n",
      "1/1 [==============================] - 0s 26ms/step\n",
      "1/1 [==============================] - 0s 26ms/step\n",
      "1/1 [==============================] - 0s 26ms/step\n",
      "1/1 [==============================] - 0s 26ms/step\n",
      "1/1 [==============================] - 0s 25ms/step\n",
      "1/1 [==============================] - 0s 27ms/step\n",
      "1/1 [==============================] - 0s 26ms/step\n",
      "1/1 [==============================] - 0s 26ms/step\n",
      "1/1 [==============================] - 0s 26ms/step\n",
      "1/1 [==============================] - 0s 26ms/step\n",
      "1/1 [==============================] - 0s 26ms/step\n",
      "1/1 [==============================] - 0s 26ms/step\n",
      "1/1 [==============================] - 0s 25ms/step\n",
      "1/1 [==============================] - 0s 26ms/step\n",
      "1/1 [==============================] - 0s 26ms/step\n",
      "1/1 [==============================] - 0s 26ms/step\n",
      "1/1 [==============================] - 0s 25ms/step\n",
      "1/1 [==============================] - 0s 27ms/step\n",
      "1/1 [==============================] - 0s 26ms/step\n",
      "1/1 [==============================] - 0s 26ms/step\n",
      "1/1 [==============================] - 0s 26ms/step\n",
      "1/1 [==============================] - 0s 26ms/step\n",
      "1/1 [==============================] - 0s 26ms/step\n",
      "1/1 [==============================] - 0s 26ms/step\n",
      "1/1 [==============================] - 0s 26ms/step\n",
      "1/1 [==============================] - 0s 26ms/step\n",
      "1/1 [==============================] - 0s 38ms/step\n",
      "1/1 [==============================] - 0s 26ms/step\n",
      "1/1 [==============================] - 0s 55ms/step\n",
      "1/1 [==============================] - 0s 26ms/step\n",
      "1/1 [==============================] - 0s 27ms/step\n",
      "1/1 [==============================] - 0s 26ms/step\n",
      "1/1 [==============================] - 0s 26ms/step\n",
      "1/1 [==============================] - 0s 26ms/step\n",
      "1/1 [==============================] - 0s 29ms/step\n",
      "1/1 [==============================] - 0s 27ms/step\n",
      "1/1 [==============================] - 0s 26ms/step\n",
      "1/1 [==============================] - 0s 28ms/step\n",
      "1/1 [==============================] - 0s 26ms/step\n",
      "1/1 [==============================] - 0s 34ms/step\n",
      "1/1 [==============================] - 0s 26ms/step\n",
      "1/1 [==============================] - 0s 26ms/step\n",
      "1/1 [==============================] - 0s 27ms/step\n",
      "1/1 [==============================] - 0s 26ms/step\n",
      "1/1 [==============================] - 0s 26ms/step\n",
      "1/1 [==============================] - 0s 27ms/step\n",
      "1/1 [==============================] - 0s 26ms/step\n",
      "1/1 [==============================] - 0s 26ms/step\n",
      "1/1 [==============================] - 0s 26ms/step\n",
      "1/1 [==============================] - 0s 27ms/step\n",
      "1/1 [==============================] - 0s 26ms/step\n",
      "1/1 [==============================] - 0s 27ms/step\n",
      "1/1 [==============================] - 0s 33ms/step\n",
      "-----------------------------------\n",
      "Input : Shoot!\n",
      "Correct answer: Disparad!\n",
      "Output : gDD''9999999$%%ÁÁÁÁÁÁÁÁÁÁÁÁÁÁÁÁÁÁÁÁÁÁÁÁÁÁÁÁÁÁÁÁÁÁÁÁÁÁÁÁÁÁÁÁÁÁÁÁÁÁÁÁÁÁÁÁ\n",
      "1/1 [==============================] - 0s 23ms/step\n",
      "1/1 [==============================] - 0s 26ms/step\n",
      "1/1 [==============================] - 0s 28ms/step\n"
     ]
    },
    {
     "name": "stdout",
     "output_type": "stream",
     "text": [
      "1/1 [==============================] - 0s 34ms/step\n",
      "1/1 [==============================] - 0s 27ms/step\n",
      "1/1 [==============================] - 0s 26ms/step\n",
      "1/1 [==============================] - 0s 27ms/step\n",
      "1/1 [==============================] - 0s 26ms/step\n",
      "1/1 [==============================] - 0s 26ms/step\n",
      "1/1 [==============================] - 0s 26ms/step\n",
      "1/1 [==============================] - 0s 26ms/step\n",
      "1/1 [==============================] - 0s 26ms/step\n",
      "1/1 [==============================] - 0s 26ms/step\n",
      "1/1 [==============================] - 0s 26ms/step\n",
      "1/1 [==============================] - 0s 34ms/step\n",
      "1/1 [==============================] - 0s 30ms/step\n",
      "1/1 [==============================] - 0s 26ms/step\n",
      "1/1 [==============================] - 0s 27ms/step\n",
      "1/1 [==============================] - 0s 26ms/step\n",
      "1/1 [==============================] - 0s 28ms/step\n",
      "1/1 [==============================] - 0s 27ms/step\n",
      "1/1 [==============================] - 0s 34ms/step\n",
      "1/1 [==============================] - 0s 27ms/step\n",
      "1/1 [==============================] - 0s 27ms/step\n",
      "1/1 [==============================] - 0s 26ms/step\n",
      "1/1 [==============================] - 0s 27ms/step\n",
      "1/1 [==============================] - 0s 28ms/step\n",
      "1/1 [==============================] - 0s 48ms/step\n",
      "1/1 [==============================] - 0s 26ms/step\n",
      "1/1 [==============================] - 0s 26ms/step\n",
      "1/1 [==============================] - 0s 27ms/step\n",
      "1/1 [==============================] - 0s 26ms/step\n",
      "1/1 [==============================] - 0s 27ms/step\n",
      "1/1 [==============================] - 0s 26ms/step\n",
      "1/1 [==============================] - 0s 36ms/step\n",
      "1/1 [==============================] - 0s 25ms/step\n",
      "1/1 [==============================] - 0s 25ms/step\n",
      "1/1 [==============================] - 0s 26ms/step\n",
      "1/1 [==============================] - 0s 26ms/step\n",
      "1/1 [==============================] - 0s 26ms/step\n",
      "1/1 [==============================] - 0s 26ms/step\n",
      "1/1 [==============================] - 0s 26ms/step\n",
      "1/1 [==============================] - 0s 26ms/step\n",
      "1/1 [==============================] - 0s 26ms/step\n",
      "1/1 [==============================] - 0s 26ms/step\n",
      "1/1 [==============================] - 0s 26ms/step\n",
      "1/1 [==============================] - 0s 26ms/step\n",
      "1/1 [==============================] - 0s 27ms/step\n",
      "1/1 [==============================] - 0s 26ms/step\n",
      "1/1 [==============================] - 0s 27ms/step\n",
      "1/1 [==============================] - 0s 27ms/step\n",
      "1/1 [==============================] - 0s 26ms/step\n",
      "1/1 [==============================] - 0s 28ms/step\n",
      "1/1 [==============================] - 0s 27ms/step\n",
      "1/1 [==============================] - 0s 27ms/step\n",
      "1/1 [==============================] - 0s 155ms/step\n",
      "1/1 [==============================] - 0s 24ms/step\n",
      "1/1 [==============================] - 0s 25ms/step\n",
      "1/1 [==============================] - 0s 24ms/step\n",
      "1/1 [==============================] - 0s 25ms/step\n",
      "1/1 [==============================] - 0s 25ms/step\n",
      "1/1 [==============================] - 0s 26ms/step\n",
      "1/1 [==============================] - 0s 25ms/step\n",
      "1/1 [==============================] - 0s 24ms/step\n",
      "1/1 [==============================] - 0s 25ms/step\n",
      "1/1 [==============================] - 0s 25ms/step\n",
      "1/1 [==============================] - 0s 25ms/step\n",
      "1/1 [==============================] - 0s 25ms/step\n",
      "1/1 [==============================] - 0s 25ms/step\n",
      "1/1 [==============================] - 0s 25ms/step\n",
      "1/1 [==============================] - 0s 25ms/step\n",
      "1/1 [==============================] - 0s 25ms/step\n",
      "1/1 [==============================] - 0s 25ms/step\n",
      "1/1 [==============================] - 0s 24ms/step\n",
      "-----------------------------------\n",
      "Input : I wept.\n",
      "Correct answer: loré.\n",
      "Output : gND8nHD8,$S%%ÁÁÁÁÁÁÁÁÁÁÁÁÁÁÁÁÁÁÁÁÁÁÁÁÁÁÁÁÁÁÁÁÁÁÁÁÁÁÁÁÁÁÁÁÁÁÁÁÁÁÁÁÁÁÁÁÁÁ\n",
      "1/1 [==============================] - 0s 22ms/step\n",
      "1/1 [==============================] - 0s 25ms/step\n",
      "1/1 [==============================] - 0s 24ms/step\n",
      "1/1 [==============================] - 0s 24ms/step\n",
      "1/1 [==============================] - 0s 24ms/step\n",
      "1/1 [==============================] - 0s 25ms/step\n",
      "1/1 [==============================] - 0s 25ms/step\n",
      "1/1 [==============================] - 0s 25ms/step\n",
      "1/1 [==============================] - 0s 26ms/step\n",
      "1/1 [==============================] - 0s 25ms/step\n",
      "1/1 [==============================] - 0s 25ms/step\n",
      "1/1 [==============================] - 0s 24ms/step\n",
      "1/1 [==============================] - 0s 24ms/step\n",
      "1/1 [==============================] - 0s 25ms/step\n",
      "1/1 [==============================] - 0s 25ms/step\n",
      "1/1 [==============================] - 0s 25ms/step\n",
      "1/1 [==============================] - 0s 25ms/step\n",
      "1/1 [==============================] - 0s 25ms/step\n",
      "1/1 [==============================] - 0s 25ms/step\n",
      "1/1 [==============================] - 0s 25ms/step\n",
      "1/1 [==============================] - 0s 26ms/step\n",
      "1/1 [==============================] - 0s 25ms/step\n",
      "1/1 [==============================] - 0s 25ms/step\n",
      "1/1 [==============================] - 0s 25ms/step\n",
      "1/1 [==============================] - 0s 24ms/step\n",
      "1/1 [==============================] - 0s 25ms/step\n",
      "1/1 [==============================] - 0s 24ms/step\n",
      "1/1 [==============================] - 0s 25ms/step\n",
      "1/1 [==============================] - 0s 25ms/step\n",
      "1/1 [==============================] - 0s 25ms/step\n",
      "1/1 [==============================] - 0s 24ms/step\n",
      "1/1 [==============================] - 0s 26ms/step\n",
      "1/1 [==============================] - 0s 26ms/step\n",
      "1/1 [==============================] - 0s 25ms/step\n",
      "1/1 [==============================] - 0s 25ms/step\n",
      "1/1 [==============================] - 0s 26ms/step\n",
      "1/1 [==============================] - 0s 26ms/step\n",
      "1/1 [==============================] - 0s 26ms/step\n",
      "1/1 [==============================] - 0s 25ms/step\n",
      "1/1 [==============================] - 0s 26ms/step\n",
      "1/1 [==============================] - 0s 25ms/step\n",
      "1/1 [==============================] - 0s 26ms/step\n",
      "1/1 [==============================] - 0s 25ms/step\n",
      "1/1 [==============================] - 0s 25ms/step\n",
      "1/1 [==============================] - 0s 26ms/step\n",
      "1/1 [==============================] - 0s 27ms/step\n",
      "1/1 [==============================] - 0s 25ms/step\n",
      "1/1 [==============================] - 0s 28ms/step\n",
      "1/1 [==============================] - 0s 28ms/step\n",
      "1/1 [==============================] - 0s 27ms/step\n",
      "1/1 [==============================] - 0s 26ms/step\n",
      "1/1 [==============================] - 0s 26ms/step\n",
      "1/1 [==============================] - 0s 25ms/step\n",
      "1/1 [==============================] - 0s 26ms/step\n",
      "1/1 [==============================] - 0s 40ms/step\n",
      "1/1 [==============================] - 0s 27ms/step\n",
      "1/1 [==============================] - 0s 26ms/step\n",
      "1/1 [==============================] - 0s 36ms/step\n",
      "1/1 [==============================] - 0s 27ms/step\n",
      "1/1 [==============================] - 0s 26ms/step\n",
      "1/1 [==============================] - 0s 26ms/step\n",
      "1/1 [==============================] - 0s 26ms/step\n",
      "1/1 [==============================] - 0s 27ms/step\n",
      "1/1 [==============================] - 0s 27ms/step\n",
      "1/1 [==============================] - 0s 26ms/step\n",
      "1/1 [==============================] - 0s 29ms/step\n",
      "1/1 [==============================] - 0s 26ms/step\n",
      "1/1 [==============================] - 0s 26ms/step\n",
      "1/1 [==============================] - 0s 26ms/step\n",
      "1/1 [==============================] - 0s 27ms/step\n",
      "1/1 [==============================] - 0s 26ms/step\n",
      "1/1 [==============================] - 0s 26ms/step\n",
      "1/1 [==============================] - 0s 27ms/step\n",
      "1/1 [==============================] - 0s 26ms/step\n",
      "-----------------------------------\n",
      "Input : Who ran?\n",
      "Correct answer: Quién corría?\n",
      "Output : 3jD9S99S99999ÁÁÁÁÁÁÁÁÁÁÁÁÁÁÁÁÁÁÁÁÁÁÁÁÁÁÁÁÁÁÁÁÁÁÁÁÁÁÁÁÁÁÁÁÁÁÁÁÁÁÁÁÁÁÁÁÁÁ\n",
      "1/1 [==============================] - 0s 22ms/step\n",
      "1/1 [==============================] - 0s 26ms/step\n",
      "1/1 [==============================] - 0s 26ms/step\n",
      "1/1 [==============================] - 0s 26ms/step\n",
      "1/1 [==============================] - 0s 26ms/step\n",
      "1/1 [==============================] - 0s 26ms/step\n"
     ]
    },
    {
     "name": "stdout",
     "output_type": "stream",
     "text": [
      "1/1 [==============================] - 0s 26ms/step\n",
      "1/1 [==============================] - 0s 27ms/step\n",
      "1/1 [==============================] - 0s 26ms/step\n",
      "1/1 [==============================] - 0s 26ms/step\n",
      "1/1 [==============================] - 0s 27ms/step\n",
      "1/1 [==============================] - 0s 26ms/step\n",
      "1/1 [==============================] - 0s 26ms/step\n",
      "1/1 [==============================] - 0s 26ms/step\n",
      "1/1 [==============================] - 0s 26ms/step\n",
      "1/1 [==============================] - 0s 26ms/step\n",
      "1/1 [==============================] - 0s 26ms/step\n",
      "1/1 [==============================] - 0s 27ms/step\n",
      "1/1 [==============================] - 0s 27ms/step\n",
      "1/1 [==============================] - 0s 26ms/step\n",
      "1/1 [==============================] - 0s 26ms/step\n",
      "1/1 [==============================] - 0s 26ms/step\n",
      "1/1 [==============================] - 0s 26ms/step\n",
      "1/1 [==============================] - 0s 27ms/step\n",
      "1/1 [==============================] - 0s 26ms/step\n",
      "1/1 [==============================] - 0s 27ms/step\n",
      "1/1 [==============================] - 0s 26ms/step\n",
      "1/1 [==============================] - 0s 25ms/step\n",
      "1/1 [==============================] - 0s 26ms/step\n",
      "1/1 [==============================] - 0s 30ms/step\n",
      "1/1 [==============================] - 0s 26ms/step\n",
      "1/1 [==============================] - 0s 26ms/step\n",
      "1/1 [==============================] - 0s 26ms/step\n",
      "1/1 [==============================] - 0s 26ms/step\n",
      "1/1 [==============================] - 0s 26ms/step\n",
      "1/1 [==============================] - 0s 27ms/step\n",
      "1/1 [==============================] - 0s 26ms/step\n",
      "1/1 [==============================] - 0s 27ms/step\n",
      "1/1 [==============================] - 0s 26ms/step\n",
      "1/1 [==============================] - 0s 26ms/step\n",
      "1/1 [==============================] - 0s 28ms/step\n",
      "1/1 [==============================] - 0s 27ms/step\n",
      "1/1 [==============================] - 0s 28ms/step\n",
      "1/1 [==============================] - 0s 26ms/step\n",
      "1/1 [==============================] - 0s 27ms/step\n",
      "1/1 [==============================] - 0s 29ms/step\n",
      "1/1 [==============================] - 0s 28ms/step\n",
      "1/1 [==============================] - 0s 27ms/step\n",
      "1/1 [==============================] - 0s 26ms/step\n",
      "1/1 [==============================] - 0s 27ms/step\n",
      "1/1 [==============================] - 0s 26ms/step\n",
      "1/1 [==============================] - 0s 26ms/step\n",
      "1/1 [==============================] - 0s 27ms/step\n",
      "1/1 [==============================] - 0s 27ms/step\n",
      "1/1 [==============================] - 0s 27ms/step\n",
      "1/1 [==============================] - 0s 33ms/step\n",
      "1/1 [==============================] - 0s 27ms/step\n",
      "1/1 [==============================] - 0s 27ms/step\n",
      "1/1 [==============================] - 0s 27ms/step\n",
      "1/1 [==============================] - 0s 26ms/step\n",
      "1/1 [==============================] - 0s 27ms/step\n",
      "1/1 [==============================] - 0s 27ms/step\n",
      "1/1 [==============================] - 0s 27ms/step\n",
      "1/1 [==============================] - 0s 27ms/step\n",
      "1/1 [==============================] - 0s 26ms/step\n",
      "1/1 [==============================] - 0s 27ms/step\n",
      "1/1 [==============================] - 0s 27ms/step\n",
      "1/1 [==============================] - 0s 26ms/step\n",
      "1/1 [==============================] - 0s 27ms/step\n",
      "1/1 [==============================] - 0s 27ms/step\n",
      "1/1 [==============================] - 0s 28ms/step\n",
      "1/1 [==============================] - 0s 29ms/step\n",
      "1/1 [==============================] - 0s 27ms/step\n",
      "1/1 [==============================] - 0s 27ms/step\n",
      "-----------------------------------\n",
      "Input : Stay home.\n",
      "Correct answer: uédate en casa.\n",
      "Output : 3jDtD9999999ÁÁÁÁÁÁÁÁÁÁÁÁÁÁÁÁÁÁÁÁÁÁÁÁÁÁÁÁÁÁÁÁÁÁÁÁÁÁÁÁÁÁÁÁÁÁÁÁÁÁÁÁÁÁÁÁÁÁÁ\n"
     ]
    }
   ],
   "source": [
    "for seq_index in [3,50,100,300,1001] : \n",
    "    input_seq = encoder_input[seq_index:seq_index+1]\n",
    "    decoded_sentence = decode_sequence(input_seq)\n",
    "    print(35 * \"-\")\n",
    "    print('Input :', lines.src[seq_index])\n",
    "    print('Correct answer:', lines.tar[seq_index][2:len(lines.tar[seq_index])-1])\n",
    "    print('Output :', decoded_sentence[1:len(decoded_sentence)-1]) "
   ]
  },
  {
   "cell_type": "code",
   "execution_count": null,
   "metadata": {},
   "outputs": [],
   "source": []
  },
  {
   "cell_type": "code",
   "execution_count": 58,
   "metadata": {},
   "outputs": [],
   "source": [
    "def text_input_preprocessing(input_sentence) :\n",
    "    incoded = []\n",
    "    \n",
    "    for word in input_sentence :\n",
    "        incoded.append(src_to_index[word])\n",
    "        \n",
    "    incoded = pad_sequences([incoded], maxlen=max_src_len, padding=\"post\")\n",
    "    test_input = to_categorical(incoded)\n",
    "    \n",
    "    return test_input"
   ]
  },
  {
   "cell_type": "code",
   "execution_count": 59,
   "metadata": {},
   "outputs": [
    {
     "name": "stdout",
     "output_type": "stream",
     "text": [
      "(1, 31, 74)\n",
      "1/1 [==============================] - 0s 355ms/step\n",
      "1/1 [==============================] - 0s 26ms/step\n",
      "1/1 [==============================] - 0s 26ms/step\n",
      "1/1 [==============================] - 0s 26ms/step\n",
      "1/1 [==============================] - 0s 26ms/step\n",
      "1/1 [==============================] - 0s 26ms/step\n",
      "1/1 [==============================] - 0s 26ms/step\n",
      "1/1 [==============================] - 0s 26ms/step\n",
      "1/1 [==============================] - 0s 26ms/step\n",
      "1/1 [==============================] - 0s 25ms/step\n",
      "1/1 [==============================] - 0s 27ms/step\n",
      "1/1 [==============================] - 0s 27ms/step\n",
      "1/1 [==============================] - 0s 27ms/step\n",
      "1/1 [==============================] - 0s 28ms/step\n",
      "1/1 [==============================] - 0s 26ms/step\n",
      "1/1 [==============================] - 0s 26ms/step\n",
      "1/1 [==============================] - 0s 26ms/step\n",
      "1/1 [==============================] - 0s 26ms/step\n",
      "1/1 [==============================] - 0s 27ms/step\n",
      "1/1 [==============================] - 0s 26ms/step\n",
      "1/1 [==============================] - 0s 26ms/step\n",
      "1/1 [==============================] - 0s 27ms/step\n",
      "1/1 [==============================] - 0s 26ms/step\n",
      "1/1 [==============================] - 0s 26ms/step\n",
      "1/1 [==============================] - 0s 27ms/step\n",
      "1/1 [==============================] - 0s 25ms/step\n",
      "1/1 [==============================] - 0s 27ms/step\n",
      "1/1 [==============================] - 0s 30ms/step\n",
      "1/1 [==============================] - 0s 26ms/step\n",
      "1/1 [==============================] - 0s 28ms/step\n",
      "1/1 [==============================] - 0s 26ms/step\n",
      "1/1 [==============================] - 0s 27ms/step\n",
      "1/1 [==============================] - 0s 26ms/step\n",
      "1/1 [==============================] - 0s 26ms/step\n",
      "1/1 [==============================] - 0s 32ms/step\n",
      "1/1 [==============================] - 0s 27ms/step\n",
      "1/1 [==============================] - 0s 26ms/step\n",
      "1/1 [==============================] - 0s 26ms/step\n",
      "1/1 [==============================] - 0s 26ms/step\n",
      "1/1 [==============================] - 0s 26ms/step\n",
      "1/1 [==============================] - 0s 27ms/step\n",
      "1/1 [==============================] - 0s 27ms/step\n",
      "1/1 [==============================] - 0s 26ms/step\n",
      "1/1 [==============================] - 0s 27ms/step\n",
      "1/1 [==============================] - 0s 26ms/step\n",
      "1/1 [==============================] - 0s 26ms/step\n",
      "1/1 [==============================] - 0s 26ms/step\n",
      "1/1 [==============================] - 0s 26ms/step\n",
      "1/1 [==============================] - 0s 25ms/step\n",
      "1/1 [==============================] - 0s 26ms/step\n",
      "1/1 [==============================] - 0s 26ms/step\n",
      "1/1 [==============================] - 0s 25ms/step\n",
      "1/1 [==============================] - 0s 26ms/step\n",
      "1/1 [==============================] - 0s 26ms/step\n",
      "1/1 [==============================] - 0s 26ms/step\n",
      "1/1 [==============================] - 0s 26ms/step\n",
      "1/1 [==============================] - 0s 26ms/step\n",
      "1/1 [==============================] - 0s 27ms/step\n",
      "1/1 [==============================] - 0s 26ms/step\n",
      "1/1 [==============================] - 0s 28ms/step\n",
      "1/1 [==============================] - 0s 27ms/step\n",
      "1/1 [==============================] - 0s 26ms/step\n",
      "1/1 [==============================] - 0s 26ms/step\n",
      "1/1 [==============================] - 0s 26ms/step\n",
      "1/1 [==============================] - 0s 26ms/step\n",
      "1/1 [==============================] - 0s 26ms/step\n",
      "1/1 [==============================] - 0s 26ms/step\n",
      "1/1 [==============================] - 0s 31ms/step\n",
      "1/1 [==============================] - 0s 27ms/step\n",
      "1/1 [==============================] - 0s 26ms/step\n",
      "1/1 [==============================] - 0s 29ms/step\n",
      "1/1 [==============================] - 0s 27ms/step\n",
      "1/1 [==============================] - 0s 27ms/step\n",
      "1/1 [==============================] - 0s 29ms/step\n",
      "SZHD/,,,,,yyCb?ÁÁÁÁÁÁÁÁÁÁÁÁÁÁÁÁÁÁÁÁÁÁÁÁÁÁÁÁÁÁÁÁÁÁÁÁÁÁÁÁÁÁÁÁÁÁÁÁÁÁÁÁÁÁÁÁÁÁ\n"
     ]
    }
   ],
   "source": [
    "test = \"I am student. nice to meet you!\"\n",
    "\n",
    "test_input = text_input_preprocessing(test)\n",
    "print(test_input.shape)\n",
    "print(decode_sequence(test_input))"
   ]
  },
  {
   "cell_type": "code",
   "execution_count": null,
   "metadata": {},
   "outputs": [],
   "source": []
  }
 ],
 "metadata": {
  "accelerator": "GPU",
  "colab": {
   "authorship_tag": "ABX9TyORksIhmLALwN3EwVb0RqWA",
   "include_colab_link": true,
   "mount_file_id": "1Vyebt81Yboszze1PMH87J_BRUzbWkY1G",
   "provenance": []
  },
  "gpuClass": "standard",
  "kernelspec": {
   "display_name": "Python 3",
   "language": "python",
   "name": "python3"
  },
  "language_info": {
   "codemirror_mode": {
    "name": "ipython",
    "version": 3
   },
   "file_extension": ".py",
   "mimetype": "text/x-python",
   "name": "python",
   "nbconvert_exporter": "python",
   "pygments_lexer": "ipython3",
   "version": "3.8.5"
  }
 },
 "nbformat": 4,
 "nbformat_minor": 1
}
