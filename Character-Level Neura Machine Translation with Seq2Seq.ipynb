{
  "nbformat": 4,
  "nbformat_minor": 0,
  "metadata": {
    "colab": {
      "provenance": [],
      "mount_file_id": "1Vyebt81Yboszze1PMH87J_BRUzbWkY1G",
      "authorship_tag": "ABX9TyORksIhmLALwN3EwVb0RqWA",
      "include_colab_link": true
    },
    "kernelspec": {
      "name": "python3",
      "display_name": "Python 3"
    },
    "language_info": {
      "name": "python"
    },
    "accelerator": "GPU",
    "gpuClass": "standard"
  },
  "cells": [
    {
      "cell_type": "markdown",
      "metadata": {
        "id": "view-in-github",
        "colab_type": "text"
      },
      "source": [
        "<a href=\"https://colab.research.google.com/github/Sion1225/Study-Deeplearning-NLP/blob/master/Character-Level%20Neura%20Machine%20Translation%20with%20Seq2Seq.ipynb\" target=\"_parent\"><img src=\"https://colab.research.google.com/assets/colab-badge.svg\" alt=\"Open In Colab\"/></a>"
      ]
    },
    {
      "cell_type": "markdown",
      "source": [
        "Dataset is from \"http://www.manythings.org/anki\""
      ],
      "metadata": {
        "id": "uuzGyqlPydz3"
      }
    },
    {
      "cell_type": "markdown",
      "source": [
        "#Pre-processing"
      ],
      "metadata": {
        "id": "6ZHEiExhsDny"
      }
    },
    {
      "cell_type": "code",
      "execution_count": 1,
      "metadata": {
        "id": "51GWF3AQxBZP"
      },
      "outputs": [],
      "source": [
        "\"\"\"\n",
        "import os\n",
        "import shutil\n",
        "import zipfile\n",
        "\"\"\"\n",
        "\n",
        "import pandas as pd\n",
        "import tensorflow as tf\n",
        "import urllib3\n",
        "from tensorflow.keras.preprocessing.sequence import pad_sequences\n",
        "from tensorflow.keras.utils import to_categorical"
      ]
    },
    {
      "cell_type": "code",
      "source": [
        "\"\"\"\n",
        "http = urllib3.PoolManager()\n",
        "url ='http://www.manythings.org/anki/fra-eng.zip'\n",
        "filename = 'fra-eng.zip'\n",
        "path = os.getcwd()\n",
        "zipfilename = os.path.join(path, filename)\n",
        "with http.request('GET', url, preload_content=False) as r, open(zipfilename, 'wb') as out_file:       \n",
        "    shutil.copyfileobj(r, out_file)\n",
        "\n",
        "with zipfile.ZipFile(zipfilename, 'r') as zip_ref:\n",
        "    zip_ref.extractall(path)\n",
        "\"\"\""
      ],
      "metadata": {
        "colab": {
          "base_uri": "https://localhost:8080/",
          "height": 90
        },
        "id": "higkx6fvx8cU",
        "outputId": "14d1ee67-5ba6-4662-ce23-7691d3d4eb0a"
      },
      "execution_count": 2,
      "outputs": [
        {
          "output_type": "execute_result",
          "data": {
            "text/plain": [
              "\"\\nhttp = urllib3.PoolManager()\\nurl ='http://www.manythings.org/anki/fra-eng.zip'\\nfilename = 'fra-eng.zip'\\npath = os.getcwd()\\nzipfilename = os.path.join(path, filename)\\nwith http.request('GET', url, preload_content=False) as r, open(zipfilename, 'wb') as out_file:       \\n    shutil.copyfileobj(r, out_file)\\n\\nwith zipfile.ZipFile(zipfilename, 'r') as zip_ref:\\n    zip_ref.extractall(path)\\n\""
            ],
            "application/vnd.google.colaboratory.intrinsic+json": {
              "type": "string"
            }
          },
          "metadata": {},
          "execution_count": 2
        }
      ]
    },
    {
      "cell_type": "code",
      "source": [
        "lines = pd.read_csv(\"/content/drive/MyDrive/GitHub/Study-Deeplearning-NLP/DataSet/spa.txt\", names=[\"src\", \"tar\", \"lic\"], sep='\\t')\n",
        "del lines[\"lic\"]\n",
        "print(\"Count of all semples : \", len(lines))"
      ],
      "metadata": {
        "colab": {
          "base_uri": "https://localhost:8080/"
        },
        "id": "vWFEnL7RyORc",
        "outputId": "c7f7f799-ac15-4d5c-8168-a29fe71b7fac"
      },
      "execution_count": 3,
      "outputs": [
        {
          "output_type": "stream",
          "name": "stdout",
          "text": [
            "Count of all semples :  139013\n"
          ]
        }
      ]
    },
    {
      "cell_type": "code",
      "source": [
        "lines = lines[:80000]"
      ],
      "metadata": {
        "id": "BGPkgYMsAUNP"
      },
      "execution_count": 4,
      "outputs": []
    },
    {
      "cell_type": "code",
      "source": [
        "print(lines[:5])"
      ],
      "metadata": {
        "colab": {
          "base_uri": "https://localhost:8080/"
        },
        "id": "kgmLooB6zVQX",
        "outputId": "8d40390a-ca3d-422f-a05a-737462eb8b3a"
      },
      "execution_count": 5,
      "outputs": [
        {
          "output_type": "stream",
          "name": "stdout",
          "text": [
            "   src      tar\n",
            "0  Go.      Ve.\n",
            "1  Go.    Vete.\n",
            "2  Go.    Vaya.\n",
            "3  Go.  Váyase.\n",
            "4  Hi.    Hola.\n"
          ]
        }
      ]
    },
    {
      "cell_type": "code",
      "source": [
        "lines.sample(10)"
      ],
      "metadata": {
        "colab": {
          "base_uri": "https://localhost:8080/",
          "height": 363
        },
        "id": "catV1UIk4gjf",
        "outputId": "898ff3c7-a247-4d3b-fa9b-3b5a85558beb"
      },
      "execution_count": 6,
      "outputs": [
        {
          "output_type": "execute_result",
          "data": {
            "text/plain": [
              "                                  src                                      tar\n",
              "20896             I'm very forgetful.                      Soy muy despistado.\n",
              "74607  The prisoners tried to escape.    Los prisioneros intentaron escaparse.\n",
              "62247    Do you need a place to stay?  ¿Necesitas un lugar en el que quedarte?\n",
              "6357                   Tom just died.                      Tom acaba de morir.\n",
              "33488          I ate chicken nuggets.                   Comí deditos de pollo.\n",
              "41251         Tom makes a difference.                 Tom marca la diferencia.\n",
              "49056       I thought you trusted me.                Creí que confiabas en mí.\n",
              "4966                   He is reading.                            Está leyendo.\n",
              "10069                I want that bag.                        Quiero esa bolsa.\n",
              "2230                     I hate milk.                           Odio la leche."
            ],
            "text/html": [
              "\n",
              "  <div id=\"df-108fb695-e1e4-4220-b729-eb234da7a916\">\n",
              "    <div class=\"colab-df-container\">\n",
              "      <div>\n",
              "<style scoped>\n",
              "    .dataframe tbody tr th:only-of-type {\n",
              "        vertical-align: middle;\n",
              "    }\n",
              "\n",
              "    .dataframe tbody tr th {\n",
              "        vertical-align: top;\n",
              "    }\n",
              "\n",
              "    .dataframe thead th {\n",
              "        text-align: right;\n",
              "    }\n",
              "</style>\n",
              "<table border=\"1\" class=\"dataframe\">\n",
              "  <thead>\n",
              "    <tr style=\"text-align: right;\">\n",
              "      <th></th>\n",
              "      <th>src</th>\n",
              "      <th>tar</th>\n",
              "    </tr>\n",
              "  </thead>\n",
              "  <tbody>\n",
              "    <tr>\n",
              "      <th>20896</th>\n",
              "      <td>I'm very forgetful.</td>\n",
              "      <td>Soy muy despistado.</td>\n",
              "    </tr>\n",
              "    <tr>\n",
              "      <th>74607</th>\n",
              "      <td>The prisoners tried to escape.</td>\n",
              "      <td>Los prisioneros intentaron escaparse.</td>\n",
              "    </tr>\n",
              "    <tr>\n",
              "      <th>62247</th>\n",
              "      <td>Do you need a place to stay?</td>\n",
              "      <td>¿Necesitas un lugar en el que quedarte?</td>\n",
              "    </tr>\n",
              "    <tr>\n",
              "      <th>6357</th>\n",
              "      <td>Tom just died.</td>\n",
              "      <td>Tom acaba de morir.</td>\n",
              "    </tr>\n",
              "    <tr>\n",
              "      <th>33488</th>\n",
              "      <td>I ate chicken nuggets.</td>\n",
              "      <td>Comí deditos de pollo.</td>\n",
              "    </tr>\n",
              "    <tr>\n",
              "      <th>41251</th>\n",
              "      <td>Tom makes a difference.</td>\n",
              "      <td>Tom marca la diferencia.</td>\n",
              "    </tr>\n",
              "    <tr>\n",
              "      <th>49056</th>\n",
              "      <td>I thought you trusted me.</td>\n",
              "      <td>Creí que confiabas en mí.</td>\n",
              "    </tr>\n",
              "    <tr>\n",
              "      <th>4966</th>\n",
              "      <td>He is reading.</td>\n",
              "      <td>Está leyendo.</td>\n",
              "    </tr>\n",
              "    <tr>\n",
              "      <th>10069</th>\n",
              "      <td>I want that bag.</td>\n",
              "      <td>Quiero esa bolsa.</td>\n",
              "    </tr>\n",
              "    <tr>\n",
              "      <th>2230</th>\n",
              "      <td>I hate milk.</td>\n",
              "      <td>Odio la leche.</td>\n",
              "    </tr>\n",
              "  </tbody>\n",
              "</table>\n",
              "</div>\n",
              "      <button class=\"colab-df-convert\" onclick=\"convertToInteractive('df-108fb695-e1e4-4220-b729-eb234da7a916')\"\n",
              "              title=\"Convert this dataframe to an interactive table.\"\n",
              "              style=\"display:none;\">\n",
              "        \n",
              "  <svg xmlns=\"http://www.w3.org/2000/svg\" height=\"24px\"viewBox=\"0 0 24 24\"\n",
              "       width=\"24px\">\n",
              "    <path d=\"M0 0h24v24H0V0z\" fill=\"none\"/>\n",
              "    <path d=\"M18.56 5.44l.94 2.06.94-2.06 2.06-.94-2.06-.94-.94-2.06-.94 2.06-2.06.94zm-11 1L8.5 8.5l.94-2.06 2.06-.94-2.06-.94L8.5 2.5l-.94 2.06-2.06.94zm10 10l.94 2.06.94-2.06 2.06-.94-2.06-.94-.94-2.06-.94 2.06-2.06.94z\"/><path d=\"M17.41 7.96l-1.37-1.37c-.4-.4-.92-.59-1.43-.59-.52 0-1.04.2-1.43.59L10.3 9.45l-7.72 7.72c-.78.78-.78 2.05 0 2.83L4 21.41c.39.39.9.59 1.41.59.51 0 1.02-.2 1.41-.59l7.78-7.78 2.81-2.81c.8-.78.8-2.07 0-2.86zM5.41 20L4 18.59l7.72-7.72 1.47 1.35L5.41 20z\"/>\n",
              "  </svg>\n",
              "      </button>\n",
              "      \n",
              "  <style>\n",
              "    .colab-df-container {\n",
              "      display:flex;\n",
              "      flex-wrap:wrap;\n",
              "      gap: 12px;\n",
              "    }\n",
              "\n",
              "    .colab-df-convert {\n",
              "      background-color: #E8F0FE;\n",
              "      border: none;\n",
              "      border-radius: 50%;\n",
              "      cursor: pointer;\n",
              "      display: none;\n",
              "      fill: #1967D2;\n",
              "      height: 32px;\n",
              "      padding: 0 0 0 0;\n",
              "      width: 32px;\n",
              "    }\n",
              "\n",
              "    .colab-df-convert:hover {\n",
              "      background-color: #E2EBFA;\n",
              "      box-shadow: 0px 1px 2px rgba(60, 64, 67, 0.3), 0px 1px 3px 1px rgba(60, 64, 67, 0.15);\n",
              "      fill: #174EA6;\n",
              "    }\n",
              "\n",
              "    [theme=dark] .colab-df-convert {\n",
              "      background-color: #3B4455;\n",
              "      fill: #D2E3FC;\n",
              "    }\n",
              "\n",
              "    [theme=dark] .colab-df-convert:hover {\n",
              "      background-color: #434B5C;\n",
              "      box-shadow: 0px 1px 3px 1px rgba(0, 0, 0, 0.15);\n",
              "      filter: drop-shadow(0px 1px 2px rgba(0, 0, 0, 0.3));\n",
              "      fill: #FFFFFF;\n",
              "    }\n",
              "  </style>\n",
              "\n",
              "      <script>\n",
              "        const buttonEl =\n",
              "          document.querySelector('#df-108fb695-e1e4-4220-b729-eb234da7a916 button.colab-df-convert');\n",
              "        buttonEl.style.display =\n",
              "          google.colab.kernel.accessAllowed ? 'block' : 'none';\n",
              "\n",
              "        async function convertToInteractive(key) {\n",
              "          const element = document.querySelector('#df-108fb695-e1e4-4220-b729-eb234da7a916');\n",
              "          const dataTable =\n",
              "            await google.colab.kernel.invokeFunction('convertToInteractive',\n",
              "                                                     [key], {});\n",
              "          if (!dataTable) return;\n",
              "\n",
              "          const docLinkHtml = 'Like what you see? Visit the ' +\n",
              "            '<a target=\"_blank\" href=https://colab.research.google.com/notebooks/data_table.ipynb>data table notebook</a>'\n",
              "            + ' to learn more about interactive tables.';\n",
              "          element.innerHTML = '';\n",
              "          dataTable['output_type'] = 'display_data';\n",
              "          await google.colab.output.renderOutput(dataTable, element);\n",
              "          const docLink = document.createElement('div');\n",
              "          docLink.innerHTML = docLinkHtml;\n",
              "          element.appendChild(docLink);\n",
              "        }\n",
              "      </script>\n",
              "    </div>\n",
              "  </div>\n",
              "  "
            ]
          },
          "metadata": {},
          "execution_count": 6
        }
      ]
    },
    {
      "cell_type": "code",
      "source": [
        "lines.tar = lines.tar.apply(lambda x : \"\\t\" + x + \"\\n\")\n",
        "lines.sample(10)"
      ],
      "metadata": {
        "colab": {
          "base_uri": "https://localhost:8080/",
          "height": 363
        },
        "id": "ehb8KVJ04rR0",
        "outputId": "444f746a-5200-4534-c3f5-e80e01a92937"
      },
      "execution_count": 7,
      "outputs": [
        {
          "output_type": "execute_result",
          "data": {
            "text/plain": [
              "                               src  \\\n",
              "61007  Tom swims better than I do.   \n",
              "53285   How do I open this window?   \n",
              "30867        They live downstairs.   \n",
              "261                       Push it.   \n",
              "40074      Please sweep the floor.   \n",
              "3123                 Are you hurt?   \n",
              "18662           We're defenseless.   \n",
              "54010   I think most of it's true.   \n",
              "60833  Tom is looking at me funny.   \n",
              "48592    I found out where she is.   \n",
              "\n",
              "                                               tar  \n",
              "61007                 \\tTomás nada mejor que yo.\\n  \n",
              "53285                 \\t¿Cómo abro esta ventana?\\n  \n",
              "30867               \\tViven en el piso de abajo.\\n  \n",
              "261                                 \\tEmpújenlo.\\n  \n",
              "40074       \\tHagan el favor de barrer el suelo.\\n  \n",
              "3123                            \\t¿Estás herida?\\n  \n",
              "18662                      \\tEstamos indefensos.\\n  \n",
              "54010       \\tCreo que la mayor parte es cierta.\\n  \n",
              "60833  \\tTom me está mirando de una manera rara.\\n  \n",
              "48592                \\tAverigüé dónde está ella.\\n  "
            ],
            "text/html": [
              "\n",
              "  <div id=\"df-52bcc64c-7d74-497d-a8aa-2e89285a8baa\">\n",
              "    <div class=\"colab-df-container\">\n",
              "      <div>\n",
              "<style scoped>\n",
              "    .dataframe tbody tr th:only-of-type {\n",
              "        vertical-align: middle;\n",
              "    }\n",
              "\n",
              "    .dataframe tbody tr th {\n",
              "        vertical-align: top;\n",
              "    }\n",
              "\n",
              "    .dataframe thead th {\n",
              "        text-align: right;\n",
              "    }\n",
              "</style>\n",
              "<table border=\"1\" class=\"dataframe\">\n",
              "  <thead>\n",
              "    <tr style=\"text-align: right;\">\n",
              "      <th></th>\n",
              "      <th>src</th>\n",
              "      <th>tar</th>\n",
              "    </tr>\n",
              "  </thead>\n",
              "  <tbody>\n",
              "    <tr>\n",
              "      <th>61007</th>\n",
              "      <td>Tom swims better than I do.</td>\n",
              "      <td>\\tTomás nada mejor que yo.\\n</td>\n",
              "    </tr>\n",
              "    <tr>\n",
              "      <th>53285</th>\n",
              "      <td>How do I open this window?</td>\n",
              "      <td>\\t¿Cómo abro esta ventana?\\n</td>\n",
              "    </tr>\n",
              "    <tr>\n",
              "      <th>30867</th>\n",
              "      <td>They live downstairs.</td>\n",
              "      <td>\\tViven en el piso de abajo.\\n</td>\n",
              "    </tr>\n",
              "    <tr>\n",
              "      <th>261</th>\n",
              "      <td>Push it.</td>\n",
              "      <td>\\tEmpújenlo.\\n</td>\n",
              "    </tr>\n",
              "    <tr>\n",
              "      <th>40074</th>\n",
              "      <td>Please sweep the floor.</td>\n",
              "      <td>\\tHagan el favor de barrer el suelo.\\n</td>\n",
              "    </tr>\n",
              "    <tr>\n",
              "      <th>3123</th>\n",
              "      <td>Are you hurt?</td>\n",
              "      <td>\\t¿Estás herida?\\n</td>\n",
              "    </tr>\n",
              "    <tr>\n",
              "      <th>18662</th>\n",
              "      <td>We're defenseless.</td>\n",
              "      <td>\\tEstamos indefensos.\\n</td>\n",
              "    </tr>\n",
              "    <tr>\n",
              "      <th>54010</th>\n",
              "      <td>I think most of it's true.</td>\n",
              "      <td>\\tCreo que la mayor parte es cierta.\\n</td>\n",
              "    </tr>\n",
              "    <tr>\n",
              "      <th>60833</th>\n",
              "      <td>Tom is looking at me funny.</td>\n",
              "      <td>\\tTom me está mirando de una manera rara.\\n</td>\n",
              "    </tr>\n",
              "    <tr>\n",
              "      <th>48592</th>\n",
              "      <td>I found out where she is.</td>\n",
              "      <td>\\tAverigüé dónde está ella.\\n</td>\n",
              "    </tr>\n",
              "  </tbody>\n",
              "</table>\n",
              "</div>\n",
              "      <button class=\"colab-df-convert\" onclick=\"convertToInteractive('df-52bcc64c-7d74-497d-a8aa-2e89285a8baa')\"\n",
              "              title=\"Convert this dataframe to an interactive table.\"\n",
              "              style=\"display:none;\">\n",
              "        \n",
              "  <svg xmlns=\"http://www.w3.org/2000/svg\" height=\"24px\"viewBox=\"0 0 24 24\"\n",
              "       width=\"24px\">\n",
              "    <path d=\"M0 0h24v24H0V0z\" fill=\"none\"/>\n",
              "    <path d=\"M18.56 5.44l.94 2.06.94-2.06 2.06-.94-2.06-.94-.94-2.06-.94 2.06-2.06.94zm-11 1L8.5 8.5l.94-2.06 2.06-.94-2.06-.94L8.5 2.5l-.94 2.06-2.06.94zm10 10l.94 2.06.94-2.06 2.06-.94-2.06-.94-.94-2.06-.94 2.06-2.06.94z\"/><path d=\"M17.41 7.96l-1.37-1.37c-.4-.4-.92-.59-1.43-.59-.52 0-1.04.2-1.43.59L10.3 9.45l-7.72 7.72c-.78.78-.78 2.05 0 2.83L4 21.41c.39.39.9.59 1.41.59.51 0 1.02-.2 1.41-.59l7.78-7.78 2.81-2.81c.8-.78.8-2.07 0-2.86zM5.41 20L4 18.59l7.72-7.72 1.47 1.35L5.41 20z\"/>\n",
              "  </svg>\n",
              "      </button>\n",
              "      \n",
              "  <style>\n",
              "    .colab-df-container {\n",
              "      display:flex;\n",
              "      flex-wrap:wrap;\n",
              "      gap: 12px;\n",
              "    }\n",
              "\n",
              "    .colab-df-convert {\n",
              "      background-color: #E8F0FE;\n",
              "      border: none;\n",
              "      border-radius: 50%;\n",
              "      cursor: pointer;\n",
              "      display: none;\n",
              "      fill: #1967D2;\n",
              "      height: 32px;\n",
              "      padding: 0 0 0 0;\n",
              "      width: 32px;\n",
              "    }\n",
              "\n",
              "    .colab-df-convert:hover {\n",
              "      background-color: #E2EBFA;\n",
              "      box-shadow: 0px 1px 2px rgba(60, 64, 67, 0.3), 0px 1px 3px 1px rgba(60, 64, 67, 0.15);\n",
              "      fill: #174EA6;\n",
              "    }\n",
              "\n",
              "    [theme=dark] .colab-df-convert {\n",
              "      background-color: #3B4455;\n",
              "      fill: #D2E3FC;\n",
              "    }\n",
              "\n",
              "    [theme=dark] .colab-df-convert:hover {\n",
              "      background-color: #434B5C;\n",
              "      box-shadow: 0px 1px 3px 1px rgba(0, 0, 0, 0.15);\n",
              "      filter: drop-shadow(0px 1px 2px rgba(0, 0, 0, 0.3));\n",
              "      fill: #FFFFFF;\n",
              "    }\n",
              "  </style>\n",
              "\n",
              "      <script>\n",
              "        const buttonEl =\n",
              "          document.querySelector('#df-52bcc64c-7d74-497d-a8aa-2e89285a8baa button.colab-df-convert');\n",
              "        buttonEl.style.display =\n",
              "          google.colab.kernel.accessAllowed ? 'block' : 'none';\n",
              "\n",
              "        async function convertToInteractive(key) {\n",
              "          const element = document.querySelector('#df-52bcc64c-7d74-497d-a8aa-2e89285a8baa');\n",
              "          const dataTable =\n",
              "            await google.colab.kernel.invokeFunction('convertToInteractive',\n",
              "                                                     [key], {});\n",
              "          if (!dataTable) return;\n",
              "\n",
              "          const docLinkHtml = 'Like what you see? Visit the ' +\n",
              "            '<a target=\"_blank\" href=https://colab.research.google.com/notebooks/data_table.ipynb>data table notebook</a>'\n",
              "            + ' to learn more about interactive tables.';\n",
              "          element.innerHTML = '';\n",
              "          dataTable['output_type'] = 'display_data';\n",
              "          await google.colab.output.renderOutput(dataTable, element);\n",
              "          const docLink = document.createElement('div');\n",
              "          docLink.innerHTML = docLinkHtml;\n",
              "          element.appendChild(docLink);\n",
              "        }\n",
              "      </script>\n",
              "    </div>\n",
              "  </div>\n",
              "  "
            ]
          },
          "metadata": {},
          "execution_count": 7
        }
      ]
    },
    {
      "cell_type": "code",
      "source": [
        "src_vocab = set()\n",
        "for line in lines.src :\n",
        "    for char in line :\n",
        "        src_vocab.add(char)\n",
        "\n",
        "tar_vocab = set()\n",
        "for line in lines.tar:\n",
        "    for char in line:\n",
        "        tar_vocab.add(char)"
      ],
      "metadata": {
        "id": "2t6lwLmEiC4l"
      },
      "execution_count": 8,
      "outputs": []
    },
    {
      "cell_type": "code",
      "source": [
        "src_vocab_size = len(src_vocab) + 1\n",
        "tar_vocab_size = len(tar_vocab) + 1\n",
        "print(\"Source sentences' char set :\",src_vocab_size)\n",
        "print(\"Target sentences' char set :\",tar_vocab_size)"
      ],
      "metadata": {
        "colab": {
          "base_uri": "https://localhost:8080/"
        },
        "id": "Iv-IaBYLxIxB",
        "outputId": "e612ea4f-17a7-48a9-d45c-61a370ed8be1"
      },
      "execution_count": 9,
      "outputs": [
        {
          "output_type": "stream",
          "name": "stdout",
          "text": [
            "Source sentences' char set : 81\n",
            "Target sentences' char set : 100\n"
          ]
        }
      ]
    },
    {
      "cell_type": "code",
      "source": [
        "print(src_vocab)\n",
        "print(tar_vocab)"
      ],
      "metadata": {
        "colab": {
          "base_uri": "https://localhost:8080/"
        },
        "id": "BaUaySWfxdew",
        "outputId": "1f743122-29e7-4076-cc87-f660a1ba8f33"
      },
      "execution_count": 10,
      "outputs": [
        {
          "output_type": "stream",
          "name": "stdout",
          "text": [
            "{'H', '€', 'é', '6', 'q', \"'\", '$', '7', 'X', 'F', 'p', 'V', 't', 'N', '0', 'Q', 'm', '4', ' ', 'Z', '°', 'j', 'E', 'h', 'J', 'R', '/', '%', 'u', 'B', 'k', '’', 'O', 'C', 'v', 'I', '!', '3', 'c', 'S', '1', 'a', 'D', '.', 'o', 'e', 's', ',', '2', 'g', '9', '5', 'U', 'r', 'n', '\"', 'b', '‘', 'w', 'x', 'K', 'G', 'P', 'd', 'l', 'Y', 'T', ':', 'W', '?', 'i', 'f', 'M', 'y', 'L', '8', 'z', 'A', '\\xa0', '-'}\n",
            "{'H', 'Á', '»', '€', 'é', '+', '6', '\\t', 'q', '(', '7', 'á', '¡', \"'\", '$', 'X', ')', 'ñ', 'F', 'É', 'p', 'V', '¿', 't', 'N', '0', 'Q', 'º', 'm', '4', '—', ' ', 'Z', '°', 'j', '«', 'E', 'h', 'J', '\\n', 'R', '/', '%', 'u', 'B', 'k', 'O', 'C', 'v', 'I', '!', '3', 'c', 'S', '1', 'a', 'D', '.', 'o', 'e', 's', ',', 'Ú', '2', 'g', '9', '5', 'U', 'r', 'n', '\"', 'b', 'Ó', 'с', 'w', 'x', 'í', 'ó', 'K', 'ü', 'G', 'P', 'd', 'l', 'Y', 'T', ':', 'W', 'ú', '?', 'i', 'f', 'M', 'y', 'L', '8', 'z', 'A', '-'}\n"
          ]
        }
      ]
    },
    {
      "cell_type": "code",
      "source": [
        "src_vocab = sorted(list(src_vocab))\n",
        "tar_vocab = sorted(list(tar_vocab))\n",
        "print(src_vocab[26:75])\n",
        "print(tar_vocab[26:75])"
      ],
      "metadata": {
        "colab": {
          "base_uri": "https://localhost:8080/"
        },
        "id": "Y7HMom5Oxgis",
        "outputId": "2d824287-0817-4471-d4fd-97b46e401c60"
      },
      "execution_count": 11,
      "outputs": [
        {
          "output_type": "stream",
          "name": "stdout",
          "text": [
            "['E', 'F', 'G', 'H', 'I', 'J', 'K', 'L', 'M', 'N', 'O', 'P', 'Q', 'R', 'S', 'T', 'U', 'V', 'W', 'X', 'Y', 'Z', 'a', 'b', 'c', 'd', 'e', 'f', 'g', 'h', 'i', 'j', 'k', 'l', 'm', 'n', 'o', 'p', 'q', 'r', 's', 't', 'u', 'v', 'w', 'x', 'y', 'z', '\\xa0']\n",
            "['?', 'A', 'B', 'C', 'D', 'E', 'F', 'G', 'H', 'I', 'J', 'K', 'L', 'M', 'N', 'O', 'P', 'Q', 'R', 'S', 'T', 'U', 'V', 'W', 'X', 'Y', 'Z', 'a', 'b', 'c', 'd', 'e', 'f', 'g', 'h', 'i', 'j', 'k', 'l', 'm', 'n', 'o', 'p', 'q', 'r', 's', 't', 'u', 'v']\n"
          ]
        }
      ]
    },
    {
      "cell_type": "code",
      "source": [
        "src_to_index = dict([(word, i+1) for i, word in enumerate(src_vocab)])\n",
        "tar_to_index = dict([(word, i+1) for i, word in enumerate(tar_vocab)])\n",
        "print(src_to_index)\n",
        "print(tar_to_index)"
      ],
      "metadata": {
        "id": "BeKJwuE0x29m",
        "colab": {
          "base_uri": "https://localhost:8080/"
        },
        "outputId": "fabb335c-7db0-4c06-8a58-ace0ecd6e9cf"
      },
      "execution_count": 12,
      "outputs": [
        {
          "output_type": "stream",
          "name": "stdout",
          "text": [
            "{' ': 1, '!': 2, '\"': 3, '$': 4, '%': 5, \"'\": 6, ',': 7, '-': 8, '.': 9, '/': 10, '0': 11, '1': 12, '2': 13, '3': 14, '4': 15, '5': 16, '6': 17, '7': 18, '8': 19, '9': 20, ':': 21, '?': 22, 'A': 23, 'B': 24, 'C': 25, 'D': 26, 'E': 27, 'F': 28, 'G': 29, 'H': 30, 'I': 31, 'J': 32, 'K': 33, 'L': 34, 'M': 35, 'N': 36, 'O': 37, 'P': 38, 'Q': 39, 'R': 40, 'S': 41, 'T': 42, 'U': 43, 'V': 44, 'W': 45, 'X': 46, 'Y': 47, 'Z': 48, 'a': 49, 'b': 50, 'c': 51, 'd': 52, 'e': 53, 'f': 54, 'g': 55, 'h': 56, 'i': 57, 'j': 58, 'k': 59, 'l': 60, 'm': 61, 'n': 62, 'o': 63, 'p': 64, 'q': 65, 'r': 66, 's': 67, 't': 68, 'u': 69, 'v': 70, 'w': 71, 'x': 72, 'y': 73, 'z': 74, '\\xa0': 75, '°': 76, 'é': 77, '‘': 78, '’': 79, '€': 80}\n",
            "{'\\t': 1, '\\n': 2, ' ': 3, '!': 4, '\"': 5, '$': 6, '%': 7, \"'\": 8, '(': 9, ')': 10, '+': 11, ',': 12, '-': 13, '.': 14, '/': 15, '0': 16, '1': 17, '2': 18, '3': 19, '4': 20, '5': 21, '6': 22, '7': 23, '8': 24, '9': 25, ':': 26, '?': 27, 'A': 28, 'B': 29, 'C': 30, 'D': 31, 'E': 32, 'F': 33, 'G': 34, 'H': 35, 'I': 36, 'J': 37, 'K': 38, 'L': 39, 'M': 40, 'N': 41, 'O': 42, 'P': 43, 'Q': 44, 'R': 45, 'S': 46, 'T': 47, 'U': 48, 'V': 49, 'W': 50, 'X': 51, 'Y': 52, 'Z': 53, 'a': 54, 'b': 55, 'c': 56, 'd': 57, 'e': 58, 'f': 59, 'g': 60, 'h': 61, 'i': 62, 'j': 63, 'k': 64, 'l': 65, 'm': 66, 'n': 67, 'o': 68, 'p': 69, 'q': 70, 'r': 71, 's': 72, 't': 73, 'u': 74, 'v': 75, 'w': 76, 'x': 77, 'y': 78, 'z': 79, '¡': 80, '«': 81, '°': 82, 'º': 83, '»': 84, '¿': 85, 'Á': 86, 'É': 87, 'Ó': 88, 'Ú': 89, 'á': 90, 'é': 91, 'í': 92, 'ñ': 93, 'ó': 94, 'ú': 95, 'ü': 96, 'с': 97, '—': 98, '€': 99}\n"
          ]
        }
      ]
    },
    {
      "cell_type": "code",
      "source": [
        "encoder_input = []\n",
        "\n",
        "for line in lines[\"src\"] :\n",
        "    encoded_line = []\n",
        "\n",
        "    for char in line :\n",
        "        encoded_line.append(src_to_index[char])\n",
        "    \n",
        "    encoder_input.append(encoded_line)\n",
        "\n",
        "print(\"Source sentences : \\n\", lines[\"src\"][:5])\n",
        "print(\"Encoded source sentences : \", encoder_input[:5])"
      ],
      "metadata": {
        "colab": {
          "base_uri": "https://localhost:8080/"
        },
        "id": "v8REjdu663YS",
        "outputId": "79b4bbe5-3a12-4e51-d9b2-af232233456a"
      },
      "execution_count": 13,
      "outputs": [
        {
          "output_type": "stream",
          "name": "stdout",
          "text": [
            "Source sentences : \n",
            " 0    Go.\n",
            "1    Go.\n",
            "2    Go.\n",
            "3    Go.\n",
            "4    Hi.\n",
            "Name: src, dtype: object\n",
            "Encoded source sentences :  [[29, 63, 9], [29, 63, 9], [29, 63, 9], [29, 63, 9], [30, 57, 9]]\n"
          ]
        }
      ]
    },
    {
      "cell_type": "code",
      "source": [
        "decoder_input = []\n",
        "\n",
        "for line in lines[\"tar\"] :\n",
        "  encoded_line = []\n",
        "\n",
        "  for char in line :\n",
        "    encoded_line.append(tar_to_index[char])\n",
        "\n",
        "  decoder_input.append(encoded_line)\n",
        "\n",
        "print(\"Target sentences : \\n\", lines[\"tar\"][:5])\n",
        "print(\"Encoded target sentences : \", decoder_input[:5])"
      ],
      "metadata": {
        "colab": {
          "base_uri": "https://localhost:8080/"
        },
        "id": "-fWMCySRj_Ia",
        "outputId": "26cfa9ba-4a44-4b79-9c42-6935772476a9"
      },
      "execution_count": 14,
      "outputs": [
        {
          "output_type": "stream",
          "name": "stdout",
          "text": [
            "Target sentences : \n",
            " 0        \\tVe.\\n\n",
            "1      \\tVete.\\n\n",
            "2      \\tVaya.\\n\n",
            "3    \\tVáyase.\\n\n",
            "4      \\tHola.\\n\n",
            "Name: tar, dtype: object\n",
            "Encoded target sentences :  [[1, 49, 58, 14, 2], [1, 49, 58, 73, 58, 14, 2], [1, 49, 54, 78, 54, 14, 2], [1, 49, 90, 78, 54, 72, 58, 14, 2], [1, 35, 68, 65, 54, 14, 2]]\n"
          ]
        }
      ]
    },
    {
      "cell_type": "code",
      "source": [
        "decoder_target = []\n",
        "\n",
        "for line in lines[\"tar\"] :\n",
        "    timestep = 0\n",
        "    encoded_line = []\n",
        "\n",
        "    for char in line :\n",
        "        if timestep > 0 :\n",
        "            encoded_line.append(tar_to_index[char])\n",
        "        timestep += 1\n",
        "    \n",
        "    decoder_target.append(encoded_line)\n",
        "\n",
        "print(\"Encoded target label sentences : \", decoder_target[:5])"
      ],
      "metadata": {
        "colab": {
          "base_uri": "https://localhost:8080/"
        },
        "id": "Qf9pQh6h24hm",
        "outputId": "fa4d471f-fcc1-4832-c161-6d3fd00a11f4"
      },
      "execution_count": 15,
      "outputs": [
        {
          "output_type": "stream",
          "name": "stdout",
          "text": [
            "Encoded target label sentences :  [[49, 58, 14, 2], [49, 58, 73, 58, 14, 2], [49, 54, 78, 54, 14, 2], [49, 90, 78, 54, 72, 58, 14, 2], [35, 68, 65, 54, 14, 2]]\n"
          ]
        }
      ]
    },
    {
      "cell_type": "code",
      "source": [
        "max_src_len = max([len(line) for line in lines.src])\n",
        "max_tar_len = max([len(line) for line in lines.tar])\n",
        "print('Source sentences maximum length :',max_src_len)\n",
        "print('Target sentences maximum length :',max_tar_len)"
      ],
      "metadata": {
        "colab": {
          "base_uri": "https://localhost:8080/"
        },
        "id": "N0ucux0G7y8b",
        "outputId": "6dd10384-8870-4bc5-cf78-842d2727b60f"
      },
      "execution_count": 16,
      "outputs": [
        {
          "output_type": "stream",
          "name": "stdout",
          "text": [
            "Source sentences maximum length : 31\n",
            "Target sentences maximum length : 72\n"
          ]
        }
      ]
    },
    {
      "cell_type": "code",
      "source": [
        "encoder_input = pad_sequences(encoder_input, maxlen=max_src_len, padding=\"post\")\n",
        "decoder_input = pad_sequences(decoder_input, maxlen=max_tar_len, padding='post')\n",
        "decoder_target = pad_sequences(decoder_target, maxlen=max_tar_len, padding='post')"
      ],
      "metadata": {
        "id": "FJqSr8KY8Fmy"
      },
      "execution_count": 17,
      "outputs": []
    },
    {
      "cell_type": "code",
      "source": [
        "pip install ray"
      ],
      "metadata": {
        "colab": {
          "base_uri": "https://localhost:8080/"
        },
        "id": "GRVgVQCuFPGW",
        "outputId": "48fbab43-918a-44b3-941c-0c718c0950d0"
      },
      "execution_count": 18,
      "outputs": [
        {
          "output_type": "stream",
          "name": "stdout",
          "text": [
            "Looking in indexes: https://pypi.org/simple, https://us-python.pkg.dev/colab-wheels/public/simple/\n",
            "Requirement already satisfied: ray in /usr/local/lib/python3.8/dist-packages (2.3.0)\n",
            "Requirement already satisfied: click>=7.0 in /usr/local/lib/python3.8/dist-packages (from ray) (7.1.2)\n",
            "Requirement already satisfied: frozenlist in /usr/local/lib/python3.8/dist-packages (from ray) (1.3.3)\n",
            "Requirement already satisfied: grpcio>=1.32.0 in /usr/local/lib/python3.8/dist-packages (from ray) (1.51.1)\n",
            "Requirement already satisfied: attrs in /usr/local/lib/python3.8/dist-packages (from ray) (22.2.0)\n",
            "Requirement already satisfied: virtualenv>=20.0.24 in /usr/local/lib/python3.8/dist-packages (from ray) (20.19.0)\n",
            "Requirement already satisfied: pyyaml in /usr/local/lib/python3.8/dist-packages (from ray) (6.0)\n",
            "Requirement already satisfied: filelock in /usr/local/lib/python3.8/dist-packages (from ray) (3.9.0)\n",
            "Requirement already satisfied: jsonschema in /usr/local/lib/python3.8/dist-packages (from ray) (4.3.3)\n",
            "Requirement already satisfied: numpy>=1.16 in /usr/local/lib/python3.8/dist-packages (from ray) (1.22.4)\n",
            "Requirement already satisfied: aiosignal in /usr/local/lib/python3.8/dist-packages (from ray) (1.3.1)\n",
            "Requirement already satisfied: requests in /usr/local/lib/python3.8/dist-packages (from ray) (2.25.1)\n",
            "Requirement already satisfied: protobuf!=3.19.5,>=3.15.3 in /usr/local/lib/python3.8/dist-packages (from ray) (3.19.6)\n",
            "Requirement already satisfied: msgpack<2.0.0,>=1.0.0 in /usr/local/lib/python3.8/dist-packages (from ray) (1.0.4)\n",
            "Requirement already satisfied: distlib<1,>=0.3.6 in /usr/local/lib/python3.8/dist-packages (from virtualenv>=20.0.24->ray) (0.3.6)\n",
            "Requirement already satisfied: platformdirs<4,>=2.4 in /usr/local/lib/python3.8/dist-packages (from virtualenv>=20.0.24->ray) (3.0.0)\n",
            "Requirement already satisfied: pyrsistent!=0.17.0,!=0.17.1,!=0.17.2,>=0.14.0 in /usr/local/lib/python3.8/dist-packages (from jsonschema->ray) (0.19.3)\n",
            "Requirement already satisfied: importlib-resources>=1.4.0 in /usr/local/lib/python3.8/dist-packages (from jsonschema->ray) (5.12.0)\n",
            "Requirement already satisfied: urllib3<1.27,>=1.21.1 in /usr/local/lib/python3.8/dist-packages (from requests->ray) (1.24.3)\n",
            "Requirement already satisfied: certifi>=2017.4.17 in /usr/local/lib/python3.8/dist-packages (from requests->ray) (2022.12.7)\n",
            "Requirement already satisfied: chardet<5,>=3.0.2 in /usr/local/lib/python3.8/dist-packages (from requests->ray) (4.0.0)\n",
            "Requirement already satisfied: idna<3,>=2.5 in /usr/local/lib/python3.8/dist-packages (from requests->ray) (2.10)\n",
            "Requirement already satisfied: zipp>=3.1.0 in /usr/local/lib/python3.8/dist-packages (from importlib-resources>=1.4.0->jsonschema->ray) (3.14.0)\n"
          ]
        }
      ]
    },
    {
      "cell_type": "code",
      "source": [
        "import ray\n",
        "ray.init()"
      ],
      "metadata": {
        "colab": {
          "base_uri": "https://localhost:8080/",
          "height": 80
        },
        "id": "9am6t1yEFYK0",
        "outputId": "9611b7d3-ab33-4eea-8290-171e457f81a4"
      },
      "execution_count": 19,
      "outputs": [
        {
          "output_type": "stream",
          "name": "stderr",
          "text": [
            "2023-02-25 16:44:14,287\tINFO worker.py:1553 -- Started a local Ray instance.\n"
          ]
        },
        {
          "output_type": "execute_result",
          "data": {
            "text/plain": [
              "RayContext(dashboard_url='', python_version='3.8.10', ray_version='2.3.0', ray_commit='cf7a56b4b0b648c324722df7c99c168e92ff0b45', address_info={'node_ip_address': '172.28.0.12', 'raylet_ip_address': '172.28.0.12', 'redis_address': None, 'object_store_address': '/tmp/ray/session_2023-02-25_16-44-10_452251_51189/sockets/plasma_store', 'raylet_socket_name': '/tmp/ray/session_2023-02-25_16-44-10_452251_51189/sockets/raylet', 'webui_url': '', 'session_dir': '/tmp/ray/session_2023-02-25_16-44-10_452251_51189', 'metrics_export_port': 65315, 'gcs_address': '172.28.0.12:62850', 'address': '172.28.0.12:62850', 'dashboard_agent_listen_port': 52365, 'node_id': '52a25fedf2b31bf199229df883608360b47705297fe3b9fef98c18da'})"
            ],
            "text/html": [
              "<div>\n",
              "    <div style=\"margin-left: 50px;display: flex;flex-direction: row;align-items: center\">\n",
              "        <h3 style=\"color: var(--jp-ui-font-color0)\">Ray</h3>\n",
              "        <svg version=\"1.1\" id=\"ray\" width=\"3em\" viewBox=\"0 0 144.5 144.6\" style=\"margin-left: 3em;margin-right: 3em\">\n",
              "            <g id=\"layer-1\">\n",
              "                <path fill=\"#00a2e9\" class=\"st0\" d=\"M97.3,77.2c-3.8-1.1-6.2,0.9-8.3,5.1c-3.5,6.8-9.9,9.9-17.4,9.6S58,88.1,54.8,81.2c-1.4-3-3-4-6.3-4.1\n",
              "                    c-5.6-0.1-9.9,0.1-13.1,6.4c-3.8,7.6-13.6,10.2-21.8,7.6C5.2,88.4-0.4,80.5,0,71.7c0.1-8.4,5.7-15.8,13.8-18.2\n",
              "                    c8.4-2.6,17.5,0.7,22.3,8c1.3,1.9,1.3,5.2,3.6,5.6c3.9,0.6,8,0.2,12,0.2c1.8,0,1.9-1.6,2.4-2.8c3.5-7.8,9.7-11.8,18-11.9\n",
              "                    c8.2-0.1,14.4,3.9,17.8,11.4c1.3,2.8,2.9,3.6,5.7,3.3c1-0.1,2,0.1,3,0c2.8-0.5,6.4,1.7,8.1-2.7s-2.3-5.5-4.1-7.5\n",
              "                    c-5.1-5.7-10.9-10.8-16.1-16.3C84,38,81.9,37.1,78,38.3C66.7,42,56.2,35.7,53,24.1C50.3,14,57.3,2.8,67.7,0.5\n",
              "                    C78.4-2,89,4.7,91.5,15.3c0.1,0.3,0.1,0.5,0.2,0.8c0.7,3.4,0.7,6.9-0.8,9.8c-1.7,3.2-0.8,5,1.5,7.2c6.7,6.5,13.3,13,19.8,19.7\n",
              "                    c1.8,1.8,3,2.1,5.5,1.2c9.1-3.4,17.9-0.6,23.4,7c4.8,6.9,4.6,16.1-0.4,22.9c-5.4,7.2-14.2,9.9-23.1,6.5c-2.3-0.9-3.5-0.6-5.1,1.1\n",
              "                    c-6.7,6.9-13.6,13.7-20.5,20.4c-1.8,1.8-2.5,3.2-1.4,5.9c3.5,8.7,0.3,18.6-7.7,23.6c-7.9,5-18.2,3.8-24.8-2.9\n",
              "                    c-6.4-6.4-7.4-16.2-2.5-24.3c4.9-7.8,14.5-11,23.1-7.8c3,1.1,4.7,0.5,6.9-1.7C91.7,98.4,98,92.3,104.2,86c1.6-1.6,4.1-2.7,2.6-6.2\n",
              "                    c-1.4-3.3-3.8-2.5-6.2-2.6C99.8,77.2,98.9,77.2,97.3,77.2z M72.1,29.7c5.5,0.1,9.9-4.3,10-9.8c0-0.1,0-0.2,0-0.3\n",
              "                    C81.8,14,77,9.8,71.5,10.2c-5,0.3-9,4.2-9.3,9.2c-0.2,5.5,4,10.1,9.5,10.3C71.8,29.7,72,29.7,72.1,29.7z M72.3,62.3\n",
              "                    c-5.4-0.1-9.9,4.2-10.1,9.7c0,0.2,0,0.3,0,0.5c0.2,5.4,4.5,9.7,9.9,10c5.1,0.1,9.9-4.7,10.1-9.8c0.2-5.5-4-10-9.5-10.3\n",
              "                    C72.6,62.3,72.4,62.3,72.3,62.3z M115,72.5c0.1,5.4,4.5,9.7,9.8,9.9c5.6-0.2,10-4.8,10-10.4c-0.2-5.4-4.6-9.7-10-9.7\n",
              "                    c-5.3-0.1-9.8,4.2-9.9,9.5C115,72.1,115,72.3,115,72.5z M19.5,62.3c-5.4,0.1-9.8,4.4-10,9.8c-0.1,5.1,5.2,10.4,10.2,10.3\n",
              "                    c5.6-0.2,10-4.9,9.8-10.5c-0.1-5.4-4.5-9.7-9.9-9.6C19.6,62.3,19.5,62.3,19.5,62.3z M71.8,134.6c5.9,0.2,10.3-3.9,10.4-9.6\n",
              "                    c0.5-5.5-3.6-10.4-9.1-10.8c-5.5-0.5-10.4,3.6-10.8,9.1c0,0.5,0,0.9,0,1.4c-0.2,5.3,4,9.8,9.3,10\n",
              "                    C71.6,134.6,71.7,134.6,71.8,134.6z\"/>\n",
              "            </g>\n",
              "        </svg>\n",
              "        <table>\n",
              "            <tr>\n",
              "                <td style=\"text-align: left\"><b>Python version:</b></td>\n",
              "                <td style=\"text-align: left\"><b>3.8.10</b></td>\n",
              "            </tr>\n",
              "            <tr>\n",
              "                <td style=\"text-align: left\"><b>Ray version:</b></td>\n",
              "                <td style=\"text-align: left\"><b> 2.3.0</b></td>\n",
              "            </tr>\n",
              "            \n",
              "        </table>\n",
              "    </div>\n",
              "</div>\n"
            ]
          },
          "metadata": {},
          "execution_count": 19
        }
      ]
    },
    {
      "cell_type": "code",
      "source": [
        "#One-Hot encoding (Character-level)\n",
        "@ray.remote\n",
        "def One_Hot(encoder_input, decoder_input, decoder_target) :\n",
        "    encoder_input = to_categorical(encoder_input)\n",
        "    decoder_input = to_categorical(decoder_input)\n",
        "    decoder_target = to_categorical(decoder_target)\n",
        "\n",
        "    return encoder_input, decoder_input, decoder_target\n",
        "\n",
        "encoder_input, decoder_input, decoder_target = ray.get(One_Hot.remote(encoder_input, decoder_input, decoder_target))"
      ],
      "metadata": {
        "id": "4NWUfiYY_iNt",
        "colab": {
          "base_uri": "https://localhost:8080/"
        },
        "outputId": "6337ebcb-1eb8-4b63-b6ba-36fa060f5d0d"
      },
      "execution_count": 20,
      "outputs": [
        {
          "output_type": "stream",
          "name": "stderr",
          "text": [
            "\u001b[2m\u001b[36m(pid=51525)\u001b[0m 2023-02-25 16:44:18.090830: W tensorflow/compiler/xla/stream_executor/platform/default/dso_loader.cc:64] Could not load dynamic library 'libnvinfer.so.7'; dlerror: libnvinfer.so.7: cannot open shared object file: No such file or directory; LD_LIBRARY_PATH: /usr/lib64-nvidia\n",
            "\u001b[2m\u001b[36m(pid=51525)\u001b[0m 2023-02-25 16:44:18.090918: W tensorflow/compiler/xla/stream_executor/platform/default/dso_loader.cc:64] Could not load dynamic library 'libnvinfer_plugin.so.7'; dlerror: libnvinfer_plugin.so.7: cannot open shared object file: No such file or directory; LD_LIBRARY_PATH: /usr/lib64-nvidia\n",
            "\u001b[2m\u001b[36m(pid=51525)\u001b[0m 2023-02-25 16:44:18.090931: W tensorflow/compiler/tf2tensorrt/utils/py_utils.cc:38] TF-TRT Warning: Cannot dlopen some TensorRT libraries. If you would like to use Nvidia GPU with TensorRT, please make sure the missing libraries mentioned above are installed properly.\n"
          ]
        }
      ]
    },
    {
      "cell_type": "code",
      "source": [
        "print(encoder_input[:3])\n",
        "ray.shutdown()"
      ],
      "metadata": {
        "id": "9YviNZ3qGPVl",
        "colab": {
          "base_uri": "https://localhost:8080/"
        },
        "outputId": "5179c5de-2519-46e3-a559-08997d72778c"
      },
      "execution_count": 21,
      "outputs": [
        {
          "output_type": "stream",
          "name": "stdout",
          "text": [
            "[[[0. 0. 0. ... 0. 0. 0.]\n",
            "  [0. 0. 0. ... 0. 0. 0.]\n",
            "  [0. 0. 0. ... 0. 0. 0.]\n",
            "  ...\n",
            "  [1. 0. 0. ... 0. 0. 0.]\n",
            "  [1. 0. 0. ... 0. 0. 0.]\n",
            "  [1. 0. 0. ... 0. 0. 0.]]\n",
            "\n",
            " [[0. 0. 0. ... 0. 0. 0.]\n",
            "  [0. 0. 0. ... 0. 0. 0.]\n",
            "  [0. 0. 0. ... 0. 0. 0.]\n",
            "  ...\n",
            "  [1. 0. 0. ... 0. 0. 0.]\n",
            "  [1. 0. 0. ... 0. 0. 0.]\n",
            "  [1. 0. 0. ... 0. 0. 0.]]\n",
            "\n",
            " [[0. 0. 0. ... 0. 0. 0.]\n",
            "  [0. 0. 0. ... 0. 0. 0.]\n",
            "  [0. 0. 0. ... 0. 0. 0.]\n",
            "  ...\n",
            "  [1. 0. 0. ... 0. 0. 0.]\n",
            "  [1. 0. 0. ... 0. 0. 0.]\n",
            "  [1. 0. 0. ... 0. 0. 0.]]]\n"
          ]
        }
      ]
    },
    {
      "cell_type": "code",
      "source": [
        "print(encoder_input.shape)\n",
        "print(max_src_len)\n",
        "print(src_vocab_size)"
      ],
      "metadata": {
        "colab": {
          "base_uri": "https://localhost:8080/"
        },
        "id": "zmpWH-9_bUED",
        "outputId": "5f95892f-9023-4b75-d0bc-2f8c18c62709"
      },
      "execution_count": 22,
      "outputs": [
        {
          "output_type": "stream",
          "name": "stdout",
          "text": [
            "(80000, 31, 81)\n",
            "31\n",
            "81\n"
          ]
        }
      ]
    },
    {
      "cell_type": "markdown",
      "source": [
        "#Model"
      ],
      "metadata": {
        "id": "Agj2OoL5HZxG"
      }
    },
    {
      "cell_type": "markdown",
      "source": [
        "###Training"
      ],
      "metadata": {
        "id": "YcQ_4x2qqeEH"
      }
    },
    {
      "cell_type": "code",
      "source": [
        "from tensorflow.keras.layers import Input, LSTM, Embedding, Dense\n",
        "from tensorflow.keras.models import Model\n",
        "import numpy as np"
      ],
      "metadata": {
        "id": "07TNTcgnHK7z"
      },
      "execution_count": 23,
      "outputs": []
    },
    {
      "cell_type": "code",
      "source": [
        "#Encoder\n",
        "encoder_inputs = Input(shape=(max_src_len, src_vocab_size))\n",
        "\n",
        "encoder_lstm = LSTM(units=256, return_state=True)\n",
        "encoder_outputs, state_h, state_c = encoder_lstm(encoder_inputs)\n",
        "\n",
        "encoder_states = [state_h, state_c]"
      ],
      "metadata": {
        "id": "f96GO4tyILpN"
      },
      "execution_count": 24,
      "outputs": []
    },
    {
      "cell_type": "code",
      "source": [
        "#Decoder\n",
        "decoder_inputs = Input(shape=(max_tar_len, tar_vocab_size))\n",
        "\n",
        "decoder_lstm = LSTM(units=256, return_sequences=True)\n",
        "decoder_outputs = decoder_lstm(decoder_inputs, initial_state=encoder_states)\n",
        "\n",
        "decoder_softmax_layer = Dense(tar_vocab_size, activation=\"softmax\")\n",
        "decoder_outputs = decoder_softmax_layer(decoder_outputs)"
      ],
      "metadata": {
        "id": "p_SRksUGPR0A"
      },
      "execution_count": 36,
      "outputs": []
    },
    {
      "cell_type": "code",
      "source": [
        "#Model Combine & Compile\n",
        "model = Model([encoder_inputs, decoder_inputs], decoder_outputs)\n",
        "model.compile(optimizer=\"Nadam\", loss=\"categorical_crossentropy\", metrics=[\"accuracy\"])"
      ],
      "metadata": {
        "id": "BzJf5F-mb1PH"
      },
      "execution_count": 26,
      "outputs": []
    },
    {
      "cell_type": "code",
      "source": [
        "model.fit(x=[encoder_input, decoder_input], y=decoder_target, batch_size=64, epochs=35, validation_split=0.2)"
      ],
      "metadata": {
        "colab": {
          "base_uri": "https://localhost:8080/"
        },
        "id": "pI4RkyTycLx6",
        "outputId": "d018a5a8-c70f-4575-a2bd-d66ed150c10b"
      },
      "execution_count": 27,
      "outputs": [
        {
          "output_type": "stream",
          "name": "stdout",
          "text": [
            "Epoch 1/35\n",
            "1000/1000 [==============================] - 33s 23ms/step - loss: 0.7790 - accuracy: 0.7811 - val_loss: 0.8422 - val_accuracy: 0.7419\n",
            "Epoch 2/35\n",
            "1000/1000 [==============================] - 16s 16ms/step - loss: 0.5480 - accuracy: 0.8323 - val_loss: 0.7253 - val_accuracy: 0.7786\n",
            "Epoch 3/35\n",
            "1000/1000 [==============================] - 15s 15ms/step - loss: 0.4799 - accuracy: 0.8541 - val_loss: 0.6564 - val_accuracy: 0.8005\n",
            "Epoch 4/35\n",
            "1000/1000 [==============================] - 16s 16ms/step - loss: 0.4349 - accuracy: 0.8686 - val_loss: 0.6071 - val_accuracy: 0.8169\n",
            "Epoch 5/35\n",
            "1000/1000 [==============================] - 16s 16ms/step - loss: 0.3999 - accuracy: 0.8796 - val_loss: 0.5695 - val_accuracy: 0.8278\n",
            "Epoch 6/35\n",
            "1000/1000 [==============================] - 16s 16ms/step - loss: 0.3721 - accuracy: 0.8881 - val_loss: 0.5415 - val_accuracy: 0.8366\n",
            "Epoch 7/35\n",
            "1000/1000 [==============================] - 16s 16ms/step - loss: 0.3494 - accuracy: 0.8949 - val_loss: 0.5180 - val_accuracy: 0.8440\n",
            "Epoch 8/35\n",
            "1000/1000 [==============================] - 15s 15ms/step - loss: 0.3310 - accuracy: 0.9003 - val_loss: 0.4993 - val_accuracy: 0.8496\n",
            "Epoch 9/35\n",
            "1000/1000 [==============================] - 15s 15ms/step - loss: 0.3155 - accuracy: 0.9048 - val_loss: 0.4873 - val_accuracy: 0.8532\n",
            "Epoch 10/35\n",
            "1000/1000 [==============================] - 15s 15ms/step - loss: 0.3026 - accuracy: 0.9085 - val_loss: 0.4751 - val_accuracy: 0.8566\n",
            "Epoch 11/35\n",
            "1000/1000 [==============================] - 15s 15ms/step - loss: 0.2915 - accuracy: 0.9119 - val_loss: 0.4660 - val_accuracy: 0.8596\n",
            "Epoch 12/35\n",
            "1000/1000 [==============================] - 16s 16ms/step - loss: 0.2818 - accuracy: 0.9146 - val_loss: 0.4586 - val_accuracy: 0.8618\n",
            "Epoch 13/35\n",
            "1000/1000 [==============================] - 16s 16ms/step - loss: 0.2733 - accuracy: 0.9171 - val_loss: 0.4531 - val_accuracy: 0.8637\n",
            "Epoch 14/35\n",
            "1000/1000 [==============================] - 15s 15ms/step - loss: 0.2657 - accuracy: 0.9193 - val_loss: 0.4486 - val_accuracy: 0.8652\n",
            "Epoch 15/35\n",
            "1000/1000 [==============================] - 16s 16ms/step - loss: 0.2585 - accuracy: 0.9215 - val_loss: 0.4455 - val_accuracy: 0.8664\n",
            "Epoch 16/35\n",
            "1000/1000 [==============================] - 16s 16ms/step - loss: 0.2522 - accuracy: 0.9234 - val_loss: 0.4441 - val_accuracy: 0.8669\n",
            "Epoch 17/35\n",
            "1000/1000 [==============================] - 16s 16ms/step - loss: 0.2466 - accuracy: 0.9249 - val_loss: 0.4417 - val_accuracy: 0.8678\n",
            "Epoch 18/35\n",
            "1000/1000 [==============================] - 15s 15ms/step - loss: 0.2411 - accuracy: 0.9266 - val_loss: 0.4390 - val_accuracy: 0.8692\n",
            "Epoch 19/35\n",
            "1000/1000 [==============================] - 16s 16ms/step - loss: 0.2362 - accuracy: 0.9280 - val_loss: 0.4410 - val_accuracy: 0.8691\n",
            "Epoch 20/35\n",
            "1000/1000 [==============================] - 15s 15ms/step - loss: 0.2314 - accuracy: 0.9294 - val_loss: 0.4356 - val_accuracy: 0.8707\n",
            "Epoch 21/35\n",
            "1000/1000 [==============================] - 16s 16ms/step - loss: 0.2271 - accuracy: 0.9307 - val_loss: 0.4379 - val_accuracy: 0.8702\n",
            "Epoch 22/35\n",
            "1000/1000 [==============================] - 16s 16ms/step - loss: 0.2231 - accuracy: 0.9319 - val_loss: 0.4413 - val_accuracy: 0.8700\n",
            "Epoch 23/35\n",
            "1000/1000 [==============================] - 15s 15ms/step - loss: 0.2192 - accuracy: 0.9329 - val_loss: 0.4404 - val_accuracy: 0.8702\n",
            "Epoch 24/35\n",
            "1000/1000 [==============================] - 16s 16ms/step - loss: 0.2158 - accuracy: 0.9339 - val_loss: 0.4401 - val_accuracy: 0.8708\n",
            "Epoch 25/35\n",
            "1000/1000 [==============================] - 16s 16ms/step - loss: 0.2122 - accuracy: 0.9351 - val_loss: 0.4429 - val_accuracy: 0.8705\n",
            "Epoch 26/35\n",
            "1000/1000 [==============================] - 15s 15ms/step - loss: 0.2089 - accuracy: 0.9360 - val_loss: 0.4457 - val_accuracy: 0.8699\n",
            "Epoch 27/35\n",
            "1000/1000 [==============================] - 15s 15ms/step - loss: 0.2061 - accuracy: 0.9367 - val_loss: 0.4445 - val_accuracy: 0.8709\n",
            "Epoch 28/35\n",
            "1000/1000 [==============================] - 15s 15ms/step - loss: 0.2029 - accuracy: 0.9377 - val_loss: 0.4475 - val_accuracy: 0.8707\n",
            "Epoch 29/35\n",
            "1000/1000 [==============================] - 15s 15ms/step - loss: 0.1999 - accuracy: 0.9386 - val_loss: 0.4487 - val_accuracy: 0.8707\n",
            "Epoch 30/35\n",
            "1000/1000 [==============================] - 15s 15ms/step - loss: 0.1971 - accuracy: 0.9394 - val_loss: 0.4517 - val_accuracy: 0.8701\n",
            "Epoch 31/35\n",
            "1000/1000 [==============================] - 16s 16ms/step - loss: 0.1946 - accuracy: 0.9400 - val_loss: 0.4557 - val_accuracy: 0.8699\n",
            "Epoch 32/35\n",
            "1000/1000 [==============================] - 15s 15ms/step - loss: 0.1922 - accuracy: 0.9408 - val_loss: 0.4558 - val_accuracy: 0.8696\n",
            "Epoch 33/35\n",
            "1000/1000 [==============================] - 15s 15ms/step - loss: 0.1896 - accuracy: 0.9416 - val_loss: 0.4598 - val_accuracy: 0.8695\n",
            "Epoch 34/35\n",
            "1000/1000 [==============================] - 15s 15ms/step - loss: 0.1873 - accuracy: 0.9423 - val_loss: 0.4623 - val_accuracy: 0.8692\n",
            "Epoch 35/35\n",
            "1000/1000 [==============================] - 15s 15ms/step - loss: 0.1851 - accuracy: 0.9428 - val_loss: 0.4641 - val_accuracy: 0.8684\n"
          ]
        },
        {
          "output_type": "execute_result",
          "data": {
            "text/plain": [
              "<keras.callbacks.History at 0x7fd016490be0>"
            ]
          },
          "metadata": {},
          "execution_count": 27
        }
      ]
    },
    {
      "cell_type": "markdown",
      "source": [
        "###Activating"
      ],
      "metadata": {
        "id": "y7vGlyuiqicW"
      }
    },
    {
      "cell_type": "code",
      "source": [
        "#define encoder\n",
        "encoder_model = Model(inputs=encoder_inputs, outputs=encoder_states)"
      ],
      "metadata": {
        "id": "3XSyrvztcztW"
      },
      "execution_count": 28,
      "outputs": []
    },
    {
      "cell_type": "code",
      "source": [
        "#define decoder\n",
        "decoder_state_input_h = Input(shape=(256,)) # hidden\n",
        "decoder_state_input_c = Input(shape=(256,)) # cell\n",
        "decoder_states_inputs = [decoder_state_input_h, decoder_state_input_c]\n",
        "\n",
        "#decoder_lstm = LSTM(units=256, return_sequences=True)\n",
        "decoder_outputs, state_h, state_c = decoder_lstm(decoder_inputs, initial_state=decoder_states_inputs)\n",
        "\n",
        "decoder_states = [state_h, state_c] # save hidden&cell state\n",
        "#decoder_softmax_layer = Dense(tar_vocab_size, activation=\"softmax\")\n",
        "decoder_ouputs = decoder_softmax_layer(decoder_outputs)\n",
        "\n",
        "decoder_model = Model(inputs=[decoder_inputs] + decoder_states_inputs, outputs=[decoder_outputs] + decoder_states)"
      ],
      "metadata": {
        "colab": {
          "base_uri": "https://localhost:8080/",
          "height": 376
        },
        "id": "LnruOM0QqIrJ",
        "outputId": "09889586-918a-4408-d50c-7043c6b09d15"
      },
      "execution_count": 38,
      "outputs": [
        {
          "output_type": "error",
          "ename": "TypeError",
          "evalue": "ignored",
          "traceback": [
            "\u001b[0;31m---------------------------------------------------------------------------\u001b[0m",
            "\u001b[0;31mTypeError\u001b[0m                                 Traceback (most recent call last)",
            "\u001b[0;32m<ipython-input-38-030bff5255c1>\u001b[0m in \u001b[0;36m<module>\u001b[0;34m\u001b[0m\n\u001b[1;32m      6\u001b[0m \u001b[0mdecoder_inputs\u001b[0m \u001b[0;34m=\u001b[0m \u001b[0mInput\u001b[0m\u001b[0;34m(\u001b[0m\u001b[0mshape\u001b[0m\u001b[0;34m=\u001b[0m\u001b[0;34m(\u001b[0m\u001b[0mmax_tar_len\u001b[0m\u001b[0;34m,\u001b[0m \u001b[0mtar_vocab_size\u001b[0m\u001b[0;34m)\u001b[0m\u001b[0;34m)\u001b[0m\u001b[0;34m\u001b[0m\u001b[0;34m\u001b[0m\u001b[0m\n\u001b[1;32m      7\u001b[0m \u001b[0mdecoder_lstm\u001b[0m \u001b[0;34m=\u001b[0m \u001b[0mLSTM\u001b[0m\u001b[0;34m(\u001b[0m\u001b[0munits\u001b[0m\u001b[0;34m=\u001b[0m\u001b[0;36m256\u001b[0m\u001b[0;34m,\u001b[0m \u001b[0mreturn_sequences\u001b[0m\u001b[0;34m=\u001b[0m\u001b[0;32mTrue\u001b[0m\u001b[0;34m)\u001b[0m\u001b[0;34m\u001b[0m\u001b[0;34m\u001b[0m\u001b[0m\n\u001b[0;32m----> 8\u001b[0;31m \u001b[0mdecoder_outputs\u001b[0m\u001b[0;34m,\u001b[0m \u001b[0mstate_h\u001b[0m\u001b[0;34m,\u001b[0m \u001b[0mstate_c\u001b[0m \u001b[0;34m=\u001b[0m \u001b[0mdecoder_lstm\u001b[0m\u001b[0;34m(\u001b[0m\u001b[0mdecoder_inputs\u001b[0m\u001b[0;34m,\u001b[0m \u001b[0minitial_state\u001b[0m\u001b[0;34m=\u001b[0m\u001b[0mdecoder_states_inputs\u001b[0m\u001b[0;34m)\u001b[0m\u001b[0;34m\u001b[0m\u001b[0;34m\u001b[0m\u001b[0m\n\u001b[0m\u001b[1;32m      9\u001b[0m \u001b[0;34m\u001b[0m\u001b[0m\n\u001b[1;32m     10\u001b[0m \u001b[0mdecoder_states\u001b[0m \u001b[0;34m=\u001b[0m \u001b[0;34m[\u001b[0m\u001b[0mstate_h\u001b[0m\u001b[0;34m,\u001b[0m \u001b[0mstate_c\u001b[0m\u001b[0;34m]\u001b[0m \u001b[0;31m# save hidden&cell state\u001b[0m\u001b[0;34m\u001b[0m\u001b[0;34m\u001b[0m\u001b[0m\n",
            "\u001b[0;32m/usr/local/lib/python3.8/dist-packages/keras/engine/keras_tensor.py\u001b[0m in \u001b[0;36m__iter__\u001b[0;34m(self)\u001b[0m\n\u001b[1;32m    406\u001b[0m             \u001b[0;32mraise\u001b[0m \u001b[0mTypeError\u001b[0m\u001b[0;34m(\u001b[0m\u001b[0;34m\"Cannot iterate over a scalar.\"\u001b[0m\u001b[0;34m)\u001b[0m\u001b[0;34m\u001b[0m\u001b[0;34m\u001b[0m\u001b[0m\n\u001b[1;32m    407\u001b[0m         \u001b[0;32mif\u001b[0m \u001b[0mshape\u001b[0m\u001b[0;34m[\u001b[0m\u001b[0;36m0\u001b[0m\u001b[0;34m]\u001b[0m \u001b[0;32mis\u001b[0m \u001b[0;32mNone\u001b[0m\u001b[0;34m:\u001b[0m\u001b[0;34m\u001b[0m\u001b[0;34m\u001b[0m\u001b[0m\n\u001b[0;32m--> 408\u001b[0;31m             raise TypeError(\n\u001b[0m\u001b[1;32m    409\u001b[0m                 \u001b[0;34m\"Cannot iterate over a Tensor with unknown first dimension.\"\u001b[0m\u001b[0;34m\u001b[0m\u001b[0;34m\u001b[0m\u001b[0m\n\u001b[1;32m    410\u001b[0m             )\n",
            "\u001b[0;31mTypeError\u001b[0m: Cannot iterate over a Tensor with unknown first dimension."
          ]
        }
      ]
    },
    {
      "cell_type": "code",
      "source": [
        "index_to_src = dict((i, char) for char, i in src_to_index.items())\n",
        "index_to_tar = dict((i, char) for char, i in tar_to_index.items())"
      ],
      "metadata": {
        "id": "iCb8jlDkylvu"
      },
      "execution_count": 32,
      "outputs": []
    },
    {
      "cell_type": "code",
      "source": [],
      "metadata": {
        "id": "a7GWqlu60Fe2"
      },
      "execution_count": null,
      "outputs": []
    }
  ]
}