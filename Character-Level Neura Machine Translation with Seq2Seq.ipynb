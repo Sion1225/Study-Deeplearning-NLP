{
 "cells": [
  {
   "cell_type": "markdown",
   "metadata": {
    "colab_type": "text",
    "id": "view-in-github"
   },
   "source": [
    "<a href=\"https://colab.research.google.com/github/Sion1225/Study-Deeplearning-NLP/blob/master/Character-Level%20Neura%20Machine%20Translation%20with%20Seq2Seq.ipynb\" target=\"_parent\"><img src=\"https://colab.research.google.com/assets/colab-badge.svg\" alt=\"Open In Colab\"/></a>"
   ]
  },
  {
   "cell_type": "markdown",
   "metadata": {
    "id": "uuzGyqlPydz3"
   },
   "source": [
    "Dataset is from \"http://www.manythings.org/anki\""
   ]
  },
  {
   "cell_type": "markdown",
   "metadata": {
    "id": "6ZHEiExhsDny"
   },
   "source": [
    "# Pre-processing"
   ]
  },
  {
   "cell_type": "code",
   "execution_count": 1,
   "metadata": {
    "id": "51GWF3AQxBZP"
   },
   "outputs": [],
   "source": [
    "\"\"\"\n",
    "import os\n",
    "import shutil\n",
    "import zipfile\n",
    "\"\"\"\n",
    "\n",
    "import pandas as pd\n",
    "import tensorflow as tf\n",
    "import urllib3\n",
    "from tensorflow.keras.preprocessing.sequence import pad_sequences\n",
    "from tensorflow.keras.utils import to_categorical"
   ]
  },
  {
   "cell_type": "code",
   "execution_count": 2,
   "metadata": {
    "colab": {
     "base_uri": "https://localhost:8080/",
     "height": 90
    },
    "id": "higkx6fvx8cU",
    "outputId": "14d1ee67-5ba6-4662-ce23-7691d3d4eb0a"
   },
   "outputs": [
    {
     "data": {
      "text/plain": [
       "\"\\nhttp = urllib3.PoolManager()\\nurl ='http://www.manythings.org/anki/fra-eng.zip'\\nfilename = 'fra-eng.zip'\\npath = os.getcwd()\\nzipfilename = os.path.join(path, filename)\\nwith http.request('GET', url, preload_content=False) as r, open(zipfilename, 'wb') as out_file:       \\n    shutil.copyfileobj(r, out_file)\\n\\nwith zipfile.ZipFile(zipfilename, 'r') as zip_ref:\\n    zip_ref.extractall(path)\\n\""
      ]
     },
     "execution_count": 2,
     "metadata": {},
     "output_type": "execute_result"
    }
   ],
   "source": [
    "\"\"\"\n",
    "http = urllib3.PoolManager()\n",
    "url ='http://www.manythings.org/anki/fra-eng.zip'\n",
    "filename = 'fra-eng.zip'\n",
    "path = os.getcwd()\n",
    "zipfilename = os.path.join(path, filename)\n",
    "with http.request('GET', url, preload_content=False) as r, open(zipfilename, 'wb') as out_file:       \n",
    "    shutil.copyfileobj(r, out_file)\n",
    "\n",
    "with zipfile.ZipFile(zipfilename, 'r') as zip_ref:\n",
    "    zip_ref.extractall(path)\n",
    "\"\"\""
   ]
  },
  {
   "cell_type": "code",
   "execution_count": 3,
   "metadata": {
    "colab": {
     "base_uri": "https://localhost:8080/"
    },
    "id": "vWFEnL7RyORc",
    "outputId": "c7f7f799-ac15-4d5c-8168-a29fe71b7fac"
   },
   "outputs": [
    {
     "name": "stdout",
     "output_type": "stream",
     "text": [
      "Count of all semples :  139013\n"
     ]
    }
   ],
   "source": [
    "lines = pd.read_csv(\"DataSet/spa.txt\", names=[\"src\", \"tar\", \"lic\"], sep='\\t')\n",
    "del lines[\"lic\"]\n",
    "print(\"Count of all semples : \", len(lines))"
   ]
  },
  {
   "cell_type": "code",
   "execution_count": 4,
   "metadata": {
    "id": "BGPkgYMsAUNP"
   },
   "outputs": [],
   "source": [
    "lines = lines[:80000]"
   ]
  },
  {
   "cell_type": "code",
   "execution_count": 5,
   "metadata": {
    "colab": {
     "base_uri": "https://localhost:8080/"
    },
    "id": "kgmLooB6zVQX",
    "outputId": "8d40390a-ca3d-422f-a05a-737462eb8b3a"
   },
   "outputs": [
    {
     "name": "stdout",
     "output_type": "stream",
     "text": [
      "   src      tar\n",
      "0  Go.      Ve.\n",
      "1  Go.    Vete.\n",
      "2  Go.    Vaya.\n",
      "3  Go.  Váyase.\n",
      "4  Hi.    Hola.\n"
     ]
    }
   ],
   "source": [
    "print(lines[:5])"
   ]
  },
  {
   "cell_type": "code",
   "execution_count": 6,
   "metadata": {
    "colab": {
     "base_uri": "https://localhost:8080/",
     "height": 363
    },
    "id": "catV1UIk4gjf",
    "outputId": "898ff3c7-a247-4d3b-fa9b-3b5a85558beb"
   },
   "outputs": [
    {
     "data": {
      "text/html": [
       "<div>\n",
       "<style scoped>\n",
       "    .dataframe tbody tr th:only-of-type {\n",
       "        vertical-align: middle;\n",
       "    }\n",
       "\n",
       "    .dataframe tbody tr th {\n",
       "        vertical-align: top;\n",
       "    }\n",
       "\n",
       "    .dataframe thead th {\n",
       "        text-align: right;\n",
       "    }\n",
       "</style>\n",
       "<table border=\"1\" class=\"dataframe\">\n",
       "  <thead>\n",
       "    <tr style=\"text-align: right;\">\n",
       "      <th></th>\n",
       "      <th>src</th>\n",
       "      <th>tar</th>\n",
       "    </tr>\n",
       "  </thead>\n",
       "  <tbody>\n",
       "    <tr>\n",
       "      <th>66746</th>\n",
       "      <td>You don't fool me, you know.</td>\n",
       "      <td>Sabes que no me engañas.</td>\n",
       "    </tr>\n",
       "    <tr>\n",
       "      <th>47784</th>\n",
       "      <td>Fill out the application.</td>\n",
       "      <td>Llene usted el pliego de solicitud.</td>\n",
       "    </tr>\n",
       "    <tr>\n",
       "      <th>65143</th>\n",
       "      <td>The sun is shining brightly.</td>\n",
       "      <td>El sol está brillando intensamente.</td>\n",
       "    </tr>\n",
       "    <tr>\n",
       "      <th>34961</th>\n",
       "      <td>Many people shop here.</td>\n",
       "      <td>Mucha gente compra aquí.</td>\n",
       "    </tr>\n",
       "    <tr>\n",
       "      <th>70629</th>\n",
       "      <td>Tom is faster than you think.</td>\n",
       "      <td>Tomás es más rápido de lo que pensás.</td>\n",
       "    </tr>\n",
       "    <tr>\n",
       "      <th>23380</th>\n",
       "      <td>You're not my type.</td>\n",
       "      <td>No eres mi tipo.</td>\n",
       "    </tr>\n",
       "    <tr>\n",
       "      <th>31888</th>\n",
       "      <td>Were you intimidated?</td>\n",
       "      <td>¿Te sentías intimidado?</td>\n",
       "    </tr>\n",
       "    <tr>\n",
       "      <th>54445</th>\n",
       "      <td>I've always hated biology.</td>\n",
       "      <td>Siempre he odiado la biología.</td>\n",
       "    </tr>\n",
       "    <tr>\n",
       "      <th>30711</th>\n",
       "      <td>The house is on fire!</td>\n",
       "      <td>¡La casa se está incendiando!</td>\n",
       "    </tr>\n",
       "    <tr>\n",
       "      <th>9622</th>\n",
       "      <td>Here's your bag.</td>\n",
       "      <td>Aquí está tu bolsa.</td>\n",
       "    </tr>\n",
       "  </tbody>\n",
       "</table>\n",
       "</div>"
      ],
      "text/plain": [
       "                                 src                                    tar\n",
       "66746   You don't fool me, you know.               Sabes que no me engañas.\n",
       "47784      Fill out the application.    Llene usted el pliego de solicitud.\n",
       "65143   The sun is shining brightly.    El sol está brillando intensamente.\n",
       "34961         Many people shop here.               Mucha gente compra aquí.\n",
       "70629  Tom is faster than you think.  Tomás es más rápido de lo que pensás.\n",
       "23380            You're not my type.                       No eres mi tipo.\n",
       "31888          Were you intimidated?                ¿Te sentías intimidado?\n",
       "54445     I've always hated biology.         Siempre he odiado la biología.\n",
       "30711          The house is on fire!          ¡La casa se está incendiando!\n",
       "9622                Here's your bag.                    Aquí está tu bolsa."
      ]
     },
     "execution_count": 6,
     "metadata": {},
     "output_type": "execute_result"
    }
   ],
   "source": [
    "lines.sample(10)"
   ]
  },
  {
   "cell_type": "code",
   "execution_count": 7,
   "metadata": {
    "colab": {
     "base_uri": "https://localhost:8080/",
     "height": 363
    },
    "id": "ehb8KVJ04rR0",
    "outputId": "444f746a-5200-4534-c3f5-e80e01a92937"
   },
   "outputs": [
    {
     "data": {
      "text/html": [
       "<div>\n",
       "<style scoped>\n",
       "    .dataframe tbody tr th:only-of-type {\n",
       "        vertical-align: middle;\n",
       "    }\n",
       "\n",
       "    .dataframe tbody tr th {\n",
       "        vertical-align: top;\n",
       "    }\n",
       "\n",
       "    .dataframe thead th {\n",
       "        text-align: right;\n",
       "    }\n",
       "</style>\n",
       "<table border=\"1\" class=\"dataframe\">\n",
       "  <thead>\n",
       "    <tr style=\"text-align: right;\">\n",
       "      <th></th>\n",
       "      <th>src</th>\n",
       "      <th>tar</th>\n",
       "    </tr>\n",
       "  </thead>\n",
       "  <tbody>\n",
       "    <tr>\n",
       "      <th>32553</th>\n",
       "      <td>You’re so arrogant.</td>\n",
       "      <td>\\tEres una presumida.\\n</td>\n",
       "    </tr>\n",
       "    <tr>\n",
       "      <th>5873</th>\n",
       "      <td>Look at these.</td>\n",
       "      <td>\\tFíjate en éstos.\\n</td>\n",
       "    </tr>\n",
       "    <tr>\n",
       "      <th>12410</th>\n",
       "      <td>Explain it to me.</td>\n",
       "      <td>\\tExplicadmelo.\\n</td>\n",
       "    </tr>\n",
       "    <tr>\n",
       "      <th>76713</th>\n",
       "      <td>He always leaves home at seven.</td>\n",
       "      <td>\\tÉl sale siempre a las siete de casa.\\n</td>\n",
       "    </tr>\n",
       "    <tr>\n",
       "      <th>38717</th>\n",
       "      <td>I like to travel alone.</td>\n",
       "      <td>\\tMe gusta viajar solo.\\n</td>\n",
       "    </tr>\n",
       "    <tr>\n",
       "      <th>74230</th>\n",
       "      <td>She is giving the baby a bath.</td>\n",
       "      <td>\\tElla está bañando al bebé.\\n</td>\n",
       "    </tr>\n",
       "    <tr>\n",
       "      <th>77120</th>\n",
       "      <td>I am anxious about your health.</td>\n",
       "      <td>\\tEstoy preocupado por su salud.\\n</td>\n",
       "    </tr>\n",
       "    <tr>\n",
       "      <th>18424</th>\n",
       "      <td>Tom speaks French.</td>\n",
       "      <td>\\tTom habla francés.\\n</td>\n",
       "    </tr>\n",
       "    <tr>\n",
       "      <th>27758</th>\n",
       "      <td>You know who I mean.</td>\n",
       "      <td>\\tSabes a quién me refiero.\\n</td>\n",
       "    </tr>\n",
       "    <tr>\n",
       "      <th>18714</th>\n",
       "      <td>What did Tom know?</td>\n",
       "      <td>\\t¿Qué sabía Tom?\\n</td>\n",
       "    </tr>\n",
       "  </tbody>\n",
       "</table>\n",
       "</div>"
      ],
      "text/plain": [
       "                                   src  \\\n",
       "32553              You’re so arrogant.   \n",
       "5873                    Look at these.   \n",
       "12410                Explain it to me.   \n",
       "76713  He always leaves home at seven.   \n",
       "38717          I like to travel alone.   \n",
       "74230   She is giving the baby a bath.   \n",
       "77120  I am anxious about your health.   \n",
       "18424               Tom speaks French.   \n",
       "27758             You know who I mean.   \n",
       "18714               What did Tom know?   \n",
       "\n",
       "                                            tar  \n",
       "32553                   \\tEres una presumida.\\n  \n",
       "5873                       \\tFíjate en éstos.\\n  \n",
       "12410                         \\tExplicadmelo.\\n  \n",
       "76713  \\tÉl sale siempre a las siete de casa.\\n  \n",
       "38717                 \\tMe gusta viajar solo.\\n  \n",
       "74230            \\tElla está bañando al bebé.\\n  \n",
       "77120        \\tEstoy preocupado por su salud.\\n  \n",
       "18424                    \\tTom habla francés.\\n  \n",
       "27758             \\tSabes a quién me refiero.\\n  \n",
       "18714                       \\t¿Qué sabía Tom?\\n  "
      ]
     },
     "execution_count": 7,
     "metadata": {},
     "output_type": "execute_result"
    }
   ],
   "source": [
    "lines.tar = lines.tar.apply(lambda x : \"\\t\" + x + \"\\n\")\n",
    "lines.sample(10)"
   ]
  },
  {
   "cell_type": "code",
   "execution_count": 8,
   "metadata": {
    "id": "2t6lwLmEiC4l"
   },
   "outputs": [],
   "source": [
    "src_vocab = set()\n",
    "for line in lines.src :\n",
    "    for char in line :\n",
    "        src_vocab.add(char)\n",
    "\n",
    "tar_vocab = set()\n",
    "for line in lines.tar:\n",
    "    for char in line:\n",
    "        tar_vocab.add(char)"
   ]
  },
  {
   "cell_type": "code",
   "execution_count": 9,
   "metadata": {
    "colab": {
     "base_uri": "https://localhost:8080/"
    },
    "id": "Iv-IaBYLxIxB",
    "outputId": "e612ea4f-17a7-48a9-d45c-61a370ed8be1"
   },
   "outputs": [
    {
     "name": "stdout",
     "output_type": "stream",
     "text": [
      "Source sentences' char set : 81\n",
      "Target sentences' char set : 100\n"
     ]
    }
   ],
   "source": [
    "src_vocab_size = len(src_vocab) + 1\n",
    "tar_vocab_size = len(tar_vocab) + 1\n",
    "print(\"Source sentences' char set :\",src_vocab_size)\n",
    "print(\"Target sentences' char set :\",tar_vocab_size)"
   ]
  },
  {
   "cell_type": "code",
   "execution_count": 10,
   "metadata": {
    "colab": {
     "base_uri": "https://localhost:8080/"
    },
    "id": "BaUaySWfxdew",
    "outputId": "1f743122-29e7-4076-cc87-f660a1ba8f33"
   },
   "outputs": [
    {
     "name": "stdout",
     "output_type": "stream",
     "text": [
      "{'H', 'E', '.', 'z', 'X', '/', 'h', 'G', 'F', 'l', '°', ':', 't', '9', 'm', 'u', 'y', 'V', 'M', 'T', \"'\", ',', 'a', 's', '?', '1', 'J', 'v', 'L', 'p', 'O', 'B', 'k', 'n', 'D', 'Y', ' ', 'S', '-', 'q', 'Z', 'Q', 'j', 'g', 'r', 'e', '2', '\"', 'P', 'w', 'K', '!', 'U', '6', '3', '’', 'W', '$', 'b', '%', 'C', 'A', 'I', '‘', 'R', '5', 'c', 'o', '\\xa0', 'é', '7', '€', 'f', '0', 'x', 'i', 'N', 'd', '8', '4'}\n",
      "{')', 'H', 'E', '.', '\\n', 'z', 'X', '/', 'h', '»', '—', 'G', 'l', 'F', '°', '(', 'º', ':', 't', 'ñ', '9', 'm', 'u', 'V', 'y', 'ó', 'M', 'T', \"'\", ',', 'a', 's', '+', '?', '1', 'J', 'с', 'v', 'L', 'p', '\\t', 'O', 'B', '«', 'É', 'k', 'n', 'D', 'Y', ' ', 'Ú', 'S', '-', 'q', 'í', 'Z', 'Q', 'á', 'j', 'g', 'r', 'e', '¡', '\"', '2', 'P', 'Á', 'w', 'K', '!', 'U', '6', '3', 'W', '$', 'b', '%', '¿', 'C', 'A', 'I', 'ü', 'R', '5', 'c', 'o', 'é', 'ú', '7', '€', 'Ó', 'f', '0', 'x', 'i', 'N', 'd', '8', '4'}\n"
     ]
    }
   ],
   "source": [
    "print(src_vocab)\n",
    "print(tar_vocab)"
   ]
  },
  {
   "cell_type": "code",
   "execution_count": 11,
   "metadata": {
    "colab": {
     "base_uri": "https://localhost:8080/"
    },
    "id": "Y7HMom5Oxgis",
    "outputId": "2d824287-0817-4471-d4fd-97b46e401c60"
   },
   "outputs": [
    {
     "name": "stdout",
     "output_type": "stream",
     "text": [
      "['E', 'F', 'G', 'H', 'I', 'J', 'K', 'L', 'M', 'N', 'O', 'P', 'Q', 'R', 'S', 'T', 'U', 'V', 'W', 'X', 'Y', 'Z', 'a', 'b', 'c', 'd', 'e', 'f', 'g', 'h', 'i', 'j', 'k', 'l', 'm', 'n', 'o', 'p', 'q', 'r', 's', 't', 'u', 'v', 'w', 'x', 'y', 'z', '\\xa0']\n",
      "['?', 'A', 'B', 'C', 'D', 'E', 'F', 'G', 'H', 'I', 'J', 'K', 'L', 'M', 'N', 'O', 'P', 'Q', 'R', 'S', 'T', 'U', 'V', 'W', 'X', 'Y', 'Z', 'a', 'b', 'c', 'd', 'e', 'f', 'g', 'h', 'i', 'j', 'k', 'l', 'm', 'n', 'o', 'p', 'q', 'r', 's', 't', 'u', 'v']\n"
     ]
    }
   ],
   "source": [
    "src_vocab = sorted(list(src_vocab))\n",
    "tar_vocab = sorted(list(tar_vocab))\n",
    "print(src_vocab[26:75])\n",
    "print(tar_vocab[26:75])"
   ]
  },
  {
   "cell_type": "code",
   "execution_count": 12,
   "metadata": {
    "colab": {
     "base_uri": "https://localhost:8080/"
    },
    "id": "BeKJwuE0x29m",
    "outputId": "fabb335c-7db0-4c06-8a58-ace0ecd6e9cf"
   },
   "outputs": [
    {
     "name": "stdout",
     "output_type": "stream",
     "text": [
      "{' ': 1, '!': 2, '\"': 3, '$': 4, '%': 5, \"'\": 6, ',': 7, '-': 8, '.': 9, '/': 10, '0': 11, '1': 12, '2': 13, '3': 14, '4': 15, '5': 16, '6': 17, '7': 18, '8': 19, '9': 20, ':': 21, '?': 22, 'A': 23, 'B': 24, 'C': 25, 'D': 26, 'E': 27, 'F': 28, 'G': 29, 'H': 30, 'I': 31, 'J': 32, 'K': 33, 'L': 34, 'M': 35, 'N': 36, 'O': 37, 'P': 38, 'Q': 39, 'R': 40, 'S': 41, 'T': 42, 'U': 43, 'V': 44, 'W': 45, 'X': 46, 'Y': 47, 'Z': 48, 'a': 49, 'b': 50, 'c': 51, 'd': 52, 'e': 53, 'f': 54, 'g': 55, 'h': 56, 'i': 57, 'j': 58, 'k': 59, 'l': 60, 'm': 61, 'n': 62, 'o': 63, 'p': 64, 'q': 65, 'r': 66, 's': 67, 't': 68, 'u': 69, 'v': 70, 'w': 71, 'x': 72, 'y': 73, 'z': 74, '\\xa0': 75, '°': 76, 'é': 77, '‘': 78, '’': 79, '€': 80}\n",
      "{'\\t': 1, '\\n': 2, ' ': 3, '!': 4, '\"': 5, '$': 6, '%': 7, \"'\": 8, '(': 9, ')': 10, '+': 11, ',': 12, '-': 13, '.': 14, '/': 15, '0': 16, '1': 17, '2': 18, '3': 19, '4': 20, '5': 21, '6': 22, '7': 23, '8': 24, '9': 25, ':': 26, '?': 27, 'A': 28, 'B': 29, 'C': 30, 'D': 31, 'E': 32, 'F': 33, 'G': 34, 'H': 35, 'I': 36, 'J': 37, 'K': 38, 'L': 39, 'M': 40, 'N': 41, 'O': 42, 'P': 43, 'Q': 44, 'R': 45, 'S': 46, 'T': 47, 'U': 48, 'V': 49, 'W': 50, 'X': 51, 'Y': 52, 'Z': 53, 'a': 54, 'b': 55, 'c': 56, 'd': 57, 'e': 58, 'f': 59, 'g': 60, 'h': 61, 'i': 62, 'j': 63, 'k': 64, 'l': 65, 'm': 66, 'n': 67, 'o': 68, 'p': 69, 'q': 70, 'r': 71, 's': 72, 't': 73, 'u': 74, 'v': 75, 'w': 76, 'x': 77, 'y': 78, 'z': 79, '¡': 80, '«': 81, '°': 82, 'º': 83, '»': 84, '¿': 85, 'Á': 86, 'É': 87, 'Ó': 88, 'Ú': 89, 'á': 90, 'é': 91, 'í': 92, 'ñ': 93, 'ó': 94, 'ú': 95, 'ü': 96, 'с': 97, '—': 98, '€': 99}\n"
     ]
    }
   ],
   "source": [
    "src_to_index = dict([(word, i+1) for i, word in enumerate(src_vocab)])\n",
    "tar_to_index = dict([(word, i+1) for i, word in enumerate(tar_vocab)])\n",
    "print(src_to_index)\n",
    "print(tar_to_index)"
   ]
  },
  {
   "cell_type": "code",
   "execution_count": 13,
   "metadata": {
    "colab": {
     "base_uri": "https://localhost:8080/"
    },
    "id": "v8REjdu663YS",
    "outputId": "79b4bbe5-3a12-4e51-d9b2-af232233456a"
   },
   "outputs": [
    {
     "name": "stdout",
     "output_type": "stream",
     "text": [
      "Source sentences : \n",
      " 0    Go.\n",
      "1    Go.\n",
      "2    Go.\n",
      "3    Go.\n",
      "4    Hi.\n",
      "Name: src, dtype: object\n",
      "Encoded source sentences :  [[29, 63, 9], [29, 63, 9], [29, 63, 9], [29, 63, 9], [30, 57, 9]]\n"
     ]
    }
   ],
   "source": [
    "encoder_input = []\n",
    "\n",
    "for line in lines[\"src\"] :\n",
    "    encoded_line = []\n",
    "\n",
    "    for char in line :\n",
    "        encoded_line.append(src_to_index[char])\n",
    "    \n",
    "    encoder_input.append(encoded_line)\n",
    "\n",
    "print(\"Source sentences : \\n\", lines[\"src\"][:5])\n",
    "print(\"Encoded source sentences : \", encoder_input[:5])"
   ]
  },
  {
   "cell_type": "code",
   "execution_count": 14,
   "metadata": {
    "colab": {
     "base_uri": "https://localhost:8080/"
    },
    "id": "-fWMCySRj_Ia",
    "outputId": "26cfa9ba-4a44-4b79-9c42-6935772476a9"
   },
   "outputs": [
    {
     "name": "stdout",
     "output_type": "stream",
     "text": [
      "Target sentences : \n",
      " 0        \\tVe.\\n\n",
      "1      \\tVete.\\n\n",
      "2      \\tVaya.\\n\n",
      "3    \\tVáyase.\\n\n",
      "4      \\tHola.\\n\n",
      "Name: tar, dtype: object\n",
      "Encoded target sentences :  [[1, 49, 58, 14, 2], [1, 49, 58, 73, 58, 14, 2], [1, 49, 54, 78, 54, 14, 2], [1, 49, 90, 78, 54, 72, 58, 14, 2], [1, 35, 68, 65, 54, 14, 2]]\n"
     ]
    }
   ],
   "source": [
    "decoder_input = []\n",
    "\n",
    "for line in lines[\"tar\"] :\n",
    "  encoded_line = []\n",
    "\n",
    "  for char in line :\n",
    "    encoded_line.append(tar_to_index[char])\n",
    "\n",
    "  decoder_input.append(encoded_line)\n",
    "\n",
    "print(\"Target sentences : \\n\", lines[\"tar\"][:5])\n",
    "print(\"Encoded target sentences : \", decoder_input[:5])"
   ]
  },
  {
   "cell_type": "code",
   "execution_count": 15,
   "metadata": {
    "colab": {
     "base_uri": "https://localhost:8080/"
    },
    "id": "Qf9pQh6h24hm",
    "outputId": "fa4d471f-fcc1-4832-c161-6d3fd00a11f4"
   },
   "outputs": [
    {
     "name": "stdout",
     "output_type": "stream",
     "text": [
      "Encoded target label sentences :  [[49, 58, 14, 2], [49, 58, 73, 58, 14, 2], [49, 54, 78, 54, 14, 2], [49, 90, 78, 54, 72, 58, 14, 2], [35, 68, 65, 54, 14, 2]]\n"
     ]
    }
   ],
   "source": [
    "decoder_target = []\n",
    "\n",
    "for line in lines[\"tar\"] :\n",
    "    timestep = 0\n",
    "    encoded_line = []\n",
    "\n",
    "    for char in line :\n",
    "        if timestep > 0 :\n",
    "            encoded_line.append(tar_to_index[char])\n",
    "        timestep += 1\n",
    "    \n",
    "    decoder_target.append(encoded_line)\n",
    "\n",
    "print(\"Encoded target label sentences : \", decoder_target[:5])"
   ]
  },
  {
   "cell_type": "code",
   "execution_count": 16,
   "metadata": {
    "colab": {
     "base_uri": "https://localhost:8080/"
    },
    "id": "N0ucux0G7y8b",
    "outputId": "6dd10384-8870-4bc5-cf78-842d2727b60f"
   },
   "outputs": [
    {
     "name": "stdout",
     "output_type": "stream",
     "text": [
      "Source sentences maximum length : 31\n",
      "Target sentences maximum length : 72\n"
     ]
    }
   ],
   "source": [
    "max_src_len = max([len(line) for line in lines.src])\n",
    "max_tar_len = max([len(line) for line in lines.tar])\n",
    "print('Source sentences maximum length :',max_src_len)\n",
    "print('Target sentences maximum length :',max_tar_len)"
   ]
  },
  {
   "cell_type": "code",
   "execution_count": 17,
   "metadata": {
    "id": "FJqSr8KY8Fmy"
   },
   "outputs": [],
   "source": [
    "encoder_input = pad_sequences(encoder_input, maxlen=max_src_len, padding=\"post\")\n",
    "decoder_input = pad_sequences(decoder_input, maxlen=max_tar_len, padding='post')\n",
    "decoder_target = pad_sequences(decoder_target, maxlen=max_tar_len, padding='post')"
   ]
  },
  {
   "cell_type": "code",
   "execution_count": 18,
   "metadata": {
    "colab": {
     "base_uri": "https://localhost:8080/",
     "height": 80
    },
    "id": "9am6t1yEFYK0",
    "outputId": "9611b7d3-ab33-4eea-8290-171e457f81a4"
   },
   "outputs": [
    {
     "name": "stderr",
     "output_type": "stream",
     "text": [
      "2023-03-01 15:06:31,089\tINFO worker.py:1553 -- Started a local Ray instance.\n"
     ]
    },
    {
     "data": {
      "text/html": [
       "<div>\n",
       "    <div style=\"margin-left: 50px;display: flex;flex-direction: row;align-items: center\">\n",
       "        <h3 style=\"color: var(--jp-ui-font-color0)\">Ray</h3>\n",
       "        <svg version=\"1.1\" id=\"ray\" width=\"3em\" viewBox=\"0 0 144.5 144.6\" style=\"margin-left: 3em;margin-right: 3em\">\n",
       "            <g id=\"layer-1\">\n",
       "                <path fill=\"#00a2e9\" class=\"st0\" d=\"M97.3,77.2c-3.8-1.1-6.2,0.9-8.3,5.1c-3.5,6.8-9.9,9.9-17.4,9.6S58,88.1,54.8,81.2c-1.4-3-3-4-6.3-4.1\n",
       "                    c-5.6-0.1-9.9,0.1-13.1,6.4c-3.8,7.6-13.6,10.2-21.8,7.6C5.2,88.4-0.4,80.5,0,71.7c0.1-8.4,5.7-15.8,13.8-18.2\n",
       "                    c8.4-2.6,17.5,0.7,22.3,8c1.3,1.9,1.3,5.2,3.6,5.6c3.9,0.6,8,0.2,12,0.2c1.8,0,1.9-1.6,2.4-2.8c3.5-7.8,9.7-11.8,18-11.9\n",
       "                    c8.2-0.1,14.4,3.9,17.8,11.4c1.3,2.8,2.9,3.6,5.7,3.3c1-0.1,2,0.1,3,0c2.8-0.5,6.4,1.7,8.1-2.7s-2.3-5.5-4.1-7.5\n",
       "                    c-5.1-5.7-10.9-10.8-16.1-16.3C84,38,81.9,37.1,78,38.3C66.7,42,56.2,35.7,53,24.1C50.3,14,57.3,2.8,67.7,0.5\n",
       "                    C78.4-2,89,4.7,91.5,15.3c0.1,0.3,0.1,0.5,0.2,0.8c0.7,3.4,0.7,6.9-0.8,9.8c-1.7,3.2-0.8,5,1.5,7.2c6.7,6.5,13.3,13,19.8,19.7\n",
       "                    c1.8,1.8,3,2.1,5.5,1.2c9.1-3.4,17.9-0.6,23.4,7c4.8,6.9,4.6,16.1-0.4,22.9c-5.4,7.2-14.2,9.9-23.1,6.5c-2.3-0.9-3.5-0.6-5.1,1.1\n",
       "                    c-6.7,6.9-13.6,13.7-20.5,20.4c-1.8,1.8-2.5,3.2-1.4,5.9c3.5,8.7,0.3,18.6-7.7,23.6c-7.9,5-18.2,3.8-24.8-2.9\n",
       "                    c-6.4-6.4-7.4-16.2-2.5-24.3c4.9-7.8,14.5-11,23.1-7.8c3,1.1,4.7,0.5,6.9-1.7C91.7,98.4,98,92.3,104.2,86c1.6-1.6,4.1-2.7,2.6-6.2\n",
       "                    c-1.4-3.3-3.8-2.5-6.2-2.6C99.8,77.2,98.9,77.2,97.3,77.2z M72.1,29.7c5.5,0.1,9.9-4.3,10-9.8c0-0.1,0-0.2,0-0.3\n",
       "                    C81.8,14,77,9.8,71.5,10.2c-5,0.3-9,4.2-9.3,9.2c-0.2,5.5,4,10.1,9.5,10.3C71.8,29.7,72,29.7,72.1,29.7z M72.3,62.3\n",
       "                    c-5.4-0.1-9.9,4.2-10.1,9.7c0,0.2,0,0.3,0,0.5c0.2,5.4,4.5,9.7,9.9,10c5.1,0.1,9.9-4.7,10.1-9.8c0.2-5.5-4-10-9.5-10.3\n",
       "                    C72.6,62.3,72.4,62.3,72.3,62.3z M115,72.5c0.1,5.4,4.5,9.7,9.8,9.9c5.6-0.2,10-4.8,10-10.4c-0.2-5.4-4.6-9.7-10-9.7\n",
       "                    c-5.3-0.1-9.8,4.2-9.9,9.5C115,72.1,115,72.3,115,72.5z M19.5,62.3c-5.4,0.1-9.8,4.4-10,9.8c-0.1,5.1,5.2,10.4,10.2,10.3\n",
       "                    c5.6-0.2,10-4.9,9.8-10.5c-0.1-5.4-4.5-9.7-9.9-9.6C19.6,62.3,19.5,62.3,19.5,62.3z M71.8,134.6c5.9,0.2,10.3-3.9,10.4-9.6\n",
       "                    c0.5-5.5-3.6-10.4-9.1-10.8c-5.5-0.5-10.4,3.6-10.8,9.1c0,0.5,0,0.9,0,1.4c-0.2,5.3,4,9.8,9.3,10\n",
       "                    C71.6,134.6,71.7,134.6,71.8,134.6z\"/>\n",
       "            </g>\n",
       "        </svg>\n",
       "        <table>\n",
       "            <tr>\n",
       "                <td style=\"text-align: left\"><b>Python version:</b></td>\n",
       "                <td style=\"text-align: left\"><b>3.9.13</b></td>\n",
       "            </tr>\n",
       "            <tr>\n",
       "                <td style=\"text-align: left\"><b>Ray version:</b></td>\n",
       "                <td style=\"text-align: left\"><b> 2.3.0</b></td>\n",
       "            </tr>\n",
       "            \n",
       "        </table>\n",
       "    </div>\n",
       "</div>\n"
      ],
      "text/plain": [
       "RayContext(dashboard_url='', python_version='3.9.13', ray_version='2.3.0', ray_commit='cf7a56b4b0b648c324722df7c99c168e92ff0b45', address_info={'node_ip_address': '127.0.0.1', 'raylet_ip_address': '127.0.0.1', 'redis_address': None, 'object_store_address': 'tcp://127.0.0.1:64627', 'raylet_socket_name': 'tcp://127.0.0.1:64221', 'webui_url': '', 'session_dir': 'C:\\\\Users\\\\Siwon\\\\AppData\\\\Local\\\\Temp\\\\ray\\\\session_2023-03-01_15-06-29_228061_13108', 'metrics_export_port': 63845, 'gcs_address': '127.0.0.1:64640', 'address': '127.0.0.1:64640', 'dashboard_agent_listen_port': 52365, 'node_id': 'b0142eed6408c44d360beb3a0b1f723ff57a130683db797f120cd489'})"
      ]
     },
     "execution_count": 18,
     "metadata": {},
     "output_type": "execute_result"
    }
   ],
   "source": [
    "import ray\n",
    "ray.init()"
   ]
  },
  {
   "cell_type": "code",
   "execution_count": 19,
   "metadata": {
    "colab": {
     "base_uri": "https://localhost:8080/"
    },
    "id": "4NWUfiYY_iNt",
    "outputId": "6337ebcb-1eb8-4b63-b6ba-36fa060f5d0d"
   },
   "outputs": [],
   "source": [
    "#One-Hot encoding (Character-level)\n",
    "@ray.remote\n",
    "def One_Hot(encoder_input, decoder_input, decoder_target) :\n",
    "    encoder_input = to_categorical(encoder_input)\n",
    "    decoder_input = to_categorical(decoder_input)\n",
    "    decoder_target = to_categorical(decoder_target)\n",
    "\n",
    "    return encoder_input, decoder_input, decoder_target\n",
    "\n",
    "encoder_input, decoder_input, decoder_target = ray.get(One_Hot.remote(encoder_input, decoder_input, decoder_target))"
   ]
  },
  {
   "cell_type": "code",
   "execution_count": 20,
   "metadata": {
    "colab": {
     "base_uri": "https://localhost:8080/"
    },
    "id": "9YviNZ3qGPVl",
    "outputId": "5179c5de-2519-46e3-a559-08997d72778c"
   },
   "outputs": [
    {
     "name": "stdout",
     "output_type": "stream",
     "text": [
      "[[[0. 0. 0. ... 0. 0. 0.]\n",
      "  [0. 0. 0. ... 0. 0. 0.]\n",
      "  [0. 0. 0. ... 0. 0. 0.]\n",
      "  ...\n",
      "  [1. 0. 0. ... 0. 0. 0.]\n",
      "  [1. 0. 0. ... 0. 0. 0.]\n",
      "  [1. 0. 0. ... 0. 0. 0.]]\n",
      "\n",
      " [[0. 0. 0. ... 0. 0. 0.]\n",
      "  [0. 0. 0. ... 0. 0. 0.]\n",
      "  [0. 0. 0. ... 0. 0. 0.]\n",
      "  ...\n",
      "  [1. 0. 0. ... 0. 0. 0.]\n",
      "  [1. 0. 0. ... 0. 0. 0.]\n",
      "  [1. 0. 0. ... 0. 0. 0.]]\n",
      "\n",
      " [[0. 0. 0. ... 0. 0. 0.]\n",
      "  [0. 0. 0. ... 0. 0. 0.]\n",
      "  [0. 0. 0. ... 0. 0. 0.]\n",
      "  ...\n",
      "  [1. 0. 0. ... 0. 0. 0.]\n",
      "  [1. 0. 0. ... 0. 0. 0.]\n",
      "  [1. 0. 0. ... 0. 0. 0.]]]\n"
     ]
    }
   ],
   "source": [
    "print(encoder_input[:3])\n",
    "ray.shutdown()"
   ]
  },
  {
   "cell_type": "code",
   "execution_count": 21,
   "metadata": {
    "colab": {
     "base_uri": "https://localhost:8080/"
    },
    "id": "zmpWH-9_bUED",
    "outputId": "5f95892f-9023-4b75-d0bc-2f8c18c62709"
   },
   "outputs": [
    {
     "name": "stdout",
     "output_type": "stream",
     "text": [
      "(80000, 31, 81)\n",
      "31\n",
      "81\n"
     ]
    }
   ],
   "source": [
    "print(encoder_input.shape)\n",
    "print(max_src_len)\n",
    "print(src_vocab_size)"
   ]
  },
  {
   "cell_type": "markdown",
   "metadata": {
    "id": "Agj2OoL5HZxG"
   },
   "source": [
    "# Model"
   ]
  },
  {
   "cell_type": "markdown",
   "metadata": {
    "id": "YcQ_4x2qqeEH"
   },
   "source": [
    "### Training"
   ]
  },
  {
   "cell_type": "code",
   "execution_count": 22,
   "metadata": {
    "id": "07TNTcgnHK7z"
   },
   "outputs": [],
   "source": [
    "from tensorflow.keras.layers import Input, LSTM, Embedding, Dense\n",
    "from tensorflow.keras.models import Model\n",
    "import numpy as np"
   ]
  },
  {
   "cell_type": "code",
   "execution_count": 23,
   "metadata": {
    "id": "f96GO4tyILpN"
   },
   "outputs": [],
   "source": [
    "#Encoder\n",
    "encoder_inputs = Input(shape=(max_src_len, src_vocab_size))\n",
    "\n",
    "encoder_lstm = LSTM(units=256, return_state=True)\n",
    "encoder_outputs, state_h, state_c = encoder_lstm(encoder_inputs)\n",
    "\n",
    "encoder_states = [state_h, state_c]"
   ]
  },
  {
   "cell_type": "code",
   "execution_count": 24,
   "metadata": {
    "id": "p_SRksUGPR0A"
   },
   "outputs": [],
   "source": [
    "#Decoder\n",
    "decoder_inputs = Input(shape=(None, tar_vocab_size))\n",
    "\n",
    "decoder_lstm = LSTM(units=256, return_sequences=True , return_state=True)\n",
    "decoder_outputs, _, _ = decoder_lstm(decoder_inputs, initial_state=encoder_states)\n",
    "\n",
    "decoder_softmax_layer = Dense(units=tar_vocab_size, activation=\"softmax\")\n",
    "decoder_outputs = decoder_softmax_layer(decoder_outputs)"
   ]
  },
  {
   "cell_type": "code",
   "execution_count": 25,
   "metadata": {},
   "outputs": [
    {
     "name": "stdout",
     "output_type": "stream",
     "text": [
      "(None, None, 100)\n"
     ]
    }
   ],
   "source": [
    "print(decoder_outputs.shape)"
   ]
  },
  {
   "cell_type": "code",
   "execution_count": 26,
   "metadata": {
    "id": "BzJf5F-mb1PH"
   },
   "outputs": [],
   "source": [
    "#Model Combine & Compile\n",
    "model = Model([encoder_inputs, decoder_inputs], decoder_outputs)\n",
    "model.compile(optimizer=\"Nadam\", loss=\"categorical_crossentropy\", metrics=[\"accuracy\"])"
   ]
  },
  {
   "cell_type": "code",
   "execution_count": 27,
   "metadata": {
    "colab": {
     "base_uri": "https://localhost:8080/"
    },
    "id": "pI4RkyTycLx6",
    "outputId": "d018a5a8-c70f-4575-a2bd-d66ed150c10b"
   },
   "outputs": [
    {
     "name": "stdout",
     "output_type": "stream",
     "text": [
      "Epoch 1/35\n",
      "1000/1000 [==============================] - 30s 16ms/step - loss: 0.8170 - accuracy: 0.7705 - val_loss: 0.8773 - val_accuracy: 0.7296\n",
      "Epoch 2/35\n",
      "1000/1000 [==============================] - 14s 14ms/step - loss: 0.5847 - accuracy: 0.8202 - val_loss: 0.7606 - val_accuracy: 0.7666\n",
      "Epoch 3/35\n",
      "1000/1000 [==============================] - 14s 14ms/step - loss: 0.5125 - accuracy: 0.8433 - val_loss: 0.6834 - val_accuracy: 0.7927\n",
      "Epoch 4/35\n",
      "1000/1000 [==============================] - 14s 14ms/step - loss: 0.4594 - accuracy: 0.8608 - val_loss: 0.6289 - val_accuracy: 0.8099\n",
      "Epoch 5/35\n",
      "1000/1000 [==============================] - 14s 14ms/step - loss: 0.4205 - accuracy: 0.8732 - val_loss: 0.5875 - val_accuracy: 0.8224\n",
      "Epoch 6/35\n",
      "1000/1000 [==============================] - 14s 14ms/step - loss: 0.3939 - accuracy: 0.8813 - val_loss: 0.5611 - val_accuracy: 0.8304\n",
      "Epoch 7/35\n",
      "1000/1000 [==============================] - 14s 14ms/step - loss: 0.3700 - accuracy: 0.8884 - val_loss: 0.5322 - val_accuracy: 0.8394\n",
      "Epoch 8/35\n",
      "1000/1000 [==============================] - 14s 14ms/step - loss: 0.3497 - accuracy: 0.8945 - val_loss: 0.5117 - val_accuracy: 0.8455\n",
      "Epoch 9/35\n",
      "1000/1000 [==============================] - 14s 14ms/step - loss: 0.3341 - accuracy: 0.8991 - val_loss: 0.4972 - val_accuracy: 0.8501\n",
      "Epoch 10/35\n",
      "1000/1000 [==============================] - 14s 14ms/step - loss: 0.3209 - accuracy: 0.9030 - val_loss: 0.4839 - val_accuracy: 0.8542\n",
      "Epoch 11/35\n",
      "1000/1000 [==============================] - 14s 14ms/step - loss: 0.3098 - accuracy: 0.9063 - val_loss: 0.4754 - val_accuracy: 0.8568\n",
      "Epoch 12/35\n",
      "1000/1000 [==============================] - 14s 14ms/step - loss: 0.3001 - accuracy: 0.9092 - val_loss: 0.4668 - val_accuracy: 0.8596\n",
      "Epoch 13/35\n",
      "1000/1000 [==============================] - 14s 14ms/step - loss: 0.2916 - accuracy: 0.9118 - val_loss: 0.4614 - val_accuracy: 0.8616\n",
      "Epoch 14/35\n",
      "1000/1000 [==============================] - 14s 14ms/step - loss: 0.2836 - accuracy: 0.9141 - val_loss: 0.4558 - val_accuracy: 0.8632\n",
      "Epoch 15/35\n",
      "1000/1000 [==============================] - 14s 14ms/step - loss: 0.2760 - accuracy: 0.9163 - val_loss: 0.4499 - val_accuracy: 0.8650\n",
      "Epoch 16/35\n",
      "1000/1000 [==============================] - 15s 15ms/step - loss: 0.2693 - accuracy: 0.9183 - val_loss: 0.4457 - val_accuracy: 0.8665\n",
      "Epoch 17/35\n",
      "1000/1000 [==============================] - 14s 14ms/step - loss: 0.2634 - accuracy: 0.9201 - val_loss: 0.4462 - val_accuracy: 0.8669\n",
      "Epoch 18/35\n",
      "1000/1000 [==============================] - 14s 14ms/step - loss: 0.2578 - accuracy: 0.9216 - val_loss: 0.4412 - val_accuracy: 0.8682\n",
      "Epoch 19/35\n",
      "1000/1000 [==============================] - 14s 14ms/step - loss: 0.2528 - accuracy: 0.9231 - val_loss: 0.4394 - val_accuracy: 0.8692\n",
      "Epoch 20/35\n",
      "1000/1000 [==============================] - 14s 14ms/step - loss: 0.2482 - accuracy: 0.9245 - val_loss: 0.4371 - val_accuracy: 0.8702\n",
      "Epoch 21/35\n",
      "1000/1000 [==============================] - 14s 14ms/step - loss: 0.2436 - accuracy: 0.9258 - val_loss: 0.4362 - val_accuracy: 0.8706\n",
      "Epoch 22/35\n",
      "1000/1000 [==============================] - 14s 14ms/step - loss: 0.2393 - accuracy: 0.9271 - val_loss: 0.4363 - val_accuracy: 0.8710\n",
      "Epoch 23/35\n",
      "1000/1000 [==============================] - 14s 14ms/step - loss: 0.2353 - accuracy: 0.9284 - val_loss: 0.4354 - val_accuracy: 0.8714\n",
      "Epoch 24/35\n",
      "1000/1000 [==============================] - 14s 14ms/step - loss: 0.2316 - accuracy: 0.9294 - val_loss: 0.4347 - val_accuracy: 0.8719\n",
      "Epoch 25/35\n",
      "1000/1000 [==============================] - 14s 14ms/step - loss: 0.2279 - accuracy: 0.9306 - val_loss: 0.4363 - val_accuracy: 0.8720\n",
      "Epoch 26/35\n",
      "1000/1000 [==============================] - 14s 14ms/step - loss: 0.2245 - accuracy: 0.9315 - val_loss: 0.4337 - val_accuracy: 0.8731\n",
      "Epoch 27/35\n",
      "1000/1000 [==============================] - 14s 14ms/step - loss: 0.2212 - accuracy: 0.9325 - val_loss: 0.4373 - val_accuracy: 0.8726\n",
      "Epoch 28/35\n",
      "1000/1000 [==============================] - 14s 14ms/step - loss: 0.2181 - accuracy: 0.9334 - val_loss: 0.4370 - val_accuracy: 0.8729\n",
      "Epoch 29/35\n",
      "1000/1000 [==============================] - 14s 14ms/step - loss: 0.2149 - accuracy: 0.9343 - val_loss: 0.4381 - val_accuracy: 0.8727\n",
      "Epoch 30/35\n",
      "1000/1000 [==============================] - 14s 14ms/step - loss: 0.2121 - accuracy: 0.9352 - val_loss: 0.4375 - val_accuracy: 0.8732\n",
      "Epoch 31/35\n",
      "1000/1000 [==============================] - 14s 14ms/step - loss: 0.2091 - accuracy: 0.9360 - val_loss: 0.4406 - val_accuracy: 0.8728\n",
      "Epoch 32/35\n",
      "1000/1000 [==============================] - 14s 14ms/step - loss: 0.2066 - accuracy: 0.9368 - val_loss: 0.4423 - val_accuracy: 0.8727\n",
      "Epoch 33/35\n",
      "1000/1000 [==============================] - 14s 14ms/step - loss: 0.2039 - accuracy: 0.9376 - val_loss: 0.4425 - val_accuracy: 0.8731\n",
      "Epoch 34/35\n",
      "1000/1000 [==============================] - 14s 14ms/step - loss: 0.2014 - accuracy: 0.9383 - val_loss: 0.4457 - val_accuracy: 0.8725\n",
      "Epoch 35/35\n",
      "1000/1000 [==============================] - 14s 14ms/step - loss: 0.2018 - accuracy: 0.9381 - val_loss: 0.4456 - val_accuracy: 0.8729\n"
     ]
    },
    {
     "data": {
      "text/plain": [
       "<keras.callbacks.History at 0x2041bdefee0>"
      ]
     },
     "execution_count": 27,
     "metadata": {},
     "output_type": "execute_result"
    }
   ],
   "source": [
    "model.fit(x=[encoder_input, decoder_input], y=decoder_target, batch_size=64, epochs=35, validation_split=0.2) "
   ]
  },
  {
   "cell_type": "code",
   "execution_count": 28,
   "metadata": {},
   "outputs": [],
   "source": [
    "#model.save_weight(\"Models/CharLevel Seq2Seq.ckpt\")"
   ]
  },
  {
   "cell_type": "markdown",
   "metadata": {
    "id": "y7vGlyuiqicW"
   },
   "source": [
    "### Activating"
   ]
  },
  {
   "cell_type": "code",
   "execution_count": 29,
   "metadata": {
    "id": "3XSyrvztcztW"
   },
   "outputs": [],
   "source": [
    "#define encoder\n",
    "encoder_model = Model(inputs=encoder_inputs, outputs=encoder_states)"
   ]
  },
  {
   "cell_type": "code",
   "execution_count": 30,
   "metadata": {
    "colab": {
     "base_uri": "https://localhost:8080/",
     "height": 376
    },
    "id": "LnruOM0QqIrJ",
    "outputId": "09889586-918a-4408-d50c-7043c6b09d15"
   },
   "outputs": [],
   "source": [
    "#define decoder\n",
    "decoder_state_input_h = Input(shape=(256,)) # hidden\n",
    "decoder_state_input_c = Input(shape=(256,)) # cell\n",
    "decoder_states_inputs = [decoder_state_input_h, decoder_state_input_c]\n",
    "\n",
    "#decoder_lstm = LSTM(units=256, return_sequences=True , return_state=True)\n",
    "decoder_outputs, state_h, state_c = decoder_lstm(decoder_inputs, initial_state=decoder_states_inputs)\n",
    "\n",
    "decoder_states = [state_h, state_c] # save hidden&cell state\n",
    "\n",
    "#decoder_softmax_layer = Dense(units=tar_vocab_size, activation=\"softmax\")\n",
    "decoder_outputs = decoder_softmax_layer(decoder_outputs)\n",
    "\n",
    "decoder_model = Model(inputs=[decoder_inputs] + decoder_states_inputs, outputs=[decoder_outputs] + decoder_states)"
   ]
  },
  {
   "cell_type": "code",
   "execution_count": 31,
   "metadata": {},
   "outputs": [
    {
     "name": "stdout",
     "output_type": "stream",
     "text": [
      "100\n",
      "(None, None, 100)\n"
     ]
    }
   ],
   "source": [
    "print(tar_vocab_size)\n",
    "print(decoder_outputs.shape)"
   ]
  },
  {
   "cell_type": "code",
   "execution_count": 32,
   "metadata": {
    "id": "iCb8jlDkylvu"
   },
   "outputs": [],
   "source": [
    "index_to_src = dict((i, char) for char, i in src_to_index.items())\n",
    "index_to_tar = dict((i, char) for char, i in tar_to_index.items())"
   ]
  },
  {
   "cell_type": "code",
   "execution_count": 33,
   "metadata": {},
   "outputs": [
    {
     "name": "stdout",
     "output_type": "stream",
     "text": [
      "{1: '\\t', 2: '\\n', 3: ' ', 4: '!', 5: '\"', 6: '$', 7: '%', 8: \"'\", 9: '(', 10: ')', 11: '+', 12: ',', 13: '-', 14: '.', 15: '/', 16: '0', 17: '1', 18: '2', 19: '3', 20: '4', 21: '5', 22: '6', 23: '7', 24: '8', 25: '9', 26: ':', 27: '?', 28: 'A', 29: 'B', 30: 'C', 31: 'D', 32: 'E', 33: 'F', 34: 'G', 35: 'H', 36: 'I', 37: 'J', 38: 'K', 39: 'L', 40: 'M', 41: 'N', 42: 'O', 43: 'P', 44: 'Q', 45: 'R', 46: 'S', 47: 'T', 48: 'U', 49: 'V', 50: 'W', 51: 'X', 52: 'Y', 53: 'Z', 54: 'a', 55: 'b', 56: 'c', 57: 'd', 58: 'e', 59: 'f', 60: 'g', 61: 'h', 62: 'i', 63: 'j', 64: 'k', 65: 'l', 66: 'm', 67: 'n', 68: 'o', 69: 'p', 70: 'q', 71: 'r', 72: 's', 73: 't', 74: 'u', 75: 'v', 76: 'w', 77: 'x', 78: 'y', 79: 'z', 80: '¡', 81: '«', 82: '°', 83: 'º', 84: '»', 85: '¿', 86: 'Á', 87: 'É', 88: 'Ó', 89: 'Ú', 90: 'á', 91: 'é', 92: 'í', 93: 'ñ', 94: 'ó', 95: 'ú', 96: 'ü', 97: 'с', 98: '—', 99: '€'}\n"
     ]
    }
   ],
   "source": [
    "print(index_to_tar)"
   ]
  },
  {
   "cell_type": "code",
   "execution_count": 34,
   "metadata": {
    "id": "a7GWqlu60Fe2"
   },
   "outputs": [],
   "source": [
    "def decode_sequence(input_seq) :\n",
    "    #input input to encoder\n",
    "    states_value = encoder_model.predict(input_seq)\n",
    "    \n",
    "    #making \\t(<SOS>) One-Hot vector\n",
    "    target_seq = np.zeros((1,1,tar_vocab_size))\n",
    "    target_seq[0,0, tar_to_index['\\t']] = 1\n",
    "    \n",
    "    decoded_sentence = \"\"\n",
    "    \n",
    "    while True :\n",
    "        output_tokens, h, c = decoder_model.predict([target_seq] + states_value)\n",
    "        \n",
    "        sampled_token_index = np.argmax(output_tokens[0, -1, :])\n",
    "        sampled_char = index_to_tar[sampled_token_index]\n",
    "        \n",
    "        decoded_sentence += sampled_char\n",
    "        \n",
    "        if sampled_char == '\\n' or len(decoded_sentence) > max_tar_len : #\\n==<eos>\n",
    "            break\n",
    "        \n",
    "        #saving predicted value\n",
    "        target_seq = np.zeros((1,1,tar_vocab_size))\n",
    "        target_seq[0,0, sampled_token_index] = 1\n",
    "        \n",
    "        #saving states\n",
    "        states_value = [h, c]\n",
    "    \n",
    "    return decoded_sentence"
   ]
  },
  {
   "cell_type": "markdown",
   "metadata": {},
   "source": [
    "# Test"
   ]
  },
  {
   "cell_type": "code",
   "execution_count": 35,
   "metadata": {},
   "outputs": [
    {
     "name": "stdout",
     "output_type": "stream",
     "text": [
      "(1, 31, 81)\n",
      "[[[0. 0. 0. ... 0. 0. 0.]\n",
      "  [0. 0. 0. ... 0. 0. 0.]\n",
      "  [0. 0. 0. ... 0. 0. 0.]\n",
      "  ...\n",
      "  [1. 0. 0. ... 0. 0. 0.]\n",
      "  [1. 0. 0. ... 0. 0. 0.]\n",
      "  [1. 0. 0. ... 0. 0. 0.]]]\n",
      "1/1 [==============================] - 1s 770ms/step\n",
      "[array([[ 4.18275548e-03,  6.25762017e-03, -4.00721729e-02,\n",
      "         9.36522558e-02, -2.34091394e-02, -2.78388739e-01,\n",
      "         3.88122140e-03, -8.01314175e-01, -1.00321598e-01,\n",
      "         4.64301631e-02, -3.44036031e-03,  2.60620634e-03,\n",
      "        -1.99010456e-03, -6.36759937e-01, -3.46003324e-02,\n",
      "        -3.77164446e-02,  9.27644491e-01, -2.56222603e-03,\n",
      "         1.25499025e-01, -5.01221232e-02,  1.39225990e-01,\n",
      "        -1.29396558e-01,  2.02167630e-02, -9.28613415e-04,\n",
      "         5.24788164e-02, -4.51589197e-01, -7.49791414e-03,\n",
      "        -6.60956046e-03,  5.90994656e-01,  8.10001940e-02,\n",
      "        -9.09691211e-03, -1.13071315e-01, -7.17031538e-01,\n",
      "        -8.32844198e-01,  5.43105416e-03, -5.71421981e-01,\n",
      "        -4.58579212e-02, -5.08025348e-01, -1.50266793e-02,\n",
      "         7.53743947e-02,  8.16450775e-01, -2.52177000e-01,\n",
      "        -2.64448255e-01,  5.97662702e-02,  4.29140717e-01,\n",
      "        -1.56317241e-02, -4.44882214e-02, -6.90997720e-01,\n",
      "         5.55894494e-01,  7.31428945e-03, -3.07764232e-01,\n",
      "        -8.40897441e-01,  4.44536097e-02, -3.92632112e-02,\n",
      "         7.85493925e-02,  2.20149845e-01,  8.69905829e-01,\n",
      "        -6.70729399e-01, -3.85959446e-03,  1.07973465e-03,\n",
      "        -1.69717446e-02, -4.57727492e-01,  2.96671689e-03,\n",
      "         5.20964444e-01,  5.66926897e-01,  2.23018527e-01,\n",
      "        -3.40779006e-01, -8.95992592e-02, -1.18912281e-02,\n",
      "         8.85413308e-03, -3.56186368e-02, -6.53497726e-02,\n",
      "         3.80387828e-02,  9.82981874e-04, -1.49328738e-01,\n",
      "         1.12644462e-02, -1.37980580e-02, -2.06648167e-02,\n",
      "        -9.85492207e-03,  6.66897178e-01, -8.87164623e-02,\n",
      "         1.39948092e-02,  1.31519914e-01,  1.45742495e-03,\n",
      "        -4.57835803e-03,  9.77888890e-03, -2.50829197e-02,\n",
      "         1.80419564e-01,  2.91599985e-02, -4.71544778e-03,\n",
      "        -1.52473086e-02,  4.81047407e-02, -3.75958974e-03,\n",
      "         7.67592490e-02, -1.63673744e-01,  7.65536427e-01,\n",
      "        -2.63085067e-01, -5.28579345e-04, -2.69961040e-02,\n",
      "        -1.85202863e-02,  4.40341271e-02, -8.13370454e-04,\n",
      "        -1.54133644e-02,  2.22633537e-02, -2.92411242e-02,\n",
      "        -1.28043406e-02, -1.58320200e-02, -4.85108560e-03,\n",
      "        -6.46471381e-01, -4.14113514e-03, -8.15037608e-01,\n",
      "        -4.96137619e-01, -7.83625059e-03, -1.76707312e-01,\n",
      "        -5.81006694e-04, -7.64515698e-01,  5.12182303e-02,\n",
      "         1.23937186e-02,  1.31730409e-02,  1.40009403e-01,\n",
      "        -1.06524106e-03, -7.43084326e-02,  3.87910847e-03,\n",
      "         4.03627269e-02, -1.03410194e-02,  4.67867553e-02,\n",
      "        -5.40042110e-03,  3.19246352e-01, -3.34996358e-02,\n",
      "         3.28348912e-02, -6.18760109e-01,  3.15564238e-02,\n",
      "        -4.31669503e-02, -3.36844027e-01,  1.53897300e-01,\n",
      "        -5.68078980e-02, -8.18040133e-01, -3.78328919e-01,\n",
      "        -3.98604065e-01, -4.34355624e-02,  2.49176532e-01,\n",
      "        -4.24319394e-02, -1.35529460e-03,  9.36966971e-04,\n",
      "         1.17173851e-01,  3.84948216e-02,  1.20990202e-02,\n",
      "        -9.77332890e-03,  7.60677755e-02,  3.21893901e-01,\n",
      "        -2.13125488e-03, -2.35210266e-02, -1.60411615e-02,\n",
      "         1.74465275e-03, -1.04096136e-03, -4.37795609e-01,\n",
      "         2.50463426e-01,  4.16363776e-02, -5.04216254e-01,\n",
      "        -8.26639235e-02,  3.20356674e-02,  9.85145420e-02,\n",
      "         1.46056101e-01,  8.88539493e-01, -6.10320158e-02,\n",
      "         3.89095536e-03,  4.72687278e-03,  4.33156848e-01,\n",
      "        -2.26508323e-02,  5.24617732e-02,  2.52127111e-01,\n",
      "        -1.63891271e-01,  5.17299958e-03,  3.19402754e-01,\n",
      "        -3.59370932e-03,  4.52288240e-01,  1.70458481e-02,\n",
      "        -1.71530747e-03, -1.12604462e-01, -1.34730963e-02,\n",
      "        -9.60749984e-01, -2.04842642e-01, -1.04477173e-02,\n",
      "        -3.35016072e-01, -1.08248331e-02, -1.07310805e-02,\n",
      "         1.42524326e-02, -7.92790763e-03, -2.23415438e-03,\n",
      "         4.92626103e-03,  1.97372735e-02,  1.38244824e-03,\n",
      "        -2.02251971e-01, -1.19356913e-02,  7.84334838e-01,\n",
      "        -5.93795061e-01,  3.55918258e-02, -3.23571824e-02,\n",
      "        -7.06032524e-03, -2.97397301e-02,  9.38758314e-01,\n",
      "         1.09708712e-01,  3.29033919e-02,  7.63566291e-04,\n",
      "        -1.18826739e-02,  1.81021951e-02, -1.00102816e-02,\n",
      "         6.68022513e-01, -9.07880440e-02,  5.92573662e-04,\n",
      "        -5.02179302e-02,  3.60819042e-01, -8.38044006e-03,\n",
      "        -7.85018969e-03, -9.73950088e-01, -6.84563756e-01,\n",
      "        -4.56412196e-01,  1.67282626e-01, -2.46322760e-03,\n",
      "        -4.91255492e-01, -7.52872452e-02,  3.11415885e-02,\n",
      "         5.79716742e-01, -2.39560637e-03,  3.09131248e-03,\n",
      "         3.56527455e-02, -3.08424095e-03,  1.03893375e-03,\n",
      "         2.41868361e-03, -8.94721866e-01, -2.57594362e-02,\n",
      "        -8.01889002e-02, -3.62044573e-02, -1.79178283e-01,\n",
      "        -1.29968747e-01,  9.01833951e-01, -3.63797471e-02,\n",
      "        -2.51047283e-01,  4.79978928e-03, -1.58651233e-01,\n",
      "         7.95945346e-01,  5.26960893e-03,  2.44994299e-03,\n",
      "         1.15202395e-02, -9.13129151e-01,  8.17278549e-02,\n",
      "        -1.28981592e-02, -2.84295417e-02, -5.81737608e-02,\n",
      "        -5.20857930e-01, -6.92715347e-02, -4.31006029e-03,\n",
      "         4.47959527e-02, -7.30761513e-02, -2.23895043e-01,\n",
      "         6.02563936e-03]], dtype=float32), array([[ 4.87863159e+00,  9.55153656e+00, -6.81986237e+00,\n",
      "         1.54648285e+01, -1.29047960e-01, -1.44590914e+00,\n",
      "         1.31506193e+00, -1.15603125e+00, -2.88081497e-01,\n",
      "         4.60406733e+00, -3.30092621e+00,  7.97865093e-01,\n",
      "        -1.08533859e+01, -3.54766798e+00, -6.95622742e-01,\n",
      "        -8.47853756e+00,  8.80890274e+00, -1.50776535e-01,\n",
      "         1.93215141e+01, -4.03093672e+00,  6.05717611e+00,\n",
      "        -8.80468082e+00,  7.93896866e+00, -1.39533854e+01,\n",
      "         5.28119691e-02, -4.10387230e+00, -4.92922401e+00,\n",
      "        -1.36679583e+01,  4.14874077e+00,  1.27235651e-01,\n",
      "        -2.91096258e+00, -4.01960468e+00, -1.62191181e+01,\n",
      "        -8.29770088e+00,  3.24423254e-01, -6.64203823e-01,\n",
      "        -8.39142418e+00, -1.97811782e+00, -7.37245989e+00,\n",
      "         5.85173845e-01,  1.55032587e+00, -1.87972546e+01,\n",
      "        -1.51978931e+01,  2.84050155e+00,  2.46040940e+00,\n",
      "        -7.48718023e+00, -5.02686314e-02, -8.69573355e-01,\n",
      "         4.33475208e+00,  2.21386142e-02, -3.22492242e-01,\n",
      "        -3.54122639e+00,  3.09043336e+00, -1.02087818e-01,\n",
      "         1.76385441e+01,  2.27113053e-01,  3.47201347e+00,\n",
      "        -8.89224112e-01, -1.26514578e+01,  1.10376591e-03,\n",
      "        -8.30458879e-01, -5.59624624e+00,  1.39770136e+01,\n",
      "         1.45613825e+00,  6.76946700e-01,  9.83557701e+00,\n",
      "        -3.71445656e-01, -1.39867744e+01, -1.48868375e-02,\n",
      "         1.77427921e+01, -4.23160172e+00, -4.28512955e+00,\n",
      "         4.05693674e+00,  4.29976406e-03, -7.36221647e+00,\n",
      "         6.69350529e+00, -3.20639205e+00, -1.41860414e+00,\n",
      "        -2.13913870e+00,  1.30088437e+00, -1.86635361e+01,\n",
      "         2.94893765e+00,  8.21606255e+00,  1.41527138e+01,\n",
      "        -7.95784473e+00,  1.18773393e-02, -1.28826914e+01,\n",
      "         8.00179386e+00,  3.30821180e+00, -4.03316803e-02,\n",
      "        -1.78562161e-02,  2.30410981e+00, -6.59466839e+00,\n",
      "         2.63494110e+00, -2.19266683e-01,  9.51122761e+00,\n",
      "        -1.51018238e+01, -1.98561344e+01, -2.64066458e+00,\n",
      "        -3.49734455e-01,  1.01180563e+01, -1.39323378e+01,\n",
      "        -3.42279959e+00,  9.67816591e-01, -7.24180192e-02,\n",
      "        -2.72752666e+00, -3.40444706e-02, -1.47414484e+01,\n",
      "        -8.17896068e-01, -3.08736157e+00, -1.83586562e+00,\n",
      "        -6.57749605e+00, -1.15951397e-01, -7.11368740e-01,\n",
      "        -5.69781959e-02, -1.60892510e+00,  6.17755473e-01,\n",
      "         7.18839705e-01,  4.32723141e+00,  5.12224531e+00,\n",
      "        -1.95614666e-01, -1.69684625e+00,  4.00336933e+00,\n",
      "         4.29628417e-02, -1.15626183e+01,  8.17248821e-02,\n",
      "        -9.09140110e-01,  1.32157679e+01, -4.30244780e+00,\n",
      "         1.55588853e+00, -5.89770699e+00,  3.64055745e-02,\n",
      "        -5.39721489e+00, -2.18584704e+00,  1.55289650e-01,\n",
      "        -9.12019634e+00, -2.29346228e+00, -9.87808764e-01,\n",
      "        -4.48865032e+00, -4.45555411e-02,  3.76997733e+00,\n",
      "        -4.62723896e-02, -6.24583054e+00,  9.55908895e-02,\n",
      "         1.83601499e+00,  3.86706293e-02,  2.83967853e+00,\n",
      "        -7.56686592e+00,  8.96075010e-01,  1.21407709e+01,\n",
      "        -9.15359592e+00, -1.36145961e+00, -1.06902447e+01,\n",
      "         8.95391655e+00, -1.48539746e+00, -5.04073262e-01,\n",
      "         9.52612936e-01,  3.74314165e+00, -1.26173182e+01,\n",
      "        -4.07914877e+00,  4.53495562e-01,  1.47669945e+01,\n",
      "         1.26847954e+01,  3.15892124e+00, -8.79348087e+00,\n",
      "         1.10963669e+01,  4.12436992e-01,  1.38727248e+00,\n",
      "        -2.08899188e+00,  1.27990875e+01,  1.39905596e+01,\n",
      "        -1.82890356e-01,  1.82226486e+01,  6.69296980e-01,\n",
      "        -4.96650028e+00,  5.17179906e-01,  1.10282743e+00,\n",
      "        -1.80060329e+01, -1.14448279e-01, -8.45122147e+00,\n",
      "        -5.17719650e+00, -1.86397028e+00, -8.04646537e-02,\n",
      "        -3.99291515e-01, -6.36508703e+00, -2.97576666e-01,\n",
      "         1.59317064e+00, -1.75432348e+00, -2.61695921e-01,\n",
      "         1.26466293e+01,  2.50548005e+00,  4.24236107e+00,\n",
      "        -2.92568177e-01, -8.46788406e-01,  1.11091435e+00,\n",
      "        -9.39719868e+00,  5.53921700e+00, -8.91437083e-02,\n",
      "        -1.23251238e+01, -6.84243202e+00,  4.14061451e+00,\n",
      "         1.38264217e+01,  6.23262835e+00,  7.32032135e-02,\n",
      "        -2.13357468e+01,  9.17018890e+00, -1.29004078e+01,\n",
      "         8.16122770e-01, -2.38610172e+00,  1.00028467e+00,\n",
      "        -1.65446358e+01,  7.46421957e+00, -8.30369663e+00,\n",
      "        -9.57937717e+00, -1.20096264e+01, -1.15951359e+00,\n",
      "        -5.07347584e+00,  1.62814789e+01, -5.17840311e-02,\n",
      "        -6.01283073e+00, -5.92225492e-01,  5.62142849e+00,\n",
      "         9.45680141e+00, -4.97257262e-02,  5.07938862e+00,\n",
      "         1.34043093e+01, -7.17046022e+00,  4.43202877e+00,\n",
      "         8.25741959e+00, -2.81214023e+00, -5.10662842e+00,\n",
      "        -8.99347591e+00, -4.38422060e+00, -4.51373041e-01,\n",
      "        -1.45265445e-01,  2.40653992e+00, -2.52953768e+00,\n",
      "        -6.05494261e+00,  1.79524593e+01, -2.76098323e+00,\n",
      "         1.55791628e+00,  5.50771039e-03,  3.79508100e-02,\n",
      "         1.31380484e-01, -1.63209724e+00,  1.33216858e+00,\n",
      "        -1.19119205e+01, -1.26047134e+01, -1.26920450e+00,\n",
      "        -5.57471180e+00, -7.94895363e+00, -1.46590769e+00,\n",
      "         1.57656393e+01, -1.39100015e+00, -7.56544054e-01,\n",
      "         3.34632421e+00]], dtype=float32)]\n"
     ]
    }
   ],
   "source": [
    "input_seq = encoder_input[3:4]\n",
    "print(input_seq.shape)\n",
    "print(input_seq)\n",
    "states_value = encoder_model.predict(input_seq)\n",
    "print(states_value)"
   ]
  },
  {
   "cell_type": "code",
   "execution_count": 36,
   "metadata": {},
   "outputs": [
    {
     "name": "stdout",
     "output_type": "stream",
     "text": [
      "(1, 1, 100)\n",
      "(2, 1, 256)\n",
      "[array([[[0., 1., 0., 0., 0., 0., 0., 0., 0., 0., 0., 0., 0., 0., 0., 0.,\n",
      "         0., 0., 0., 0., 0., 0., 0., 0., 0., 0., 0., 0., 0., 0., 0., 0.,\n",
      "         0., 0., 0., 0., 0., 0., 0., 0., 0., 0., 0., 0., 0., 0., 0., 0.,\n",
      "         0., 0., 0., 0., 0., 0., 0., 0., 0., 0., 0., 0., 0., 0., 0., 0.,\n",
      "         0., 0., 0., 0., 0., 0., 0., 0., 0., 0., 0., 0., 0., 0., 0., 0.,\n",
      "         0., 0., 0., 0., 0., 0., 0., 0., 0., 0., 0., 0., 0., 0., 0., 0.,\n",
      "         0., 0., 0., 0.]]]), array([[ 4.18275548e-03,  6.25762017e-03, -4.00721729e-02,\n",
      "         9.36522558e-02, -2.34091394e-02, -2.78388739e-01,\n",
      "         3.88122140e-03, -8.01314175e-01, -1.00321598e-01,\n",
      "         4.64301631e-02, -3.44036031e-03,  2.60620634e-03,\n",
      "        -1.99010456e-03, -6.36759937e-01, -3.46003324e-02,\n",
      "        -3.77164446e-02,  9.27644491e-01, -2.56222603e-03,\n",
      "         1.25499025e-01, -5.01221232e-02,  1.39225990e-01,\n",
      "        -1.29396558e-01,  2.02167630e-02, -9.28613415e-04,\n",
      "         5.24788164e-02, -4.51589197e-01, -7.49791414e-03,\n",
      "        -6.60956046e-03,  5.90994656e-01,  8.10001940e-02,\n",
      "        -9.09691211e-03, -1.13071315e-01, -7.17031538e-01,\n",
      "        -8.32844198e-01,  5.43105416e-03, -5.71421981e-01,\n",
      "        -4.58579212e-02, -5.08025348e-01, -1.50266793e-02,\n",
      "         7.53743947e-02,  8.16450775e-01, -2.52177000e-01,\n",
      "        -2.64448255e-01,  5.97662702e-02,  4.29140717e-01,\n",
      "        -1.56317241e-02, -4.44882214e-02, -6.90997720e-01,\n",
      "         5.55894494e-01,  7.31428945e-03, -3.07764232e-01,\n",
      "        -8.40897441e-01,  4.44536097e-02, -3.92632112e-02,\n",
      "         7.85493925e-02,  2.20149845e-01,  8.69905829e-01,\n",
      "        -6.70729399e-01, -3.85959446e-03,  1.07973465e-03,\n",
      "        -1.69717446e-02, -4.57727492e-01,  2.96671689e-03,\n",
      "         5.20964444e-01,  5.66926897e-01,  2.23018527e-01,\n",
      "        -3.40779006e-01, -8.95992592e-02, -1.18912281e-02,\n",
      "         8.85413308e-03, -3.56186368e-02, -6.53497726e-02,\n",
      "         3.80387828e-02,  9.82981874e-04, -1.49328738e-01,\n",
      "         1.12644462e-02, -1.37980580e-02, -2.06648167e-02,\n",
      "        -9.85492207e-03,  6.66897178e-01, -8.87164623e-02,\n",
      "         1.39948092e-02,  1.31519914e-01,  1.45742495e-03,\n",
      "        -4.57835803e-03,  9.77888890e-03, -2.50829197e-02,\n",
      "         1.80419564e-01,  2.91599985e-02, -4.71544778e-03,\n",
      "        -1.52473086e-02,  4.81047407e-02, -3.75958974e-03,\n",
      "         7.67592490e-02, -1.63673744e-01,  7.65536427e-01,\n",
      "        -2.63085067e-01, -5.28579345e-04, -2.69961040e-02,\n",
      "        -1.85202863e-02,  4.40341271e-02, -8.13370454e-04,\n",
      "        -1.54133644e-02,  2.22633537e-02, -2.92411242e-02,\n",
      "        -1.28043406e-02, -1.58320200e-02, -4.85108560e-03,\n",
      "        -6.46471381e-01, -4.14113514e-03, -8.15037608e-01,\n",
      "        -4.96137619e-01, -7.83625059e-03, -1.76707312e-01,\n",
      "        -5.81006694e-04, -7.64515698e-01,  5.12182303e-02,\n",
      "         1.23937186e-02,  1.31730409e-02,  1.40009403e-01,\n",
      "        -1.06524106e-03, -7.43084326e-02,  3.87910847e-03,\n",
      "         4.03627269e-02, -1.03410194e-02,  4.67867553e-02,\n",
      "        -5.40042110e-03,  3.19246352e-01, -3.34996358e-02,\n",
      "         3.28348912e-02, -6.18760109e-01,  3.15564238e-02,\n",
      "        -4.31669503e-02, -3.36844027e-01,  1.53897300e-01,\n",
      "        -5.68078980e-02, -8.18040133e-01, -3.78328919e-01,\n",
      "        -3.98604065e-01, -4.34355624e-02,  2.49176532e-01,\n",
      "        -4.24319394e-02, -1.35529460e-03,  9.36966971e-04,\n",
      "         1.17173851e-01,  3.84948216e-02,  1.20990202e-02,\n",
      "        -9.77332890e-03,  7.60677755e-02,  3.21893901e-01,\n",
      "        -2.13125488e-03, -2.35210266e-02, -1.60411615e-02,\n",
      "         1.74465275e-03, -1.04096136e-03, -4.37795609e-01,\n",
      "         2.50463426e-01,  4.16363776e-02, -5.04216254e-01,\n",
      "        -8.26639235e-02,  3.20356674e-02,  9.85145420e-02,\n",
      "         1.46056101e-01,  8.88539493e-01, -6.10320158e-02,\n",
      "         3.89095536e-03,  4.72687278e-03,  4.33156848e-01,\n",
      "        -2.26508323e-02,  5.24617732e-02,  2.52127111e-01,\n",
      "        -1.63891271e-01,  5.17299958e-03,  3.19402754e-01,\n",
      "        -3.59370932e-03,  4.52288240e-01,  1.70458481e-02,\n",
      "        -1.71530747e-03, -1.12604462e-01, -1.34730963e-02,\n",
      "        -9.60749984e-01, -2.04842642e-01, -1.04477173e-02,\n",
      "        -3.35016072e-01, -1.08248331e-02, -1.07310805e-02,\n",
      "         1.42524326e-02, -7.92790763e-03, -2.23415438e-03,\n",
      "         4.92626103e-03,  1.97372735e-02,  1.38244824e-03,\n",
      "        -2.02251971e-01, -1.19356913e-02,  7.84334838e-01,\n",
      "        -5.93795061e-01,  3.55918258e-02, -3.23571824e-02,\n",
      "        -7.06032524e-03, -2.97397301e-02,  9.38758314e-01,\n",
      "         1.09708712e-01,  3.29033919e-02,  7.63566291e-04,\n",
      "        -1.18826739e-02,  1.81021951e-02, -1.00102816e-02,\n",
      "         6.68022513e-01, -9.07880440e-02,  5.92573662e-04,\n",
      "        -5.02179302e-02,  3.60819042e-01, -8.38044006e-03,\n",
      "        -7.85018969e-03, -9.73950088e-01, -6.84563756e-01,\n",
      "        -4.56412196e-01,  1.67282626e-01, -2.46322760e-03,\n",
      "        -4.91255492e-01, -7.52872452e-02,  3.11415885e-02,\n",
      "         5.79716742e-01, -2.39560637e-03,  3.09131248e-03,\n",
      "         3.56527455e-02, -3.08424095e-03,  1.03893375e-03,\n",
      "         2.41868361e-03, -8.94721866e-01, -2.57594362e-02,\n",
      "        -8.01889002e-02, -3.62044573e-02, -1.79178283e-01,\n",
      "        -1.29968747e-01,  9.01833951e-01, -3.63797471e-02,\n",
      "        -2.51047283e-01,  4.79978928e-03, -1.58651233e-01,\n",
      "         7.95945346e-01,  5.26960893e-03,  2.44994299e-03,\n",
      "         1.15202395e-02, -9.13129151e-01,  8.17278549e-02,\n",
      "        -1.28981592e-02, -2.84295417e-02, -5.81737608e-02,\n",
      "        -5.20857930e-01, -6.92715347e-02, -4.31006029e-03,\n",
      "         4.47959527e-02, -7.30761513e-02, -2.23895043e-01,\n",
      "         6.02563936e-03]], dtype=float32), array([[ 4.87863159e+00,  9.55153656e+00, -6.81986237e+00,\n",
      "         1.54648285e+01, -1.29047960e-01, -1.44590914e+00,\n",
      "         1.31506193e+00, -1.15603125e+00, -2.88081497e-01,\n",
      "         4.60406733e+00, -3.30092621e+00,  7.97865093e-01,\n",
      "        -1.08533859e+01, -3.54766798e+00, -6.95622742e-01,\n",
      "        -8.47853756e+00,  8.80890274e+00, -1.50776535e-01,\n",
      "         1.93215141e+01, -4.03093672e+00,  6.05717611e+00,\n",
      "        -8.80468082e+00,  7.93896866e+00, -1.39533854e+01,\n",
      "         5.28119691e-02, -4.10387230e+00, -4.92922401e+00,\n",
      "        -1.36679583e+01,  4.14874077e+00,  1.27235651e-01,\n",
      "        -2.91096258e+00, -4.01960468e+00, -1.62191181e+01,\n",
      "        -8.29770088e+00,  3.24423254e-01, -6.64203823e-01,\n",
      "        -8.39142418e+00, -1.97811782e+00, -7.37245989e+00,\n",
      "         5.85173845e-01,  1.55032587e+00, -1.87972546e+01,\n",
      "        -1.51978931e+01,  2.84050155e+00,  2.46040940e+00,\n",
      "        -7.48718023e+00, -5.02686314e-02, -8.69573355e-01,\n",
      "         4.33475208e+00,  2.21386142e-02, -3.22492242e-01,\n",
      "        -3.54122639e+00,  3.09043336e+00, -1.02087818e-01,\n",
      "         1.76385441e+01,  2.27113053e-01,  3.47201347e+00,\n",
      "        -8.89224112e-01, -1.26514578e+01,  1.10376591e-03,\n",
      "        -8.30458879e-01, -5.59624624e+00,  1.39770136e+01,\n",
      "         1.45613825e+00,  6.76946700e-01,  9.83557701e+00,\n",
      "        -3.71445656e-01, -1.39867744e+01, -1.48868375e-02,\n",
      "         1.77427921e+01, -4.23160172e+00, -4.28512955e+00,\n",
      "         4.05693674e+00,  4.29976406e-03, -7.36221647e+00,\n",
      "         6.69350529e+00, -3.20639205e+00, -1.41860414e+00,\n",
      "        -2.13913870e+00,  1.30088437e+00, -1.86635361e+01,\n",
      "         2.94893765e+00,  8.21606255e+00,  1.41527138e+01,\n",
      "        -7.95784473e+00,  1.18773393e-02, -1.28826914e+01,\n",
      "         8.00179386e+00,  3.30821180e+00, -4.03316803e-02,\n",
      "        -1.78562161e-02,  2.30410981e+00, -6.59466839e+00,\n",
      "         2.63494110e+00, -2.19266683e-01,  9.51122761e+00,\n",
      "        -1.51018238e+01, -1.98561344e+01, -2.64066458e+00,\n",
      "        -3.49734455e-01,  1.01180563e+01, -1.39323378e+01,\n",
      "        -3.42279959e+00,  9.67816591e-01, -7.24180192e-02,\n",
      "        -2.72752666e+00, -3.40444706e-02, -1.47414484e+01,\n",
      "        -8.17896068e-01, -3.08736157e+00, -1.83586562e+00,\n",
      "        -6.57749605e+00, -1.15951397e-01, -7.11368740e-01,\n",
      "        -5.69781959e-02, -1.60892510e+00,  6.17755473e-01,\n",
      "         7.18839705e-01,  4.32723141e+00,  5.12224531e+00,\n",
      "        -1.95614666e-01, -1.69684625e+00,  4.00336933e+00,\n",
      "         4.29628417e-02, -1.15626183e+01,  8.17248821e-02,\n",
      "        -9.09140110e-01,  1.32157679e+01, -4.30244780e+00,\n",
      "         1.55588853e+00, -5.89770699e+00,  3.64055745e-02,\n",
      "        -5.39721489e+00, -2.18584704e+00,  1.55289650e-01,\n",
      "        -9.12019634e+00, -2.29346228e+00, -9.87808764e-01,\n",
      "        -4.48865032e+00, -4.45555411e-02,  3.76997733e+00,\n",
      "        -4.62723896e-02, -6.24583054e+00,  9.55908895e-02,\n",
      "         1.83601499e+00,  3.86706293e-02,  2.83967853e+00,\n",
      "        -7.56686592e+00,  8.96075010e-01,  1.21407709e+01,\n",
      "        -9.15359592e+00, -1.36145961e+00, -1.06902447e+01,\n",
      "         8.95391655e+00, -1.48539746e+00, -5.04073262e-01,\n",
      "         9.52612936e-01,  3.74314165e+00, -1.26173182e+01,\n",
      "        -4.07914877e+00,  4.53495562e-01,  1.47669945e+01,\n",
      "         1.26847954e+01,  3.15892124e+00, -8.79348087e+00,\n",
      "         1.10963669e+01,  4.12436992e-01,  1.38727248e+00,\n",
      "        -2.08899188e+00,  1.27990875e+01,  1.39905596e+01,\n",
      "        -1.82890356e-01,  1.82226486e+01,  6.69296980e-01,\n",
      "        -4.96650028e+00,  5.17179906e-01,  1.10282743e+00,\n",
      "        -1.80060329e+01, -1.14448279e-01, -8.45122147e+00,\n",
      "        -5.17719650e+00, -1.86397028e+00, -8.04646537e-02,\n",
      "        -3.99291515e-01, -6.36508703e+00, -2.97576666e-01,\n",
      "         1.59317064e+00, -1.75432348e+00, -2.61695921e-01,\n",
      "         1.26466293e+01,  2.50548005e+00,  4.24236107e+00,\n",
      "        -2.92568177e-01, -8.46788406e-01,  1.11091435e+00,\n",
      "        -9.39719868e+00,  5.53921700e+00, -8.91437083e-02,\n",
      "        -1.23251238e+01, -6.84243202e+00,  4.14061451e+00,\n",
      "         1.38264217e+01,  6.23262835e+00,  7.32032135e-02,\n",
      "        -2.13357468e+01,  9.17018890e+00, -1.29004078e+01,\n",
      "         8.16122770e-01, -2.38610172e+00,  1.00028467e+00,\n",
      "        -1.65446358e+01,  7.46421957e+00, -8.30369663e+00,\n",
      "        -9.57937717e+00, -1.20096264e+01, -1.15951359e+00,\n",
      "        -5.07347584e+00,  1.62814789e+01, -5.17840311e-02,\n",
      "        -6.01283073e+00, -5.92225492e-01,  5.62142849e+00,\n",
      "         9.45680141e+00, -4.97257262e-02,  5.07938862e+00,\n",
      "         1.34043093e+01, -7.17046022e+00,  4.43202877e+00,\n",
      "         8.25741959e+00, -2.81214023e+00, -5.10662842e+00,\n",
      "        -8.99347591e+00, -4.38422060e+00, -4.51373041e-01,\n",
      "        -1.45265445e-01,  2.40653992e+00, -2.52953768e+00,\n",
      "        -6.05494261e+00,  1.79524593e+01, -2.76098323e+00,\n",
      "         1.55791628e+00,  5.50771039e-03,  3.79508100e-02,\n",
      "         1.31380484e-01, -1.63209724e+00,  1.33216858e+00,\n",
      "        -1.19119205e+01, -1.26047134e+01, -1.26920450e+00,\n",
      "        -5.57471180e+00, -7.94895363e+00, -1.46590769e+00,\n",
      "         1.57656393e+01, -1.39100015e+00, -7.56544054e-01,\n",
      "         3.34632421e+00]], dtype=float32)]\n"
     ]
    }
   ],
   "source": [
    "target_seq = np.zeros((1,1,tar_vocab_size))\n",
    "target_seq[0,0, tar_to_index['\\t']] = 1\n",
    "print(np.array(target_seq).shape)\n",
    "print(np.array(states_value).shape)\n",
    "print([target_seq] + states_value)"
   ]
  },
  {
   "cell_type": "code",
   "execution_count": 37,
   "metadata": {},
   "outputs": [
    {
     "name": "stdout",
     "output_type": "stream",
     "text": [
      "1/1 [==============================] - 0s 223ms/step\n",
      "49\n"
     ]
    }
   ],
   "source": [
    "output_tokens, h, c = decoder_model.predict([target_seq] + states_value)\n",
    "\n",
    "sampled_token_index = np.argmax(output_tokens[0, -1, :])\n",
    "print(sampled_token_index)"
   ]
  },
  {
   "cell_type": "code",
   "execution_count": null,
   "metadata": {},
   "outputs": [],
   "source": []
  },
  {
   "cell_type": "code",
   "execution_count": 92,
   "metadata": {},
   "outputs": [
    {
     "name": "stdout",
     "output_type": "stream",
     "text": [
      "1/1 [==============================] - 0s 19ms/step\n",
      "1/1 [==============================] - 0s 17ms/step\n",
      "1/1 [==============================] - 0s 18ms/step\n",
      "1/1 [==============================] - 0s 27ms/step\n",
      "1/1 [==============================] - 0s 16ms/step\n",
      "1/1 [==============================] - 0s 18ms/step\n",
      "1/1 [==============================] - 0s 24ms/step\n",
      "1/1 [==============================] - 0s 21ms/step\n",
      "1/1 [==============================] - 0s 30ms/step\n",
      "1/1 [==============================] - 0s 21ms/step\n",
      "1/1 [==============================] - 0s 17ms/step\n",
      "1/1 [==============================] - 0s 26ms/step\n",
      "1/1 [==============================] - 0s 22ms/step\n",
      "1/1 [==============================] - 0s 18ms/step\n",
      "-----------------------------------\n",
      "Input : Go.\n",
      "Correct answer: Váyase.\n",
      "Output : Vete a Mary.\n",
      "1/1 [==============================] - 0s 17ms/step\n",
      "1/1 [==============================] - 0s 17ms/step\n",
      "1/1 [==============================] - 0s 24ms/step\n",
      "1/1 [==============================] - 0s 21ms/step\n",
      "1/1 [==============================] - 0s 32ms/step\n",
      "1/1 [==============================] - 0s 27ms/step\n",
      "1/1 [==============================] - 0s 12ms/step\n",
      "1/1 [==============================] - 0s 31ms/step\n",
      "1/1 [==============================] - 0s 16ms/step\n",
      "1/1 [==============================] - 0s 17ms/step\n",
      "1/1 [==============================] - 0s 17ms/step\n",
      "-----------------------------------\n",
      "Input : Shoot!\n",
      "Correct answer: ¡Disparad!\n",
      "Output : ¡Dispare!\n",
      "1/1 [==============================] - 0s 17ms/step\n",
      "1/1 [==============================] - 0s 17ms/step\n",
      "1/1 [==============================] - 0s 15ms/step\n",
      "1/1 [==============================] - 0s 16ms/step\n",
      "1/1 [==============================] - 0s 28ms/step\n",
      "1/1 [==============================] - 0s 25ms/step\n",
      "1/1 [==============================] - 0s 16ms/step\n",
      "1/1 [==============================] - 0s 16ms/step\n",
      "1/1 [==============================] - 0s 13ms/step\n",
      "1/1 [==============================] - 0s 34ms/step\n",
      "1/1 [==============================] - 0s 17ms/step\n",
      "1/1 [==============================] - 0s 17ms/step\n",
      "1/1 [==============================] - 0s 28ms/step\n",
      "-----------------------------------\n",
      "Input : I wept.\n",
      "Correct answer: Lloré.\n",
      "Output : Me respeta.\n",
      "1/1 [==============================] - 0s 16ms/step\n",
      "1/1 [==============================] - 0s 17ms/step\n",
      "1/1 [==============================] - 0s 17ms/step\n",
      "1/1 [==============================] - 0s 26ms/step\n",
      "1/1 [==============================] - 0s 17ms/step\n",
      "1/1 [==============================] - 0s 28ms/step\n",
      "1/1 [==============================] - 0s 24ms/step\n",
      "1/1 [==============================] - 0s 17ms/step\n",
      "1/1 [==============================] - 0s 24ms/step\n",
      "1/1 [==============================] - 0s 19ms/step\n",
      "1/1 [==============================] - 0s 17ms/step\n",
      "1/1 [==============================] - 0s 21ms/step\n",
      "1/1 [==============================] - 0s 31ms/step\n",
      "1/1 [==============================] - 0s 16ms/step\n",
      "1/1 [==============================] - 0s 23ms/step\n",
      "1/1 [==============================] - 0s 31ms/step\n",
      "-----------------------------------\n",
      "Input : Who ran?\n",
      "Correct answer: ¿Quién corría?\n",
      "Output : ¿Quién corrió?\n",
      "1/1 [==============================] - 0s 16ms/step\n",
      "1/1 [==============================] - 0s 16ms/step\n",
      "1/1 [==============================] - 0s 40ms/step\n",
      "1/1 [==============================] - 0s 16ms/step\n",
      "1/1 [==============================] - 0s 24ms/step\n",
      "1/1 [==============================] - 0s 16ms/step\n",
      "1/1 [==============================] - 0s 27ms/step\n",
      "1/1 [==============================] - 0s 22ms/step\n",
      "1/1 [==============================] - 0s 31ms/step\n",
      "1/1 [==============================] - 0s 18ms/step\n",
      "1/1 [==============================] - 0s 20ms/step\n",
      "1/1 [==============================] - 0s 28ms/step\n",
      "1/1 [==============================] - 0s 21ms/step\n",
      "1/1 [==============================] - 0s 29ms/step\n",
      "1/1 [==============================] - 0s 25ms/step\n",
      "-----------------------------------\n",
      "Input : Stay home.\n",
      "Correct answer: Quédate en casa.\n",
      "Output : Quédate aquí.\n"
     ]
    }
   ],
   "source": [
    "for seq_index in [3,50,100,300,1001] : \n",
    "    input_seq = encoder_input[seq_index:seq_index+1]\n",
    "    decoded_sentence = decode_sequence(input_seq)\n",
    "    print(35 * \"-\")\n",
    "    print('Input :', lines.src[seq_index])\n",
    "    print('Correct answer:', lines.tar[seq_index][1:len(lines.tar[seq_index])-1])\n",
    "    print('Output :', decoded_sentence[0:len(decoded_sentence)-1]) "
   ]
  },
  {
   "cell_type": "code",
   "execution_count": null,
   "metadata": {},
   "outputs": [],
   "source": []
  },
  {
   "cell_type": "code",
   "execution_count": 90,
   "metadata": {},
   "outputs": [],
   "source": [
    "def text_input_preprocessing(input_sentence) :\n",
    "    incoded = []\n",
    "    \n",
    "    for word in input_sentence :\n",
    "        incoded.append(src_to_index[word])\n",
    "        \n",
    "    incoded = pad_sequences([incoded], maxlen=max_src_len, padding=\"post\")\n",
    "    print(incoded)\n",
    "    test_input = to_categorical(incoded, num_classes=81)\n",
    "    \n",
    "    return test_input"
   ]
  },
  {
   "cell_type": "code",
   "execution_count": 98,
   "metadata": {},
   "outputs": [
    {
     "name": "stdout",
     "output_type": "stream",
     "text": [
      "[[31  1 49 61  1 49  1 67 68 69 52 53 62 68  9  0  0  0  0  0  0  0  0  0\n",
      "   0  0  0  0  0  0  0]]\n",
      "(1, 31, 81)\n",
      "[[[0. 0. 0. ... 0. 0. 0.]\n",
      "  [0. 1. 0. ... 0. 0. 0.]\n",
      "  [0. 0. 0. ... 0. 0. 0.]\n",
      "  ...\n",
      "  [1. 0. 0. ... 0. 0. 0.]\n",
      "  [1. 0. 0. ... 0. 0. 0.]\n",
      "  [1. 0. 0. ... 0. 0. 0.]]]\n",
      "1/1 [==============================] - 0s 17ms/step\n",
      "1/1 [==============================] - 0s 17ms/step\n",
      "1/1 [==============================] - 0s 25ms/step\n",
      "1/1 [==============================] - 0s 16ms/step\n",
      "1/1 [==============================] - 0s 26ms/step\n",
      "1/1 [==============================] - 0s 17ms/step\n",
      "1/1 [==============================] - 0s 29ms/step\n",
      "1/1 [==============================] - 0s 24ms/step\n",
      "1/1 [==============================] - 0s 16ms/step\n",
      "1/1 [==============================] - 0s 25ms/step\n",
      "1/1 [==============================] - 0s 16ms/step\n",
      "1/1 [==============================] - 0s 27ms/step\n",
      "1/1 [==============================] - 0s 18ms/step\n",
      "1/1 [==============================] - 0s 17ms/step\n",
      "1/1 [==============================] - 0s 17ms/step\n",
      "1/1 [==============================] - 0s 17ms/step\n",
      "1/1 [==============================] - 0s 17ms/step\n",
      "1/1 [==============================] - 0s 18ms/step\n",
      "1/1 [==============================] - 0s 19ms/step\n",
      "1/1 [==============================] - 0s 31ms/step\n",
      "Soy un estudiante.\n",
      "\n"
     ]
    }
   ],
   "source": [
    "test = \"I am a student.\"\n",
    "\n",
    "test_input = text_input_preprocessing(test)\n",
    "print(test_input.shape)\n",
    "print(test_input)\n",
    "print(decode_sequence(test_input))"
   ]
  },
  {
   "cell_type": "code",
   "execution_count": null,
   "metadata": {},
   "outputs": [],
   "source": []
  }
 ],
 "metadata": {
  "accelerator": "GPU",
  "colab": {
   "authorship_tag": "ABX9TyORksIhmLALwN3EwVb0RqWA",
   "include_colab_link": true,
   "mount_file_id": "1Vyebt81Yboszze1PMH87J_BRUzbWkY1G",
   "provenance": []
  },
  "gpuClass": "standard",
  "kernelspec": {
   "display_name": "Python 3 (ipykernel)",
   "language": "python",
   "name": "python3"
  },
  "language_info": {
   "codemirror_mode": {
    "name": "ipython",
    "version": 3
   },
   "file_extension": ".py",
   "mimetype": "text/x-python",
   "name": "python",
   "nbconvert_exporter": "python",
   "pygments_lexer": "ipython3",
   "version": "3.9.13"
  }
 },
 "nbformat": 4,
 "nbformat_minor": 1
}
