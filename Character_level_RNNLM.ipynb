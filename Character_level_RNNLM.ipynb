{
 "cells": [
  {
   "cell_type": "code",
   "execution_count": 202,
   "id": "4bffd95b",
   "metadata": {},
   "outputs": [],
   "source": [
    "import numpy as np\n",
    "import urllib.request\n",
    "from tensorflow.keras.utils import to_categorical"
   ]
  },
  {
   "cell_type": "code",
   "execution_count": 203,
   "id": "3e7af0b9",
   "metadata": {},
   "outputs": [
    {
     "data": {
      "text/plain": [
       "('DataSet/Alice.txt', <http.client.HTTPMessage at 0x2071f1078e0>)"
      ]
     },
     "execution_count": 203,
     "metadata": {},
     "output_type": "execute_result"
    }
   ],
   "source": [
    "urllib.request.urlretrieve(\"http://www.gutenberg.org/files/11/11-0.txt\", filename=\"DataSet/Alice.txt\")"
   ]
  },
  {
   "cell_type": "code",
   "execution_count": 204,
   "id": "6d2b9889",
   "metadata": {},
   "outputs": [],
   "source": [
    "f = open(\"DataSet/Alice.txt\",'rb')"
   ]
  },
  {
   "cell_type": "code",
   "execution_count": 205,
   "id": "5906a842",
   "metadata": {},
   "outputs": [],
   "source": [
    "sentences = []\n",
    "\n",
    "for sentence in f: #read the line one by one\n",
    "    sentence = sentence.strip()\n",
    "    sentence = sentence.lower()\n",
    "    sentence = sentence.decode('ascii', 'ignore') #eliminate bytearrays\n",
    "    \n",
    "    if len(sentence) > 0:\n",
    "        sentences.append(sentence)\n",
    "    \n",
    "f.close()"
   ]
  },
  {
   "cell_type": "code",
   "execution_count": 206,
   "id": "41eeccb9",
   "metadata": {},
   "outputs": [
    {
     "data": {
      "text/plain": [
       "['the project gutenberg ebook of alices adventures in wonderland, by lewis carroll',\n",
       " 'this ebook is for the use of anyone anywhere in the united states and',\n",
       " 'most other parts of the world at no cost and with almost no restrictions',\n",
       " 'whatsoever. you may copy it, give it away or re-use it under the terms',\n",
       " 'of the project gutenberg license included with this ebook or online at']"
      ]
     },
     "execution_count": 206,
     "metadata": {},
     "output_type": "execute_result"
    }
   ],
   "source": [
    "sentences[:5]"
   ]
  },
  {
   "cell_type": "code",
   "execution_count": 207,
   "id": "d7542557",
   "metadata": {},
   "outputs": [
    {
     "name": "stdout",
     "output_type": "stream",
     "text": [
      "159484\n"
     ]
    }
   ],
   "source": [
    "total_data = ' '.join(sentences)\n",
    "print(len(total_data))"
   ]
  },
  {
   "cell_type": "code",
   "execution_count": 208,
   "id": "23f7ece1",
   "metadata": {},
   "outputs": [
    {
     "name": "stdout",
     "output_type": "stream",
     "text": [
      "the project gutenberg ebook of alices adventures in wonderland, by lewis carroll this ebook is for t\n"
     ]
    }
   ],
   "source": [
    "print(total_data[:100])"
   ]
  },
  {
   "cell_type": "code",
   "execution_count": 209,
   "id": "a9ed1063",
   "metadata": {},
   "outputs": [
    {
     "name": "stdout",
     "output_type": "stream",
     "text": [
      "Size of the character set :  56\n"
     ]
    }
   ],
   "source": [
    "char_vocab = sorted(list(set(total_data)))\n",
    "vocab_size = len(char_vocab)\n",
    "print(\"Size of the character set : \",vocab_size)"
   ]
  },
  {
   "cell_type": "code",
   "execution_count": 210,
   "id": "cedc15c6",
   "metadata": {},
   "outputs": [],
   "source": [
    "#This is for toy-project for understanding RNN"
   ]
  },
  {
   "cell_type": "code",
   "execution_count": 211,
   "id": "4cc77675",
   "metadata": {},
   "outputs": [
    {
     "name": "stdout",
     "output_type": "stream",
     "text": [
      "[' ', '!', '\"', '#', '$', '%', \"'\", '(', ')', '*', ',', '-', '.', '/', '0', '1', '2', '3', '4', '5', '6', '7', '8', '9', ':', ';', '?', '[', ']', '_', 'a', 'b', 'c', 'd', 'e', 'f', 'g', 'h', 'i', 'j', 'k', 'l', 'm', 'n', 'o', 'p', 'q', 'r', 's', 't', 'u', 'v', 'w', 'x', 'y', 'z']\n"
     ]
    }
   ],
   "source": [
    "print(char_vocab)"
   ]
  },
  {
   "cell_type": "code",
   "execution_count": 212,
   "id": "3c8ceaf6",
   "metadata": {},
   "outputs": [
    {
     "name": "stdout",
     "output_type": "stream",
     "text": [
      "{' ': 1, '!': 2, '\"': 3, '#': 4, '$': 5, '%': 6, \"'\": 7, '(': 8, ')': 9, '*': 10, ',': 11, '-': 12, '.': 13, '/': 14, '0': 15, '1': 16, '2': 17, '3': 18, '4': 19, '5': 20, '6': 21, '7': 22, '8': 23, '9': 24, ':': 25, ';': 26, '?': 27, '[': 28, ']': 29, '_': 30, 'a': 31, 'b': 32, 'c': 33, 'd': 34, 'e': 35, 'f': 36, 'g': 37, 'h': 38, 'i': 39, 'j': 40, 'k': 41, 'l': 42, 'm': 43, 'n': 44, 'o': 45, 'p': 46, 'q': 47, 'r': 48, 's': 49, 't': 50, 'u': 51, 'v': 52, 'w': 53, 'x': 54, 'y': 55, 'z': 56}\n"
     ]
    }
   ],
   "source": [
    "from tensorflow.keras.preprocessing.text import Tokenizer\n",
    "tokenizer = Tokenizer()\n",
    "tokenizer.fit_on_texts([char_vocab])\n",
    "char_to_index = tokenizer.word_index\n",
    "print(char_to_index)"
   ]
  },
  {
   "cell_type": "code",
   "execution_count": 213,
   "id": "c8fce6e8",
   "metadata": {},
   "outputs": [
    {
     "name": "stdout",
     "output_type": "stream",
     "text": [
      "{' ': 0, '!': 1, '\"': 2, '#': 3, '$': 4, '%': 5, \"'\": 6, '(': 7, ')': 8, '*': 9, ',': 10, '-': 11, '.': 12, '/': 13, '0': 14, '1': 15, '2': 16, '3': 17, '4': 18, '5': 19, '6': 20, '7': 21, '8': 22, '9': 23, ':': 24, ';': 25, '?': 26, '[': 27, ']': 28, '_': 29, 'a': 30, 'b': 31, 'c': 32, 'd': 33, 'e': 34, 'f': 35, 'g': 36, 'h': 37, 'i': 38, 'j': 39, 'k': 40, 'l': 41, 'm': 42, 'n': 43, 'o': 44, 'p': 45, 'q': 46, 'r': 47, 's': 48, 't': 49, 'u': 50, 'v': 51, 'w': 52, 'x': 53, 'y': 54, 'z': 55}\n"
     ]
    }
   ],
   "source": [
    "convert_dict = {v:k for k,v in char_to_index.items()}\n",
    "char_to_index = {}\n",
    "char_to_index = {v:k-1 for k,v in convert_dict.items()}\n",
    "    \n",
    "print(char_to_index)"
   ]
  },
  {
   "cell_type": "code",
   "execution_count": 214,
   "id": "1ef3b476",
   "metadata": {},
   "outputs": [],
   "source": [
    "index_to_char = {}\n",
    "\n",
    "for key, value in char_to_index.items():\n",
    "    index_to_char[value] = key"
   ]
  },
  {
   "cell_type": "code",
   "execution_count": 215,
   "id": "594333ae",
   "metadata": {},
   "outputs": [],
   "source": [
    "#curiosity  Input: curiosit  Output: uriosity  8"
   ]
  },
  {
   "cell_type": "code",
   "execution_count": 216,
   "id": "b49d8af5",
   "metadata": {},
   "outputs": [
    {
     "name": "stdout",
     "output_type": "stream",
     "text": [
      "Number of samples:  2658\n"
     ]
    }
   ],
   "source": [
    "#making Dataset\n",
    "seq_length = 60\n",
    "\n",
    "n_samples = int(np.floor((len(total_data) - 1) / seq_length))\n",
    "print(\"Number of samples: \", n_samples)"
   ]
  },
  {
   "cell_type": "code",
   "execution_count": 217,
   "id": "c01cecb1",
   "metadata": {},
   "outputs": [],
   "source": [
    "train_X = []\n",
    "train_y = []\n",
    "\n",
    "for i in range(n_samples):\n",
    "    X_sample = total_data[i * seq_length: (i+1) * seq_length]\n",
    "    X_encoded = [char_to_index[c] for c in X_sample]\n",
    "    train_X.append(X_encoded)\n",
    "    \n",
    "    #Shift one step to the right\n",
    "    y_sample = total_data[i * seq_length + 1: (i + 1) * seq_length + 1]\n",
    "    y_encoded = [char_to_index[c] for c in y_sample]\n",
    "    train_y.append(y_encoded)"
   ]
  },
  {
   "cell_type": "code",
   "execution_count": 221,
   "id": "c1c16c63",
   "metadata": {},
   "outputs": [
    {
     "name": "stdout",
     "output_type": "stream",
     "text": [
      "Sample of the X Dataset:  [49, 37, 34, 0, 45, 47, 44, 39, 34, 32, 49, 0, 36, 50, 49, 34, 43, 31, 34, 47, 36, 0, 34, 31, 44, 44, 40, 0, 44, 35, 0, 30, 41, 38, 32, 34, 48, 0, 30, 33, 51, 34, 43, 49, 50, 47, 34, 48, 0, 38, 43, 0, 52, 44, 43, 33, 34, 47, 41, 30]\n",
      "Sample of the y Dataset:  [37, 34, 0, 45, 47, 44, 39, 34, 32, 49, 0, 36, 50, 49, 34, 43, 31, 34, 47, 36, 0, 34, 31, 44, 44, 40, 0, 44, 35, 0, 30, 41, 38, 32, 34, 48, 0, 30, 33, 51, 34, 43, 49, 50, 47, 34, 48, 0, 38, 43, 0, 52, 44, 43, 33, 34, 47, 41, 30, 43]\n",
      "=====================================================================================\n",
      "Decorded sample data for X dataset:  ['t', 'h', 'e', ' ', 'p', 'r', 'o', 'j', 'e', 'c', 't', ' ', 'g', 'u', 't', 'e', 'n', 'b', 'e', 'r', 'g', ' ', 'e', 'b', 'o', 'o', 'k', ' ', 'o', 'f', ' ', 'a', 'l', 'i', 'c', 'e', 's', ' ', 'a', 'd', 'v', 'e', 'n', 't', 'u', 'r', 'e', 's', ' ', 'i', 'n', ' ', 'w', 'o', 'n', 'd', 'e', 'r', 'l', 'a']\n",
      "Decorded sample data for y dataset:  ['h', 'e', ' ', 'p', 'r', 'o', 'j', 'e', 'c', 't', ' ', 'g', 'u', 't', 'e', 'n', 'b', 'e', 'r', 'g', ' ', 'e', 'b', 'o', 'o', 'k', ' ', 'o', 'f', ' ', 'a', 'l', 'i', 'c', 'e', 's', ' ', 'a', 'd', 'v', 'e', 'n', 't', 'u', 'r', 'e', 's', ' ', 'i', 'n', ' ', 'w', 'o', 'n', 'd', 'e', 'r', 'l', 'a', 'n']\n"
     ]
    }
   ],
   "source": [
    "print(\"Sample of the X Dataset: \",train_X[0])\n",
    "print(\"Sample of the y Dataset: \",train_y[0])\n",
    "print(\"=\"*85)\n",
    "print(\"Decorded sample data for X dataset: \", [index_to_char[i] for i in train_X[0]])\n",
    "print(\"Decorded sample data for y dataset: \", [index_to_char[i] for i in train_y[0]])"
   ]
  },
  {
   "cell_type": "code",
   "execution_count": 222,
   "id": "f43655c1",
   "metadata": {},
   "outputs": [
    {
     "name": "stdout",
     "output_type": "stream",
     "text": [
      "Shape of the train_X:  (2658, 60, 56)\n",
      "Shape of the train_y:  (2658, 60, 56)\n",
      "[0. 0. 0. 0. 0. 0. 0. 0. 0. 0. 0. 0. 0. 0. 0. 0. 0. 0. 0. 0. 0. 0. 0. 0.\n",
      " 0. 0. 0. 0. 0. 0. 0. 0. 0. 0. 0. 0. 0. 0. 0. 0. 0. 0. 0. 0. 0. 0. 0. 0.\n",
      " 0. 1. 0. 0. 0. 0. 0. 0.]\n"
     ]
    }
   ],
   "source": [
    "train_X = to_categorical(train_X)\n",
    "train_y = to_categorical(train_y)\n",
    "print(\"Shape of the train_X: \",train_X.shape)\n",
    "print(\"Shape of the train_y: \",train_y.shape)\n",
    "print(train_X[0][0])"
   ]
  },
  {
   "cell_type": "code",
   "execution_count": null,
   "id": "ef8c66d0",
   "metadata": {},
   "outputs": [],
   "source": []
  },
  {
   "cell_type": "code",
   "execution_count": 223,
   "id": "2cb8089b",
   "metadata": {},
   "outputs": [],
   "source": [
    "from tensorflow.keras.models import Sequential\n",
    "from tensorflow.keras.layers import Dense, GRU, TimeDistributed"
   ]
  },
  {
   "cell_type": "code",
   "execution_count": 224,
   "id": "d7761478",
   "metadata": {},
   "outputs": [],
   "source": [
    "hidden_units = 256\n",
    "\n",
    "model = Sequential()\n",
    "model.add(GRU(hidden_units, input_shape=(None, train_X.shape[2]), return_sequences=True))\n",
    "model.add(GRU(hidden_units, return_sequences=True))\n",
    "model.add(TimeDistributed(Dense(vocab_size, activation='softmax')))\n",
    "\n",
    "model.compile(loss='categorical_crossentropy', optimizer='adam', metrics=['accuracy'])"
   ]
  },
  {
   "cell_type": "code",
   "execution_count": 225,
   "id": "b8c920ed",
   "metadata": {},
   "outputs": [
    {
     "name": "stdout",
     "output_type": "stream",
     "text": [
      "Epoch 1/80\n",
      "84/84 [==============================] - 3s 15ms/step - loss: 2.8743 - accuracy: 0.2324\n",
      "Epoch 2/80\n",
      "84/84 [==============================] - 1s 13ms/step - loss: 2.2623 - accuracy: 0.3600\n",
      "Epoch 3/80\n",
      "84/84 [==============================] - 1s 13ms/step - loss: 2.0831 - accuracy: 0.4023\n",
      "Epoch 4/80\n",
      "84/84 [==============================] - 1s 13ms/step - loss: 1.9404 - accuracy: 0.4351\n",
      "Epoch 5/80\n",
      "84/84 [==============================] - 1s 13ms/step - loss: 1.8212 - accuracy: 0.4667\n",
      "Epoch 6/80\n",
      "84/84 [==============================] - 1s 13ms/step - loss: 1.7238 - accuracy: 0.4936\n",
      "Epoch 7/80\n",
      "84/84 [==============================] - 1s 14ms/step - loss: 1.6402 - accuracy: 0.5151\n",
      "Epoch 8/80\n",
      "84/84 [==============================] - 1s 13ms/step - loss: 1.5696 - accuracy: 0.5332\n",
      "Epoch 9/80\n",
      "84/84 [==============================] - 1s 13ms/step - loss: 1.5066 - accuracy: 0.5515\n",
      "Epoch 10/80\n",
      "84/84 [==============================] - 1s 13ms/step - loss: 1.4531 - accuracy: 0.5659\n",
      "Epoch 11/80\n",
      "84/84 [==============================] - 1s 13ms/step - loss: 1.4028 - accuracy: 0.5797\n",
      "Epoch 12/80\n",
      "84/84 [==============================] - 1s 13ms/step - loss: 1.3624 - accuracy: 0.5908\n",
      "Epoch 13/80\n",
      "84/84 [==============================] - 1s 13ms/step - loss: 1.3214 - accuracy: 0.6022\n",
      "Epoch 14/80\n",
      "84/84 [==============================] - 1s 13ms/step - loss: 1.2889 - accuracy: 0.6104\n",
      "Epoch 15/80\n",
      "84/84 [==============================] - 1s 13ms/step - loss: 1.2559 - accuracy: 0.6187\n",
      "Epoch 16/80\n",
      "84/84 [==============================] - 1s 13ms/step - loss: 1.2222 - accuracy: 0.6284\n",
      "Epoch 17/80\n",
      "84/84 [==============================] - 1s 14ms/step - loss: 1.1908 - accuracy: 0.6378\n",
      "Epoch 18/80\n",
      "84/84 [==============================] - 1s 13ms/step - loss: 1.1632 - accuracy: 0.6447\n",
      "Epoch 19/80\n",
      "84/84 [==============================] - 1s 13ms/step - loss: 1.1338 - accuracy: 0.6527\n",
      "Epoch 20/80\n",
      "84/84 [==============================] - 1s 13ms/step - loss: 1.1064 - accuracy: 0.6598\n",
      "Epoch 21/80\n",
      "84/84 [==============================] - 1s 13ms/step - loss: 1.0788 - accuracy: 0.6676\n",
      "Epoch 22/80\n",
      "84/84 [==============================] - 1s 13ms/step - loss: 1.0525 - accuracy: 0.6761\n",
      "Epoch 23/80\n",
      "84/84 [==============================] - 1s 14ms/step - loss: 1.0215 - accuracy: 0.6848\n",
      "Epoch 24/80\n",
      "84/84 [==============================] - 1s 13ms/step - loss: 0.9986 - accuracy: 0.6917\n",
      "Epoch 25/80\n",
      "84/84 [==============================] - 1s 13ms/step - loss: 0.9664 - accuracy: 0.7015\n",
      "Epoch 26/80\n",
      "84/84 [==============================] - 1s 13ms/step - loss: 0.9405 - accuracy: 0.7085\n",
      "Epoch 27/80\n",
      "84/84 [==============================] - 1s 13ms/step - loss: 0.9153 - accuracy: 0.7172\n",
      "Epoch 28/80\n",
      "84/84 [==============================] - 1s 13ms/step - loss: 0.8863 - accuracy: 0.7260\n",
      "Epoch 29/80\n",
      "84/84 [==============================] - 1s 13ms/step - loss: 0.8548 - accuracy: 0.7358\n",
      "Epoch 30/80\n",
      "84/84 [==============================] - 1s 13ms/step - loss: 0.8290 - accuracy: 0.7446\n",
      "Epoch 31/80\n",
      "84/84 [==============================] - 1s 13ms/step - loss: 0.8042 - accuracy: 0.7513\n",
      "Epoch 32/80\n",
      "84/84 [==============================] - 1s 13ms/step - loss: 0.7777 - accuracy: 0.7609\n",
      "Epoch 33/80\n",
      "84/84 [==============================] - 1s 13ms/step - loss: 0.7463 - accuracy: 0.7711\n",
      "Epoch 34/80\n",
      "84/84 [==============================] - 1s 13ms/step - loss: 0.7179 - accuracy: 0.7806\n",
      "Epoch 35/80\n",
      "84/84 [==============================] - 1s 13ms/step - loss: 0.6939 - accuracy: 0.7880\n",
      "Epoch 36/80\n",
      "84/84 [==============================] - 1s 13ms/step - loss: 0.6661 - accuracy: 0.7977\n",
      "Epoch 37/80\n",
      "84/84 [==============================] - 1s 13ms/step - loss: 0.6419 - accuracy: 0.8053\n",
      "Epoch 38/80\n",
      "84/84 [==============================] - 1s 13ms/step - loss: 0.6133 - accuracy: 0.8155\n",
      "Epoch 39/80\n",
      "84/84 [==============================] - 1s 13ms/step - loss: 0.5963 - accuracy: 0.8205\n",
      "Epoch 40/80\n",
      "84/84 [==============================] - 1s 13ms/step - loss: 0.5698 - accuracy: 0.8307\n",
      "Epoch 41/80\n",
      "84/84 [==============================] - 1s 13ms/step - loss: 0.5433 - accuracy: 0.8389\n",
      "Epoch 42/80\n",
      "84/84 [==============================] - 1s 14ms/step - loss: 0.5161 - accuracy: 0.8496\n",
      "Epoch 43/80\n",
      "84/84 [==============================] - 1s 13ms/step - loss: 0.4978 - accuracy: 0.8550\n",
      "Epoch 44/80\n",
      "84/84 [==============================] - 1s 13ms/step - loss: 0.4844 - accuracy: 0.8576\n",
      "Epoch 45/80\n",
      "84/84 [==============================] - 1s 13ms/step - loss: 0.4569 - accuracy: 0.8685\n",
      "Epoch 46/80\n",
      "84/84 [==============================] - 1s 13ms/step - loss: 0.4424 - accuracy: 0.8720\n",
      "Epoch 47/80\n",
      "84/84 [==============================] - 1s 13ms/step - loss: 0.4282 - accuracy: 0.8770\n",
      "Epoch 48/80\n",
      "84/84 [==============================] - 1s 13ms/step - loss: 0.4133 - accuracy: 0.8826\n",
      "Epoch 49/80\n",
      "84/84 [==============================] - 1s 13ms/step - loss: 0.3880 - accuracy: 0.8923\n",
      "Epoch 50/80\n",
      "84/84 [==============================] - 1s 13ms/step - loss: 0.3721 - accuracy: 0.8962\n",
      "Epoch 51/80\n",
      "84/84 [==============================] - 1s 13ms/step - loss: 0.3628 - accuracy: 0.8993\n",
      "Epoch 52/80\n",
      "84/84 [==============================] - 1s 13ms/step - loss: 0.3523 - accuracy: 0.9022\n",
      "Epoch 53/80\n",
      "84/84 [==============================] - 1s 13ms/step - loss: 0.3338 - accuracy: 0.9087\n",
      "Epoch 54/80\n",
      "84/84 [==============================] - 1s 13ms/step - loss: 0.3327 - accuracy: 0.9080\n",
      "Epoch 55/80\n",
      "84/84 [==============================] - 1s 13ms/step - loss: 0.3179 - accuracy: 0.9140\n",
      "Epoch 56/80\n",
      "84/84 [==============================] - 1s 14ms/step - loss: 0.3011 - accuracy: 0.9194\n",
      "Epoch 57/80\n",
      "84/84 [==============================] - 1s 14ms/step - loss: 0.2958 - accuracy: 0.9197\n",
      "Epoch 58/80\n",
      "84/84 [==============================] - 1s 14ms/step - loss: 0.2901 - accuracy: 0.9221\n",
      "Epoch 59/80\n",
      "84/84 [==============================] - 1s 14ms/step - loss: 0.2788 - accuracy: 0.9256\n",
      "Epoch 60/80\n",
      "84/84 [==============================] - 1s 14ms/step - loss: 0.2996 - accuracy: 0.9151\n",
      "Epoch 61/80\n",
      "84/84 [==============================] - 1s 14ms/step - loss: 0.2849 - accuracy: 0.9205\n",
      "Epoch 62/80\n",
      "84/84 [==============================] - 1s 13ms/step - loss: 0.2696 - accuracy: 0.9261\n",
      "Epoch 63/80\n",
      "84/84 [==============================] - 1s 13ms/step - loss: 0.2534 - accuracy: 0.9320\n",
      "Epoch 64/80\n",
      "84/84 [==============================] - 1s 14ms/step - loss: 0.2404 - accuracy: 0.9359\n",
      "Epoch 65/80\n",
      "84/84 [==============================] - 1s 14ms/step - loss: 0.2241 - accuracy: 0.9417\n",
      "Epoch 66/80\n",
      "84/84 [==============================] - 1s 13ms/step - loss: 0.2122 - accuracy: 0.9456\n",
      "Epoch 67/80\n",
      "84/84 [==============================] - 1s 13ms/step - loss: 0.2025 - accuracy: 0.9484\n",
      "Epoch 68/80\n",
      "84/84 [==============================] - 1s 13ms/step - loss: 0.1995 - accuracy: 0.9492\n",
      "Epoch 69/80\n",
      "84/84 [==============================] - 1s 13ms/step - loss: 0.2104 - accuracy: 0.9447\n",
      "Epoch 70/80\n",
      "84/84 [==============================] - 1s 13ms/step - loss: 0.2046 - accuracy: 0.9460\n",
      "Epoch 71/80\n",
      "84/84 [==============================] - 1s 14ms/step - loss: 0.2068 - accuracy: 0.9445\n",
      "Epoch 72/80\n",
      "84/84 [==============================] - 1s 13ms/step - loss: 0.2084 - accuracy: 0.9433\n",
      "Epoch 73/80\n",
      "84/84 [==============================] - 1s 13ms/step - loss: 0.2744 - accuracy: 0.9163\n",
      "Epoch 74/80\n",
      "84/84 [==============================] - 1s 14ms/step - loss: 0.2738 - accuracy: 0.9162\n",
      "Epoch 75/80\n",
      "84/84 [==============================] - 1s 13ms/step - loss: 0.2367 - accuracy: 0.9304\n",
      "Epoch 76/80\n",
      "84/84 [==============================] - 1s 13ms/step - loss: 0.2096 - accuracy: 0.9411\n",
      "Epoch 77/80\n",
      "84/84 [==============================] - 1s 13ms/step - loss: 0.1920 - accuracy: 0.9481\n",
      "Epoch 78/80\n",
      "84/84 [==============================] - 1s 13ms/step - loss: 0.1687 - accuracy: 0.9554\n",
      "Epoch 79/80\n",
      "84/84 [==============================] - 1s 13ms/step - loss: 0.1655 - accuracy: 0.9561\n",
      "Epoch 80/80\n",
      "84/84 [==============================] - 1s 13ms/step - loss: 0.1518 - accuracy: 0.9591\n"
     ]
    },
    {
     "data": {
      "text/plain": [
       "<keras.callbacks.History at 0x2077aeca2b0>"
      ]
     },
     "execution_count": 225,
     "metadata": {},
     "output_type": "execute_result"
    }
   ],
   "source": [
    "model.fit(train_X, train_y, epochs=80)"
   ]
  },
  {
   "cell_type": "code",
   "execution_count": 226,
   "id": "6dd06b72",
   "metadata": {},
   "outputs": [],
   "source": [
    "def sentence_generation(letter, model, length):\n",
    "    ix = np.array([letter])\n",
    "    \n",
    "    y_char = [index_to_char[ix[-1]]]\n",
    "    print(\"Predict with \", y_char[-1], \" letter number \", ix[-1])\n",
    "    \n",
    "    X = np.zeros((1, length, vocab_size))\n",
    "    \n",
    "    for i in range(length):\n",
    "        X[0][i][ix[-1]] = 1\n",
    "        print(index_to_char[ix[-1]], end=\"\")\n",
    "        ix = np.argmax(model.predict(X[:, :i+1, :])[0], 1)\n",
    "        y_char.append(index_to_char[ix[-1]])\n",
    "        \n",
    "    return ('').join(y_char)"
   ]
  },
  {
   "cell_type": "code",
   "execution_count": 227,
   "id": "8232fb44",
   "metadata": {},
   "outputs": [
    {
     "name": "stdout",
     "output_type": "stream",
     "text": [
      "Predict with  6  letter number  20\n",
      "1/1 [==============================] - 0s 317ms/step\n",
      "1/1 [==============================] - 0s 328ms/step\n",
      "1/1 [==============================] - 0s 14ms/step\n",
      "1/1 [==============================] - 0s 14ms/step\n",
      "1/1 [==============================] - 0s 15ms/step\n",
      "1/1 [==============================] - 0s 14ms/step\n",
      "1/1 [==============================] - 0s 15ms/step\n",
      "1/1 [==============================] - 0s 15ms/step\n",
      "1/1 [==============================] - 0s 14ms/step\n",
      "1/1 [==============================] - 0s 14ms/step\n",
      "1/1 [==============================] - 0s 16ms/step\n",
      "1/1 [==============================] - 0s 14ms/step\n",
      "1/1 [==============================] - 0s 15ms/step\n",
      "1/1 [==============================] - 0s 15ms/step\n",
      "1/1 [==============================] - 0s 15ms/step\n",
      "1/1 [==============================] - 0s 14ms/step\n",
      "1/1 [==============================] - 0s 15ms/step\n",
      "1/1 [==============================] - 0s 15ms/step\n",
      "1/1 [==============================] - 0s 15ms/step\n",
      "1/1 [==============================] - 0s 15ms/step\n",
      "1/1 [==============================] - 0s 15ms/step\n",
      "1/1 [==============================] - 0s 14ms/step\n",
      "1/1 [==============================] - 0s 15ms/step\n",
      "1/1 [==============================] - 0s 16ms/step\n",
      "1/1 [==============================] - 0s 16ms/step\n",
      "1/1 [==============================] - 0s 14ms/step\n",
      "1/1 [==============================] - 0s 15ms/step\n",
      "1/1 [==============================] - 0s 15ms/step\n",
      "1/1 [==============================] - 0s 14ms/step\n",
      "1/1 [==============================] - 0s 15ms/step\n",
      "1/1 [==============================] - 0s 15ms/step\n",
      "1/1 [==============================] - 0s 15ms/step\n",
      "1/1 [==============================] - 0s 15ms/step\n",
      "1/1 [==============================] - 0s 15ms/step\n",
      "1/1 [==============================] - 0s 17ms/step\n",
      "1/1 [==============================] - 0s 15ms/step\n",
      "1/1 [==============================] - 0s 15ms/step\n",
      "1/1 [==============================] - 0s 15ms/step\n",
      "1/1 [==============================] - 0s 16ms/step\n",
      "1/1 [==============================] - 0s 14ms/step\n",
      "1/1 [==============================] - 0s 17ms/step\n",
      "1/1 [==============================] - 0s 15ms/step\n",
      "1/1 [==============================] - 0s 16ms/step\n",
      "1/1 [==============================] - 0s 16ms/step\n",
      "1/1 [==============================] - 0s 16ms/step\n",
      "1/1 [==============================] - 0s 14ms/step\n",
      "1/1 [==============================] - 0s 17ms/step\n",
      "1/1 [==============================] - 0s 15ms/step\n",
      "1/1 [==============================] - 0s 14ms/step\n",
      "1/1 [==============================] - 0s 15ms/step\n",
      "1/1 [==============================] - 0s 16ms/step\n",
      "1/1 [==============================] - 0s 16ms/step\n",
      "1/1 [==============================] - 0s 16ms/step\n",
      "1/1 [==============================] - 0s 17ms/step\n",
      "1/1 [==============================] - 0s 16ms/step\n",
      "1/1 [==============================] - 0s 15ms/step\n",
      "1/1 [==============================] - 0s 15ms/step\n",
      "1/1 [==============================] - 0s 14ms/step\n",
      "1/1 [==============================] - 0s 17ms/step\n",
      "1/1 [==============================] - 0s 15ms/step\n",
      "1/1 [==============================] - 0s 16ms/step\n",
      "1/1 [==============================] - 0s 16ms/step\n",
      "1/1 [==============================] - 0s 15ms/step\n",
      "1/1 [==============================] - 0s 15ms/step\n",
      "1/1 [==============================] - 0s 18ms/step\n",
      "1/1 [==============================] - 0s 16ms/step\n",
      "1/1 [==============================] - 0s 18ms/step\n",
      "1/1 [==============================] - 0s 15ms/step\n",
      "1/1 [==============================] - 0s 15ms/step\n",
      "1/1 [==============================] - 0s 15ms/step\n",
      "1/1 [==============================] - 0s 15ms/step\n",
      "1/1 [==============================] - 0s 15ms/step\n",
      "1/1 [==============================] - 0s 15ms/step\n",
      "1/1 [==============================] - 0s 15ms/step\n",
      "1/1 [==============================] - 0s 15ms/step\n",
      "1/1 [==============================] - 0s 15ms/step\n",
      "1/1 [==============================] - 0s 16ms/step\n",
      "1/1 [==============================] - 0s 15ms/step\n",
      "1/1 [==============================] - 0s 15ms/step\n",
      "1/1 [==============================] - 0s 15ms/step\n",
      "1/1 [==============================] - 0s 14ms/step\n",
      "1/1 [==============================] - 0s 15ms/step\n",
      "1/1 [==============================] - 0s 17ms/step\n",
      "1/1 [==============================] - 0s 15ms/step\n",
      "1/1 [==============================] - 0s 14ms/step\n",
      "1/1 [==============================] - 0s 15ms/step\n",
      "1/1 [==============================] - 0s 16ms/step\n",
      "1/1 [==============================] - 0s 16ms/step\n",
      "1/1 [==============================] - 0s 17ms/step\n",
      "1/1 [==============================] - 0s 17ms/step\n",
      "1/1 [==============================] - 0s 15ms/step\n",
      "1/1 [==============================] - 0s 16ms/step\n",
      "1/1 [==============================] - 0s 16ms/step\n",
      "1/1 [==============================] - 0s 17ms/step\n",
      "1/1 [==============================] - 0s 15ms/step\n",
      "1/1 [==============================] - 0s 16ms/step\n",
      "1/1 [==============================] - 0s 16ms/step\n",
      "1/1 [==============================] - 0s 15ms/step\n",
      "1/1 [==============================] - 0s 17ms/step\n",
      "1/1 [==============================] - 0s 16ms/step\n",
      "6. there was nothing on it but tea. i dont see a kind of seeped for get in a great hurry. you did! sa\n"
     ]
    }
   ],
   "source": [
    "result = sentence_generation(20, model, 100)\n",
    "print(result)"
   ]
  },
  {
   "cell_type": "code",
   "execution_count": 228,
   "id": "ef5e7270",
   "metadata": {},
   "outputs": [
    {
     "name": "stdout",
     "output_type": "stream",
     "text": [
      "Predict with  t  letter number  49\n",
      "1/1 [==============================] - 0s 16ms/step\n",
      "1/1 [==============================] - 0s 14ms/step\n",
      "1/1 [==============================] - 0s 14ms/step\n",
      "1/1 [==============================] - 0s 14ms/step\n",
      "1/1 [==============================] - 0s 14ms/step\n",
      "1/1 [==============================] - 0s 14ms/step\n",
      "1/1 [==============================] - 0s 15ms/step\n",
      "1/1 [==============================] - 0s 14ms/step\n",
      "1/1 [==============================] - 0s 14ms/step\n",
      "1/1 [==============================] - 0s 14ms/step\n",
      "1/1 [==============================] - 0s 14ms/step\n",
      "1/1 [==============================] - 0s 13ms/step\n",
      "1/1 [==============================] - 0s 14ms/step\n",
      "1/1 [==============================] - 0s 14ms/step\n",
      "1/1 [==============================] - 0s 15ms/step\n",
      "1/1 [==============================] - 0s 15ms/step\n",
      "1/1 [==============================] - 0s 16ms/step\n",
      "1/1 [==============================] - 0s 15ms/step\n",
      "1/1 [==============================] - 0s 16ms/step\n",
      "1/1 [==============================] - 0s 13ms/step\n",
      "1/1 [==============================] - 0s 16ms/step\n",
      "1/1 [==============================] - 0s 15ms/step\n",
      "1/1 [==============================] - 0s 14ms/step\n",
      "1/1 [==============================] - 0s 15ms/step\n",
      "1/1 [==============================] - 0s 16ms/step\n",
      "1/1 [==============================] - 0s 16ms/step\n",
      "1/1 [==============================] - 0s 15ms/step\n",
      "1/1 [==============================] - 0s 16ms/step\n",
      "1/1 [==============================] - 0s 16ms/step\n",
      "1/1 [==============================] - 0s 14ms/step\n",
      "1/1 [==============================] - 0s 15ms/step\n",
      "1/1 [==============================] - 0s 15ms/step\n",
      "1/1 [==============================] - 0s 15ms/step\n",
      "1/1 [==============================] - 0s 15ms/step\n",
      "1/1 [==============================] - 0s 14ms/step\n",
      "1/1 [==============================] - 0s 14ms/step\n",
      "1/1 [==============================] - 0s 15ms/step\n",
      "1/1 [==============================] - 0s 14ms/step\n",
      "1/1 [==============================] - 0s 15ms/step\n",
      "1/1 [==============================] - 0s 15ms/step\n",
      "1/1 [==============================] - 0s 15ms/step\n",
      "1/1 [==============================] - 0s 14ms/step\n",
      "1/1 [==============================] - 0s 14ms/step\n",
      "1/1 [==============================] - 0s 14ms/step\n",
      "1/1 [==============================] - 0s 15ms/step\n",
      "1/1 [==============================] - 0s 14ms/step\n",
      "1/1 [==============================] - 0s 16ms/step\n",
      "1/1 [==============================] - 0s 15ms/step\n",
      "1/1 [==============================] - 0s 15ms/step\n",
      "1/1 [==============================] - 0s 14ms/step\n",
      "1/1 [==============================] - 0s 14ms/step\n",
      "1/1 [==============================] - 0s 14ms/step\n",
      "1/1 [==============================] - 0s 14ms/step\n",
      "1/1 [==============================] - 0s 15ms/step\n",
      "1/1 [==============================] - 0s 16ms/step\n",
      "1/1 [==============================] - 0s 15ms/step\n",
      "1/1 [==============================] - 0s 15ms/step\n",
      "1/1 [==============================] - 0s 15ms/step\n",
      "1/1 [==============================] - 0s 16ms/step\n",
      "1/1 [==============================] - 0s 16ms/step\n",
      "1/1 [==============================] - 0s 16ms/step\n",
      "1/1 [==============================] - 0s 15ms/step\n",
      "1/1 [==============================] - 0s 15ms/step\n",
      "1/1 [==============================] - 0s 15ms/step\n",
      "1/1 [==============================] - 0s 15ms/step\n",
      "1/1 [==============================] - 0s 14ms/step\n",
      "1/1 [==============================] - 0s 15ms/step\n",
      "1/1 [==============================] - 0s 15ms/step\n",
      "1/1 [==============================] - 0s 15ms/step\n",
      "1/1 [==============================] - 0s 14ms/step\n",
      "1/1 [==============================] - 0s 15ms/step\n",
      "1/1 [==============================] - 0s 15ms/step\n",
      "1/1 [==============================] - 0s 14ms/step\n",
      "1/1 [==============================] - 0s 15ms/step\n",
      "1/1 [==============================] - 0s 15ms/step\n",
      "1/1 [==============================] - 0s 15ms/step\n",
      "1/1 [==============================] - 0s 17ms/step\n",
      "1/1 [==============================] - 0s 15ms/step\n",
      "1/1 [==============================] - 0s 16ms/step\n",
      "1/1 [==============================] - 0s 16ms/step\n",
      "1/1 [==============================] - 0s 15ms/step\n",
      "1/1 [==============================] - 0s 16ms/step\n",
      "1/1 [==============================] - 0s 15ms/step\n",
      "1/1 [==============================] - 0s 16ms/step\n",
      "1/1 [==============================] - 0s 16ms/step\n",
      "1/1 [==============================] - 0s 15ms/step\n",
      "1/1 [==============================] - 0s 16ms/step\n",
      "1/1 [==============================] - 0s 15ms/step\n",
      "1/1 [==============================] - 0s 17ms/step\n",
      "1/1 [==============================] - 0s 18ms/step\n",
      "1/1 [==============================] - 0s 15ms/step\n",
      "1/1 [==============================] - 0s 15ms/step\n",
      "1/1 [==============================] - 0s 16ms/step\n",
      "1/1 [==============================] - 0s 15ms/step\n",
      "1/1 [==============================] - 0s 15ms/step\n",
      "1/1 [==============================] - 0s 16ms/step\n",
      "1/1 [==============================] - 0s 15ms/step\n",
      "1/1 [==============================] - 0s 17ms/step\n",
      "1/1 [==============================] - 0s 17ms/step\n",
      "1/1 [==============================] - 0s 15ms/step\n",
      "the march hare,) it was at the great concert given by the queens about her and many wonderlfwn tone, \n"
     ]
    }
   ],
   "source": [
    "result = sentence_generation(49, model, 100)\n",
    "print(result)"
   ]
  },
  {
   "cell_type": "code",
   "execution_count": 229,
   "id": "a2357017",
   "metadata": {},
   "outputs": [
    {
     "name": "stdout",
     "output_type": "stream",
     "text": [
      "Predict with  u  letter number  50\n",
      "1/1 [==============================] - 0s 15ms/step\n",
      "1/1 [==============================] - 0s 14ms/step\n",
      "1/1 [==============================] - 0s 15ms/step\n",
      "1/1 [==============================] - 0s 15ms/step\n",
      "1/1 [==============================] - 0s 14ms/step\n",
      "1/1 [==============================] - 0s 14ms/step\n",
      "1/1 [==============================] - 0s 15ms/step\n",
      "1/1 [==============================] - 0s 15ms/step\n",
      "1/1 [==============================] - 0s 14ms/step\n",
      "1/1 [==============================] - 0s 14ms/step\n",
      "1/1 [==============================] - 0s 14ms/step\n",
      "1/1 [==============================] - 0s 14ms/step\n",
      "1/1 [==============================] - 0s 15ms/step\n",
      "1/1 [==============================] - 0s 15ms/step\n",
      "1/1 [==============================] - 0s 14ms/step\n",
      "1/1 [==============================] - 0s 14ms/step\n",
      "1/1 [==============================] - 0s 14ms/step\n",
      "1/1 [==============================] - 0s 14ms/step\n",
      "1/1 [==============================] - 0s 14ms/step\n",
      "1/1 [==============================] - 0s 15ms/step\n",
      "1/1 [==============================] - 0s 14ms/step\n",
      "1/1 [==============================] - 0s 14ms/step\n",
      "1/1 [==============================] - 0s 14ms/step\n",
      "1/1 [==============================] - 0s 15ms/step\n",
      "1/1 [==============================] - 0s 16ms/step\n",
      "1/1 [==============================] - 0s 15ms/step\n",
      "1/1 [==============================] - 0s 15ms/step\n",
      "1/1 [==============================] - 0s 14ms/step\n",
      "1/1 [==============================] - 0s 14ms/step\n",
      "1/1 [==============================] - 0s 15ms/step\n",
      "1/1 [==============================] - 0s 15ms/step\n",
      "1/1 [==============================] - 0s 15ms/step\n",
      "1/1 [==============================] - 0s 15ms/step\n",
      "1/1 [==============================] - 0s 15ms/step\n",
      "1/1 [==============================] - 0s 14ms/step\n",
      "1/1 [==============================] - 0s 15ms/step\n",
      "1/1 [==============================] - 0s 16ms/step\n",
      "1/1 [==============================] - 0s 14ms/step\n",
      "1/1 [==============================] - 0s 16ms/step\n",
      "1/1 [==============================] - 0s 14ms/step\n",
      "1/1 [==============================] - 0s 15ms/step\n",
      "1/1 [==============================] - 0s 14ms/step\n",
      "1/1 [==============================] - 0s 14ms/step\n",
      "1/1 [==============================] - 0s 15ms/step\n",
      "1/1 [==============================] - 0s 16ms/step\n",
      "1/1 [==============================] - 0s 16ms/step\n",
      "1/1 [==============================] - 0s 16ms/step\n",
      "1/1 [==============================] - 0s 16ms/step\n",
      "1/1 [==============================] - 0s 15ms/step\n",
      "1/1 [==============================] - 0s 15ms/step\n",
      "1/1 [==============================] - 0s 14ms/step\n",
      "1/1 [==============================] - 0s 15ms/step\n",
      "1/1 [==============================] - 0s 15ms/step\n",
      "1/1 [==============================] - 0s 15ms/step\n",
      "1/1 [==============================] - 0s 15ms/step\n",
      "1/1 [==============================] - 0s 14ms/step\n",
      "1/1 [==============================] - 0s 15ms/step\n",
      "1/1 [==============================] - 0s 15ms/step\n",
      "1/1 [==============================] - 0s 16ms/step\n",
      "1/1 [==============================] - 0s 15ms/step\n",
      "1/1 [==============================] - 0s 15ms/step\n",
      "1/1 [==============================] - 0s 16ms/step\n",
      "1/1 [==============================] - 0s 15ms/step\n",
      "1/1 [==============================] - 0s 15ms/step\n",
      "1/1 [==============================] - 0s 15ms/step\n",
      "1/1 [==============================] - 0s 16ms/step\n",
      "1/1 [==============================] - 0s 15ms/step\n",
      "1/1 [==============================] - 0s 16ms/step\n",
      "1/1 [==============================] - 0s 15ms/step\n",
      "1/1 [==============================] - 0s 15ms/step\n",
      "1/1 [==============================] - 0s 16ms/step\n",
      "1/1 [==============================] - 0s 14ms/step\n",
      "1/1 [==============================] - 0s 15ms/step\n",
      "1/1 [==============================] - 0s 16ms/step\n",
      "1/1 [==============================] - 0s 16ms/step\n",
      "1/1 [==============================] - 0s 16ms/step\n",
      "1/1 [==============================] - 0s 18ms/step\n",
      "1/1 [==============================] - 0s 16ms/step\n",
      "1/1 [==============================] - 0s 15ms/step\n",
      "1/1 [==============================] - 0s 15ms/step\n",
      "1/1 [==============================] - 0s 16ms/step\n",
      "1/1 [==============================] - 0s 16ms/step\n",
      "1/1 [==============================] - 0s 16ms/step\n",
      "1/1 [==============================] - 0s 16ms/step\n",
      "1/1 [==============================] - 0s 15ms/step\n",
      "1/1 [==============================] - 0s 17ms/step\n",
      "1/1 [==============================] - 0s 16ms/step\n",
      "1/1 [==============================] - 0s 16ms/step\n",
      "1/1 [==============================] - 0s 16ms/step\n",
      "1/1 [==============================] - 0s 17ms/step\n",
      "1/1 [==============================] - 0s 16ms/step\n",
      "1/1 [==============================] - 0s 15ms/step\n",
      "1/1 [==============================] - 0s 16ms/step\n",
      "1/1 [==============================] - 0s 15ms/step\n",
      "1/1 [==============================] - 0s 16ms/step\n",
      "1/1 [==============================] - 0s 16ms/step\n",
      "1/1 [==============================] - 0s 17ms/step\n",
      "1/1 [==============================] - 0s 15ms/step\n",
      "1/1 [==============================] - 0s 17ms/step\n",
      "1/1 [==============================] - 0s 16ms/step\n",
      "ut for some way of escape, and wondering whether she could get to worry about it, and then said, it w\n"
     ]
    }
   ],
   "source": [
    "result = sentence_generation(50, model, 100)\n",
    "print(result)"
   ]
  },
  {
   "cell_type": "code",
   "execution_count": null,
   "id": "29c2d706",
   "metadata": {},
   "outputs": [],
   "source": []
  }
 ],
 "metadata": {
  "kernelspec": {
   "display_name": "Python 3 (ipykernel)",
   "language": "python",
   "name": "python3"
  },
  "language_info": {
   "codemirror_mode": {
    "name": "ipython",
    "version": 3
   },
   "file_extension": ".py",
   "mimetype": "text/x-python",
   "name": "python",
   "nbconvert_exporter": "python",
   "pygments_lexer": "ipython3",
   "version": "3.9.13"
  }
 },
 "nbformat": 4,
 "nbformat_minor": 5
}
