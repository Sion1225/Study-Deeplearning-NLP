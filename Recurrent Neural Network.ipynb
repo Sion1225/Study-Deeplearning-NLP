{
 "cells": [
  {
   "cell_type": "code",
   "execution_count": 25,
   "id": "fb2a67c6",
   "metadata": {},
   "outputs": [],
   "source": [
    "import numpy as np\n",
    "import tensorflow as tf\n",
    "from tensorflow.keras.layers import SimpleRNN, LSTM, Bidirectional, GRU"
   ]
  },
  {
   "cell_type": "code",
   "execution_count": 26,
   "id": "adaab74c",
   "metadata": {},
   "outputs": [
    {
     "name": "stdout",
     "output_type": "stream",
     "text": [
      "(1, 4, 5)\n",
      "[[[0.1, 4.2, 1.5, 1.1, 2.8], [1.0, 3.1, 2.5, 0.7, 1.1], [0.3, 2.1, 1.5, 2.1, 0.1], [2.2, 1.4, 0.5, 0.9, 1.1]]]\n"
     ]
    }
   ],
   "source": [
    "train_X = [[[0.1, 4.2, 1.5, 1.1, 2.8], [1.0, 3.1, 2.5, 0.7, 1.1], [0.3, 2.1, 1.5, 2.1, 0.1], [2.2, 1.4, 0.5, 0.9, 1.1]]]\n",
    "print(np.shape(train_X)) #1, lenth of sentence (timesteps), vocab dimention\n",
    "print(train_X)"
   ]
  },
  {
   "cell_type": "code",
   "execution_count": 27,
   "id": "826e3ff5",
   "metadata": {},
   "outputs": [],
   "source": [
    "train_X = np.array(train_X,dtype=np.float32)"
   ]
  },
  {
   "cell_type": "code",
   "execution_count": 28,
   "id": "c8669bd5",
   "metadata": {},
   "outputs": [
    {
     "name": "stdout",
     "output_type": "stream",
     "text": [
      "hidden state : [[0.98321766 0.58797216 0.6851658 ]], shape: (1, 3)\n"
     ]
    }
   ],
   "source": [
    "rnn = SimpleRNN(3, return_sequences=False, return_state=False)\n",
    "hidden_state = rnn(train_X)\n",
    "\n",
    "print('hidden state : {}, shape: {}'.format(hidden_state, hidden_state.shape))"
   ]
  },
  {
   "cell_type": "code",
   "execution_count": 29,
   "id": "7937e2ca",
   "metadata": {},
   "outputs": [
    {
     "name": "stdout",
     "output_type": "stream",
     "text": [
      "hidden state : [[[-0.9466328   0.97181004 -0.9977614 ]\n",
      "  [-0.99152106  0.9740493  -0.99801266]\n",
      "  [-0.9979192   0.9477412  -0.9969004 ]\n",
      "  [-0.9892109   0.9441146  -0.99930745]]], shape: (1, 4, 3)\n"
     ]
    }
   ],
   "source": [
    "rnn = SimpleRNN(3, return_sequences=True, return_state=False)\n",
    "hidden_state = rnn(train_X)\n",
    "\n",
    "print('hidden state : {}, shape: {}'.format(hidden_state, hidden_state.shape))"
   ]
  },
  {
   "cell_type": "code",
   "execution_count": 30,
   "id": "7c6ebcd7",
   "metadata": {},
   "outputs": [
    {
     "name": "stdout",
     "output_type": "stream",
     "text": [
      "hidden states : [[[ 0.6130221  -0.9559332   0.99901587]\n",
      "  [-0.82862073 -0.99411136  0.9253961 ]\n",
      "  [-0.4846016  -0.9983197   0.7063365 ]\n",
      "  [ 0.66786695 -0.9985984  -0.46974307]]], shape: (1, 4, 3)\n",
      "last hidden state : [[ 0.66786695 -0.9985984  -0.46974307]], shape: (1, 3)\n"
     ]
    }
   ],
   "source": [
    "rnn = SimpleRNN(3, return_sequences=True, return_state=True)\n",
    "hidden_states, last_state = rnn(train_X)\n",
    "\n",
    "print('hidden states : {}, shape: {}'.format(hidden_states, hidden_states.shape))\n",
    "print('last hidden state : {}, shape: {}'.format(last_state, last_state.shape))"
   ]
  },
  {
   "cell_type": "code",
   "execution_count": 31,
   "id": "b52a43b7",
   "metadata": {},
   "outputs": [
    {
     "name": "stdout",
     "output_type": "stream",
     "text": [
      "hidden states : [[ 0.06018003 -0.400327    0.3564455 ]], shape: (1, 3)\n",
      "last hidden state : [[ 0.06018003 -0.400327    0.3564455 ]], shape: (1, 3)\n",
      "last cell state : [[ 0.10660806 -0.60605013  0.85902303]], shape: (1, 3)\n"
     ]
    }
   ],
   "source": [
    "lstm = LSTM(3, return_sequences=False, return_state=True)\n",
    "hidden_states, last_hidden_state, last_cell_state = lstm(train_X)\n",
    "\n",
    "print('hidden states : {}, shape: {}'.format(hidden_states, hidden_states.shape))\n",
    "print('last hidden state : {}, shape: {}'.format(last_hidden_state, last_hidden_state.shape))\n",
    "print('last cell state : {}, shape: {}'.format(last_cell_state, last_cell_state.shape))"
   ]
  },
  {
   "cell_type": "code",
   "execution_count": 32,
   "id": "6ca8b7ac",
   "metadata": {},
   "outputs": [
    {
     "name": "stdout",
     "output_type": "stream",
     "text": [
      "hidden states : [[[ 0.4397436  -0.06700115 -0.6173528 ]\n",
      "  [ 0.5465901  -0.1055913  -0.60148424]\n",
      "  [ 0.64823353 -0.12049786 -0.5054307 ]\n",
      "  [ 0.6168994  -0.3066118  -0.608404  ]]], shape: (1, 4, 3)\n",
      "last hidden state : [[ 0.6168994 -0.3066118 -0.608404 ]], shape: (1, 3)\n",
      "last cell state : [[ 1.3292944 -0.8545365 -1.9241016]], shape: (1, 3)\n"
     ]
    }
   ],
   "source": [
    "lstm = LSTM(3, return_sequences=True, return_state=True)\n",
    "hidden_states, last_hidden_state, last_cell_state = lstm(train_X)\n",
    "\n",
    "print('hidden states : {}, shape: {}'.format(hidden_states, hidden_states.shape))\n",
    "print('last hidden state : {}, shape: {}'.format(last_hidden_state, last_hidden_state.shape))\n",
    "print('last cell state : {}, shape: {}'.format(last_cell_state, last_cell_state.shape))"
   ]
  },
  {
   "cell_type": "code",
   "execution_count": 33,
   "id": "c87ed296",
   "metadata": {},
   "outputs": [],
   "source": [
    "k_init = tf.keras.initializers.Constant(value=0.1)\n",
    "b_init = tf.keras.initializers.Constant(value=0)\n",
    "r_init = tf.keras.initializers.Constant(value=0.1)"
   ]
  },
  {
   "cell_type": "code",
   "execution_count": 34,
   "id": "72b28a55",
   "metadata": {},
   "outputs": [
    {
     "name": "stdout",
     "output_type": "stream",
     "text": [
      "hidden states : [[0.6303139  0.6303139  0.6303139  0.70387346 0.70387346 0.70387346]], shape: (1, 6)\n",
      "forward state : [[0.6303139 0.6303139 0.6303139]], shape: (1, 3)\n",
      "backward state : [[0.70387346 0.70387346 0.70387346]], shape: (1, 3)\n"
     ]
    }
   ],
   "source": [
    "bilstm = Bidirectional(LSTM(3, return_sequences=False, return_state=True, \\\n",
    "                            kernel_initializer=k_init, bias_initializer=b_init, recurrent_initializer=r_init))\n",
    "hidden_states, forward_h, forward_c, backward_h, backward_c = bilstm(train_X)\n",
    "\n",
    "print('hidden states : {}, shape: {}'.format(hidden_states, hidden_states.shape))\n",
    "print('forward state : {}, shape: {}'.format(forward_h, forward_h.shape))\n",
    "print('backward state : {}, shape: {}'.format(backward_h, backward_h.shape))"
   ]
  },
  {
   "cell_type": "code",
   "execution_count": 35,
   "id": "dae4bae3",
   "metadata": {},
   "outputs": [
    {
     "name": "stdout",
     "output_type": "stream",
     "text": [
      "hidden states : [[[0.35906476 0.35906476 0.35906476 0.70387346 0.70387346 0.70387346]\n",
      "  [0.5511133  0.5511133  0.5511133  0.5886358  0.5886358  0.5886358 ]\n",
      "  [0.5911575  0.5911575  0.5911575  0.39516988 0.39516988 0.39516988]\n",
      "  [0.6303139  0.6303139  0.6303139  0.2194224  0.2194224  0.2194224 ]]], shape: (1, 4, 6)\n",
      "forward state : [[0.6303139 0.6303139 0.6303139]], shape: (1, 3)\n",
      "backward state : [[0.70387346 0.70387346 0.70387346]], shape: (1, 3)\n"
     ]
    }
   ],
   "source": [
    "bilstm = Bidirectional(LSTM(3, return_sequences=True, return_state=True, \\\n",
    "                            kernel_initializer=k_init, bias_initializer=b_init, recurrent_initializer=r_init))\n",
    "hidden_states, forward_h, forward_c, backward_h, backward_c = bilstm(train_X)\n",
    "\n",
    "print('hidden states : {}, shape: {}'.format(hidden_states, hidden_states.shape))\n",
    "print('forward state : {}, shape: {}'.format(forward_h, forward_h.shape))\n",
    "print('backward state : {}, shape: {}'.format(backward_h, backward_h.shape))"
   ]
  },
  {
   "cell_type": "code",
   "execution_count": 36,
   "id": "25a9597a",
   "metadata": {},
   "outputs": [
    {
     "name": "stdout",
     "output_type": "stream",
     "text": [
      "hidden states : [[[ 0.4397436  -0.06700115 -0.6173528 ]\n",
      "  [ 0.5465901  -0.1055913  -0.60148424]\n",
      "  [ 0.64823353 -0.12049786 -0.5054307 ]\n",
      "  [ 0.6168994  -0.3066118  -0.608404  ]]], shape: (1, 4, 3)\n",
      "last hidden state : [[ 0.6168994 -0.3066118 -0.608404 ]], shape: (1, 3)\n",
      "last cell state : [[ 1.3292944 -0.8545365 -1.9241016]], shape: (1, 3)\n"
     ]
    }
   ],
   "source": [
    "gru = GRU(3, return_sequences=False, return_state=True)\n",
    "hidden_states, last_hidden_state, last_cell_state = lstm(train_X)\n",
    "\n",
    "print('hidden states : {}, shape: {}'.format(hidden_states, hidden_states.shape))\n",
    "print('last hidden state : {}, shape: {}'.format(last_hidden_state, last_hidden_state.shape))\n",
    "print('last cell state : {}, shape: {}'.format(last_cell_state, last_cell_state.shape))"
   ]
  },
  {
   "cell_type": "code",
   "execution_count": null,
   "id": "d8b97330",
   "metadata": {},
   "outputs": [],
   "source": []
  },
  {
   "cell_type": "code",
   "execution_count": null,
   "id": "b9a4ab51",
   "metadata": {},
   "outputs": [],
   "source": []
  }
 ],
 "metadata": {
  "kernelspec": {
   "display_name": "Python 3 (ipykernel)",
   "language": "python",
   "name": "python3"
  },
  "language_info": {
   "codemirror_mode": {
    "name": "ipython",
    "version": 3
   },
   "file_extension": ".py",
   "mimetype": "text/x-python",
   "name": "python",
   "nbconvert_exporter": "python",
   "pygments_lexer": "ipython3",
   "version": "3.9.13"
  }
 },
 "nbformat": 4,
 "nbformat_minor": 5
}
