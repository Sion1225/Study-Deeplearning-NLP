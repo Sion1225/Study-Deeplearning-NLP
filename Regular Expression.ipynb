{
 "cells": [
  {
   "cell_type": "code",
   "execution_count": 1,
   "id": "de370f99",
   "metadata": {},
   "outputs": [],
   "source": [
    "import re"
   ]
  },
  {
   "cell_type": "code",
   "execution_count": 2,
   "id": "3deb2f6f",
   "metadata": {},
   "outputs": [],
   "source": [
    "r = re.compile(\"a.c\")"
   ]
  },
  {
   "cell_type": "code",
   "execution_count": 3,
   "id": "f8b515b9",
   "metadata": {},
   "outputs": [],
   "source": [
    "r.search(\"kkk\")"
   ]
  },
  {
   "cell_type": "code",
   "execution_count": 4,
   "id": "069e9ea5",
   "metadata": {},
   "outputs": [
    {
     "data": {
      "text/plain": [
       "<re.Match object; span=(0, 3), match='abc'>"
      ]
     },
     "execution_count": 4,
     "metadata": {},
     "output_type": "execute_result"
    }
   ],
   "source": [
    "r.search(\"abc\")"
   ]
  },
  {
   "cell_type": "code",
   "execution_count": 5,
   "id": "005b5f3a",
   "metadata": {},
   "outputs": [
    {
     "data": {
      "text/plain": [
       "<re.Match object; span=(0, 3), match='a&c'>"
      ]
     },
     "execution_count": 5,
     "metadata": {},
     "output_type": "execute_result"
    }
   ],
   "source": [
    "r.search(\"a&c\")"
   ]
  },
  {
   "cell_type": "code",
   "execution_count": 6,
   "id": "08a612cb",
   "metadata": {},
   "outputs": [],
   "source": [
    "r = re.compile(\"ab?c\")"
   ]
  },
  {
   "cell_type": "code",
   "execution_count": 7,
   "id": "d18d7dc3",
   "metadata": {},
   "outputs": [],
   "source": [
    "r.search(\"abbc\")"
   ]
  },
  {
   "cell_type": "code",
   "execution_count": 8,
   "id": "8f4158b6",
   "metadata": {},
   "outputs": [
    {
     "data": {
      "text/plain": [
       "<re.Match object; span=(0, 2), match='ac'>"
      ]
     },
     "execution_count": 8,
     "metadata": {},
     "output_type": "execute_result"
    }
   ],
   "source": [
    "r.search(\"ac\")"
   ]
  },
  {
   "cell_type": "code",
   "execution_count": 10,
   "id": "c5252090",
   "metadata": {},
   "outputs": [
    {
     "data": {
      "text/plain": [
       "<re.Match object; span=(0, 2), match='ac'>"
      ]
     },
     "execution_count": 10,
     "metadata": {},
     "output_type": "execute_result"
    }
   ],
   "source": [
    "r.search(\"acn\")"
   ]
  },
  {
   "cell_type": "code",
   "execution_count": 11,
   "id": "cd8632a0",
   "metadata": {},
   "outputs": [],
   "source": [
    "r.search(\"anc\")"
   ]
  },
  {
   "cell_type": "code",
   "execution_count": 12,
   "id": "b141149b",
   "metadata": {},
   "outputs": [
    {
     "data": {
      "text/plain": [
       "<re.Match object; span=(0, 3), match='abc'>"
      ]
     },
     "execution_count": 12,
     "metadata": {},
     "output_type": "execute_result"
    }
   ],
   "source": [
    "r.search(\"abc\")"
   ]
  },
  {
   "cell_type": "code",
   "execution_count": 13,
   "id": "e9b02d21",
   "metadata": {},
   "outputs": [],
   "source": [
    "r = re.compile(\"ab*c\")"
   ]
  },
  {
   "cell_type": "code",
   "execution_count": 14,
   "id": "d95e2c4c",
   "metadata": {},
   "outputs": [],
   "source": [
    "r.search(\"a\")"
   ]
  },
  {
   "cell_type": "code",
   "execution_count": 15,
   "id": "6f656ba2",
   "metadata": {},
   "outputs": [
    {
     "data": {
      "text/plain": [
       "<re.Match object; span=(0, 2), match='ac'>"
      ]
     },
     "execution_count": 15,
     "metadata": {},
     "output_type": "execute_result"
    }
   ],
   "source": [
    "r.search(\"ac\")"
   ]
  },
  {
   "cell_type": "code",
   "execution_count": 16,
   "id": "e966bd78",
   "metadata": {},
   "outputs": [
    {
     "data": {
      "text/plain": [
       "<re.Match object; span=(0, 14), match='abbbbbbbbbbbbc'>"
      ]
     },
     "execution_count": 16,
     "metadata": {},
     "output_type": "execute_result"
    }
   ],
   "source": [
    "r.search(\"abbbbbbbbbbbbc\")"
   ]
  },
  {
   "cell_type": "code",
   "execution_count": 17,
   "id": "66ad962c",
   "metadata": {},
   "outputs": [],
   "source": [
    "r = re.compile(\"ab+c\")"
   ]
  },
  {
   "cell_type": "code",
   "execution_count": 18,
   "id": "c43aeb88",
   "metadata": {},
   "outputs": [],
   "source": [
    "r.search(\"ac\")"
   ]
  },
  {
   "cell_type": "code",
   "execution_count": 19,
   "id": "773433a2",
   "metadata": {},
   "outputs": [
    {
     "data": {
      "text/plain": [
       "<re.Match object; span=(0, 11), match='abbbbbbbbbc'>"
      ]
     },
     "execution_count": 19,
     "metadata": {},
     "output_type": "execute_result"
    }
   ],
   "source": [
    "r.search(\"abbbbbbbbbc\")"
   ]
  },
  {
   "cell_type": "code",
   "execution_count": 20,
   "id": "139ca8da",
   "metadata": {},
   "outputs": [],
   "source": [
    "r = re.compile(\"^ab\")"
   ]
  },
  {
   "cell_type": "code",
   "execution_count": 21,
   "id": "9c0ce50e",
   "metadata": {},
   "outputs": [],
   "source": [
    "r.search(\"bbbcc\")"
   ]
  },
  {
   "cell_type": "code",
   "execution_count": 22,
   "id": "1e171002",
   "metadata": {},
   "outputs": [],
   "source": [
    "r.search(\"dfasdabdoihnaf;onds\")"
   ]
  },
  {
   "cell_type": "code",
   "execution_count": 23,
   "id": "b2239eea",
   "metadata": {},
   "outputs": [
    {
     "data": {
      "text/plain": [
       "<re.Match object; span=(0, 2), match='ab'>"
      ]
     },
     "execution_count": 23,
     "metadata": {},
     "output_type": "execute_result"
    }
   ],
   "source": [
    "r.search(\"abdoihnaf;onds\")"
   ]
  },
  {
   "cell_type": "code",
   "execution_count": 25,
   "id": "27af025c",
   "metadata": {},
   "outputs": [],
   "source": [
    "r = re.compile(\"ab{2}c\")"
   ]
  },
  {
   "cell_type": "code",
   "execution_count": 26,
   "id": "63d254e5",
   "metadata": {},
   "outputs": [],
   "source": [
    "r.search(\"abc\")"
   ]
  },
  {
   "cell_type": "code",
   "execution_count": 27,
   "id": "5d1d72c8",
   "metadata": {},
   "outputs": [
    {
     "data": {
      "text/plain": [
       "<re.Match object; span=(0, 4), match='abbc'>"
      ]
     },
     "execution_count": 27,
     "metadata": {},
     "output_type": "execute_result"
    }
   ],
   "source": [
    "r.search(\"abbc\")"
   ]
  },
  {
   "cell_type": "code",
   "execution_count": 28,
   "id": "89f4d0f5",
   "metadata": {},
   "outputs": [],
   "source": [
    "r.search(\"ab{2}c\")"
   ]
  },
  {
   "cell_type": "code",
   "execution_count": 29,
   "id": "1356bf44",
   "metadata": {},
   "outputs": [],
   "source": [
    "r = re.compile(\"a{2,}bc\")"
   ]
  },
  {
   "cell_type": "code",
   "execution_count": 30,
   "id": "c53c8a73",
   "metadata": {},
   "outputs": [],
   "source": [
    "r.search(\"abc\")"
   ]
  },
  {
   "cell_type": "code",
   "execution_count": 31,
   "id": "00ea0126",
   "metadata": {},
   "outputs": [
    {
     "data": {
      "text/plain": [
       "<re.Match object; span=(0, 4), match='aabc'>"
      ]
     },
     "execution_count": 31,
     "metadata": {},
     "output_type": "execute_result"
    }
   ],
   "source": [
    "r.search(\"aabc\")"
   ]
  },
  {
   "cell_type": "code",
   "execution_count": 32,
   "id": "b41f11e9",
   "metadata": {},
   "outputs": [
    {
     "data": {
      "text/plain": [
       "<re.Match object; span=(0, 6), match='aaaabc'>"
      ]
     },
     "execution_count": 32,
     "metadata": {},
     "output_type": "execute_result"
    }
   ],
   "source": [
    "r.search(\"aaaabc\")"
   ]
  },
  {
   "cell_type": "code",
   "execution_count": 33,
   "id": "4679d174",
   "metadata": {},
   "outputs": [],
   "source": [
    "r = re.compile(\"[abc]\")"
   ]
  },
  {
   "cell_type": "code",
   "execution_count": 34,
   "id": "7a0d0ca8",
   "metadata": {},
   "outputs": [],
   "source": [
    "r.search(\"zzz\")"
   ]
  },
  {
   "cell_type": "code",
   "execution_count": 35,
   "id": "713c68ec",
   "metadata": {},
   "outputs": [
    {
     "data": {
      "text/plain": [
       "<re.Match object; span=(0, 1), match='a'>"
      ]
     },
     "execution_count": 35,
     "metadata": {},
     "output_type": "execute_result"
    }
   ],
   "source": [
    "r.search(\"a\")"
   ]
  },
  {
   "cell_type": "code",
   "execution_count": 36,
   "id": "4c48d597",
   "metadata": {},
   "outputs": [
    {
     "data": {
      "text/plain": [
       "<re.Match object; span=(0, 1), match='a'>"
      ]
     },
     "execution_count": 36,
     "metadata": {},
     "output_type": "execute_result"
    }
   ],
   "source": [
    "r.search(\"aaaa\")"
   ]
  },
  {
   "cell_type": "code",
   "execution_count": 37,
   "id": "2f563c46",
   "metadata": {},
   "outputs": [
    {
     "data": {
      "text/plain": [
       "<re.Match object; span=(0, 1), match='a'>"
      ]
     },
     "execution_count": 37,
     "metadata": {},
     "output_type": "execute_result"
    }
   ],
   "source": [
    "r.search(\"agdas\")"
   ]
  },
  {
   "cell_type": "code",
   "execution_count": 38,
   "id": "f1c1af86",
   "metadata": {},
   "outputs": [],
   "source": [
    "r = re.compile(\"[^abc]\")"
   ]
  },
  {
   "cell_type": "code",
   "execution_count": 39,
   "id": "142bb11e",
   "metadata": {},
   "outputs": [
    {
     "data": {
      "text/plain": [
       "<re.Match object; span=(1, 2), match='g'>"
      ]
     },
     "execution_count": 39,
     "metadata": {},
     "output_type": "execute_result"
    }
   ],
   "source": [
    "r.search(\"agefdsa\")"
   ]
  },
  {
   "cell_type": "code",
   "execution_count": 40,
   "id": "6022f9eb",
   "metadata": {},
   "outputs": [
    {
     "data": {
      "text/plain": [
       "<re.Match object; span=(3, 4), match='d'>"
      ]
     },
     "execution_count": 40,
     "metadata": {},
     "output_type": "execute_result"
    }
   ],
   "source": [
    "r.search(\"bbbdd\")"
   ]
  },
  {
   "cell_type": "code",
   "execution_count": 41,
   "id": "642f2395",
   "metadata": {},
   "outputs": [],
   "source": [
    "r.match(\"aged\")"
   ]
  },
  {
   "cell_type": "code",
   "execution_count": 42,
   "id": "a308c567",
   "metadata": {},
   "outputs": [],
   "source": [
    "r.match(\"a\")"
   ]
  },
  {
   "cell_type": "code",
   "execution_count": 43,
   "id": "59009fa5",
   "metadata": {},
   "outputs": [
    {
     "data": {
      "text/plain": [
       "<re.Match object; span=(0, 1), match='g'>"
      ]
     },
     "execution_count": 43,
     "metadata": {},
     "output_type": "execute_result"
    }
   ],
   "source": [
    "r.match(\"ged\")"
   ]
  },
  {
   "cell_type": "code",
   "execution_count": 44,
   "id": "0f989fad",
   "metadata": {},
   "outputs": [
    {
     "data": {
      "text/plain": [
       "<re.Match object; span=(0, 1), match='g'>"
      ]
     },
     "execution_count": 44,
     "metadata": {},
     "output_type": "execute_result"
    }
   ],
   "source": [
    "r.match(\"gae\")"
   ]
  },
  {
   "cell_type": "code",
   "execution_count": 45,
   "id": "37c2d00c",
   "metadata": {},
   "outputs": [],
   "source": [
    "text = \"Apple strawberry Mellon\""
   ]
  },
  {
   "cell_type": "code",
   "execution_count": 46,
   "id": "b0e5ea05",
   "metadata": {},
   "outputs": [
    {
     "data": {
      "text/plain": [
       "['Apple', 'strawberry', 'Mellon']"
      ]
     },
     "execution_count": 46,
     "metadata": {},
     "output_type": "execute_result"
    }
   ],
   "source": [
    "re.split(\" \", text)"
   ]
  },
  {
   "cell_type": "code",
   "execution_count": 47,
   "id": "30d69510",
   "metadata": {},
   "outputs": [
    {
     "name": "stdout",
     "output_type": "stream",
     "text": [
      "Apple\n",
      "Strawberry\n",
      "Mellon\n"
     ]
    }
   ],
   "source": [
    "text = \"\"\"Apple\n",
    "Strawberry\n",
    "Mellon\"\"\"\n",
    "print(text)"
   ]
  },
  {
   "cell_type": "code",
   "execution_count": 48,
   "id": "5318ce61",
   "metadata": {},
   "outputs": [
    {
     "data": {
      "text/plain": [
       "['Apple', 'Strawberry', 'Mellon']"
      ]
     },
     "execution_count": 48,
     "metadata": {},
     "output_type": "execute_result"
    }
   ],
   "source": [
    "re.split(\"\\n\", text)"
   ]
  },
  {
   "cell_type": "code",
   "execution_count": 49,
   "id": "a7db554b",
   "metadata": {},
   "outputs": [],
   "source": [
    "text = \"\"\"asdf\n",
    "あえいおう\n",
    "12345\n",
    "as34\n",
    "12df\n",
    "dfsg 88\"\"\""
   ]
  },
  {
   "cell_type": "code",
   "execution_count": 50,
   "id": "bffb67b0",
   "metadata": {},
   "outputs": [
    {
     "data": {
      "text/plain": [
       "['12345', '34', '12', '88']"
      ]
     },
     "execution_count": 50,
     "metadata": {},
     "output_type": "execute_result"
    }
   ],
   "source": [
    "re.findall(\"\\d+\",text)"
   ]
  },
  {
   "cell_type": "code",
   "execution_count": 51,
   "id": "85757168",
   "metadata": {},
   "outputs": [],
   "source": [
    "text = \"Regular expression : A regular expression, regex or regexp[1] (sometimes called a rational expression)[2][3] is, in theoretical computer science and formal language theory, a sequence of characters that define a search pattern.\""
   ]
  },
  {
   "cell_type": "code",
   "execution_count": 57,
   "id": "9b114de3",
   "metadata": {},
   "outputs": [
    {
     "name": "stdout",
     "output_type": "stream",
     "text": [
      "Regular expression   A regular expression  regex or regexp    (sometimes called a rational expression)       is  in theoretical computer science and formal language theory  a sequence of characters that define a search pattern \n"
     ]
    }
   ],
   "source": [
    "preproc=re.sub('[^a-zA-Z()]', ' ', text)\n",
    "print(preproc)"
   ]
  },
  {
   "cell_type": "code",
   "execution_count": 59,
   "id": "253823de",
   "metadata": {},
   "outputs": [],
   "source": [
    "text = \"\"\"100 John   PROF\n",
    "101 James    STUD\n",
    "102 Mac   STUD\"\"\""
   ]
  },
  {
   "cell_type": "code",
   "execution_count": 60,
   "id": "4045c54e",
   "metadata": {},
   "outputs": [
    {
     "data": {
      "text/plain": [
       "['100', 'John', 'PROF', '101', 'James', 'STUD', '102', 'Mac', 'STUD']"
      ]
     },
     "execution_count": 60,
     "metadata": {},
     "output_type": "execute_result"
    }
   ],
   "source": [
    "re.split('\\s+', text)"
   ]
  },
  {
   "cell_type": "code",
   "execution_count": 61,
   "id": "c67dcb46",
   "metadata": {},
   "outputs": [
    {
     "data": {
      "text/plain": [
       "['J', 'P', 'R', 'O', 'F', 'J', 'S', 'T', 'U', 'D', 'M', 'S', 'T', 'U', 'D']"
      ]
     },
     "execution_count": 61,
     "metadata": {},
     "output_type": "execute_result"
    }
   ],
   "source": [
    "re.findall('[A-Z]',text)"
   ]
  },
  {
   "cell_type": "code",
   "execution_count": 62,
   "id": "14723e8e",
   "metadata": {},
   "outputs": [
    {
     "data": {
      "text/plain": [
       "['PROF', 'STUD', 'STUD']"
      ]
     },
     "execution_count": 62,
     "metadata": {},
     "output_type": "execute_result"
    }
   ],
   "source": [
    "re.findall('[A-Z]{4}',text)"
   ]
  },
  {
   "cell_type": "code",
   "execution_count": 64,
   "id": "d7ac41a9",
   "metadata": {},
   "outputs": [
    {
     "data": {
      "text/plain": [
       "['John', 'James', 'Mac']"
      ]
     },
     "execution_count": 64,
     "metadata": {},
     "output_type": "execute_result"
    }
   ],
   "source": [
    "re.findall('[A-Z][a-z]+',text)"
   ]
  },
  {
   "cell_type": "code",
   "execution_count": 65,
   "id": "39322301",
   "metadata": {},
   "outputs": [],
   "source": [
    "from nltk.tokenize import RegexpTokenizer"
   ]
  },
  {
   "cell_type": "code",
   "execution_count": 66,
   "id": "e089f22e",
   "metadata": {},
   "outputs": [],
   "source": [
    "text = \"Don't be fooled by the dark sounding name, Mr. Jone's Orphanage is as cheery as cheery goes for a pastry shop\""
   ]
  },
  {
   "cell_type": "code",
   "execution_count": 74,
   "id": "85af685d",
   "metadata": {},
   "outputs": [],
   "source": [
    "tokenizer1 = RegexpTokenizer(\"[\\w]+\")\n",
    "tokenizer2 = RegexpTokenizer(\"\\s+\")\n",
    "tokenizer3 = RegexpTokenizer(\"\\s+\", gaps=True)"
   ]
  },
  {
   "cell_type": "code",
   "execution_count": 75,
   "id": "6eb6955b",
   "metadata": {},
   "outputs": [
    {
     "name": "stdout",
     "output_type": "stream",
     "text": [
      "['Don', 't', 'be', 'fooled', 'by', 'the', 'dark', 'sounding', 'name', 'Mr', 'Jone', 's', 'Orphanage', 'is', 'as', 'cheery', 'as', 'cheery', 'goes', 'for', 'a', 'pastry', 'shop']\n",
      "[' ', ' ', ' ', ' ', ' ', ' ', ' ', ' ', ' ', ' ', ' ', ' ', ' ', ' ', ' ', ' ', ' ', ' ', ' ', ' ']\n",
      "[\"Don't\", 'be', 'fooled', 'by', 'the', 'dark', 'sounding', 'name,', 'Mr.', \"Jone's\", 'Orphanage', 'is', 'as', 'cheery', 'as', 'cheery', 'goes', 'for', 'a', 'pastry', 'shop']\n"
     ]
    }
   ],
   "source": [
    "print(f\"{tokenizer1.tokenize(text)}\\n{tokenizer2.tokenize(text)}\\n{tokenizer3.tokenize(text)}\")"
   ]
  },
  {
   "cell_type": "code",
   "execution_count": null,
   "id": "9aff6547",
   "metadata": {},
   "outputs": [],
   "source": []
  }
 ],
 "metadata": {
  "kernelspec": {
   "display_name": "Python 3 (ipykernel)",
   "language": "python",
   "name": "python3"
  },
  "language_info": {
   "codemirror_mode": {
    "name": "ipython",
    "version": 3
   },
   "file_extension": ".py",
   "mimetype": "text/x-python",
   "name": "python",
   "nbconvert_exporter": "python",
   "pygments_lexer": "ipython3",
   "version": "3.9.13"
  }
 },
 "nbformat": 4,
 "nbformat_minor": 5
}
