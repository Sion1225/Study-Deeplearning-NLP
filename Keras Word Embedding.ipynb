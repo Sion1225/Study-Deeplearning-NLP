{
 "cells": [
  {
   "cell_type": "code",
   "execution_count": 1,
   "metadata": {},
   "outputs": [],
   "source": [
    "#Embedding(vocab_size, output_dim, input_length=input_length)"
   ]
  },
  {
   "cell_type": "code",
   "execution_count": 2,
   "metadata": {},
   "outputs": [],
   "source": [
    "import numpy as np\n",
    "from tensorflow.keras.preprocessing.text import Tokenizer\n",
    "from tensorflow.keras.preprocessing.sequence import pad_sequences "
   ]
  },
  {
   "cell_type": "code",
   "execution_count": 3,
   "metadata": {},
   "outputs": [],
   "source": [
    "sentences = ['nice great best amazing', 'stop lies', 'pitiful nerd', 'excellent work', 'supreme quality', 'bad', 'highly respectable']\n",
    "y_train = [1, 0, 0, 1, 1, 0, 1] #positive: 1  Negative: 0"
   ]
  },
  {
   "cell_type": "code",
   "execution_count": 4,
   "metadata": {},
   "outputs": [
    {
     "name": "stdout",
     "output_type": "stream",
     "text": [
      "vocab size:  16\n"
     ]
    }
   ],
   "source": [
    "tokenizer = Tokenizer()\n",
    "tokenizer.fit_on_texts(sentences)\n",
    "vocab_size = len(tokenizer.word_index) + 1\n",
    "print(\"vocab size: \",vocab_size)"
   ]
  },
  {
   "cell_type": "code",
   "execution_count": 5,
   "metadata": {},
   "outputs": [
    {
     "name": "stdout",
     "output_type": "stream",
     "text": [
      "Integer Encoding :  [[1, 2, 3, 4], [5, 6], [7, 8], [9, 10], [11, 12], [13], [14, 15]]\n"
     ]
    }
   ],
   "source": [
    "X_encoded = tokenizer.texts_to_sequences(sentences)\n",
    "print(\"Integer Encoding : \",X_encoded)"
   ]
  },
  {
   "cell_type": "code",
   "execution_count": 6,
   "metadata": {},
   "outputs": [
    {
     "name": "stdout",
     "output_type": "stream",
     "text": [
      "Maximum length:  4\n"
     ]
    }
   ],
   "source": [
    "max_len = max(len(l) for l in X_encoded)\n",
    "print(\"Maximum length: \",max_len)"
   ]
  },
  {
   "cell_type": "code",
   "execution_count": 10,
   "metadata": {},
   "outputs": [
    {
     "name": "stdout",
     "output_type": "stream",
     "text": [
      "Padded train_X data: \n",
      "[[ 1  2  3  4]\n",
      " [ 5  6  0  0]\n",
      " [ 7  8  0  0]\n",
      " [ 9 10  0  0]\n",
      " [11 12  0  0]\n",
      " [13  0  0  0]\n",
      " [14 15  0  0]]\n",
      "(7, 4)\n"
     ]
    }
   ],
   "source": [
    "X_train = pad_sequences(X_encoded, maxlen=max_len, padding='post')\n",
    "y_train = np.array(y_train)\n",
    "print(\"Padded train_X data: \")\n",
    "print(X_train)\n",
    "print(X_train.shape)"
   ]
  },
  {
   "cell_type": "code",
   "execution_count": 9,
   "metadata": {},
   "outputs": [],
   "source": [
    "from tensorflow.keras.models import Model\n",
    "from tensorflow.keras.layers import Dense, Embedding, Flatten, Input"
   ]
  },
  {
   "cell_type": "code",
   "execution_count": 28,
   "metadata": {},
   "outputs": [],
   "source": [
    "embedding_dim = 4\n",
    "\n",
    "inputs = Input(shape=(4))\n",
    "model = Embedding(vocab_size, embedding_dim, input_length = max_len)(inputs)\n",
    "model = Flatten()(model)\n",
    "output = Dense(1, activation = 'sigmoid')(model)\n",
    "model = Model(inputs=inputs, outputs=output)"
   ]
  },
  {
   "cell_type": "code",
   "execution_count": 29,
   "metadata": {},
   "outputs": [
    {
     "name": "stdout",
     "output_type": "stream",
     "text": [
      "Epoch 1/100\n",
      "1/1 - 3s - loss: 0.6894 - acc: 0.4286 - 3s/epoch - 3s/step\n",
      "Epoch 2/100\n",
      "1/1 - 0s - loss: 0.6879 - acc: 0.4286 - 8ms/epoch - 8ms/step\n",
      "Epoch 3/100\n",
      "1/1 - 0s - loss: 0.6863 - acc: 0.4286 - 10ms/epoch - 10ms/step\n",
      "Epoch 4/100\n",
      "1/1 - 0s - loss: 0.6848 - acc: 0.4286 - 8ms/epoch - 8ms/step\n",
      "Epoch 5/100\n",
      "1/1 - 0s - loss: 0.6833 - acc: 0.5714 - 7ms/epoch - 7ms/step\n",
      "Epoch 6/100\n",
      "1/1 - 0s - loss: 0.6818 - acc: 0.8571 - 14ms/epoch - 14ms/step\n",
      "Epoch 7/100\n",
      "1/1 - 0s - loss: 0.6802 - acc: 0.8571 - 15ms/epoch - 15ms/step\n",
      "Epoch 8/100\n",
      "1/1 - 0s - loss: 0.6787 - acc: 1.0000 - 12ms/epoch - 12ms/step\n",
      "Epoch 9/100\n",
      "1/1 - 0s - loss: 0.6772 - acc: 1.0000 - 15ms/epoch - 15ms/step\n",
      "Epoch 10/100\n",
      "1/1 - 0s - loss: 0.6757 - acc: 1.0000 - 9ms/epoch - 9ms/step\n",
      "Epoch 11/100\n",
      "1/1 - 0s - loss: 0.6741 - acc: 1.0000 - 12ms/epoch - 12ms/step\n",
      "Epoch 12/100\n",
      "1/1 - 0s - loss: 0.6726 - acc: 1.0000 - 13ms/epoch - 13ms/step\n",
      "Epoch 13/100\n",
      "1/1 - 0s - loss: 0.6710 - acc: 1.0000 - 14ms/epoch - 14ms/step\n",
      "Epoch 14/100\n",
      "1/1 - 0s - loss: 0.6695 - acc: 1.0000 - 13ms/epoch - 13ms/step\n",
      "Epoch 15/100\n",
      "1/1 - 0s - loss: 0.6679 - acc: 1.0000 - 12ms/epoch - 12ms/step\n",
      "Epoch 16/100\n",
      "1/1 - 0s - loss: 0.6664 - acc: 1.0000 - 13ms/epoch - 13ms/step\n",
      "Epoch 17/100\n",
      "1/1 - 0s - loss: 0.6648 - acc: 1.0000 - 13ms/epoch - 13ms/step\n",
      "Epoch 18/100\n",
      "1/1 - 0s - loss: 0.6632 - acc: 1.0000 - 15ms/epoch - 15ms/step\n",
      "Epoch 19/100\n",
      "1/1 - 0s - loss: 0.6617 - acc: 1.0000 - 13ms/epoch - 13ms/step\n",
      "Epoch 20/100\n",
      "1/1 - 0s - loss: 0.6601 - acc: 1.0000 - 13ms/epoch - 13ms/step\n",
      "Epoch 21/100\n",
      "1/1 - 0s - loss: 0.6585 - acc: 1.0000 - 14ms/epoch - 14ms/step\n",
      "Epoch 22/100\n",
      "1/1 - 0s - loss: 0.6569 - acc: 1.0000 - 12ms/epoch - 12ms/step\n",
      "Epoch 23/100\n",
      "1/1 - 0s - loss: 0.6553 - acc: 1.0000 - 13ms/epoch - 13ms/step\n",
      "Epoch 24/100\n",
      "1/1 - 0s - loss: 0.6537 - acc: 1.0000 - 13ms/epoch - 13ms/step\n",
      "Epoch 25/100\n",
      "1/1 - 0s - loss: 0.6521 - acc: 1.0000 - 13ms/epoch - 13ms/step\n",
      "Epoch 26/100\n",
      "1/1 - 0s - loss: 0.6505 - acc: 1.0000 - 14ms/epoch - 14ms/step\n",
      "Epoch 27/100\n",
      "1/1 - 0s - loss: 0.6488 - acc: 1.0000 - 12ms/epoch - 12ms/step\n",
      "Epoch 28/100\n",
      "1/1 - 0s - loss: 0.6472 - acc: 1.0000 - 12ms/epoch - 12ms/step\n",
      "Epoch 29/100\n",
      "1/1 - 0s - loss: 0.6455 - acc: 1.0000 - 14ms/epoch - 14ms/step\n",
      "Epoch 30/100\n",
      "1/1 - 0s - loss: 0.6439 - acc: 1.0000 - 13ms/epoch - 13ms/step\n",
      "Epoch 31/100\n",
      "1/1 - 0s - loss: 0.6422 - acc: 1.0000 - 18ms/epoch - 18ms/step\n",
      "Epoch 32/100\n",
      "1/1 - 0s - loss: 0.6406 - acc: 1.0000 - 11ms/epoch - 11ms/step\n",
      "Epoch 33/100\n",
      "1/1 - 0s - loss: 0.6389 - acc: 1.0000 - 13ms/epoch - 13ms/step\n",
      "Epoch 34/100\n",
      "1/1 - 0s - loss: 0.6372 - acc: 1.0000 - 13ms/epoch - 13ms/step\n",
      "Epoch 35/100\n",
      "1/1 - 0s - loss: 0.6355 - acc: 1.0000 - 13ms/epoch - 13ms/step\n",
      "Epoch 36/100\n",
      "1/1 - 0s - loss: 0.6338 - acc: 1.0000 - 12ms/epoch - 12ms/step\n",
      "Epoch 37/100\n",
      "1/1 - 0s - loss: 0.6321 - acc: 1.0000 - 14ms/epoch - 14ms/step\n",
      "Epoch 38/100\n",
      "1/1 - 0s - loss: 0.6303 - acc: 1.0000 - 13ms/epoch - 13ms/step\n",
      "Epoch 39/100\n",
      "1/1 - 0s - loss: 0.6286 - acc: 1.0000 - 12ms/epoch - 12ms/step\n",
      "Epoch 40/100\n",
      "1/1 - 0s - loss: 0.6269 - acc: 1.0000 - 7ms/epoch - 7ms/step\n",
      "Epoch 41/100\n",
      "1/1 - 0s - loss: 0.6251 - acc: 1.0000 - 10ms/epoch - 10ms/step\n",
      "Epoch 42/100\n",
      "1/1 - 0s - loss: 0.6233 - acc: 1.0000 - 8ms/epoch - 8ms/step\n",
      "Epoch 43/100\n",
      "1/1 - 0s - loss: 0.6216 - acc: 1.0000 - 12ms/epoch - 12ms/step\n",
      "Epoch 44/100\n",
      "1/1 - 0s - loss: 0.6198 - acc: 1.0000 - 12ms/epoch - 12ms/step\n",
      "Epoch 45/100\n",
      "1/1 - 0s - loss: 0.6180 - acc: 1.0000 - 13ms/epoch - 13ms/step\n",
      "Epoch 46/100\n",
      "1/1 - 0s - loss: 0.6162 - acc: 1.0000 - 7ms/epoch - 7ms/step\n",
      "Epoch 47/100\n",
      "1/1 - 0s - loss: 0.6144 - acc: 1.0000 - 8ms/epoch - 8ms/step\n",
      "Epoch 48/100\n",
      "1/1 - 0s - loss: 0.6126 - acc: 1.0000 - 12ms/epoch - 12ms/step\n",
      "Epoch 49/100\n",
      "1/1 - 0s - loss: 0.6108 - acc: 1.0000 - 11ms/epoch - 11ms/step\n",
      "Epoch 50/100\n",
      "1/1 - 0s - loss: 0.6089 - acc: 1.0000 - 8ms/epoch - 8ms/step\n",
      "Epoch 51/100\n",
      "1/1 - 0s - loss: 0.6071 - acc: 1.0000 - 8ms/epoch - 8ms/step\n",
      "Epoch 52/100\n",
      "1/1 - 0s - loss: 0.6052 - acc: 1.0000 - 11ms/epoch - 11ms/step\n",
      "Epoch 53/100\n",
      "1/1 - 0s - loss: 0.6034 - acc: 1.0000 - 12ms/epoch - 12ms/step\n",
      "Epoch 54/100\n",
      "1/1 - 0s - loss: 0.6015 - acc: 1.0000 - 13ms/epoch - 13ms/step\n",
      "Epoch 55/100\n",
      "1/1 - 0s - loss: 0.5996 - acc: 1.0000 - 13ms/epoch - 13ms/step\n",
      "Epoch 56/100\n",
      "1/1 - 0s - loss: 0.5977 - acc: 1.0000 - 9ms/epoch - 9ms/step\n",
      "Epoch 57/100\n",
      "1/1 - 0s - loss: 0.5958 - acc: 1.0000 - 8ms/epoch - 8ms/step\n",
      "Epoch 58/100\n",
      "1/1 - 0s - loss: 0.5939 - acc: 1.0000 - 10ms/epoch - 10ms/step\n",
      "Epoch 59/100\n",
      "1/1 - 0s - loss: 0.5920 - acc: 1.0000 - 13ms/epoch - 13ms/step\n",
      "Epoch 60/100\n",
      "1/1 - 0s - loss: 0.5901 - acc: 1.0000 - 13ms/epoch - 13ms/step\n",
      "Epoch 61/100\n",
      "1/1 - 0s - loss: 0.5881 - acc: 1.0000 - 7ms/epoch - 7ms/step\n",
      "Epoch 62/100\n",
      "1/1 - 0s - loss: 0.5862 - acc: 1.0000 - 8ms/epoch - 8ms/step\n",
      "Epoch 63/100\n",
      "1/1 - 0s - loss: 0.5842 - acc: 1.0000 - 10ms/epoch - 10ms/step\n",
      "Epoch 64/100\n",
      "1/1 - 0s - loss: 0.5823 - acc: 1.0000 - 13ms/epoch - 13ms/step\n",
      "Epoch 65/100\n",
      "1/1 - 0s - loss: 0.5803 - acc: 1.0000 - 12ms/epoch - 12ms/step\n",
      "Epoch 66/100\n",
      "1/1 - 0s - loss: 0.5784 - acc: 1.0000 - 7ms/epoch - 7ms/step\n",
      "Epoch 67/100\n",
      "1/1 - 0s - loss: 0.5764 - acc: 1.0000 - 8ms/epoch - 8ms/step\n",
      "Epoch 68/100\n",
      "1/1 - 0s - loss: 0.5744 - acc: 1.0000 - 13ms/epoch - 13ms/step\n",
      "Epoch 69/100\n",
      "1/1 - 0s - loss: 0.5724 - acc: 1.0000 - 12ms/epoch - 12ms/step\n",
      "Epoch 70/100\n",
      "1/1 - 0s - loss: 0.5704 - acc: 1.0000 - 7ms/epoch - 7ms/step\n",
      "Epoch 71/100\n",
      "1/1 - 0s - loss: 0.5684 - acc: 1.0000 - 8ms/epoch - 8ms/step\n",
      "Epoch 72/100\n",
      "1/1 - 0s - loss: 0.5663 - acc: 1.0000 - 11ms/epoch - 11ms/step\n",
      "Epoch 73/100\n",
      "1/1 - 0s - loss: 0.5643 - acc: 1.0000 - 12ms/epoch - 12ms/step\n",
      "Epoch 74/100\n",
      "1/1 - 0s - loss: 0.5623 - acc: 1.0000 - 7ms/epoch - 7ms/step\n",
      "Epoch 75/100\n",
      "1/1 - 0s - loss: 0.5602 - acc: 1.0000 - 8ms/epoch - 8ms/step\n",
      "Epoch 76/100\n",
      "1/1 - 0s - loss: 0.5582 - acc: 1.0000 - 12ms/epoch - 12ms/step\n",
      "Epoch 77/100\n",
      "1/1 - 0s - loss: 0.5561 - acc: 1.0000 - 12ms/epoch - 12ms/step\n",
      "Epoch 78/100\n",
      "1/1 - 0s - loss: 0.5541 - acc: 1.0000 - 11ms/epoch - 11ms/step\n",
      "Epoch 79/100\n",
      "1/1 - 0s - loss: 0.5520 - acc: 1.0000 - 7ms/epoch - 7ms/step\n",
      "Epoch 80/100\n",
      "1/1 - 0s - loss: 0.5499 - acc: 1.0000 - 8ms/epoch - 8ms/step\n",
      "Epoch 81/100\n",
      "1/1 - 0s - loss: 0.5478 - acc: 1.0000 - 13ms/epoch - 13ms/step\n",
      "Epoch 82/100\n",
      "1/1 - 0s - loss: 0.5458 - acc: 1.0000 - 12ms/epoch - 12ms/step\n",
      "Epoch 83/100\n",
      "1/1 - 0s - loss: 0.5437 - acc: 1.0000 - 7ms/epoch - 7ms/step\n",
      "Epoch 84/100\n",
      "1/1 - 0s - loss: 0.5416 - acc: 1.0000 - 7ms/epoch - 7ms/step\n",
      "Epoch 85/100\n",
      "1/1 - 0s - loss: 0.5395 - acc: 1.0000 - 12ms/epoch - 12ms/step\n",
      "Epoch 86/100\n",
      "1/1 - 0s - loss: 0.5373 - acc: 1.0000 - 11ms/epoch - 11ms/step\n",
      "Epoch 87/100\n",
      "1/1 - 0s - loss: 0.5352 - acc: 1.0000 - 7ms/epoch - 7ms/step\n",
      "Epoch 88/100\n",
      "1/1 - 0s - loss: 0.5331 - acc: 1.0000 - 7ms/epoch - 7ms/step\n",
      "Epoch 89/100\n",
      "1/1 - 0s - loss: 0.5310 - acc: 1.0000 - 12ms/epoch - 12ms/step\n",
      "Epoch 90/100\n",
      "1/1 - 0s - loss: 0.5288 - acc: 1.0000 - 12ms/epoch - 12ms/step\n",
      "Epoch 91/100\n",
      "1/1 - 0s - loss: 0.5267 - acc: 1.0000 - 7ms/epoch - 7ms/step\n",
      "Epoch 92/100\n",
      "1/1 - 0s - loss: 0.5246 - acc: 1.0000 - 7ms/epoch - 7ms/step\n",
      "Epoch 93/100\n",
      "1/1 - 0s - loss: 0.5224 - acc: 1.0000 - 12ms/epoch - 12ms/step\n",
      "Epoch 94/100\n",
      "1/1 - 0s - loss: 0.5203 - acc: 1.0000 - 12ms/epoch - 12ms/step\n",
      "Epoch 95/100\n",
      "1/1 - 0s - loss: 0.5181 - acc: 1.0000 - 8ms/epoch - 8ms/step\n",
      "Epoch 96/100\n",
      "1/1 - 0s - loss: 0.5160 - acc: 1.0000 - 7ms/epoch - 7ms/step\n",
      "Epoch 97/100\n",
      "1/1 - 0s - loss: 0.5138 - acc: 1.0000 - 11ms/epoch - 11ms/step\n",
      "Epoch 98/100\n",
      "1/1 - 0s - loss: 0.5116 - acc: 1.0000 - 11ms/epoch - 11ms/step\n",
      "Epoch 99/100\n",
      "1/1 - 0s - loss: 0.5095 - acc: 1.0000 - 7ms/epoch - 7ms/step\n",
      "Epoch 100/100\n",
      "1/1 - 0s - loss: 0.5073 - acc: 1.0000 - 8ms/epoch - 8ms/step\n"
     ]
    },
    {
     "data": {
      "text/plain": [
       "<keras.callbacks.History at 0x3138e0a0>"
      ]
     },
     "execution_count": 29,
     "metadata": {},
     "output_type": "execute_result"
    }
   ],
   "source": [
    "model.compile(optimizer='adam', loss='binary_crossentropy', metrics=['acc'])\n",
    "model.fit(X_train, y_train, epochs=100, verbose=2)"
   ]
  },
  {
   "cell_type": "code",
   "execution_count": 32,
   "metadata": {},
   "outputs": [
    {
     "name": "stdout",
     "output_type": "stream",
     "text": [
      "dict_items([('nice', 1), ('great', 2), ('best', 3), ('amazing', 4), ('stop', 5), ('lies', 6), ('pitiful', 7), ('nerd', 8), ('excellent', 9), ('work', 10), ('supreme', 11), ('quality', 12), ('bad', 13), ('highly', 14), ('respectable', 15)])\n"
     ]
    }
   ],
   "source": [
    "print(tokenizer.word_index.items())"
   ]
  },
  {
   "cell_type": "code",
   "execution_count": 39,
   "metadata": {},
   "outputs": [
    {
     "name": "stdout",
     "output_type": "stream",
     "text": [
      "WARNING:tensorflow:Model was constructed with shape (None, 4) for input KerasTensor(type_spec=TensorSpec(shape=(None, 4), dtype=tf.float32, name='input_12'), name='input_12', description=\"created by layer 'input_12'\"), but it was called on an input with incompatible shape (None,).\n"
     ]
    },
    {
     "ename": "ValueError",
     "evalue": "in user code:\n\n    File \"C:\\ProgramData\\Anaconda3\\lib\\site-packages\\keras\\engine\\training.py\", line 2041, in predict_function  *\n        return step_function(self, iterator)\n    File \"C:\\ProgramData\\Anaconda3\\lib\\site-packages\\keras\\engine\\training.py\", line 2027, in step_function  **\n        outputs = model.distribute_strategy.run(run_step, args=(data,))\n    File \"C:\\ProgramData\\Anaconda3\\lib\\site-packages\\keras\\engine\\training.py\", line 2015, in run_step  **\n        outputs = model.predict_step(data)\n    File \"C:\\ProgramData\\Anaconda3\\lib\\site-packages\\keras\\engine\\training.py\", line 1983, in predict_step\n        return self(x, training=False)\n    File \"C:\\ProgramData\\Anaconda3\\lib\\site-packages\\keras\\utils\\traceback_utils.py\", line 70, in error_handler\n        raise e.with_traceback(filtered_tb) from None\n    File \"C:\\ProgramData\\Anaconda3\\lib\\site-packages\\keras\\engine\\input_spec.py\", line 277, in assert_input_compatibility\n        raise ValueError(\n\n    ValueError: Exception encountered when calling layer \"model_4\" \"                 f\"(type Functional).\n    \n    Input 0 of layer \"dense_4\" is incompatible with the layer: expected axis -1 of input shape to have value 16, but received input with shape (None, 4)\n    \n    Call arguments received by layer \"model_4\" \"                 f\"(type Functional):\n      • inputs=tf.Tensor(shape=(None,), dtype=string)\n      • training=False\n      • mask=None\n",
     "output_type": "error",
     "traceback": [
      "\u001b[1;31m---------------------------------------------------------------------------\u001b[0m",
      "\u001b[1;31mValueError\u001b[0m                                Traceback (most recent call last)",
      "\u001b[1;32m<ipython-input-39-554c4846388c>\u001b[0m in \u001b[0;36m<module>\u001b[1;34m\u001b[0m\n\u001b[1;32m----> 1\u001b[1;33m \u001b[0mmodel\u001b[0m\u001b[1;33m.\u001b[0m\u001b[0mpredict\u001b[0m\u001b[1;33m(\u001b[0m\u001b[0msentences\u001b[0m\u001b[1;33m)\u001b[0m\u001b[1;33m\u001b[0m\u001b[1;33m\u001b[0m\u001b[0m\n\u001b[0m",
      "\u001b[1;32mC:\\ProgramData\\Anaconda3\\lib\\site-packages\\keras\\utils\\traceback_utils.py\u001b[0m in \u001b[0;36merror_handler\u001b[1;34m(*args, **kwargs)\u001b[0m\n\u001b[0;32m     68\u001b[0m             \u001b[1;31m# To get the full stack trace, call:\u001b[0m\u001b[1;33m\u001b[0m\u001b[1;33m\u001b[0m\u001b[1;33m\u001b[0m\u001b[0m\n\u001b[0;32m     69\u001b[0m             \u001b[1;31m# `tf.debugging.disable_traceback_filtering()`\u001b[0m\u001b[1;33m\u001b[0m\u001b[1;33m\u001b[0m\u001b[1;33m\u001b[0m\u001b[0m\n\u001b[1;32m---> 70\u001b[1;33m             \u001b[1;32mraise\u001b[0m \u001b[0me\u001b[0m\u001b[1;33m.\u001b[0m\u001b[0mwith_traceback\u001b[0m\u001b[1;33m(\u001b[0m\u001b[0mfiltered_tb\u001b[0m\u001b[1;33m)\u001b[0m \u001b[1;32mfrom\u001b[0m \u001b[1;32mNone\u001b[0m\u001b[1;33m\u001b[0m\u001b[1;33m\u001b[0m\u001b[0m\n\u001b[0m\u001b[0;32m     71\u001b[0m         \u001b[1;32mfinally\u001b[0m\u001b[1;33m:\u001b[0m\u001b[1;33m\u001b[0m\u001b[1;33m\u001b[0m\u001b[0m\n\u001b[0;32m     72\u001b[0m             \u001b[1;32mdel\u001b[0m \u001b[0mfiltered_tb\u001b[0m\u001b[1;33m\u001b[0m\u001b[1;33m\u001b[0m\u001b[0m\n",
      "\u001b[1;32mC:\\ProgramData\\Anaconda3\\lib\\site-packages\\keras\\engine\\training.py\u001b[0m in \u001b[0;36mtf__predict_function\u001b[1;34m(iterator)\u001b[0m\n\u001b[0;32m     13\u001b[0m                 \u001b[1;32mtry\u001b[0m\u001b[1;33m:\u001b[0m\u001b[1;33m\u001b[0m\u001b[1;33m\u001b[0m\u001b[0m\n\u001b[0;32m     14\u001b[0m                     \u001b[0mdo_return\u001b[0m \u001b[1;33m=\u001b[0m \u001b[1;32mTrue\u001b[0m\u001b[1;33m\u001b[0m\u001b[1;33m\u001b[0m\u001b[0m\n\u001b[1;32m---> 15\u001b[1;33m                     \u001b[0mretval_\u001b[0m \u001b[1;33m=\u001b[0m \u001b[0mag__\u001b[0m\u001b[1;33m.\u001b[0m\u001b[0mconverted_call\u001b[0m\u001b[1;33m(\u001b[0m\u001b[0mag__\u001b[0m\u001b[1;33m.\u001b[0m\u001b[0mld\u001b[0m\u001b[1;33m(\u001b[0m\u001b[0mstep_function\u001b[0m\u001b[1;33m)\u001b[0m\u001b[1;33m,\u001b[0m \u001b[1;33m(\u001b[0m\u001b[0mag__\u001b[0m\u001b[1;33m.\u001b[0m\u001b[0mld\u001b[0m\u001b[1;33m(\u001b[0m\u001b[0mself\u001b[0m\u001b[1;33m)\u001b[0m\u001b[1;33m,\u001b[0m \u001b[0mag__\u001b[0m\u001b[1;33m.\u001b[0m\u001b[0mld\u001b[0m\u001b[1;33m(\u001b[0m\u001b[0miterator\u001b[0m\u001b[1;33m)\u001b[0m\u001b[1;33m)\u001b[0m\u001b[1;33m,\u001b[0m \u001b[1;32mNone\u001b[0m\u001b[1;33m,\u001b[0m \u001b[0mfscope\u001b[0m\u001b[1;33m)\u001b[0m\u001b[1;33m\u001b[0m\u001b[1;33m\u001b[0m\u001b[0m\n\u001b[0m\u001b[0;32m     16\u001b[0m                 \u001b[1;32mexcept\u001b[0m\u001b[1;33m:\u001b[0m\u001b[1;33m\u001b[0m\u001b[1;33m\u001b[0m\u001b[0m\n\u001b[0;32m     17\u001b[0m                     \u001b[0mdo_return\u001b[0m \u001b[1;33m=\u001b[0m \u001b[1;32mFalse\u001b[0m\u001b[1;33m\u001b[0m\u001b[1;33m\u001b[0m\u001b[0m\n",
      "\u001b[1;31mValueError\u001b[0m: in user code:\n\n    File \"C:\\ProgramData\\Anaconda3\\lib\\site-packages\\keras\\engine\\training.py\", line 2041, in predict_function  *\n        return step_function(self, iterator)\n    File \"C:\\ProgramData\\Anaconda3\\lib\\site-packages\\keras\\engine\\training.py\", line 2027, in step_function  **\n        outputs = model.distribute_strategy.run(run_step, args=(data,))\n    File \"C:\\ProgramData\\Anaconda3\\lib\\site-packages\\keras\\engine\\training.py\", line 2015, in run_step  **\n        outputs = model.predict_step(data)\n    File \"C:\\ProgramData\\Anaconda3\\lib\\site-packages\\keras\\engine\\training.py\", line 1983, in predict_step\n        return self(x, training=False)\n    File \"C:\\ProgramData\\Anaconda3\\lib\\site-packages\\keras\\utils\\traceback_utils.py\", line 70, in error_handler\n        raise e.with_traceback(filtered_tb) from None\n    File \"C:\\ProgramData\\Anaconda3\\lib\\site-packages\\keras\\engine\\input_spec.py\", line 277, in assert_input_compatibility\n        raise ValueError(\n\n    ValueError: Exception encountered when calling layer \"model_4\" \"                 f\"(type Functional).\n    \n    Input 0 of layer \"dense_4\" is incompatible with the layer: expected axis -1 of input shape to have value 16, but received input with shape (None, 4)\n    \n    Call arguments received by layer \"model_4\" \"                 f\"(type Functional):\n      • inputs=tf.Tensor(shape=(None,), dtype=string)\n      • training=False\n      • mask=None\n"
     ]
    }
   ],
   "source": [
    "model.predict(sentences)"
   ]
  },
  {
   "cell_type": "code",
   "execution_count": null,
   "metadata": {},
   "outputs": [],
   "source": []
  }
 ],
 "metadata": {
  "kernelspec": {
   "display_name": "Python 3",
   "language": "python",
   "name": "python3"
  },
  "language_info": {
   "codemirror_mode": {
    "name": "ipython",
    "version": 3
   },
   "file_extension": ".py",
   "mimetype": "text/x-python",
   "name": "python",
   "nbconvert_exporter": "python",
   "pygments_lexer": "ipython3",
   "version": "3.8.5"
  }
 },
 "nbformat": 4,
 "nbformat_minor": 4
}
