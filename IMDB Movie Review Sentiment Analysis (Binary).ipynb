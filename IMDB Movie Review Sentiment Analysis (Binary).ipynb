{
 "cells": [
  {
   "cell_type": "code",
   "execution_count": 1,
   "metadata": {},
   "outputs": [],
   "source": [
    "#http://ai.stanford.edu/~amaas/papers/wvSent_acl2011.pdf\n",
    "#Pos 1 NG 0"
   ]
  },
  {
   "cell_type": "code",
   "execution_count": 74,
   "metadata": {},
   "outputs": [],
   "source": [
    "import numpy as np\n",
    "import matplotlib.pyplot as plt\n",
    "from tensorflow.keras.datasets import imdb"
   ]
  },
  {
   "cell_type": "code",
   "execution_count": 75,
   "metadata": {},
   "outputs": [],
   "source": [
    "(X_train, y_train), (X_test, y_test) = imdb.load_data()"
   ]
  },
  {
   "cell_type": "code",
   "execution_count": 76,
   "metadata": {},
   "outputs": [
    {
     "name": "stdout",
     "output_type": "stream",
     "text": [
      "Number of train datas:  25000\n",
      "Number of test datas:  25000\n",
      "Category:  {0, 1}\n"
     ]
    }
   ],
   "source": [
    "print(\"Number of train datas: \",len(X_train))\n",
    "print(\"Number of test datas: \",len(X_test))\n",
    "print(\"Category: \",set(y_train))"
   ]
  },
  {
   "cell_type": "code",
   "execution_count": 11,
   "metadata": {},
   "outputs": [
    {
     "name": "stdout",
     "output_type": "stream",
     "text": [
      "[list([1, 14, 22, 16, 43, 530, 973, 1622, 1385, 65, 458, 4468, 66, 3941, 4, 173, 36, 256, 5, 25, 100, 43, 838, 112, 50, 670, 22665, 9, 35, 480, 284, 5, 150, 4, 172, 112, 167, 21631, 336, 385, 39, 4, 172, 4536, 1111, 17, 546, 38, 13, 447, 4, 192, 50, 16, 6, 147, 2025, 19, 14, 22, 4, 1920, 4613, 469, 4, 22, 71, 87, 12, 16, 43, 530, 38, 76, 15, 13, 1247, 4, 22, 17, 515, 17, 12, 16, 626, 18, 19193, 5, 62, 386, 12, 8, 316, 8, 106, 5, 4, 2223, 5244, 16, 480, 66, 3785, 33, 4, 130, 12, 16, 38, 619, 5, 25, 124, 51, 36, 135, 48, 25, 1415, 33, 6, 22, 12, 215, 28, 77, 52, 5, 14, 407, 16, 82, 10311, 8, 4, 107, 117, 5952, 15, 256, 4, 31050, 7, 3766, 5, 723, 36, 71, 43, 530, 476, 26, 400, 317, 46, 7, 4, 12118, 1029, 13, 104, 88, 4, 381, 15, 297, 98, 32, 2071, 56, 26, 141, 6, 194, 7486, 18, 4, 226, 22, 21, 134, 476, 26, 480, 5, 144, 30, 5535, 18, 51, 36, 28, 224, 92, 25, 104, 4, 226, 65, 16, 38, 1334, 88, 12, 16, 283, 5, 16, 4472, 113, 103, 32, 15, 16, 5345, 19, 178, 32])\n",
      " list([1, 194, 1153, 194, 8255, 78, 228, 5, 6, 1463, 4369, 5012, 134, 26, 4, 715, 8, 118, 1634, 14, 394, 20, 13, 119, 954, 189, 102, 5, 207, 110, 3103, 21, 14, 69, 188, 8, 30, 23, 7, 4, 249, 126, 93, 4, 114, 9, 2300, 1523, 5, 647, 4, 116, 9, 35, 8163, 4, 229, 9, 340, 1322, 4, 118, 9, 4, 130, 4901, 19, 4, 1002, 5, 89, 29, 952, 46, 37, 4, 455, 9, 45, 43, 38, 1543, 1905, 398, 4, 1649, 26, 6853, 5, 163, 11, 3215, 10156, 4, 1153, 9, 194, 775, 7, 8255, 11596, 349, 2637, 148, 605, 15358, 8003, 15, 123, 125, 68, 23141, 6853, 15, 349, 165, 4362, 98, 5, 4, 228, 9, 43, 36893, 1157, 15, 299, 120, 5, 120, 174, 11, 220, 175, 136, 50, 9, 4373, 228, 8255, 5, 25249, 656, 245, 2350, 5, 4, 9837, 131, 152, 491, 18, 46151, 32, 7464, 1212, 14, 9, 6, 371, 78, 22, 625, 64, 1382, 9, 8, 168, 145, 23, 4, 1690, 15, 16, 4, 1355, 5, 28, 6, 52, 154, 462, 33, 89, 78, 285, 16, 145, 95])\n",
      " list([1, 14, 47, 8, 30, 31, 7, 4, 249, 108, 7, 4, 5974, 54, 61, 369, 13, 71, 149, 14, 22, 112, 4, 2401, 311, 12, 16, 3711, 33, 75, 43, 1829, 296, 4, 86, 320, 35, 534, 19, 263, 4821, 1301, 4, 1873, 33, 89, 78, 12, 66, 16, 4, 360, 7, 4, 58, 316, 334, 11, 4, 1716, 43, 645, 662, 8, 257, 85, 1200, 42, 1228, 2578, 83, 68, 3912, 15, 36, 165, 1539, 278, 36, 69, 44076, 780, 8, 106, 14, 6905, 1338, 18, 6, 22, 12, 215, 28, 610, 40, 6, 87, 326, 23, 2300, 21, 23, 22, 12, 272, 40, 57, 31, 11, 4, 22, 47, 6, 2307, 51, 9, 170, 23, 595, 116, 595, 1352, 13, 191, 79, 638, 89, 51428, 14, 9, 8, 106, 607, 624, 35, 534, 6, 227, 7, 129, 113])] \n",
      "\n",
      "[1 0 0]\n"
     ]
    }
   ],
   "source": [
    "print(X_train[:3],\"\\n\")\n",
    "print(y_train[:3])"
   ]
  },
  {
   "cell_type": "code",
   "execution_count": 12,
   "metadata": {},
   "outputs": [
    {
     "name": "stdout",
     "output_type": "stream",
     "text": [
      "Maximum length of reviews:  2494\n",
      "Mean length of reviews:  238.71364\n",
      "Minimum length of reviews:  11\n"
     ]
    }
   ],
   "source": [
    "reviews_length = [len(review) for review in X_train]\n",
    "\n",
    "print(\"Maximum length of reviews: \",np.max(reviews_length))\n",
    "print(\"Mean length of reviews: \",np.mean(reviews_length))\n",
    "print(\"Minimum length of reviews: \",np.min(reviews_length))"
   ]
  },
  {
   "cell_type": "code",
   "execution_count": 14,
   "metadata": {},
   "outputs": [
    {
     "data": {
      "image/png": "[encoded data removed]",
      "text/plain": [
       "<Figure size 432x288 with 2 Axes>"
      ]
     },
     "metadata": {
      "needs_background": "light"
     },
     "output_type": "display_data"
    }
   ],
   "source": [
    "plt.subplot(1,2,1)\n",
    "plt.boxplot(reviews_length)\n",
    "plt.subplot(1,2,2)\n",
    "plt.hist(reviews_length, bins=50)\n",
    "plt.show()"
   ]
  },
  {
   "cell_type": "code",
   "execution_count": 25,
   "metadata": {},
   "outputs": [
    {
     "name": "stdout",
     "output_type": "stream",
     "text": [
      "0 's frequency = 12500\n",
      "1 's frequency = 12500\n"
     ]
    }
   ],
   "source": [
    "unique_elements, counts_elements = np.unique(y_train, return_counts=True)\n",
    "print(unique_elements[0], \"'s frequency =\", counts_elements[0])\n",
    "print(unique_elements[1], \"'s frequency =\", counts_elements[1])"
   ]
  },
  {
   "cell_type": "code",
   "execution_count": 77,
   "metadata": {},
   "outputs": [],
   "source": [
    "word_to_index = imdb.get_word_index()"
   ]
  },
  {
   "cell_type": "code",
   "execution_count": 78,
   "metadata": {},
   "outputs": [],
   "source": [
    "index_to_word = {}\n",
    "for key, value in word_to_index.items() :\n",
    "    index_to_word[value+3] = key  #In the research, 0~3 are for special token"
   ]
  },
  {
   "cell_type": "code",
   "execution_count": 79,
   "metadata": {},
   "outputs": [
    {
     "name": "stdout",
     "output_type": "stream",
     "text": [
      "4   the\n",
      "5   and\n",
      "6   a\n",
      "7   of\n",
      "8   to\n",
      "9   is\n",
      "10   br\n",
      "11   in\n",
      "12   it\n",
      "13   i\n",
      "14   this\n"
     ]
    },
    {
     "data": {
      "text/plain": [
       "[None, None, None, None, None, None, None, None, None, None, None]"
      ]
     },
     "execution_count": 79,
     "metadata": {},
     "output_type": "execute_result"
    }
   ],
   "source": [
    "[print(i, \" \", index_to_word[i]) for i in range(4,15)]"
   ]
  },
  {
   "cell_type": "code",
   "execution_count": 80,
   "metadata": {},
   "outputs": [
    {
     "data": {
      "text/plain": [
       "88584"
      ]
     },
     "execution_count": 80,
     "metadata": {},
     "output_type": "execute_result"
    }
   ],
   "source": [
    "len(word_to_index)"
   ]
  },
  {
   "cell_type": "code",
   "execution_count": 81,
   "metadata": {},
   "outputs": [],
   "source": [
    "for index, token in enumerate((\"<pad>\", \"<sos>\", \"<unk>\")) :\n",
    "    index_to_word[index] = token"
   ]
  },
  {
   "cell_type": "code",
   "execution_count": 82,
   "metadata": {},
   "outputs": [
    {
     "name": "stdout",
     "output_type": "stream",
     "text": [
      "<sos> this film was just brilliant casting location scenery story direction everyone's really suited the part they played and you could just imagine being there robert redford's is an amazing actor and now the same being director norman's father came from the same scottish island as myself so i loved the fact there was a real connection with this film the witty remarks throughout the film were great it was just brilliant so much that i bought the film as soon as it was released for retail and would recommend it to everyone to watch and the fly fishing was amazing really cried at the end it was so sad and you know what they say if you cry at a film it must have been good and this definitely was also congratulations to the two little boy's that played the part's of norman and paul they were just brilliant children are often left out of the praising list i think because the stars that play them all grown up are such a big profile for the whole film but these children are amazing and should be praised for what they have done don't you think the whole story was so lovely because it was true and was someone's life after all that was shared with us all \n",
      "\n",
      "<sos> big hair big boobs bad music and a giant safety pin these are the words to best describe this terrible movie i love cheesy horror movies and i've seen hundreds but this had got to be on of the worst ever made the plot is paper thin and ridiculous the acting is an abomination the script is completely laughable the best is the end showdown with the cop and how he worked out who the killer is it's just so damn terribly written the clothes are sickening and funny in equal measures the hair is big lots of boobs bounce men wear those cut tee shirts that show off their stomachs sickening that men actually wore them and the music is just synthesiser trash that plays over and over again in almost every scene there is trashy music boobs and paramedics taking away bodies and the gym still doesn't close for bereavement all joking aside this is a truly bad film whose only charm is to look back on the disaster that was the 80's and have a good old laugh at how bad everything was back then \n",
      "\n",
      "<sos> this has to be one of the worst films of the 1990s when my friends i were watching this film being the target audience it was aimed at we just sat watched the first half an hour with our jaws touching the floor at how bad it really was the rest of the time everyone else in the theatre just started talking to each other leaving or generally crying into their popcorn that they actually paid money they had earnt working to watch this feeble excuse for a film it must have looked like a great idea on paper but on film it looks like no one in the film has a clue what is going on crap acting crap costumes i can't get across how embarrasing this is to watch save yourself an hour a bit of your life \n",
      "\n"
     ]
    }
   ],
   "source": [
    "for i in range(3) :\n",
    "    print(\" \".join([index_to_word[index] for index in X_train[i]]), \"\\n\")"
   ]
  },
  {
   "cell_type": "code",
   "execution_count": 22,
   "metadata": {},
   "outputs": [],
   "source": [
    "#Padding"
   ]
  },
  {
   "cell_type": "code",
   "execution_count": 23,
   "metadata": {},
   "outputs": [],
   "source": [
    "from tensorflow.keras.preprocessing.sequence import pad_sequences\n",
    "from tensorflow.keras.datasets import imdb"
   ]
  },
  {
   "cell_type": "code",
   "execution_count": 24,
   "metadata": {},
   "outputs": [],
   "source": [
    "vocab_size = 20000\n",
    "max_len = 750\n",
    "\n",
    "(X_train, y_train), (X_test, y_test) = imdb.load_data(num_words=vocab_size)\n",
    "\n",
    "X_train = pad_sequences(X_train, maxlen=max_len)\n",
    "X_test = pad_sequences(X_test, maxlen=max_len)\n"
   ]
  },
  {
   "cell_type": "code",
   "execution_count": 25,
   "metadata": {},
   "outputs": [
    {
     "name": "stdout",
     "output_type": "stream",
     "text": [
      "(25000, 750)\n",
      "(25000, 750)\n"
     ]
    }
   ],
   "source": [
    "print(X_train.shape)\n",
    "print(X_test.shape)"
   ]
  },
  {
   "cell_type": "code",
   "execution_count": 26,
   "metadata": {},
   "outputs": [],
   "source": [
    "#Model"
   ]
  },
  {
   "cell_type": "code",
   "execution_count": 27,
   "metadata": {},
   "outputs": [],
   "source": [
    "from tensorflow.keras.models import Model, load_model\n",
    "from tensorflow.keras.layers import Dense, GRU, Embedding, Input\n",
    "from tensorflow.keras.callbacks import EarlyStopping, ModelCheckpoint"
   ]
  },
  {
   "cell_type": "code",
   "execution_count": 28,
   "metadata": {},
   "outputs": [],
   "source": [
    "embedding_dim = 100\n",
    "hidden_units = 128\n",
    "\n",
    "inputs = Input(shape=(max_len))\n",
    "model = Embedding(vocab_size, embedding_dim)(inputs)\n",
    "model = GRU(hidden_units)(model)\n",
    "output = Dense(1, activation=\"sigmoid\")(model)\n",
    "\n",
    "model = Model(inputs=inputs, outputs=output)"
   ]
  },
  {
   "cell_type": "code",
   "execution_count": 29,
   "metadata": {},
   "outputs": [],
   "source": [
    "es = EarlyStopping(monitor=\"val_loss\", mode=\"min\", verbose=1, patience=4)\n",
    "mc = ModelCheckpoint(\"Models/IMDB_GRU_model.h5\", monitor=\"val_accuracy\", mode=\"max\", verbose=1, save_best_only=True)"
   ]
  },
  {
   "cell_type": "code",
   "execution_count": 30,
   "metadata": {},
   "outputs": [],
   "source": [
    "model.compile(optimizer=\"nadam\", loss=\"binary_crossentropy\", metrics=[\"accuracy\"])"
   ]
  },
  {
   "cell_type": "code",
   "execution_count": 31,
   "metadata": {},
   "outputs": [
    {
     "name": "stdout",
     "output_type": "stream",
     "text": [
      "Epoch 1/15\n",
      "625/625 [==============================] - ETA: 0s - loss: 0.4664 - accuracy: 0.7690\n",
      "Epoch 1: val_accuracy improved from -inf to 0.87100, saving model to Models\\IMDB_GRU_model.h5\n",
      "625/625 [==============================] - 23s 34ms/step - loss: 0.4664 - accuracy: 0.7690 - val_loss: 0.3293 - val_accuracy: 0.8710\n",
      "Epoch 2/15\n",
      "625/625 [==============================] - ETA: 0s - loss: 0.3236 - accuracy: 0.8666\n",
      "Epoch 2: val_accuracy did not improve from 0.87100\n",
      "625/625 [==============================] - 21s 33ms/step - loss: 0.3236 - accuracy: 0.8666 - val_loss: 0.3280 - val_accuracy: 0.8632\n",
      "Epoch 3/15\n",
      "625/625 [==============================] - ETA: 0s - loss: 0.1848 - accuracy: 0.9308\n",
      "Epoch 3: val_accuracy improved from 0.87100 to 0.88880, saving model to Models\\IMDB_GRU_model.h5\n",
      "625/625 [==============================] - 21s 33ms/step - loss: 0.1848 - accuracy: 0.9308 - val_loss: 0.2815 - val_accuracy: 0.8888\n",
      "Epoch 4/15\n",
      "625/625 [==============================] - ETA: 0s - loss: 0.1104 - accuracy: 0.9606\n",
      "Epoch 4: val_accuracy did not improve from 0.88880\n",
      "625/625 [==============================] - 21s 33ms/step - loss: 0.1104 - accuracy: 0.9606 - val_loss: 0.3048 - val_accuracy: 0.8876\n",
      "Epoch 5/15\n",
      "625/625 [==============================] - ETA: 0s - loss: 0.0600 - accuracy: 0.9809\n",
      "Epoch 5: val_accuracy did not improve from 0.88880\n",
      "625/625 [==============================] - 21s 34ms/step - loss: 0.0600 - accuracy: 0.9809 - val_loss: 0.3950 - val_accuracy: 0.8722\n",
      "Epoch 6/15\n",
      "625/625 [==============================] - ETA: 0s - loss: 0.0342 - accuracy: 0.9890\n",
      "Epoch 6: val_accuracy did not improve from 0.88880\n",
      "625/625 [==============================] - 21s 33ms/step - loss: 0.0342 - accuracy: 0.9890 - val_loss: 0.4996 - val_accuracy: 0.8476\n",
      "Epoch 7/15\n",
      "625/625 [==============================] - ETA: 0s - loss: 0.0262 - accuracy: 0.9919\n",
      "Epoch 7: val_accuracy did not improve from 0.88880\n",
      "625/625 [==============================] - 21s 33ms/step - loss: 0.0262 - accuracy: 0.9919 - val_loss: 0.4987 - val_accuracy: 0.8818\n",
      "Epoch 7: early stopping\n"
     ]
    }
   ],
   "source": [
    "hitory = model.fit(X_train, y_train, epochs=10, callbacks=[es, mc], batch_size=32, validation_split=0.2)"
   ]
  },
  {
   "cell_type": "code",
   "execution_count": 32,
   "metadata": {},
   "outputs": [
    {
     "name": "stdout",
     "output_type": "stream",
     "text": [
      "782/782 [==============================] - 11s 14ms/step - loss: 0.3085 - accuracy: 0.8767\n"
     ]
    }
   ],
   "source": [
    "loaded_model = load_model(\"Models/IMDB_GRU_model.h5\")\n",
    " = loaded_model.evaluate(X_test, y_test)"
   ]
  },
  {
   "cell_type": "code",
   "execution_count": 43,
   "metadata": {},
   "outputs": [
    {
     "name": "stdout",
     "output_type": "stream",
     "text": [
      "Test Accuracy: 87.67%\n"
     ]
    }
   ],
   "source": [
    "print(\"Test Accuracy: %.2f%%\" %(test_acc[1]*100))"
   ]
  },
  {
   "cell_type": "code",
   "execution_count": 58,
   "metadata": {},
   "outputs": [],
   "source": [
    "#pre-processing for random review\n",
    "from tensorflow.keras.preprocessing.text import text_to_word_sequence\n",
    "from tensorflow.keras.preprocessing.sequence import pad_sequences"
   ]
  },
  {
   "cell_type": "code",
   "execution_count": 86,
   "metadata": {},
   "outputs": [],
   "source": [
    "def sentiment_predict(new_sentence) :\n",
    "    new_sentence = text_to_word_sequence(new_sentence)\n",
    "    \n",
    "    encoded = []\n",
    "    \n",
    "    for word in new_sentence :\n",
    "        try :\n",
    "            if word_to_index[word] <= vocab_size :\n",
    "                encoded.append(word_to_index[word]+3)\n",
    "            else :\n",
    "                encoded.append(2) #<unk>\n",
    "        except :\n",
    "            encoded.append(2) #<unk>\n",
    "            \n",
    "    pad_sequence = pad_sequences([encoded], maxlen=max_len)\n",
    "    \n",
    "    score = float(loaded_model.predict(pad_sequence))\n",
    "    \n",
    "    if(score > 0.5) :\n",
    "        print(\"%.2f%% chance of being positive.\" %(score*100))\n",
    "    elif(score == 0.5) :\n",
    "        print(\"Neutral\")\n",
    "    else :\n",
    "        print(\"%.2f%% chance of being negative.\" %((1-score)*100))"
   ]
  },
  {
   "cell_type": "code",
   "execution_count": 54,
   "metadata": {},
   "outputs": [],
   "source": [
    "Avata_The_way_of_water_9point_review = \"\"\"It's hard to believe the sequel to Avatar has actually come out. After 13 years and what feels like half-a-dozen delays, it's officially here.\n",
    "\n",
    "As someone who was surprised by how much that 2009 movie held up on a recent viewing, and therefore had high expectations for a sequel, I'd say it lived up to the hype. Maybe it's a little less great, but I'd have to sit with it a little while longer before I could be sure.\n",
    "\n",
    "First of all, this movie is long. 192 minutes long. I didn't feel the length, in all honesty. I got wrapped up in the movie and how it looked and sounded so much that it probably could have gone on another hour and I still wouldn't have felt restless. It's one of the best-paced 3+ hour movies I've ever seen... and you could argue it's even paced a little too fast in the first act, thanks to a time-skip that means the viewer has to be caught up to speed quickly.\n",
    "\n",
    "Visually and effects-wise, it's perfect. Numerous expensive blockbusters are released every year, but few are given the time that Avatar 2's clearly been given. As such, it looks leagues better than any other $100 million-plus movie released in the last few years. The 3D is great (not something I'd say often), and it finds stunning new areas of Pandora to explore, thanks to the extensive underwater scenes.\n",
    "\n",
    "Story-wise, I'd say it's a little less predictable than the first, which has a story that seems to bother some people. If anything, James Cameron might only be criticised for borrowing too much from himself - introducing child characters made me think of Aliens and Terminator 2, while parts of the action scenes in Avatar 2 will look a little familiar to anyone who's seen Titanic, The Abyss, or even Terminator (1984).\n",
    "\n",
    "There's a little corny dialogue, a couple of slightly clunky scenes early on, and a lack of a definitive climax, seeing as there are more sequels planned. There are problems, but they barely matter. The strengths of this movie are overwhelming, and make this a must-watch in cinemas. It just felt great to see a blockbuster like this again; it's been a while.\"\"\""
   ]
  },
  {
   "cell_type": "code",
   "execution_count": 55,
   "metadata": {},
   "outputs": [],
   "source": [
    "Avata_The_way_of_water_3point_review = \"\"\"Seriously, I've just come back from watching the film in the cinema in London and cannot recommend this film. I enjoyed the first Avatar, and was curious to see where the story would go and was also expecting a brilliant visual experience, but the story was a complete repeat of the first film (down to the same 'villain'), and the visuals were no big deal. I had expected MORE, especially after such a long wait for the sequel. The worst thing was how BORING it was, and how lame the plot was. Even the ending sucked. What was Cameron trying to do, rip off Titanic for the ending? Oh and the 'kids' were so irritating. They kept on saying 'bro' this, 'bro' that. Like seriously, I didn't give a damn about them and had expected Sam Worthington's character to still be the centre of the story, not his stupid kids. Oh and don't get me started on the teenage tarzan with dreadlocks kid that did nothing for 99% of the film.\n",
    "\n",
    "Honestly, I really don't believe the great reviews here. They must be PR people writing them or people who have never seen good cinema before. I found it disrespectful to have a repeat of the first film's plot, albeit in a different setting. Not only that, but considering it was so BORING, and had cringeworthy dialogue, and the effects were overrated, I find it hard to believe that anyone would bother giving more than 5 stars, let alone seeing the 3rd instalment when it comes out. I certainly won't. I'm giving it 3 stars because I expected much more from the sequel. It's certainly no Aliens (now there's a great sequel folks).\"\"\""
   ]
  },
  {
   "cell_type": "code",
   "execution_count": 56,
   "metadata": {},
   "outputs": [],
   "source": [
    "Interstellar_10point_review = \"\"\"A lot has been said and written about Interstellar. You can obviously take apart any movie that is out there. You'll either love this one or you won't. I kind of would have loved to have watched this on an IMAX screen, the sheer scope of the whole thing. It's just amazing, what Nolan has put on screen here. It's not only the visual experience (there is no 3D here by the way), it's the story/ride you take with it. It might be clear to some earlier than to others, where it's heading (no pun intended), but it doesn't change the fact that it's beautiful ... and terrifying at the same time.\n",
    "\n",
    "Going out and saying this will be considered a classic, might not be too far stretched, but you still can never predict those things. The deserved love the movie gets on IMDb and other places would be an indicator that this will ring true though. The acting is really good, but I can understand if some people have issues with the ending. But the movie had to end in one way or another. It's the best possible way this could go, even if it's not in our grasps just yet ...\"\"\""
   ]
  },
  {
   "cell_type": "code",
   "execution_count": 66,
   "metadata": {},
   "outputs": [],
   "source": [
    "Avengers_Endgame_10point_review = \"\"\" I was lucky enough to be included in the group to see the advanced screening in Melbourne on the 15th of April, 2012. And, firstly, I need to say a big thank-you to Disney and Marvel Studios.\n",
    "Now, the film... how can I even begin to explain how I feel about this film? It is, as the title of this review says a 'comic book triumph'. I went into the film with very, very high expectations and I was not disappointed.\n",
    "Seeing Joss Whedon's direction and envisioning of the film come to life on the big screen is perfect. The script is amazingly detailed and laced with sharp wit a humor. The special effects are literally mind-blowing and the action scenes are both hard-hitting and beautifully choreographed.\"\"\""
   ]
  },
  {
   "cell_type": "code",
   "execution_count": 88,
   "metadata": {},
   "outputs": [],
   "source": [
    "Joker_5point_review = \"\"\"They say it's all in the writing. And this is a great example of that. Good acting and production values cannot save a script steeped in tiresome stereotypes and a failure to delve into a character's identity. We meet the Joker when already imbalanced and his so-called descent into madness is really a couple weeks away; far from a descent, it's a stroll. This is not a character study, despite claims to the contrary. It's a showcase of a good actor overly contorting his body and laughing manically as a mistaken expression of madness. Where is the past? Where are the influences? Where are the conflicts? What are the seminal moments that create the spiral? Perhaps if he had really had that relationship, and had it gone sour, it would justify a descent. Instead, it's a fait accompli. This is lazy writing, focused more on fancy long shots of Joaquin Phoenix dancing crazily than producing something of value to the franchise.\"\"\""
   ]
  },
  {
   "cell_type": "code",
   "execution_count": 89,
   "metadata": {},
   "outputs": [
    {
     "name": "stdout",
     "output_type": "stream",
     "text": [
      "1/1 [==============================] - 0s 30ms/step\n",
      "63.31% chance of being positive.\n",
      "1/1 [==============================] - 0s 30ms/step\n",
      "98.06% chance of being negative.\n",
      "1/1 [==============================] - 0s 31ms/step\n",
      "90.12% chance of being positive.\n",
      "1/1 [==============================] - 0s 31ms/step\n",
      "98.82% chance of being positive.\n",
      "1/1 [==============================] - 0s 30ms/step\n",
      "98.73% chance of being negative.\n"
     ]
    }
   ],
   "source": [
    "sentiment_predict(Avata_The_way_of_water_9point_review)\n",
    "sentiment_predict(Avata_The_way_of_water_3point_review)\n",
    "sentiment_predict(Interstellar_10point_review)\n",
    "sentiment_predict(Avengers_Endgame_10point_review)\n",
    "sentiment_predict(Joker_5point_review)"
   ]
  },
  {
   "cell_type": "code",
   "execution_count": null,
   "metadata": {},
   "outputs": [],
   "source": []
  }
 ],
 "metadata": {
  "kernelspec": {
   "display_name": "Python 3",
   "language": "python",
   "name": "python3"
  },
  "language_info": {
   "codemirror_mode": {
    "name": "ipython",
    "version": 3
   },
   "file_extension": ".py",
   "mimetype": "text/x-python",
   "name": "python",
   "nbconvert_exporter": "python",
   "pygments_lexer": "ipython3",
   "version": "3.8.5"
  }
 },
 "nbformat": 4,
 "nbformat_minor": 4
}
