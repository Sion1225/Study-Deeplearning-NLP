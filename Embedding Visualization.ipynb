{
 "cells": [
  {
   "cell_type": "code",
   "execution_count": 2,
   "metadata": {},
   "outputs": [
    {
     "name": "stderr",
     "output_type": "stream",
     "text": [
      "2023-02-01 22:17:47,116 - word2vec2tensor - INFO - running C:\\ProgramData\\Anaconda3\\lib\\site-packages\\gensim\\scripts\\word2vec2tensor.py --input Models/eng_w2v --output Models/eeng_w2v\n",
      "2023-02-01 22:17:47,116 - keyedvectors - INFO - loading projection weights from Models/eng_w2v\n",
      "2023-02-01 22:17:49,301 - utils - INFO - KeyedVectors lifecycle event {'msg': 'loaded (21613, 100) matrix of type float32 from Models/eng_w2v', 'binary': False, 'encoding': 'utf8', 'datetime': '2023-02-01T22:17:49.301466', 'gensim': '4.3.0', 'python': '3.8.5 (default, Sep  3 2020, 21:29:08) [MSC v.1916 64 bit (AMD64)]', 'platform': 'Windows-10-10.0.19041-SP0', 'event': 'load_word2vec_format'}\n",
      "2023-02-01 22:17:51,032 - word2vec2tensor - INFO - 2D tensor file saved to Models/eeng_w2v_tensor.tsv\n",
      "2023-02-01 22:17:51,033 - word2vec2tensor - INFO - Tensor metadata file saved to Models/eeng_w2v_metadata.tsv\n",
      "2023-02-01 22:17:51,034 - word2vec2tensor - INFO - finished running word2vec2tensor.py\n"
     ]
    }
   ],
   "source": [
    "!python -m gensim.scripts.word2vec2tensor --input Models/eng_w2v --output Models/eeng_w2v"
   ]
  },
  {
   "cell_type": "code",
   "execution_count": null,
   "metadata": {},
   "outputs": [],
   "source": []
  }
 ],
 "metadata": {
  "kernelspec": {
   "display_name": "Python 3",
   "language": "python",
   "name": "python3"
  },
  "language_info": {
   "codemirror_mode": {
    "name": "ipython",
    "version": 3
   },
   "file_extension": ".py",
   "mimetype": "text/x-python",
   "name": "python",
   "nbconvert_exporter": "python",
   "pygments_lexer": "ipython3",
   "version": "3.8.5"
  }
 },
 "nbformat": 4,
 "nbformat_minor": 4
}
