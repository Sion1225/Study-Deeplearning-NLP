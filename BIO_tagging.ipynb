{
  "nbformat": 4,
  "nbformat_minor": 0,
  "metadata": {
    "colab": {
      "provenance": [],
      "authorship_tag": "ABX9TyP1YiYs/ZnGdNX6HdRKY6/V",
      "include_colab_link": true
    },
    "kernelspec": {
      "name": "python3",
      "display_name": "Python 3"
    },
    "language_info": {
      "name": "python"
    },
    "accelerator": "GPU",
    "gpuClass": "standard"
  },
  "cells": [
    {
      "cell_type": "markdown",
      "metadata": {
        "id": "view-in-github",
        "colab_type": "text"
      },
      "source": [
        "<a href=\"https://colab.research.google.com/github/Sion1225/Study-Deeplearning-NLP/blob/master/BIO_tagging.ipynb\" target=\"_parent\"><img src=\"https://colab.research.google.com/assets/colab-badge.svg\" alt=\"Open In Colab\"/></a>"
      ]
    },
    {
      "cell_type": "code",
      "source": [
        "import re\n",
        "import numpy as np\n",
        "import matplotlib.pyplot as plt\n",
        "import urllib.request\n",
        "from tensorflow.keras.preprocessing.text import Tokenizer\n",
        "from tensorflow.keras.preprocessing.sequence import pad_sequences\n",
        "from tensorflow.keras.utils import to_categorical\n",
        "from sklearn.model_selection import train_test_split"
      ],
      "metadata": {
        "id": "WlJZfG9EGWqn"
      },
      "execution_count": 5,
      "outputs": []
    },
    {
      "cell_type": "code",
      "source": [
        "from google.colab import drive\n",
        "drive.mount('/content/drive')"
      ],
      "metadata": {
        "colab": {
          "base_uri": "https://localhost:8080/"
        },
        "id": "xh2bbcOmNkwE",
        "outputId": "c68fed9b-bc01-4184-d1d1-42caf3921ddf"
      },
      "execution_count": 7,
      "outputs": [
        {
          "output_type": "stream",
          "name": "stdout",
          "text": [
            "Mounted at /content/drive\n"
          ]
        }
      ]
    },
    {
      "cell_type": "code",
      "source": [
        "urllib.request.urlretrieve(\"https://raw.githubusercontent.com/ukairia777/tensorflow-nlp-tutorial/main/12.%20RNN%20Sequence%20Labeling/dataset/train.txt\", filename=\"/content/drive/MyDrive/GitHub/Study-Deeplearning-NLP/DataSet/BIO_train.txt\")"
      ],
      "metadata": {
        "colab": {
          "base_uri": "https://localhost:8080/"
        },
        "id": "AFd0MfYrIAKy",
        "outputId": "1cfabc9f-cc3a-4725-fbdc-3fddc54360b9"
      },
      "execution_count": 9,
      "outputs": [
        {
          "output_type": "execute_result",
          "data": {
            "text/plain": [
              "('/content/drive/MyDrive/GitHub/Study-Deeplearning-NLP/DataSet/BIO_train.txt',\n",
              " <http.client.HTTPMessage at 0x7fba45596af0>)"
            ]
          },
          "metadata": {},
          "execution_count": 9
        }
      ]
    },
    {
      "cell_type": "code",
      "source": [
        "f = open(\"/content/drive/MyDrive/GitHub/Study-Deeplearning-NLP/DataSet/BIO_train.txt\", 'r')\n",
        "[f.readline() for i in range(30)]"
      ],
      "metadata": {
        "id": "nn8RXYouK175",
        "colab": {
          "base_uri": "https://localhost:8080/"
        },
        "outputId": "0e250aeb-7560-4346-b47c-9e17d87dfebc"
      },
      "execution_count": 19,
      "outputs": [
        {
          "output_type": "execute_result",
          "data": {
            "text/plain": [
              "['-DOCSTART- -X- -X- O\\n',\n",
              " '\\n',\n",
              " 'EU NNP B-NP B-ORG\\n',\n",
              " 'rejects VBZ B-VP O\\n',\n",
              " 'German JJ B-NP B-MISC\\n',\n",
              " 'call NN I-NP O\\n',\n",
              " 'to TO B-VP O\\n',\n",
              " 'boycott VB I-VP O\\n',\n",
              " 'British JJ B-NP B-MISC\\n',\n",
              " 'lamb NN I-NP O\\n',\n",
              " '. . O O\\n',\n",
              " '\\n',\n",
              " 'Peter NNP B-NP B-PER\\n',\n",
              " 'Blackburn NNP I-NP I-PER\\n',\n",
              " '\\n',\n",
              " 'BRUSSELS NNP B-NP B-LOC\\n',\n",
              " '1996-08-22 CD I-NP O\\n',\n",
              " '\\n',\n",
              " 'The DT B-NP O\\n',\n",
              " 'European NNP I-NP B-ORG\\n',\n",
              " 'Commission NNP I-NP I-ORG\\n',\n",
              " 'said VBD B-VP O\\n',\n",
              " 'on IN B-PP O\\n',\n",
              " 'Thursday NNP B-NP O\\n',\n",
              " 'it PRP B-NP O\\n',\n",
              " 'disagreed VBD B-VP O\\n',\n",
              " 'with IN B-PP O\\n',\n",
              " 'German JJ B-NP B-MISC\\n',\n",
              " 'advice NN I-NP O\\n',\n",
              " 'to TO B-PP O\\n']"
            ]
          },
          "metadata": {},
          "execution_count": 19
        }
      ]
    },
    {
      "cell_type": "code",
      "source": [
        "tagged_sentences = []\n",
        "sentence = []\n",
        "\n",
        "for line in f :\n",
        "    if len(line)==0 or line.startswith(\"-DOCSTART\") or line[0]==\"\\n\" :\n",
        "        if len(sentence) > 0 :\n",
        "            tagged_sentences.append(sentence)\n",
        "            sentence = []\n",
        "\n",
        "    else :\n",
        "        splits = line.split(' ')\n",
        "        splits[-1] = re.sub(r'\\n', '', splits[-1])\n",
        "        word = splits[0].lower()\n",
        "        sentence.append([word, splits[-1]])  "
      ],
      "metadata": {
        "id": "h2oh6DoZOowp"
      },
      "execution_count": 20,
      "outputs": []
    },
    {
      "cell_type": "code",
      "source": [
        "[print(tagged_sentences[i], \"\\n\") for i in range(3)]"
      ],
      "metadata": {
        "colab": {
          "base_uri": "https://localhost:8080/"
        },
        "id": "DoV_ordBZaCX",
        "outputId": "2a896af9-0fc6-466c-ed42-94e49e2fe3b6"
      },
      "execution_count": 24,
      "outputs": [
        {
          "output_type": "stream",
          "name": "stdout",
          "text": [
            "[['consumers', 'O'], ['to', 'O'], ['shun', 'O'], ['british', 'B-MISC'], ['lamb', 'O'], ['until', 'O'], ['scientists', 'O'], ['determine', 'O'], ['whether', 'O'], ['mad', 'O'], ['cow', 'O'], ['disease', 'O'], ['can', 'O'], ['be', 'O'], ['transmitted', 'O'], ['to', 'O'], ['sheep', 'O'], ['.', 'O']] \n",
            "\n",
            "[['germany', 'B-LOC'], [\"'s\", 'O'], ['representative', 'O'], ['to', 'O'], ['the', 'O'], ['european', 'B-ORG'], ['union', 'I-ORG'], [\"'s\", 'O'], ['veterinary', 'O'], ['committee', 'O'], ['werner', 'B-PER'], ['zwingmann', 'I-PER'], ['said', 'O'], ['on', 'O'], ['wednesday', 'O'], ['consumers', 'O'], ['should', 'O'], ['buy', 'O'], ['sheepmeat', 'O'], ['from', 'O'], ['countries', 'O'], ['other', 'O'], ['than', 'O'], ['britain', 'B-LOC'], ['until', 'O'], ['the', 'O'], ['scientific', 'O'], ['advice', 'O'], ['was', 'O'], ['clearer', 'O'], ['.', 'O']] \n",
            "\n",
            "[['\"', 'O'], ['we', 'O'], ['do', 'O'], [\"n't\", 'O'], ['support', 'O'], ['any', 'O'], ['such', 'O'], ['recommendation', 'O'], ['because', 'O'], ['we', 'O'], ['do', 'O'], [\"n't\", 'O'], ['see', 'O'], ['any', 'O'], ['grounds', 'O'], ['for', 'O'], ['it', 'O'], [',', 'O'], ['\"', 'O'], ['the', 'O'], ['commission', 'B-ORG'], [\"'s\", 'O'], ['chief', 'O'], ['spokesman', 'O'], ['nikolaus', 'B-PER'], ['van', 'I-PER'], ['der', 'I-PER'], ['pas', 'I-PER'], ['told', 'O'], ['a', 'O'], ['news', 'O'], ['briefing', 'O'], ['.', 'O']] \n",
            "\n"
          ]
        },
        {
          "output_type": "execute_result",
          "data": {
            "text/plain": [
              "[None, None, None]"
            ]
          },
          "metadata": {},
          "execution_count": 24
        }
      ]
    },
    {
      "cell_type": "code",
      "source": [
        "print(\"Length of Samples: \", len(tagged_sentences))"
      ],
      "metadata": {
        "colab": {
          "base_uri": "https://localhost:8080/"
        },
        "id": "hxrfqGQBZv46",
        "outputId": "743388fb-7d86-4b08-aafa-428d94833b2a"
      },
      "execution_count": 25,
      "outputs": [
        {
          "output_type": "stream",
          "name": "stdout",
          "text": [
            "Length of Samples:  14038\n"
          ]
        }
      ]
    },
    {
      "cell_type": "code",
      "source": [],
      "metadata": {
        "id": "jlFtAMATaL4_"
      },
      "execution_count": null,
      "outputs": []
    }
  ]
}