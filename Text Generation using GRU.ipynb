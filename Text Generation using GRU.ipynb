{
 "cells": [
  {
   "cell_type": "code",
   "execution_count": 2,
   "metadata": {},
   "outputs": [],
   "source": [
    "import pandas as pd\n",
    "import numpy as np\n",
    "from string import punctuation\n",
    "\n",
    "from tensorflow.keras.preprocessing.text import Tokenizer\n",
    "from tensorflow.keras.preprocessing.sequence import pad_sequences\n",
    "from tensorflow.keras.utils import to_categorical"
   ]
  },
  {
   "cell_type": "code",
   "execution_count": 3,
   "metadata": {},
   "outputs": [
    {
     "data": {
      "text/html": [
       "<div>\n",
       "<style scoped>\n",
       "    .dataframe tbody tr th:only-of-type {\n",
       "        vertical-align: middle;\n",
       "    }\n",
       "\n",
       "    .dataframe tbody tr th {\n",
       "        vertical-align: top;\n",
       "    }\n",
       "\n",
       "    .dataframe thead th {\n",
       "        text-align: right;\n",
       "    }\n",
       "</style>\n",
       "<table border=\"1\" class=\"dataframe\">\n",
       "  <thead>\n",
       "    <tr style=\"text-align: right;\">\n",
       "      <th></th>\n",
       "      <th>articleID</th>\n",
       "      <th>articleWordCount</th>\n",
       "      <th>byline</th>\n",
       "      <th>documentType</th>\n",
       "      <th>headline</th>\n",
       "      <th>keywords</th>\n",
       "      <th>multimedia</th>\n",
       "      <th>newDesk</th>\n",
       "      <th>printPage</th>\n",
       "      <th>pubDate</th>\n",
       "      <th>sectionName</th>\n",
       "      <th>snippet</th>\n",
       "      <th>source</th>\n",
       "      <th>typeOfMaterial</th>\n",
       "      <th>webURL</th>\n",
       "    </tr>\n",
       "  </thead>\n",
       "  <tbody>\n",
       "    <tr>\n",
       "      <th>0</th>\n",
       "      <td>5adf6684068401528a2aa69b</td>\n",
       "      <td>781</td>\n",
       "      <td>By JOHN BRANCH</td>\n",
       "      <td>article</td>\n",
       "      <td>Former N.F.L. Cheerleaders’ Settlement Offer: ...</td>\n",
       "      <td>['Workplace Hazards and Violations', 'Football...</td>\n",
       "      <td>68</td>\n",
       "      <td>Sports</td>\n",
       "      <td>0</td>\n",
       "      <td>2018-04-24 17:16:49</td>\n",
       "      <td>Pro Football</td>\n",
       "      <td>“I understand that they could meet with us, pa...</td>\n",
       "      <td>The New York Times</td>\n",
       "      <td>News</td>\n",
       "      <td>https://www.nytimes.com/2018/04/24/sports/foot...</td>\n",
       "    </tr>\n",
       "    <tr>\n",
       "      <th>1</th>\n",
       "      <td>5adf653f068401528a2aa697</td>\n",
       "      <td>656</td>\n",
       "      <td>By LISA FRIEDMAN</td>\n",
       "      <td>article</td>\n",
       "      <td>E.P.A. to Unveil a New Rule. Its Effect: Less ...</td>\n",
       "      <td>['Environmental Protection Agency', 'Pruitt, S...</td>\n",
       "      <td>68</td>\n",
       "      <td>Climate</td>\n",
       "      <td>0</td>\n",
       "      <td>2018-04-24 17:11:21</td>\n",
       "      <td>Unknown</td>\n",
       "      <td>The agency plans to publish a new regulation T...</td>\n",
       "      <td>The New York Times</td>\n",
       "      <td>News</td>\n",
       "      <td>https://www.nytimes.com/2018/04/24/climate/epa...</td>\n",
       "    </tr>\n",
       "    <tr>\n",
       "      <th>2</th>\n",
       "      <td>5adf4626068401528a2aa628</td>\n",
       "      <td>2427</td>\n",
       "      <td>By PETE WELLS</td>\n",
       "      <td>article</td>\n",
       "      <td>The New Noma, Explained</td>\n",
       "      <td>['Restaurants', 'Noma (Copenhagen, Restaurant)...</td>\n",
       "      <td>66</td>\n",
       "      <td>Dining</td>\n",
       "      <td>0</td>\n",
       "      <td>2018-04-24 14:58:44</td>\n",
       "      <td>Unknown</td>\n",
       "      <td>What’s it like to eat at the second incarnatio...</td>\n",
       "      <td>The New York Times</td>\n",
       "      <td>News</td>\n",
       "      <td>https://www.nytimes.com/2018/04/24/dining/noma...</td>\n",
       "    </tr>\n",
       "    <tr>\n",
       "      <th>3</th>\n",
       "      <td>5adf40d2068401528a2aa619</td>\n",
       "      <td>626</td>\n",
       "      <td>By JULIE HIRSCHFELD DAVIS and PETER BAKER</td>\n",
       "      <td>article</td>\n",
       "      <td>Unknown</td>\n",
       "      <td>['Macron, Emmanuel (1977- )', 'Trump, Donald J...</td>\n",
       "      <td>68</td>\n",
       "      <td>Washington</td>\n",
       "      <td>0</td>\n",
       "      <td>2018-04-24 14:35:57</td>\n",
       "      <td>Europe</td>\n",
       "      <td>President Trump welcomed President Emmanuel Ma...</td>\n",
       "      <td>The New York Times</td>\n",
       "      <td>News</td>\n",
       "      <td>https://www.nytimes.com/2018/04/24/world/europ...</td>\n",
       "    </tr>\n",
       "    <tr>\n",
       "      <th>4</th>\n",
       "      <td>5adf3d64068401528a2aa60f</td>\n",
       "      <td>815</td>\n",
       "      <td>By IAN AUSTEN and DAN BILEFSKY</td>\n",
       "      <td>article</td>\n",
       "      <td>Unknown</td>\n",
       "      <td>['Toronto, Ontario, Attack (April, 2018)', 'Mu...</td>\n",
       "      <td>68</td>\n",
       "      <td>Foreign</td>\n",
       "      <td>0</td>\n",
       "      <td>2018-04-24 14:21:21</td>\n",
       "      <td>Canada</td>\n",
       "      <td>Alek Minassian, 25, a resident of Toronto’s Ri...</td>\n",
       "      <td>The New York Times</td>\n",
       "      <td>News</td>\n",
       "      <td>https://www.nytimes.com/2018/04/24/world/canad...</td>\n",
       "    </tr>\n",
       "  </tbody>\n",
       "</table>\n",
       "</div>"
      ],
      "text/plain": [
       "                  articleID  articleWordCount  \\\n",
       "0  5adf6684068401528a2aa69b               781   \n",
       "1  5adf653f068401528a2aa697               656   \n",
       "2  5adf4626068401528a2aa628              2427   \n",
       "3  5adf40d2068401528a2aa619               626   \n",
       "4  5adf3d64068401528a2aa60f               815   \n",
       "\n",
       "                                      byline documentType  \\\n",
       "0                             By JOHN BRANCH      article   \n",
       "1                           By LISA FRIEDMAN      article   \n",
       "2                              By PETE WELLS      article   \n",
       "3  By JULIE HIRSCHFELD DAVIS and PETER BAKER      article   \n",
       "4             By IAN AUSTEN and DAN BILEFSKY      article   \n",
       "\n",
       "                                            headline  \\\n",
       "0  Former N.F.L. Cheerleaders’ Settlement Offer: ...   \n",
       "1  E.P.A. to Unveil a New Rule. Its Effect: Less ...   \n",
       "2                            The New Noma, Explained   \n",
       "3                                            Unknown   \n",
       "4                                            Unknown   \n",
       "\n",
       "                                            keywords  multimedia     newDesk  \\\n",
       "0  ['Workplace Hazards and Violations', 'Football...          68      Sports   \n",
       "1  ['Environmental Protection Agency', 'Pruitt, S...          68     Climate   \n",
       "2  ['Restaurants', 'Noma (Copenhagen, Restaurant)...          66      Dining   \n",
       "3  ['Macron, Emmanuel (1977- )', 'Trump, Donald J...          68  Washington   \n",
       "4  ['Toronto, Ontario, Attack (April, 2018)', 'Mu...          68     Foreign   \n",
       "\n",
       "   printPage              pubDate   sectionName  \\\n",
       "0          0  2018-04-24 17:16:49  Pro Football   \n",
       "1          0  2018-04-24 17:11:21       Unknown   \n",
       "2          0  2018-04-24 14:58:44       Unknown   \n",
       "3          0  2018-04-24 14:35:57        Europe   \n",
       "4          0  2018-04-24 14:21:21        Canada   \n",
       "\n",
       "                                             snippet              source  \\\n",
       "0  “I understand that they could meet with us, pa...  The New York Times   \n",
       "1  The agency plans to publish a new regulation T...  The New York Times   \n",
       "2  What’s it like to eat at the second incarnatio...  The New York Times   \n",
       "3  President Trump welcomed President Emmanuel Ma...  The New York Times   \n",
       "4  Alek Minassian, 25, a resident of Toronto’s Ri...  The New York Times   \n",
       "\n",
       "  typeOfMaterial                                             webURL  \n",
       "0           News  https://www.nytimes.com/2018/04/24/sports/foot...  \n",
       "1           News  https://www.nytimes.com/2018/04/24/climate/epa...  \n",
       "2           News  https://www.nytimes.com/2018/04/24/dining/noma...  \n",
       "3           News  https://www.nytimes.com/2018/04/24/world/europ...  \n",
       "4           News  https://www.nytimes.com/2018/04/24/world/canad...  "
      ]
     },
     "execution_count": 3,
     "metadata": {},
     "output_type": "execute_result"
    }
   ],
   "source": [
    "df = pd.read_csv(\"DataSet/ArticlesApril2018.csv\")\n",
    "df.head()"
   ]
  },
  {
   "cell_type": "code",
   "execution_count": 5,
   "metadata": {},
   "outputs": [
    {
     "name": "stdout",
     "output_type": "stream",
     "text": [
      "Count of Column:  15\n",
      "Index(['articleID', 'articleWordCount', 'byline', 'documentType', 'headline',\n",
      "       'keywords', 'multimedia', 'newDesk', 'printPage', 'pubDate',\n",
      "       'sectionName', 'snippet', 'source', 'typeOfMaterial', 'webURL'],\n",
      "      dtype='object')\n"
     ]
    }
   ],
   "source": [
    "print(\"Count of Column: \",len(df.columns))\n",
    "print(df.columns)"
   ]
  },
  {
   "cell_type": "code",
   "execution_count": 6,
   "metadata": {},
   "outputs": [
    {
     "name": "stdout",
     "output_type": "stream",
     "text": [
      "False\n"
     ]
    }
   ],
   "source": [
    "print(df['headline'].isnull().values.any())"
   ]
  },
  {
   "cell_type": "code",
   "execution_count": 7,
   "metadata": {},
   "outputs": [
    {
     "data": {
      "text/plain": [
       "['Former N.F.L. Cheerleaders’ Settlement Offer: $1 and a Meeting With Goodell',\n",
       " 'E.P.A. to Unveil a New Rule. Its Effect: Less Science in Policymaking.',\n",
       " 'The New Noma, Explained',\n",
       " 'Unknown',\n",
       " 'Unknown']"
      ]
     },
     "execution_count": 7,
     "metadata": {},
     "output_type": "execute_result"
    }
   ],
   "source": [
    "headline = []\n",
    "headline.extend(list(df.headline.values))\n",
    "headline[:5]"
   ]
  },
  {
   "cell_type": "code",
   "execution_count": 8,
   "metadata": {},
   "outputs": [
    {
     "name": "stdout",
     "output_type": "stream",
     "text": [
      "Count of Semple :  1324\n"
     ]
    }
   ],
   "source": [
    "print(\"Count of Semple : \", len(headline))"
   ]
  },
  {
   "cell_type": "code",
   "execution_count": 9,
   "metadata": {},
   "outputs": [],
   "source": [
    "headline = [word for word in headline if word != \"Unknown\"]"
   ]
  },
  {
   "cell_type": "code",
   "execution_count": 10,
   "metadata": {},
   "outputs": [
    {
     "name": "stdout",
     "output_type": "stream",
     "text": [
      "Count of Semple :  1214\n"
     ]
    }
   ],
   "source": [
    "print(\"Count of Semple : \", len(headline))"
   ]
  },
  {
   "cell_type": "code",
   "execution_count": 11,
   "metadata": {},
   "outputs": [
    {
     "data": {
      "text/plain": [
       "['Former N.F.L. Cheerleaders’ Settlement Offer: $1 and a Meeting With Goodell',\n",
       " 'E.P.A. to Unveil a New Rule. Its Effect: Less Science in Policymaking.',\n",
       " 'The New Noma, Explained',\n",
       " 'How a Bag of Texas Dirt  Became a Times Tradition',\n",
       " 'Is School a Place for Self-Expression?']"
      ]
     },
     "execution_count": 11,
     "metadata": {},
     "output_type": "execute_result"
    }
   ],
   "source": [
    "headline[:5]"
   ]
  },
  {
   "cell_type": "code",
   "execution_count": 12,
   "metadata": {},
   "outputs": [
    {
     "data": {
      "text/plain": [
       "['former nfl cheerleaders settlement offer 1 and a meeting with goodell',\n",
       " 'epa to unveil a new rule its effect less science in policymaking',\n",
       " 'the new noma explained',\n",
       " 'how a bag of texas dirt  became a times tradition',\n",
       " 'is school a place for selfexpression']"
      ]
     },
     "execution_count": 12,
     "metadata": {},
     "output_type": "execute_result"
    }
   ],
   "source": [
    "def repreprocessing(raw_sentence):\n",
    "    preproceseed_sentence = raw_sentence.encode(\"utf8\").decode(\"ascii\",'ignore')\n",
    "    \n",
    "    return ''.join(word for word in preproceseed_sentence if word not in punctuation).lower()\n",
    "\n",
    "preprocessed_headline = [repreprocessing(x) for x in headline]\n",
    "preprocessed_headline[:5]"
   ]
  },
  {
   "cell_type": "code",
   "execution_count": 13,
   "metadata": {},
   "outputs": [
    {
     "name": "stdout",
     "output_type": "stream",
     "text": [
      "Size of Vocabulary :  3494\n"
     ]
    }
   ],
   "source": [
    "tokenizer = Tokenizer()\n",
    "tokenizer.fit_on_texts(preprocessed_headline)\n",
    "vocab_size = len(tokenizer.word_index) + 1\n",
    "print(\"Size of Vocabulary : \", vocab_size)"
   ]
  },
  {
   "cell_type": "code",
   "execution_count": 19,
   "metadata": {},
   "outputs": [
    {
     "data": {
      "text/plain": [
       "[[99, 269],\n",
       " [99, 269, 371],\n",
       " [99, 269, 371, 1115],\n",
       " [99, 269, 371, 1115, 582],\n",
       " [99, 269, 371, 1115, 582, 52],\n",
       " [99, 269, 371, 1115, 582, 52, 7],\n",
       " [99, 269, 371, 1115, 582, 52, 7, 2],\n",
       " [99, 269, 371, 1115, 582, 52, 7, 2, 372],\n",
       " [99, 269, 371, 1115, 582, 52, 7, 2, 372, 10],\n",
       " [99, 269, 371, 1115, 582, 52, 7, 2, 372, 10, 1116],\n",
       " [100, 3]]"
      ]
     },
     "execution_count": 19,
     "metadata": {},
     "output_type": "execute_result"
    }
   ],
   "source": [
    "sequences= list()\n",
    "\n",
    "for sentence in preprocessed_headline:\n",
    "    \n",
    "    encoded = tokenizer.texts_to_sequences([sentence])[0]\n",
    "    for i in range(1, len(encoded)):\n",
    "        sequence = encoded[:i+1]\n",
    "        sequences.append(sequence)\n",
    "\n",
    "sequences[:11]"
   ]
  },
  {
   "cell_type": "code",
   "execution_count": 23,
   "metadata": {},
   "outputs": [
    {
     "name": "stdout",
     "output_type": "stream",
     "text": [
      "Rank of frequency :  in\n"
     ]
    }
   ],
   "source": [
    "index_to_word = {}\n",
    "for key, value in tokenizer.word_index.items():\n",
    "    index_to_word[value] = key\n",
    "    \n",
    "print(\"Rank of frequency : \", index_to_word[5])"
   ]
  },
  {
   "cell_type": "code",
   "execution_count": 24,
   "metadata": {},
   "outputs": [
    {
     "name": "stdout",
     "output_type": "stream",
     "text": [
      "24\n"
     ]
    }
   ],
   "source": [
    "max_len = max(len(l) for l in sequences)\n",
    "print(max_len)"
   ]
  },
  {
   "cell_type": "code",
   "execution_count": 25,
   "metadata": {},
   "outputs": [
    {
     "name": "stdout",
     "output_type": "stream",
     "text": [
      "[[   0    0    0    0    0    0    0    0    0    0    0    0    0    0\n",
      "     0    0    0    0    0    0    0    0   99  269]\n",
      " [   0    0    0    0    0    0    0    0    0    0    0    0    0    0\n",
      "     0    0    0    0    0    0    0   99  269  371]\n",
      " [   0    0    0    0    0    0    0    0    0    0    0    0    0    0\n",
      "     0    0    0    0    0    0   99  269  371 1115]]\n"
     ]
    }
   ],
   "source": [
    "sequences = pad_sequences(sequences, maxlen = max_len, padding='pre')\n",
    "print(sequences[:3])"
   ]
  },
  {
   "cell_type": "code",
   "execution_count": 26,
   "metadata": {},
   "outputs": [],
   "source": [
    "sequences = np.array(sequences)\n",
    "X = sequences[:,:-1]\n",
    "y = sequences[:,-1]"
   ]
  },
  {
   "cell_type": "code",
   "execution_count": 28,
   "metadata": {},
   "outputs": [
    {
     "name": "stdout",
     "output_type": "stream",
     "text": [
      "[[   0    0    0    0    0    0    0    0    0    0    0    0    0    0\n",
      "     0    0    0    0    0    0    0    0   99]\n",
      " [   0    0    0    0    0    0    0    0    0    0    0    0    0    0\n",
      "     0    0    0    0    0    0    0   99  269]\n",
      " [   0    0    0    0    0    0    0    0    0    0    0    0    0    0\n",
      "     0    0    0    0    0    0   99  269  371]\n",
      " [   0    0    0    0    0    0    0    0    0    0    0    0    0    0\n",
      "     0    0    0    0    0   99  269  371 1115]\n",
      " [   0    0    0    0    0    0    0    0    0    0    0    0    0    0\n",
      "     0    0    0    0   99  269  371 1115  582]]\n"
     ]
    }
   ],
   "source": [
    "print(X[:5])"
   ]
  },
  {
   "cell_type": "code",
   "execution_count": 29,
   "metadata": {},
   "outputs": [
    {
     "name": "stdout",
     "output_type": "stream",
     "text": [
      "[ 269  371 1115  582   52]\n"
     ]
    }
   ],
   "source": [
    "print(y[:5])"
   ]
  },
  {
   "cell_type": "code",
   "execution_count": 30,
   "metadata": {},
   "outputs": [],
   "source": [
    "y = to_categorical(y, num_classes=vocab_size) #One-Hot Encording"
   ]
  },
  {
   "cell_type": "code",
   "execution_count": null,
   "metadata": {},
   "outputs": [],
   "source": []
  },
  {
   "cell_type": "code",
   "execution_count": 32,
   "metadata": {},
   "outputs": [],
   "source": [
    "from tensorflow.keras.models import Sequential\n",
    "from tensorflow.keras.layers import Embedding, Dense, GRU"
   ]
  },
  {
   "cell_type": "code",
   "execution_count": 33,
   "metadata": {},
   "outputs": [],
   "source": [
    "embedding_dim = 10\n",
    "hidden_units = 128\n",
    "\n",
    "model = Sequential()\n",
    "model.add(Embedding(vocab_size, embedding_dim))\n",
    "model.add(GRU(hidden_units))\n",
    "model.add(Dense(vocab_size, activation='softmax'))\n",
    "model.compile(loss='categorical_crossentropy', optimizer='adam', metrics=['accuracy'])"
   ]
  },
  {
   "cell_type": "code",
   "execution_count": 34,
   "metadata": {},
   "outputs": [
    {
     "name": "stdout",
     "output_type": "stream",
     "text": [
      "Epoch 1/200\n",
      "244/244 - 8s - loss: 7.6973 - accuracy: 0.0296 - 8s/epoch - 33ms/step\n",
      "Epoch 2/200\n",
      "244/244 - 2s - loss: 7.1107 - accuracy: 0.0340 - 2s/epoch - 7ms/step\n",
      "Epoch 3/200\n",
      "244/244 - 2s - loss: 6.8897 - accuracy: 0.0455 - 2s/epoch - 7ms/step\n",
      "Epoch 4/200\n",
      "244/244 - 2s - loss: 6.6629 - accuracy: 0.0475 - 2s/epoch - 7ms/step\n",
      "Epoch 5/200\n",
      "244/244 - 2s - loss: 6.4107 - accuracy: 0.0511 - 2s/epoch - 8ms/step\n",
      "Epoch 6/200\n",
      "244/244 - 2s - loss: 6.1475 - accuracy: 0.0582 - 2s/epoch - 8ms/step\n",
      "Epoch 7/200\n",
      "244/244 - 2s - loss: 5.8847 - accuracy: 0.0650 - 2s/epoch - 8ms/step\n",
      "Epoch 8/200\n",
      "244/244 - 2s - loss: 5.6202 - accuracy: 0.0683 - 2s/epoch - 7ms/step\n",
      "Epoch 9/200\n",
      "244/244 - 2s - loss: 5.3634 - accuracy: 0.0773 - 2s/epoch - 8ms/step\n",
      "Epoch 10/200\n",
      "244/244 - 2s - loss: 5.1176 - accuracy: 0.0851 - 2s/epoch - 8ms/step\n",
      "Epoch 11/200\n",
      "244/244 - 2s - loss: 4.8843 - accuracy: 0.0994 - 2s/epoch - 7ms/step\n",
      "Epoch 12/200\n",
      "244/244 - 2s - loss: 4.6622 - accuracy: 0.1203 - 2s/epoch - 7ms/step\n",
      "Epoch 13/200\n",
      "244/244 - 2s - loss: 4.4560 - accuracy: 0.1457 - 2s/epoch - 8ms/step\n",
      "Epoch 14/200\n",
      "244/244 - 2s - loss: 4.2591 - accuracy: 0.1704 - 2s/epoch - 7ms/step\n",
      "Epoch 15/200\n",
      "244/244 - 2s - loss: 4.0715 - accuracy: 0.2007 - 2s/epoch - 7ms/step\n",
      "Epoch 16/200\n",
      "244/244 - 2s - loss: 3.8884 - accuracy: 0.2241 - 2s/epoch - 8ms/step\n",
      "Epoch 17/200\n",
      "244/244 - 2s - loss: 3.7177 - accuracy: 0.2536 - 2s/epoch - 8ms/step\n",
      "Epoch 18/200\n",
      "244/244 - 2s - loss: 3.5539 - accuracy: 0.2832 - 2s/epoch - 7ms/step\n",
      "Epoch 19/200\n",
      "244/244 - 2s - loss: 3.3966 - accuracy: 0.3126 - 2s/epoch - 7ms/step\n",
      "Epoch 20/200\n",
      "244/244 - 2s - loss: 3.2485 - accuracy: 0.3306 - 2s/epoch - 7ms/step\n",
      "Epoch 21/200\n",
      "244/244 - 2s - loss: 3.1047 - accuracy: 0.3632 - 2s/epoch - 7ms/step\n",
      "Epoch 22/200\n",
      "244/244 - 2s - loss: 2.9739 - accuracy: 0.3906 - 2s/epoch - 7ms/step\n",
      "Epoch 23/200\n",
      "244/244 - 2s - loss: 2.8456 - accuracy: 0.4152 - 2s/epoch - 8ms/step\n",
      "Epoch 24/200\n",
      "244/244 - 2s - loss: 2.7243 - accuracy: 0.4392 - 2s/epoch - 7ms/step\n",
      "Epoch 25/200\n",
      "244/244 - 2s - loss: 2.6065 - accuracy: 0.4623 - 2s/epoch - 7ms/step\n",
      "Epoch 26/200\n",
      "244/244 - 2s - loss: 2.4909 - accuracy: 0.4846 - 2s/epoch - 7ms/step\n",
      "Epoch 27/200\n",
      "244/244 - 2s - loss: 2.3855 - accuracy: 0.5113 - 2s/epoch - 7ms/step\n",
      "Epoch 28/200\n",
      "244/244 - 2s - loss: 2.2892 - accuracy: 0.5322 - 2s/epoch - 7ms/step\n",
      "Epoch 29/200\n",
      "244/244 - 2s - loss: 2.1886 - accuracy: 0.5573 - 2s/epoch - 7ms/step\n",
      "Epoch 30/200\n",
      "244/244 - 2s - loss: 2.0993 - accuracy: 0.5690 - 2s/epoch - 7ms/step\n",
      "Epoch 31/200\n",
      "244/244 - 2s - loss: 2.0116 - accuracy: 0.5904 - 2s/epoch - 7ms/step\n",
      "Epoch 32/200\n",
      "244/244 - 2s - loss: 1.9253 - accuracy: 0.6122 - 2s/epoch - 7ms/step\n",
      "Epoch 33/200\n",
      "244/244 - 2s - loss: 1.8530 - accuracy: 0.6259 - 2s/epoch - 7ms/step\n",
      "Epoch 34/200\n",
      "244/244 - 2s - loss: 1.7724 - accuracy: 0.6445 - 2s/epoch - 7ms/step\n",
      "Epoch 35/200\n",
      "244/244 - 2s - loss: 1.7025 - accuracy: 0.6571 - 2s/epoch - 7ms/step\n",
      "Epoch 36/200\n",
      "244/244 - 2s - loss: 1.6281 - accuracy: 0.6754 - 2s/epoch - 7ms/step\n",
      "Epoch 37/200\n",
      "244/244 - 2s - loss: 1.5659 - accuracy: 0.6882 - 2s/epoch - 7ms/step\n",
      "Epoch 38/200\n",
      "244/244 - 2s - loss: 1.5013 - accuracy: 0.6979 - 2s/epoch - 7ms/step\n",
      "Epoch 39/200\n",
      "244/244 - 2s - loss: 1.4428 - accuracy: 0.7072 - 2s/epoch - 7ms/step\n",
      "Epoch 40/200\n",
      "244/244 - 2s - loss: 1.3876 - accuracy: 0.7243 - 2s/epoch - 7ms/step\n",
      "Epoch 41/200\n",
      "244/244 - 2s - loss: 1.3356 - accuracy: 0.7305 - 2s/epoch - 7ms/step\n",
      "Epoch 42/200\n",
      "244/244 - 2s - loss: 1.2814 - accuracy: 0.7443 - 2s/epoch - 7ms/step\n",
      "Epoch 43/200\n",
      "244/244 - 2s - loss: 1.2317 - accuracy: 0.7502 - 2s/epoch - 7ms/step\n",
      "Epoch 44/200\n",
      "244/244 - 2s - loss: 1.1857 - accuracy: 0.7614 - 2s/epoch - 7ms/step\n",
      "Epoch 45/200\n",
      "244/244 - 2s - loss: 1.1409 - accuracy: 0.7709 - 2s/epoch - 7ms/step\n",
      "Epoch 46/200\n",
      "244/244 - 2s - loss: 1.1006 - accuracy: 0.7739 - 2s/epoch - 7ms/step\n",
      "Epoch 47/200\n",
      "244/244 - 2s - loss: 1.0575 - accuracy: 0.7828 - 2s/epoch - 7ms/step\n",
      "Epoch 48/200\n",
      "244/244 - 2s - loss: 1.0217 - accuracy: 0.7924 - 2s/epoch - 7ms/step\n",
      "Epoch 49/200\n",
      "244/244 - 2s - loss: 0.9838 - accuracy: 0.8020 - 2s/epoch - 7ms/step\n",
      "Epoch 50/200\n",
      "244/244 - 2s - loss: 0.9491 - accuracy: 0.8058 - 2s/epoch - 7ms/step\n",
      "Epoch 51/200\n",
      "244/244 - 2s - loss: 0.9142 - accuracy: 0.8147 - 2s/epoch - 7ms/step\n",
      "Epoch 52/200\n",
      "244/244 - 2s - loss: 0.8783 - accuracy: 0.8219 - 2s/epoch - 7ms/step\n",
      "Epoch 53/200\n",
      "244/244 - 2s - loss: 0.8498 - accuracy: 0.8257 - 2s/epoch - 7ms/step\n",
      "Epoch 54/200\n",
      "244/244 - 2s - loss: 0.8236 - accuracy: 0.8319 - 2s/epoch - 7ms/step\n",
      "Epoch 55/200\n",
      "244/244 - 2s - loss: 0.7989 - accuracy: 0.8366 - 2s/epoch - 7ms/step\n",
      "Epoch 56/200\n",
      "244/244 - 2s - loss: 0.7639 - accuracy: 0.8433 - 2s/epoch - 7ms/step\n",
      "Epoch 57/200\n",
      "244/244 - 2s - loss: 0.7421 - accuracy: 0.8485 - 2s/epoch - 7ms/step\n",
      "Epoch 58/200\n",
      "244/244 - 2s - loss: 0.7198 - accuracy: 0.8507 - 2s/epoch - 7ms/step\n",
      "Epoch 59/200\n",
      "244/244 - 2s - loss: 0.6947 - accuracy: 0.8547 - 2s/epoch - 7ms/step\n",
      "Epoch 60/200\n",
      "244/244 - 2s - loss: 0.6725 - accuracy: 0.8615 - 2s/epoch - 7ms/step\n",
      "Epoch 61/200\n",
      "244/244 - 2s - loss: 0.6535 - accuracy: 0.8633 - 2s/epoch - 7ms/step\n",
      "Epoch 62/200\n",
      "244/244 - 2s - loss: 0.6301 - accuracy: 0.8683 - 2s/epoch - 7ms/step\n",
      "Epoch 63/200\n",
      "244/244 - 2s - loss: 0.6104 - accuracy: 0.8740 - 2s/epoch - 7ms/step\n",
      "Epoch 64/200\n",
      "244/244 - 2s - loss: 0.5923 - accuracy: 0.8759 - 2s/epoch - 7ms/step\n",
      "Epoch 65/200\n",
      "244/244 - 2s - loss: 0.5750 - accuracy: 0.8777 - 2s/epoch - 7ms/step\n",
      "Epoch 66/200\n",
      "244/244 - 2s - loss: 0.5594 - accuracy: 0.8822 - 2s/epoch - 7ms/step\n",
      "Epoch 67/200\n",
      "244/244 - 2s - loss: 0.5496 - accuracy: 0.8843 - 2s/epoch - 7ms/step\n",
      "Epoch 68/200\n",
      "244/244 - 2s - loss: 0.5352 - accuracy: 0.8872 - 2s/epoch - 7ms/step\n",
      "Epoch 69/200\n",
      "244/244 - 2s - loss: 0.5206 - accuracy: 0.8877 - 2s/epoch - 7ms/step\n",
      "Epoch 70/200\n",
      "244/244 - 2s - loss: 0.5013 - accuracy: 0.8920 - 2s/epoch - 7ms/step\n",
      "Epoch 71/200\n",
      "244/244 - 2s - loss: 0.4876 - accuracy: 0.8952 - 2s/epoch - 7ms/step\n",
      "Epoch 72/200\n",
      "244/244 - 2s - loss: 0.4848 - accuracy: 0.8956 - 2s/epoch - 7ms/step\n",
      "Epoch 73/200\n",
      "244/244 - 2s - loss: 0.4692 - accuracy: 0.8981 - 2s/epoch - 7ms/step\n",
      "Epoch 74/200\n",
      "244/244 - 2s - loss: 0.4538 - accuracy: 0.9031 - 2s/epoch - 7ms/step\n",
      "Epoch 75/200\n",
      "244/244 - 2s - loss: 0.4455 - accuracy: 0.9017 - 2s/epoch - 7ms/step\n",
      "Epoch 76/200\n",
      "244/244 - 2s - loss: 0.4474 - accuracy: 0.9022 - 2s/epoch - 7ms/step\n",
      "Epoch 77/200\n",
      "244/244 - 2s - loss: 0.4369 - accuracy: 0.9053 - 2s/epoch - 7ms/step\n",
      "Epoch 78/200\n",
      "244/244 - 2s - loss: 0.4185 - accuracy: 0.9066 - 2s/epoch - 7ms/step\n",
      "Epoch 79/200\n",
      "244/244 - 2s - loss: 0.4123 - accuracy: 0.9048 - 2s/epoch - 7ms/step\n",
      "Epoch 80/200\n",
      "244/244 - 2s - loss: 0.4005 - accuracy: 0.9085 - 2s/epoch - 7ms/step\n",
      "Epoch 81/200\n",
      "244/244 - 2s - loss: 0.3921 - accuracy: 0.9093 - 2s/epoch - 7ms/step\n",
      "Epoch 82/200\n",
      "244/244 - 2s - loss: 0.3849 - accuracy: 0.9111 - 2s/epoch - 7ms/step\n",
      "Epoch 83/200\n",
      "244/244 - 2s - loss: 0.3774 - accuracy: 0.9120 - 2s/epoch - 7ms/step\n",
      "Epoch 84/200\n",
      "244/244 - 2s - loss: 0.3793 - accuracy: 0.9113 - 2s/epoch - 7ms/step\n",
      "Epoch 85/200\n",
      "244/244 - 2s - loss: 0.3951 - accuracy: 0.9068 - 2s/epoch - 7ms/step\n",
      "Epoch 86/200\n",
      "244/244 - 2s - loss: 0.4411 - accuracy: 0.8993 - 2s/epoch - 7ms/step\n",
      "Epoch 87/200\n",
      "244/244 - 2s - loss: 0.3939 - accuracy: 0.9097 - 2s/epoch - 7ms/step\n",
      "Epoch 88/200\n",
      "244/244 - 2s - loss: 0.4269 - accuracy: 0.8995 - 2s/epoch - 7ms/step\n",
      "Epoch 89/200\n",
      "244/244 - 2s - loss: 0.3604 - accuracy: 0.9122 - 2s/epoch - 7ms/step\n",
      "Epoch 90/200\n",
      "244/244 - 2s - loss: 0.3446 - accuracy: 0.9127 - 2s/epoch - 7ms/step\n",
      "Epoch 91/200\n",
      "244/244 - 2s - loss: 0.3399 - accuracy: 0.9136 - 2s/epoch - 7ms/step\n",
      "Epoch 92/200\n",
      "244/244 - 2s - loss: 0.3343 - accuracy: 0.9140 - 2s/epoch - 7ms/step\n",
      "Epoch 93/200\n",
      "244/244 - 2s - loss: 0.3312 - accuracy: 0.9153 - 2s/epoch - 7ms/step\n",
      "Epoch 94/200\n",
      "244/244 - 2s - loss: 0.3293 - accuracy: 0.9148 - 2s/epoch - 7ms/step\n",
      "Epoch 95/200\n",
      "244/244 - 2s - loss: 0.3291 - accuracy: 0.9126 - 2s/epoch - 7ms/step\n",
      "Epoch 96/200\n",
      "244/244 - 2s - loss: 0.3258 - accuracy: 0.9157 - 2s/epoch - 7ms/step\n",
      "Epoch 97/200\n",
      "244/244 - 2s - loss: 0.3243 - accuracy: 0.9148 - 2s/epoch - 7ms/step\n",
      "Epoch 98/200\n",
      "244/244 - 2s - loss: 0.3246 - accuracy: 0.9136 - 2s/epoch - 7ms/step\n",
      "Epoch 99/200\n",
      "244/244 - 2s - loss: 0.3251 - accuracy: 0.9150 - 2s/epoch - 7ms/step\n",
      "Epoch 100/200\n",
      "244/244 - 2s - loss: 0.3306 - accuracy: 0.9121 - 2s/epoch - 7ms/step\n"
     ]
    },
    {
     "name": "stdout",
     "output_type": "stream",
     "text": [
      "Epoch 101/200\n",
      "244/244 - 2s - loss: 0.3253 - accuracy: 0.9145 - 2s/epoch - 7ms/step\n",
      "Epoch 102/200\n",
      "244/244 - 2s - loss: 0.3170 - accuracy: 0.9130 - 2s/epoch - 7ms/step\n",
      "Epoch 103/200\n",
      "244/244 - 2s - loss: 0.3187 - accuracy: 0.9144 - 2s/epoch - 7ms/step\n",
      "Epoch 104/200\n",
      "244/244 - 2s - loss: 0.3125 - accuracy: 0.9141 - 2s/epoch - 7ms/step\n",
      "Epoch 105/200\n",
      "244/244 - 2s - loss: 0.3117 - accuracy: 0.9143 - 2s/epoch - 7ms/step\n",
      "Epoch 106/200\n",
      "244/244 - 2s - loss: 0.3141 - accuracy: 0.9132 - 2s/epoch - 7ms/step\n",
      "Epoch 107/200\n",
      "244/244 - 2s - loss: 0.3121 - accuracy: 0.9140 - 2s/epoch - 7ms/step\n",
      "Epoch 108/200\n",
      "244/244 - 2s - loss: 0.3115 - accuracy: 0.9144 - 2s/epoch - 7ms/step\n",
      "Epoch 109/200\n",
      "244/244 - 2s - loss: 0.3102 - accuracy: 0.9158 - 2s/epoch - 7ms/step\n",
      "Epoch 110/200\n",
      "244/244 - 2s - loss: 0.3077 - accuracy: 0.9132 - 2s/epoch - 7ms/step\n",
      "Epoch 111/200\n",
      "244/244 - 2s - loss: 0.3027 - accuracy: 0.9141 - 2s/epoch - 7ms/step\n",
      "Epoch 112/200\n",
      "244/244 - 2s - loss: 0.3069 - accuracy: 0.9146 - 2s/epoch - 7ms/step\n",
      "Epoch 113/200\n",
      "244/244 - 2s - loss: 0.3238 - accuracy: 0.9114 - 2s/epoch - 7ms/step\n",
      "Epoch 114/200\n",
      "244/244 - 2s - loss: 0.3580 - accuracy: 0.9048 - 2s/epoch - 7ms/step\n",
      "Epoch 115/200\n",
      "244/244 - 2s - loss: 0.3802 - accuracy: 0.9018 - 2s/epoch - 7ms/step\n",
      "Epoch 116/200\n",
      "244/244 - 2s - loss: 0.3147 - accuracy: 0.9134 - 2s/epoch - 7ms/step\n",
      "Epoch 117/200\n",
      "244/244 - 2s - loss: 0.2996 - accuracy: 0.9162 - 2s/epoch - 7ms/step\n",
      "Epoch 118/200\n",
      "244/244 - 2s - loss: 0.2976 - accuracy: 0.9135 - 2s/epoch - 7ms/step\n",
      "Epoch 119/200\n",
      "244/244 - 2s - loss: 0.2943 - accuracy: 0.9149 - 2s/epoch - 7ms/step\n",
      "Epoch 120/200\n",
      "244/244 - 2s - loss: 0.2946 - accuracy: 0.9136 - 2s/epoch - 7ms/step\n",
      "Epoch 121/200\n",
      "244/244 - 2s - loss: 0.2942 - accuracy: 0.9153 - 2s/epoch - 7ms/step\n",
      "Epoch 122/200\n",
      "244/244 - 2s - loss: 0.2922 - accuracy: 0.9141 - 2s/epoch - 7ms/step\n",
      "Epoch 123/200\n",
      "244/244 - 2s - loss: 0.2948 - accuracy: 0.9155 - 2s/epoch - 8ms/step\n",
      "Epoch 124/200\n",
      "244/244 - 2s - loss: 0.2925 - accuracy: 0.9144 - 2s/epoch - 7ms/step\n",
      "Epoch 125/200\n",
      "244/244 - 2s - loss: 0.2928 - accuracy: 0.9149 - 2s/epoch - 7ms/step\n",
      "Epoch 126/200\n",
      "244/244 - 2s - loss: 0.2922 - accuracy: 0.9145 - 2s/epoch - 7ms/step\n",
      "Epoch 127/200\n",
      "244/244 - 2s - loss: 0.2913 - accuracy: 0.9152 - 2s/epoch - 7ms/step\n",
      "Epoch 128/200\n",
      "244/244 - 2s - loss: 0.2946 - accuracy: 0.9154 - 2s/epoch - 7ms/step\n",
      "Epoch 129/200\n",
      "244/244 - 2s - loss: 0.3045 - accuracy: 0.9116 - 2s/epoch - 7ms/step\n",
      "Epoch 130/200\n",
      "244/244 - 2s - loss: 1.7278 - accuracy: 0.7322 - 2s/epoch - 7ms/step\n",
      "Epoch 131/200\n",
      "244/244 - 2s - loss: 2.4567 - accuracy: 0.4730 - 2s/epoch - 7ms/step\n",
      "Epoch 132/200\n",
      "244/244 - 2s - loss: 0.8381 - accuracy: 0.7892 - 2s/epoch - 7ms/step\n",
      "Epoch 133/200\n",
      "244/244 - 2s - loss: 0.5485 - accuracy: 0.8626 - 2s/epoch - 7ms/step\n",
      "Epoch 134/200\n",
      "244/244 - 2s - loss: 0.4544 - accuracy: 0.8891 - 2s/epoch - 7ms/step\n",
      "Epoch 135/200\n",
      "244/244 - 2s - loss: 0.4161 - accuracy: 0.8998 - 2s/epoch - 7ms/step\n",
      "Epoch 136/200\n",
      "244/244 - 2s - loss: 0.5333 - accuracy: 0.8695 - 2s/epoch - 7ms/step\n",
      "Epoch 137/200\n",
      "244/244 - 2s - loss: 0.4042 - accuracy: 0.9035 - 2s/epoch - 7ms/step\n",
      "Epoch 138/200\n",
      "244/244 - 2s - loss: 0.3613 - accuracy: 0.9113 - 2s/epoch - 7ms/step\n",
      "Epoch 139/200\n",
      "244/244 - 2s - loss: 0.3442 - accuracy: 0.9125 - 2s/epoch - 7ms/step\n",
      "Epoch 140/200\n",
      "244/244 - 2s - loss: 0.3330 - accuracy: 0.9135 - 2s/epoch - 7ms/step\n",
      "Epoch 141/200\n",
      "244/244 - 2s - loss: 0.3274 - accuracy: 0.9132 - 2s/epoch - 7ms/step\n",
      "Epoch 142/200\n",
      "244/244 - 2s - loss: 0.3254 - accuracy: 0.9134 - 2s/epoch - 7ms/step\n",
      "Epoch 143/200\n",
      "244/244 - 2s - loss: 0.3197 - accuracy: 0.9143 - 2s/epoch - 7ms/step\n",
      "Epoch 144/200\n",
      "244/244 - 2s - loss: 0.3156 - accuracy: 0.9150 - 2s/epoch - 7ms/step\n",
      "Epoch 145/200\n",
      "244/244 - 2s - loss: 0.3099 - accuracy: 0.9175 - 2s/epoch - 7ms/step\n",
      "Epoch 146/200\n",
      "244/244 - 2s - loss: 0.3096 - accuracy: 0.9139 - 2s/epoch - 7ms/step\n",
      "Epoch 147/200\n",
      "244/244 - 2s - loss: 0.3082 - accuracy: 0.9145 - 2s/epoch - 7ms/step\n",
      "Epoch 148/200\n",
      "244/244 - 2s - loss: 0.3066 - accuracy: 0.9143 - 2s/epoch - 7ms/step\n",
      "Epoch 149/200\n",
      "244/244 - 2s - loss: 0.3200 - accuracy: 0.9121 - 2s/epoch - 7ms/step\n",
      "Epoch 150/200\n",
      "244/244 - 2s - loss: 0.3358 - accuracy: 0.9116 - 2s/epoch - 7ms/step\n",
      "Epoch 151/200\n",
      "244/244 - 2s - loss: 0.3304 - accuracy: 0.9116 - 2s/epoch - 7ms/step\n",
      "Epoch 152/200\n",
      "244/244 - 2s - loss: 0.3159 - accuracy: 0.9135 - 2s/epoch - 7ms/step\n",
      "Epoch 153/200\n",
      "244/244 - 2s - loss: 0.3099 - accuracy: 0.9136 - 2s/epoch - 7ms/step\n",
      "Epoch 154/200\n",
      "244/244 - 2s - loss: 0.3107 - accuracy: 0.9127 - 2s/epoch - 7ms/step\n",
      "Epoch 155/200\n",
      "244/244 - 2s - loss: 0.3037 - accuracy: 0.9149 - 2s/epoch - 7ms/step\n",
      "Epoch 156/200\n",
      "244/244 - 2s - loss: 0.2994 - accuracy: 0.9146 - 2s/epoch - 7ms/step\n",
      "Epoch 157/200\n",
      "244/244 - 2s - loss: 0.2988 - accuracy: 0.9155 - 2s/epoch - 7ms/step\n",
      "Epoch 158/200\n",
      "244/244 - 2s - loss: 0.2964 - accuracy: 0.9154 - 2s/epoch - 7ms/step\n",
      "Epoch 159/200\n",
      "244/244 - 2s - loss: 0.2943 - accuracy: 0.9149 - 2s/epoch - 7ms/step\n",
      "Epoch 160/200\n",
      "244/244 - 2s - loss: 0.2931 - accuracy: 0.9161 - 2s/epoch - 8ms/step\n",
      "Epoch 161/200\n",
      "244/244 - 2s - loss: 0.2916 - accuracy: 0.9153 - 2s/epoch - 7ms/step\n",
      "Epoch 162/200\n",
      "244/244 - 2s - loss: 0.2912 - accuracy: 0.9144 - 2s/epoch - 7ms/step\n",
      "Epoch 163/200\n",
      "244/244 - 2s - loss: 0.2897 - accuracy: 0.9149 - 2s/epoch - 7ms/step\n",
      "Epoch 164/200\n",
      "244/244 - 2s - loss: 0.2920 - accuracy: 0.9158 - 2s/epoch - 7ms/step\n",
      "Epoch 165/200\n",
      "244/244 - 2s - loss: 0.3141 - accuracy: 0.9113 - 2s/epoch - 7ms/step\n",
      "Epoch 166/200\n",
      "244/244 - 2s - loss: 0.4648 - accuracy: 0.8733 - 2s/epoch - 7ms/step\n",
      "Epoch 167/200\n",
      "244/244 - 2s - loss: 0.3638 - accuracy: 0.9012 - 2s/epoch - 7ms/step\n",
      "Epoch 168/200\n",
      "244/244 - 2s - loss: 0.3028 - accuracy: 0.9130 - 2s/epoch - 7ms/step\n",
      "Epoch 169/200\n",
      "244/244 - 2s - loss: 0.2901 - accuracy: 0.9163 - 2s/epoch - 7ms/step\n",
      "Epoch 170/200\n",
      "244/244 - 2s - loss: 0.2862 - accuracy: 0.9146 - 2s/epoch - 7ms/step\n",
      "Epoch 171/200\n",
      "244/244 - 2s - loss: 0.2853 - accuracy: 0.9150 - 2s/epoch - 7ms/step\n",
      "Epoch 172/200\n",
      "244/244 - 2s - loss: 0.2859 - accuracy: 0.9157 - 2s/epoch - 7ms/step\n",
      "Epoch 173/200\n",
      "244/244 - 2s - loss: 0.2843 - accuracy: 0.9161 - 2s/epoch - 7ms/step\n",
      "Epoch 174/200\n",
      "244/244 - 2s - loss: 0.2844 - accuracy: 0.9150 - 2s/epoch - 8ms/step\n",
      "Epoch 175/200\n",
      "244/244 - 2s - loss: 0.2818 - accuracy: 0.9167 - 2s/epoch - 7ms/step\n",
      "Epoch 176/200\n",
      "244/244 - 2s - loss: 0.2844 - accuracy: 0.9129 - 2s/epoch - 7ms/step\n",
      "Epoch 177/200\n",
      "244/244 - 2s - loss: 0.2829 - accuracy: 0.9150 - 2s/epoch - 7ms/step\n",
      "Epoch 178/200\n",
      "244/244 - 2s - loss: 0.2820 - accuracy: 0.9175 - 2s/epoch - 7ms/step\n",
      "Epoch 179/200\n",
      "244/244 - 2s - loss: 0.2825 - accuracy: 0.9152 - 2s/epoch - 8ms/step\n",
      "Epoch 180/200\n",
      "244/244 - 2s - loss: 0.2884 - accuracy: 0.9149 - 2s/epoch - 7ms/step\n",
      "Epoch 181/200\n",
      "244/244 - 2s - loss: 0.2888 - accuracy: 0.9129 - 2s/epoch - 7ms/step\n",
      "Epoch 182/200\n",
      "244/244 - 2s - loss: 0.2930 - accuracy: 0.9136 - 2s/epoch - 7ms/step\n",
      "Epoch 183/200\n",
      "244/244 - 2s - loss: 0.2873 - accuracy: 0.9144 - 2s/epoch - 8ms/step\n",
      "Epoch 184/200\n",
      "244/244 - 2s - loss: 0.2864 - accuracy: 0.9148 - 2s/epoch - 8ms/step\n",
      "Epoch 185/200\n",
      "244/244 - 2s - loss: 0.2857 - accuracy: 0.9141 - 2s/epoch - 7ms/step\n",
      "Epoch 186/200\n",
      "244/244 - 2s - loss: 0.2852 - accuracy: 0.9140 - 2s/epoch - 7ms/step\n",
      "Epoch 187/200\n",
      "244/244 - 2s - loss: 0.2826 - accuracy: 0.9158 - 2s/epoch - 8ms/step\n",
      "Epoch 188/200\n",
      "244/244 - 2s - loss: 0.2821 - accuracy: 0.9143 - 2s/epoch - 7ms/step\n",
      "Epoch 189/200\n",
      "244/244 - 2s - loss: 0.2826 - accuracy: 0.9144 - 2s/epoch - 9ms/step\n",
      "Epoch 190/200\n",
      "244/244 - 2s - loss: 0.2891 - accuracy: 0.9152 - 2s/epoch - 8ms/step\n",
      "Epoch 191/200\n",
      "244/244 - 2s - loss: 0.2860 - accuracy: 0.9141 - 2s/epoch - 7ms/step\n",
      "Epoch 192/200\n",
      "244/244 - 2s - loss: 0.2809 - accuracy: 0.9144 - 2s/epoch - 7ms/step\n",
      "Epoch 193/200\n",
      "244/244 - 2s - loss: 0.2808 - accuracy: 0.9172 - 2s/epoch - 7ms/step\n",
      "Epoch 194/200\n",
      "244/244 - 2s - loss: 0.2803 - accuracy: 0.9168 - 2s/epoch - 7ms/step\n",
      "Epoch 195/200\n",
      "244/244 - 2s - loss: 0.2821 - accuracy: 0.9141 - 2s/epoch - 7ms/step\n",
      "Epoch 196/200\n",
      "244/244 - 2s - loss: 0.2808 - accuracy: 0.9158 - 2s/epoch - 7ms/step\n",
      "Epoch 197/200\n",
      "244/244 - 2s - loss: 0.2811 - accuracy: 0.9146 - 2s/epoch - 7ms/step\n",
      "Epoch 198/200\n",
      "244/244 - 2s - loss: 0.2807 - accuracy: 0.9150 - 2s/epoch - 8ms/step\n",
      "Epoch 199/200\n",
      "244/244 - 2s - loss: 0.2828 - accuracy: 0.9140 - 2s/epoch - 8ms/step\n"
     ]
    },
    {
     "name": "stdout",
     "output_type": "stream",
     "text": [
      "Epoch 200/200\n",
      "244/244 - 2s - loss: 0.2979 - accuracy: 0.9116 - 2s/epoch - 8ms/step\n"
     ]
    },
    {
     "data": {
      "text/plain": [
       "<keras.callbacks.History at 0x1e3b5af20d0>"
      ]
     },
     "execution_count": 34,
     "metadata": {},
     "output_type": "execute_result"
    }
   ],
   "source": [
    "model.fit(X, y, epochs=200, verbose=2)"
   ]
  },
  {
   "cell_type": "code",
   "execution_count": 46,
   "metadata": {},
   "outputs": [
    {
     "name": "stdout",
     "output_type": "stream",
     "text": [
      "the\n"
     ]
    }
   ],
   "source": [
    "current_word = 'what'\n",
    "\n",
    "encoded = tokenizer.texts_to_sequences([current_word])[0]\n",
    "encoded = pad_sequences([encoded], maxlen=max_len-1, padding='pre')\n",
    "result = model.predict(encoded, verbose=0)\n",
    "result = np.argmax(result, axis=1)\n",
    "\n",
    "for word, index in tokenizer.word_index.items():\n",
    "    if index == result:\n",
    "        break\n",
    "\n",
    "print(word)"
   ]
  },
  {
   "cell_type": "code",
   "execution_count": 49,
   "metadata": {},
   "outputs": [
    {
     "name": "stdout",
     "output_type": "stream",
     "text": [
      "americans\n"
     ]
    }
   ],
   "source": [
    "current_word = 'the'\n",
    "\n",
    "encoded = tokenizer.texts_to_sequences([current_word])[0]\n",
    "encoded = pad_sequences([encoded], maxlen=max_len-1, padding='pre')\n",
    "result = model.predict(encoded, verbose=0)\n",
    "result = np.argmax(result, axis=1)\n",
    "\n",
    "for word, index in tokenizer.word_index.items():\n",
    "    if index == result:\n",
    "        break\n",
    "\n",
    "print(word)"
   ]
  },
  {
   "cell_type": "code",
   "execution_count": 50,
   "metadata": {},
   "outputs": [
    {
     "name": "stdout",
     "output_type": "stream",
     "text": [
      "heck\n"
     ]
    }
   ],
   "source": [
    "current_word = 'what the'\n",
    "\n",
    "encoded = tokenizer.texts_to_sequences([current_word])[0]\n",
    "encoded = pad_sequences([encoded], maxlen=max_len-1, padding='pre')\n",
    "result = model.predict(encoded, verbose=0)\n",
    "result = np.argmax(result, axis=1)\n",
    "\n",
    "for word, index in tokenizer.word_index.items():\n",
    "    if index == result:\n",
    "        break\n",
    "\n",
    "print(word)"
   ]
  },
  {
   "cell_type": "code",
   "execution_count": 51,
   "metadata": {},
   "outputs": [],
   "source": [
    "def sentence_generation(model, tokenizer, current_word, n):\n",
    "    init_word = current_word\n",
    "    sentence = ''\n",
    "    \n",
    "    for _ in range(n):\n",
    "        encoded = tokenizer.texts_to_sequences([current_word])[0]\n",
    "        encoded = pad_sequences([encoded], maxlen=max_len-1, padding='pre')\n",
    "        \n",
    "        result = model.predict(encoded, verbose=0)\n",
    "        result = np.argmax(result, axis=1)\n",
    "\n",
    "        for word, index in tokenizer.word_index.items(): \n",
    "            if index == result:\n",
    "                break\n",
    "        \n",
    "        current_word = current_word + ' '  + word\n",
    "        sentence = sentence + ' ' + word\n",
    "        \n",
    "    sentence = init_word + sentence\n",
    "    \n",
    "    return sentence"
   ]
  },
  {
   "cell_type": "code",
   "execution_count": 57,
   "metadata": {},
   "outputs": [
    {
     "name": "stdout",
     "output_type": "stream",
     "text": [
      "what the heck is that abou excited they are was guns still alive he say and new york gallery side the\n"
     ]
    }
   ],
   "source": [
    "print(sentence_generation(model, tokenizer, 'what', 20))"
   ]
  },
  {
   "cell_type": "code",
   "execution_count": 59,
   "metadata": {},
   "outputs": [
    {
     "name": "stdout",
     "output_type": "stream",
     "text": [
      "the americans season 6 episode 4 recap the birth of a honey pot in prize into abuse coverage stars in her university war been a missed\n"
     ]
    }
   ],
   "source": [
    "print(sentence_generation(model, tokenizer, 'the', 25))"
   ]
  },
  {
   "cell_type": "code",
   "execution_count": null,
   "metadata": {},
   "outputs": [],
   "source": []
  }
 ],
 "metadata": {
  "kernelspec": {
   "display_name": "Python 3 (ipykernel)",
   "language": "python",
   "name": "python3"
  },
  "language_info": {
   "codemirror_mode": {
    "name": "ipython",
    "version": 3
   },
   "file_extension": ".py",
   "mimetype": "text/x-python",
   "name": "python",
   "nbconvert_exporter": "python",
   "pygments_lexer": "ipython3",
   "version": "3.9.13"
  }
 },
 "nbformat": 4,
 "nbformat_minor": 4
}
