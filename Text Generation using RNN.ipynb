{
 "cells": [
  {
   "cell_type": "code",
   "execution_count": 2,
   "metadata": {},
   "outputs": [],
   "source": [
    "import numpy as np\n",
    "from tensorflow.keras.preprocessing.text import Tokenizer\n",
    "from tensorflow.keras.preprocessing.sequence import pad_sequences\n",
    "from tensorflow.keras.utils import to_categorical"
   ]
  },
  {
   "cell_type": "code",
   "execution_count": 3,
   "metadata": {},
   "outputs": [],
   "source": [
    "text = \"\"\"He is sick\\n\n",
    "That is so sick\\n\n",
    "The sick cat is dying\\n\"\"\""
   ]
  },
  {
   "cell_type": "code",
   "execution_count": 4,
   "metadata": {},
   "outputs": [
    {
     "name": "stdout",
     "output_type": "stream",
     "text": [
      "Size of vocabulary : 9\n"
     ]
    }
   ],
   "source": [
    "tokenizer = Tokenizer()\n",
    "tokenizer.fit_on_texts([text])\n",
    "vocab_size = len(tokenizer.word_index) + 1\n",
    "print(\"Size of vocabulary : %d\" % vocab_size)"
   ]
  },
  {
   "cell_type": "code",
   "execution_count": 5,
   "metadata": {},
   "outputs": [
    {
     "name": "stdout",
     "output_type": "stream",
     "text": [
      "{'is': 1, 'sick': 2, 'he': 3, 'that': 4, 'so': 5, 'the': 6, 'cat': 7, 'dying': 8}\n"
     ]
    }
   ],
   "source": [
    "print(tokenizer.word_index)"
   ]
  },
  {
   "cell_type": "code",
   "execution_count": 6,
   "metadata": {},
   "outputs": [],
   "source": [
    "sequences = list()\n",
    "for line in text.split('\\n'):\n",
    "    encoded = tokenizer.texts_to_sequences({line})[0]\n",
    "    #print(encoded)\n",
    "    for i in range(1, len(encoded)):\n",
    "        sequence = encoded[:i+1]\n",
    "        sequences.append(sequence)"
   ]
  },
  {
   "cell_type": "code",
   "execution_count": 7,
   "metadata": {},
   "outputs": [
    {
     "name": "stdout",
     "output_type": "stream",
     "text": [
      "[[3, 1], [3, 1, 2], [4, 1], [4, 1, 5], [4, 1, 5, 2], [6, 2], [6, 2, 7], [6, 2, 7, 1], [6, 2, 7, 1, 8]] \n",
      "Count of sample :  9\n"
     ]
    }
   ],
   "source": [
    "print(sequences,\"\\nCount of sample : \",len(sequences))"
   ]
  },
  {
   "cell_type": "code",
   "execution_count": 8,
   "metadata": {},
   "outputs": [
    {
     "name": "stdout",
     "output_type": "stream",
     "text": [
      "Maximum length of sample : 5\n"
     ]
    }
   ],
   "source": [
    "max_len = max(len(l) for l in sequences)\n",
    "print(\"Maximum length of sample : {}\".format(max_len))"
   ]
  },
  {
   "cell_type": "code",
   "execution_count": 9,
   "metadata": {},
   "outputs": [],
   "source": [
    "sequences = pad_sequences(sequences, maxlen=max_len, padding='pre')"
   ]
  },
  {
   "cell_type": "code",
   "execution_count": 10,
   "metadata": {},
   "outputs": [
    {
     "name": "stdout",
     "output_type": "stream",
     "text": [
      "[[0 0 0 3 1]\n",
      " [0 0 3 1 2]\n",
      " [0 0 0 4 1]\n",
      " [0 0 4 1 5]\n",
      " [0 4 1 5 2]\n",
      " [0 0 0 6 2]\n",
      " [0 0 6 2 7]\n",
      " [0 6 2 7 1]\n",
      " [6 2 7 1 8]]\n"
     ]
    }
   ],
   "source": [
    "print(sequences)"
   ]
  },
  {
   "cell_type": "code",
   "execution_count": 11,
   "metadata": {},
   "outputs": [],
   "source": [
    "sequences = np.array(sequences)\n",
    "X = sequences[:,:-1]\n",
    "y = sequences[:,-1]"
   ]
  },
  {
   "cell_type": "code",
   "execution_count": 12,
   "metadata": {},
   "outputs": [
    {
     "name": "stdout",
     "output_type": "stream",
     "text": [
      "[[0 0 0 3]\n",
      " [0 0 3 1]\n",
      " [0 0 0 4]\n",
      " [0 0 4 1]\n",
      " [0 4 1 5]\n",
      " [0 0 0 6]\n",
      " [0 0 6 2]\n",
      " [0 6 2 7]\n",
      " [6 2 7 1]] \n",
      "\n",
      "[1 2 1 5 2 2 7 1 8]\n"
     ]
    }
   ],
   "source": [
    "print(X,\"\\n\")\n",
    "print(y) #y will be label"
   ]
  },
  {
   "cell_type": "code",
   "execution_count": 13,
   "metadata": {},
   "outputs": [],
   "source": [
    "y = to_categorical(y, num_classes=vocab_size)"
   ]
  },
  {
   "cell_type": "code",
   "execution_count": 14,
   "metadata": {},
   "outputs": [
    {
     "name": "stdout",
     "output_type": "stream",
     "text": [
      "[[0. 1. 0. 0. 0. 0. 0. 0. 0.]\n",
      " [0. 0. 1. 0. 0. 0. 0. 0. 0.]\n",
      " [0. 1. 0. 0. 0. 0. 0. 0. 0.]\n",
      " [0. 0. 0. 0. 0. 1. 0. 0. 0.]\n",
      " [0. 0. 1. 0. 0. 0. 0. 0. 0.]\n",
      " [0. 0. 1. 0. 0. 0. 0. 0. 0.]\n",
      " [0. 0. 0. 0. 0. 0. 0. 1. 0.]\n",
      " [0. 1. 0. 0. 0. 0. 0. 0. 0.]\n",
      " [0. 0. 0. 0. 0. 0. 0. 0. 1.]]\n"
     ]
    }
   ],
   "source": [
    "print(y)"
   ]
  },
  {
   "cell_type": "code",
   "execution_count": null,
   "metadata": {},
   "outputs": [],
   "source": []
  },
  {
   "cell_type": "code",
   "execution_count": 15,
   "metadata": {},
   "outputs": [],
   "source": [
    "from tensorflow.keras.models import Sequential\n",
    "from tensorflow.keras.layers import Embedding, Dense, SimpleRNN"
   ]
  },
  {
   "cell_type": "code",
   "execution_count": 16,
   "metadata": {},
   "outputs": [],
   "source": [
    "embedding_dim = 10\n",
    "hidden_units = 32\n",
    "\n",
    "model = Sequential()\n",
    "model.add(Embedding(vocab_size, embedding_dim))\n",
    "model.add(SimpleRNN(hidden_units))\n",
    "model.add(Dense(vocab_size, activation='softmax'))"
   ]
  },
  {
   "cell_type": "code",
   "execution_count": 17,
   "metadata": {},
   "outputs": [
    {
     "name": "stdout",
     "output_type": "stream",
     "text": [
      "Epoch 1/200\n",
      "1/1 - 3s - loss: 2.2485 - accuracy: 0.0000e+00 - 3s/epoch - 3s/step\n",
      "Epoch 2/200\n",
      "1/1 - 0s - loss: 2.2319 - accuracy: 0.0000e+00 - 21ms/epoch - 21ms/step\n",
      "Epoch 3/200\n",
      "1/1 - 0s - loss: 2.2160 - accuracy: 0.0000e+00 - 20ms/epoch - 20ms/step\n",
      "Epoch 4/200\n",
      "1/1 - 0s - loss: 2.2006 - accuracy: 0.1111 - 14ms/epoch - 14ms/step\n",
      "Epoch 5/200\n",
      "1/1 - 0s - loss: 2.1857 - accuracy: 0.1111 - 15ms/epoch - 15ms/step\n",
      "Epoch 6/200\n",
      "1/1 - 0s - loss: 2.1712 - accuracy: 0.3333 - 15ms/epoch - 15ms/step\n",
      "Epoch 7/200\n",
      "1/1 - 0s - loss: 2.1569 - accuracy: 0.4444 - 14ms/epoch - 14ms/step\n",
      "Epoch 8/200\n",
      "1/1 - 0s - loss: 2.1427 - accuracy: 0.4444 - 14ms/epoch - 14ms/step\n",
      "Epoch 9/200\n",
      "1/1 - 0s - loss: 2.1284 - accuracy: 0.4444 - 21ms/epoch - 21ms/step\n",
      "Epoch 10/200\n",
      "1/1 - 0s - loss: 2.1140 - accuracy: 0.4444 - 19ms/epoch - 19ms/step\n",
      "Epoch 11/200\n",
      "1/1 - 0s - loss: 2.0993 - accuracy: 0.5556 - 20ms/epoch - 20ms/step\n",
      "Epoch 12/200\n",
      "1/1 - 0s - loss: 2.0842 - accuracy: 0.5556 - 20ms/epoch - 20ms/step\n",
      "Epoch 13/200\n",
      "1/1 - 0s - loss: 2.0687 - accuracy: 0.5556 - 20ms/epoch - 20ms/step\n",
      "Epoch 14/200\n",
      "1/1 - 0s - loss: 2.0524 - accuracy: 0.5556 - 20ms/epoch - 20ms/step\n",
      "Epoch 15/200\n",
      "1/1 - 0s - loss: 2.0355 - accuracy: 0.5556 - 17ms/epoch - 17ms/step\n",
      "Epoch 16/200\n",
      "1/1 - 0s - loss: 2.0178 - accuracy: 0.5556 - 20ms/epoch - 20ms/step\n",
      "Epoch 17/200\n",
      "1/1 - 0s - loss: 1.9992 - accuracy: 0.5556 - 20ms/epoch - 20ms/step\n",
      "Epoch 18/200\n",
      "1/1 - 0s - loss: 1.9796 - accuracy: 0.5556 - 20ms/epoch - 20ms/step\n",
      "Epoch 19/200\n",
      "1/1 - 0s - loss: 1.9591 - accuracy: 0.5556 - 16ms/epoch - 16ms/step\n",
      "Epoch 20/200\n",
      "1/1 - 0s - loss: 1.9374 - accuracy: 0.5556 - 19ms/epoch - 19ms/step\n",
      "Epoch 21/200\n",
      "1/1 - 0s - loss: 1.9148 - accuracy: 0.5556 - 19ms/epoch - 19ms/step\n",
      "Epoch 22/200\n",
      "1/1 - 0s - loss: 1.8911 - accuracy: 0.5556 - 19ms/epoch - 19ms/step\n",
      "Epoch 23/200\n",
      "1/1 - 0s - loss: 1.8663 - accuracy: 0.5556 - 20ms/epoch - 20ms/step\n",
      "Epoch 24/200\n",
      "1/1 - 0s - loss: 1.8406 - accuracy: 0.5556 - 20ms/epoch - 20ms/step\n",
      "Epoch 25/200\n",
      "1/1 - 0s - loss: 1.8142 - accuracy: 0.5556 - 19ms/epoch - 19ms/step\n",
      "Epoch 26/200\n",
      "1/1 - 0s - loss: 1.7871 - accuracy: 0.5556 - 16ms/epoch - 16ms/step\n",
      "Epoch 27/200\n",
      "1/1 - 0s - loss: 1.7596 - accuracy: 0.5556 - 16ms/epoch - 16ms/step\n",
      "Epoch 28/200\n",
      "1/1 - 0s - loss: 1.7319 - accuracy: 0.5556 - 16ms/epoch - 16ms/step\n",
      "Epoch 29/200\n",
      "1/1 - 0s - loss: 1.7044 - accuracy: 0.5556 - 16ms/epoch - 16ms/step\n",
      "Epoch 30/200\n",
      "1/1 - 0s - loss: 1.6774 - accuracy: 0.5556 - 16ms/epoch - 16ms/step\n",
      "Epoch 31/200\n",
      "1/1 - 0s - loss: 1.6511 - accuracy: 0.5556 - 16ms/epoch - 16ms/step\n",
      "Epoch 32/200\n",
      "1/1 - 0s - loss: 1.6261 - accuracy: 0.4444 - 20ms/epoch - 20ms/step\n",
      "Epoch 33/200\n",
      "1/1 - 0s - loss: 1.6026 - accuracy: 0.4444 - 20ms/epoch - 20ms/step\n",
      "Epoch 34/200\n",
      "1/1 - 0s - loss: 1.5806 - accuracy: 0.4444 - 18ms/epoch - 18ms/step\n",
      "Epoch 35/200\n",
      "1/1 - 0s - loss: 1.5607 - accuracy: 0.4444 - 17ms/epoch - 17ms/step\n",
      "Epoch 36/200\n",
      "1/1 - 0s - loss: 1.5424 - accuracy: 0.4444 - 15ms/epoch - 15ms/step\n",
      "Epoch 37/200\n",
      "1/1 - 0s - loss: 1.5259 - accuracy: 0.5556 - 20ms/epoch - 20ms/step\n",
      "Epoch 38/200\n",
      "1/1 - 0s - loss: 1.5107 - accuracy: 0.6667 - 20ms/epoch - 20ms/step\n",
      "Epoch 39/200\n",
      "1/1 - 0s - loss: 1.4966 - accuracy: 0.6667 - 19ms/epoch - 19ms/step\n",
      "Epoch 40/200\n",
      "1/1 - 0s - loss: 1.4832 - accuracy: 0.6667 - 18ms/epoch - 18ms/step\n",
      "Epoch 41/200\n",
      "1/1 - 0s - loss: 1.4700 - accuracy: 0.6667 - 14ms/epoch - 14ms/step\n",
      "Epoch 42/200\n",
      "1/1 - 0s - loss: 1.4568 - accuracy: 0.6667 - 14ms/epoch - 14ms/step\n",
      "Epoch 43/200\n",
      "1/1 - 0s - loss: 1.4433 - accuracy: 0.6667 - 20ms/epoch - 20ms/step\n",
      "Epoch 44/200\n",
      "1/1 - 0s - loss: 1.4293 - accuracy: 0.6667 - 16ms/epoch - 16ms/step\n",
      "Epoch 45/200\n",
      "1/1 - 0s - loss: 1.4151 - accuracy: 0.6667 - 16ms/epoch - 16ms/step\n",
      "Epoch 46/200\n",
      "1/1 - 0s - loss: 1.4004 - accuracy: 0.6667 - 16ms/epoch - 16ms/step\n",
      "Epoch 47/200\n",
      "1/1 - 0s - loss: 1.3853 - accuracy: 0.6667 - 15ms/epoch - 15ms/step\n",
      "Epoch 48/200\n",
      "1/1 - 0s - loss: 1.3697 - accuracy: 0.6667 - 16ms/epoch - 16ms/step\n",
      "Epoch 49/200\n",
      "1/1 - 0s - loss: 1.3541 - accuracy: 0.6667 - 16ms/epoch - 16ms/step\n",
      "Epoch 50/200\n",
      "1/1 - 0s - loss: 1.3383 - accuracy: 0.5556 - 17ms/epoch - 17ms/step\n",
      "Epoch 51/200\n",
      "1/1 - 0s - loss: 1.3224 - accuracy: 0.5556 - 19ms/epoch - 19ms/step\n",
      "Epoch 52/200\n",
      "1/1 - 0s - loss: 1.3067 - accuracy: 0.6667 - 19ms/epoch - 19ms/step\n",
      "Epoch 53/200\n",
      "1/1 - 0s - loss: 1.2909 - accuracy: 0.6667 - 19ms/epoch - 19ms/step\n",
      "Epoch 54/200\n",
      "1/1 - 0s - loss: 1.2753 - accuracy: 0.6667 - 20ms/epoch - 20ms/step\n",
      "Epoch 55/200\n",
      "1/1 - 0s - loss: 1.2596 - accuracy: 0.6667 - 20ms/epoch - 20ms/step\n",
      "Epoch 56/200\n",
      "1/1 - 0s - loss: 1.2440 - accuracy: 0.6667 - 20ms/epoch - 20ms/step\n",
      "Epoch 57/200\n",
      "1/1 - 0s - loss: 1.2284 - accuracy: 0.6667 - 19ms/epoch - 19ms/step\n",
      "Epoch 58/200\n",
      "1/1 - 0s - loss: 1.2127 - accuracy: 0.7778 - 19ms/epoch - 19ms/step\n",
      "Epoch 59/200\n",
      "1/1 - 0s - loss: 1.1969 - accuracy: 0.7778 - 20ms/epoch - 20ms/step\n",
      "Epoch 60/200\n",
      "1/1 - 0s - loss: 1.1808 - accuracy: 0.7778 - 21ms/epoch - 21ms/step\n",
      "Epoch 61/200\n",
      "1/1 - 0s - loss: 1.1646 - accuracy: 0.7778 - 20ms/epoch - 20ms/step\n",
      "Epoch 62/200\n",
      "1/1 - 0s - loss: 1.1482 - accuracy: 0.7778 - 19ms/epoch - 19ms/step\n",
      "Epoch 63/200\n",
      "1/1 - 0s - loss: 1.1316 - accuracy: 0.7778 - 22ms/epoch - 22ms/step\n",
      "Epoch 64/200\n",
      "1/1 - 0s - loss: 1.1147 - accuracy: 0.7778 - 20ms/epoch - 20ms/step\n",
      "Epoch 65/200\n",
      "1/1 - 0s - loss: 1.0974 - accuracy: 0.7778 - 22ms/epoch - 22ms/step\n",
      "Epoch 66/200\n",
      "1/1 - 0s - loss: 1.0801 - accuracy: 0.7778 - 21ms/epoch - 21ms/step\n",
      "Epoch 67/200\n",
      "1/1 - 0s - loss: 1.0628 - accuracy: 0.7778 - 19ms/epoch - 19ms/step\n",
      "Epoch 68/200\n",
      "1/1 - 0s - loss: 1.0452 - accuracy: 0.7778 - 21ms/epoch - 21ms/step\n",
      "Epoch 69/200\n",
      "1/1 - 0s - loss: 1.0275 - accuracy: 0.7778 - 21ms/epoch - 21ms/step\n",
      "Epoch 70/200\n",
      "1/1 - 0s - loss: 1.0099 - accuracy: 0.7778 - 19ms/epoch - 19ms/step\n",
      "Epoch 71/200\n",
      "1/1 - 0s - loss: 0.9922 - accuracy: 0.7778 - 18ms/epoch - 18ms/step\n",
      "Epoch 72/200\n",
      "1/1 - 0s - loss: 0.9748 - accuracy: 0.7778 - 17ms/epoch - 17ms/step\n",
      "Epoch 73/200\n",
      "1/1 - 0s - loss: 0.9575 - accuracy: 0.7778 - 16ms/epoch - 16ms/step\n",
      "Epoch 74/200\n",
      "1/1 - 0s - loss: 0.9402 - accuracy: 0.7778 - 17ms/epoch - 17ms/step\n",
      "Epoch 75/200\n",
      "1/1 - 0s - loss: 0.9232 - accuracy: 0.7778 - 17ms/epoch - 17ms/step\n",
      "Epoch 76/200\n",
      "1/1 - 0s - loss: 0.9066 - accuracy: 0.7778 - 16ms/epoch - 16ms/step\n",
      "Epoch 77/200\n",
      "1/1 - 0s - loss: 0.8902 - accuracy: 0.7778 - 17ms/epoch - 17ms/step\n",
      "Epoch 78/200\n",
      "1/1 - 0s - loss: 0.8740 - accuracy: 0.7778 - 17ms/epoch - 17ms/step\n",
      "Epoch 79/200\n",
      "1/1 - 0s - loss: 0.8582 - accuracy: 0.7778 - 19ms/epoch - 19ms/step\n",
      "Epoch 80/200\n",
      "1/1 - 0s - loss: 0.8426 - accuracy: 0.7778 - 20ms/epoch - 20ms/step\n",
      "Epoch 81/200\n",
      "1/1 - 0s - loss: 0.8273 - accuracy: 0.7778 - 21ms/epoch - 21ms/step\n",
      "Epoch 82/200\n",
      "1/1 - 0s - loss: 0.8123 - accuracy: 0.7778 - 20ms/epoch - 20ms/step\n",
      "Epoch 83/200\n",
      "1/1 - 0s - loss: 0.7977 - accuracy: 0.7778 - 21ms/epoch - 21ms/step\n",
      "Epoch 84/200\n",
      "1/1 - 0s - loss: 0.7833 - accuracy: 0.7778 - 19ms/epoch - 19ms/step\n",
      "Epoch 85/200\n",
      "1/1 - 0s - loss: 0.7692 - accuracy: 0.7778 - 21ms/epoch - 21ms/step\n",
      "Epoch 86/200\n",
      "1/1 - 0s - loss: 0.7552 - accuracy: 0.7778 - 20ms/epoch - 20ms/step\n",
      "Epoch 87/200\n",
      "1/1 - 0s - loss: 0.7416 - accuracy: 0.7778 - 20ms/epoch - 20ms/step\n",
      "Epoch 88/200\n",
      "1/1 - 0s - loss: 0.7282 - accuracy: 0.7778 - 19ms/epoch - 19ms/step\n",
      "Epoch 89/200\n",
      "1/1 - 0s - loss: 0.7149 - accuracy: 0.7778 - 21ms/epoch - 21ms/step\n",
      "Epoch 90/200\n",
      "1/1 - 0s - loss: 0.7021 - accuracy: 0.7778 - 21ms/epoch - 21ms/step\n",
      "Epoch 91/200\n",
      "1/1 - 0s - loss: 0.6894 - accuracy: 0.7778 - 18ms/epoch - 18ms/step\n",
      "Epoch 92/200\n",
      "1/1 - 0s - loss: 0.6767 - accuracy: 0.7778 - 18ms/epoch - 18ms/step\n",
      "Epoch 93/200\n",
      "1/1 - 0s - loss: 0.6644 - accuracy: 0.8889 - 17ms/epoch - 17ms/step\n",
      "Epoch 94/200\n",
      "1/1 - 0s - loss: 0.6523 - accuracy: 0.8889 - 18ms/epoch - 18ms/step\n",
      "Epoch 95/200\n",
      "1/1 - 0s - loss: 0.6402 - accuracy: 0.8889 - 21ms/epoch - 21ms/step\n",
      "Epoch 96/200\n",
      "1/1 - 0s - loss: 0.6283 - accuracy: 0.8889 - 20ms/epoch - 20ms/step\n",
      "Epoch 97/200\n",
      "1/1 - 0s - loss: 0.6166 - accuracy: 0.8889 - 21ms/epoch - 21ms/step\n",
      "Epoch 98/200\n",
      "1/1 - 0s - loss: 0.6052 - accuracy: 0.8889 - 21ms/epoch - 21ms/step\n",
      "Epoch 99/200\n",
      "1/1 - 0s - loss: 0.5937 - accuracy: 0.8889 - 15ms/epoch - 15ms/step\n",
      "Epoch 100/200\n",
      "1/1 - 0s - loss: 0.5825 - accuracy: 0.8889 - 19ms/epoch - 19ms/step\n",
      "Epoch 101/200\n",
      "1/1 - 0s - loss: 0.5714 - accuracy: 0.8889 - 20ms/epoch - 20ms/step\n",
      "Epoch 102/200\n"
     ]
    },
    {
     "name": "stdout",
     "output_type": "stream",
     "text": [
      "1/1 - 0s - loss: 0.5604 - accuracy: 0.8889 - 20ms/epoch - 20ms/step\n",
      "Epoch 103/200\n",
      "1/1 - 0s - loss: 0.5496 - accuracy: 0.8889 - 21ms/epoch - 21ms/step\n",
      "Epoch 104/200\n",
      "1/1 - 0s - loss: 0.5389 - accuracy: 0.8889 - 20ms/epoch - 20ms/step\n",
      "Epoch 105/200\n",
      "1/1 - 0s - loss: 0.5283 - accuracy: 0.8889 - 19ms/epoch - 19ms/step\n",
      "Epoch 106/200\n",
      "1/1 - 0s - loss: 0.5178 - accuracy: 0.8889 - 19ms/epoch - 19ms/step\n",
      "Epoch 107/200\n",
      "1/1 - 0s - loss: 0.5074 - accuracy: 0.8889 - 20ms/epoch - 20ms/step\n",
      "Epoch 108/200\n",
      "1/1 - 0s - loss: 0.4973 - accuracy: 0.8889 - 18ms/epoch - 18ms/step\n",
      "Epoch 109/200\n",
      "1/1 - 0s - loss: 0.4872 - accuracy: 0.8889 - 20ms/epoch - 20ms/step\n",
      "Epoch 110/200\n",
      "1/1 - 0s - loss: 0.4772 - accuracy: 1.0000 - 20ms/epoch - 20ms/step\n",
      "Epoch 111/200\n",
      "1/1 - 0s - loss: 0.4672 - accuracy: 1.0000 - 21ms/epoch - 21ms/step\n",
      "Epoch 112/200\n",
      "1/1 - 0s - loss: 0.4575 - accuracy: 1.0000 - 21ms/epoch - 21ms/step\n",
      "Epoch 113/200\n",
      "1/1 - 0s - loss: 0.4478 - accuracy: 1.0000 - 17ms/epoch - 17ms/step\n",
      "Epoch 114/200\n",
      "1/1 - 0s - loss: 0.4384 - accuracy: 1.0000 - 16ms/epoch - 16ms/step\n",
      "Epoch 115/200\n",
      "1/1 - 0s - loss: 0.4290 - accuracy: 1.0000 - 18ms/epoch - 18ms/step\n",
      "Epoch 116/200\n",
      "1/1 - 0s - loss: 0.4197 - accuracy: 1.0000 - 19ms/epoch - 19ms/step\n",
      "Epoch 117/200\n",
      "1/1 - 0s - loss: 0.4106 - accuracy: 1.0000 - 19ms/epoch - 19ms/step\n",
      "Epoch 118/200\n",
      "1/1 - 0s - loss: 0.4016 - accuracy: 1.0000 - 19ms/epoch - 19ms/step\n",
      "Epoch 119/200\n",
      "1/1 - 0s - loss: 0.3928 - accuracy: 1.0000 - 16ms/epoch - 16ms/step\n",
      "Epoch 120/200\n",
      "1/1 - 0s - loss: 0.3840 - accuracy: 1.0000 - 19ms/epoch - 19ms/step\n",
      "Epoch 121/200\n",
      "1/1 - 0s - loss: 0.3754 - accuracy: 1.0000 - 16ms/epoch - 16ms/step\n",
      "Epoch 122/200\n",
      "1/1 - 0s - loss: 0.3669 - accuracy: 1.0000 - 16ms/epoch - 16ms/step\n",
      "Epoch 123/200\n",
      "1/1 - 0s - loss: 0.3586 - accuracy: 1.0000 - 17ms/epoch - 17ms/step\n",
      "Epoch 124/200\n",
      "1/1 - 0s - loss: 0.3504 - accuracy: 1.0000 - 20ms/epoch - 20ms/step\n",
      "Epoch 125/200\n",
      "1/1 - 0s - loss: 0.3424 - accuracy: 1.0000 - 21ms/epoch - 21ms/step\n",
      "Epoch 126/200\n",
      "1/1 - 0s - loss: 0.3345 - accuracy: 1.0000 - 20ms/epoch - 20ms/step\n",
      "Epoch 127/200\n",
      "1/1 - 0s - loss: 0.3267 - accuracy: 1.0000 - 21ms/epoch - 21ms/step\n",
      "Epoch 128/200\n",
      "1/1 - 0s - loss: 0.3191 - accuracy: 1.0000 - 21ms/epoch - 21ms/step\n",
      "Epoch 129/200\n",
      "1/1 - 0s - loss: 0.3116 - accuracy: 1.0000 - 23ms/epoch - 23ms/step\n",
      "Epoch 130/200\n",
      "1/1 - 0s - loss: 0.3042 - accuracy: 1.0000 - 19ms/epoch - 19ms/step\n",
      "Epoch 131/200\n",
      "1/1 - 0s - loss: 0.2970 - accuracy: 1.0000 - 18ms/epoch - 18ms/step\n",
      "Epoch 132/200\n",
      "1/1 - 0s - loss: 0.2900 - accuracy: 1.0000 - 23ms/epoch - 23ms/step\n",
      "Epoch 133/200\n",
      "1/1 - 0s - loss: 0.2832 - accuracy: 1.0000 - 21ms/epoch - 21ms/step\n",
      "Epoch 134/200\n",
      "1/1 - 0s - loss: 0.2764 - accuracy: 1.0000 - 19ms/epoch - 19ms/step\n",
      "Epoch 135/200\n",
      "1/1 - 0s - loss: 0.2698 - accuracy: 1.0000 - 22ms/epoch - 22ms/step\n",
      "Epoch 136/200\n",
      "1/1 - 0s - loss: 0.2634 - accuracy: 1.0000 - 19ms/epoch - 19ms/step\n",
      "Epoch 137/200\n",
      "1/1 - 0s - loss: 0.2571 - accuracy: 1.0000 - 18ms/epoch - 18ms/step\n",
      "Epoch 138/200\n",
      "1/1 - 0s - loss: 0.2510 - accuracy: 1.0000 - 17ms/epoch - 17ms/step\n",
      "Epoch 139/200\n",
      "1/1 - 0s - loss: 0.2449 - accuracy: 1.0000 - 22ms/epoch - 22ms/step\n",
      "Epoch 140/200\n",
      "1/1 - 0s - loss: 0.2391 - accuracy: 1.0000 - 20ms/epoch - 20ms/step\n",
      "Epoch 141/200\n",
      "1/1 - 0s - loss: 0.2334 - accuracy: 1.0000 - 19ms/epoch - 19ms/step\n",
      "Epoch 142/200\n",
      "1/1 - 0s - loss: 0.2278 - accuracy: 1.0000 - 23ms/epoch - 23ms/step\n",
      "Epoch 143/200\n",
      "1/1 - 0s - loss: 0.2224 - accuracy: 1.0000 - 20ms/epoch - 20ms/step\n",
      "Epoch 144/200\n",
      "1/1 - 0s - loss: 0.2170 - accuracy: 1.0000 - 20ms/epoch - 20ms/step\n",
      "Epoch 145/200\n",
      "1/1 - 0s - loss: 0.2119 - accuracy: 1.0000 - 22ms/epoch - 22ms/step\n",
      "Epoch 146/200\n",
      "1/1 - 0s - loss: 0.2069 - accuracy: 1.0000 - 21ms/epoch - 21ms/step\n",
      "Epoch 147/200\n",
      "1/1 - 0s - loss: 0.2020 - accuracy: 1.0000 - 22ms/epoch - 22ms/step\n",
      "Epoch 148/200\n",
      "1/1 - 0s - loss: 0.1972 - accuracy: 1.0000 - 21ms/epoch - 21ms/step\n",
      "Epoch 149/200\n",
      "1/1 - 0s - loss: 0.1926 - accuracy: 1.0000 - 20ms/epoch - 20ms/step\n",
      "Epoch 150/200\n",
      "1/1 - 0s - loss: 0.1880 - accuracy: 1.0000 - 21ms/epoch - 21ms/step\n",
      "Epoch 151/200\n",
      "1/1 - 0s - loss: 0.1837 - accuracy: 1.0000 - 16ms/epoch - 16ms/step\n",
      "Epoch 152/200\n",
      "1/1 - 0s - loss: 0.1793 - accuracy: 1.0000 - 15ms/epoch - 15ms/step\n",
      "Epoch 153/200\n",
      "1/1 - 0s - loss: 0.1752 - accuracy: 1.0000 - 19ms/epoch - 19ms/step\n",
      "Epoch 154/200\n",
      "1/1 - 0s - loss: 0.1712 - accuracy: 1.0000 - 18ms/epoch - 18ms/step\n",
      "Epoch 155/200\n",
      "1/1 - 0s - loss: 0.1672 - accuracy: 1.0000 - 18ms/epoch - 18ms/step\n",
      "Epoch 156/200\n",
      "1/1 - 0s - loss: 0.1634 - accuracy: 1.0000 - 16ms/epoch - 16ms/step\n",
      "Epoch 157/200\n",
      "1/1 - 0s - loss: 0.1597 - accuracy: 1.0000 - 17ms/epoch - 17ms/step\n",
      "Epoch 158/200\n",
      "1/1 - 0s - loss: 0.1561 - accuracy: 1.0000 - 19ms/epoch - 19ms/step\n",
      "Epoch 159/200\n",
      "1/1 - 0s - loss: 0.1526 - accuracy: 1.0000 - 17ms/epoch - 17ms/step\n",
      "Epoch 160/200\n",
      "1/1 - 0s - loss: 0.1491 - accuracy: 1.0000 - 20ms/epoch - 20ms/step\n",
      "Epoch 161/200\n",
      "1/1 - 0s - loss: 0.1458 - accuracy: 1.0000 - 21ms/epoch - 21ms/step\n",
      "Epoch 162/200\n",
      "1/1 - 0s - loss: 0.1426 - accuracy: 1.0000 - 21ms/epoch - 21ms/step\n",
      "Epoch 163/200\n",
      "1/1 - 0s - loss: 0.1394 - accuracy: 1.0000 - 20ms/epoch - 20ms/step\n",
      "Epoch 164/200\n",
      "1/1 - 0s - loss: 0.1364 - accuracy: 1.0000 - 21ms/epoch - 21ms/step\n",
      "Epoch 165/200\n",
      "1/1 - 0s - loss: 0.1334 - accuracy: 1.0000 - 20ms/epoch - 20ms/step\n",
      "Epoch 166/200\n",
      "1/1 - 0s - loss: 0.1306 - accuracy: 1.0000 - 21ms/epoch - 21ms/step\n",
      "Epoch 167/200\n",
      "1/1 - 0s - loss: 0.1278 - accuracy: 1.0000 - 17ms/epoch - 17ms/step\n",
      "Epoch 168/200\n",
      "1/1 - 0s - loss: 0.1251 - accuracy: 1.0000 - 17ms/epoch - 17ms/step\n",
      "Epoch 169/200\n",
      "1/1 - 0s - loss: 0.1224 - accuracy: 1.0000 - 16ms/epoch - 16ms/step\n",
      "Epoch 170/200\n",
      "1/1 - 0s - loss: 0.1199 - accuracy: 1.0000 - 16ms/epoch - 16ms/step\n",
      "Epoch 171/200\n",
      "1/1 - 0s - loss: 0.1174 - accuracy: 1.0000 - 18ms/epoch - 18ms/step\n",
      "Epoch 172/200\n",
      "1/1 - 0s - loss: 0.1149 - accuracy: 1.0000 - 18ms/epoch - 18ms/step\n",
      "Epoch 173/200\n",
      "1/1 - 0s - loss: 0.1126 - accuracy: 1.0000 - 18ms/epoch - 18ms/step\n",
      "Epoch 174/200\n",
      "1/1 - 0s - loss: 0.1103 - accuracy: 1.0000 - 19ms/epoch - 19ms/step\n",
      "Epoch 175/200\n",
      "1/1 - 0s - loss: 0.1081 - accuracy: 1.0000 - 17ms/epoch - 17ms/step\n",
      "Epoch 176/200\n",
      "1/1 - 0s - loss: 0.1059 - accuracy: 1.0000 - 19ms/epoch - 19ms/step\n",
      "Epoch 177/200\n",
      "1/1 - 0s - loss: 0.1038 - accuracy: 1.0000 - 22ms/epoch - 22ms/step\n",
      "Epoch 178/200\n",
      "1/1 - 0s - loss: 0.1018 - accuracy: 1.0000 - 20ms/epoch - 20ms/step\n",
      "Epoch 179/200\n",
      "1/1 - 0s - loss: 0.0998 - accuracy: 1.0000 - 20ms/epoch - 20ms/step\n",
      "Epoch 180/200\n",
      "1/1 - 0s - loss: 0.0979 - accuracy: 1.0000 - 22ms/epoch - 22ms/step\n",
      "Epoch 181/200\n",
      "1/1 - 0s - loss: 0.0960 - accuracy: 1.0000 - 24ms/epoch - 24ms/step\n",
      "Epoch 182/200\n",
      "1/1 - 0s - loss: 0.0942 - accuracy: 1.0000 - 23ms/epoch - 23ms/step\n",
      "Epoch 183/200\n",
      "1/1 - 0s - loss: 0.0924 - accuracy: 1.0000 - 21ms/epoch - 21ms/step\n",
      "Epoch 184/200\n",
      "1/1 - 0s - loss: 0.0906 - accuracy: 1.0000 - 23ms/epoch - 23ms/step\n",
      "Epoch 185/200\n",
      "1/1 - 0s - loss: 0.0890 - accuracy: 1.0000 - 18ms/epoch - 18ms/step\n",
      "Epoch 186/200\n",
      "1/1 - 0s - loss: 0.0873 - accuracy: 1.0000 - 18ms/epoch - 18ms/step\n",
      "Epoch 187/200\n",
      "1/1 - 0s - loss: 0.0857 - accuracy: 1.0000 - 18ms/epoch - 18ms/step\n",
      "Epoch 188/200\n",
      "1/1 - 0s - loss: 0.0842 - accuracy: 1.0000 - 22ms/epoch - 22ms/step\n",
      "Epoch 189/200\n",
      "1/1 - 0s - loss: 0.0827 - accuracy: 1.0000 - 22ms/epoch - 22ms/step\n",
      "Epoch 190/200\n",
      "1/1 - 0s - loss: 0.0812 - accuracy: 1.0000 - 21ms/epoch - 21ms/step\n",
      "Epoch 191/200\n",
      "1/1 - 0s - loss: 0.0798 - accuracy: 1.0000 - 23ms/epoch - 23ms/step\n",
      "Epoch 192/200\n",
      "1/1 - 0s - loss: 0.0784 - accuracy: 1.0000 - 20ms/epoch - 20ms/step\n",
      "Epoch 193/200\n",
      "1/1 - 0s - loss: 0.0770 - accuracy: 1.0000 - 21ms/epoch - 21ms/step\n",
      "Epoch 194/200\n",
      "1/1 - 0s - loss: 0.0757 - accuracy: 1.0000 - 24ms/epoch - 24ms/step\n",
      "Epoch 195/200\n",
      "1/1 - 0s - loss: 0.0744 - accuracy: 1.0000 - 21ms/epoch - 21ms/step\n",
      "Epoch 196/200\n",
      "1/1 - 0s - loss: 0.0732 - accuracy: 1.0000 - 18ms/epoch - 18ms/step\n",
      "Epoch 197/200\n",
      "1/1 - 0s - loss: 0.0720 - accuracy: 1.0000 - 22ms/epoch - 22ms/step\n",
      "Epoch 198/200\n",
      "1/1 - 0s - loss: 0.0708 - accuracy: 1.0000 - 18ms/epoch - 18ms/step\n",
      "Epoch 199/200\n",
      "1/1 - 0s - loss: 0.0696 - accuracy: 1.0000 - 18ms/epoch - 18ms/step\n",
      "Epoch 200/200\n",
      "1/1 - 0s - loss: 0.0685 - accuracy: 1.0000 - 21ms/epoch - 21ms/step\n"
     ]
    },
    {
     "data": {
      "text/plain": [
       "<keras.callbacks.History at 0x31257dc0>"
      ]
     },
     "execution_count": 17,
     "metadata": {},
     "output_type": "execute_result"
    }
   ],
   "source": [
    "model.compile(loss='categorical_crossentropy', optimizer='adam', metrics=['accuracy'])\n",
    "model.fit(X, y, epochs=200, verbose=2)"
   ]
  },
  {
   "cell_type": "code",
   "execution_count": null,
   "metadata": {},
   "outputs": [],
   "source": []
  },
  {
   "cell_type": "code",
   "execution_count": 18,
   "metadata": {},
   "outputs": [],
   "source": [
    "def sentence_generation(model, tokenizer, current_word, n):\n",
    "    init_word = current_word\n",
    "    sentence = ''\n",
    "    \n",
    "    for _ in range(n):\n",
    "        #encording & padding\n",
    "        encoded = tokenizer.texts_to_sequences([current_word])[0]\n",
    "        encoded = pad_sequences([encoded], maxlen=5, padding='pre')\n",
    "        \n",
    "        result = model.predict(encoded, verbose=0)\n",
    "        print(result,\"\\n\")\n",
    "        result = np.argmax(result, axis=1)\n",
    "        \n",
    "        for word, index in tokenizer.word_index.items():\n",
    "            if index == result:\n",
    "                break\n",
    "                \n",
    "        current_word = current_word + ' ' + word\n",
    "        sentence = sentence + ' ' + word\n",
    "        \n",
    "    sentence = init_word + sentence\n",
    "    \n",
    "    return sentence"
   ]
  },
  {
   "cell_type": "code",
   "execution_count": 20,
   "metadata": {},
   "outputs": [
    {
     "name": "stdout",
     "output_type": "stream",
     "text": [
      "[[7.4991811e-04 9.5172209e-01 4.1163312e-03 2.0920450e-03 1.3026928e-03\n",
      "  3.0452847e-02 1.3999537e-03 5.2934848e-03 2.8705851e-03]] \n",
      "\n",
      "[[4.8426865e-03 3.9151944e-02 1.4619547e-02 3.5878629e-03 5.8914307e-03\n",
      "  8.7554902e-01 1.6338956e-03 3.2414953e-04 5.4399390e-02]] \n",
      "\n",
      "[[7.5530676e-05 2.0256302e-04 9.9451232e-01 1.1349673e-04 1.1266001e-03\n",
      "  4.3063282e-04 7.2951909e-05 1.5072075e-03 1.9586843e-03]] \n",
      "\n"
     ]
    },
    {
     "data": {
      "text/plain": [
       "'That is so sick'"
      ]
     },
     "execution_count": 20,
     "metadata": {},
     "output_type": "execute_result"
    }
   ],
   "source": [
    "sentence_generation(model, tokenizer, \"That\", 3)"
   ]
  },
  {
   "cell_type": "code",
   "execution_count": 21,
   "metadata": {},
   "outputs": [
    {
     "name": "stdout",
     "output_type": "stream",
     "text": [
      "[[0.00628905 0.28523317 0.52123606 0.00439475 0.00496216 0.10513956\n",
      "  0.00396619 0.01373723 0.05504186]] \n",
      "\n",
      "[[0.00214279 0.27497113 0.07058426 0.00212181 0.00387782 0.00376626\n",
      "  0.00474772 0.6353277  0.00246052]] \n",
      "\n",
      "[[2.5653986e-03 9.7502851e-01 3.2470524e-04 3.7379065e-03 2.0932181e-04\n",
      "  1.4645806e-02 9.5541956e-04 1.0463791e-03 1.4866423e-03]] \n",
      "\n",
      "[[3.7548605e-03 5.3566549e-04 5.1840851e-03 1.8490843e-03 4.0181293e-03\n",
      "  1.9605119e-02 2.1620439e-03 1.8798329e-04 9.6270299e-01]] \n",
      "\n",
      "[[0.00304753 0.00380214 0.3053477  0.00726334 0.01690933 0.0009032\n",
      "  0.00636685 0.65458554 0.0017744 ]] \n",
      "\n"
     ]
    },
    {
     "data": {
      "text/plain": [
       "'The sick cat is dying cat'"
      ]
     },
     "execution_count": 21,
     "metadata": {},
     "output_type": "execute_result"
    }
   ],
   "source": [
    "sentence_generation(model, tokenizer, \"The\", 5)"
   ]
  },
  {
   "cell_type": "code",
   "execution_count": null,
   "metadata": {},
   "outputs": [],
   "source": []
  }
 ],
 "metadata": {
  "kernelspec": {
   "display_name": "Python 3",
   "language": "python",
   "name": "python3"
  },
  "language_info": {
   "codemirror_mode": {
    "name": "ipython",
    "version": 3
   },
   "file_extension": ".py",
   "mimetype": "text/x-python",
   "name": "python",
   "nbconvert_exporter": "python",
   "pygments_lexer": "ipython3",
   "version": "3.8.5"
  }
 },
 "nbformat": 4,
 "nbformat_minor": 5
}
