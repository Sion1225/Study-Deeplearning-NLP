{
  "nbformat": 4,
  "nbformat_minor": 0,
  "metadata": {
    "colab": {
      "provenance": [],
      "mount_file_id": "1Vyebt81Yboszze1PMH87J_BRUzbWkY1G",
      "authorship_tag": "ABX9TyP9y9lVmtSmqYbOruGV8DR2",
      "include_colab_link": true
    },
    "kernelspec": {
      "name": "python3",
      "display_name": "Python 3"
    },
    "language_info": {
      "name": "python"
    }
  },
  "cells": [
    {
      "cell_type": "markdown",
      "metadata": {
        "id": "view-in-github",
        "colab_type": "text"
      },
      "source": [
        "<a href=\"https://colab.research.google.com/github/Sion1225/Study-Deeplearning-NLP/blob/master/Character%20Level%20Neural%20Machine%20Translation%20with%20Seq2Seq.ipynb\" target=\"_parent\"><img src=\"https://colab.research.google.com/assets/colab-badge.svg\" alt=\"Open In Colab\"/></a>"
      ]
    },
    {
      "cell_type": "code",
      "execution_count": 3,
      "metadata": {
        "id": "51GWF3AQxBZP"
      },
      "outputs": [],
      "source": [
        "\"\"\"\n",
        "import os\n",
        "import shutil\n",
        "import zipfile\n",
        "\"\"\"\n",
        "\n",
        "import pandas as pd\n",
        "import tensorflow as tf\n",
        "import urllib3\n",
        "from tensorflow.keras.preprocessing.sequence import pad_sequences\n",
        "from tensorflow.keras.utils import to_categorical"
      ]
    },
    {
      "cell_type": "code",
      "source": [
        "\"\"\"\n",
        "http = urllib3.PoolManager()\n",
        "url ='http://www.manythings.org/anki/fra-eng.zip'\n",
        "filename = 'fra-eng.zip'\n",
        "path = os.getcwd()\n",
        "zipfilename = os.path.join(path, filename)\n",
        "with http.request('GET', url, preload_content=False) as r, open(zipfilename, 'wb') as out_file:       \n",
        "    shutil.copyfileobj(r, out_file)\n",
        "\n",
        "with zipfile.ZipFile(zipfilename, 'r') as zip_ref:\n",
        "    zip_ref.extractall(path)\n",
        "\"\"\""
      ],
      "metadata": {
        "colab": {
          "base_uri": "https://localhost:8080/",
          "height": 90
        },
        "id": "higkx6fvx8cU",
        "outputId": "ecbfe54d-bc2f-492f-a4af-79f5e918a1b0"
      },
      "execution_count": 4,
      "outputs": [
        {
          "output_type": "execute_result",
          "data": {
            "text/plain": [
              "\"\\nhttp = urllib3.PoolManager()\\nurl ='http://www.manythings.org/anki/fra-eng.zip'\\nfilename = 'fra-eng.zip'\\npath = os.getcwd()\\nzipfilename = os.path.join(path, filename)\\nwith http.request('GET', url, preload_content=False) as r, open(zipfilename, 'wb') as out_file:       \\n    shutil.copyfileobj(r, out_file)\\n\\nwith zipfile.ZipFile(zipfilename, 'r') as zip_ref:\\n    zip_ref.extractall(path)\\n\""
            ],
            "application/vnd.google.colaboratory.intrinsic+json": {
              "type": "string"
            }
          },
          "metadata": {},
          "execution_count": 4
        }
      ]
    },
    {
      "cell_type": "code",
      "source": [
        "lines = pd.read_csv(\"/content/drive/MyDrive/GitHub/Study-Deeplearning-NLP/DataSet/spa.txt\", names=[\"src\", \"tar\", \"lic\"], sep='\\t')\n",
        "del lines[\"lic\"]\n",
        "print(\"Count of all semples : \", len(lines))"
      ],
      "metadata": {
        "colab": {
          "base_uri": "https://localhost:8080/"
        },
        "id": "vWFEnL7RyORc",
        "outputId": "19a23eee-077e-47bf-bf49-e95d496ea8f3"
      },
      "execution_count": 5,
      "outputs": [
        {
          "output_type": "stream",
          "name": "stdout",
          "text": [
            "Count of all semples :  139013\n"
          ]
        }
      ]
    },
    {
      "cell_type": "code",
      "source": [
        "print(lines[:5])"
      ],
      "metadata": {
        "colab": {
          "base_uri": "https://localhost:8080/"
        },
        "id": "kgmLooB6zVQX",
        "outputId": "73988b1a-7b55-4dad-f446-a5a55e2bcacb"
      },
      "execution_count": 7,
      "outputs": [
        {
          "output_type": "stream",
          "name": "stdout",
          "text": [
            "   src      tar\n",
            "0  Go.      Ve.\n",
            "1  Go.    Vete.\n",
            "2  Go.    Vaya.\n",
            "3  Go.  Váyase.\n",
            "4  Hi.    Hola.\n"
          ]
        }
      ]
    },
    {
      "cell_type": "code",
      "source": [
        "lines.sample(10)"
      ],
      "metadata": {
        "colab": {
          "base_uri": "https://localhost:8080/",
          "height": 363
        },
        "id": "catV1UIk4gjf",
        "outputId": "8a874788-5d93-49ad-b0c5-966cf81ade61"
      },
      "execution_count": 9,
      "outputs": [
        {
          "output_type": "execute_result",
          "data": {
            "text/plain": [
              "                                   src                                    tar\n",
              "28858            I can understand Tom.                  Puedo entender a Tom.\n",
              "57807      He comes here once a month.          Él viene aquí una vez al mes.\n",
              "55907       Tom doesn't speak to Mary.         Tom no está hablando con Mary.\n",
              "73738   It looks like this car is his.          Parece que este auto es suyo.\n",
              "31491            Tom saw Mary smiling.               Tom vio a Mary soriendo.\n",
              "69205    It's been snowing on and off.               Nieva intermitentemente.\n",
              "29929            It may rain tomorrow.          Es posible que llueva mañana.\n",
              "47878        He became rich overnight.  Se hizo rico de la noche a la mañana.\n",
              "77169  I can lend you one if you want.       Te puedo prestar uno si quieres.\n",
              "16088               He's his own boss.                  Él es su propio jefe."
            ],
            "text/html": [
              "\n",
              "  <div id=\"df-389551e1-8be8-4c8e-9b2a-a83743cf6c56\">\n",
              "    <div class=\"colab-df-container\">\n",
              "      <div>\n",
              "<style scoped>\n",
              "    .dataframe tbody tr th:only-of-type {\n",
              "        vertical-align: middle;\n",
              "    }\n",
              "\n",
              "    .dataframe tbody tr th {\n",
              "        vertical-align: top;\n",
              "    }\n",
              "\n",
              "    .dataframe thead th {\n",
              "        text-align: right;\n",
              "    }\n",
              "</style>\n",
              "<table border=\"1\" class=\"dataframe\">\n",
              "  <thead>\n",
              "    <tr style=\"text-align: right;\">\n",
              "      <th></th>\n",
              "      <th>src</th>\n",
              "      <th>tar</th>\n",
              "    </tr>\n",
              "  </thead>\n",
              "  <tbody>\n",
              "    <tr>\n",
              "      <th>28858</th>\n",
              "      <td>I can understand Tom.</td>\n",
              "      <td>Puedo entender a Tom.</td>\n",
              "    </tr>\n",
              "    <tr>\n",
              "      <th>57807</th>\n",
              "      <td>He comes here once a month.</td>\n",
              "      <td>Él viene aquí una vez al mes.</td>\n",
              "    </tr>\n",
              "    <tr>\n",
              "      <th>55907</th>\n",
              "      <td>Tom doesn't speak to Mary.</td>\n",
              "      <td>Tom no está hablando con Mary.</td>\n",
              "    </tr>\n",
              "    <tr>\n",
              "      <th>73738</th>\n",
              "      <td>It looks like this car is his.</td>\n",
              "      <td>Parece que este auto es suyo.</td>\n",
              "    </tr>\n",
              "    <tr>\n",
              "      <th>31491</th>\n",
              "      <td>Tom saw Mary smiling.</td>\n",
              "      <td>Tom vio a Mary soriendo.</td>\n",
              "    </tr>\n",
              "    <tr>\n",
              "      <th>69205</th>\n",
              "      <td>It's been snowing on and off.</td>\n",
              "      <td>Nieva intermitentemente.</td>\n",
              "    </tr>\n",
              "    <tr>\n",
              "      <th>29929</th>\n",
              "      <td>It may rain tomorrow.</td>\n",
              "      <td>Es posible que llueva mañana.</td>\n",
              "    </tr>\n",
              "    <tr>\n",
              "      <th>47878</th>\n",
              "      <td>He became rich overnight.</td>\n",
              "      <td>Se hizo rico de la noche a la mañana.</td>\n",
              "    </tr>\n",
              "    <tr>\n",
              "      <th>77169</th>\n",
              "      <td>I can lend you one if you want.</td>\n",
              "      <td>Te puedo prestar uno si quieres.</td>\n",
              "    </tr>\n",
              "    <tr>\n",
              "      <th>16088</th>\n",
              "      <td>He's his own boss.</td>\n",
              "      <td>Él es su propio jefe.</td>\n",
              "    </tr>\n",
              "  </tbody>\n",
              "</table>\n",
              "</div>\n",
              "      <button class=\"colab-df-convert\" onclick=\"convertToInteractive('df-389551e1-8be8-4c8e-9b2a-a83743cf6c56')\"\n",
              "              title=\"Convert this dataframe to an interactive table.\"\n",
              "              style=\"display:none;\">\n",
              "        \n",
              "  <svg xmlns=\"http://www.w3.org/2000/svg\" height=\"24px\"viewBox=\"0 0 24 24\"\n",
              "       width=\"24px\">\n",
              "    <path d=\"M0 0h24v24H0V0z\" fill=\"none\"/>\n",
              "    <path d=\"M18.56 5.44l.94 2.06.94-2.06 2.06-.94-2.06-.94-.94-2.06-.94 2.06-2.06.94zm-11 1L8.5 8.5l.94-2.06 2.06-.94-2.06-.94L8.5 2.5l-.94 2.06-2.06.94zm10 10l.94 2.06.94-2.06 2.06-.94-2.06-.94-.94-2.06-.94 2.06-2.06.94z\"/><path d=\"M17.41 7.96l-1.37-1.37c-.4-.4-.92-.59-1.43-.59-.52 0-1.04.2-1.43.59L10.3 9.45l-7.72 7.72c-.78.78-.78 2.05 0 2.83L4 21.41c.39.39.9.59 1.41.59.51 0 1.02-.2 1.41-.59l7.78-7.78 2.81-2.81c.8-.78.8-2.07 0-2.86zM5.41 20L4 18.59l7.72-7.72 1.47 1.35L5.41 20z\"/>\n",
              "  </svg>\n",
              "      </button>\n",
              "      \n",
              "  <style>\n",
              "    .colab-df-container {\n",
              "      display:flex;\n",
              "      flex-wrap:wrap;\n",
              "      gap: 12px;\n",
              "    }\n",
              "\n",
              "    .colab-df-convert {\n",
              "      background-color: #E8F0FE;\n",
              "      border: none;\n",
              "      border-radius: 50%;\n",
              "      cursor: pointer;\n",
              "      display: none;\n",
              "      fill: #1967D2;\n",
              "      height: 32px;\n",
              "      padding: 0 0 0 0;\n",
              "      width: 32px;\n",
              "    }\n",
              "\n",
              "    .colab-df-convert:hover {\n",
              "      background-color: #E2EBFA;\n",
              "      box-shadow: 0px 1px 2px rgba(60, 64, 67, 0.3), 0px 1px 3px 1px rgba(60, 64, 67, 0.15);\n",
              "      fill: #174EA6;\n",
              "    }\n",
              "\n",
              "    [theme=dark] .colab-df-convert {\n",
              "      background-color: #3B4455;\n",
              "      fill: #D2E3FC;\n",
              "    }\n",
              "\n",
              "    [theme=dark] .colab-df-convert:hover {\n",
              "      background-color: #434B5C;\n",
              "      box-shadow: 0px 1px 3px 1px rgba(0, 0, 0, 0.15);\n",
              "      filter: drop-shadow(0px 1px 2px rgba(0, 0, 0, 0.3));\n",
              "      fill: #FFFFFF;\n",
              "    }\n",
              "  </style>\n",
              "\n",
              "      <script>\n",
              "        const buttonEl =\n",
              "          document.querySelector('#df-389551e1-8be8-4c8e-9b2a-a83743cf6c56 button.colab-df-convert');\n",
              "        buttonEl.style.display =\n",
              "          google.colab.kernel.accessAllowed ? 'block' : 'none';\n",
              "\n",
              "        async function convertToInteractive(key) {\n",
              "          const element = document.querySelector('#df-389551e1-8be8-4c8e-9b2a-a83743cf6c56');\n",
              "          const dataTable =\n",
              "            await google.colab.kernel.invokeFunction('convertToInteractive',\n",
              "                                                     [key], {});\n",
              "          if (!dataTable) return;\n",
              "\n",
              "          const docLinkHtml = 'Like what you see? Visit the ' +\n",
              "            '<a target=\"_blank\" href=https://colab.research.google.com/notebooks/data_table.ipynb>data table notebook</a>'\n",
              "            + ' to learn more about interactive tables.';\n",
              "          element.innerHTML = '';\n",
              "          dataTable['output_type'] = 'display_data';\n",
              "          await google.colab.output.renderOutput(dataTable, element);\n",
              "          const docLink = document.createElement('div');\n",
              "          docLink.innerHTML = docLinkHtml;\n",
              "          element.appendChild(docLink);\n",
              "        }\n",
              "      </script>\n",
              "    </div>\n",
              "  </div>\n",
              "  "
            ]
          },
          "metadata": {},
          "execution_count": 9
        }
      ]
    },
    {
      "cell_type": "code",
      "source": [
        "lines.tar = lines.tar.apply(lambda x : \"<sos>\" + x + \"<eos>\")\n",
        "lines.sample(10)"
      ],
      "metadata": {
        "colab": {
          "base_uri": "https://localhost:8080/",
          "height": 363
        },
        "id": "ehb8KVJ04rR0",
        "outputId": "c8c0c72c-9a55-42e9-bd82-083b657f2ed3"
      },
      "execution_count": 10,
      "outputs": [
        {
          "output_type": "execute_result",
          "data": {
            "text/plain": [
              "                                              src                                                tar\n",
              "70247               This TV is big and expensive.        <sos>Esta televisión es grande y cara.<eos>\n",
              "83481            Since I'm here, let me help you.   <sos>Dado que estoy acá, déjenme ayudarlos.<eos>\n",
              "57369                 Cars are getting expensive.       <sos>Los autos se están poniendo caros.<eos>\n",
              "95710         The phone rang and Tom answered it.         <sos>El teléfono sonó y Tom contestó.<eos>\n",
              "39406                     I'm going to the dance.                       <sos>Voy a ir al baile.<eos>\n",
              "113447  Tom felt very guilty about what happened.  <sos>Tom se sentía muy culpable por lo sucedid...\n",
              "31077                       This was Tom's chair.                <sos>Esta era la silla de Tom.<eos>\n",
              "77037             His house is not far from here.           <sos>Su casa no está lejos de aquí.<eos>\n",
              "56627                  What do we need money for?            <sos>¿Para qué necesitamos dinero?<eos>\n",
              "5423                               I see a queen.                           <sos>Veo una reina.<eos>"
            ],
            "text/html": [
              "\n",
              "  <div id=\"df-fed4f13f-3188-44b5-9051-7d85dcbbbbbd\">\n",
              "    <div class=\"colab-df-container\">\n",
              "      <div>\n",
              "<style scoped>\n",
              "    .dataframe tbody tr th:only-of-type {\n",
              "        vertical-align: middle;\n",
              "    }\n",
              "\n",
              "    .dataframe tbody tr th {\n",
              "        vertical-align: top;\n",
              "    }\n",
              "\n",
              "    .dataframe thead th {\n",
              "        text-align: right;\n",
              "    }\n",
              "</style>\n",
              "<table border=\"1\" class=\"dataframe\">\n",
              "  <thead>\n",
              "    <tr style=\"text-align: right;\">\n",
              "      <th></th>\n",
              "      <th>src</th>\n",
              "      <th>tar</th>\n",
              "    </tr>\n",
              "  </thead>\n",
              "  <tbody>\n",
              "    <tr>\n",
              "      <th>70247</th>\n",
              "      <td>This TV is big and expensive.</td>\n",
              "      <td>&lt;sos&gt;Esta televisión es grande y cara.&lt;eos&gt;</td>\n",
              "    </tr>\n",
              "    <tr>\n",
              "      <th>83481</th>\n",
              "      <td>Since I'm here, let me help you.</td>\n",
              "      <td>&lt;sos&gt;Dado que estoy acá, déjenme ayudarlos.&lt;eos&gt;</td>\n",
              "    </tr>\n",
              "    <tr>\n",
              "      <th>57369</th>\n",
              "      <td>Cars are getting expensive.</td>\n",
              "      <td>&lt;sos&gt;Los autos se están poniendo caros.&lt;eos&gt;</td>\n",
              "    </tr>\n",
              "    <tr>\n",
              "      <th>95710</th>\n",
              "      <td>The phone rang and Tom answered it.</td>\n",
              "      <td>&lt;sos&gt;El teléfono sonó y Tom contestó.&lt;eos&gt;</td>\n",
              "    </tr>\n",
              "    <tr>\n",
              "      <th>39406</th>\n",
              "      <td>I'm going to the dance.</td>\n",
              "      <td>&lt;sos&gt;Voy a ir al baile.&lt;eos&gt;</td>\n",
              "    </tr>\n",
              "    <tr>\n",
              "      <th>113447</th>\n",
              "      <td>Tom felt very guilty about what happened.</td>\n",
              "      <td>&lt;sos&gt;Tom se sentía muy culpable por lo sucedid...</td>\n",
              "    </tr>\n",
              "    <tr>\n",
              "      <th>31077</th>\n",
              "      <td>This was Tom's chair.</td>\n",
              "      <td>&lt;sos&gt;Esta era la silla de Tom.&lt;eos&gt;</td>\n",
              "    </tr>\n",
              "    <tr>\n",
              "      <th>77037</th>\n",
              "      <td>His house is not far from here.</td>\n",
              "      <td>&lt;sos&gt;Su casa no está lejos de aquí.&lt;eos&gt;</td>\n",
              "    </tr>\n",
              "    <tr>\n",
              "      <th>56627</th>\n",
              "      <td>What do we need money for?</td>\n",
              "      <td>&lt;sos&gt;¿Para qué necesitamos dinero?&lt;eos&gt;</td>\n",
              "    </tr>\n",
              "    <tr>\n",
              "      <th>5423</th>\n",
              "      <td>I see a queen.</td>\n",
              "      <td>&lt;sos&gt;Veo una reina.&lt;eos&gt;</td>\n",
              "    </tr>\n",
              "  </tbody>\n",
              "</table>\n",
              "</div>\n",
              "      <button class=\"colab-df-convert\" onclick=\"convertToInteractive('df-fed4f13f-3188-44b5-9051-7d85dcbbbbbd')\"\n",
              "              title=\"Convert this dataframe to an interactive table.\"\n",
              "              style=\"display:none;\">\n",
              "        \n",
              "  <svg xmlns=\"http://www.w3.org/2000/svg\" height=\"24px\"viewBox=\"0 0 24 24\"\n",
              "       width=\"24px\">\n",
              "    <path d=\"M0 0h24v24H0V0z\" fill=\"none\"/>\n",
              "    <path d=\"M18.56 5.44l.94 2.06.94-2.06 2.06-.94-2.06-.94-.94-2.06-.94 2.06-2.06.94zm-11 1L8.5 8.5l.94-2.06 2.06-.94-2.06-.94L8.5 2.5l-.94 2.06-2.06.94zm10 10l.94 2.06.94-2.06 2.06-.94-2.06-.94-.94-2.06-.94 2.06-2.06.94z\"/><path d=\"M17.41 7.96l-1.37-1.37c-.4-.4-.92-.59-1.43-.59-.52 0-1.04.2-1.43.59L10.3 9.45l-7.72 7.72c-.78.78-.78 2.05 0 2.83L4 21.41c.39.39.9.59 1.41.59.51 0 1.02-.2 1.41-.59l7.78-7.78 2.81-2.81c.8-.78.8-2.07 0-2.86zM5.41 20L4 18.59l7.72-7.72 1.47 1.35L5.41 20z\"/>\n",
              "  </svg>\n",
              "      </button>\n",
              "      \n",
              "  <style>\n",
              "    .colab-df-container {\n",
              "      display:flex;\n",
              "      flex-wrap:wrap;\n",
              "      gap: 12px;\n",
              "    }\n",
              "\n",
              "    .colab-df-convert {\n",
              "      background-color: #E8F0FE;\n",
              "      border: none;\n",
              "      border-radius: 50%;\n",
              "      cursor: pointer;\n",
              "      display: none;\n",
              "      fill: #1967D2;\n",
              "      height: 32px;\n",
              "      padding: 0 0 0 0;\n",
              "      width: 32px;\n",
              "    }\n",
              "\n",
              "    .colab-df-convert:hover {\n",
              "      background-color: #E2EBFA;\n",
              "      box-shadow: 0px 1px 2px rgba(60, 64, 67, 0.3), 0px 1px 3px 1px rgba(60, 64, 67, 0.15);\n",
              "      fill: #174EA6;\n",
              "    }\n",
              "\n",
              "    [theme=dark] .colab-df-convert {\n",
              "      background-color: #3B4455;\n",
              "      fill: #D2E3FC;\n",
              "    }\n",
              "\n",
              "    [theme=dark] .colab-df-convert:hover {\n",
              "      background-color: #434B5C;\n",
              "      box-shadow: 0px 1px 3px 1px rgba(0, 0, 0, 0.15);\n",
              "      filter: drop-shadow(0px 1px 2px rgba(0, 0, 0, 0.3));\n",
              "      fill: #FFFFFF;\n",
              "    }\n",
              "  </style>\n",
              "\n",
              "      <script>\n",
              "        const buttonEl =\n",
              "          document.querySelector('#df-fed4f13f-3188-44b5-9051-7d85dcbbbbbd button.colab-df-convert');\n",
              "        buttonEl.style.display =\n",
              "          google.colab.kernel.accessAllowed ? 'block' : 'none';\n",
              "\n",
              "        async function convertToInteractive(key) {\n",
              "          const element = document.querySelector('#df-fed4f13f-3188-44b5-9051-7d85dcbbbbbd');\n",
              "          const dataTable =\n",
              "            await google.colab.kernel.invokeFunction('convertToInteractive',\n",
              "                                                     [key], {});\n",
              "          if (!dataTable) return;\n",
              "\n",
              "          const docLinkHtml = 'Like what you see? Visit the ' +\n",
              "            '<a target=\"_blank\" href=https://colab.research.google.com/notebooks/data_table.ipynb>data table notebook</a>'\n",
              "            + ' to learn more about interactive tables.';\n",
              "          element.innerHTML = '';\n",
              "          dataTable['output_type'] = 'display_data';\n",
              "          await google.colab.output.renderOutput(dataTable, element);\n",
              "          const docLink = document.createElement('div');\n",
              "          docLink.innerHTML = docLinkHtml;\n",
              "          element.appendChild(docLink);\n",
              "        }\n",
              "      </script>\n",
              "    </div>\n",
              "  </div>\n",
              "  "
            ]
          },
          "metadata": {},
          "execution_count": 10
        }
      ]
    },
    {
      "cell_type": "code",
      "source": [
        "src_vocab = set()\n",
        "for line in lines.src :\n",
        "    for char in line :\n",
        "        src_vocab.add(char)\n",
        "\n",
        "tar_vocab = set()\n",
        "for line in lines.tar:\n",
        "    for char in line:\n",
        "        tar_vocab.add(char)"
      ],
      "metadata": {
        "id": "2t6lwLmEiC4l"
      },
      "execution_count": 11,
      "outputs": []
    },
    {
      "cell_type": "code",
      "source": [
        "src_vocab_size = len(src_vocab) + 1\n",
        "tar_vocab_size = len(tar_vocab) + 1\n",
        "print(\"Source sentences' char set :\",src_vocab_size)\n",
        "print(\"Target sentences' char set :\",tar_vocab_size)"
      ],
      "metadata": {
        "colab": {
          "base_uri": "https://localhost:8080/"
        },
        "id": "Iv-IaBYLxIxB",
        "outputId": "f9c8458c-dfd0-497b-a625-4e0085e60e62"
      },
      "execution_count": 12,
      "outputs": [
        {
          "output_type": "stream",
          "name": "stdout",
          "text": [
            "Source sentences' char set : 92\n",
            "Target sentences' char set : 112\n"
          ]
        }
      ]
    },
    {
      "cell_type": "code",
      "source": [
        "print(src_vocab)\n",
        "print(tar_vocab)"
      ],
      "metadata": {
        "colab": {
          "base_uri": "https://localhost:8080/"
        },
        "id": "BaUaySWfxdew",
        "outputId": "5f427632-d07a-45b4-9faf-92f0017247cc"
      },
      "execution_count": 15,
      "outputs": [
        {
          "output_type": "stream",
          "name": "stdout",
          "text": [
            "{'?', '6', 'á', '’', '2', '$', 'Y', 'q', 'U', 'n', 'R', 'l', '.', ' ', 'b', 'u', 'L', '(', 'F', 'z', '0', 'B', 'T', 'A', ',', '+', 'W', '\"', 's', 'r', 'h', 'ü', '4', '9', '%', 'ê', 'x', '-', 'j', '\\xa0', 'M', '/', 'ã', 'H', 'g', '7', 'D', 'é', 'v', 'c', 'w', '°', 'i', 'd', 'Z', 'V', 'f', 'C', '3', 'G', 'o', 'J', ')', 'N', 'k', '5', 'P', 'm', 'p', '1', 'e', 'I', 't', '₂', 'ó', ';', 'O', 'a', '€', 'X', 'S', '‘', '8', 'K', 'y', 'E', \"'\", 'Q', '!', ':', 'č'}\n",
            "{'?', '6', 'á', '—', '2', 'Í', '$', '»', '«', '<', 'Y', 'q', 'U', 'n', 'l', ' ', '.', 'R', 'b', 'É', 'u', 'L', '(', '>', '¨', '¡', 'F', 'ś', 'z', '0', 'T', 'B', 'A', ',', '¿', '+', 'W', '\"', 's', 'r', 'h', 'ü', '4', '9', '%', 'ê', 'x', 'с', '-', 'j', 'º', 'M', 'Á', '\\xa0', '/', 'H', 'g', '7', 'D', 'é', '&', 'v', 'c', 'w', '°', 'i', 'd', 'Z', 'V', 'f', 'C', 'ñ', '3', 'G', 'o', 'J', ')', '´', 'N', 'k', '5', 'P', 'm', 'ú', 'p', '1', 'e', 'I', 't', 'ó', '₂', ';', 'O', 'a', '€', 'X', 'S', 'Ó', '8', 'K', 'y', 'E', 'ª', '\\u200b', \"'\", 'Q', 'í', 'Ú', '!', ':', 'č'}\n"
          ]
        }
      ]
    },
    {
      "cell_type": "code",
      "source": [
        "src_vocab = sorted(list(src_vocab))\n",
        "tar_vocab = sorted(list(tar_vocab))\n",
        "print(src_vocab[26:75])\n",
        "print(tar_vocab[26:75])"
      ],
      "metadata": {
        "colab": {
          "base_uri": "https://localhost:8080/"
        },
        "id": "Y7HMom5Oxgis",
        "outputId": "d7e4ee53-136b-4ee3-ea3d-6a344f1fa16d"
      },
      "execution_count": 19,
      "outputs": [
        {
          "output_type": "stream",
          "name": "stdout",
          "text": [
            "['A', 'B', 'C', 'D', 'E', 'F', 'G', 'H', 'I', 'J', 'K', 'L', 'M', 'N', 'O', 'P', 'Q', 'R', 'S', 'T', 'U', 'V', 'W', 'X', 'Y', 'Z', 'a', 'b', 'c', 'd', 'e', 'f', 'g', 'h', 'i', 'j', 'k', 'l', 'm', 'n', 'o', 'p', 'q', 'r', 's', 't', 'u', 'v', 'w']\n",
            "['<', '>', '?', 'A', 'B', 'C', 'D', 'E', 'F', 'G', 'H', 'I', 'J', 'K', 'L', 'M', 'N', 'O', 'P', 'Q', 'R', 'S', 'T', 'U', 'V', 'W', 'X', 'Y', 'Z', 'a', 'b', 'c', 'd', 'e', 'f', 'g', 'h', 'i', 'j', 'k', 'l', 'm', 'n', 'o', 'p', 'q', 'r', 's', 't']\n"
          ]
        }
      ]
    },
    {
      "cell_type": "code",
      "source": [],
      "metadata": {
        "id": "BeKJwuE0x29m"
      },
      "execution_count": null,
      "outputs": []
    }
  ]
}