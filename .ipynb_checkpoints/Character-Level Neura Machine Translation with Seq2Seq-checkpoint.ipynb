{
 "cells": [
  {
   "cell_type": "markdown",
   "metadata": {
    "colab_type": "text",
    "id": "view-in-github"
   },
   "source": [
    "<a href=\"https://colab.research.google.com/github/Sion1225/Study-Deeplearning-NLP/blob/master/Character-Level%20Neura%20Machine%20Translation%20with%20Seq2Seq.ipynb\" target=\"_parent\"><img src=\"https://colab.research.google.com/assets/colab-badge.svg\" alt=\"Open In Colab\"/></a>"
   ]
  },
  {
   "cell_type": "markdown",
   "metadata": {
    "id": "uuzGyqlPydz3"
   },
   "source": [
    "Dataset is from \"http://www.manythings.org/anki\""
   ]
  },
  {
   "cell_type": "markdown",
   "metadata": {
    "id": "6ZHEiExhsDny"
   },
   "source": [
    "# Pre-processing"
   ]
  },
  {
   "cell_type": "code",
   "execution_count": 1,
   "metadata": {
    "id": "51GWF3AQxBZP"
   },
   "outputs": [],
   "source": [
    "\"\"\"\n",
    "import os\n",
    "import shutil\n",
    "import zipfile\n",
    "\"\"\"\n",
    "\n",
    "import pandas as pd\n",
    "import tensorflow as tf\n",
    "import urllib3\n",
    "from tensorflow.keras.preprocessing.sequence import pad_sequences\n",
    "from tensorflow.keras.utils import to_categorical"
   ]
  },
  {
   "cell_type": "code",
   "execution_count": 2,
   "metadata": {
    "colab": {
     "base_uri": "https://localhost:8080/",
     "height": 90
    },
    "id": "higkx6fvx8cU",
    "outputId": "14d1ee67-5ba6-4662-ce23-7691d3d4eb0a"
   },
   "outputs": [
    {
     "data": {
      "text/plain": [
       "\"\\nhttp = urllib3.PoolManager()\\nurl ='http://www.manythings.org/anki/fra-eng.zip'\\nfilename = 'fra-eng.zip'\\npath = os.getcwd()\\nzipfilename = os.path.join(path, filename)\\nwith http.request('GET', url, preload_content=False) as r, open(zipfilename, 'wb') as out_file:       \\n    shutil.copyfileobj(r, out_file)\\n\\nwith zipfile.ZipFile(zipfilename, 'r') as zip_ref:\\n    zip_ref.extractall(path)\\n\""
      ]
     },
     "execution_count": 2,
     "metadata": {},
     "output_type": "execute_result"
    }
   ],
   "source": [
    "\"\"\"\n",
    "http = urllib3.PoolManager()\n",
    "url ='http://www.manythings.org/anki/fra-eng.zip'\n",
    "filename = 'fra-eng.zip'\n",
    "path = os.getcwd()\n",
    "zipfilename = os.path.join(path, filename)\n",
    "with http.request('GET', url, preload_content=False) as r, open(zipfilename, 'wb') as out_file:       \n",
    "    shutil.copyfileobj(r, out_file)\n",
    "\n",
    "with zipfile.ZipFile(zipfilename, 'r') as zip_ref:\n",
    "    zip_ref.extractall(path)\n",
    "\"\"\""
   ]
  },
  {
   "cell_type": "code",
   "execution_count": 3,
   "metadata": {
    "colab": {
     "base_uri": "https://localhost:8080/"
    },
    "id": "vWFEnL7RyORc",
    "outputId": "c7f7f799-ac15-4d5c-8168-a29fe71b7fac"
   },
   "outputs": [
    {
     "name": "stdout",
     "output_type": "stream",
     "text": [
      "Count of all semples :  139013\n"
     ]
    }
   ],
   "source": [
    "lines = pd.read_csv(\"DataSet/spa.txt\", names=[\"src\", \"tar\", \"lic\"], sep='\\t')\n",
    "del lines[\"lic\"]\n",
    "print(\"Count of all semples : \", len(lines))"
   ]
  },
  {
   "cell_type": "code",
   "execution_count": 4,
   "metadata": {
    "id": "BGPkgYMsAUNP"
   },
   "outputs": [],
   "source": [
    "lines = lines[:80000]"
   ]
  },
  {
   "cell_type": "code",
   "execution_count": 5,
   "metadata": {
    "colab": {
     "base_uri": "https://localhost:8080/"
    },
    "id": "kgmLooB6zVQX",
    "outputId": "8d40390a-ca3d-422f-a05a-737462eb8b3a"
   },
   "outputs": [
    {
     "name": "stdout",
     "output_type": "stream",
     "text": [
      "   src      tar\n",
      "0  Go.      Ve.\n",
      "1  Go.    Vete.\n",
      "2  Go.    Vaya.\n",
      "3  Go.  Váyase.\n",
      "4  Hi.    Hola.\n"
     ]
    }
   ],
   "source": [
    "print(lines[:5])"
   ]
  },
  {
   "cell_type": "code",
   "execution_count": 6,
   "metadata": {
    "colab": {
     "base_uri": "https://localhost:8080/",
     "height": 363
    },
    "id": "catV1UIk4gjf",
    "outputId": "898ff3c7-a247-4d3b-fa9b-3b5a85558beb"
   },
   "outputs": [
    {
     "data": {
      "text/html": [
       "<div>\n",
       "<style scoped>\n",
       "    .dataframe tbody tr th:only-of-type {\n",
       "        vertical-align: middle;\n",
       "    }\n",
       "\n",
       "    .dataframe tbody tr th {\n",
       "        vertical-align: top;\n",
       "    }\n",
       "\n",
       "    .dataframe thead th {\n",
       "        text-align: right;\n",
       "    }\n",
       "</style>\n",
       "<table border=\"1\" class=\"dataframe\">\n",
       "  <thead>\n",
       "    <tr style=\"text-align: right;\">\n",
       "      <th></th>\n",
       "      <th>src</th>\n",
       "      <th>tar</th>\n",
       "    </tr>\n",
       "  </thead>\n",
       "  <tbody>\n",
       "    <tr>\n",
       "      <th>74963</th>\n",
       "      <td>Tom bought something for Mary.</td>\n",
       "      <td>Tom le compró algo a Mary.</td>\n",
       "    </tr>\n",
       "    <tr>\n",
       "      <th>5358</th>\n",
       "      <td>I need a room.</td>\n",
       "      <td>Yo necesito un cuarto.</td>\n",
       "    </tr>\n",
       "    <tr>\n",
       "      <th>51779</th>\n",
       "      <td>What do you think of Tom?</td>\n",
       "      <td>¿Qué opinas de Tom?</td>\n",
       "    </tr>\n",
       "    <tr>\n",
       "      <th>36893</th>\n",
       "      <td>Why aren't you eating?</td>\n",
       "      <td>¿Por qué no comes?</td>\n",
       "    </tr>\n",
       "    <tr>\n",
       "      <th>64582</th>\n",
       "      <td>Please give me one of these.</td>\n",
       "      <td>Dame uno de éstos, por favor.</td>\n",
       "    </tr>\n",
       "    <tr>\n",
       "      <th>47186</th>\n",
       "      <td>You're taller than I am.</td>\n",
       "      <td>Eres más alto que yo.</td>\n",
       "    </tr>\n",
       "    <tr>\n",
       "      <th>43683</th>\n",
       "      <td>I have a lot of flowers.</td>\n",
       "      <td>Tengo muchas flores.</td>\n",
       "    </tr>\n",
       "    <tr>\n",
       "      <th>66899</th>\n",
       "      <td>Your pulse is a little fast.</td>\n",
       "      <td>Tu pulso está un poco acelerado.</td>\n",
       "    </tr>\n",
       "    <tr>\n",
       "      <th>10832</th>\n",
       "      <td>Show your cards.</td>\n",
       "      <td>Muestra tus cartas.</td>\n",
       "    </tr>\n",
       "    <tr>\n",
       "      <th>63282</th>\n",
       "      <td>I have no problem with that.</td>\n",
       "      <td>No tengo ningún problema con eso.</td>\n",
       "    </tr>\n",
       "  </tbody>\n",
       "</table>\n",
       "</div>"
      ],
      "text/plain": [
       "                                  src                                tar\n",
       "74963  Tom bought something for Mary.         Tom le compró algo a Mary.\n",
       "5358                   I need a room.             Yo necesito un cuarto.\n",
       "51779       What do you think of Tom?                ¿Qué opinas de Tom?\n",
       "36893          Why aren't you eating?                 ¿Por qué no comes?\n",
       "64582    Please give me one of these.      Dame uno de éstos, por favor.\n",
       "47186        You're taller than I am.              Eres más alto que yo.\n",
       "43683        I have a lot of flowers.               Tengo muchas flores.\n",
       "66899    Your pulse is a little fast.   Tu pulso está un poco acelerado.\n",
       "10832                Show your cards.                Muestra tus cartas.\n",
       "63282    I have no problem with that.  No tengo ningún problema con eso."
      ]
     },
     "execution_count": 6,
     "metadata": {},
     "output_type": "execute_result"
    }
   ],
   "source": [
    "lines.sample(10)"
   ]
  },
  {
   "cell_type": "code",
   "execution_count": 7,
   "metadata": {
    "colab": {
     "base_uri": "https://localhost:8080/",
     "height": 363
    },
    "id": "ehb8KVJ04rR0",
    "outputId": "444f746a-5200-4534-c3f5-e80e01a92937"
   },
   "outputs": [
    {
     "data": {
      "text/html": [
       "<div>\n",
       "<style scoped>\n",
       "    .dataframe tbody tr th:only-of-type {\n",
       "        vertical-align: middle;\n",
       "    }\n",
       "\n",
       "    .dataframe tbody tr th {\n",
       "        vertical-align: top;\n",
       "    }\n",
       "\n",
       "    .dataframe thead th {\n",
       "        text-align: right;\n",
       "    }\n",
       "</style>\n",
       "<table border=\"1\" class=\"dataframe\">\n",
       "  <thead>\n",
       "    <tr style=\"text-align: right;\">\n",
       "      <th></th>\n",
       "      <th>src</th>\n",
       "      <th>tar</th>\n",
       "    </tr>\n",
       "  </thead>\n",
       "  <tbody>\n",
       "    <tr>\n",
       "      <th>27738</th>\n",
       "      <td>You have to help me.</td>\n",
       "      <td>\\tTienes que ayudarme.\\n</td>\n",
       "    </tr>\n",
       "    <tr>\n",
       "      <th>5415</th>\n",
       "      <td>I saw a mouse!</td>\n",
       "      <td>\\t¡Yo vi un ratón!\\n</td>\n",
       "    </tr>\n",
       "    <tr>\n",
       "      <th>67191</th>\n",
       "      <td>Do you really think it's bad?</td>\n",
       "      <td>\\t¿De verdad piensas que es malo?\\n</td>\n",
       "    </tr>\n",
       "    <tr>\n",
       "      <th>10883</th>\n",
       "      <td>Tell Tom thanks.</td>\n",
       "      <td>\\tDile gracias a Tom.\\n</td>\n",
       "    </tr>\n",
       "    <tr>\n",
       "      <th>56480</th>\n",
       "      <td>We left nothing to chance.</td>\n",
       "      <td>\\tNo hemos dejado nada a la suerte.\\n</td>\n",
       "    </tr>\n",
       "    <tr>\n",
       "      <th>7707</th>\n",
       "      <td>I'm not guilty.</td>\n",
       "      <td>\\tNo soy culpable.\\n</td>\n",
       "    </tr>\n",
       "    <tr>\n",
       "      <th>64113</th>\n",
       "      <td>I've never had that problem.</td>\n",
       "      <td>\\tNunca he tenido ese problema.\\n</td>\n",
       "    </tr>\n",
       "    <tr>\n",
       "      <th>20017</th>\n",
       "      <td>I am not a student.</td>\n",
       "      <td>\\tNo soy un estudiante.\\n</td>\n",
       "    </tr>\n",
       "    <tr>\n",
       "      <th>29143</th>\n",
       "      <td>I just got back home.</td>\n",
       "      <td>\\tAcabo de volver a casa.\\n</td>\n",
       "    </tr>\n",
       "    <tr>\n",
       "      <th>36006</th>\n",
       "      <td>Tom continued working.</td>\n",
       "      <td>\\tTom siguió trabajando.\\n</td>\n",
       "    </tr>\n",
       "  </tbody>\n",
       "</table>\n",
       "</div>"
      ],
      "text/plain": [
       "                                 src                                    tar\n",
       "27738           You have to help me.               \\tTienes que ayudarme.\\n\n",
       "5415                  I saw a mouse!                   \\t¡Yo vi un ratón!\\n\n",
       "67191  Do you really think it's bad?    \\t¿De verdad piensas que es malo?\\n\n",
       "10883               Tell Tom thanks.                \\tDile gracias a Tom.\\n\n",
       "56480     We left nothing to chance.  \\tNo hemos dejado nada a la suerte.\\n\n",
       "7707                 I'm not guilty.                   \\tNo soy culpable.\\n\n",
       "64113   I've never had that problem.      \\tNunca he tenido ese problema.\\n\n",
       "20017            I am not a student.              \\tNo soy un estudiante.\\n\n",
       "29143          I just got back home.            \\tAcabo de volver a casa.\\n\n",
       "36006         Tom continued working.             \\tTom siguió trabajando.\\n"
      ]
     },
     "execution_count": 7,
     "metadata": {},
     "output_type": "execute_result"
    }
   ],
   "source": [
    "lines.tar = lines.tar.apply(lambda x : \"\\t\" + x + \"\\n\")\n",
    "lines.sample(10)"
   ]
  },
  {
   "cell_type": "code",
   "execution_count": 8,
   "metadata": {
    "id": "2t6lwLmEiC4l"
   },
   "outputs": [],
   "source": [
    "src_vocab = set()\n",
    "for line in lines.src :\n",
    "    for char in line :\n",
    "        src_vocab.add(char)\n",
    "\n",
    "tar_vocab = set()\n",
    "for line in lines.tar:\n",
    "    for char in line:\n",
    "        tar_vocab.add(char)"
   ]
  },
  {
   "cell_type": "code",
   "execution_count": 9,
   "metadata": {
    "colab": {
     "base_uri": "https://localhost:8080/"
    },
    "id": "Iv-IaBYLxIxB",
    "outputId": "e612ea4f-17a7-48a9-d45c-61a370ed8be1"
   },
   "outputs": [
    {
     "name": "stdout",
     "output_type": "stream",
     "text": [
      "Source sentences' char set : 81\n",
      "Target sentences' char set : 100\n"
     ]
    }
   ],
   "source": [
    "src_vocab_size = len(src_vocab) + 1\n",
    "tar_vocab_size = len(tar_vocab) + 1\n",
    "print(\"Source sentences' char set :\",src_vocab_size)\n",
    "print(\"Target sentences' char set :\",tar_vocab_size)"
   ]
  },
  {
   "cell_type": "code",
   "execution_count": 10,
   "metadata": {
    "colab": {
     "base_uri": "https://localhost:8080/"
    },
    "id": "BaUaySWfxdew",
    "outputId": "1f743122-29e7-4076-cc87-f660a1ba8f33"
   },
   "outputs": [
    {
     "name": "stdout",
     "output_type": "stream",
     "text": [
      "{'v', 'j', '4', 'W', 'b', '\\xa0', 'R', 'T', 'm', '8', 'S', 'I', 'X', '’', '-', 'Q', 'o', '.', 'h', '7', 'Z', 'J', 'E', 'C', 'l', '0', '°', 'q', '%', 'd', 'p', 't', ' ', 'w', 'D', 'K', '2', 'c', 'P', 'N', 'g', 'x', 'B', '5', 'M', 'Y', 'r', ',', 'H', '6', 'V', 'n', ':', 'U', 'z', '1', 'F', '‘', 'y', \"'\", '9', 'é', '€', 'k', 'f', 'O', 'i', '$', 'L', 'u', '!', 's', 'a', '?', 'G', 'e', '/', '\"', '3', 'A'}\n",
      "{'v', '—', 'j', ')', 'Á', '4', '+', 'W', 'b', 'T', 'R', 'm', '8', 'S', 'I', 'X', '-', 'ñ', 'Q', 'o', 'с', '.', 'h', '7', '\\n', 'í', 'Ú', '(', 'Z', 'E', 'J', 'C', 'l', '0', '°', 'q', '%', 'd', 'p', 't', ' ', 'w', '«', 'D', 'K', '2', 'á', 'c', 'P', 'N', 'º', 'g', 'x', 'B', '5', 'ü', 'M', 'Y', 'r', ',', '¿', 'H', '6', 'V', 'Ó', 'n', ':', 'U', 'z', '\\t', '1', 'F', 'y', \"'\", '9', 'é', '€', 'k', 'f', 'O', '»', 'i', 'É', 'L', '$', 'u', '!', 's', 'ó', 'a', 'ú', '?', 'G', 'e', '/', '¡', '\"', '3', 'A'}\n"
     ]
    }
   ],
   "source": [
    "print(src_vocab)\n",
    "print(tar_vocab)"
   ]
  },
  {
   "cell_type": "code",
   "execution_count": 11,
   "metadata": {
    "colab": {
     "base_uri": "https://localhost:8080/"
    },
    "id": "Y7HMom5Oxgis",
    "outputId": "2d824287-0817-4471-d4fd-97b46e401c60"
   },
   "outputs": [
    {
     "name": "stdout",
     "output_type": "stream",
     "text": [
      "['E', 'F', 'G', 'H', 'I', 'J', 'K', 'L', 'M', 'N', 'O', 'P', 'Q', 'R', 'S', 'T', 'U', 'V', 'W', 'X', 'Y', 'Z', 'a', 'b', 'c', 'd', 'e', 'f', 'g', 'h', 'i', 'j', 'k', 'l', 'm', 'n', 'o', 'p', 'q', 'r', 's', 't', 'u', 'v', 'w', 'x', 'y', 'z', '\\xa0']\n",
      "['?', 'A', 'B', 'C', 'D', 'E', 'F', 'G', 'H', 'I', 'J', 'K', 'L', 'M', 'N', 'O', 'P', 'Q', 'R', 'S', 'T', 'U', 'V', 'W', 'X', 'Y', 'Z', 'a', 'b', 'c', 'd', 'e', 'f', 'g', 'h', 'i', 'j', 'k', 'l', 'm', 'n', 'o', 'p', 'q', 'r', 's', 't', 'u', 'v']\n"
     ]
    }
   ],
   "source": [
    "src_vocab = sorted(list(src_vocab))\n",
    "tar_vocab = sorted(list(tar_vocab))\n",
    "print(src_vocab[26:75])\n",
    "print(tar_vocab[26:75])"
   ]
  },
  {
   "cell_type": "code",
   "execution_count": 12,
   "metadata": {
    "colab": {
     "base_uri": "https://localhost:8080/"
    },
    "id": "BeKJwuE0x29m",
    "outputId": "fabb335c-7db0-4c06-8a58-ace0ecd6e9cf"
   },
   "outputs": [
    {
     "name": "stdout",
     "output_type": "stream",
     "text": [
      "{' ': 1, '!': 2, '\"': 3, '$': 4, '%': 5, \"'\": 6, ',': 7, '-': 8, '.': 9, '/': 10, '0': 11, '1': 12, '2': 13, '3': 14, '4': 15, '5': 16, '6': 17, '7': 18, '8': 19, '9': 20, ':': 21, '?': 22, 'A': 23, 'B': 24, 'C': 25, 'D': 26, 'E': 27, 'F': 28, 'G': 29, 'H': 30, 'I': 31, 'J': 32, 'K': 33, 'L': 34, 'M': 35, 'N': 36, 'O': 37, 'P': 38, 'Q': 39, 'R': 40, 'S': 41, 'T': 42, 'U': 43, 'V': 44, 'W': 45, 'X': 46, 'Y': 47, 'Z': 48, 'a': 49, 'b': 50, 'c': 51, 'd': 52, 'e': 53, 'f': 54, 'g': 55, 'h': 56, 'i': 57, 'j': 58, 'k': 59, 'l': 60, 'm': 61, 'n': 62, 'o': 63, 'p': 64, 'q': 65, 'r': 66, 's': 67, 't': 68, 'u': 69, 'v': 70, 'w': 71, 'x': 72, 'y': 73, 'z': 74, '\\xa0': 75, '°': 76, 'é': 77, '‘': 78, '’': 79, '€': 80}\n",
      "{'\\t': 1, '\\n': 2, ' ': 3, '!': 4, '\"': 5, '$': 6, '%': 7, \"'\": 8, '(': 9, ')': 10, '+': 11, ',': 12, '-': 13, '.': 14, '/': 15, '0': 16, '1': 17, '2': 18, '3': 19, '4': 20, '5': 21, '6': 22, '7': 23, '8': 24, '9': 25, ':': 26, '?': 27, 'A': 28, 'B': 29, 'C': 30, 'D': 31, 'E': 32, 'F': 33, 'G': 34, 'H': 35, 'I': 36, 'J': 37, 'K': 38, 'L': 39, 'M': 40, 'N': 41, 'O': 42, 'P': 43, 'Q': 44, 'R': 45, 'S': 46, 'T': 47, 'U': 48, 'V': 49, 'W': 50, 'X': 51, 'Y': 52, 'Z': 53, 'a': 54, 'b': 55, 'c': 56, 'd': 57, 'e': 58, 'f': 59, 'g': 60, 'h': 61, 'i': 62, 'j': 63, 'k': 64, 'l': 65, 'm': 66, 'n': 67, 'o': 68, 'p': 69, 'q': 70, 'r': 71, 's': 72, 't': 73, 'u': 74, 'v': 75, 'w': 76, 'x': 77, 'y': 78, 'z': 79, '¡': 80, '«': 81, '°': 82, 'º': 83, '»': 84, '¿': 85, 'Á': 86, 'É': 87, 'Ó': 88, 'Ú': 89, 'á': 90, 'é': 91, 'í': 92, 'ñ': 93, 'ó': 94, 'ú': 95, 'ü': 96, 'с': 97, '—': 98, '€': 99}\n"
     ]
    }
   ],
   "source": [
    "src_to_index = dict([(word, i+1) for i, word in enumerate(src_vocab)])\n",
    "tar_to_index = dict([(word, i+1) for i, word in enumerate(tar_vocab)])\n",
    "print(src_to_index)\n",
    "print(tar_to_index)"
   ]
  },
  {
   "cell_type": "code",
   "execution_count": 13,
   "metadata": {
    "colab": {
     "base_uri": "https://localhost:8080/"
    },
    "id": "v8REjdu663YS",
    "outputId": "79b4bbe5-3a12-4e51-d9b2-af232233456a"
   },
   "outputs": [
    {
     "name": "stdout",
     "output_type": "stream",
     "text": [
      "Source sentences : \n",
      " 0    Go.\n",
      "1    Go.\n",
      "2    Go.\n",
      "3    Go.\n",
      "4    Hi.\n",
      "Name: src, dtype: object\n",
      "Encoded source sentences :  [[29, 63, 9], [29, 63, 9], [29, 63, 9], [29, 63, 9], [30, 57, 9]]\n"
     ]
    }
   ],
   "source": [
    "encoder_input = []\n",
    "\n",
    "for line in lines[\"src\"] :\n",
    "    encoded_line = []\n",
    "\n",
    "    for char in line :\n",
    "        encoded_line.append(src_to_index[char])\n",
    "    \n",
    "    encoder_input.append(encoded_line)\n",
    "\n",
    "print(\"Source sentences : \\n\", lines[\"src\"][:5])\n",
    "print(\"Encoded source sentences : \", encoder_input[:5])"
   ]
  },
  {
   "cell_type": "code",
   "execution_count": 14,
   "metadata": {
    "colab": {
     "base_uri": "https://localhost:8080/"
    },
    "id": "-fWMCySRj_Ia",
    "outputId": "26cfa9ba-4a44-4b79-9c42-6935772476a9"
   },
   "outputs": [
    {
     "name": "stdout",
     "output_type": "stream",
     "text": [
      "Target sentences : \n",
      " 0        \\tVe.\\n\n",
      "1      \\tVete.\\n\n",
      "2      \\tVaya.\\n\n",
      "3    \\tVáyase.\\n\n",
      "4      \\tHola.\\n\n",
      "Name: tar, dtype: object\n",
      "Encoded target sentences :  [[1, 49, 58, 14, 2], [1, 49, 58, 73, 58, 14, 2], [1, 49, 54, 78, 54, 14, 2], [1, 49, 90, 78, 54, 72, 58, 14, 2], [1, 35, 68, 65, 54, 14, 2]]\n"
     ]
    }
   ],
   "source": [
    "decoder_input = []\n",
    "\n",
    "for line in lines[\"tar\"] :\n",
    "  encoded_line = []\n",
    "\n",
    "  for char in line :\n",
    "    encoded_line.append(tar_to_index[char])\n",
    "\n",
    "  decoder_input.append(encoded_line)\n",
    "\n",
    "print(\"Target sentences : \\n\", lines[\"tar\"][:5])\n",
    "print(\"Encoded target sentences : \", decoder_input[:5])"
   ]
  },
  {
   "cell_type": "code",
   "execution_count": 15,
   "metadata": {
    "colab": {
     "base_uri": "https://localhost:8080/"
    },
    "id": "Qf9pQh6h24hm",
    "outputId": "fa4d471f-fcc1-4832-c161-6d3fd00a11f4"
   },
   "outputs": [
    {
     "name": "stdout",
     "output_type": "stream",
     "text": [
      "Encoded target label sentences :  [[49, 58, 14, 2], [49, 58, 73, 58, 14, 2], [49, 54, 78, 54, 14, 2], [49, 90, 78, 54, 72, 58, 14, 2], [35, 68, 65, 54, 14, 2]]\n"
     ]
    }
   ],
   "source": [
    "decoder_target = []\n",
    "\n",
    "for line in lines[\"tar\"] :\n",
    "    timestep = 0\n",
    "    encoded_line = []\n",
    "\n",
    "    for char in line :\n",
    "        if timestep > 0 :\n",
    "            encoded_line.append(tar_to_index[char])\n",
    "        timestep += 1\n",
    "    \n",
    "    decoder_target.append(encoded_line)\n",
    "\n",
    "print(\"Encoded target label sentences : \", decoder_target[:5])"
   ]
  },
  {
   "cell_type": "code",
   "execution_count": 16,
   "metadata": {
    "colab": {
     "base_uri": "https://localhost:8080/"
    },
    "id": "N0ucux0G7y8b",
    "outputId": "6dd10384-8870-4bc5-cf78-842d2727b60f"
   },
   "outputs": [
    {
     "name": "stdout",
     "output_type": "stream",
     "text": [
      "Source sentences maximum length : 31\n",
      "Target sentences maximum length : 72\n"
     ]
    }
   ],
   "source": [
    "max_src_len = max([len(line) for line in lines.src])\n",
    "max_tar_len = max([len(line) for line in lines.tar])\n",
    "print('Source sentences maximum length :',max_src_len)\n",
    "print('Target sentences maximum length :',max_tar_len)"
   ]
  },
  {
   "cell_type": "code",
   "execution_count": 17,
   "metadata": {
    "id": "FJqSr8KY8Fmy"
   },
   "outputs": [],
   "source": [
    "encoder_input = pad_sequences(encoder_input, maxlen=max_src_len, padding=\"post\")\n",
    "decoder_input = pad_sequences(decoder_input, maxlen=max_tar_len, padding='post')\n",
    "decoder_target = pad_sequences(decoder_target, maxlen=max_tar_len, padding='post')"
   ]
  },
  {
   "cell_type": "code",
   "execution_count": 18,
   "metadata": {
    "colab": {
     "base_uri": "https://localhost:8080/",
     "height": 80
    },
    "id": "9am6t1yEFYK0",
    "outputId": "9611b7d3-ab33-4eea-8290-171e457f81a4"
   },
   "outputs": [
    {
     "name": "stderr",
     "output_type": "stream",
     "text": [
      "2023-02-28 20:24:41,276\tINFO worker.py:1553 -- Started a local Ray instance.\n"
     ]
    },
    {
     "data": {
      "text/html": [
       "<div>\n",
       "    <div style=\"margin-left: 50px;display: flex;flex-direction: row;align-items: center\">\n",
       "        <h3 style=\"color: var(--jp-ui-font-color0)\">Ray</h3>\n",
       "        <svg version=\"1.1\" id=\"ray\" width=\"3em\" viewBox=\"0 0 144.5 144.6\" style=\"margin-left: 3em;margin-right: 3em\">\n",
       "            <g id=\"layer-1\">\n",
       "                <path fill=\"#00a2e9\" class=\"st0\" d=\"M97.3,77.2c-3.8-1.1-6.2,0.9-8.3,5.1c-3.5,6.8-9.9,9.9-17.4,9.6S58,88.1,54.8,81.2c-1.4-3-3-4-6.3-4.1\n",
       "                    c-5.6-0.1-9.9,0.1-13.1,6.4c-3.8,7.6-13.6,10.2-21.8,7.6C5.2,88.4-0.4,80.5,0,71.7c0.1-8.4,5.7-15.8,13.8-18.2\n",
       "                    c8.4-2.6,17.5,0.7,22.3,8c1.3,1.9,1.3,5.2,3.6,5.6c3.9,0.6,8,0.2,12,0.2c1.8,0,1.9-1.6,2.4-2.8c3.5-7.8,9.7-11.8,18-11.9\n",
       "                    c8.2-0.1,14.4,3.9,17.8,11.4c1.3,2.8,2.9,3.6,5.7,3.3c1-0.1,2,0.1,3,0c2.8-0.5,6.4,1.7,8.1-2.7s-2.3-5.5-4.1-7.5\n",
       "                    c-5.1-5.7-10.9-10.8-16.1-16.3C84,38,81.9,37.1,78,38.3C66.7,42,56.2,35.7,53,24.1C50.3,14,57.3,2.8,67.7,0.5\n",
       "                    C78.4-2,89,4.7,91.5,15.3c0.1,0.3,0.1,0.5,0.2,0.8c0.7,3.4,0.7,6.9-0.8,9.8c-1.7,3.2-0.8,5,1.5,7.2c6.7,6.5,13.3,13,19.8,19.7\n",
       "                    c1.8,1.8,3,2.1,5.5,1.2c9.1-3.4,17.9-0.6,23.4,7c4.8,6.9,4.6,16.1-0.4,22.9c-5.4,7.2-14.2,9.9-23.1,6.5c-2.3-0.9-3.5-0.6-5.1,1.1\n",
       "                    c-6.7,6.9-13.6,13.7-20.5,20.4c-1.8,1.8-2.5,3.2-1.4,5.9c3.5,8.7,0.3,18.6-7.7,23.6c-7.9,5-18.2,3.8-24.8-2.9\n",
       "                    c-6.4-6.4-7.4-16.2-2.5-24.3c4.9-7.8,14.5-11,23.1-7.8c3,1.1,4.7,0.5,6.9-1.7C91.7,98.4,98,92.3,104.2,86c1.6-1.6,4.1-2.7,2.6-6.2\n",
       "                    c-1.4-3.3-3.8-2.5-6.2-2.6C99.8,77.2,98.9,77.2,97.3,77.2z M72.1,29.7c5.5,0.1,9.9-4.3,10-9.8c0-0.1,0-0.2,0-0.3\n",
       "                    C81.8,14,77,9.8,71.5,10.2c-5,0.3-9,4.2-9.3,9.2c-0.2,5.5,4,10.1,9.5,10.3C71.8,29.7,72,29.7,72.1,29.7z M72.3,62.3\n",
       "                    c-5.4-0.1-9.9,4.2-10.1,9.7c0,0.2,0,0.3,0,0.5c0.2,5.4,4.5,9.7,9.9,10c5.1,0.1,9.9-4.7,10.1-9.8c0.2-5.5-4-10-9.5-10.3\n",
       "                    C72.6,62.3,72.4,62.3,72.3,62.3z M115,72.5c0.1,5.4,4.5,9.7,9.8,9.9c5.6-0.2,10-4.8,10-10.4c-0.2-5.4-4.6-9.7-10-9.7\n",
       "                    c-5.3-0.1-9.8,4.2-9.9,9.5C115,72.1,115,72.3,115,72.5z M19.5,62.3c-5.4,0.1-9.8,4.4-10,9.8c-0.1,5.1,5.2,10.4,10.2,10.3\n",
       "                    c5.6-0.2,10-4.9,9.8-10.5c-0.1-5.4-4.5-9.7-9.9-9.6C19.6,62.3,19.5,62.3,19.5,62.3z M71.8,134.6c5.9,0.2,10.3-3.9,10.4-9.6\n",
       "                    c0.5-5.5-3.6-10.4-9.1-10.8c-5.5-0.5-10.4,3.6-10.8,9.1c0,0.5,0,0.9,0,1.4c-0.2,5.3,4,9.8,9.3,10\n",
       "                    C71.6,134.6,71.7,134.6,71.8,134.6z\"/>\n",
       "            </g>\n",
       "        </svg>\n",
       "        <table>\n",
       "            <tr>\n",
       "                <td style=\"text-align: left\"><b>Python version:</b></td>\n",
       "                <td style=\"text-align: left\"><b>3.8.5</b></td>\n",
       "            </tr>\n",
       "            <tr>\n",
       "                <td style=\"text-align: left\"><b>Ray version:</b></td>\n",
       "                <td style=\"text-align: left\"><b> 2.3.0</b></td>\n",
       "            </tr>\n",
       "            \n",
       "        </table>\n",
       "    </div>\n",
       "</div>\n"
      ],
      "text/plain": [
       "RayContext(dashboard_url='', python_version='3.8.5', ray_version='2.3.0', ray_commit='cf7a56b4b0b648c324722df7c99c168e92ff0b45', address_info={'node_ip_address': '127.0.0.1', 'raylet_ip_address': '127.0.0.1', 'redis_address': None, 'object_store_address': 'tcp://127.0.0.1:65517', 'raylet_socket_name': 'tcp://127.0.0.1:63995', 'webui_url': '', 'session_dir': 'C:\\\\Users\\\\visio\\\\AppData\\\\Local\\\\Temp\\\\ray\\\\session_2023-02-28_20-24-36_689520_12272', 'metrics_export_port': 64809, 'gcs_address': '127.0.0.1:63628', 'address': '127.0.0.1:63628', 'dashboard_agent_listen_port': 52365, 'node_id': '0ca918f072867049bf552b498efc8430462aef3eb2c1c97eebab21c9'})"
      ]
     },
     "execution_count": 18,
     "metadata": {},
     "output_type": "execute_result"
    }
   ],
   "source": [
    "import ray\n",
    "ray.init()"
   ]
  },
  {
   "cell_type": "code",
   "execution_count": 19,
   "metadata": {
    "colab": {
     "base_uri": "https://localhost:8080/"
    },
    "id": "4NWUfiYY_iNt",
    "outputId": "6337ebcb-1eb8-4b63-b6ba-36fa060f5d0d"
   },
   "outputs": [],
   "source": [
    "#One-Hot encoding (Character-level)\n",
    "@ray.remote\n",
    "def One_Hot(encoder_input, decoder_input, decoder_target) :\n",
    "    encoder_input = to_categorical(encoder_input)\n",
    "    decoder_input = to_categorical(decoder_input)\n",
    "    decoder_target = to_categorical(decoder_target)\n",
    "\n",
    "    return encoder_input, decoder_input, decoder_target\n",
    "\n",
    "encoder_input, decoder_input, decoder_target = ray.get(One_Hot.remote(encoder_input, decoder_input, decoder_target))"
   ]
  },
  {
   "cell_type": "code",
   "execution_count": 20,
   "metadata": {
    "colab": {
     "base_uri": "https://localhost:8080/"
    },
    "id": "9YviNZ3qGPVl",
    "outputId": "5179c5de-2519-46e3-a559-08997d72778c"
   },
   "outputs": [
    {
     "name": "stdout",
     "output_type": "stream",
     "text": [
      "[[[0. 0. 0. ... 0. 0. 0.]\n",
      "  [0. 0. 0. ... 0. 0. 0.]\n",
      "  [0. 0. 0. ... 0. 0. 0.]\n",
      "  ...\n",
      "  [1. 0. 0. ... 0. 0. 0.]\n",
      "  [1. 0. 0. ... 0. 0. 0.]\n",
      "  [1. 0. 0. ... 0. 0. 0.]]\n",
      "\n",
      " [[0. 0. 0. ... 0. 0. 0.]\n",
      "  [0. 0. 0. ... 0. 0. 0.]\n",
      "  [0. 0. 0. ... 0. 0. 0.]\n",
      "  ...\n",
      "  [1. 0. 0. ... 0. 0. 0.]\n",
      "  [1. 0. 0. ... 0. 0. 0.]\n",
      "  [1. 0. 0. ... 0. 0. 0.]]\n",
      "\n",
      " [[0. 0. 0. ... 0. 0. 0.]\n",
      "  [0. 0. 0. ... 0. 0. 0.]\n",
      "  [0. 0. 0. ... 0. 0. 0.]\n",
      "  ...\n",
      "  [1. 0. 0. ... 0. 0. 0.]\n",
      "  [1. 0. 0. ... 0. 0. 0.]\n",
      "  [1. 0. 0. ... 0. 0. 0.]]]\n"
     ]
    }
   ],
   "source": [
    "print(encoder_input[:3])\n",
    "ray.shutdown()"
   ]
  },
  {
   "cell_type": "code",
   "execution_count": 21,
   "metadata": {
    "colab": {
     "base_uri": "https://localhost:8080/"
    },
    "id": "zmpWH-9_bUED",
    "outputId": "5f95892f-9023-4b75-d0bc-2f8c18c62709"
   },
   "outputs": [
    {
     "name": "stdout",
     "output_type": "stream",
     "text": [
      "(80000, 31, 81)\n",
      "31\n",
      "81\n"
     ]
    }
   ],
   "source": [
    "print(encoder_input.shape)\n",
    "print(max_src_len)\n",
    "print(src_vocab_size)"
   ]
  },
  {
   "cell_type": "markdown",
   "metadata": {
    "id": "Agj2OoL5HZxG"
   },
   "source": [
    "# Model"
   ]
  },
  {
   "cell_type": "markdown",
   "metadata": {
    "id": "YcQ_4x2qqeEH"
   },
   "source": [
    "### Training"
   ]
  },
  {
   "cell_type": "code",
   "execution_count": 22,
   "metadata": {
    "id": "07TNTcgnHK7z"
   },
   "outputs": [],
   "source": [
    "from tensorflow.keras.layers import Input, LSTM, Embedding, Dense\n",
    "from tensorflow.keras.models import Model\n",
    "import numpy as np"
   ]
  },
  {
   "cell_type": "code",
   "execution_count": 23,
   "metadata": {
    "id": "f96GO4tyILpN"
   },
   "outputs": [],
   "source": [
    "#Encoder\n",
    "encoder_inputs = Input(shape=(max_src_len, src_vocab_size))\n",
    "\n",
    "encoder_lstm = LSTM(units=256, return_state=True)\n",
    "encoder_outputs, state_h, state_c = encoder_lstm(encoder_inputs)\n",
    "\n",
    "encoder_states = [state_h, state_c]"
   ]
  },
  {
   "cell_type": "code",
   "execution_count": 24,
   "metadata": {
    "id": "p_SRksUGPR0A"
   },
   "outputs": [],
   "source": [
    "#Decoder\n",
    "decoder_inputs = Input(shape=(None, tar_vocab_size))\n",
    "\n",
    "decoder_lstm = LSTM(units=256, return_sequences=True , return_state=True)\n",
    "decoder_outputs, _, _ = decoder_lstm(decoder_inputs, initial_state=encoder_states)\n",
    "\n",
    "decoder_softmax_layer = Dense(tar_vocab_size, activation=\"softmax\")\n",
    "decoder_outputs = decoder_softmax_layer(decoder_outputs)"
   ]
  },
  {
   "cell_type": "code",
   "execution_count": 25,
   "metadata": {
    "id": "BzJf5F-mb1PH"
   },
   "outputs": [],
   "source": [
    "#Model Combine & Compile\n",
    "model = Model([encoder_inputs, decoder_inputs], decoder_outputs)\n",
    "model.compile(optimizer=\"Nadam\", loss=\"categorical_crossentropy\", metrics=[\"accuracy\"])"
   ]
  },
  {
   "cell_type": "code",
   "execution_count": 42,
   "metadata": {
    "colab": {
     "base_uri": "https://localhost:8080/"
    },
    "id": "pI4RkyTycLx6",
    "outputId": "d018a5a8-c70f-4575-a2bd-d66ed150c10b"
   },
   "outputs": [
    {
     "ename": "InternalError",
     "evalue": "Failed copying input tensor from /job:localhost/replica:0/task:0/device:CPU:0 to /job:localhost/replica:0/task:0/device:GPU:0 in order to run _EagerConst: Dst tensor is not initialized.",
     "output_type": "error",
     "traceback": [
      "\u001b[1;31m---------------------------------------------------------------------------\u001b[0m",
      "\u001b[1;31mInternalError\u001b[0m                             Traceback (most recent call last)",
      "\u001b[1;32m<ipython-input-42-27d8e698111e>\u001b[0m in \u001b[0;36m<module>\u001b[1;34m\u001b[0m\n\u001b[1;32m----> 1\u001b[1;33m \u001b[0mmodel\u001b[0m\u001b[1;33m.\u001b[0m\u001b[0mfit\u001b[0m\u001b[1;33m(\u001b[0m\u001b[0mx\u001b[0m\u001b[1;33m=\u001b[0m\u001b[1;33m[\u001b[0m\u001b[0mencoder_input\u001b[0m\u001b[1;33m,\u001b[0m \u001b[0mdecoder_input\u001b[0m\u001b[1;33m]\u001b[0m\u001b[1;33m,\u001b[0m \u001b[0my\u001b[0m\u001b[1;33m=\u001b[0m\u001b[0mdecoder_target\u001b[0m\u001b[1;33m,\u001b[0m \u001b[0mbatch_size\u001b[0m\u001b[1;33m=\u001b[0m\u001b[1;36m64\u001b[0m\u001b[1;33m,\u001b[0m \u001b[0mepochs\u001b[0m\u001b[1;33m=\u001b[0m\u001b[1;36m35\u001b[0m\u001b[1;33m,\u001b[0m \u001b[0mvalidation_split\u001b[0m\u001b[1;33m=\u001b[0m\u001b[1;36m0.2\u001b[0m\u001b[1;33m)\u001b[0m\u001b[1;33m\u001b[0m\u001b[1;33m\u001b[0m\u001b[0m\n\u001b[0m",
      "\u001b[1;32mC:\\ProgramData\\Anaconda3\\lib\\site-packages\\keras\\utils\\traceback_utils.py\u001b[0m in \u001b[0;36merror_handler\u001b[1;34m(*args, **kwargs)\u001b[0m\n\u001b[0;32m     68\u001b[0m             \u001b[1;31m# To get the full stack trace, call:\u001b[0m\u001b[1;33m\u001b[0m\u001b[1;33m\u001b[0m\u001b[1;33m\u001b[0m\u001b[0m\n\u001b[0;32m     69\u001b[0m             \u001b[1;31m# `tf.debugging.disable_traceback_filtering()`\u001b[0m\u001b[1;33m\u001b[0m\u001b[1;33m\u001b[0m\u001b[1;33m\u001b[0m\u001b[0m\n\u001b[1;32m---> 70\u001b[1;33m             \u001b[1;32mraise\u001b[0m \u001b[0me\u001b[0m\u001b[1;33m.\u001b[0m\u001b[0mwith_traceback\u001b[0m\u001b[1;33m(\u001b[0m\u001b[0mfiltered_tb\u001b[0m\u001b[1;33m)\u001b[0m \u001b[1;32mfrom\u001b[0m \u001b[1;32mNone\u001b[0m\u001b[1;33m\u001b[0m\u001b[1;33m\u001b[0m\u001b[0m\n\u001b[0m\u001b[0;32m     71\u001b[0m         \u001b[1;32mfinally\u001b[0m\u001b[1;33m:\u001b[0m\u001b[1;33m\u001b[0m\u001b[1;33m\u001b[0m\u001b[0m\n\u001b[0;32m     72\u001b[0m             \u001b[1;32mdel\u001b[0m \u001b[0mfiltered_tb\u001b[0m\u001b[1;33m\u001b[0m\u001b[1;33m\u001b[0m\u001b[0m\n",
      "\u001b[1;32mC:\\ProgramData\\Anaconda3\\lib\\site-packages\\tensorflow\\python\\framework\\constant_op.py\u001b[0m in \u001b[0;36mconvert_to_eager_tensor\u001b[1;34m(value, ctx, dtype)\u001b[0m\n\u001b[0;32m    100\u001b[0m       \u001b[0mdtype\u001b[0m \u001b[1;33m=\u001b[0m \u001b[0mdtypes\u001b[0m\u001b[1;33m.\u001b[0m\u001b[0mas_dtype\u001b[0m\u001b[1;33m(\u001b[0m\u001b[0mdtype\u001b[0m\u001b[1;33m)\u001b[0m\u001b[1;33m.\u001b[0m\u001b[0mas_datatype_enum\u001b[0m\u001b[1;33m\u001b[0m\u001b[1;33m\u001b[0m\u001b[0m\n\u001b[0;32m    101\u001b[0m   \u001b[0mctx\u001b[0m\u001b[1;33m.\u001b[0m\u001b[0mensure_initialized\u001b[0m\u001b[1;33m(\u001b[0m\u001b[1;33m)\u001b[0m\u001b[1;33m\u001b[0m\u001b[1;33m\u001b[0m\u001b[0m\n\u001b[1;32m--> 102\u001b[1;33m   \u001b[1;32mreturn\u001b[0m \u001b[0mops\u001b[0m\u001b[1;33m.\u001b[0m\u001b[0mEagerTensor\u001b[0m\u001b[1;33m(\u001b[0m\u001b[0mvalue\u001b[0m\u001b[1;33m,\u001b[0m \u001b[0mctx\u001b[0m\u001b[1;33m.\u001b[0m\u001b[0mdevice_name\u001b[0m\u001b[1;33m,\u001b[0m \u001b[0mdtype\u001b[0m\u001b[1;33m)\u001b[0m\u001b[1;33m\u001b[0m\u001b[1;33m\u001b[0m\u001b[0m\n\u001b[0m\u001b[0;32m    103\u001b[0m \u001b[1;33m\u001b[0m\u001b[0m\n\u001b[0;32m    104\u001b[0m \u001b[1;33m\u001b[0m\u001b[0m\n",
      "\u001b[1;31mInternalError\u001b[0m: Failed copying input tensor from /job:localhost/replica:0/task:0/device:CPU:0 to /job:localhost/replica:0/task:0/device:GPU:0 in order to run _EagerConst: Dst tensor is not initialized."
     ]
    }
   ],
   "source": [
    "model.fit(x=[encoder_input, decoder_input], y=decoder_target, batch_size=64, epochs=35, validation_split=0.2) "
   ]
  },
  {
   "cell_type": "code",
   "execution_count": 27,
   "metadata": {},
   "outputs": [],
   "source": [
    "#model.save_weight(\"Models/CharLevel Seq2Seq.ckpt\")"
   ]
  },
  {
   "cell_type": "markdown",
   "metadata": {
    "id": "y7vGlyuiqicW"
   },
   "source": [
    "### Activating"
   ]
  },
  {
   "cell_type": "code",
   "execution_count": 28,
   "metadata": {
    "id": "3XSyrvztcztW"
   },
   "outputs": [],
   "source": [
    "#define encoder\n",
    "encoder_model = Model(inputs=encoder_inputs, outputs=encoder_states)"
   ]
  },
  {
   "cell_type": "code",
   "execution_count": 29,
   "metadata": {
    "colab": {
     "base_uri": "https://localhost:8080/",
     "height": 376
    },
    "id": "LnruOM0QqIrJ",
    "outputId": "09889586-918a-4408-d50c-7043c6b09d15"
   },
   "outputs": [],
   "source": [
    "#define decoder\n",
    "decoder_state_input_h = Input(shape=(256,)) # hidden\n",
    "decoder_state_input_c = Input(shape=(256,)) # cell\n",
    "decoder_states_inputs = [decoder_state_input_h, decoder_state_input_c]\n",
    "\n",
    "#decoder_lstm = LSTM(units=256, return_sequences=True , return_state=True)\n",
    "decoder_outputs, state_h, state_c = decoder_lstm(decoder_inputs, initial_state=decoder_states_inputs)\n",
    "\n",
    "decoder_states = [state_h, state_c] # save hidden&cell state\n",
    "#decoder_softmax_layer = Dense(tar_vocab_size, activation=\"softmax\")\n",
    "decoder_ouputs = decoder_softmax_layer(decoder_outputs)\n",
    "\n",
    "decoder_model = Model(inputs=[decoder_inputs] + decoder_states_inputs, outputs=[decoder_outputs] + decoder_states)"
   ]
  },
  {
   "cell_type": "code",
   "execution_count": 30,
   "metadata": {},
   "outputs": [
    {
     "name": "stdout",
     "output_type": "stream",
     "text": [
      "(None, None, 256)\n"
     ]
    }
   ],
   "source": [
    "print(decoder_outputs.shape)"
   ]
  },
  {
   "cell_type": "code",
   "execution_count": 31,
   "metadata": {
    "id": "iCb8jlDkylvu"
   },
   "outputs": [],
   "source": [
    "index_to_src = dict((i, char) for char, i in src_to_index.items())\n",
    "index_to_tar = dict((i, char) for char, i in tar_to_index.items())"
   ]
  },
  {
   "cell_type": "code",
   "execution_count": 32,
   "metadata": {
    "id": "a7GWqlu60Fe2"
   },
   "outputs": [],
   "source": [
    "def decode_sequence(input_seq) :\n",
    "    #input input to encoder\n",
    "    states_value = encoder_model.predict(input_seq)\n",
    "    \n",
    "    #making \\t(<SOS>) One-Hot vector\n",
    "    target_seq = np.zeros((1,1,tar_vocab_size))\n",
    "    target_seq[0,0, tar_to_index['\\t']] = 1\n",
    "    \n",
    "    decoded_sentence = \"\"\n",
    "    \n",
    "    while True :\n",
    "        output_tokens, h, c = decoder_model.predict([target_seq] + states_value)\n",
    "        \n",
    "        sampled_token_index = np.argmax(output_tokens[0, -1, :])\n",
    "        sampled_char = index_to_tar[sampled_token_index]\n",
    "        \n",
    "        decoded_sentence += sampled_char\n",
    "        \n",
    "        if sampled_char == '\\n' or len(decoded_sentence) > max_tar_len : #\\n==<eos>\n",
    "            break\n",
    "        \n",
    "        #saving predicted value\n",
    "        target_seq = np.zeros((1,1,tar_vocab_size))\n",
    "        target_seq[0,0, tar_to_index[sampled_token_index]] = 1\n",
    "        \n",
    "        #saving states\n",
    "        states_value - [h, c]\n",
    "    \n",
    "    return decoded_sentence"
   ]
  },
  {
   "cell_type": "markdown",
   "metadata": {},
   "source": [
    "# Test"
   ]
  },
  {
   "cell_type": "code",
   "execution_count": 39,
   "metadata": {},
   "outputs": [
    {
     "name": "stdout",
     "output_type": "stream",
     "text": [
      "(1, 31, 81)\n",
      "[[[0. 0. 0. ... 0. 0. 0.]\n",
      "  [0. 0. 0. ... 0. 0. 0.]\n",
      "  [0. 0. 0. ... 0. 0. 0.]\n",
      "  ...\n",
      "  [1. 0. 0. ... 0. 0. 0.]\n",
      "  [1. 0. 0. ... 0. 0. 0.]\n",
      "  [1. 0. 0. ... 0. 0. 0.]]]\n",
      "1/1 [==============================] - 0s 23ms/step\n",
      "[array([[ 2.99205072e-02,  4.17116970e-01, -4.70885634e-02,\n",
      "         2.54033487e-02,  2.80321203e-02, -2.37306207e-02,\n",
      "         9.91922140e-01, -3.17296013e-03,  2.93567888e-02,\n",
      "         6.15844309e-01,  6.08531293e-03, -9.95676219e-01,\n",
      "         7.65755326e-02, -4.39452618e-01,  9.90547519e-03,\n",
      "         3.80463526e-02, -9.20920551e-01, -4.41334575e-01,\n",
      "        -1.05348947e-02,  4.35537212e-02, -9.76649106e-01,\n",
      "         6.99149966e-02, -8.61695468e-01,  7.62312533e-03,\n",
      "        -1.43637955e-02,  2.05886886e-01,  1.41720727e-01,\n",
      "         5.50278306e-01,  5.41410409e-02, -1.12456031e-01,\n",
      "         1.36067972e-01, -1.81142762e-01,  9.85027850e-03,\n",
      "         8.34843889e-02, -3.59497257e-02, -4.90899161e-02,\n",
      "        -9.41187516e-02,  8.41773987e-01, -5.44716418e-02,\n",
      "         3.90849402e-03, -1.00720964e-01, -1.09558560e-01,\n",
      "        -9.18300927e-01, -2.59228069e-02, -3.04099414e-02,\n",
      "        -5.44173904e-02, -2.08503753e-02,  2.59996831e-01,\n",
      "        -9.30662215e-01, -1.39505807e-02,  1.41639352e-01,\n",
      "        -3.70573401e-02,  1.93648815e-01, -1.12037659e-01,\n",
      "        -9.25597474e-02,  3.24071315e-03,  1.37327136e-02,\n",
      "        -3.37950923e-02, -2.07543477e-01,  7.53872469e-02,\n",
      "        -8.80288705e-03, -1.33034542e-01,  2.38258503e-02,\n",
      "         5.17566390e-02,  1.36716822e-02,  5.47546186e-02,\n",
      "        -1.71135351e-01, -9.45240483e-02,  3.52880806e-02,\n",
      "        -2.01150417e-01, -8.75050247e-01,  7.24682063e-02,\n",
      "        -1.76151812e-01,  6.18752658e-01, -2.09281258e-02,\n",
      "         1.74294431e-02, -1.83385219e-02,  4.61456925e-02,\n",
      "        -9.83334720e-01, -7.02560693e-03,  1.23709641e-01,\n",
      "         5.28256595e-02,  5.87303825e-02,  4.46432471e-01,\n",
      "        -3.36367637e-02,  7.10882917e-02, -4.15816128e-01,\n",
      "         2.79960334e-02, -8.67288351e-01,  1.71474218e-02,\n",
      "         3.31902236e-01,  1.88125130e-02,  9.50461030e-01,\n",
      "        -5.13775349e-01,  2.11346634e-02, -9.62252542e-03,\n",
      "        -1.38866991e-01,  6.51095733e-02,  9.30868924e-01,\n",
      "         9.48443338e-02,  6.77589595e-01,  7.63172582e-02,\n",
      "         8.85344267e-01, -4.70535308e-02, -5.13419151e-01,\n",
      "        -4.40747142e-01, -1.03892677e-01, -5.14722578e-02,\n",
      "         5.63938953e-02, -8.61349344e-01, -7.42358761e-03,\n",
      "        -9.32756484e-01, -2.57875144e-01, -9.93055776e-02,\n",
      "        -4.19903398e-02,  8.85056973e-01, -2.72366583e-01,\n",
      "        -8.42220411e-02, -9.10754681e-01,  3.23025137e-02,\n",
      "        -2.48178050e-01, -9.80420768e-01,  2.57526860e-02,\n",
      "        -1.16253672e-02, -7.31461465e-01,  1.52156688e-02,\n",
      "        -5.84875932e-04,  1.20871074e-01, -9.04756114e-02,\n",
      "        -3.45903542e-03,  1.58470422e-02, -4.19254340e-02,\n",
      "        -1.39366789e-02,  8.01096201e-01,  3.52128118e-01,\n",
      "        -4.19994816e-02,  9.09201980e-01, -5.10685779e-02,\n",
      "         2.78791815e-01,  7.31409043e-02, -8.03181708e-01,\n",
      "         4.16416861e-02,  9.11022425e-01,  1.36450138e-02,\n",
      "        -1.38212427e-01, -7.77065039e-01, -4.62072380e-02,\n",
      "        -1.14142030e-01, -1.16973080e-01,  2.68758982e-02,\n",
      "         1.72121020e-03, -1.66677833e-02, -2.73243655e-02,\n",
      "        -6.93949878e-01, -2.33006477e-01, -3.74947377e-02,\n",
      "         4.13818434e-02, -1.85883641e-02, -1.13277517e-01,\n",
      "         1.58200681e-01, -6.40424937e-02, -4.29079950e-01,\n",
      "        -2.05743723e-02,  7.86936805e-02,  7.85910189e-01,\n",
      "         7.96099529e-02,  1.89815089e-02,  1.65649969e-02,\n",
      "        -9.53934610e-01, -2.85418499e-02,  2.29907893e-02,\n",
      "        -1.61131904e-01,  1.06989011e-01, -1.00401029e-01,\n",
      "         4.68333857e-03,  5.20330608e-01, -1.39081236e-02,\n",
      "        -8.01863194e-01,  2.45416500e-02, -4.13611978e-02,\n",
      "         7.47806787e-01,  5.25142133e-01,  7.03226551e-02,\n",
      "        -3.59007530e-02,  7.76699930e-02, -3.57478745e-02,\n",
      "        -2.56017566e-01, -1.07762255e-01,  4.09582518e-02,\n",
      "         3.60373527e-01, -9.37054634e-01,  2.28335351e-01,\n",
      "        -6.68088570e-02, -4.67725173e-02,  9.74128723e-01,\n",
      "        -6.33498363e-04,  6.16655827e-01, -4.40955937e-01,\n",
      "         2.15455461e-02,  5.97878247e-02, -2.08809413e-02,\n",
      "        -5.18958345e-02, -2.10883409e-01,  6.30073994e-02,\n",
      "        -5.18355239e-03,  9.93098795e-01,  5.74386299e-01,\n",
      "        -1.29416678e-02, -5.05880862e-02, -4.89902645e-01,\n",
      "         9.69738364e-02, -1.95096154e-02, -9.37979758e-01,\n",
      "        -7.75810778e-02, -4.59197670e-01,  1.25428960e-02,\n",
      "         3.46640795e-02, -8.52180004e-01,  7.37345695e-01,\n",
      "        -3.65509838e-01, -1.59003243e-01,  1.31203473e-01,\n",
      "         1.51542109e-02, -5.53508177e-02, -4.05432343e-01,\n",
      "        -3.52359116e-02, -1.31040933e-02, -1.63069785e-01,\n",
      "        -2.86344998e-02,  3.89599837e-02, -9.55388770e-02,\n",
      "         7.03416109e-01, -1.03144329e-02, -9.85137045e-01,\n",
      "         9.32478368e-01, -2.65299324e-02, -8.99186254e-01,\n",
      "        -3.33483815e-02,  2.07300764e-02,  7.41947770e-01,\n",
      "        -3.73722948e-02,  8.40585172e-01,  9.37999547e-01,\n",
      "         2.81765796e-02,  1.72975883e-02,  8.50329474e-02,\n",
      "         1.97321977e-02, -2.70685613e-01,  1.27106681e-02,\n",
      "        -1.36195570e-01, -9.94373024e-01,  7.52868727e-02,\n",
      "        -8.24702322e-01, -1.49000427e-02,  1.30701186e-02,\n",
      "        -5.50018698e-02]], dtype=float32), array([[ 6.38982058e+00,  7.90062785e-01, -1.08873749e+00,\n",
      "         8.83757919e-02,  4.10558134e-02, -6.96775770e+00,\n",
      "         5.62704039e+00, -5.76487854e-02,  9.73514652e+00,\n",
      "         1.26106310e+01,  8.14398479e+00, -9.06235981e+00,\n",
      "         1.39006066e+00, -4.82208014e+00,  7.63713169e+00,\n",
      "         1.26868601e+01, -1.61938930e+00, -2.27217388e+00,\n",
      "        -1.07569141e+01,  4.04763651e+00, -3.92836618e+00,\n",
      "         5.34363890e+00, -3.17876935e+00,  1.97285086e-01,\n",
      "        -1.75573790e+00,  5.50553894e+00,  2.93054223e-01,\n",
      "         4.11033916e+00,  6.82037878e+00, -6.10231018e+00,\n",
      "         8.64118195e+00, -7.39039278e+00,  6.86573458e+00,\n",
      "         1.01176214e+00, -7.49288321e+00, -7.10862875e+00,\n",
      "        -1.11557369e+01,  1.34551477e+01, -1.17701769e+01,\n",
      "         2.89567262e-02, -6.08115530e+00, -1.32718430e+01,\n",
      "        -3.56026602e+00, -1.00446522e-01, -3.62143230e+00,\n",
      "        -2.14889169e-01, -8.63020802e+00,  4.42615414e+00,\n",
      "        -1.70831203e+00, -1.42632399e+01,  1.65666294e+01,\n",
      "        -1.69337213e+00,  8.00711155e+00, -5.43167877e+00,\n",
      "        -9.75699997e+00,  1.71967242e-02,  1.06063031e-01,\n",
      "        -3.82236552e+00, -2.33107448e+00,  1.38500757e+01,\n",
      "        -1.04728468e-01, -1.10065355e+01,  1.10901012e+01,\n",
      "         2.60692716e+00,  1.36632719e+01,  7.94516230e+00,\n",
      "        -1.23395360e+00, -2.87868798e-01,  1.25899878e+01,\n",
      "        -9.58576679e+00, -1.83869457e+01,  1.25478086e+01,\n",
      "        -1.79286957e-01,  6.62114429e+00, -6.77303314e+00,\n",
      "         4.84370756e+00, -2.19065800e-01,  4.66878748e+00,\n",
      "        -1.54871912e+01, -4.63989210e+00,  1.12213879e+01,\n",
      "         6.13125086e+00,  1.15922489e+01,  1.29657431e+01,\n",
      "        -9.63562393e+00,  1.20024691e+01, -5.07866240e+00,\n",
      "         4.30617380e+00, -8.18248558e+00,  1.55704036e-01,\n",
      "         2.69413233e+00,  4.95217562e+00,  2.25180387e+00,\n",
      "        -7.14171529e-01,  8.32670212e+00, -1.20405645e+01,\n",
      "        -1.08506565e+01,  1.33285809e+01,  6.59343719e+00,\n",
      "         2.36128241e-01,  4.66703653e+00,  1.52129567e+00,\n",
      "         9.98663807e+00, -4.16464329e-01, -1.50276031e+01,\n",
      "        -1.22406921e+01, -1.18811579e+01, -4.82309961e+00,\n",
      "         1.16072397e+01, -1.47210445e+01, -1.56511474e+00,\n",
      "        -4.90598536e+00, -3.46033406e+00, -4.66697365e-01,\n",
      "        -3.57609892e+00,  4.48330021e+00, -7.47318840e+00,\n",
      "        -1.88713229e+00, -1.41455317e+01,  7.44080830e+00,\n",
      "        -5.09129477e+00, -2.37051702e+00,  1.03640299e+01,\n",
      "        -1.23900628e+00, -1.32940540e+01,  5.04092121e+00,\n",
      "        -6.30327559e-04,  8.12872791e+00, -1.36529312e+01,\n",
      "        -6.94979951e-02,  3.75197005e+00, -9.19158459e+00,\n",
      "        -1.39548349e+01,  1.02659006e+01,  8.49546242e+00,\n",
      "        -8.38562584e+00,  6.17571878e+00, -1.05969620e+01,\n",
      "         4.96287632e+00,  9.00989628e+00, -1.15129042e+01,\n",
      "         1.12395048e+01,  1.55674200e+01,  7.58396760e-02,\n",
      "        -2.85116643e-01, -3.80457020e+00, -1.67620659e+00,\n",
      "        -1.44288168e+01, -1.81453884e-01,  1.46709261e+01,\n",
      "         8.37329868e-03, -3.20762491e+00, -9.87353706e+00,\n",
      "        -9.49040890e+00, -1.18693447e+01, -4.75970221e+00,\n",
      "         1.24316530e+01, -7.43668750e-02, -5.03259993e+00,\n",
      "         1.47273827e+01, -1.37561703e+01, -4.65398610e-01,\n",
      "        -2.34814525e+00,  1.18907943e-01,  6.67298126e+00,\n",
      "         4.43503904e+00,  3.11207199e+00,  9.79197845e-02,\n",
      "        -1.19325590e+01, -4.66869068e+00,  9.12232459e-01,\n",
      "        -1.03928983e+00,  2.36474013e+00, -9.82479095e+00,\n",
      "         5.97939014e+00,  1.47621810e+00, -6.45440245e+00,\n",
      "        -7.44619179e+00,  1.31862056e+00, -1.12785320e+01,\n",
      "         9.16745281e+00,  1.18669920e+01,  7.66748190e-02,\n",
      "        -5.43231821e+00,  1.39049416e+01, -8.49768639e+00,\n",
      "        -7.66946840e+00, -7.58765399e-01,  3.71625996e+00,\n",
      "         6.83915377e-01, -9.49314690e+00,  3.63021016e-01,\n",
      "        -9.78043079e-01, -6.96650922e-01,  4.90738010e+00,\n",
      "        -2.67529432e-02,  1.00761242e+01, -3.17343616e+00,\n",
      "         1.08437166e+01,  4.37991285e+00, -7.98249578e+00,\n",
      "        -3.25031304e+00, -1.20609674e+01,  2.57360429e-01,\n",
      "        -6.73599839e-02,  5.28128815e+00,  6.63280606e-01,\n",
      "        -1.50627337e+01, -1.16363592e+01, -2.09980965e+00,\n",
      "         6.84773874e+00, -4.06936741e+00, -9.26149940e+00,\n",
      "        -1.50272083e+01, -5.36893666e-01,  9.31207612e-02,\n",
      "         1.13347397e+01, -1.41423979e+01,  5.78049326e+00,\n",
      "        -4.07284915e-01, -1.27432194e+01,  1.84074596e-01,\n",
      "         1.22584429e+01, -1.15050468e+01, -4.32800502e-01,\n",
      "        -1.19516430e+01, -9.32980728e+00, -6.75764894e+00,\n",
      "        -6.79784012e+00,  2.51763010e+00, -3.98405939e-01,\n",
      "         1.21951485e+01, -9.51466846e+00, -8.95064354e+00,\n",
      "         1.60483418e+01, -1.32858868e+01, -2.12744665e+00,\n",
      "        -1.26530371e+01,  9.59942150e+00,  6.43020821e+00,\n",
      "        -6.72598028e+00,  1.67053242e+01,  2.02323127e+00,\n",
      "         7.72876787e+00,  8.95046806e+00,  1.26193771e+01,\n",
      "         4.59543943e+00, -2.80955374e-01,  2.48718238e+00,\n",
      "        -5.41689456e-01, -8.12276554e+00,  1.27214260e+01,\n",
      "        -1.18035436e+00, -5.80142699e-02,  3.61496186e+00,\n",
      "        -1.27647638e+01]], dtype=float32)]\n"
     ]
    }
   ],
   "source": [
    "input_seq = encoder_input[3:4]\n",
    "print(input_seq.shape)\n",
    "print(input_seq)\n",
    "states_value = encoder_model.predict(input_seq)\n",
    "print(states_value)"
   ]
  },
  {
   "cell_type": "code",
   "execution_count": 34,
   "metadata": {},
   "outputs": [
    {
     "name": "stdout",
     "output_type": "stream",
     "text": [
      "(1, 1, 100)\n",
      "(2, 1, 256)\n",
      "[array([[[0., 1., 0., 0., 0., 0., 0., 0., 0., 0., 0., 0., 0., 0., 0., 0.,\n",
      "         0., 0., 0., 0., 0., 0., 0., 0., 0., 0., 0., 0., 0., 0., 0., 0.,\n",
      "         0., 0., 0., 0., 0., 0., 0., 0., 0., 0., 0., 0., 0., 0., 0., 0.,\n",
      "         0., 0., 0., 0., 0., 0., 0., 0., 0., 0., 0., 0., 0., 0., 0., 0.,\n",
      "         0., 0., 0., 0., 0., 0., 0., 0., 0., 0., 0., 0., 0., 0., 0., 0.,\n",
      "         0., 0., 0., 0., 0., 0., 0., 0., 0., 0., 0., 0., 0., 0., 0., 0.,\n",
      "         0., 0., 0., 0.]]]), array([[ 2.99205072e-02,  4.17116970e-01, -4.70885634e-02,\n",
      "         2.54033487e-02,  2.80321203e-02, -2.37306207e-02,\n",
      "         9.91922140e-01, -3.17296013e-03,  2.93567888e-02,\n",
      "         6.15844309e-01,  6.08531293e-03, -9.95676219e-01,\n",
      "         7.65755326e-02, -4.39452618e-01,  9.90547519e-03,\n",
      "         3.80463526e-02, -9.20920551e-01, -4.41334575e-01,\n",
      "        -1.05348947e-02,  4.35537212e-02, -9.76649106e-01,\n",
      "         6.99149966e-02, -8.61695468e-01,  7.62312533e-03,\n",
      "        -1.43637955e-02,  2.05886886e-01,  1.41720727e-01,\n",
      "         5.50278306e-01,  5.41410409e-02, -1.12456031e-01,\n",
      "         1.36067972e-01, -1.81142762e-01,  9.85027850e-03,\n",
      "         8.34843889e-02, -3.59497257e-02, -4.90899161e-02,\n",
      "        -9.41187516e-02,  8.41773987e-01, -5.44716418e-02,\n",
      "         3.90849402e-03, -1.00720964e-01, -1.09558560e-01,\n",
      "        -9.18300927e-01, -2.59228069e-02, -3.04099414e-02,\n",
      "        -5.44173904e-02, -2.08503753e-02,  2.59996831e-01,\n",
      "        -9.30662215e-01, -1.39505807e-02,  1.41639352e-01,\n",
      "        -3.70573401e-02,  1.93648815e-01, -1.12037659e-01,\n",
      "        -9.25597474e-02,  3.24071315e-03,  1.37327136e-02,\n",
      "        -3.37950923e-02, -2.07543477e-01,  7.53872469e-02,\n",
      "        -8.80288705e-03, -1.33034542e-01,  2.38258503e-02,\n",
      "         5.17566390e-02,  1.36716822e-02,  5.47546186e-02,\n",
      "        -1.71135351e-01, -9.45240483e-02,  3.52880806e-02,\n",
      "        -2.01150417e-01, -8.75050247e-01,  7.24682063e-02,\n",
      "        -1.76151812e-01,  6.18752658e-01, -2.09281258e-02,\n",
      "         1.74294431e-02, -1.83385219e-02,  4.61456925e-02,\n",
      "        -9.83334720e-01, -7.02560693e-03,  1.23709641e-01,\n",
      "         5.28256595e-02,  5.87303825e-02,  4.46432471e-01,\n",
      "        -3.36367637e-02,  7.10882917e-02, -4.15816128e-01,\n",
      "         2.79960334e-02, -8.67288351e-01,  1.71474218e-02,\n",
      "         3.31902236e-01,  1.88125130e-02,  9.50461030e-01,\n",
      "        -5.13775349e-01,  2.11346634e-02, -9.62252542e-03,\n",
      "        -1.38866991e-01,  6.51095733e-02,  9.30868924e-01,\n",
      "         9.48443338e-02,  6.77589595e-01,  7.63172582e-02,\n",
      "         8.85344267e-01, -4.70535308e-02, -5.13419151e-01,\n",
      "        -4.40747142e-01, -1.03892677e-01, -5.14722578e-02,\n",
      "         5.63938953e-02, -8.61349344e-01, -7.42358761e-03,\n",
      "        -9.32756484e-01, -2.57875144e-01, -9.93055776e-02,\n",
      "        -4.19903398e-02,  8.85056973e-01, -2.72366583e-01,\n",
      "        -8.42220411e-02, -9.10754681e-01,  3.23025137e-02,\n",
      "        -2.48178050e-01, -9.80420768e-01,  2.57526860e-02,\n",
      "        -1.16253672e-02, -7.31461465e-01,  1.52156688e-02,\n",
      "        -5.84875932e-04,  1.20871074e-01, -9.04756114e-02,\n",
      "        -3.45903542e-03,  1.58470422e-02, -4.19254340e-02,\n",
      "        -1.39366789e-02,  8.01096201e-01,  3.52128118e-01,\n",
      "        -4.19994816e-02,  9.09201980e-01, -5.10685779e-02,\n",
      "         2.78791815e-01,  7.31409043e-02, -8.03181708e-01,\n",
      "         4.16416861e-02,  9.11022425e-01,  1.36450138e-02,\n",
      "        -1.38212427e-01, -7.77065039e-01, -4.62072380e-02,\n",
      "        -1.14142030e-01, -1.16973080e-01,  2.68758982e-02,\n",
      "         1.72121020e-03, -1.66677833e-02, -2.73243655e-02,\n",
      "        -6.93949878e-01, -2.33006477e-01, -3.74947377e-02,\n",
      "         4.13818434e-02, -1.85883641e-02, -1.13277517e-01,\n",
      "         1.58200681e-01, -6.40424937e-02, -4.29079950e-01,\n",
      "        -2.05743723e-02,  7.86936805e-02,  7.85910189e-01,\n",
      "         7.96099529e-02,  1.89815089e-02,  1.65649969e-02,\n",
      "        -9.53934610e-01, -2.85418499e-02,  2.29907893e-02,\n",
      "        -1.61131904e-01,  1.06989011e-01, -1.00401029e-01,\n",
      "         4.68333857e-03,  5.20330608e-01, -1.39081236e-02,\n",
      "        -8.01863194e-01,  2.45416500e-02, -4.13611978e-02,\n",
      "         7.47806787e-01,  5.25142133e-01,  7.03226551e-02,\n",
      "        -3.59007530e-02,  7.76699930e-02, -3.57478745e-02,\n",
      "        -2.56017566e-01, -1.07762255e-01,  4.09582518e-02,\n",
      "         3.60373527e-01, -9.37054634e-01,  2.28335351e-01,\n",
      "        -6.68088570e-02, -4.67725173e-02,  9.74128723e-01,\n",
      "        -6.33498363e-04,  6.16655827e-01, -4.40955937e-01,\n",
      "         2.15455461e-02,  5.97878247e-02, -2.08809413e-02,\n",
      "        -5.18958345e-02, -2.10883409e-01,  6.30073994e-02,\n",
      "        -5.18355239e-03,  9.93098795e-01,  5.74386299e-01,\n",
      "        -1.29416678e-02, -5.05880862e-02, -4.89902645e-01,\n",
      "         9.69738364e-02, -1.95096154e-02, -9.37979758e-01,\n",
      "        -7.75810778e-02, -4.59197670e-01,  1.25428960e-02,\n",
      "         3.46640795e-02, -8.52180004e-01,  7.37345695e-01,\n",
      "        -3.65509838e-01, -1.59003243e-01,  1.31203473e-01,\n",
      "         1.51542109e-02, -5.53508177e-02, -4.05432343e-01,\n",
      "        -3.52359116e-02, -1.31040933e-02, -1.63069785e-01,\n",
      "        -2.86344998e-02,  3.89599837e-02, -9.55388770e-02,\n",
      "         7.03416109e-01, -1.03144329e-02, -9.85137045e-01,\n",
      "         9.32478368e-01, -2.65299324e-02, -8.99186254e-01,\n",
      "        -3.33483815e-02,  2.07300764e-02,  7.41947770e-01,\n",
      "        -3.73722948e-02,  8.40585172e-01,  9.37999547e-01,\n",
      "         2.81765796e-02,  1.72975883e-02,  8.50329474e-02,\n",
      "         1.97321977e-02, -2.70685613e-01,  1.27106681e-02,\n",
      "        -1.36195570e-01, -9.94373024e-01,  7.52868727e-02,\n",
      "        -8.24702322e-01, -1.49000427e-02,  1.30701186e-02,\n",
      "        -5.50018698e-02]], dtype=float32), array([[ 6.38982058e+00,  7.90062785e-01, -1.08873749e+00,\n",
      "         8.83757919e-02,  4.10558134e-02, -6.96775770e+00,\n",
      "         5.62704039e+00, -5.76487854e-02,  9.73514652e+00,\n",
      "         1.26106310e+01,  8.14398479e+00, -9.06235981e+00,\n",
      "         1.39006066e+00, -4.82208014e+00,  7.63713169e+00,\n",
      "         1.26868601e+01, -1.61938930e+00, -2.27217388e+00,\n",
      "        -1.07569141e+01,  4.04763651e+00, -3.92836618e+00,\n",
      "         5.34363890e+00, -3.17876935e+00,  1.97285086e-01,\n",
      "        -1.75573790e+00,  5.50553894e+00,  2.93054223e-01,\n",
      "         4.11033916e+00,  6.82037878e+00, -6.10231018e+00,\n",
      "         8.64118195e+00, -7.39039278e+00,  6.86573458e+00,\n",
      "         1.01176214e+00, -7.49288321e+00, -7.10862875e+00,\n",
      "        -1.11557369e+01,  1.34551477e+01, -1.17701769e+01,\n",
      "         2.89567262e-02, -6.08115530e+00, -1.32718430e+01,\n",
      "        -3.56026602e+00, -1.00446522e-01, -3.62143230e+00,\n",
      "        -2.14889169e-01, -8.63020802e+00,  4.42615414e+00,\n",
      "        -1.70831203e+00, -1.42632399e+01,  1.65666294e+01,\n",
      "        -1.69337213e+00,  8.00711155e+00, -5.43167877e+00,\n",
      "        -9.75699997e+00,  1.71967242e-02,  1.06063031e-01,\n",
      "        -3.82236552e+00, -2.33107448e+00,  1.38500757e+01,\n",
      "        -1.04728468e-01, -1.10065355e+01,  1.10901012e+01,\n",
      "         2.60692716e+00,  1.36632719e+01,  7.94516230e+00,\n",
      "        -1.23395360e+00, -2.87868798e-01,  1.25899878e+01,\n",
      "        -9.58576679e+00, -1.83869457e+01,  1.25478086e+01,\n",
      "        -1.79286957e-01,  6.62114429e+00, -6.77303314e+00,\n",
      "         4.84370756e+00, -2.19065800e-01,  4.66878748e+00,\n",
      "        -1.54871912e+01, -4.63989210e+00,  1.12213879e+01,\n",
      "         6.13125086e+00,  1.15922489e+01,  1.29657431e+01,\n",
      "        -9.63562393e+00,  1.20024691e+01, -5.07866240e+00,\n",
      "         4.30617380e+00, -8.18248558e+00,  1.55704036e-01,\n",
      "         2.69413233e+00,  4.95217562e+00,  2.25180387e+00,\n",
      "        -7.14171529e-01,  8.32670212e+00, -1.20405645e+01,\n",
      "        -1.08506565e+01,  1.33285809e+01,  6.59343719e+00,\n",
      "         2.36128241e-01,  4.66703653e+00,  1.52129567e+00,\n",
      "         9.98663807e+00, -4.16464329e-01, -1.50276031e+01,\n",
      "        -1.22406921e+01, -1.18811579e+01, -4.82309961e+00,\n",
      "         1.16072397e+01, -1.47210445e+01, -1.56511474e+00,\n",
      "        -4.90598536e+00, -3.46033406e+00, -4.66697365e-01,\n",
      "        -3.57609892e+00,  4.48330021e+00, -7.47318840e+00,\n",
      "        -1.88713229e+00, -1.41455317e+01,  7.44080830e+00,\n",
      "        -5.09129477e+00, -2.37051702e+00,  1.03640299e+01,\n",
      "        -1.23900628e+00, -1.32940540e+01,  5.04092121e+00,\n",
      "        -6.30327559e-04,  8.12872791e+00, -1.36529312e+01,\n",
      "        -6.94979951e-02,  3.75197005e+00, -9.19158459e+00,\n",
      "        -1.39548349e+01,  1.02659006e+01,  8.49546242e+00,\n",
      "        -8.38562584e+00,  6.17571878e+00, -1.05969620e+01,\n",
      "         4.96287632e+00,  9.00989628e+00, -1.15129042e+01,\n",
      "         1.12395048e+01,  1.55674200e+01,  7.58396760e-02,\n",
      "        -2.85116643e-01, -3.80457020e+00, -1.67620659e+00,\n",
      "        -1.44288168e+01, -1.81453884e-01,  1.46709261e+01,\n",
      "         8.37329868e-03, -3.20762491e+00, -9.87353706e+00,\n",
      "        -9.49040890e+00, -1.18693447e+01, -4.75970221e+00,\n",
      "         1.24316530e+01, -7.43668750e-02, -5.03259993e+00,\n",
      "         1.47273827e+01, -1.37561703e+01, -4.65398610e-01,\n",
      "        -2.34814525e+00,  1.18907943e-01,  6.67298126e+00,\n",
      "         4.43503904e+00,  3.11207199e+00,  9.79197845e-02,\n",
      "        -1.19325590e+01, -4.66869068e+00,  9.12232459e-01,\n",
      "        -1.03928983e+00,  2.36474013e+00, -9.82479095e+00,\n",
      "         5.97939014e+00,  1.47621810e+00, -6.45440245e+00,\n",
      "        -7.44619179e+00,  1.31862056e+00, -1.12785320e+01,\n",
      "         9.16745281e+00,  1.18669920e+01,  7.66748190e-02,\n",
      "        -5.43231821e+00,  1.39049416e+01, -8.49768639e+00,\n",
      "        -7.66946840e+00, -7.58765399e-01,  3.71625996e+00,\n",
      "         6.83915377e-01, -9.49314690e+00,  3.63021016e-01,\n",
      "        -9.78043079e-01, -6.96650922e-01,  4.90738010e+00,\n",
      "        -2.67529432e-02,  1.00761242e+01, -3.17343616e+00,\n",
      "         1.08437166e+01,  4.37991285e+00, -7.98249578e+00,\n",
      "        -3.25031304e+00, -1.20609674e+01,  2.57360429e-01,\n",
      "        -6.73599839e-02,  5.28128815e+00,  6.63280606e-01,\n",
      "        -1.50627337e+01, -1.16363592e+01, -2.09980965e+00,\n",
      "         6.84773874e+00, -4.06936741e+00, -9.26149940e+00,\n",
      "        -1.50272083e+01, -5.36893666e-01,  9.31207612e-02,\n",
      "         1.13347397e+01, -1.41423979e+01,  5.78049326e+00,\n",
      "        -4.07284915e-01, -1.27432194e+01,  1.84074596e-01,\n",
      "         1.22584429e+01, -1.15050468e+01, -4.32800502e-01,\n",
      "        -1.19516430e+01, -9.32980728e+00, -6.75764894e+00,\n",
      "        -6.79784012e+00,  2.51763010e+00, -3.98405939e-01,\n",
      "         1.21951485e+01, -9.51466846e+00, -8.95064354e+00,\n",
      "         1.60483418e+01, -1.32858868e+01, -2.12744665e+00,\n",
      "        -1.26530371e+01,  9.59942150e+00,  6.43020821e+00,\n",
      "        -6.72598028e+00,  1.67053242e+01,  2.02323127e+00,\n",
      "         7.72876787e+00,  8.95046806e+00,  1.26193771e+01,\n",
      "         4.59543943e+00, -2.80955374e-01,  2.48718238e+00,\n",
      "        -5.41689456e-01, -8.12276554e+00,  1.27214260e+01,\n",
      "        -1.18035436e+00, -5.80142699e-02,  3.61496186e+00,\n",
      "        -1.27647638e+01]], dtype=float32)]\n"
     ]
    }
   ],
   "source": [
    "target_seq = np.zeros((1,1,tar_vocab_size))\n",
    "target_seq[0,0, tar_to_index['\\t']] = 1\n",
    "print(np.array(target_seq).shape)\n",
    "print(np.array(states_value).shape)\n",
    "print([target_seq] + states_value)"
   ]
  },
  {
   "cell_type": "code",
   "execution_count": 35,
   "metadata": {},
   "outputs": [
    {
     "name": "stdout",
     "output_type": "stream",
     "text": [
      "1/1 [==============================] - 0s 343ms/step\n",
      "[[[ 7.38178790e-01 -2.11591050e-01 -2.64815241e-01 -1.17115900e-01\n",
      "    9.10547823e-02 -7.65506998e-02  8.13658655e-01 -7.41284294e-03\n",
      "    3.22157554e-02  2.75590360e-01  5.65252721e-01 -9.86169755e-01\n",
      "    2.00326651e-01 -1.23429030e-01  3.13577682e-01  4.14363712e-01\n",
      "    4.94697690e-01 -6.07216001e-01 -5.25311470e-01  8.09914827e-01\n",
      "   -3.29509795e-01  1.12815045e-01 -2.12371275e-01 -1.53759018e-01\n",
      "   -3.13173890e-01  1.55748338e-01  1.65591210e-01  1.88736007e-01\n",
      "    5.00864446e-01 -4.42701817e-01  2.20922336e-01 -6.78388700e-02\n",
      "    5.36891460e-01 -3.01636942e-02 -2.89518893e-01 -1.15324460e-01\n",
      "   -7.40359128e-01  1.82450548e-01 -6.77683115e-01  1.33842733e-02\n",
      "   -1.06650203e-01 -2.05120891e-01 -8.51200938e-01  1.19482860e-01\n",
      "   -7.21132457e-01  4.11179632e-01 -1.79240689e-01  4.25343663e-01\n",
      "   -8.21404159e-01 -5.14580071e-01  8.02778482e-01 -7.21085787e-01\n",
      "    2.47047856e-01 -2.81548440e-01 -4.08224344e-01  5.73409013e-02\n",
      "   -7.33070001e-02 -2.32679322e-01 -2.90160388e-01  9.42125022e-01\n",
      "   -8.18184763e-02 -9.21957195e-01  3.50335568e-01  3.52054477e-01\n",
      "    2.90682316e-01  4.05763149e-01 -2.95122504e-01  1.56301349e-01\n",
      "    2.78001070e-01 -8.32198679e-01 -4.24958378e-01  3.79732311e-01\n",
      "   -5.32657623e-01  1.02331258e-01 -3.16709131e-01  4.29111153e-01\n",
      "   -2.01808274e-01  8.46885860e-01 -6.33166015e-01 -8.27086091e-01\n",
      "    1.17499828e-01  7.99102187e-01  8.25091064e-01  8.87244463e-01\n",
      "   -4.90082264e-01  2.05337971e-01 -9.44170833e-01  3.75852346e-01\n",
      "   -9.47161496e-01 -4.57911819e-01  5.52008115e-02  4.62633938e-01\n",
      "    8.99318337e-01  7.92980641e-02  9.27179992e-01 -1.75166264e-01\n",
      "   -1.23748489e-01  4.11961287e-01  9.63506877e-01 -3.44841070e-02\n",
      "    7.85879850e-01  8.52337420e-01  9.90575552e-01 -1.42781481e-01\n",
      "   -1.91642597e-01 -5.49812317e-01 -1.46034673e-01 -7.73382485e-01\n",
      "    1.94479272e-01 -6.40255749e-01 -1.79425806e-01 -8.86691332e-01\n",
      "   -8.16837251e-02 -5.93422428e-02 -2.45178521e-01  4.98909019e-02\n",
      "   -1.34045780e-01 -6.68595791e-01 -1.19621173e-01  1.57478631e-01\n",
      "   -1.13167033e-01 -8.16699862e-01  9.22627211e-01 -4.09179814e-02\n",
      "   -1.06295921e-01  4.91165698e-01 -1.29329532e-01  5.73054790e-01\n",
      "   -9.86414731e-01  4.00836356e-02  2.52556622e-01 -3.57704133e-01\n",
      "   -9.16791677e-01  3.31337869e-01  6.98908493e-02 -8.90442431e-01\n",
      "    3.38182718e-01 -3.20081621e-01  7.84978867e-02  1.77477211e-01\n",
      "   -8.77368599e-02  2.52791464e-01  4.64645959e-02 -6.27775267e-02\n",
      "    8.08842888e-04 -8.30818713e-01 -1.56598106e-01 -3.61951254e-02\n",
      "    3.82489040e-02  8.54549289e-01 -3.79831314e-01 -1.92168713e-01\n",
      "   -7.84788132e-01 -9.78446841e-01 -3.56938183e-01 -2.27699891e-01\n",
      "    2.37294689e-01 -4.54194307e-01 -2.85665929e-01  2.61437148e-01\n",
      "   -9.02854502e-02 -9.07607190e-03 -8.96658301e-02 -2.90580601e-01\n",
      "    9.69319165e-01  1.48300171e-01  1.29022002e-01  2.75986064e-02\n",
      "   -3.10916364e-01 -6.37360513e-01  1.90879419e-01  1.52688744e-02\n",
      "    2.47419432e-01 -1.82097957e-01  8.92019749e-01  5.50272286e-01\n",
      "   -7.28903830e-01 -1.07379891e-01  3.43579173e-01 -7.09872842e-01\n",
      "    8.61965179e-01  2.19241410e-01 -3.13290358e-01 -1.24254979e-01\n",
      "    6.48934126e-01 -2.01017067e-01 -1.51462346e-01 -4.32120800e-01\n",
      "    3.97166520e-01 -5.44061720e-01 -9.67162788e-01 -4.87073392e-01\n",
      "   -2.50382662e-01  2.64323443e-01  5.39199471e-01 -2.94130156e-03\n",
      "    1.11892201e-01 -1.53710574e-01  2.64784634e-01  2.88663924e-01\n",
      "   -3.89796019e-01 -1.64684221e-01 -7.46782660e-01  3.69305871e-02\n",
      "    8.39373916e-02  7.99549341e-01 -3.47817808e-01 -6.00611508e-01\n",
      "   -6.70866370e-02 -2.01651230e-01  9.57516134e-01 -4.07040358e-01\n",
      "   -6.49954915e-01 -2.77778089e-01 -2.66084578e-02  3.22806463e-02\n",
      "    5.67180872e-01 -5.85718572e-01  3.72638553e-01 -1.36125401e-01\n",
      "   -6.25998020e-01 -8.23215544e-02  7.50278592e-01 -8.02843273e-01\n",
      "   -8.01651239e-01 -7.27130949e-01 -3.86317581e-01 -9.30523574e-02\n",
      "   -8.01547617e-02  2.55080551e-01 -1.23118022e-02  2.71468490e-01\n",
      "   -2.79872060e-01 -9.54000473e-01  5.31057306e-02 -1.21953227e-01\n",
      "   -4.55208033e-01 -7.24932075e-01  7.90311694e-01  6.57160044e-01\n",
      "   -3.49002033e-01  1.87932059e-01  4.45884943e-01  3.23239088e-01\n",
      "    4.60987151e-01  6.11375391e-01  2.75624275e-01 -3.88679951e-01\n",
      "    3.49016994e-01 -4.64625031e-01 -9.87077534e-01  6.80979967e-01\n",
      "   -9.00061429e-01 -5.42486832e-03  8.88184905e-01 -1.67504787e-01]]]\n"
     ]
    }
   ],
   "source": [
    "output_tokens, h, c = decoder_model.predict([target_seq] + states_value)\n",
    "print(output_tokens)"
   ]
  },
  {
   "cell_type": "code",
   "execution_count": null,
   "metadata": {},
   "outputs": [],
   "source": []
  },
  {
   "cell_type": "code",
   "execution_count": 41,
   "metadata": {},
   "outputs": [
    {
     "name": "stdout",
     "output_type": "stream",
     "text": [
      "1/1 [==============================] - 0s 23ms/step\n",
      "1/1 [==============================] - 0s 25ms/step\n"
     ]
    },
    {
     "ename": "KeyError",
     "evalue": "102",
     "output_type": "error",
     "traceback": [
      "\u001b[1;31m---------------------------------------------------------------------------\u001b[0m",
      "\u001b[1;31mKeyError\u001b[0m                                  Traceback (most recent call last)",
      "\u001b[1;32m<ipython-input-41-754aeaa0c88c>\u001b[0m in \u001b[0;36m<module>\u001b[1;34m\u001b[0m\n\u001b[0;32m      1\u001b[0m \u001b[1;32mfor\u001b[0m \u001b[0mseq_index\u001b[0m \u001b[1;32min\u001b[0m \u001b[1;33m[\u001b[0m\u001b[1;36m3\u001b[0m\u001b[1;33m,\u001b[0m\u001b[1;36m50\u001b[0m\u001b[1;33m,\u001b[0m\u001b[1;36m100\u001b[0m\u001b[1;33m,\u001b[0m\u001b[1;36m300\u001b[0m\u001b[1;33m,\u001b[0m\u001b[1;36m1001\u001b[0m\u001b[1;33m]\u001b[0m\u001b[1;33m:\u001b[0m \u001b[1;31m# 입력 문장의 인덱스\u001b[0m\u001b[1;33m\u001b[0m\u001b[1;33m\u001b[0m\u001b[0m\n\u001b[0;32m      2\u001b[0m     \u001b[0minput_seq\u001b[0m \u001b[1;33m=\u001b[0m \u001b[0mencoder_input\u001b[0m\u001b[1;33m[\u001b[0m\u001b[0mseq_index\u001b[0m\u001b[1;33m:\u001b[0m\u001b[0mseq_index\u001b[0m\u001b[1;33m+\u001b[0m\u001b[1;36m1\u001b[0m\u001b[1;33m]\u001b[0m\u001b[1;33m\u001b[0m\u001b[1;33m\u001b[0m\u001b[0m\n\u001b[1;32m----> 3\u001b[1;33m     \u001b[0mdecoded_sentence\u001b[0m \u001b[1;33m=\u001b[0m \u001b[0mdecode_sequence\u001b[0m\u001b[1;33m(\u001b[0m\u001b[0minput_seq\u001b[0m\u001b[1;33m)\u001b[0m\u001b[1;33m\u001b[0m\u001b[1;33m\u001b[0m\u001b[0m\n\u001b[0m\u001b[0;32m      4\u001b[0m     \u001b[0mprint\u001b[0m\u001b[1;33m(\u001b[0m\u001b[1;36m35\u001b[0m \u001b[1;33m*\u001b[0m \u001b[1;34m\"-\"\u001b[0m\u001b[1;33m)\u001b[0m\u001b[1;33m\u001b[0m\u001b[1;33m\u001b[0m\u001b[0m\n\u001b[0;32m      5\u001b[0m     \u001b[0mprint\u001b[0m\u001b[1;33m(\u001b[0m\u001b[1;34m'입력 문장:'\u001b[0m\u001b[1;33m,\u001b[0m \u001b[0mlines\u001b[0m\u001b[1;33m.\u001b[0m\u001b[0msrc\u001b[0m\u001b[1;33m[\u001b[0m\u001b[0mseq_index\u001b[0m\u001b[1;33m]\u001b[0m\u001b[1;33m)\u001b[0m\u001b[1;33m\u001b[0m\u001b[1;33m\u001b[0m\u001b[0m\n",
      "\u001b[1;32m<ipython-input-32-a41cee4b7708>\u001b[0m in \u001b[0;36mdecode_sequence\u001b[1;34m(input_seq)\u001b[0m\n\u001b[0;32m     13\u001b[0m \u001b[1;33m\u001b[0m\u001b[0m\n\u001b[0;32m     14\u001b[0m         \u001b[0msampled_token_index\u001b[0m \u001b[1;33m=\u001b[0m \u001b[0mnp\u001b[0m\u001b[1;33m.\u001b[0m\u001b[0margmax\u001b[0m\u001b[1;33m(\u001b[0m\u001b[0moutput_tokens\u001b[0m\u001b[1;33m[\u001b[0m\u001b[1;36m0\u001b[0m\u001b[1;33m,\u001b[0m \u001b[1;33m-\u001b[0m\u001b[1;36m1\u001b[0m\u001b[1;33m,\u001b[0m \u001b[1;33m:\u001b[0m\u001b[1;33m]\u001b[0m\u001b[1;33m)\u001b[0m\u001b[1;33m\u001b[0m\u001b[1;33m\u001b[0m\u001b[0m\n\u001b[1;32m---> 15\u001b[1;33m         \u001b[0msampled_char\u001b[0m \u001b[1;33m=\u001b[0m \u001b[0mindex_to_tar\u001b[0m\u001b[1;33m[\u001b[0m\u001b[0msampled_token_index\u001b[0m\u001b[1;33m]\u001b[0m\u001b[1;33m\u001b[0m\u001b[1;33m\u001b[0m\u001b[0m\n\u001b[0m\u001b[0;32m     16\u001b[0m \u001b[1;33m\u001b[0m\u001b[0m\n\u001b[0;32m     17\u001b[0m         \u001b[0mdecoded_sentence\u001b[0m \u001b[1;33m+=\u001b[0m \u001b[0msampled_char\u001b[0m\u001b[1;33m\u001b[0m\u001b[1;33m\u001b[0m\u001b[0m\n",
      "\u001b[1;31mKeyError\u001b[0m: 102"
     ]
    }
   ],
   "source": [
    "for seq_index in [3,50,100,300,1001]: # 입력 문장의 인덱스\n",
    "    input_seq = encoder_input[seq_index:seq_index+1]\n",
    "    decoded_sentence = decode_sequence(input_seq)\n",
    "    print(35 * \"-\")\n",
    "    print('입력 문장:', lines.src[seq_index])\n",
    "    print('정답 문장:', lines.tar[seq_index][2:len(lines.tar[seq_index])-1]) # '\\t'와 '\\n'을 빼고 출력\n",
    "    print('번역 문장:', decoded_sentence[1:len(decoded_sentence)-1]) # '\\n'을 빼고 출력"
   ]
  },
  {
   "cell_type": "code",
   "execution_count": null,
   "metadata": {},
   "outputs": [],
   "source": []
  },
  {
   "cell_type": "code",
   "execution_count": 36,
   "metadata": {},
   "outputs": [],
   "source": [
    "def text_input_preprocessing(input_sentence) :\n",
    "    incoded = []\n",
    "    \n",
    "    for word in input_sentence :\n",
    "        incoded.append(src_to_index[word])\n",
    "        \n",
    "    incoded = pad_sequences([incoded], maxlen=max_src_len, padding=\"post\")\n",
    "    test_input = to_categorical(incoded)\n",
    "    \n",
    "    return test_input"
   ]
  },
  {
   "cell_type": "code",
   "execution_count": 40,
   "metadata": {},
   "outputs": [
    {
     "name": "stdout",
     "output_type": "stream",
     "text": [
      "(1, 31, 74)\n",
      "1/1 [==============================] - 0s 23ms/step\n",
      "1/1 [==============================] - 0s 25ms/step\n"
     ]
    },
    {
     "ename": "KeyError",
     "evalue": "66",
     "output_type": "error",
     "traceback": [
      "\u001b[1;31m---------------------------------------------------------------------------\u001b[0m",
      "\u001b[1;31mKeyError\u001b[0m                                  Traceback (most recent call last)",
      "\u001b[1;32m<ipython-input-40-ca123c41b2db>\u001b[0m in \u001b[0;36m<module>\u001b[1;34m\u001b[0m\n\u001b[0;32m      3\u001b[0m \u001b[0mtest_input\u001b[0m \u001b[1;33m=\u001b[0m \u001b[0mtext_input_preprocessing\u001b[0m\u001b[1;33m(\u001b[0m\u001b[0mtest\u001b[0m\u001b[1;33m)\u001b[0m\u001b[1;33m\u001b[0m\u001b[1;33m\u001b[0m\u001b[0m\n\u001b[0;32m      4\u001b[0m \u001b[0mprint\u001b[0m\u001b[1;33m(\u001b[0m\u001b[0mtest_input\u001b[0m\u001b[1;33m.\u001b[0m\u001b[0mshape\u001b[0m\u001b[1;33m)\u001b[0m\u001b[1;33m\u001b[0m\u001b[1;33m\u001b[0m\u001b[0m\n\u001b[1;32m----> 5\u001b[1;33m \u001b[0mprint\u001b[0m\u001b[1;33m(\u001b[0m\u001b[0mdecode_sequence\u001b[0m\u001b[1;33m(\u001b[0m\u001b[0mtest_input\u001b[0m\u001b[1;33m)\u001b[0m\u001b[1;33m)\u001b[0m\u001b[1;33m\u001b[0m\u001b[1;33m\u001b[0m\u001b[0m\n\u001b[0m",
      "\u001b[1;32m<ipython-input-32-a41cee4b7708>\u001b[0m in \u001b[0;36mdecode_sequence\u001b[1;34m(input_seq)\u001b[0m\n\u001b[0;32m     22\u001b[0m         \u001b[1;31m#saving predicted value\u001b[0m\u001b[1;33m\u001b[0m\u001b[1;33m\u001b[0m\u001b[1;33m\u001b[0m\u001b[0m\n\u001b[0;32m     23\u001b[0m         \u001b[0mtarget_seq\u001b[0m \u001b[1;33m=\u001b[0m \u001b[0mnp\u001b[0m\u001b[1;33m.\u001b[0m\u001b[0mzeros\u001b[0m\u001b[1;33m(\u001b[0m\u001b[1;33m(\u001b[0m\u001b[1;36m1\u001b[0m\u001b[1;33m,\u001b[0m\u001b[1;36m1\u001b[0m\u001b[1;33m,\u001b[0m\u001b[0mtar_vocab_size\u001b[0m\u001b[1;33m)\u001b[0m\u001b[1;33m)\u001b[0m\u001b[1;33m\u001b[0m\u001b[1;33m\u001b[0m\u001b[0m\n\u001b[1;32m---> 24\u001b[1;33m         \u001b[0mtarget_seq\u001b[0m\u001b[1;33m[\u001b[0m\u001b[1;36m0\u001b[0m\u001b[1;33m,\u001b[0m\u001b[1;36m0\u001b[0m\u001b[1;33m,\u001b[0m \u001b[0mtar_to_index\u001b[0m\u001b[1;33m[\u001b[0m\u001b[0msampled_token_index\u001b[0m\u001b[1;33m]\u001b[0m\u001b[1;33m]\u001b[0m \u001b[1;33m=\u001b[0m \u001b[1;36m1\u001b[0m\u001b[1;33m\u001b[0m\u001b[1;33m\u001b[0m\u001b[0m\n\u001b[0m\u001b[0;32m     25\u001b[0m \u001b[1;33m\u001b[0m\u001b[0m\n\u001b[0;32m     26\u001b[0m         \u001b[1;31m#saving states\u001b[0m\u001b[1;33m\u001b[0m\u001b[1;33m\u001b[0m\u001b[1;33m\u001b[0m\u001b[0m\n",
      "\u001b[1;31mKeyError\u001b[0m: 66"
     ]
    }
   ],
   "source": [
    "test = \"I am student. nice to meet you!\"\n",
    "\n",
    "test_input = text_input_preprocessing(test)\n",
    "print(test_input.shape)\n",
    "print(decode_sequence(test_input))"
   ]
  },
  {
   "cell_type": "code",
   "execution_count": null,
   "metadata": {},
   "outputs": [],
   "source": []
  }
 ],
 "metadata": {
  "accelerator": "GPU",
  "colab": {
   "authorship_tag": "ABX9TyORksIhmLALwN3EwVb0RqWA",
   "include_colab_link": true,
   "mount_file_id": "1Vyebt81Yboszze1PMH87J_BRUzbWkY1G",
   "provenance": []
  },
  "gpuClass": "standard",
  "kernelspec": {
   "display_name": "Python 3",
   "language": "python",
   "name": "python3"
  },
  "language_info": {
   "codemirror_mode": {
    "name": "ipython",
    "version": 3
   },
   "file_extension": ".py",
   "mimetype": "text/x-python",
   "name": "python",
   "nbconvert_exporter": "python",
   "pygments_lexer": "ipython3",
   "version": "3.8.5"
  }
 },
 "nbformat": 4,
 "nbformat_minor": 1
}
