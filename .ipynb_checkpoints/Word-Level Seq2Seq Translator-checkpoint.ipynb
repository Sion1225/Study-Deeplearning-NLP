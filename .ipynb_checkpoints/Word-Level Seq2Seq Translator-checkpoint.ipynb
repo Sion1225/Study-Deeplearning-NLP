{
 "cells": [
  {
   "cell_type": "markdown",
   "metadata": {},
   "source": [
    "# Preprocessing"
   ]
  },
  {
   "cell_type": "code",
   "execution_count": 1,
   "metadata": {},
   "outputs": [],
   "source": [
    "import re\n",
    "import pandas as pd\n",
    "import tensorflow as tf\n",
    "import numpy as np\n",
    "import unicodedata"
   ]
  },
  {
   "cell_type": "code",
   "execution_count": 2,
   "metadata": {},
   "outputs": [],
   "source": [
    "num_samples = 70000"
   ]
  },
  {
   "cell_type": "code",
   "execution_count": 3,
   "metadata": {},
   "outputs": [],
   "source": [
    "def to_ascii(s):\n",
    "    return ''.join(c for c in unicodedata.normalize('NFD', s) if unicodedata.category(c) != 'Mn')\n",
    "\n",
    "def preprocess_sentence(sent) :\n",
    "    sent = to_ascii(sent.lower())\n",
    "    sent = re.sub(r\"([?.!,¿])\", r\" \\1\", sent)\n",
    "    sent = re.sub(r\"[^a-zA-Z!.?,]+\", r\" \", sent)\n",
    "    sent = re.sub(r\"\\s+\", \" \", sent)\n",
    "    \n",
    "    return sent"
   ]
  },
  {
   "cell_type": "code",
   "execution_count": 4,
   "metadata": {},
   "outputs": [
    {
     "data": {
      "text/plain": [
       "'aab , ?d test .'"
      ]
     },
     "execution_count": 4,
     "metadata": {},
     "output_type": "execute_result"
    }
   ],
   "source": [
    "preprocess_sentence(\"Aab,?d ㄷ   test.\")"
   ]
  },
  {
   "cell_type": "code",
   "execution_count": 5,
   "metadata": {},
   "outputs": [],
   "source": [
    "def load_preprocessed_data() :\n",
    "    encoder_input, decoder_input, decoder_target = [], [], []\n",
    "    \n",
    "    with open(\"DataSet/spa.txt\",\"r\") as lines :\n",
    "        for i, line in enumerate(lines) :\n",
    "            src_line, tar_line, _ = line.strip().split('\\t')\n",
    "            src_line = [w for w in preprocess_sentence(src_line).split()]\n",
    "            \n",
    "            tar_line = preprocess_sentence(tar_line)\n",
    "            tar_line_in = [w for w in (\"<sos> \" + tar_line).split()]\n",
    "            tar_line_out = [w for w in (tar_line + \" <eos>\").split()]\n",
    "            \n",
    "            encoder_input.append(src_line)\n",
    "            decoder_input.append(tar_line_in)\n",
    "            decoder_target.append(tar_line_out)\n",
    "            \n",
    "            if i==num_samples-1 :\n",
    "                break\n",
    "                \n",
    "    return encoder_input, decoder_input, decoder_target"
   ]
  },
  {
   "cell_type": "code",
   "execution_count": 6,
   "metadata": {},
   "outputs": [],
   "source": [
    "sents_en_in, sents_spa_in, sents_spa_out = load_preprocessed_data()"
   ]
  },
  {
   "cell_type": "code",
   "execution_count": 7,
   "metadata": {},
   "outputs": [
    {
     "name": "stdout",
     "output_type": "stream",
     "text": [
      "[['go', '.'], ['go', '.'], ['go', '.'], ['go', '.'], ['hi', '.'], ['hi', '.'], ['run', '!']]\n",
      "[['<sos>', 've', '.'], ['<sos>', 'vete', '.'], ['<sos>', 'vaya', '.'], ['<sos>', 'vayase', '.'], ['<sos>', 'hola', '.'], ['<sos>', 'hola'], ['<sos>', 'corre', '!']]\n",
      "[['ve', '.', '<eos>'], ['vete', '.', '<eos>'], ['vaya', '.', '<eos>'], ['vayase', '.', '<eos>'], ['hola', '.', '<eos>'], ['hola', '<eos>'], ['corre', '!', '<eos>']]\n"
     ]
    }
   ],
   "source": [
    "print(sents_en_in[:7])\n",
    "print(sents_spa_in[:7])\n",
    "print(sents_spa_out[:7])"
   ]
  },
  {
   "cell_type": "code",
   "execution_count": 8,
   "metadata": {},
   "outputs": [],
   "source": [
    "from tensorflow.keras.preprocessing.sequence import pad_sequences\n",
    "from tensorflow.keras.preprocessing.text import Tokenizer"
   ]
  },
  {
   "cell_type": "code",
   "execution_count": 9,
   "metadata": {},
   "outputs": [],
   "source": [
    "tokenizer_en = Tokenizer(filters=\"\", lower=False)\n",
    "tokenizer_en.fit_on_texts(sents_en_in)\n",
    "encoder_input = tokenizer_en.texts_to_sequences(sents_en_in)\n",
    "encoder_input = pad_sequences(encoder_input, padding=\"post\")\n",
    "\n",
    "tokenizer_spa = Tokenizer(filters=\"\", lower=False)\n",
    "tokenizer_spa.fit_on_texts(sents_spa_in)\n",
    "tokenizer_spa.fit_on_texts(sents_spa_out)\n",
    "\n",
    "decoder_input = tokenizer_spa.texts_to_sequences(sents_spa_in)\n",
    "decoder_input = pad_sequences(decoder_input, padding=\"post\")\n",
    "decoder_target = tokenizer_spa.texts_to_sequences(sents_spa_out)\n",
    "decoder_target = pad_sequences(decoder_target, padding=\"post\")"
   ]
  },
  {
   "cell_type": "code",
   "execution_count": 10,
   "metadata": {},
   "outputs": [
    {
     "name": "stdout",
     "output_type": "stream",
     "text": [
      "(70000, 11)\n",
      "(70000, 18)\n",
      "(70000, 18)\n"
     ]
    }
   ],
   "source": [
    "print(encoder_input.shape)\n",
    "print(decoder_input.shape)\n",
    "print(decoder_target.shape)"
   ]
  },
  {
   "cell_type": "code",
   "execution_count": 11,
   "metadata": {},
   "outputs": [
    {
     "name": "stdout",
     "output_type": "stream",
     "text": [
      "Size of english voca set: 8110\n",
      "Size of spanish voca set: 15842\n"
     ]
    }
   ],
   "source": [
    "src_vocab_size = len(tokenizer_en.word_index)+1\n",
    "tar_vocab_size = len(tokenizer_spa.word_index)+1\n",
    "print(\"Size of english voca set:\",src_vocab_size)\n",
    "print(\"Size of spanish voca set:\",tar_vocab_size)"
   ]
  },
  {
   "cell_type": "code",
   "execution_count": 12,
   "metadata": {},
   "outputs": [],
   "source": [
    "src_to_index = tokenizer_en.word_index\n",
    "index_to_src = tokenizer_en.index_word\n",
    "tar_to_index = tokenizer_spa.word_index\n",
    "index_to_tar = tokenizer_spa.index_word"
   ]
  },
  {
   "cell_type": "code",
   "execution_count": 13,
   "metadata": {},
   "outputs": [
    {
     "name": "stdout",
     "output_type": "stream",
     "text": [
      "random sequence : [31404 44925 20038 ... 10658 32215 42122]\n"
     ]
    }
   ],
   "source": [
    "indices = np.arange(encoder_input.shape[0])\n",
    "np.random.shuffle(indices)\n",
    "print(\"random sequence :\",indices)"
   ]
  },
  {
   "cell_type": "code",
   "execution_count": 14,
   "metadata": {},
   "outputs": [],
   "source": [
    "encoder_input = encoder_input[indices]\n",
    "decoder_input = decoder_input[indices]\n",
    "decoder_target = decoder_target[indices]"
   ]
  },
  {
   "cell_type": "code",
   "execution_count": 15,
   "metadata": {},
   "outputs": [
    {
     "name": "stdout",
     "output_type": "stream",
     "text": [
      "[   4 1918 6262    1    0    0    0    0    0    0    0]\n",
      "[    2     9    59    25   470 11685     1     0     0     0     0     0\n",
      "     0     0     0     0     0     0]\n",
      "[    9    59    25   470 11685     1     3     0     0     0     0     0\n",
      "     0     0     0     0     0     0]\n"
     ]
    }
   ],
   "source": [
    "print(encoder_input[0])\n",
    "print(decoder_input[0])\n",
    "print(decoder_target[0])"
   ]
  },
  {
   "cell_type": "code",
   "execution_count": 16,
   "metadata": {},
   "outputs": [
    {
     "name": "stdout",
     "output_type": "stream",
     "text": [
      "Number of test data :  7000\n"
     ]
    }
   ],
   "source": [
    "n_of_val = int(num_samples*0.1)\n",
    "print(\"Number of test data : \",n_of_val)"
   ]
  },
  {
   "cell_type": "code",
   "execution_count": 17,
   "metadata": {},
   "outputs": [],
   "source": [
    "encoder_input_train = encoder_input[:-n_of_val]\n",
    "decoder_input_train = decoder_input[:-n_of_val]\n",
    "decoder_target_train = decoder_target[:-n_of_val]\n",
    "\n",
    "encoder_input_test = encoder_input[-n_of_val:]\n",
    "decoder_input_test = decoder_input[-n_of_val:]\n",
    "decoder_target_test = decoder_target[-n_of_val:]"
   ]
  },
  {
   "cell_type": "code",
   "execution_count": 18,
   "metadata": {},
   "outputs": [
    {
     "name": "stdout",
     "output_type": "stream",
     "text": [
      "(63000, 11)\n",
      "(7000, 11)\n"
     ]
    }
   ],
   "source": [
    "print(encoder_input_train.shape)\n",
    "print(encoder_input_test.shape)"
   ]
  },
  {
   "cell_type": "markdown",
   "metadata": {},
   "source": [
    "# Training Model"
   ]
  },
  {
   "cell_type": "code",
   "execution_count": 19,
   "metadata": {},
   "outputs": [],
   "source": [
    "from tensorflow.keras.layers import Input, LSTM, Embedding, Dense, Masking\n",
    "from tensorflow.keras.models import Model, load_model\n",
    "from tensorflow.keras.callbacks import EarlyStopping, ModelCheckpoint"
   ]
  },
  {
   "cell_type": "code",
   "execution_count": 20,
   "metadata": {},
   "outputs": [],
   "source": [
    "embedding_dim = 512\n",
    "hidden_units = 512"
   ]
  },
  {
   "cell_type": "code",
   "execution_count": 21,
   "metadata": {},
   "outputs": [],
   "source": [
    "#Encoder\n",
    "encoder_inputs = Input(shape=(None,))\n",
    "enc_emb = Embedding(src_vocab_size, embedding_dim)(encoder_inputs)\n",
    "enc_masking = Masking(mask_value=0)(enc_emb)\n",
    "encoder_lstm = LSTM(hidden_units, return_state=True)\n",
    "encoder_outputs, state_h, state_c = encoder_lstm(enc_masking)\n",
    "encoder_states = [state_h, state_c]"
   ]
  },
  {
   "cell_type": "code",
   "execution_count": 22,
   "metadata": {},
   "outputs": [],
   "source": [
    "#Decoder\n",
    "decoder_inputs = Input(shape=(None,))\n",
    "dec_emb_layer = Embedding(tar_vocab_size, hidden_units)\n",
    "dec_emb = dec_emb_layer(decoder_inputs)\n",
    "dec_masking = Masking(mask_value=0)(dec_emb)\n",
    "\n",
    "decoder_lstm = LSTM(hidden_units, return_sequences=True, return_state=True)\n",
    "decoder_outputs, _, _ = decoder_lstm(dec_masking, initial_state=encoder_states)\n",
    "\n",
    "decoder_dense = Dense(tar_vocab_size, activation=\"softmax\")\n",
    "decoder_outputs = decoder_dense(decoder_outputs)"
   ]
  },
  {
   "cell_type": "code",
   "execution_count": 23,
   "metadata": {},
   "outputs": [],
   "source": [
    "#Model compile\n",
    "model = Model([encoder_inputs, decoder_inputs], decoder_outputs)\n",
    "model.compile(optimizer=\"adam\", loss=\"sparse_categorical_crossentropy\", metrics=[\"accuracy\"])"
   ]
  },
  {
   "cell_type": "code",
   "execution_count": 24,
   "metadata": {},
   "outputs": [
    {
     "name": "stdout",
     "output_type": "stream",
     "text": [
      "Epoch 1/200\n",
      "493/493 [==============================] - 63s 104ms/step - loss: 1.6528 - accuracy: 0.7602 - val_loss: 1.3329 - val_accuracy: 0.7956\n",
      "Epoch 2/200\n",
      "493/493 [==============================] - 48s 97ms/step - loss: 1.1442 - accuracy: 0.8130 - val_loss: 1.0409 - val_accuracy: 0.8286\n",
      "Epoch 3/200\n",
      "493/493 [==============================] - 50s 102ms/step - loss: 0.8598 - accuracy: 0.8460 - val_loss: 0.8538 - val_accuracy: 0.8552\n",
      "Epoch 4/200\n",
      "493/493 [==============================] - 49s 99ms/step - loss: 0.6472 - accuracy: 0.8731 - val_loss: 0.7380 - val_accuracy: 0.8726\n",
      "Epoch 5/200\n",
      "493/493 [==============================] - 49s 99ms/step - loss: 0.4818 - accuracy: 0.8974 - val_loss: 0.6616 - val_accuracy: 0.8857\n",
      "Epoch 6/200\n",
      "493/493 [==============================] - 49s 99ms/step - loss: 0.3577 - accuracy: 0.9182 - val_loss: 0.6237 - val_accuracy: 0.8934\n",
      "Epoch 7/200\n",
      "493/493 [==============================] - 47s 95ms/step - loss: 0.2686 - accuracy: 0.9359 - val_loss: 0.6055 - val_accuracy: 0.8989\n",
      "Epoch 8/200\n",
      "493/493 [==============================] - 47s 95ms/step - loss: 0.2063 - accuracy: 0.9489 - val_loss: 0.5979 - val_accuracy: 0.9006\n",
      "Epoch 9/200\n",
      "493/493 [==============================] - 47s 95ms/step - loss: 0.1630 - accuracy: 0.9588 - val_loss: 0.5984 - val_accuracy: 0.9013\n",
      "Epoch 10/200\n",
      "493/493 [==============================] - 47s 95ms/step - loss: 0.1328 - accuracy: 0.9659 - val_loss: 0.6085 - val_accuracy: 0.9017\n",
      "Epoch 11/200\n",
      "493/493 [==============================] - 49s 100ms/step - loss: 0.1115 - accuracy: 0.9707 - val_loss: 0.6152 - val_accuracy: 0.9023\n",
      "Epoch 12/200\n",
      "493/493 [==============================] - 49s 100ms/step - loss: 0.0958 - accuracy: 0.9744 - val_loss: 0.6236 - val_accuracy: 0.9031\n",
      "Epoch 13/200\n",
      "493/493 [==============================] - 50s 101ms/step - loss: 0.0851 - accuracy: 0.9769 - val_loss: 0.6329 - val_accuracy: 0.9023\n",
      "Epoch 14/200\n",
      "493/493 [==============================] - 49s 99ms/step - loss: 0.0768 - accuracy: 0.9788 - val_loss: 0.6440 - val_accuracy: 0.9023\n",
      "Epoch 15/200\n",
      "493/493 [==============================] - 48s 97ms/step - loss: 0.0712 - accuracy: 0.9801 - val_loss: 0.6512 - val_accuracy: 0.9023\n",
      "Epoch 16/200\n",
      "493/493 [==============================] - 47s 95ms/step - loss: 0.0666 - accuracy: 0.9812 - val_loss: 0.6622 - val_accuracy: 0.9016\n",
      "Epoch 17/200\n",
      "493/493 [==============================] - 47s 95ms/step - loss: 0.0628 - accuracy: 0.9822 - val_loss: 0.6716 - val_accuracy: 0.9015\n",
      "Epoch 18/200\n",
      "493/493 [==============================] - 47s 95ms/step - loss: 0.0603 - accuracy: 0.9829 - val_loss: 0.6726 - val_accuracy: 0.9018\n",
      "Epoch 19/200\n",
      "493/493 [==============================] - 47s 94ms/step - loss: 0.0580 - accuracy: 0.9832 - val_loss: 0.6806 - val_accuracy: 0.9019\n",
      "Epoch 20/200\n",
      "493/493 [==============================] - 47s 95ms/step - loss: 0.0564 - accuracy: 0.9836 - val_loss: 0.6913 - val_accuracy: 0.9012\n",
      "Epoch 21/200\n",
      "493/493 [==============================] - 47s 95ms/step - loss: 0.0547 - accuracy: 0.9839 - val_loss: 0.6902 - val_accuracy: 0.9016\n",
      "Epoch 22/200\n",
      "493/493 [==============================] - 47s 95ms/step - loss: 0.0535 - accuracy: 0.9842 - val_loss: 0.6922 - val_accuracy: 0.9021\n",
      "Epoch 23/200\n",
      "493/493 [==============================] - 47s 95ms/step - loss: 0.0523 - accuracy: 0.9843 - val_loss: 0.6990 - val_accuracy: 0.9016\n",
      "Epoch 24/200\n",
      "493/493 [==============================] - 47s 95ms/step - loss: 0.0515 - accuracy: 0.9844 - val_loss: 0.7001 - val_accuracy: 0.9020\n",
      "Epoch 25/200\n",
      "493/493 [==============================] - 47s 95ms/step - loss: 0.0506 - accuracy: 0.9847 - val_loss: 0.7066 - val_accuracy: 0.9022\n",
      "Epoch 26/200\n",
      "493/493 [==============================] - 47s 95ms/step - loss: 0.0496 - accuracy: 0.9847 - val_loss: 0.7089 - val_accuracy: 0.9025\n",
      "Epoch 27/200\n",
      "493/493 [==============================] - 47s 95ms/step - loss: 0.0488 - accuracy: 0.9849 - val_loss: 0.7124 - val_accuracy: 0.9025\n",
      "Epoch 28/200\n",
      "493/493 [==============================] - 47s 95ms/step - loss: 0.0481 - accuracy: 0.9851 - val_loss: 0.7127 - val_accuracy: 0.9028\n",
      "Epoch 29/200\n",
      "493/493 [==============================] - 47s 95ms/step - loss: 0.0476 - accuracy: 0.9851 - val_loss: 0.7139 - val_accuracy: 0.9022\n",
      "Epoch 30/200\n",
      "493/493 [==============================] - 47s 95ms/step - loss: 0.0468 - accuracy: 0.9851 - val_loss: 0.7192 - val_accuracy: 0.9024\n",
      "Epoch 31/200\n",
      "493/493 [==============================] - 47s 95ms/step - loss: 0.0466 - accuracy: 0.9851 - val_loss: 0.7252 - val_accuracy: 0.9025\n",
      "Epoch 32/200\n",
      "493/493 [==============================] - 47s 95ms/step - loss: 0.0462 - accuracy: 0.9852 - val_loss: 0.7225 - val_accuracy: 0.9026\n",
      "Epoch 33/200\n",
      "493/493 [==============================] - 47s 95ms/step - loss: 0.0455 - accuracy: 0.9853 - val_loss: 0.7244 - val_accuracy: 0.9021\n",
      "Epoch 34/200\n",
      "493/493 [==============================] - 47s 95ms/step - loss: 0.0453 - accuracy: 0.9852 - val_loss: 0.7303 - val_accuracy: 0.9019\n",
      "Epoch 35/200\n",
      "493/493 [==============================] - 47s 95ms/step - loss: 0.0446 - accuracy: 0.9853 - val_loss: 0.7279 - val_accuracy: 0.9015\n",
      "Epoch 36/200\n",
      "493/493 [==============================] - 47s 95ms/step - loss: 0.0440 - accuracy: 0.9854 - val_loss: 0.7311 - val_accuracy: 0.9021\n",
      "Epoch 37/200\n",
      "493/493 [==============================] - 47s 95ms/step - loss: 0.0436 - accuracy: 0.9854 - val_loss: 0.7256 - val_accuracy: 0.9022\n",
      "Epoch 38/200\n",
      "493/493 [==============================] - 47s 95ms/step - loss: 0.0430 - accuracy: 0.9855 - val_loss: 0.7332 - val_accuracy: 0.9017\n",
      "Epoch 39/200\n",
      "493/493 [==============================] - 47s 95ms/step - loss: 0.0427 - accuracy: 0.9854 - val_loss: 0.7366 - val_accuracy: 0.9018\n",
      "Epoch 40/200\n",
      "493/493 [==============================] - 47s 95ms/step - loss: 0.0422 - accuracy: 0.9854 - val_loss: 0.7372 - val_accuracy: 0.9024\n",
      "Epoch 41/200\n",
      "493/493 [==============================] - 47s 95ms/step - loss: 0.0420 - accuracy: 0.9855 - val_loss: 0.7370 - val_accuracy: 0.9026\n",
      "Epoch 42/200\n",
      "493/493 [==============================] - 47s 95ms/step - loss: 0.0419 - accuracy: 0.9855 - val_loss: 0.7373 - val_accuracy: 0.9021\n",
      "Epoch 43/200\n",
      "493/493 [==============================] - 47s 95ms/step - loss: 0.0416 - accuracy: 0.9854 - val_loss: 0.7405 - val_accuracy: 0.9020\n",
      "Epoch 44/200\n",
      "493/493 [==============================] - 47s 95ms/step - loss: 0.0413 - accuracy: 0.9854 - val_loss: 0.7394 - val_accuracy: 0.9017\n",
      "Epoch 45/200\n",
      "493/493 [==============================] - 47s 95ms/step - loss: 0.0404 - accuracy: 0.9856 - val_loss: 0.7420 - val_accuracy: 0.9023\n",
      "Epoch 46/200\n",
      "493/493 [==============================] - 47s 95ms/step - loss: 0.0402 - accuracy: 0.9856 - val_loss: 0.7446 - val_accuracy: 0.9019\n",
      "Epoch 47/200\n",
      "493/493 [==============================] - 47s 95ms/step - loss: 0.0397 - accuracy: 0.9856 - val_loss: 0.7458 - val_accuracy: 0.9019\n",
      "Epoch 48/200\n",
      "493/493 [==============================] - 47s 95ms/step - loss: 0.0393 - accuracy: 0.9856 - val_loss: 0.7444 - val_accuracy: 0.9021\n",
      "Epoch 49/200\n",
      "493/493 [==============================] - 47s 95ms/step - loss: 0.0393 - accuracy: 0.9856 - val_loss: 0.7472 - val_accuracy: 0.9015\n",
      "Epoch 50/200\n",
      "493/493 [==============================] - 46s 94ms/step - loss: 0.0392 - accuracy: 0.9855 - val_loss: 0.7486 - val_accuracy: 0.9020\n",
      "Epoch 51/200\n",
      "493/493 [==============================] - 46s 94ms/step - loss: 0.0388 - accuracy: 0.9856 - val_loss: 0.7476 - val_accuracy: 0.9016\n",
      "Epoch 52/200\n",
      "493/493 [==============================] - 46s 94ms/step - loss: 0.0383 - accuracy: 0.9857 - val_loss: 0.7499 - val_accuracy: 0.9019\n",
      "Epoch 53/200\n",
      "493/493 [==============================] - 46s 94ms/step - loss: 0.0380 - accuracy: 0.9856 - val_loss: 0.7534 - val_accuracy: 0.9017\n",
      "Epoch 54/200\n",
      "493/493 [==============================] - 46s 94ms/step - loss: 0.0381 - accuracy: 0.9855 - val_loss: 0.7495 - val_accuracy: 0.9024\n",
      "Epoch 55/200\n",
      "493/493 [==============================] - 46s 94ms/step - loss: 0.0372 - accuracy: 0.9857 - val_loss: 0.7610 - val_accuracy: 0.9026\n",
      "Epoch 56/200\n",
      "493/493 [==============================] - 46s 94ms/step - loss: 0.0371 - accuracy: 0.9856 - val_loss: 0.7498 - val_accuracy: 0.9020\n",
      "Epoch 57/200\n"
     ]
    },
    {
     "name": "stdout",
     "output_type": "stream",
     "text": [
      "493/493 [==============================] - 46s 94ms/step - loss: 0.0367 - accuracy: 0.9857 - val_loss: 0.7592 - val_accuracy: 0.9019\n",
      "Epoch 58/200\n",
      "493/493 [==============================] - 46s 94ms/step - loss: 0.0364 - accuracy: 0.9857 - val_loss: 0.7634 - val_accuracy: 0.9021\n",
      "Epoch 59/200\n",
      "493/493 [==============================] - 46s 94ms/step - loss: 0.0363 - accuracy: 0.9857 - val_loss: 0.7622 - val_accuracy: 0.9021\n",
      "Epoch 60/200\n",
      "493/493 [==============================] - 46s 94ms/step - loss: 0.0361 - accuracy: 0.9857 - val_loss: 0.7686 - val_accuracy: 0.9015\n",
      "Epoch 61/200\n",
      "493/493 [==============================] - 46s 94ms/step - loss: 0.0357 - accuracy: 0.9857 - val_loss: 0.7650 - val_accuracy: 0.9011\n",
      "Epoch 62/200\n",
      "493/493 [==============================] - 46s 94ms/step - loss: 0.0356 - accuracy: 0.9857 - val_loss: 0.7634 - val_accuracy: 0.9014\n",
      "Epoch 63/200\n",
      "493/493 [==============================] - 46s 94ms/step - loss: 0.0351 - accuracy: 0.9858 - val_loss: 0.7682 - val_accuracy: 0.9023\n",
      "Epoch 64/200\n",
      "493/493 [==============================] - 46s 94ms/step - loss: 0.0352 - accuracy: 0.9856 - val_loss: 0.7636 - val_accuracy: 0.9012\n",
      "Epoch 65/200\n",
      "493/493 [==============================] - 46s 94ms/step - loss: 0.0346 - accuracy: 0.9857 - val_loss: 0.7715 - val_accuracy: 0.9014\n",
      "Epoch 66/200\n",
      "493/493 [==============================] - 46s 94ms/step - loss: 0.0345 - accuracy: 0.9857 - val_loss: 0.7701 - val_accuracy: 0.9017\n",
      "Epoch 67/200\n",
      "493/493 [==============================] - 46s 94ms/step - loss: 0.0341 - accuracy: 0.9857 - val_loss: 0.7742 - val_accuracy: 0.9018\n",
      "Epoch 68/200\n",
      "493/493 [==============================] - 46s 94ms/step - loss: 0.0338 - accuracy: 0.9858 - val_loss: 0.7676 - val_accuracy: 0.9016\n",
      "Epoch 69/200\n",
      "493/493 [==============================] - 46s 94ms/step - loss: 0.0338 - accuracy: 0.9857 - val_loss: 0.7772 - val_accuracy: 0.9013\n",
      "Epoch 70/200\n",
      "493/493 [==============================] - 46s 94ms/step - loss: 0.0338 - accuracy: 0.9857 - val_loss: 0.7864 - val_accuracy: 0.9011\n",
      "Epoch 71/200\n",
      "493/493 [==============================] - 46s 94ms/step - loss: 0.0337 - accuracy: 0.9857 - val_loss: 0.7819 - val_accuracy: 0.9013\n",
      "Epoch 72/200\n",
      "493/493 [==============================] - 46s 94ms/step - loss: 0.0335 - accuracy: 0.9856 - val_loss: 0.7899 - val_accuracy: 0.9016\n",
      "Epoch 73/200\n",
      "493/493 [==============================] - 46s 94ms/step - loss: 0.0329 - accuracy: 0.9857 - val_loss: 0.7794 - val_accuracy: 0.9015\n",
      "Epoch 74/200\n",
      "493/493 [==============================] - 46s 94ms/step - loss: 0.0326 - accuracy: 0.9856 - val_loss: 0.7830 - val_accuracy: 0.9012\n",
      "Epoch 75/200\n",
      "493/493 [==============================] - 46s 94ms/step - loss: 0.0323 - accuracy: 0.9858 - val_loss: 0.7835 - val_accuracy: 0.9015\n",
      "Epoch 76/200\n",
      "493/493 [==============================] - 46s 94ms/step - loss: 0.0320 - accuracy: 0.9857 - val_loss: 0.7994 - val_accuracy: 0.9013\n",
      "Epoch 77/200\n",
      "493/493 [==============================] - 46s 94ms/step - loss: 0.0321 - accuracy: 0.9857 - val_loss: 0.7893 - val_accuracy: 0.9013\n",
      "Epoch 78/200\n",
      "493/493 [==============================] - 46s 94ms/step - loss: 0.0317 - accuracy: 0.9858 - val_loss: 0.7920 - val_accuracy: 0.9015\n",
      "Epoch 79/200\n",
      "493/493 [==============================] - 46s 94ms/step - loss: 0.0319 - accuracy: 0.9857 - val_loss: 0.7986 - val_accuracy: 0.9013\n",
      "Epoch 80/200\n",
      "493/493 [==============================] - 46s 94ms/step - loss: 0.0317 - accuracy: 0.9858 - val_loss: 0.7986 - val_accuracy: 0.9007\n",
      "Epoch 81/200\n",
      "493/493 [==============================] - 46s 94ms/step - loss: 0.0315 - accuracy: 0.9857 - val_loss: 0.8048 - val_accuracy: 0.9010\n",
      "Epoch 82/200\n",
      "493/493 [==============================] - 46s 94ms/step - loss: 0.0318 - accuracy: 0.9857 - val_loss: 0.8049 - val_accuracy: 0.9015\n",
      "Epoch 83/200\n",
      "493/493 [==============================] - 46s 94ms/step - loss: 0.0313 - accuracy: 0.9858 - val_loss: 0.8034 - val_accuracy: 0.9008\n",
      "Epoch 84/200\n",
      "493/493 [==============================] - 46s 94ms/step - loss: 0.0311 - accuracy: 0.9857 - val_loss: 0.8086 - val_accuracy: 0.9011\n",
      "Epoch 85/200\n",
      "493/493 [==============================] - 46s 94ms/step - loss: 0.0309 - accuracy: 0.9857 - val_loss: 0.8104 - val_accuracy: 0.9008\n",
      "Epoch 86/200\n",
      "493/493 [==============================] - 46s 94ms/step - loss: 0.0304 - accuracy: 0.9857 - val_loss: 0.8089 - val_accuracy: 0.9009\n",
      "Epoch 87/200\n",
      "493/493 [==============================] - 46s 94ms/step - loss: 0.0300 - accuracy: 0.9857 - val_loss: 0.8124 - val_accuracy: 0.9012\n",
      "Epoch 88/200\n",
      "493/493 [==============================] - 46s 94ms/step - loss: 0.0297 - accuracy: 0.9858 - val_loss: 0.8145 - val_accuracy: 0.9005\n",
      "Epoch 89/200\n",
      "493/493 [==============================] - 46s 94ms/step - loss: 0.0299 - accuracy: 0.9857 - val_loss: 0.8204 - val_accuracy: 0.9008\n",
      "Epoch 90/200\n",
      "493/493 [==============================] - 46s 94ms/step - loss: 0.0300 - accuracy: 0.9857 - val_loss: 0.8242 - val_accuracy: 0.9012\n",
      "Epoch 91/200\n",
      "493/493 [==============================] - 46s 94ms/step - loss: 0.0300 - accuracy: 0.9857 - val_loss: 0.8215 - val_accuracy: 0.9015\n",
      "Epoch 92/200\n",
      "493/493 [==============================] - 46s 94ms/step - loss: 0.0299 - accuracy: 0.9857 - val_loss: 0.8291 - val_accuracy: 0.9001\n",
      "Epoch 93/200\n",
      "493/493 [==============================] - 46s 94ms/step - loss: 0.0301 - accuracy: 0.9856 - val_loss: 0.8282 - val_accuracy: 0.9008\n",
      "Epoch 94/200\n",
      "493/493 [==============================] - 46s 94ms/step - loss: 0.0302 - accuracy: 0.9856 - val_loss: 0.8282 - val_accuracy: 0.9007\n",
      "Epoch 95/200\n",
      "493/493 [==============================] - 46s 94ms/step - loss: 0.0302 - accuracy: 0.9856 - val_loss: 0.8310 - val_accuracy: 0.8997\n",
      "Epoch 96/200\n",
      "493/493 [==============================] - 46s 94ms/step - loss: 0.0297 - accuracy: 0.9856 - val_loss: 0.8396 - val_accuracy: 0.9004\n",
      "Epoch 97/200\n",
      "493/493 [==============================] - 46s 94ms/step - loss: 0.0293 - accuracy: 0.9857 - val_loss: 0.8393 - val_accuracy: 0.9004\n",
      "Epoch 98/200\n",
      "493/493 [==============================] - 46s 94ms/step - loss: 0.0289 - accuracy: 0.9857 - val_loss: 0.8430 - val_accuracy: 0.9014\n",
      "Epoch 99/200\n",
      "493/493 [==============================] - 46s 94ms/step - loss: 0.0286 - accuracy: 0.9857 - val_loss: 0.8377 - val_accuracy: 0.9008\n",
      "Epoch 100/200\n",
      "493/493 [==============================] - 46s 94ms/step - loss: 0.0281 - accuracy: 0.9858 - val_loss: 0.8363 - val_accuracy: 0.9009\n",
      "Epoch 101/200\n",
      "493/493 [==============================] - 46s 94ms/step - loss: 0.0283 - accuracy: 0.9857 - val_loss: 0.8448 - val_accuracy: 0.9008\n",
      "Epoch 102/200\n",
      "493/493 [==============================] - 46s 94ms/step - loss: 0.0282 - accuracy: 0.9858 - val_loss: 0.8434 - val_accuracy: 0.9008\n",
      "Epoch 103/200\n",
      "493/493 [==============================] - 46s 94ms/step - loss: 0.0282 - accuracy: 0.9858 - val_loss: 0.8454 - val_accuracy: 0.9007\n",
      "Epoch 104/200\n",
      "493/493 [==============================] - 46s 94ms/step - loss: 0.0285 - accuracy: 0.9857 - val_loss: 0.8583 - val_accuracy: 0.9000\n",
      "Epoch 105/200\n",
      "493/493 [==============================] - 46s 94ms/step - loss: 0.0289 - accuracy: 0.9857 - val_loss: 0.8530 - val_accuracy: 0.8995\n",
      "Epoch 106/200\n",
      "493/493 [==============================] - 46s 94ms/step - loss: 0.0298 - accuracy: 0.9855 - val_loss: 0.8557 - val_accuracy: 0.8992\n",
      "Epoch 107/200\n",
      "493/493 [==============================] - 46s 94ms/step - loss: 0.0302 - accuracy: 0.9855 - val_loss: 0.8541 - val_accuracy: 0.8997\n",
      "Epoch 108/200\n",
      "493/493 [==============================] - 46s 94ms/step - loss: 0.0290 - accuracy: 0.9856 - val_loss: 0.8575 - val_accuracy: 0.9003\n",
      "Epoch 109/200\n",
      "493/493 [==============================] - 46s 94ms/step - loss: 0.0279 - accuracy: 0.9858 - val_loss: 0.8583 - val_accuracy: 0.9002\n",
      "Epoch 110/200\n",
      "493/493 [==============================] - 46s 94ms/step - loss: 0.0273 - accuracy: 0.9858 - val_loss: 0.8656 - val_accuracy: 0.9009\n",
      "Epoch 111/200\n",
      "493/493 [==============================] - 46s 94ms/step - loss: 0.0268 - accuracy: 0.9859 - val_loss: 0.8680 - val_accuracy: 0.9009\n",
      "Epoch 112/200\n",
      "493/493 [==============================] - 46s 94ms/step - loss: 0.0266 - accuracy: 0.9859 - val_loss: 0.8708 - val_accuracy: 0.9008\n",
      "Epoch 113/200\n"
     ]
    },
    {
     "name": "stdout",
     "output_type": "stream",
     "text": [
      "493/493 [==============================] - 47s 96ms/step - loss: 0.0267 - accuracy: 0.9858 - val_loss: 0.8750 - val_accuracy: 0.9008\n",
      "Epoch 114/200\n",
      "493/493 [==============================] - 49s 100ms/step - loss: 0.0271 - accuracy: 0.9859 - val_loss: 0.8843 - val_accuracy: 0.9001\n",
      "Epoch 115/200\n",
      "493/493 [==============================] - 48s 97ms/step - loss: 0.0274 - accuracy: 0.9857 - val_loss: 0.8672 - val_accuracy: 0.9001\n",
      "Epoch 116/200\n",
      "493/493 [==============================] - 48s 97ms/step - loss: 0.0282 - accuracy: 0.9857 - val_loss: 0.8750 - val_accuracy: 0.8991\n",
      "Epoch 117/200\n",
      "493/493 [==============================] - 47s 96ms/step - loss: 0.0308 - accuracy: 0.9852 - val_loss: 0.8737 - val_accuracy: 0.8980\n",
      "Epoch 118/200\n",
      "493/493 [==============================] - 47s 96ms/step - loss: 0.0308 - accuracy: 0.9852 - val_loss: 0.8752 - val_accuracy: 0.8984\n",
      "Epoch 119/200\n",
      "493/493 [==============================] - 47s 96ms/step - loss: 0.0286 - accuracy: 0.9856 - val_loss: 0.8782 - val_accuracy: 0.8992\n",
      "Epoch 120/200\n",
      "493/493 [==============================] - 47s 96ms/step - loss: 0.0272 - accuracy: 0.9857 - val_loss: 0.8772 - val_accuracy: 0.9000\n",
      "Epoch 121/200\n",
      "493/493 [==============================] - 47s 96ms/step - loss: 0.0264 - accuracy: 0.9858 - val_loss: 0.8835 - val_accuracy: 0.9005\n",
      "Epoch 122/200\n",
      "493/493 [==============================] - 47s 96ms/step - loss: 0.0260 - accuracy: 0.9858 - val_loss: 0.8890 - val_accuracy: 0.9003\n",
      "Epoch 123/200\n",
      "493/493 [==============================] - 47s 96ms/step - loss: 0.0259 - accuracy: 0.9859 - val_loss: 0.8829 - val_accuracy: 0.9000\n",
      "Epoch 124/200\n",
      "493/493 [==============================] - 47s 96ms/step - loss: 0.0259 - accuracy: 0.9859 - val_loss: 0.9018 - val_accuracy: 0.9008\n",
      "Epoch 125/200\n",
      "493/493 [==============================] - 47s 96ms/step - loss: 0.0261 - accuracy: 0.9858 - val_loss: 0.8974 - val_accuracy: 0.9002\n",
      "Epoch 126/200\n",
      "493/493 [==============================] - 47s 96ms/step - loss: 0.0264 - accuracy: 0.9859 - val_loss: 0.9041 - val_accuracy: 0.9002\n",
      "Epoch 127/200\n",
      "493/493 [==============================] - 47s 96ms/step - loss: 0.0270 - accuracy: 0.9857 - val_loss: 0.8985 - val_accuracy: 0.8988\n",
      "Epoch 128/200\n",
      "493/493 [==============================] - 47s 96ms/step - loss: 0.0290 - accuracy: 0.9855 - val_loss: 0.8894 - val_accuracy: 0.8983\n",
      "Epoch 129/200\n",
      "493/493 [==============================] - 47s 96ms/step - loss: 0.0303 - accuracy: 0.9852 - val_loss: 0.8871 - val_accuracy: 0.8976\n",
      "Epoch 130/200\n",
      "493/493 [==============================] - 47s 96ms/step - loss: 0.0288 - accuracy: 0.9855 - val_loss: 0.8947 - val_accuracy: 0.8990\n",
      "Epoch 131/200\n",
      "493/493 [==============================] - 47s 96ms/step - loss: 0.0270 - accuracy: 0.9857 - val_loss: 0.8970 - val_accuracy: 0.8995\n",
      "Epoch 132/200\n",
      "493/493 [==============================] - 47s 96ms/step - loss: 0.0259 - accuracy: 0.9859 - val_loss: 0.8957 - val_accuracy: 0.8997\n",
      "Epoch 133/200\n",
      "493/493 [==============================] - 47s 96ms/step - loss: 0.0254 - accuracy: 0.9858 - val_loss: 0.9088 - val_accuracy: 0.9003\n",
      "Epoch 134/200\n",
      "493/493 [==============================] - 47s 96ms/step - loss: 0.0252 - accuracy: 0.9859 - val_loss: 0.9076 - val_accuracy: 0.9003\n",
      "Epoch 135/200\n",
      "493/493 [==============================] - 47s 96ms/step - loss: 0.0252 - accuracy: 0.9859 - val_loss: 0.9133 - val_accuracy: 0.8995\n",
      "Epoch 136/200\n",
      "493/493 [==============================] - 47s 96ms/step - loss: 0.0253 - accuracy: 0.9858 - val_loss: 0.9141 - val_accuracy: 0.9001\n",
      "Epoch 137/200\n",
      "493/493 [==============================] - 47s 96ms/step - loss: 0.0255 - accuracy: 0.9859 - val_loss: 0.9208 - val_accuracy: 0.8998\n",
      "Epoch 138/200\n",
      "493/493 [==============================] - 47s 96ms/step - loss: 0.0262 - accuracy: 0.9858 - val_loss: 0.9268 - val_accuracy: 0.8993\n",
      "Epoch 139/200\n",
      "493/493 [==============================] - 47s 96ms/step - loss: 0.0285 - accuracy: 0.9855 - val_loss: 0.9157 - val_accuracy: 0.8979\n",
      "Epoch 140/200\n",
      "493/493 [==============================] - 47s 96ms/step - loss: 0.0313 - accuracy: 0.9849 - val_loss: 0.9118 - val_accuracy: 0.8977\n",
      "Epoch 141/200\n",
      "493/493 [==============================] - 47s 96ms/step - loss: 0.0293 - accuracy: 0.9853 - val_loss: 0.9137 - val_accuracy: 0.8986\n",
      "Epoch 142/200\n",
      "493/493 [==============================] - 47s 96ms/step - loss: 0.0270 - accuracy: 0.9857 - val_loss: 0.9119 - val_accuracy: 0.8990\n",
      "Epoch 143/200\n",
      "493/493 [==============================] - 47s 96ms/step - loss: 0.0257 - accuracy: 0.9858 - val_loss: 0.9141 - val_accuracy: 0.8990\n",
      "Epoch 144/200\n",
      "493/493 [==============================] - 47s 96ms/step - loss: 0.0250 - accuracy: 0.9858 - val_loss: 0.9252 - val_accuracy: 0.8997\n",
      "Epoch 145/200\n",
      "493/493 [==============================] - 47s 96ms/step - loss: 0.0248 - accuracy: 0.9859 - val_loss: 0.9372 - val_accuracy: 0.8995\n",
      "Epoch 146/200\n",
      "493/493 [==============================] - 47s 96ms/step - loss: 0.0248 - accuracy: 0.9858 - val_loss: 0.9236 - val_accuracy: 0.8997\n",
      "Epoch 147/200\n",
      "493/493 [==============================] - 47s 96ms/step - loss: 0.0249 - accuracy: 0.9859 - val_loss: 0.9449 - val_accuracy: 0.8990\n",
      "Epoch 148/200\n",
      "493/493 [==============================] - 47s 96ms/step - loss: 0.0253 - accuracy: 0.9859 - val_loss: 0.9252 - val_accuracy: 0.8987\n",
      "Epoch 149/200\n",
      "493/493 [==============================] - 47s 96ms/step - loss: 0.0257 - accuracy: 0.9858 - val_loss: 0.9389 - val_accuracy: 0.8987\n",
      "Epoch 150/200\n",
      "493/493 [==============================] - 47s 95ms/step - loss: 0.0274 - accuracy: 0.9856 - val_loss: 0.9216 - val_accuracy: 0.8971\n",
      "Epoch 151/200\n",
      "493/493 [==============================] - 46s 94ms/step - loss: 0.0306 - accuracy: 0.9850 - val_loss: 0.9216 - val_accuracy: 0.8973\n",
      "Epoch 152/200\n",
      "493/493 [==============================] - 46s 94ms/step - loss: 0.0290 - accuracy: 0.9852 - val_loss: 0.9300 - val_accuracy: 0.8975\n",
      "Epoch 153/200\n",
      "493/493 [==============================] - 46s 94ms/step - loss: 0.0269 - accuracy: 0.9856 - val_loss: 0.9215 - val_accuracy: 0.8982\n",
      "Epoch 154/200\n",
      "493/493 [==============================] - 46s 94ms/step - loss: 0.0254 - accuracy: 0.9858 - val_loss: 0.9292 - val_accuracy: 0.8983\n",
      "Epoch 155/200\n",
      "493/493 [==============================] - 46s 94ms/step - loss: 0.0249 - accuracy: 0.9859 - val_loss: 0.9396 - val_accuracy: 0.8986\n",
      "Epoch 156/200\n",
      "493/493 [==============================] - 46s 94ms/step - loss: 0.0245 - accuracy: 0.9859 - val_loss: 0.9366 - val_accuracy: 0.8990\n",
      "Epoch 157/200\n",
      "493/493 [==============================] - 46s 94ms/step - loss: 0.0245 - accuracy: 0.9859 - val_loss: 0.9463 - val_accuracy: 0.8992\n",
      "Epoch 158/200\n",
      "493/493 [==============================] - 46s 94ms/step - loss: 0.0244 - accuracy: 0.9860 - val_loss: 0.9547 - val_accuracy: 0.8990\n",
      "Epoch 159/200\n",
      "493/493 [==============================] - 46s 94ms/step - loss: 0.0247 - accuracy: 0.9859 - val_loss: 0.9582 - val_accuracy: 0.8990\n",
      "Epoch 160/200\n",
      "493/493 [==============================] - 46s 94ms/step - loss: 0.0252 - accuracy: 0.9858 - val_loss: 0.9437 - val_accuracy: 0.8988\n",
      "Epoch 161/200\n",
      "493/493 [==============================] - 46s 94ms/step - loss: 0.0266 - accuracy: 0.9857 - val_loss: 0.9454 - val_accuracy: 0.8965\n",
      "Epoch 162/200\n",
      "493/493 [==============================] - 46s 94ms/step - loss: 0.0310 - accuracy: 0.9848 - val_loss: 0.9291 - val_accuracy: 0.8964\n",
      "Epoch 163/200\n",
      "493/493 [==============================] - 46s 94ms/step - loss: 0.0296 - accuracy: 0.9852 - val_loss: 0.9408 - val_accuracy: 0.8973\n",
      "Epoch 164/200\n",
      "493/493 [==============================] - 46s 94ms/step - loss: 0.0267 - accuracy: 0.9856 - val_loss: 0.9381 - val_accuracy: 0.8973\n",
      "Epoch 165/200\n",
      "493/493 [==============================] - 46s 94ms/step - loss: 0.0252 - accuracy: 0.9857 - val_loss: 0.9509 - val_accuracy: 0.8981\n",
      "Epoch 166/200\n",
      "493/493 [==============================] - 46s 94ms/step - loss: 0.0244 - accuracy: 0.9859 - val_loss: 0.9647 - val_accuracy: 0.8982\n",
      "Epoch 167/200\n",
      "493/493 [==============================] - 46s 94ms/step - loss: 0.0241 - accuracy: 0.9860 - val_loss: 0.9473 - val_accuracy: 0.8977\n",
      "Epoch 168/200\n",
      "493/493 [==============================] - 46s 94ms/step - loss: 0.0242 - accuracy: 0.9859 - val_loss: 0.9576 - val_accuracy: 0.8983\n"
     ]
    },
    {
     "name": "stdout",
     "output_type": "stream",
     "text": [
      "Epoch 169/200\n",
      "493/493 [==============================] - 46s 94ms/step - loss: 0.0242 - accuracy: 0.9859 - val_loss: 0.9553 - val_accuracy: 0.8980\n",
      "Epoch 170/200\n",
      "493/493 [==============================] - 46s 94ms/step - loss: 0.0244 - accuracy: 0.9859 - val_loss: 0.9584 - val_accuracy: 0.8981\n",
      "Epoch 171/200\n",
      "493/493 [==============================] - 46s 94ms/step - loss: 0.0248 - accuracy: 0.9858 - val_loss: 0.9702 - val_accuracy: 0.8980\n",
      "Epoch 172/200\n",
      "493/493 [==============================] - 46s 94ms/step - loss: 0.0255 - accuracy: 0.9858 - val_loss: 0.9507 - val_accuracy: 0.8973\n",
      "Epoch 173/200\n",
      "493/493 [==============================] - 46s 94ms/step - loss: 0.0284 - accuracy: 0.9852 - val_loss: 0.9609 - val_accuracy: 0.8956\n",
      "Epoch 174/200\n",
      "493/493 [==============================] - 46s 94ms/step - loss: 0.0304 - accuracy: 0.9848 - val_loss: 0.9672 - val_accuracy: 0.8964\n",
      "Epoch 175/200\n",
      "493/493 [==============================] - 46s 94ms/step - loss: 0.0278 - accuracy: 0.9854 - val_loss: 0.9588 - val_accuracy: 0.8966\n",
      "Epoch 176/200\n",
      "493/493 [==============================] - 46s 94ms/step - loss: 0.0259 - accuracy: 0.9857 - val_loss: 0.9628 - val_accuracy: 0.8980\n",
      "Epoch 177/200\n",
      "493/493 [==============================] - 46s 94ms/step - loss: 0.0247 - accuracy: 0.9858 - val_loss: 0.9731 - val_accuracy: 0.8982\n",
      "Epoch 178/200\n",
      "493/493 [==============================] - 46s 94ms/step - loss: 0.0242 - accuracy: 0.9858 - val_loss: 0.9645 - val_accuracy: 0.8984\n",
      "Epoch 179/200\n",
      "493/493 [==============================] - 46s 94ms/step - loss: 0.0239 - accuracy: 0.9859 - val_loss: 0.9715 - val_accuracy: 0.8980\n",
      "Epoch 180/200\n",
      "493/493 [==============================] - 46s 94ms/step - loss: 0.0238 - accuracy: 0.9859 - val_loss: 0.9872 - val_accuracy: 0.8986\n",
      "Epoch 181/200\n",
      "493/493 [==============================] - 46s 94ms/step - loss: 0.0240 - accuracy: 0.9859 - val_loss: 0.9886 - val_accuracy: 0.8983\n",
      "Epoch 182/200\n",
      "493/493 [==============================] - 46s 94ms/step - loss: 0.0245 - accuracy: 0.9857 - val_loss: 0.9936 - val_accuracy: 0.8986\n",
      "Epoch 183/200\n",
      "493/493 [==============================] - 46s 94ms/step - loss: 0.0253 - accuracy: 0.9858 - val_loss: 0.9798 - val_accuracy: 0.8972\n",
      "Epoch 184/200\n",
      "493/493 [==============================] - 46s 94ms/step - loss: 0.0281 - accuracy: 0.9854 - val_loss: 0.9653 - val_accuracy: 0.8956\n",
      "Epoch 185/200\n",
      "493/493 [==============================] - 46s 94ms/step - loss: 0.0304 - accuracy: 0.9848 - val_loss: 0.9765 - val_accuracy: 0.8964\n",
      "Epoch 186/200\n",
      "493/493 [==============================] - 46s 94ms/step - loss: 0.0278 - accuracy: 0.9853 - val_loss: 0.9767 - val_accuracy: 0.8972\n",
      "Epoch 187/200\n",
      "493/493 [==============================] - 46s 94ms/step - loss: 0.0256 - accuracy: 0.9857 - val_loss: 0.9820 - val_accuracy: 0.8976\n",
      "Epoch 188/200\n",
      "493/493 [==============================] - 46s 94ms/step - loss: 0.0245 - accuracy: 0.9859 - val_loss: 0.9779 - val_accuracy: 0.8978\n",
      "Epoch 189/200\n",
      "493/493 [==============================] - 46s 94ms/step - loss: 0.0238 - accuracy: 0.9859 - val_loss: 0.9877 - val_accuracy: 0.8985\n",
      "Epoch 190/200\n",
      "493/493 [==============================] - 46s 94ms/step - loss: 0.0237 - accuracy: 0.9859 - val_loss: 0.9836 - val_accuracy: 0.8978\n",
      "Epoch 191/200\n",
      "493/493 [==============================] - 46s 94ms/step - loss: 0.0236 - accuracy: 0.9860 - val_loss: 0.9997 - val_accuracy: 0.8977\n",
      "Epoch 192/200\n",
      "493/493 [==============================] - 46s 94ms/step - loss: 0.0237 - accuracy: 0.9857 - val_loss: 0.9992 - val_accuracy: 0.8984\n",
      "Epoch 193/200\n",
      "493/493 [==============================] - 46s 94ms/step - loss: 0.0240 - accuracy: 0.9859 - val_loss: 0.9969 - val_accuracy: 0.8982\n",
      "Epoch 194/200\n",
      "493/493 [==============================] - 46s 94ms/step - loss: 0.0248 - accuracy: 0.9858 - val_loss: 0.9881 - val_accuracy: 0.8971\n",
      "Epoch 195/200\n",
      "493/493 [==============================] - 46s 94ms/step - loss: 0.0285 - accuracy: 0.9851 - val_loss: 0.9894 - val_accuracy: 0.8960\n",
      "Epoch 196/200\n",
      "493/493 [==============================] - 46s 94ms/step - loss: 0.0312 - accuracy: 0.9846 - val_loss: 0.9821 - val_accuracy: 0.8960\n",
      "Epoch 197/200\n",
      "493/493 [==============================] - 46s 94ms/step - loss: 0.0278 - accuracy: 0.9853 - val_loss: 0.9837 - val_accuracy: 0.8975\n",
      "Epoch 198/200\n",
      "493/493 [==============================] - 46s 94ms/step - loss: 0.0255 - accuracy: 0.9857 - val_loss: 0.9888 - val_accuracy: 0.8982\n",
      "Epoch 199/200\n",
      "493/493 [==============================] - 46s 94ms/step - loss: 0.0242 - accuracy: 0.9859 - val_loss: 0.9959 - val_accuracy: 0.8979\n",
      "Epoch 200/200\n",
      "493/493 [==============================] - 46s 94ms/step - loss: 0.0236 - accuracy: 0.9859 - val_loss: 0.9971 - val_accuracy: 0.8979\n"
     ]
    },
    {
     "data": {
      "text/plain": [
       "<keras.callbacks.History at 0x701fa6d0>"
      ]
     },
     "execution_count": 24,
     "metadata": {},
     "output_type": "execute_result"
    }
   ],
   "source": [
    "#model training\n",
    "\"\"\"\n",
    "es = EarlyStopping(monitor=\"val_accuracy\", mode=\"max\", verbose=1, patience=4)\n",
    "mc = ModelCheckpoint(\"Models/best_Seq2seq_model.h5\", monitor=\"val_accuracy\", mode=\"max\", verbose=1, save_best_only=True)\n",
    "\n",
    "model.fit(x=[encoder_input_train, decoder_input_train], y=decoder_target_train, validation_data=([encoder_input_test, decoder_input_test], decoder_target_test), batch_size=128, epochs=100, callbacks=[es, mc])\n",
    "\"\"\"\n",
    "\n",
    "model.fit(x=[encoder_input_train, decoder_input_train], y=decoder_target_train, validation_data=([encoder_input_test, decoder_input_test], decoder_target_test), batch_size=128, epochs=400)"
   ]
  },
  {
   "cell_type": "code",
   "execution_count": 25,
   "metadata": {},
   "outputs": [],
   "source": [
    "#model = load_model(\"Models/best_Seq2seq_model.h5\")"
   ]
  },
  {
   "cell_type": "markdown",
   "metadata": {},
   "source": [
    "# Activating Model"
   ]
  },
  {
   "cell_type": "code",
   "execution_count": 26,
   "metadata": {},
   "outputs": [],
   "source": [
    "#Encoder\n",
    "encoder_model = Model(encoder_inputs, encoder_states)"
   ]
  },
  {
   "cell_type": "code",
   "execution_count": 27,
   "metadata": {},
   "outputs": [],
   "source": [
    "#Decoder\n",
    "decoder_state_input_h = Input(shape=(hidden_units,))\n",
    "decoder_state_input_c = Input(shape=(hidden_units,))\n",
    "decoder_states_inputs = [decoder_state_input_h, decoder_state_input_c]\n",
    "\n",
    "dec_emb2 = dec_emb_layer(decoder_inputs) #Shared layer\n",
    "\n",
    "decoder_outputs2, state_h2, state_c2 = decoder_lstm(dec_emb2, initial_state=decoder_states_inputs)\n",
    "decoder_states2 = [state_h2, state_c2]\n",
    "\n",
    "decoder_outputs2 = decoder_dense(decoder_outputs2)\n",
    "\n",
    "decoder_model = Model([decoder_inputs] + decoder_states_inputs, [decoder_outputs2] + decoder_states2)"
   ]
  },
  {
   "cell_type": "code",
   "execution_count": 28,
   "metadata": {},
   "outputs": [],
   "source": [
    "#Activating Decoder\n",
    "def decode_sequence(input_seq) :\n",
    "    states_value = encoder_model.predict(input_seq)\n",
    "    \n",
    "    target_seq = np.zeros((1,1))\n",
    "    target_seq[0,0] = tar_to_index[\"<sos>\"]\n",
    "    \n",
    "    decoded_sentence = ''\n",
    "    stop_condition = True\n",
    "    \n",
    "    while stop_condition :\n",
    "        output_tokens, h, c = decoder_model.predict([target_seq] + states_value)\n",
    "        \n",
    "        sampled_token_index = np.argmax(output_tokens[0, -1, :]) #가장 마지막 행 전체\n",
    "        sampled_char = index_to_tar[sampled_token_index]\n",
    "        \n",
    "        decoded_sentence += ' ' + sampled_char\n",
    "        \n",
    "        if (sampled_char == '<eos>' or len(decoded_sentence) > 50) :\n",
    "            stop_condition = False\n",
    "        \n",
    "        target_seq = np.zeros((1,1))\n",
    "        target_seq[0,0] = sampled_token_index\n",
    "        \n",
    "        sates_value = [h, c]\n",
    "        \n",
    "    return decoded_sentence"
   ]
  },
  {
   "cell_type": "markdown",
   "metadata": {},
   "source": [
    "#  Activate"
   ]
  },
  {
   "cell_type": "code",
   "execution_count": 29,
   "metadata": {},
   "outputs": [],
   "source": [
    "def seq_to_src(input_seq):\n",
    "    sentence = ''\n",
    "    for encoded_word in input_seq:\n",
    "        if(encoded_word != 0):\n",
    "            sentence = sentence + index_to_src[encoded_word] + ' '\n",
    "            \n",
    "    return sentence\n",
    "\n",
    "def seq_to_tar(input_seq):\n",
    "    sentence = ''\n",
    "    for encoded_word in input_seq:\n",
    "        if(encoded_word != 0 and encoded_word != tar_to_index['<sos>'] and encoded_word != tar_to_index['<eos>']):\n",
    "            sentence = sentence + index_to_tar[encoded_word] + ' '\n",
    "            \n",
    "    return sentence"
   ]
  },
  {
   "cell_type": "code",
   "execution_count": 30,
   "metadata": {},
   "outputs": [
    {
     "name": "stdout",
     "output_type": "stream",
     "text": [
      "1/1 [==============================] - 1s 1s/step\n",
      "1/1 [==============================] - 0s 377ms/step\n",
      "1/1 [==============================] - 0s 26ms/step\n",
      "1/1 [==============================] - 0s 25ms/step\n",
      "1/1 [==============================] - 0s 26ms/step\n",
      "1/1 [==============================] - 0s 26ms/step\n",
      "1/1 [==============================] - 0s 25ms/step\n",
      "1/1 [==============================] - 0s 26ms/step\n",
      "1/1 [==============================] - 0s 26ms/step\n",
      "Input sentence : give me a few . \n",
      "Correct sentence : dame algunos . \n",
      "Output sentence :  dame algunos dame algunos dame algunos dame algunos\n",
      "----------------------------------------------------------------------\n",
      "1/1 [==============================] - 0s 23ms/step\n",
      "1/1 [==============================] - 0s 26ms/step\n",
      "1/1 [==============================] - 0s 25ms/step\n",
      "1/1 [==============================] - 0s 26ms/step\n",
      "1/1 [==============================] - 0s 26ms/step\n",
      "1/1 [==============================] - 0s 26ms/step\n",
      "1/1 [==============================] - 0s 27ms/step\n",
      "1/1 [==============================] - 0s 26ms/step\n",
      "1/1 [==============================] - 0s 26ms/step\n",
      "1/1 [==============================] - 0s 26ms/step\n",
      "1/1 [==============================] - 0s 26ms/step\n",
      "1/1 [==============================] - 0s 27ms/step\n",
      "1/1 [==============================] - 0s 27ms/step\n",
      "1/1 [==============================] - 0s 27ms/step\n",
      "Input sentence : why is tom so gloomy ? \n",
      "Correct sentence : por que esta tom tan triste ? \n",
      "Output sentence :  por que por que por que por que por que por que por\n",
      "----------------------------------------------------------------------\n",
      "1/1 [==============================] - 0s 23ms/step\n",
      "1/1 [==============================] - 0s 27ms/step\n",
      "1/1 [==============================] - 0s 27ms/step\n",
      "1/1 [==============================] - 0s 27ms/step\n",
      "1/1 [==============================] - 0s 27ms/step\n",
      "1/1 [==============================] - 0s 27ms/step\n",
      "1/1 [==============================] - 0s 27ms/step\n",
      "1/1 [==============================] - 0s 27ms/step\n",
      "1/1 [==============================] - 0s 27ms/step\n",
      "1/1 [==============================] - 0s 27ms/step\n",
      "1/1 [==============================] - 0s 28ms/step\n",
      "1/1 [==============================] - 0s 27ms/step\n",
      "1/1 [==============================] - 0s 27ms/step\n",
      "1/1 [==============================] - 0s 29ms/step\n",
      "Input sentence : i ll do it . \n",
      "Correct sentence : lo hare yo . \n",
      "Output sentence :  lo hare lo hare lo hare lo hare lo hare lo hare lo\n",
      "----------------------------------------------------------------------\n",
      "1/1 [==============================] - 0s 24ms/step\n",
      "1/1 [==============================] - 0s 27ms/step\n",
      "1/1 [==============================] - 0s 27ms/step\n",
      "1/1 [==============================] - 0s 27ms/step\n",
      "1/1 [==============================] - 0s 28ms/step\n",
      "1/1 [==============================] - 0s 28ms/step\n",
      "1/1 [==============================] - 0s 27ms/step\n",
      "1/1 [==============================] - 0s 27ms/step\n",
      "1/1 [==============================] - 0s 27ms/step\n",
      "1/1 [==============================] - 0s 27ms/step\n",
      "1/1 [==============================] - 0s 27ms/step\n",
      "1/1 [==============================] - 0s 28ms/step\n",
      "1/1 [==============================] - 0s 27ms/step\n",
      "1/1 [==============================] - 0s 27ms/step\n",
      "Input sentence : this is three meters long . \n",
      "Correct sentence : esto es de tres metros de largo . \n",
      "Output sentence :  esto es esto es esto es esto es esto es esto es esto\n",
      "----------------------------------------------------------------------\n",
      "1/1 [==============================] - 0s 24ms/step\n",
      "1/1 [==============================] - 0s 27ms/step\n",
      "1/1 [==============================] - 0s 27ms/step\n",
      "1/1 [==============================] - 0s 32ms/step\n",
      "1/1 [==============================] - 0s 31ms/step\n",
      "1/1 [==============================] - 0s 31ms/step\n",
      "1/1 [==============================] - 0s 31ms/step\n",
      "1/1 [==============================] - 0s 31ms/step\n",
      "1/1 [==============================] - 0s 31ms/step\n",
      "1/1 [==============================] - 0s 31ms/step\n",
      "1/1 [==============================] - 0s 31ms/step\n",
      "1/1 [==============================] - 0s 31ms/step\n",
      "1/1 [==============================] - 0s 31ms/step\n",
      "1/1 [==============================] - 0s 31ms/step\n",
      "1/1 [==============================] - 0s 31ms/step\n",
      "1/1 [==============================] - 0s 30ms/step\n",
      "1/1 [==============================] - 0s 32ms/step\n",
      "1/1 [==============================] - 0s 31ms/step\n",
      "Input sentence : the surgery was a success . \n",
      "Correct sentence : la operacion fue un exito . \n",
      "Output sentence :  la la la la la la la la la la la la la la la la la\n",
      "----------------------------------------------------------------------\n"
     ]
    }
   ],
   "source": [
    "for seq_index in [3, 100, 300, 500, 2001]:\n",
    "    input_seq = encoder_input_train[seq_index: seq_index + 1]\n",
    "    decoded_sentence = decode_sequence(input_seq)\n",
    "\n",
    "    print(\"Input sentence :\",seq_to_src(encoder_input_train[seq_index]))\n",
    "    print(\"Correct sentence :\",seq_to_tar(decoder_input_train[seq_index]))\n",
    "    print(\"Output sentence :\",decoded_sentence)\n",
    "    print(\"-\"*70)"
   ]
  },
  {
   "cell_type": "code",
   "execution_count": null,
   "metadata": {},
   "outputs": [],
   "source": []
  }
 ],
 "metadata": {
  "kernelspec": {
   "display_name": "Python 3",
   "language": "python",
   "name": "python3"
  },
  "language_info": {
   "codemirror_mode": {
    "name": "ipython",
    "version": 3
   },
   "file_extension": ".py",
   "mimetype": "text/x-python",
   "name": "python",
   "nbconvert_exporter": "python",
   "pygments_lexer": "ipython3",
   "version": "3.8.5"
  }
 },
 "nbformat": 4,
 "nbformat_minor": 4
}
