{
 "cells": [
  {
   "cell_type": "code",
   "execution_count": 1,
   "id": "90d02a58",
   "metadata": {},
   "outputs": [],
   "source": [
    "import numpy as np\n",
    "from tensorflow.keras.preprocessing.text import Tokenizer\n",
    "from tensorflow.keras.preprocessing.sequence import pad_sequences\n",
    "from tensorflow.keras.utils import to_categorical"
   ]
  },
  {
   "cell_type": "code",
   "execution_count": 6,
   "id": "c6c95f4e",
   "metadata": {},
   "outputs": [],
   "source": [
    "text = \"\"\"He is sick\\n\n",
    "That is so sick\\n\n",
    "The sick cat is dying\\n\"\"\""
   ]
  },
  {
   "cell_type": "code",
   "execution_count": 7,
   "id": "f21d11e5",
   "metadata": {},
   "outputs": [
    {
     "name": "stdout",
     "output_type": "stream",
     "text": [
      "Size of vocabulary : 9\n"
     ]
    }
   ],
   "source": [
    "tokenizer = Tokenizer()\n",
    "tokenizer.fit_on_texts([text])\n",
    "vocab_size = len(tokenizer.word_index) + 1\n",
    "print(\"Size of vocabulary : %d\" % vocab_size)"
   ]
  },
  {
   "cell_type": "code",
   "execution_count": 8,
   "id": "43377417",
   "metadata": {},
   "outputs": [
    {
     "name": "stdout",
     "output_type": "stream",
     "text": [
      "{'is': 1, 'sick': 2, 'he': 3, 'that': 4, 'so': 5, 'the': 6, 'cat': 7, 'dying': 8}\n"
     ]
    }
   ],
   "source": [
    "print(tokenizer.word_index)"
   ]
  },
  {
   "cell_type": "code",
   "execution_count": 25,
   "id": "d952091c",
   "metadata": {},
   "outputs": [],
   "source": [
    "sequences = list()\n",
    "for line in text.split('\\n'):\n",
    "    encoded = tokenizer.texts_to_sequences({line})[0]\n",
    "    #print(encoded)\n",
    "    for i in range(1, len(encoded)):\n",
    "        sequence = encoded[:i+1]\n",
    "        sequences.append(sequence)"
   ]
  },
  {
   "cell_type": "code",
   "execution_count": 28,
   "id": "5a554496",
   "metadata": {},
   "outputs": [
    {
     "name": "stdout",
     "output_type": "stream",
     "text": [
      "[[3, 1], [3, 1, 2], [4, 1], [4, 1, 5], [4, 1, 5, 2], [6, 2], [6, 2, 7], [6, 2, 7, 1], [6, 2, 7, 1, 8]] \n",
      "Count of sample :  9\n"
     ]
    }
   ],
   "source": [
    "print(sequences,\"\\nCount of sample : \",len(sequences))"
   ]
  },
  {
   "cell_type": "code",
   "execution_count": 29,
   "id": "e32b4d11",
   "metadata": {},
   "outputs": [
    {
     "name": "stdout",
     "output_type": "stream",
     "text": [
      "Maximum length of sample : 5\n"
     ]
    }
   ],
   "source": [
    "max_len = max(len(l) for l in sequences)\n",
    "print(\"Maximum length of sample : {}\".format(max_len))"
   ]
  },
  {
   "cell_type": "code",
   "execution_count": 30,
   "id": "6df55f24",
   "metadata": {},
   "outputs": [],
   "source": [
    "sequences = pad_sequences(sequences, maxlen=max_len, padding='pre')"
   ]
  },
  {
   "cell_type": "code",
   "execution_count": 31,
   "id": "030f07f8",
   "metadata": {},
   "outputs": [
    {
     "name": "stdout",
     "output_type": "stream",
     "text": [
      "[[0 0 0 3 1]\n",
      " [0 0 3 1 2]\n",
      " [0 0 0 4 1]\n",
      " [0 0 4 1 5]\n",
      " [0 4 1 5 2]\n",
      " [0 0 0 6 2]\n",
      " [0 0 6 2 7]\n",
      " [0 6 2 7 1]\n",
      " [6 2 7 1 8]]\n"
     ]
    }
   ],
   "source": [
    "print(sequences)"
   ]
  },
  {
   "cell_type": "code",
   "execution_count": null,
   "id": "1e9f7ac3",
   "metadata": {},
   "outputs": [],
   "source": []
  }
 ],
 "metadata": {
  "kernelspec": {
   "display_name": "Python 3 (ipykernel)",
   "language": "python",
   "name": "python3"
  },
  "language_info": {
   "codemirror_mode": {
    "name": "ipython",
    "version": 3
   },
   "file_extension": ".py",
   "mimetype": "text/x-python",
   "name": "python",
   "nbconvert_exporter": "python",
   "pygments_lexer": "ipython3",
   "version": "3.9.13"
  }
 },
 "nbformat": 4,
 "nbformat_minor": 5
}
