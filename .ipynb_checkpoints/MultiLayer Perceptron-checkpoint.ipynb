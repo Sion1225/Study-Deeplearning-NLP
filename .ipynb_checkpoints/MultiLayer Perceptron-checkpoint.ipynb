{
 "cells": [
  {
   "cell_type": "code",
   "execution_count": 1,
   "id": "e72104d2",
   "metadata": {},
   "outputs": [],
   "source": [
    "import numpy as np\n",
    "from tensorflow.keras.preprocessing.text import Tokenizer"
   ]
  },
  {
   "cell_type": "code",
   "execution_count": 6,
   "id": "7d864c9e",
   "metadata": {},
   "outputs": [],
   "source": [
    "texts = ['I want to eat a banana.','eat a banana banana.','Long and yellow banana.','I like fruits.']"
   ]
  },
  {
   "cell_type": "code",
   "execution_count": 7,
   "id": "533cc07b",
   "metadata": {},
   "outputs": [
    {
     "name": "stdout",
     "output_type": "stream",
     "text": [
      "{'banana': 1, 'i': 2, 'eat': 3, 'a': 4, 'want': 5, 'to': 6, 'long': 7, 'and': 8, 'yellow': 9, 'like': 10, 'fruits': 11}\n"
     ]
    }
   ],
   "source": [
    "tokenizer = Tokenizer()\n",
    "tokenizer.fit_on_texts(texts)\n",
    "print(tokenizer.word_index)"
   ]
  },
  {
   "cell_type": "code",
   "execution_count": 8,
   "id": "32a32251",
   "metadata": {},
   "outputs": [
    {
     "name": "stdout",
     "output_type": "stream",
     "text": [
      "[[0. 1. 1. 1. 1. 1. 1. 0. 0. 0. 0. 0.]\n",
      " [0. 2. 0. 1. 1. 0. 0. 0. 0. 0. 0. 0.]\n",
      " [0. 1. 0. 0. 0. 0. 0. 1. 1. 1. 0. 0.]\n",
      " [0. 0. 1. 0. 0. 0. 0. 0. 0. 0. 1. 1.]]\n"
     ]
    }
   ],
   "source": [
    "print(tokenizer.texts_to_matrix(texts, mode = 'count')) #count -> DTM"
   ]
  },
  {
   "cell_type": "code",
   "execution_count": 9,
   "id": "65bcf8ba",
   "metadata": {},
   "outputs": [
    {
     "name": "stdout",
     "output_type": "stream",
     "text": [
      "[[0. 1. 1. 1. 1. 1. 1. 0. 0. 0. 0. 0.]\n",
      " [0. 1. 0. 1. 1. 0. 0. 0. 0. 0. 0. 0.]\n",
      " [0. 1. 0. 0. 0. 0. 0. 1. 1. 1. 0. 0.]\n",
      " [0. 0. 1. 0. 0. 0. 0. 0. 0. 0. 1. 1.]]\n"
     ]
    }
   ],
   "source": [
    "print(tokenizer.texts_to_matrix(texts, mode = 'binary')) #binary"
   ]
  },
  {
   "cell_type": "code",
   "execution_count": 10,
   "id": "45685f94",
   "metadata": {},
   "outputs": [
    {
     "name": "stdout",
     "output_type": "stream",
     "text": [
      "[[0.   0.69 0.85 0.85 0.85 1.1  1.1  0.   0.   0.   0.   0.  ]\n",
      " [0.   1.17 0.   0.85 0.85 0.   0.   0.   0.   0.   0.   0.  ]\n",
      " [0.   0.69 0.   0.   0.   0.   0.   1.1  1.1  1.1  0.   0.  ]\n",
      " [0.   0.   0.85 0.   0.   0.   0.   0.   0.   0.   1.1  1.1 ]]\n"
     ]
    }
   ],
   "source": [
    "print(tokenizer.texts_to_matrix(texts, mode = 'tfidf').round(2)) #TF-IDF  round off .2"
   ]
  },
  {
   "cell_type": "code",
   "execution_count": 11,
   "id": "d6e6f9de",
   "metadata": {},
   "outputs": [
    {
     "name": "stdout",
     "output_type": "stream",
     "text": [
      "[[0.   0.17 0.17 0.17 0.17 0.17 0.17 0.   0.   0.   0.   0.  ]\n",
      " [0.   0.5  0.   0.25 0.25 0.   0.   0.   0.   0.   0.   0.  ]\n",
      " [0.   0.25 0.   0.   0.   0.   0.   0.25 0.25 0.25 0.   0.  ]\n",
      " [0.   0.   0.33 0.   0.   0.   0.   0.   0.   0.   0.33 0.33]]\n"
     ]
    }
   ],
   "source": [
    "print(tokenizer.texts_to_matrix(texts, mode = 'freq').round(2)) #frequency for each sentence"
   ]
  },
  {
   "cell_type": "code",
   "execution_count": null,
   "id": "a2855242",
   "metadata": {},
   "outputs": [],
   "source": []
  }
 ],
 "metadata": {
  "kernelspec": {
   "display_name": "Python 3 (ipykernel)",
   "language": "python",
   "name": "python3"
  },
  "language_info": {
   "codemirror_mode": {
    "name": "ipython",
    "version": 3
   },
   "file_extension": ".py",
   "mimetype": "text/x-python",
   "name": "python",
   "nbconvert_exporter": "python",
   "pygments_lexer": "ipython3",
   "version": "3.9.13"
  }
 },
 "nbformat": 4,
 "nbformat_minor": 5
}
