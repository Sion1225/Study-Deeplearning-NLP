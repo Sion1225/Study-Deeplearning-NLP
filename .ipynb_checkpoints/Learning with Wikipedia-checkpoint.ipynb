{
 "cells": [
  {
   "cell_type": "code",
   "execution_count": 2,
   "metadata": {},
   "outputs": [],
   "source": [
    "import os\n",
    "import re"
   ]
  },
  {
   "cell_type": "code",
   "execution_count": 3,
   "metadata": {},
   "outputs": [],
   "source": [
    "def list_wiki(dirname) :\n",
    "    filepaths = []\n",
    "    filenames = os.listdir(dirname)\n",
    "    \n",
    "    for filename in filenames :\n",
    "        filepath = os.path.join(dirname, filename)\n",
    "        \n",
    "        if os.path.isdir(filepath) :\n",
    "            filepaths.extend(list_wiki(filepath))\n",
    "        else :\n",
    "            find = re.findall(r\"wiki_[0-9][0-9]\",filepath)\n",
    "            if 0 < len(find) :\n",
    "                filepaths.append(filepath)\n",
    "                \n",
    "    return sorted(filepaths)"
   ]
  },
  {
   "cell_type": "code",
   "execution_count": 4,
   "metadata": {},
   "outputs": [],
   "source": [
    "filepaths = list_wiki(\"F:/Study/DataSet/text\")"
   ]
  },
  {
   "cell_type": "code",
   "execution_count": 5,
   "metadata": {},
   "outputs": [
    {
     "name": "stdout",
     "output_type": "stream",
     "text": [
      "['F:/Study/DataSet/text\\\\AA\\\\wiki_00', 'F:/Study/DataSet/text\\\\AA\\\\wiki_01', 'F:/Study/DataSet/text\\\\AA\\\\wiki_02', 'F:/Study/DataSet/text\\\\AA\\\\wiki_03', 'F:/Study/DataSet/text\\\\AA\\\\wiki_04']\n",
      "676\n"
     ]
    }
   ],
   "source": [
    "print(filepaths[:5])\n",
    "print(len(filepaths))"
   ]
  },
  {
   "cell_type": "code",
   "execution_count": 43,
   "metadata": {},
   "outputs": [],
   "source": [
    "def combine_wiki(filepaths) :\n",
    "    with open(\"DataSet/output_wiki_file.txt\",\"w\", encoding='utf-8') as outfile :\n",
    "        for filename in filepaths :\n",
    "            with open(filename,\"r\", encoding='utf-8') as infile :\n",
    "                contents = infile.read()\n",
    "                outfile.write(contents)"
   ]
  },
  {
   "cell_type": "code",
   "execution_count": 44,
   "metadata": {},
   "outputs": [],
   "source": [
    "combine_wiki(filepaths)"
   ]
  },
  {
   "cell_type": "code",
   "execution_count": 52,
   "metadata": {},
   "outputs": [
    {
     "name": "stdout",
     "output_type": "stream",
     "text": [
      "0  Line :  <doc id=\"16\" url=\"?curid=16\" title=\"dictionary\">\n",
      "\n",
      "1  Line :  dictionary\n",
      "\n",
      "2  Line :  \n",
      "\n",
      "3  Line :  English.\n",
      "\n",
      "4  Line :  Etymology.\n",
      "\n",
      "5  Line :  , from , from , from , perfect past participle of + . .\n",
      "\n",
      "6  Line :  \n",
      "\n",
      "7  Line :  </doc>\n",
      "\n",
      "8  Line :  <doc id=\"19\" url=\"?curid=19\" title=\"free\">\n",
      "\n",
      "9  Line :  free\n",
      "\n",
      "10  Line :  \n",
      "\n",
      "11  Line :  English.\n",
      "\n",
      "12  Line :  Etymology.\n",
      "\n",
      "13  Line :  From , , , from , from , from , from , from . Related to .\n",
      "\n",
      "14  Line :  Germanic cognates include , , , , , and .\n",
      "\n",
      "15  Line :  Other cognates include and .\n",
      "\n",
      "16  Line :  Germanic and Celtic are the only Indo-European language branches in which the PIE word with the meaning of \"dear, beloved\" acquired the additional meaning of \"free\" in the sense of \"not in bondage\". This was an extension of the idea of \"characteristic of those who are dear and beloved\", in other words friends and tribe members (in contrast to unfree inhabitants from other tribes and prisoners of war, many of which were among the slaves – compare the Latin use of liberi to mean both \"free persons\" and \"children of a family\").\n",
      "\n",
      "17  Line :  The verb comes from , , from , , from , from , from .\n",
      "\n",
      "18  Line :  Low German.\n",
      "\n",
      "19  Line :  Etymology.\n",
      "\n",
      "20  Line :  From , variant of , from , from , from . Compare , , , .\n",
      "\n",
      "21  Line :  \n",
      "\n",
      "22  Line :  </doc>\n",
      "\n",
      "23  Line :  <doc id=\"20\" url=\"?curid=20\" title=\"thesaurus\">\n",
      "\n",
      "24  Line :  thesaurus\n",
      "\n",
      "25  Line :  \n",
      "\n",
      "26  Line :  English.\n",
      "\n",
      "27  Line :  Etymology.\n",
      "\n",
      "28  Line :  16th century, from , from ; its current English usage/meaning was established soon after the publication of Peter Roget's \"Thesaurus of English Words and Phrases\" in 1852. .\n",
      "\n",
      "29  Line :  Latin.\n",
      "\n"
     ]
    }
   ],
   "source": [
    "f = open(\"DataSet/output_wiki_file.txt\",'r', encoding=\"utf8\")\n",
    "\n",
    "for i in range(30) :\n",
    "    line = f.readline()\n",
    "    print(i,\" Line : \",line)\n",
    "    \n",
    "f.close()"
   ]
  },
  {
   "cell_type": "code",
   "execution_count": 71,
   "metadata": {},
   "outputs": [],
   "source": [
    "#pre-processing\n",
    "import re\n",
    "from nltk.tokenize import sent_tokenize\n",
    "import ray"
   ]
  },
  {
   "cell_type": "code",
   "execution_count": 72,
   "metadata": {},
   "outputs": [],
   "source": [
    "with open(\"DataSet/output_wiki_file.txt\",'r', encoding=\"utf8\") as wiki_f :\n",
    "    wiki = wiki_f.read()"
   ]
  },
  {
   "cell_type": "code",
   "execution_count": 73,
   "metadata": {},
   "outputs": [
    {
     "name": "stderr",
     "output_type": "stream",
     "text": [
      "2023-02-05 04:13:02,435\tINFO worker.py:1538 -- Started a local Ray instance.\n"
     ]
    },
    {
     "data": {
      "text/html": [
       "<div>\n",
       "    <div style=\"margin-left: 50px;display: flex;flex-direction: row;align-items: center\">\n",
       "        <h3 style=\"color: var(--jp-ui-font-color0)\">Ray</h3>\n",
       "        <svg version=\"1.1\" id=\"ray\" width=\"3em\" viewBox=\"0 0 144.5 144.6\" style=\"margin-left: 3em;margin-right: 3em\">\n",
       "            <g id=\"layer-1\">\n",
       "                <path fill=\"#00a2e9\" class=\"st0\" d=\"M97.3,77.2c-3.8-1.1-6.2,0.9-8.3,5.1c-3.5,6.8-9.9,9.9-17.4,9.6S58,88.1,54.8,81.2c-1.4-3-3-4-6.3-4.1\n",
       "                    c-5.6-0.1-9.9,0.1-13.1,6.4c-3.8,7.6-13.6,10.2-21.8,7.6C5.2,88.4-0.4,80.5,0,71.7c0.1-8.4,5.7-15.8,13.8-18.2\n",
       "                    c8.4-2.6,17.5,0.7,22.3,8c1.3,1.9,1.3,5.2,3.6,5.6c3.9,0.6,8,0.2,12,0.2c1.8,0,1.9-1.6,2.4-2.8c3.5-7.8,9.7-11.8,18-11.9\n",
       "                    c8.2-0.1,14.4,3.9,17.8,11.4c1.3,2.8,2.9,3.6,5.7,3.3c1-0.1,2,0.1,3,0c2.8-0.5,6.4,1.7,8.1-2.7s-2.3-5.5-4.1-7.5\n",
       "                    c-5.1-5.7-10.9-10.8-16.1-16.3C84,38,81.9,37.1,78,38.3C66.7,42,56.2,35.7,53,24.1C50.3,14,57.3,2.8,67.7,0.5\n",
       "                    C78.4-2,89,4.7,91.5,15.3c0.1,0.3,0.1,0.5,0.2,0.8c0.7,3.4,0.7,6.9-0.8,9.8c-1.7,3.2-0.8,5,1.5,7.2c6.7,6.5,13.3,13,19.8,19.7\n",
       "                    c1.8,1.8,3,2.1,5.5,1.2c9.1-3.4,17.9-0.6,23.4,7c4.8,6.9,4.6,16.1-0.4,22.9c-5.4,7.2-14.2,9.9-23.1,6.5c-2.3-0.9-3.5-0.6-5.1,1.1\n",
       "                    c-6.7,6.9-13.6,13.7-20.5,20.4c-1.8,1.8-2.5,3.2-1.4,5.9c3.5,8.7,0.3,18.6-7.7,23.6c-7.9,5-18.2,3.8-24.8-2.9\n",
       "                    c-6.4-6.4-7.4-16.2-2.5-24.3c4.9-7.8,14.5-11,23.1-7.8c3,1.1,4.7,0.5,6.9-1.7C91.7,98.4,98,92.3,104.2,86c1.6-1.6,4.1-2.7,2.6-6.2\n",
       "                    c-1.4-3.3-3.8-2.5-6.2-2.6C99.8,77.2,98.9,77.2,97.3,77.2z M72.1,29.7c5.5,0.1,9.9-4.3,10-9.8c0-0.1,0-0.2,0-0.3\n",
       "                    C81.8,14,77,9.8,71.5,10.2c-5,0.3-9,4.2-9.3,9.2c-0.2,5.5,4,10.1,9.5,10.3C71.8,29.7,72,29.7,72.1,29.7z M72.3,62.3\n",
       "                    c-5.4-0.1-9.9,4.2-10.1,9.7c0,0.2,0,0.3,0,0.5c0.2,5.4,4.5,9.7,9.9,10c5.1,0.1,9.9-4.7,10.1-9.8c0.2-5.5-4-10-9.5-10.3\n",
       "                    C72.6,62.3,72.4,62.3,72.3,62.3z M115,72.5c0.1,5.4,4.5,9.7,9.8,9.9c5.6-0.2,10-4.8,10-10.4c-0.2-5.4-4.6-9.7-10-9.7\n",
       "                    c-5.3-0.1-9.8,4.2-9.9,9.5C115,72.1,115,72.3,115,72.5z M19.5,62.3c-5.4,0.1-9.8,4.4-10,9.8c-0.1,5.1,5.2,10.4,10.2,10.3\n",
       "                    c5.6-0.2,10-4.9,9.8-10.5c-0.1-5.4-4.5-9.7-9.9-9.6C19.6,62.3,19.5,62.3,19.5,62.3z M71.8,134.6c5.9,0.2,10.3-3.9,10.4-9.6\n",
       "                    c0.5-5.5-3.6-10.4-9.1-10.8c-5.5-0.5-10.4,3.6-10.8,9.1c0,0.5,0,0.9,0,1.4c-0.2,5.3,4,9.8,9.3,10\n",
       "                    C71.6,134.6,71.7,134.6,71.8,134.6z\"/>\n",
       "            </g>\n",
       "        </svg>\n",
       "        <table>\n",
       "            <tr>\n",
       "                <td style=\"text-align: left\"><b>Python version:</b></td>\n",
       "                <td style=\"text-align: left\"><b>3.8.5</b></td>\n",
       "            </tr>\n",
       "            <tr>\n",
       "                <td style=\"text-align: left\"><b>Ray version:</b></td>\n",
       "                <td style=\"text-align: left\"><b> 2.2.0</b></td>\n",
       "            </tr>\n",
       "            \n",
       "        </table>\n",
       "    </div>\n",
       "</div>\n"
      ],
      "text/plain": [
       "RayContext(dashboard_url='', python_version='3.8.5', ray_version='2.2.0', ray_commit='b6af0887ee5f2e460202133791ad941a41f15beb', address_info={'node_ip_address': '127.0.0.1', 'raylet_ip_address': '127.0.0.1', 'redis_address': None, 'object_store_address': 'tcp://127.0.0.1:65005', 'raylet_socket_name': 'tcp://127.0.0.1:61679', 'webui_url': '', 'session_dir': 'C:\\\\Users\\\\visio\\\\AppData\\\\Local\\\\Temp\\\\ray\\\\session_2023-02-05_04-12-57_891847_3752', 'metrics_export_port': 61624, 'gcs_address': '127.0.0.1:64784', 'address': '127.0.0.1:64784', 'dashboard_agent_listen_port': 52365, 'node_id': '8e2c894e275695f067cb730ee2382108962430dbd0867b45cde2572f'})"
      ]
     },
     "execution_count": 73,
     "metadata": {},
     "output_type": "execute_result"
    }
   ],
   "source": [
    "ray.init()"
   ]
  },
  {
   "cell_type": "code",
   "execution_count": 74,
   "metadata": {},
   "outputs": [],
   "source": [
    "@ray.remote\n",
    "def pre_processing1(wiki) :\n",
    "    content_text = re.sub(\"<.*>\", \"\", wiki, flags=re.MULTILINE)    \n",
    "    #content_text = content_text.lower()\n",
    "    content_text = re.sub(\", from \", \"\", content_text, flags=re.MULTILINE)\n",
    "    content_text = re.sub(\" ,\", \"\", content_text, flags=re.MULTILINE)\n",
    "    content_text = re.sub(\"from .\", \"\", content_text, flags=re.MULTILINE)\n",
    "    content_text = re.sub(\" \\.\", \"\", content_text, flags=re.MULTILINE)\n",
    "    content_text = re.sub(\"\\+\", \"\", content_text, flags=re.MULTILINE)\n",
    "    content_text = re.sub(\" ;\", \"\", content_text, flags=re.MULTILINE)\n",
    "    \n",
    "    return content_text"
   ]
  },
  {
   "cell_type": "code",
   "execution_count": 75,
   "metadata": {},
   "outputs": [
    {
     "ename": "RayTaskError",
     "evalue": "\u001b[36mray::pre_processing1()\u001b[39m (pid=24340, ip=127.0.0.1)\n  File \"python\\ray\\_raylet.pyx\", line 789, in ray._raylet.execute_task\n  File \"python\\ray\\_raylet.pyx\", line 814, in ray._raylet.execute_task\n  File \"python\\ray\\_raylet.pyx\", line 506, in ray._raylet.raise_if_dependency_failed\nray.exceptions.RaySystemError: System error: \ntraceback: Traceback (most recent call last):\n  File \"C:\\ProgramData\\Anaconda3\\lib\\site-packages\\ray\\_private\\serialization.py\", line 216, in _deserialize_msgpack_data\n    obj = MessagePackSerializer.loads(msgpack_data, _python_deserializer)\n  File \"python\\ray\\includes/serialization.pxi\", line 191, in ray._raylet.MessagePackSerializer.loads\n  File \"python\\ray\\includes/serialization.pxi\", line 192, in ray._raylet.MessagePackSerializer.loads\n  File \"msgpack/_unpacker.pyx\", line 195, in msgpack._cmsgpack.unpackb\nMemoryError\n\nDuring handling of the above exception, another exception occurred:\n\n\u001b[36mray::pre_processing1()\u001b[39m (pid=24340, ip=127.0.0.1)\n  File \"C:\\ProgramData\\Anaconda3\\lib\\site-packages\\ray\\_private\\serialization.py\", line 369, in deserialize_objects\n    obj = self._deserialize_object(data, metadata, object_ref)\n  File \"C:\\ProgramData\\Anaconda3\\lib\\site-packages\\ray\\_private\\serialization.py\", line 252, in _deserialize_object\n    return self._deserialize_msgpack_data(data, metadata_fields)\n  File \"C:\\ProgramData\\Anaconda3\\lib\\site-packages\\ray\\_private\\serialization.py\", line 218, in _deserialize_msgpack_data\n    raise DeserializationError()\nray._private.serialization.DeserializationError",
     "output_type": "error",
     "traceback": [
      "\u001b[1;31m---------------------------------------------------------------------------\u001b[0m",
      "\u001b[1;31mRayTaskError\u001b[0m                              Traceback (most recent call last)",
      "\u001b[1;32m<ipython-input-75-0579740ccad9>\u001b[0m in \u001b[0;36m<module>\u001b[1;34m\u001b[0m\n\u001b[0;32m      1\u001b[0m \u001b[0mtemp\u001b[0m \u001b[1;33m=\u001b[0m \u001b[0mpre_processing1\u001b[0m\u001b[1;33m.\u001b[0m\u001b[0mremote\u001b[0m\u001b[1;33m(\u001b[0m\u001b[0mwiki\u001b[0m\u001b[1;33m)\u001b[0m\u001b[1;33m\u001b[0m\u001b[1;33m\u001b[0m\u001b[0m\n\u001b[1;32m----> 2\u001b[1;33m \u001b[0mcontent_text\u001b[0m \u001b[1;33m=\u001b[0m \u001b[0mray\u001b[0m\u001b[1;33m.\u001b[0m\u001b[0mget\u001b[0m\u001b[1;33m(\u001b[0m\u001b[0mtemp\u001b[0m\u001b[1;33m)\u001b[0m\u001b[1;33m\u001b[0m\u001b[1;33m\u001b[0m\u001b[0m\n\u001b[0m\u001b[0;32m      3\u001b[0m \u001b[0mprint\u001b[0m\u001b[1;33m(\u001b[0m\u001b[0mcontent_text\u001b[0m\u001b[1;33m[\u001b[0m\u001b[1;33m:\u001b[0m\u001b[1;36m1000\u001b[0m\u001b[1;33m]\u001b[0m\u001b[1;33m)\u001b[0m\u001b[1;33m\u001b[0m\u001b[1;33m\u001b[0m\u001b[0m\n",
      "\u001b[1;32mC:\\ProgramData\\Anaconda3\\lib\\site-packages\\ray\\_private\\client_mode_hook.py\u001b[0m in \u001b[0;36mwrapper\u001b[1;34m(*args, **kwargs)\u001b[0m\n\u001b[0;32m    103\u001b[0m             \u001b[1;32mif\u001b[0m \u001b[0mfunc\u001b[0m\u001b[1;33m.\u001b[0m\u001b[0m__name__\u001b[0m \u001b[1;33m!=\u001b[0m \u001b[1;34m\"init\"\u001b[0m \u001b[1;32mor\u001b[0m \u001b[0mis_client_mode_enabled_by_default\u001b[0m\u001b[1;33m:\u001b[0m\u001b[1;33m\u001b[0m\u001b[1;33m\u001b[0m\u001b[0m\n\u001b[0;32m    104\u001b[0m                 \u001b[1;32mreturn\u001b[0m \u001b[0mgetattr\u001b[0m\u001b[1;33m(\u001b[0m\u001b[0mray\u001b[0m\u001b[1;33m,\u001b[0m \u001b[0mfunc\u001b[0m\u001b[1;33m.\u001b[0m\u001b[0m__name__\u001b[0m\u001b[1;33m)\u001b[0m\u001b[1;33m(\u001b[0m\u001b[1;33m*\u001b[0m\u001b[0margs\u001b[0m\u001b[1;33m,\u001b[0m \u001b[1;33m**\u001b[0m\u001b[0mkwargs\u001b[0m\u001b[1;33m)\u001b[0m\u001b[1;33m\u001b[0m\u001b[1;33m\u001b[0m\u001b[0m\n\u001b[1;32m--> 105\u001b[1;33m         \u001b[1;32mreturn\u001b[0m \u001b[0mfunc\u001b[0m\u001b[1;33m(\u001b[0m\u001b[1;33m*\u001b[0m\u001b[0margs\u001b[0m\u001b[1;33m,\u001b[0m \u001b[1;33m**\u001b[0m\u001b[0mkwargs\u001b[0m\u001b[1;33m)\u001b[0m\u001b[1;33m\u001b[0m\u001b[1;33m\u001b[0m\u001b[0m\n\u001b[0m\u001b[0;32m    106\u001b[0m \u001b[1;33m\u001b[0m\u001b[0m\n\u001b[0;32m    107\u001b[0m     \u001b[1;32mreturn\u001b[0m \u001b[0mwrapper\u001b[0m\u001b[1;33m\u001b[0m\u001b[1;33m\u001b[0m\u001b[0m\n",
      "\u001b[1;32mC:\\ProgramData\\Anaconda3\\lib\\site-packages\\ray\\_private\\worker.py\u001b[0m in \u001b[0;36mget\u001b[1;34m(object_refs, timeout)\u001b[0m\n\u001b[0;32m   2307\u001b[0m                     \u001b[0mworker\u001b[0m\u001b[1;33m.\u001b[0m\u001b[0mcore_worker\u001b[0m\u001b[1;33m.\u001b[0m\u001b[0mdump_object_store_memory_usage\u001b[0m\u001b[1;33m(\u001b[0m\u001b[1;33m)\u001b[0m\u001b[1;33m\u001b[0m\u001b[1;33m\u001b[0m\u001b[0m\n\u001b[0;32m   2308\u001b[0m                 \u001b[1;32mif\u001b[0m \u001b[0misinstance\u001b[0m\u001b[1;33m(\u001b[0m\u001b[0mvalue\u001b[0m\u001b[1;33m,\u001b[0m \u001b[0mRayTaskError\u001b[0m\u001b[1;33m)\u001b[0m\u001b[1;33m:\u001b[0m\u001b[1;33m\u001b[0m\u001b[1;33m\u001b[0m\u001b[0m\n\u001b[1;32m-> 2309\u001b[1;33m                     \u001b[1;32mraise\u001b[0m \u001b[0mvalue\u001b[0m\u001b[1;33m.\u001b[0m\u001b[0mas_instanceof_cause\u001b[0m\u001b[1;33m(\u001b[0m\u001b[1;33m)\u001b[0m\u001b[1;33m\u001b[0m\u001b[1;33m\u001b[0m\u001b[0m\n\u001b[0m\u001b[0;32m   2310\u001b[0m                 \u001b[1;32melse\u001b[0m\u001b[1;33m:\u001b[0m\u001b[1;33m\u001b[0m\u001b[1;33m\u001b[0m\u001b[0m\n\u001b[0;32m   2311\u001b[0m                     \u001b[1;32mraise\u001b[0m \u001b[0mvalue\u001b[0m\u001b[1;33m\u001b[0m\u001b[1;33m\u001b[0m\u001b[0m\n",
      "\u001b[1;31mRayTaskError\u001b[0m: \u001b[36mray::pre_processing1()\u001b[39m (pid=24340, ip=127.0.0.1)\n  File \"python\\ray\\_raylet.pyx\", line 789, in ray._raylet.execute_task\n  File \"python\\ray\\_raylet.pyx\", line 814, in ray._raylet.execute_task\n  File \"python\\ray\\_raylet.pyx\", line 506, in ray._raylet.raise_if_dependency_failed\nray.exceptions.RaySystemError: System error: \ntraceback: Traceback (most recent call last):\n  File \"C:\\ProgramData\\Anaconda3\\lib\\site-packages\\ray\\_private\\serialization.py\", line 216, in _deserialize_msgpack_data\n    obj = MessagePackSerializer.loads(msgpack_data, _python_deserializer)\n  File \"python\\ray\\includes/serialization.pxi\", line 191, in ray._raylet.MessagePackSerializer.loads\n  File \"python\\ray\\includes/serialization.pxi\", line 192, in ray._raylet.MessagePackSerializer.loads\n  File \"msgpack/_unpacker.pyx\", line 195, in msgpack._cmsgpack.unpackb\nMemoryError\n\nDuring handling of the above exception, another exception occurred:\n\n\u001b[36mray::pre_processing1()\u001b[39m (pid=24340, ip=127.0.0.1)\n  File \"C:\\ProgramData\\Anaconda3\\lib\\site-packages\\ray\\_private\\serialization.py\", line 369, in deserialize_objects\n    obj = self._deserialize_object(data, metadata, object_ref)\n  File \"C:\\ProgramData\\Anaconda3\\lib\\site-packages\\ray\\_private\\serialization.py\", line 252, in _deserialize_object\n    return self._deserialize_msgpack_data(data, metadata_fields)\n  File \"C:\\ProgramData\\Anaconda3\\lib\\site-packages\\ray\\_private\\serialization.py\", line 218, in _deserialize_msgpack_data\n    raise DeserializationError()\nray._private.serialization.DeserializationError"
     ]
    }
   ],
   "source": [
    "temp = pre_processing1.remote(wiki)\n",
    "content_text = ray.get(temp)\n",
    "print(content_text[:1000])"
   ]
  },
  {
   "cell_type": "code",
   "execution_count": null,
   "metadata": {},
   "outputs": [],
   "source": [
    "@ray.remote\n",
    "def pre_processing2(content_text) :\n",
    "    sent_tokenized = sent_tokenize(content_text)\n",
    "    #sent_tokenized = [line.split(\"\\n\") for line in sent_tokenized]\n",
    "    sent_tokenized = [re.sub(\"(\\n)+\", \" \", line, flags=re.MULTILINE) for line in sent_tokenized]\n",
    "    sent_tokenized = [re.sub('^[^a-zA-Z\"\\'(]', \"\", line, flags=re.MULTILINE) for line in sent_tokenized]\n",
    "    \n",
    "    return sent_tokenized"
   ]
  },
  {
   "cell_type": "code",
   "execution_count": null,
   "metadata": {
    "scrolled": true
   },
   "outputs": [],
   "source": [
    "temp = pre_processing2.remote(content_text[:20000])\n",
    "sent_tokenized = ray.get(temp)"
   ]
  },
  {
   "cell_type": "code",
   "execution_count": null,
   "metadata": {},
   "outputs": [],
   "source": [
    "for line in sent_tokenized :\n",
    "    print(line)"
   ]
  },
  {
   "cell_type": "code",
   "execution_count": null,
   "metadata": {},
   "outputs": [],
   "source": [
    "print(sent_tokenized)"
   ]
  },
  {
   "cell_type": "code",
   "execution_count": null,
   "metadata": {},
   "outputs": [
    {
     "name": "stderr",
     "output_type": "stream",
     "text": [
      "\u001b[2m\u001b[36m(pre_processing1 pid=24340)\u001b[0m 2023-02-05 04:13:10,295\tERROR serialization.py:371 -- \n",
      "\u001b[2m\u001b[36m(pre_processing1 pid=24340)\u001b[0m Traceback (most recent call last):\n",
      "\u001b[2m\u001b[36m(pre_processing1 pid=24340)\u001b[0m   File \"C:\\ProgramData\\Anaconda3\\lib\\site-packages\\ray\\_private\\serialization.py\", line 216, in _deserialize_msgpack_data\n",
      "\u001b[2m\u001b[36m(pre_processing1 pid=24340)\u001b[0m     obj = MessagePackSerializer.loads(msgpack_data, _python_deserializer)\n",
      "\u001b[2m\u001b[36m(pre_processing1 pid=24340)\u001b[0m   File \"python\\ray\\includes/serialization.pxi\", line 191, in ray._raylet.MessagePackSerializer.loads\n",
      "\u001b[2m\u001b[36m(pre_processing1 pid=24340)\u001b[0m   File \"python\\ray\\includes/serialization.pxi\", line 192, in ray._raylet.MessagePackSerializer.loads\n",
      "\u001b[2m\u001b[36m(pre_processing1 pid=24340)\u001b[0m   File \"msgpack/_unpacker.pyx\", line 195, in msgpack._cmsgpack.unpackb\n",
      "\u001b[2m\u001b[36m(pre_processing1 pid=24340)\u001b[0m MemoryError\n",
      "\u001b[2m\u001b[36m(pre_processing1 pid=24340)\u001b[0m \n",
      "\u001b[2m\u001b[36m(pre_processing1 pid=24340)\u001b[0m During handling of the above exception, another exception occurred:\n",
      "\u001b[2m\u001b[36m(pre_processing1 pid=24340)\u001b[0m \n",
      "\u001b[2m\u001b[36m(pre_processing1 pid=24340)\u001b[0m Traceback (most recent call last):\n",
      "\u001b[2m\u001b[36m(pre_processing1 pid=24340)\u001b[0m   File \"C:\\ProgramData\\Anaconda3\\lib\\site-packages\\ray\\_private\\serialization.py\", line 369, in deserialize_objects\n",
      "\u001b[2m\u001b[36m(pre_processing1 pid=24340)\u001b[0m     obj = self._deserialize_object(data, metadata, object_ref)\n",
      "\u001b[2m\u001b[36m(pre_processing1 pid=24340)\u001b[0m   File \"C:\\ProgramData\\Anaconda3\\lib\\site-packages\\ray\\_private\\serialization.py\", line 252, in _deserialize_object\n",
      "\u001b[2m\u001b[36m(pre_processing1 pid=24340)\u001b[0m     return self._deserialize_msgpack_data(data, metadata_fields)\n",
      "\u001b[2m\u001b[36m(pre_processing1 pid=24340)\u001b[0m   File \"C:\\ProgramData\\Anaconda3\\lib\\site-packages\\ray\\_private\\serialization.py\", line 218, in _deserialize_msgpack_data\n",
      "\u001b[2m\u001b[36m(pre_processing1 pid=24340)\u001b[0m     raise DeserializationError()\n",
      "\u001b[2m\u001b[36m(pre_processing1 pid=24340)\u001b[0m ray._private.serialization.DeserializationError\n"
     ]
    }
   ],
   "source": [
    "ray.shutdown()"
   ]
  },
  {
   "cell_type": "code",
   "execution_count": null,
   "metadata": {},
   "outputs": [],
   "source": []
  }
 ],
 "metadata": {
  "kernelspec": {
   "display_name": "Python 3",
   "language": "python",
   "name": "python3"
  },
  "language_info": {
   "codemirror_mode": {
    "name": "ipython",
    "version": 3
   },
   "file_extension": ".py",
   "mimetype": "text/x-python",
   "name": "python",
   "nbconvert_exporter": "python",
   "pygments_lexer": "ipython3",
   "version": "3.8.5"
  }
 },
 "nbformat": 4,
 "nbformat_minor": 4
}
