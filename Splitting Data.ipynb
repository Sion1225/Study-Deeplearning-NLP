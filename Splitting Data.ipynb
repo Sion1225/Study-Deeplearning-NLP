{
 "cells": [
  {
   "cell_type": "code",
   "execution_count": 1,
   "id": "167d5c53",
   "metadata": {},
   "outputs": [],
   "source": [
    "import pandas as pd\n",
    "import numpy as np\n",
    "from sklearn.model_selection import train_test_split"
   ]
  },
  {
   "cell_type": "code",
   "execution_count": 2,
   "id": "075007d9",
   "metadata": {},
   "outputs": [
    {
     "name": "stdout",
     "output_type": "stream",
     "text": [
      "X's data :  ('a', 'b', 'c')\n",
      "y's data :  (1, 2, 3)\n"
     ]
    }
   ],
   "source": [
    "X, y = zip(['a',1],['b',2],['c',3])\n",
    "print(\"X's data : \",X)\n",
    "print(\"y's data : \",y)"
   ]
  },
  {
   "cell_type": "code",
   "execution_count": 6,
   "id": "cb060361",
   "metadata": {},
   "outputs": [
    {
     "data": {
      "text/html": [
       "<div>\n",
       "<style scoped>\n",
       "    .dataframe tbody tr th:only-of-type {\n",
       "        vertical-align: middle;\n",
       "    }\n",
       "\n",
       "    .dataframe tbody tr th {\n",
       "        vertical-align: top;\n",
       "    }\n",
       "\n",
       "    .dataframe thead th {\n",
       "        text-align: right;\n",
       "    }\n",
       "</style>\n",
       "<table border=\"1\" class=\"dataframe\">\n",
       "  <thead>\n",
       "    <tr style=\"text-align: right;\">\n",
       "      <th></th>\n",
       "      <th>Text of mail</th>\n",
       "      <th>Spam or not</th>\n",
       "    </tr>\n",
       "  </thead>\n",
       "  <tbody>\n",
       "    <tr>\n",
       "      <th>0</th>\n",
       "      <td>HappyOtterScripts AudioSyncR</td>\n",
       "      <td>1</td>\n",
       "    </tr>\n",
       "    <tr>\n",
       "      <th>1</th>\n",
       "      <td>Plz check your schedule</td>\n",
       "      <td>0</td>\n",
       "    </tr>\n",
       "    <tr>\n",
       "      <th>2</th>\n",
       "      <td>Hello! It's been a long time</td>\n",
       "      <td>0</td>\n",
       "    </tr>\n",
       "    <tr>\n",
       "      <th>3</th>\n",
       "      <td>24Hr Flash Sale: TickStrike Lifetime</td>\n",
       "      <td>1</td>\n",
       "    </tr>\n",
       "  </tbody>\n",
       "</table>\n",
       "</div>"
      ],
      "text/plain": [
       "                           Text of mail  Spam or not\n",
       "0          HappyOtterScripts AudioSyncR            1\n",
       "1               Plz check your schedule            0\n",
       "2          Hello! It's been a long time            0\n",
       "3  24Hr Flash Sale: TickStrike Lifetime            1"
      ]
     },
     "execution_count": 6,
     "metadata": {},
     "output_type": "execute_result"
    }
   ],
   "source": [
    "values = [['HappyOtterScripts AudioSyncR',1],\n",
    "         ['Plz check your schedule',0],\n",
    "         ['Hello! It\\'s been a long time',0],\n",
    "         ['24Hr Flash Sale: TickStrike Lifetime',1]]\n",
    "columns = ['Text of mail', 'Spam or not']\n",
    "\n",
    "df = pd.DataFrame(values, columns=columns)\n",
    "df"
   ]
  },
  {
   "cell_type": "code",
   "execution_count": 7,
   "id": "badc2a7f",
   "metadata": {},
   "outputs": [],
   "source": [
    "X = df['Text of mail']\n",
    "y = df['Spam or not']"
   ]
  },
  {
   "cell_type": "code",
   "execution_count": 8,
   "id": "d31f5173",
   "metadata": {},
   "outputs": [
    {
     "name": "stdout",
     "output_type": "stream",
     "text": [
      "X's data : ['HappyOtterScripts AudioSyncR', 'Plz check your schedule', \"Hello! It's been a long time\", '24Hr Flash Sale: TickStrike Lifetime']\n",
      "y's data : [1, 0, 0, 1]\n"
     ]
    }
   ],
   "source": [
    "print('X\\'s data :',X.to_list())\n",
    "print('y\\'s data :',y.to_list())"
   ]
  },
  {
   "cell_type": "code",
   "execution_count": 10,
   "id": "bcf17c70",
   "metadata": {},
   "outputs": [
    {
     "name": "stdout",
     "output_type": "stream",
     "text": [
      "All data : \n",
      " [[ 0  1  2  3]\n",
      " [ 4  5  6  7]\n",
      " [ 8  9 10 11]\n",
      " [12 13 14 15]]\n"
     ]
    }
   ],
   "source": [
    "np_array = np.arange(0,16).reshape((4,4))\n",
    "print(\"All data : \\n\",np_array)"
   ]
  },
  {
   "cell_type": "code",
   "execution_count": 22,
   "id": "df03ce8e",
   "metadata": {},
   "outputs": [
    {
     "name": "stdout",
     "output_type": "stream",
     "text": [
      "X's data :\n",
      "[[ 0  1  2]\n",
      " [ 4  5  6]\n",
      " [ 8  9 10]\n",
      " [12 13 14]]\n",
      "y's data : [ 3  7 11 15]\n"
     ]
    }
   ],
   "source": [
    "X = np_array[:, :3]\n",
    "y = np_array[:,3]\n",
    "\n",
    "print('X\\'s data :')\n",
    "print(X)\n",
    "print('y\\'s data :',y)"
   ]
  },
  {
   "cell_type": "code",
   "execution_count": 23,
   "id": "2e62f4b1",
   "metadata": {},
   "outputs": [],
   "source": [
    "X_train, X_test, y_train, y_test = train_test_split(X,y,test_size=0.2,random_state=1234)"
   ]
  },
  {
   "cell_type": "code",
   "execution_count": 30,
   "id": "10b74680",
   "metadata": {},
   "outputs": [
    {
     "name": "stdout",
     "output_type": "stream",
     "text": [
      "X's data :\n",
      "[[0 1]\n",
      " [2 3]\n",
      " [4 5]\n",
      " [6 7]\n",
      " [8 9]]\n",
      "y's data : [0, 1, 2, 3, 4]\n"
     ]
    }
   ],
   "source": [
    "X, y = np.arange(10).reshape((5, 2)), range(5)\n",
    "\n",
    "print('X\\'s data :')\n",
    "print(X)\n",
    "print('y\\'s data :',list(y))"
   ]
  },
  {
   "cell_type": "code",
   "execution_count": 25,
   "id": "e3f9cbd0",
   "metadata": {},
   "outputs": [],
   "source": [
    "X_train, X_test, y_train, y_test = train_test_split(X, y, test_size=0.3, random_state=1234)"
   ]
  },
  {
   "cell_type": "code",
   "execution_count": 27,
   "id": "a110b3e0",
   "metadata": {},
   "outputs": [
    {
     "name": "stdout",
     "output_type": "stream",
     "text": [
      "X's train data :\n",
      " [[2 3]\n",
      " [4 5]\n",
      " [6 7]]\n",
      "X's test data :\n",
      " [[8 9]\n",
      " [0 1]]\n"
     ]
    }
   ],
   "source": [
    "print('X\\'s train data :\\n',X_train)\n",
    "print('X\\'s test data :\\n',X_test)"
   ]
  },
  {
   "cell_type": "code",
   "execution_count": 31,
   "id": "88f56c81",
   "metadata": {},
   "outputs": [
    {
     "name": "stdout",
     "output_type": "stream",
     "text": [
      "y's train data :\n",
      " [1, 2, 3]\n",
      "y's test data :\n",
      " [4, 0]\n"
     ]
    }
   ],
   "source": [
    "print('y\\'s train data :\\n',y_train)\n",
    "print('y\\'s test data :\\n',y_test)"
   ]
  },
  {
   "cell_type": "code",
   "execution_count": null,
   "id": "fae73cd7",
   "metadata": {},
   "outputs": [],
   "source": []
  },
  {
   "cell_type": "code",
   "execution_count": 45,
   "id": "3c882193",
   "metadata": {
    "scrolled": true
   },
   "outputs": [
    {
     "name": "stdout",
     "output_type": "stream",
     "text": [
      "X's data :\n",
      " [[ 0  1]\n",
      " [ 2  3]\n",
      " [ 4  5]\n",
      " [ 6  7]\n",
      " [ 8  9]\n",
      " [10 11]\n",
      " [12 13]\n",
      " [14 15]\n",
      " [16 17]\n",
      " [18 19]\n",
      " [20 21]\n",
      " [22 23]]\n",
      "y's data :\n",
      " [0, 1, 2, 3, 4, 5, 6, 7, 8, 9, 10, 11]\n"
     ]
    }
   ],
   "source": [
    "X, y = np.arange(0,24).reshape((12,2)), range(12)\n",
    "\n",
    "print('X\\'s data :\\n',X)\n",
    "print('y\\'s data :\\n',list(y))"
   ]
  },
  {
   "cell_type": "code",
   "execution_count": 46,
   "id": "baca2c1d",
   "metadata": {},
   "outputs": [
    {
     "name": "stdout",
     "output_type": "stream",
     "text": [
      "Size of the train data : 9\n",
      "Size of the test data : 3\n"
     ]
    }
   ],
   "source": [
    "num_of_train = int(len(X) * 0.8)\n",
    "num_of_test = int(len(X) - num_of_train)\n",
    "print('Size of the train data :', num_of_train)\n",
    "print('Size of the test data :', num_of_test)"
   ]
  },
  {
   "cell_type": "code",
   "execution_count": 47,
   "id": "c4d3bff6",
   "metadata": {},
   "outputs": [],
   "source": [
    "X_test = X[num_of_train:]\n",
    "y_test = y[num_of_train:]\n",
    "X_train = X[:num_of_train]\n",
    "y_train = y[:num_of_train]"
   ]
  },
  {
   "cell_type": "code",
   "execution_count": 49,
   "id": "b54c942c",
   "metadata": {},
   "outputs": [
    {
     "name": "stdout",
     "output_type": "stream",
     "text": [
      "X's test data :\n",
      " [[18 19]\n",
      " [20 21]\n",
      " [22 23]]\n",
      "y's test data :\n",
      " [9, 10, 11]\n"
     ]
    }
   ],
   "source": [
    "print('X\\'s test data :\\n',X_test)\n",
    "print('y\\'s test data :\\n',list(y_test))"
   ]
  },
  {
   "cell_type": "code",
   "execution_count": null,
   "id": "0c46ca1a",
   "metadata": {},
   "outputs": [],
   "source": []
  }
 ],
 "metadata": {
  "kernelspec": {
   "display_name": "Python 3 (ipykernel)",
   "language": "python",
   "name": "python3"
  },
  "language_info": {
   "codemirror_mode": {
    "name": "ipython",
    "version": 3
   },
   "file_extension": ".py",
   "mimetype": "text/x-python",
   "name": "python",
   "nbconvert_exporter": "python",
   "pygments_lexer": "ipython3",
   "version": "3.9.13"
  }
 },
 "nbformat": 4,
 "nbformat_minor": 5
}
